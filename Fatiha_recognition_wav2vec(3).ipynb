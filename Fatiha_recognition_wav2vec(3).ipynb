{
  "cells": [
    {
      "cell_type": "markdown",
      "metadata": {
        "id": "9MnrLJaoMndq"
      },
      "source": [
        "# Functions to be used"
      ]
    },
    {
      "cell_type": "code",
      "execution_count": null,
      "metadata": {
        "id": "NIc0rXgsg_vJ"
      },
      "outputs": [],
      "source": [
        "# from pydub import AudioSegment\n",
        "# from pydub.silence import split_on_silence\n",
        "# import os\n",
        "\n",
        "# def convert_mp3_to_wav_silence(mp3_path, output_folder):\n",
        "#     audio = AudioSegment.from_file(mp3_path, format=\"mp3\")\n",
        "\n",
        "#     # Split on silence (adjust parameters as needed)\n",
        "#     chunks = split_on_silence(audio, silence_thresh=-40)\n",
        "\n",
        "#     # Concatenate non-silent chunks\n",
        "#     result = sum(chunks)\n",
        "\n",
        "#     output_path = os.path.join(output_folder, os.path.splitext(os.path.basename(mp3_path))[0] + '.wav')\n",
        "#     result.export(output_path, format=\"wav\")\n",
        "#     return output_path\n",
        "\n",
        "# for reader in readers_list:\n",
        "#     folder_path = f\"/content/drive/MyDrive/Quran_Ayat_public/audio_data/{reader}\"\n",
        "#     try:\n",
        "#       for audio_mp3 in os.listdir(folder_path):\n",
        "#           mp3_path = folder_path+\"/\"+audio_mp3\n",
        "#           # os.makedirs(f\"/content/drive/MyDrive/Quran_Ayat_public_wav/audio_data/{reader}\",exist_ok=True)\n",
        "#           output_folder = f\"/content/drive/MyDrive/Quran_Ayat_public/audio_data/{reader}\"\n",
        "#           wav_path = convert_mp3_to_wav_silence(mp3_path, output_folder)\n",
        "#     except:\n",
        "#       continue"
      ]
    },
    {
      "cell_type": "code",
      "execution_count": null,
      "metadata": {
        "id": "xQ7_H4gTXm7_"
      },
      "outputs": [],
      "source": [
        "# from klaam import SpeechRecognition\n",
        "# model = SpeechRecognition()\n",
        "# model.transcribe(wav_file)"
      ]
    },
    {
      "cell_type": "code",
      "execution_count": null,
      "metadata": {
        "id": "kmq6JzmDnk6o"
      },
      "outputs": [],
      "source": [
        "# transcript_df = pd.read_csv('/content/drive/MyDrive/Quran_Ayat_public/transcripts.tsv', sep='\\t')\n",
        "# transcript_df"
      ]
    },
    {
      "cell_type": "code",
      "execution_count": null,
      "metadata": {
        "id": "yVYmc4M9pUmt"
      },
      "outputs": [],
      "source": [
        "# import pandas as pd\n",
        "\n",
        "\n",
        "# # Define a function to update the PATH column\n",
        "# def update_path(path):\n",
        "#     parts = path.split('/')\n",
        "#     parts[0] = '/content/drive/MyDrive'\n",
        "#     parts[-1] = os.path.splitext(parts[-1])[0] + '.wav'\n",
        "#     return '/'.join(parts)\n",
        "\n",
        "# # Apply the function to the PATH column\n",
        "# transcript_df['PATH'] = transcript_df['PATH'].apply(update_path)\n",
        "\n",
        "# # Print the updated DataFrame\n",
        "# print(transcript_df)\n"
      ]
    },
    {
      "cell_type": "code",
      "execution_count": null,
      "metadata": {
        "id": "AOkiyGGrx6IM"
      },
      "outputs": [],
      "source": [
        "# import os\n",
        "# import pandas as pd\n",
        "\n",
        "\n",
        "# # Define the paths for the WAV directory\n",
        "# wav_directory = '/content/drive/MyDrive/Quran_Ayat_public_wav/audio_data'\n",
        "\n",
        "# # Function to update path and check existence in the WAV directory\n",
        "# def update_and_check_path(path):\n",
        "#     parts = path.split('/')\n",
        "#     parts[0] = wav_directory\n",
        "#     wav_path = '/'.join(parts)\n",
        "\n",
        "#     # Check if the WAV file exists\n",
        "#     if os.path.exists(wav_path):\n",
        "#         return wav_path, True\n",
        "#     else:\n",
        "#         return wav_path, False\n",
        "\n",
        "# # Apply the function to the PATH column and split into two DataFrames\n",
        "# transcript_df['WAV_PATH'], transcript_df['Exists_in_WAV'] = zip(*transcript_df['PATH'].apply(update_and_check_path))\n",
        "\n",
        "# # Create two DataFrames: one for existing paths in the WAV directory and one for non-existing paths\n",
        "# wav_df = transcript_df[transcript_df['Exists_in_WAV']]\n",
        "# non_wav_df = transcript_df[~transcript_df['Exists_in_WAV']]\n",
        "\n",
        "# # Drop the temporary 'Exists_in_WAV' column from the original DataFrame\n",
        "# df = transcript_df.drop(columns=['Exists_in_WAV'])\n",
        "\n",
        "# # Print the DataFrames\n",
        "# print(\"Original DataFrame:\")\n",
        "# print(transcript_df)\n",
        "# print(\"\\nWAV DataFrame:\")\n",
        "# print(wav_df)\n",
        "# print(\"\\nNon-WAV DataFrame:\")\n",
        "# print(non_wav_df)\n"
      ]
    },
    {
      "cell_type": "code",
      "execution_count": null,
      "metadata": {
        "id": "hp6r3FB02ZwB"
      },
      "outputs": [],
      "source": [
        "# transcript_df['PATH'][0]"
      ]
    },
    {
      "cell_type": "code",
      "execution_count": null,
      "metadata": {
        "id": "e0iCuaCAeli3"
      },
      "outputs": [],
      "source": [
        "# import os\n",
        "\n",
        "# # List to store filtered directories\n",
        "# directories_to_filter = []\n",
        "\n",
        "# for reader in readers_list:\n",
        "#     folder_path = f\"/content/drive/MyDrive/Quran_Ayat_public/audio_data/{reader}\"\n",
        "#     try:\n",
        "#         # Only include paths with .wav files\n",
        "#         wav_files = [audio_wav for audio_wav in os.listdir(folder_path) if audio_wav.lower().endswith('.wav')]\n",
        "\n",
        "#         # Create full paths and append to the list\n",
        "#         for audio_wav in wav_files:\n",
        "#             path = os.path.join(folder_path, audio_wav)\n",
        "#             directories_to_filter.append(path)\n",
        "#     except Exception as e:\n",
        "#         print(f\"Error processing {folder_path}: {e}\")\n",
        "#         continue\n",
        "\n",
        "# print(len(directories_to_filter))\n"
      ]
    },
    {
      "cell_type": "code",
      "execution_count": null,
      "metadata": {
        "id": "bK_XJMinhbyU"
      },
      "outputs": [],
      "source": [
        "# dictionary = {\n",
        "#     '001001' : 0,\n",
        "#     '001002' : 1,\n",
        "#     '001003' : 2,\n",
        "#     '001004' : 3,\n",
        "#     '001005' : 4,\n",
        "#     '001006' : 5,\n",
        "#     '001007' : 6,\n",
        "# }"
      ]
    },
    {
      "cell_type": "code",
      "execution_count": null,
      "metadata": {
        "id": "7jJfJDvLjUKO"
      },
      "outputs": [],
      "source": [
        "# part = directories_to_filter[3].split('/')\n",
        "# ayah = os.path.splitext(part[-1])[0]\n",
        "# print(ayah)\n",
        "# ayah_map = dictionary.get(ayah)\n",
        "# print(ayah_map)"
      ]
    },
    {
      "cell_type": "code",
      "execution_count": null,
      "metadata": {
        "id": "YeYodlh_gGqx"
      },
      "outputs": [],
      "source": [
        "# transcripts=[]\n",
        "\n",
        "# for i in range(len(directories_to_filter)):\n",
        "#   part = directories_to_filter[i].split('/')\n",
        "#   ayah = os.path.splitext(part[-1])[0]\n",
        "#   ayah_map = dictionary.get(ayah)\n",
        "#   print(ayah_map)\n",
        "#   transcripts.append(transcript_df['TRANSCRIPT'][ayah_map])"
      ]
    },
    {
      "cell_type": "code",
      "execution_count": null,
      "metadata": {
        "id": "rW6iDPm_hVK0"
      },
      "outputs": [],
      "source": [
        "# Create a DataFrame\n",
        "# fatiha_wav_df = pd.DataFrame({'Path': directories_to_filter, 'Transcript': transcripts})"
      ]
    },
    {
      "cell_type": "code",
      "execution_count": null,
      "metadata": {
        "id": "N-VuGoXtlEu_"
      },
      "outputs": [],
      "source": [
        "# # Assuming 'filtered_df' is the DataFrame you want to save\n",
        "# fatiha_wav_df.to_csv('/content/drive/MyDrive/fatiha_wav.csv', index=False)"
      ]
    },
    {
      "cell_type": "code",
      "execution_count": null,
      "metadata": {
        "id": "OflSsL3JznGq"
      },
      "outputs": [],
      "source": [
        "# import pandas as pd\n",
        "# import os\n",
        "# from tqdm import tqdm\n",
        "\n",
        "\n",
        "\n",
        "# # List of directories to filter by\n",
        "# directories_to_filter = []\n",
        "\n",
        "# for reader in readers_list:\n",
        "#     folder_path = f\"/content/drive/MyDrive/Quran_Ayat_public/audio_data/{reader}\"\n",
        "#     try:\n",
        "#       for audio_mp3 in os.listdir(folder_path):\n",
        "#           path = folder_path+\"/\"+audio_mp3\n",
        "#           directories_to_filter.append(path)\n",
        "#     except:\n",
        "#       continue\n",
        "\n",
        "# print(len(directories_to_filter),)\n",
        "\n",
        "# # Manually track progress using tqdm\n",
        "# filtered_paths = []\n",
        "# for path in tqdm(transcript_df['PATH']):\n",
        "#     if path_exists_in_directories(path, directories_to_filter):\n",
        "#         filtered_paths.append(path)\n",
        "\n",
        "# # Filter the DataFrame based on the filtered paths\n",
        "# filtered_df = transcript_df[transcript_df['PATH'].isin(filtered_paths)]\n",
        "# # Resetting index to avoid messing with the indexes\n",
        "# filtered_df.reset_index(drop=True, inplace=True)\n",
        "\n",
        "# # Print the filtered DataFrame\n",
        "# print(filtered_df)"
      ]
    },
    {
      "cell_type": "code",
      "execution_count": null,
      "metadata": {
        "id": "0RTcpfJtkHuH"
      },
      "outputs": [],
      "source": [
        "# from pydub import AudioSegment\n",
        "# from pydub.effects import normalize\n",
        "# import os\n",
        "\n",
        "# def process_audio(audio_path, output_folder,target_sample_rate=16000):\n",
        "\n",
        "#         # Load audio file\n",
        "#         audio = AudioSegment.from_file(audio_path)\n",
        "\n",
        "#         # Normalize audio\n",
        "#         normalized_audio = normalize(audio)\n",
        "\n",
        "#         # Resample audio to the target sample rate\n",
        "#         audio = audio.set_frame_rate(target_sample_rate)\n",
        "\n",
        "\n",
        "#         # Save processed audio to the output folder\n",
        "#         output_path = os.path.join(output_folder, os.path.basename(audio_path))\n",
        "#         audio.export(output_path, format=\"wav\")\n",
        "\n",
        "\n",
        "#         return output_path\n",
        "# for reader in readers_list:\n",
        "#       try:\n",
        "#           output_folder = f\"/content/drive/MyDrive/Quran_Ayat_public/audio_data/{reader}\"\n",
        "#           fatiha_df['Path'] = fatiha_df['Path'].apply(lambda x: process_audio(x, output_folder))\n",
        "#       except:\n",
        "#         continue\n",
        "\n",
        "\n",
        "\n",
        "# # os.makedirs(\"/content/drive/MyDrive/Fatiha_processed_audio_16kps/audio_data\",exist_ok=True)\n",
        "# # output_folder =  \"/content/drive/MyDrive/Fatiha_processed_audio_16kps/audio_data\"\n",
        "# # transcript_df['processed_audio_path'] = transcript_df['PATH'].apply(lambda x: process_audio(x, output_folder))"
      ]
    },
    {
      "cell_type": "code",
      "execution_count": null,
      "metadata": {
        "id": "ZzRa5oeRqU9S"
      },
      "outputs": [],
      "source": [
        "# import librosa\n",
        "\n",
        "# # Example audio file path\n",
        "# audio_file_path = fatiha_df['Path'][0]\n",
        "\n",
        "# # Load the audio file using librosa\n",
        "# audio_data, sampling_rate = librosa.load(audio_file_path, sr=None)\n",
        "\n",
        "# # Print the shape of the audio data array and the sampling rate\n",
        "# print(\"Audio Data Shape:\", audio_data.shape)\n",
        "# print(\"Sampling Rate:\", sampling_rate)\n"
      ]
    },
    {
      "cell_type": "code",
      "execution_count": null,
      "metadata": {
        "id": "aPonAxTrwNYx"
      },
      "outputs": [],
      "source": [
        "# import pandas as pd\n",
        "# import librosa\n",
        "\n",
        "\n",
        "\n",
        "# # Lists to store audio data arrays\n",
        "# audio_data_list = []\n",
        "\n",
        "# # Iterate through rows and load audio data\n",
        "# for index, row in fatiha_df.iterrows():\n",
        "#     audio_file_path = row['Path']\n",
        "#     try:\n",
        "#         # Load the audio file using librosa\n",
        "#         audio_data, _ = librosa.load(audio_file_path, sr=None)\n",
        "#         audio_data_list.append(audio_data)\n",
        "#     except Exception as e:\n",
        "#         print(f\"Error loading audio for row {index}: {e}\")\n",
        "#         audio_data_list.append(None)\n",
        "\n",
        "# # Add a new 'audio' column to the DataFrame\n",
        "# fatiha_df['audio'] = audio_data_list\n",
        "\n",
        "# # # Save the DataFrame as a TSV file\n",
        "# # fatiha_df.to_csv('/content/drive/MyDrive/fatiha_final.csv', index=False)\n",
        "\n"
      ]
    },
    {
      "cell_type": "code",
      "execution_count": null,
      "metadata": {
        "id": "Xhnco8eE23LE"
      },
      "outputs": [],
      "source": [
        "# final_df = pd.read_csv('/content/drive/MyDrive/fatiha_final.csv')\n",
        "# final_df.head()"
      ]
    },
    {
      "cell_type": "code",
      "execution_count": null,
      "metadata": {
        "id": "oC7J76orM6oN"
      },
      "outputs": [],
      "source": [
        "# !pip install datasets\n",
        "# !pip install fsspec==2021.5.0\n",
        "# !pip install jiwer"
      ]
    },
    {
      "cell_type": "code",
      "execution_count": null,
      "metadata": {
        "id": "ctRuGJFvN5ZY"
      },
      "outputs": [],
      "source": [
        "# import os\n",
        "# import re\n",
        "\n",
        "# def rename_audio_files(input_text_folder, output_text_file, audio_folder):\n",
        "#     with open(output_text_file, 'w') as output_file:\n",
        "#         for filename in os.listdir(input_text_folder):\n",
        "#             if filename.endswith(\".txt\"):\n",
        "#                 full_path = os.path.join(input_text_folder, filename)\n",
        "#                 with open(full_path, 'r') as input_file:\n",
        "#                     lines = input_file.readlines()\n",
        "\n",
        "#                     current_audio_id = None\n",
        "#                     current_speaker = None\n",
        "#                     for line in lines:\n",
        "#                         if line.startswith(\"File:\"):\n",
        "#                             current_audio_id = re.search(r'/(\\d+)\\.wav', line).group(1)\n",
        "#                         elif line.startswith(\"Folder:\"):\n",
        "#                             current_speaker = line.split(': ')[1].strip()\n",
        "\n",
        "#                         elif line.startswith(\"Transcript:\"):\n",
        "#                             transcript = line.split(': ')[1].strip()\n",
        "#                             if current_audio_id and current_speaker:\n",
        "#                                 new_audio_filename = f\"{current_audio_id}-{current_speaker}.wav\"\n",
        "#                                 new_audio_filepath = os.path.join(audio_folder, new_audio_filename)\n",
        "#                                 old_audio_filepath = os.path.join(audio_folder, f\"{current_audio_id}.wav\")\n",
        "\n",
        "#                                 os.rename(old_audio_filepath, new_audio_filepath)\n",
        "#                                 output_file.write(f\"{new_audio_filename} {transcript}\\n\")\n",
        "\n",
        "# # Example usage:\n",
        "# input_text_folder = \"/content/drive/MyDrive/old_transrcipt\"\n",
        "# output_text_file = \"/content/drive/MyDrive/new_transcript/wave_tensorflow_fatiha_transcript.txt\"\n",
        "# audio_folder = \"/content/drive/MyDrive/Quran_Ayat_public/audio_data\"\n",
        "\n",
        "# rename_audio_files(input_text_folder, output_text_file, audio_folder)\n"
      ]
    },
    {
      "cell_type": "markdown",
      "metadata": {
        "id": "KBygVpATMhNi"
      },
      "source": [
        "# Imports and libraries"
      ]
    },
    {
      "cell_type": "code",
      "execution_count": null,
      "metadata": {
        "colab": {
          "background_save": true,
          "base_uri": "https://localhost:8080/"
        },
        "id": "aKUmovHjNvnM",
        "outputId": "1ab4af0b-19a6-48ab-9b03-d30b6110d407"
      },
      "outputs": [
        {
          "name": "stdout",
          "output_type": "stream",
          "text": [
            "Collecting datasets\n",
            "  Downloading datasets-2.18.0-py3-none-any.whl (510 kB)\n",
            "\u001b[2K     \u001b[90m━━━━━━━━━━━━━━━━━━━━━━━━━━━━━━━━━━━━━━━━\u001b[0m \u001b[32m510.5/510.5 kB\u001b[0m \u001b[31m5.3 MB/s\u001b[0m eta \u001b[36m0:00:00\u001b[0m\n",
            "\u001b[?25hRequirement already satisfied: filelock in /usr/local/lib/python3.10/dist-packages (from datasets) (3.13.1)\n",
            "Requirement already satisfied: numpy>=1.17 in /usr/local/lib/python3.10/dist-packages (from datasets) (1.25.2)\n",
            "Requirement already satisfied: pyarrow>=12.0.0 in /usr/local/lib/python3.10/dist-packages (from datasets) (14.0.2)\n",
            "Requirement already satisfied: pyarrow-hotfix in /usr/local/lib/python3.10/dist-packages (from datasets) (0.6)\n",
            "Collecting dill<0.3.9,>=0.3.0 (from datasets)\n",
            "  Downloading dill-0.3.8-py3-none-any.whl (116 kB)\n",
            "\u001b[2K     \u001b[90m━━━━━━━━━━━━━━━━━━━━━━━━━━━━━━━━━━━━━━━━\u001b[0m \u001b[32m116.3/116.3 kB\u001b[0m \u001b[31m5.9 MB/s\u001b[0m eta \u001b[36m0:00:00\u001b[0m\n",
            "\u001b[?25hRequirement already satisfied: pandas in /usr/local/lib/python3.10/dist-packages (from datasets) (1.5.3)\n",
            "Requirement already satisfied: requests>=2.19.0 in /usr/local/lib/python3.10/dist-packages (from datasets) (2.31.0)\n",
            "Requirement already satisfied: tqdm>=4.62.1 in /usr/local/lib/python3.10/dist-packages (from datasets) (4.66.2)\n",
            "Collecting xxhash (from datasets)\n",
            "  Downloading xxhash-3.4.1-cp310-cp310-manylinux_2_17_x86_64.manylinux2014_x86_64.whl (194 kB)\n",
            "\u001b[2K     \u001b[90m━━━━━━━━━━━━━━━━━━━━━━━━━━━━━━━━━━━━━━━━\u001b[0m \u001b[32m194.1/194.1 kB\u001b[0m \u001b[31m6.3 MB/s\u001b[0m eta \u001b[36m0:00:00\u001b[0m\n",
            "\u001b[?25hCollecting multiprocess (from datasets)\n",
            "  Downloading multiprocess-0.70.16-py310-none-any.whl (134 kB)\n",
            "\u001b[2K     \u001b[90m━━━━━━━━━━━━━━━━━━━━━━━━━━━━━━━━━━━━━━━━\u001b[0m \u001b[32m134.8/134.8 kB\u001b[0m \u001b[31m8.4 MB/s\u001b[0m eta \u001b[36m0:00:00\u001b[0m\n",
            "\u001b[?25hRequirement already satisfied: fsspec[http]<=2024.2.0,>=2023.1.0 in /usr/local/lib/python3.10/dist-packages (from datasets) (2023.6.0)\n",
            "Requirement already satisfied: aiohttp in /usr/local/lib/python3.10/dist-packages (from datasets) (3.9.3)\n",
            "Requirement already satisfied: huggingface-hub>=0.19.4 in /usr/local/lib/python3.10/dist-packages (from datasets) (0.20.3)\n",
            "Requirement already satisfied: packaging in /usr/local/lib/python3.10/dist-packages (from datasets) (24.0)\n",
            "Requirement already satisfied: pyyaml>=5.1 in /usr/local/lib/python3.10/dist-packages (from datasets) (6.0.1)\n",
            "Requirement already satisfied: aiosignal>=1.1.2 in /usr/local/lib/python3.10/dist-packages (from aiohttp->datasets) (1.3.1)\n",
            "Requirement already satisfied: attrs>=17.3.0 in /usr/local/lib/python3.10/dist-packages (from aiohttp->datasets) (23.2.0)\n",
            "Requirement already satisfied: frozenlist>=1.1.1 in /usr/local/lib/python3.10/dist-packages (from aiohttp->datasets) (1.4.1)\n",
            "Requirement already satisfied: multidict<7.0,>=4.5 in /usr/local/lib/python3.10/dist-packages (from aiohttp->datasets) (6.0.5)\n",
            "Requirement already satisfied: yarl<2.0,>=1.0 in /usr/local/lib/python3.10/dist-packages (from aiohttp->datasets) (1.9.4)\n",
            "Requirement already satisfied: async-timeout<5.0,>=4.0 in /usr/local/lib/python3.10/dist-packages (from aiohttp->datasets) (4.0.3)\n",
            "Requirement already satisfied: typing-extensions>=3.7.4.3 in /usr/local/lib/python3.10/dist-packages (from huggingface-hub>=0.19.4->datasets) (4.10.0)\n",
            "Requirement already satisfied: charset-normalizer<4,>=2 in /usr/local/lib/python3.10/dist-packages (from requests>=2.19.0->datasets) (3.3.2)\n",
            "Requirement already satisfied: idna<4,>=2.5 in /usr/local/lib/python3.10/dist-packages (from requests>=2.19.0->datasets) (3.6)\n",
            "Requirement already satisfied: urllib3<3,>=1.21.1 in /usr/local/lib/python3.10/dist-packages (from requests>=2.19.0->datasets) (2.0.7)\n",
            "Requirement already satisfied: certifi>=2017.4.17 in /usr/local/lib/python3.10/dist-packages (from requests>=2.19.0->datasets) (2024.2.2)\n",
            "Requirement already satisfied: python-dateutil>=2.8.1 in /usr/local/lib/python3.10/dist-packages (from pandas->datasets) (2.8.2)\n",
            "Requirement already satisfied: pytz>=2020.1 in /usr/local/lib/python3.10/dist-packages (from pandas->datasets) (2023.4)\n",
            "Requirement already satisfied: six>=1.5 in /usr/local/lib/python3.10/dist-packages (from python-dateutil>=2.8.1->pandas->datasets) (1.16.0)\n",
            "Installing collected packages: xxhash, dill, multiprocess, datasets\n",
            "Successfully installed datasets-2.18.0 dill-0.3.8 multiprocess-0.70.16 xxhash-3.4.1\n",
            "Requirement already satisfied: fsspec in /usr/local/lib/python3.10/dist-packages (2023.6.0)\n",
            "Collecting fsspec\n",
            "  Downloading fsspec-2024.3.1-py3-none-any.whl (171 kB)\n",
            "\u001b[2K     \u001b[90m━━━━━━━━━━━━━━━━━━━━━━━━━━━━━━━━━━━━━━━━\u001b[0m \u001b[32m172.0/172.0 kB\u001b[0m \u001b[31m4.3 MB/s\u001b[0m eta \u001b[36m0:00:00\u001b[0m\n",
            "\u001b[?25hInstalling collected packages: fsspec\n",
            "  Attempting uninstall: fsspec\n",
            "    Found existing installation: fsspec 2023.6.0\n",
            "    Uninstalling fsspec-2023.6.0:\n",
            "      Successfully uninstalled fsspec-2023.6.0\n",
            "\u001b[31mERROR: pip's dependency resolver does not currently take into account all the packages that are installed. This behaviour is the source of the following dependency conflicts.\n",
            "torch 2.2.1+cu121 requires nvidia-cublas-cu12==12.1.3.1; platform_system == \"Linux\" and platform_machine == \"x86_64\", which is not installed.\n",
            "torch 2.2.1+cu121 requires nvidia-cuda-cupti-cu12==12.1.105; platform_system == \"Linux\" and platform_machine == \"x86_64\", which is not installed.\n",
            "torch 2.2.1+cu121 requires nvidia-cuda-nvrtc-cu12==12.1.105; platform_system == \"Linux\" and platform_machine == \"x86_64\", which is not installed.\n",
            "torch 2.2.1+cu121 requires nvidia-cuda-runtime-cu12==12.1.105; platform_system == \"Linux\" and platform_machine == \"x86_64\", which is not installed.\n",
            "torch 2.2.1+cu121 requires nvidia-cudnn-cu12==8.9.2.26; platform_system == \"Linux\" and platform_machine == \"x86_64\", which is not installed.\n",
            "torch 2.2.1+cu121 requires nvidia-cufft-cu12==11.0.2.54; platform_system == \"Linux\" and platform_machine == \"x86_64\", which is not installed.\n",
            "torch 2.2.1+cu121 requires nvidia-curand-cu12==10.3.2.106; platform_system == \"Linux\" and platform_machine == \"x86_64\", which is not installed.\n",
            "torch 2.2.1+cu121 requires nvidia-cusolver-cu12==11.4.5.107; platform_system == \"Linux\" and platform_machine == \"x86_64\", which is not installed.\n",
            "torch 2.2.1+cu121 requires nvidia-cusparse-cu12==12.1.0.106; platform_system == \"Linux\" and platform_machine == \"x86_64\", which is not installed.\n",
            "torch 2.2.1+cu121 requires nvidia-nccl-cu12==2.19.3; platform_system == \"Linux\" and platform_machine == \"x86_64\", which is not installed.\n",
            "torch 2.2.1+cu121 requires nvidia-nvtx-cu12==12.1.105; platform_system == \"Linux\" and platform_machine == \"x86_64\", which is not installed.\n",
            "datasets 2.18.0 requires fsspec[http]<=2024.2.0,>=2023.1.0, but you have fsspec 2024.3.1 which is incompatible.\n",
            "gcsfs 2023.6.0 requires fsspec==2023.6.0, but you have fsspec 2024.3.1 which is incompatible.\u001b[0m\u001b[31m\n",
            "\u001b[0mSuccessfully installed fsspec-2024.3.1\n",
            "Collecting accelerate\n",
            "  Downloading accelerate-0.28.0-py3-none-any.whl (290 kB)\n",
            "\u001b[2K     \u001b[90m━━━━━━━━━━━━━━━━━━━━━━━━━━━━━━━━━━━━━━━━\u001b[0m \u001b[32m290.1/290.1 kB\u001b[0m \u001b[31m6.1 MB/s\u001b[0m eta \u001b[36m0:00:00\u001b[0m\n",
            "\u001b[?25hRequirement already satisfied: numpy>=1.17 in /usr/local/lib/python3.10/dist-packages (from accelerate) (1.25.2)\n",
            "Requirement already satisfied: packaging>=20.0 in /usr/local/lib/python3.10/dist-packages (from accelerate) (24.0)\n",
            "Requirement already satisfied: psutil in /usr/local/lib/python3.10/dist-packages (from accelerate) (5.9.5)\n",
            "Requirement already satisfied: pyyaml in /usr/local/lib/python3.10/dist-packages (from accelerate) (6.0.1)\n",
            "Requirement already satisfied: torch>=1.10.0 in /usr/local/lib/python3.10/dist-packages (from accelerate) (2.2.1+cu121)\n",
            "Requirement already satisfied: huggingface-hub in /usr/local/lib/python3.10/dist-packages (from accelerate) (0.20.3)\n",
            "Requirement already satisfied: safetensors>=0.3.1 in /usr/local/lib/python3.10/dist-packages (from accelerate) (0.4.2)\n",
            "Requirement already satisfied: filelock in /usr/local/lib/python3.10/dist-packages (from torch>=1.10.0->accelerate) (3.13.1)\n",
            "Requirement already satisfied: typing-extensions>=4.8.0 in /usr/local/lib/python3.10/dist-packages (from torch>=1.10.0->accelerate) (4.10.0)\n",
            "Requirement already satisfied: sympy in /usr/local/lib/python3.10/dist-packages (from torch>=1.10.0->accelerate) (1.12)\n",
            "Requirement already satisfied: networkx in /usr/local/lib/python3.10/dist-packages (from torch>=1.10.0->accelerate) (3.2.1)\n",
            "Requirement already satisfied: jinja2 in /usr/local/lib/python3.10/dist-packages (from torch>=1.10.0->accelerate) (3.1.3)\n",
            "Requirement already satisfied: fsspec in /usr/local/lib/python3.10/dist-packages (from torch>=1.10.0->accelerate) (2024.3.1)\n",
            "Collecting nvidia-cuda-nvrtc-cu12==12.1.105 (from torch>=1.10.0->accelerate)\n",
            "  Downloading nvidia_cuda_nvrtc_cu12-12.1.105-py3-none-manylinux1_x86_64.whl (23.7 MB)\n",
            "\u001b[2K     \u001b[90m━━━━━━━━━━━━━━━━━━━━━━━━━━━━━━━━━━━━━━━━\u001b[0m \u001b[32m23.7/23.7 MB\u001b[0m \u001b[31m73.4 MB/s\u001b[0m eta \u001b[36m0:00:00\u001b[0m\n",
            "\u001b[?25hCollecting nvidia-cuda-runtime-cu12==12.1.105 (from torch>=1.10.0->accelerate)\n",
            "  Downloading nvidia_cuda_runtime_cu12-12.1.105-py3-none-manylinux1_x86_64.whl (823 kB)\n",
            "\u001b[2K     \u001b[90m━━━━━━━━━━━━━━━━━━━━━━━━━━━━━━━━━━━━━━━━\u001b[0m \u001b[32m823.6/823.6 kB\u001b[0m \u001b[31m64.9 MB/s\u001b[0m eta \u001b[36m0:00:00\u001b[0m\n",
            "\u001b[?25hCollecting nvidia-cuda-cupti-cu12==12.1.105 (from torch>=1.10.0->accelerate)\n",
            "  Downloading nvidia_cuda_cupti_cu12-12.1.105-py3-none-manylinux1_x86_64.whl (14.1 MB)\n",
            "\u001b[2K     \u001b[90m━━━━━━━━━━━━━━━━━━━━━━━━━━━━━━━━━━━━━━━━\u001b[0m \u001b[32m14.1/14.1 MB\u001b[0m \u001b[31m88.6 MB/s\u001b[0m eta \u001b[36m0:00:00\u001b[0m\n",
            "\u001b[?25hCollecting nvidia-cudnn-cu12==8.9.2.26 (from torch>=1.10.0->accelerate)\n",
            "  Downloading nvidia_cudnn_cu12-8.9.2.26-py3-none-manylinux1_x86_64.whl (731.7 MB)\n",
            "\u001b[2K     \u001b[90m━━━━━━━━━━━━━━━━━━━━━━━━━━━━━━━━━━━━━━━━\u001b[0m \u001b[32m731.7/731.7 MB\u001b[0m \u001b[31m1.9 MB/s\u001b[0m eta \u001b[36m0:00:00\u001b[0m\n",
            "\u001b[?25hCollecting nvidia-cublas-cu12==12.1.3.1 (from torch>=1.10.0->accelerate)\n",
            "  Downloading nvidia_cublas_cu12-12.1.3.1-py3-none-manylinux1_x86_64.whl (410.6 MB)\n",
            "\u001b[2K     \u001b[90m━━━━━━━━━━━━━━━━━━━━━━━━━━━━━━━━━━━━━━━━\u001b[0m \u001b[32m410.6/410.6 MB\u001b[0m \u001b[31m3.1 MB/s\u001b[0m eta \u001b[36m0:00:00\u001b[0m\n",
            "\u001b[?25hCollecting nvidia-cufft-cu12==11.0.2.54 (from torch>=1.10.0->accelerate)\n",
            "  Downloading nvidia_cufft_cu12-11.0.2.54-py3-none-manylinux1_x86_64.whl (121.6 MB)\n",
            "\u001b[2K     \u001b[90m━━━━━━━━━━━━━━━━━━━━━━━━━━━━━━━━━━━━━━━━\u001b[0m \u001b[32m121.6/121.6 MB\u001b[0m \u001b[31m13.8 MB/s\u001b[0m eta \u001b[36m0:00:00\u001b[0m\n",
            "\u001b[?25hCollecting nvidia-curand-cu12==10.3.2.106 (from torch>=1.10.0->accelerate)\n",
            "  Downloading nvidia_curand_cu12-10.3.2.106-py3-none-manylinux1_x86_64.whl (56.5 MB)\n",
            "\u001b[2K     \u001b[90m━━━━━━━━━━━━━━━━━━━━━━━━━━━━━━━━━━━━━━━━\u001b[0m \u001b[32m56.5/56.5 MB\u001b[0m \u001b[31m30.1 MB/s\u001b[0m eta \u001b[36m0:00:00\u001b[0m\n",
            "\u001b[?25hCollecting nvidia-cusolver-cu12==11.4.5.107 (from torch>=1.10.0->accelerate)\n",
            "  Downloading nvidia_cusolver_cu12-11.4.5.107-py3-none-manylinux1_x86_64.whl (124.2 MB)\n",
            "\u001b[2K     \u001b[90m━━━━━━━━━━━━━━━━━━━━━━━━━━━━━━━━━━━━━━━━\u001b[0m \u001b[32m124.2/124.2 MB\u001b[0m \u001b[31m7.7 MB/s\u001b[0m eta \u001b[36m0:00:00\u001b[0m\n",
            "\u001b[?25hCollecting nvidia-cusparse-cu12==12.1.0.106 (from torch>=1.10.0->accelerate)\n",
            "  Downloading nvidia_cusparse_cu12-12.1.0.106-py3-none-manylinux1_x86_64.whl (196.0 MB)\n",
            "\u001b[2K     \u001b[90m━━━━━━━━━━━━━━━━━━━━━━━━━━━━━━━━━━━━━━━━\u001b[0m \u001b[32m196.0/196.0 MB\u001b[0m \u001b[31m3.9 MB/s\u001b[0m eta \u001b[36m0:00:00\u001b[0m\n",
            "\u001b[?25hCollecting nvidia-nccl-cu12==2.19.3 (from torch>=1.10.0->accelerate)\n",
            "  Downloading nvidia_nccl_cu12-2.19.3-py3-none-manylinux1_x86_64.whl (166.0 MB)\n",
            "\u001b[2K     \u001b[90m━━━━━━━━━━━━━━━━━━━━━━━━━━━━━━━━━━━━━━━━\u001b[0m \u001b[32m166.0/166.0 MB\u001b[0m \u001b[31m10.5 MB/s\u001b[0m eta \u001b[36m0:00:00\u001b[0m\n",
            "\u001b[?25hCollecting nvidia-nvtx-cu12==12.1.105 (from torch>=1.10.0->accelerate)\n",
            "  Downloading nvidia_nvtx_cu12-12.1.105-py3-none-manylinux1_x86_64.whl (99 kB)\n",
            "\u001b[2K     \u001b[90m━━━━━━━━━━━━━━━━━━━━━━━━━━━━━━━━━━━━━━━━\u001b[0m \u001b[32m99.1/99.1 kB\u001b[0m \u001b[31m13.8 MB/s\u001b[0m eta \u001b[36m0:00:00\u001b[0m\n",
            "\u001b[?25hRequirement already satisfied: triton==2.2.0 in /usr/local/lib/python3.10/dist-packages (from torch>=1.10.0->accelerate) (2.2.0)\n",
            "Collecting nvidia-nvjitlink-cu12 (from nvidia-cusolver-cu12==11.4.5.107->torch>=1.10.0->accelerate)\n",
            "  Downloading nvidia_nvjitlink_cu12-12.4.99-py3-none-manylinux2014_x86_64.whl (21.1 MB)\n",
            "\u001b[2K     \u001b[90m━━━━━━━━━━━━━━━━━━━━━━━━━━━━━━━━━━━━━━━━\u001b[0m \u001b[32m21.1/21.1 MB\u001b[0m \u001b[31m86.6 MB/s\u001b[0m eta \u001b[36m0:00:00\u001b[0m\n",
            "\u001b[?25hRequirement already satisfied: requests in /usr/local/lib/python3.10/dist-packages (from huggingface-hub->accelerate) (2.31.0)\n",
            "Requirement already satisfied: tqdm>=4.42.1 in /usr/local/lib/python3.10/dist-packages (from huggingface-hub->accelerate) (4.66.2)\n",
            "Requirement already satisfied: MarkupSafe>=2.0 in /usr/local/lib/python3.10/dist-packages (from jinja2->torch>=1.10.0->accelerate) (2.1.5)\n",
            "Requirement already satisfied: charset-normalizer<4,>=2 in /usr/local/lib/python3.10/dist-packages (from requests->huggingface-hub->accelerate) (3.3.2)\n",
            "Requirement already satisfied: idna<4,>=2.5 in /usr/local/lib/python3.10/dist-packages (from requests->huggingface-hub->accelerate) (3.6)\n",
            "Requirement already satisfied: urllib3<3,>=1.21.1 in /usr/local/lib/python3.10/dist-packages (from requests->huggingface-hub->accelerate) (2.0.7)\n",
            "Requirement already satisfied: certifi>=2017.4.17 in /usr/local/lib/python3.10/dist-packages (from requests->huggingface-hub->accelerate) (2024.2.2)\n",
            "Requirement already satisfied: mpmath>=0.19 in /usr/local/lib/python3.10/dist-packages (from sympy->torch>=1.10.0->accelerate) (1.3.0)\n",
            "Installing collected packages: nvidia-nvtx-cu12, nvidia-nvjitlink-cu12, nvidia-nccl-cu12, nvidia-curand-cu12, nvidia-cufft-cu12, nvidia-cuda-runtime-cu12, nvidia-cuda-nvrtc-cu12, nvidia-cuda-cupti-cu12, nvidia-cublas-cu12, nvidia-cusparse-cu12, nvidia-cudnn-cu12, nvidia-cusolver-cu12, accelerate\n",
            "Successfully installed accelerate-0.28.0 nvidia-cublas-cu12-12.1.3.1 nvidia-cuda-cupti-cu12-12.1.105 nvidia-cuda-nvrtc-cu12-12.1.105 nvidia-cuda-runtime-cu12-12.1.105 nvidia-cudnn-cu12-8.9.2.26 nvidia-cufft-cu12-11.0.2.54 nvidia-curand-cu12-10.3.2.106 nvidia-cusolver-cu12-11.4.5.107 nvidia-cusparse-cu12-12.1.0.106 nvidia-nccl-cu12-2.19.3 nvidia-nvjitlink-cu12-12.4.99 nvidia-nvtx-cu12-12.1.105\n",
            "Requirement already satisfied: transformers in /usr/local/lib/python3.10/dist-packages (4.38.2)\n",
            "Collecting transformers\n",
            "  Downloading transformers-4.39.1-py3-none-any.whl (8.8 MB)\n",
            "\u001b[2K     \u001b[90m━━━━━━━━━━━━━━━━━━━━━━━━━━━━━━━━━━━━━━━━\u001b[0m \u001b[32m8.8/8.8 MB\u001b[0m \u001b[31m9.9 MB/s\u001b[0m eta \u001b[36m0:00:00\u001b[0m\n",
            "\u001b[?25hRequirement already satisfied: filelock in /usr/local/lib/python3.10/dist-packages (from transformers) (3.13.1)\n",
            "Requirement already satisfied: huggingface-hub<1.0,>=0.19.3 in /usr/local/lib/python3.10/dist-packages (from transformers) (0.20.3)\n",
            "Requirement already satisfied: numpy>=1.17 in /usr/local/lib/python3.10/dist-packages (from transformers) (1.25.2)\n",
            "Requirement already satisfied: packaging>=20.0 in /usr/local/lib/python3.10/dist-packages (from transformers) (24.0)\n",
            "Requirement already satisfied: pyyaml>=5.1 in /usr/local/lib/python3.10/dist-packages (from transformers) (6.0.1)\n",
            "Requirement already satisfied: regex!=2019.12.17 in /usr/local/lib/python3.10/dist-packages (from transformers) (2023.12.25)\n",
            "Requirement already satisfied: requests in /usr/local/lib/python3.10/dist-packages (from transformers) (2.31.0)\n",
            "Requirement already satisfied: tokenizers<0.19,>=0.14 in /usr/local/lib/python3.10/dist-packages (from transformers) (0.15.2)\n",
            "Requirement already satisfied: safetensors>=0.4.1 in /usr/local/lib/python3.10/dist-packages (from transformers) (0.4.2)\n",
            "Requirement already satisfied: tqdm>=4.27 in /usr/local/lib/python3.10/dist-packages (from transformers) (4.66.2)\n",
            "Requirement already satisfied: fsspec>=2023.5.0 in /usr/local/lib/python3.10/dist-packages (from huggingface-hub<1.0,>=0.19.3->transformers) (2024.3.1)\n",
            "Requirement already satisfied: typing-extensions>=3.7.4.3 in /usr/local/lib/python3.10/dist-packages (from huggingface-hub<1.0,>=0.19.3->transformers) (4.10.0)\n",
            "Requirement already satisfied: charset-normalizer<4,>=2 in /usr/local/lib/python3.10/dist-packages (from requests->transformers) (3.3.2)\n",
            "Requirement already satisfied: idna<4,>=2.5 in /usr/local/lib/python3.10/dist-packages (from requests->transformers) (3.6)\n",
            "Requirement already satisfied: urllib3<3,>=1.21.1 in /usr/local/lib/python3.10/dist-packages (from requests->transformers) (2.0.7)\n",
            "Requirement already satisfied: certifi>=2017.4.17 in /usr/local/lib/python3.10/dist-packages (from requests->transformers) (2024.2.2)\n",
            "Installing collected packages: transformers\n",
            "  Attempting uninstall: transformers\n",
            "    Found existing installation: transformers 4.38.2\n",
            "    Uninstalling transformers-4.38.2:\n",
            "      Successfully uninstalled transformers-4.38.2\n",
            "Successfully installed transformers-4.39.1\n",
            "Collecting pydub\n",
            "  Downloading pydub-0.25.1-py2.py3-none-any.whl (32 kB)\n",
            "Installing collected packages: pydub\n",
            "Successfully installed pydub-0.25.1\n",
            "Collecting jiwer\n",
            "  Downloading jiwer-3.0.3-py3-none-any.whl (21 kB)\n",
            "Requirement already satisfied: click<9.0.0,>=8.1.3 in /usr/local/lib/python3.10/dist-packages (from jiwer) (8.1.7)\n",
            "Collecting rapidfuzz<4,>=3 (from jiwer)\n",
            "  Downloading rapidfuzz-3.6.2-cp310-cp310-manylinux_2_17_x86_64.manylinux2014_x86_64.whl (3.4 MB)\n",
            "\u001b[2K     \u001b[90m━━━━━━━━━━━━━━━━━━━━━━━━━━━━━━━━━━━━━━━━\u001b[0m \u001b[32m3.4/3.4 MB\u001b[0m \u001b[31m38.1 MB/s\u001b[0m eta \u001b[36m0:00:00\u001b[0m\n",
            "\u001b[?25hInstalling collected packages: rapidfuzz, jiwer\n",
            "Successfully installed jiwer-3.0.3 rapidfuzz-3.6.2\n",
            "Requirement already satisfied: librosa in /usr/local/lib/python3.10/dist-packages (0.10.1)\n",
            "Requirement already satisfied: audioread>=2.1.9 in /usr/local/lib/python3.10/dist-packages (from librosa) (3.0.1)\n",
            "Requirement already satisfied: numpy!=1.22.0,!=1.22.1,!=1.22.2,>=1.20.3 in /usr/local/lib/python3.10/dist-packages (from librosa) (1.25.2)\n",
            "Requirement already satisfied: scipy>=1.2.0 in /usr/local/lib/python3.10/dist-packages (from librosa) (1.11.4)\n",
            "Requirement already satisfied: scikit-learn>=0.20.0 in /usr/local/lib/python3.10/dist-packages (from librosa) (1.2.2)\n",
            "Requirement already satisfied: joblib>=0.14 in /usr/local/lib/python3.10/dist-packages (from librosa) (1.3.2)\n",
            "Requirement already satisfied: decorator>=4.3.0 in /usr/local/lib/python3.10/dist-packages (from librosa) (4.4.2)\n",
            "Requirement already satisfied: numba>=0.51.0 in /usr/local/lib/python3.10/dist-packages (from librosa) (0.58.1)\n",
            "Requirement already satisfied: soundfile>=0.12.1 in /usr/local/lib/python3.10/dist-packages (from librosa) (0.12.1)\n",
            "Requirement already satisfied: pooch>=1.0 in /usr/local/lib/python3.10/dist-packages (from librosa) (1.8.1)\n",
            "Requirement already satisfied: soxr>=0.3.2 in /usr/local/lib/python3.10/dist-packages (from librosa) (0.3.7)\n",
            "Requirement already satisfied: typing-extensions>=4.1.1 in /usr/local/lib/python3.10/dist-packages (from librosa) (4.10.0)\n",
            "Requirement already satisfied: lazy-loader>=0.1 in /usr/local/lib/python3.10/dist-packages (from librosa) (0.3)\n",
            "Requirement already satisfied: msgpack>=1.0 in /usr/local/lib/python3.10/dist-packages (from librosa) (1.0.8)\n",
            "Requirement already satisfied: llvmlite<0.42,>=0.41.0dev0 in /usr/local/lib/python3.10/dist-packages (from numba>=0.51.0->librosa) (0.41.1)\n",
            "Requirement already satisfied: platformdirs>=2.5.0 in /usr/local/lib/python3.10/dist-packages (from pooch>=1.0->librosa) (4.2.0)\n",
            "Requirement already satisfied: packaging>=20.0 in /usr/local/lib/python3.10/dist-packages (from pooch>=1.0->librosa) (24.0)\n",
            "Requirement already satisfied: requests>=2.19.0 in /usr/local/lib/python3.10/dist-packages (from pooch>=1.0->librosa) (2.31.0)\n",
            "Requirement already satisfied: threadpoolctl>=2.0.0 in /usr/local/lib/python3.10/dist-packages (from scikit-learn>=0.20.0->librosa) (3.3.0)\n",
            "Requirement already satisfied: cffi>=1.0 in /usr/local/lib/python3.10/dist-packages (from soundfile>=0.12.1->librosa) (1.16.0)\n",
            "Requirement already satisfied: pycparser in /usr/local/lib/python3.10/dist-packages (from cffi>=1.0->soundfile>=0.12.1->librosa) (2.21)\n",
            "Requirement already satisfied: charset-normalizer<4,>=2 in /usr/local/lib/python3.10/dist-packages (from requests>=2.19.0->pooch>=1.0->librosa) (3.3.2)\n",
            "Requirement already satisfied: idna<4,>=2.5 in /usr/local/lib/python3.10/dist-packages (from requests>=2.19.0->pooch>=1.0->librosa) (3.6)\n",
            "Requirement already satisfied: urllib3<3,>=1.21.1 in /usr/local/lib/python3.10/dist-packages (from requests>=2.19.0->pooch>=1.0->librosa) (2.0.7)\n",
            "Requirement already satisfied: certifi>=2017.4.17 in /usr/local/lib/python3.10/dist-packages (from requests>=2.19.0->pooch>=1.0->librosa) (2024.2.2)\n"
          ]
        }
      ],
      "source": [
        "!pip install --upgrade datasets\n",
        "!pip install --upgrade fsspec\n",
        "!pip install accelerate -U\n",
        "!pip install transformers -U\n",
        "!pip install pydub\n",
        "!pip install jiwer\n",
        "!pip install librosa\n"
      ]
    },
    {
      "cell_type": "code",
      "execution_count": null,
      "metadata": {
        "id": "D13kMWeELgzg"
      },
      "outputs": [],
      "source": [
        "from google.colab import drive\n",
        "drive.mount('/content/drive')"
      ]
    },
    {
      "cell_type": "code",
      "execution_count": null,
      "metadata": {
        "colab": {
          "background_save": true
        },
        "id": "p2p2OKygNGPg"
      },
      "outputs": [],
      "source": [
        "import logging\n",
        "import transformers\n",
        "transformers.logging.get_verbosity = lambda: logging.NOTSET"
      ]
    },
    {
      "cell_type": "code",
      "execution_count": null,
      "metadata": {
        "id": "F3r2BX-yNIqf"
      },
      "outputs": [],
      "source": [
        "transformers.logging.get_verbosity()"
      ]
    },
    {
      "cell_type": "code",
      "execution_count": null,
      "metadata": {
        "id": "k8N1ZHXxNKpj"
      },
      "outputs": [],
      "source": [
        "import datasets\n",
        "datasets.logging.get_verbosity = lambda: logging.NOTSET"
      ]
    },
    {
      "cell_type": "code",
      "execution_count": null,
      "metadata": {
        "id": "LEYymsa4M-Oz"
      },
      "outputs": [],
      "source": [
        "import os\n",
        "import torch\n",
        "from sklearn.model_selection import train_test_split\n",
        "from datasets import load_dataset, load_metric,Dataset,concatenate_datasets,set_caching_enabled, ClassLabel\n",
        "import pandas as pd\n",
        "\n",
        "import random\n",
        "from IPython.display import display, HTML\n",
        "\n",
        "import json\n",
        "from transformers import Wav2Vec2CTCTokenizer,Wav2Vec2ForCTC,Wav2Vec2Processor,Trainer,TrainingArguments,Wav2Vec2FeatureExtractor\n",
        "\n",
        "import re\n",
        "set_caching_enabled(False)\n",
        "\n",
        "import soundfile as sf\n",
        "import torchaudio\n",
        "\n",
        "\n",
        "import IPython.display as ipd\n",
        "\n",
        "import numpy as np\n",
        "from dataclasses import dataclass, field\n",
        "from typing import Any, Dict, List, Optional, Union\n",
        "\n",
        "from tqdm import tqdm\n",
        "import torch\n",
        "\n",
        "# Set environment variables\n",
        "os.environ['WANDB_DISABLED '] = 'True'"
      ]
    },
    {
      "cell_type": "code",
      "execution_count": null,
      "metadata": {
        "id": "hfurvnfpqH9x"
      },
      "outputs": [],
      "source": [
        "from pydub import AudioSegment"
      ]
    },
    {
      "cell_type": "markdown",
      "metadata": {
        "id": "t4D7aS5SAodY"
      },
      "source": [
        "# Data formatting"
      ]
    },
    {
      "cell_type": "markdown",
      "metadata": {
        "id": "RyiH_72TKOqg"
      },
      "source": [
        "## Change to wav 16k Sr"
      ]
    },
    {
      "cell_type": "code",
      "execution_count": null,
      "metadata": {
        "id": "mFoGxz7UKE77"
      },
      "outputs": [],
      "source": [
        "def save_fn(path,save_path):\n",
        "    if os.path.exists(path):\n",
        "        try:\n",
        "            sound = AudioSegment.from_mp3(path)\n",
        "            sound = sound.set_frame_rate(16000)\n",
        "            sound.export(f\"{save_path}\", format=\"wav\")\n",
        "        except:\n",
        "            print(path)"
      ]
    },
    {
      "cell_type": "markdown",
      "metadata": {
        "id": "IcjmbEuRKYq8"
      },
      "source": [
        "## make new column in transcript tsv for filenames only without full path"
      ]
    },
    {
      "cell_type": "code",
      "execution_count": null,
      "metadata": {
        "colab": {
          "base_uri": "https://localhost:8080/",
          "height": 487
        },
        "id": "QZcpdzP7Cz7S",
        "outputId": "feda9c76-f9ca-47fe-bba4-2425ab9564b8"
      },
      "outputs": [
        {
          "data": {
            "application/vnd.google.colaboratory.intrinsic+json": {
              "type": "dataframe",
              "variable_name": "transcript_df"
            },
            "text/html": [
              "\n",
              "  <div id=\"df-6acf1bf2-e0cd-43cd-abe0-0a9e715d6d44\" class=\"colab-df-container\">\n",
              "    <div>\n",
              "<style scoped>\n",
              "    .dataframe tbody tr th:only-of-type {\n",
              "        vertical-align: middle;\n",
              "    }\n",
              "\n",
              "    .dataframe tbody tr th {\n",
              "        vertical-align: top;\n",
              "    }\n",
              "\n",
              "    .dataframe thead th {\n",
              "        text-align: right;\n",
              "    }\n",
              "</style>\n",
              "<table border=\"1\" class=\"dataframe\">\n",
              "  <thead>\n",
              "    <tr style=\"text-align: right;\">\n",
              "      <th></th>\n",
              "      <th>PATH</th>\n",
              "      <th>DURATION</th>\n",
              "      <th>TRANSCRIPT</th>\n",
              "      <th>FILENAME</th>\n",
              "    </tr>\n",
              "  </thead>\n",
              "  <tbody>\n",
              "    <tr>\n",
              "      <th>0</th>\n",
              "      <td>${DATASET_PATH}/Quran_Ayat_public/audio_data/A...</td>\n",
              "      <td>6.321633</td>\n",
              "      <td>بِسْمِ اللَّهِ الرَّحْمَٰنِ الرَّحِيمِ</td>\n",
              "      <td>001001.mp3</td>\n",
              "    </tr>\n",
              "    <tr>\n",
              "      <th>1</th>\n",
              "      <td>${DATASET_PATH}/Quran_Ayat_public/audio_data/A...</td>\n",
              "      <td>10.161633</td>\n",
              "      <td>الْحَمْدُ لِلَّهِ رَبِّ الْعَالَمِينَ</td>\n",
              "      <td>001002.mp3</td>\n",
              "    </tr>\n",
              "    <tr>\n",
              "      <th>2</th>\n",
              "      <td>${DATASET_PATH}/Quran_Ayat_public/audio_data/A...</td>\n",
              "      <td>8.698776</td>\n",
              "      <td>الرَّحْمَٰنِ الرَّحِيمِ</td>\n",
              "      <td>001003.mp3</td>\n",
              "    </tr>\n",
              "    <tr>\n",
              "      <th>3</th>\n",
              "      <td>${DATASET_PATH}/Quran_Ayat_public/audio_data/A...</td>\n",
              "      <td>7.340408</td>\n",
              "      <td>مَالِكِ يَوْمِ الدِّينِ</td>\n",
              "      <td>001004.mp3</td>\n",
              "    </tr>\n",
              "    <tr>\n",
              "      <th>4</th>\n",
              "      <td>${DATASET_PATH}/Quran_Ayat_public/audio_data/A...</td>\n",
              "      <td>11.572245</td>\n",
              "      <td>إِيَّاكَ نَعْبُدُ وَإِيَّاكَ نَسْتَعِينُ</td>\n",
              "      <td>001005.mp3</td>\n",
              "    </tr>\n",
              "  </tbody>\n",
              "</table>\n",
              "</div>\n",
              "    <div class=\"colab-df-buttons\">\n",
              "\n",
              "  <div class=\"colab-df-container\">\n",
              "    <button class=\"colab-df-convert\" onclick=\"convertToInteractive('df-6acf1bf2-e0cd-43cd-abe0-0a9e715d6d44')\"\n",
              "            title=\"Convert this dataframe to an interactive table.\"\n",
              "            style=\"display:none;\">\n",
              "\n",
              "  <svg xmlns=\"http://www.w3.org/2000/svg\" height=\"24px\" viewBox=\"0 -960 960 960\">\n",
              "    <path d=\"M120-120v-720h720v720H120Zm60-500h600v-160H180v160Zm220 220h160v-160H400v160Zm0 220h160v-160H400v160ZM180-400h160v-160H180v160Zm440 0h160v-160H620v160ZM180-180h160v-160H180v160Zm440 0h160v-160H620v160Z\"/>\n",
              "  </svg>\n",
              "    </button>\n",
              "\n",
              "  <style>\n",
              "    .colab-df-container {\n",
              "      display:flex;\n",
              "      gap: 12px;\n",
              "    }\n",
              "\n",
              "    .colab-df-convert {\n",
              "      background-color: #E8F0FE;\n",
              "      border: none;\n",
              "      border-radius: 50%;\n",
              "      cursor: pointer;\n",
              "      display: none;\n",
              "      fill: #1967D2;\n",
              "      height: 32px;\n",
              "      padding: 0 0 0 0;\n",
              "      width: 32px;\n",
              "    }\n",
              "\n",
              "    .colab-df-convert:hover {\n",
              "      background-color: #E2EBFA;\n",
              "      box-shadow: 0px 1px 2px rgba(60, 64, 67, 0.3), 0px 1px 3px 1px rgba(60, 64, 67, 0.15);\n",
              "      fill: #174EA6;\n",
              "    }\n",
              "\n",
              "    .colab-df-buttons div {\n",
              "      margin-bottom: 4px;\n",
              "    }\n",
              "\n",
              "    [theme=dark] .colab-df-convert {\n",
              "      background-color: #3B4455;\n",
              "      fill: #D2E3FC;\n",
              "    }\n",
              "\n",
              "    [theme=dark] .colab-df-convert:hover {\n",
              "      background-color: #434B5C;\n",
              "      box-shadow: 0px 1px 3px 1px rgba(0, 0, 0, 0.15);\n",
              "      filter: drop-shadow(0px 1px 2px rgba(0, 0, 0, 0.3));\n",
              "      fill: #FFFFFF;\n",
              "    }\n",
              "  </style>\n",
              "\n",
              "    <script>\n",
              "      const buttonEl =\n",
              "        document.querySelector('#df-6acf1bf2-e0cd-43cd-abe0-0a9e715d6d44 button.colab-df-convert');\n",
              "      buttonEl.style.display =\n",
              "        google.colab.kernel.accessAllowed ? 'block' : 'none';\n",
              "\n",
              "      async function convertToInteractive(key) {\n",
              "        const element = document.querySelector('#df-6acf1bf2-e0cd-43cd-abe0-0a9e715d6d44');\n",
              "        const dataTable =\n",
              "          await google.colab.kernel.invokeFunction('convertToInteractive',\n",
              "                                                    [key], {});\n",
              "        if (!dataTable) return;\n",
              "\n",
              "        const docLinkHtml = 'Like what you see? Visit the ' +\n",
              "          '<a target=\"_blank\" href=https://colab.research.google.com/notebooks/data_table.ipynb>data table notebook</a>'\n",
              "          + ' to learn more about interactive tables.';\n",
              "        element.innerHTML = '';\n",
              "        dataTable['output_type'] = 'display_data';\n",
              "        await google.colab.output.renderOutput(dataTable, element);\n",
              "        const docLink = document.createElement('div');\n",
              "        docLink.innerHTML = docLinkHtml;\n",
              "        element.appendChild(docLink);\n",
              "      }\n",
              "    </script>\n",
              "  </div>\n",
              "\n",
              "\n",
              "<div id=\"df-38b8a2a2-60df-41bf-8cdc-209929787331\">\n",
              "  <button class=\"colab-df-quickchart\" onclick=\"quickchart('df-38b8a2a2-60df-41bf-8cdc-209929787331')\"\n",
              "            title=\"Suggest charts\"\n",
              "            style=\"display:none;\">\n",
              "\n",
              "<svg xmlns=\"http://www.w3.org/2000/svg\" height=\"24px\"viewBox=\"0 0 24 24\"\n",
              "     width=\"24px\">\n",
              "    <g>\n",
              "        <path d=\"M19 3H5c-1.1 0-2 .9-2 2v14c0 1.1.9 2 2 2h14c1.1 0 2-.9 2-2V5c0-1.1-.9-2-2-2zM9 17H7v-7h2v7zm4 0h-2V7h2v10zm4 0h-2v-4h2v4z\"/>\n",
              "    </g>\n",
              "</svg>\n",
              "  </button>\n",
              "\n",
              "<style>\n",
              "  .colab-df-quickchart {\n",
              "      --bg-color: #E8F0FE;\n",
              "      --fill-color: #1967D2;\n",
              "      --hover-bg-color: #E2EBFA;\n",
              "      --hover-fill-color: #174EA6;\n",
              "      --disabled-fill-color: #AAA;\n",
              "      --disabled-bg-color: #DDD;\n",
              "  }\n",
              "\n",
              "  [theme=dark] .colab-df-quickchart {\n",
              "      --bg-color: #3B4455;\n",
              "      --fill-color: #D2E3FC;\n",
              "      --hover-bg-color: #434B5C;\n",
              "      --hover-fill-color: #FFFFFF;\n",
              "      --disabled-bg-color: #3B4455;\n",
              "      --disabled-fill-color: #666;\n",
              "  }\n",
              "\n",
              "  .colab-df-quickchart {\n",
              "    background-color: var(--bg-color);\n",
              "    border: none;\n",
              "    border-radius: 50%;\n",
              "    cursor: pointer;\n",
              "    display: none;\n",
              "    fill: var(--fill-color);\n",
              "    height: 32px;\n",
              "    padding: 0;\n",
              "    width: 32px;\n",
              "  }\n",
              "\n",
              "  .colab-df-quickchart:hover {\n",
              "    background-color: var(--hover-bg-color);\n",
              "    box-shadow: 0 1px 2px rgba(60, 64, 67, 0.3), 0 1px 3px 1px rgba(60, 64, 67, 0.15);\n",
              "    fill: var(--button-hover-fill-color);\n",
              "  }\n",
              "\n",
              "  .colab-df-quickchart-complete:disabled,\n",
              "  .colab-df-quickchart-complete:disabled:hover {\n",
              "    background-color: var(--disabled-bg-color);\n",
              "    fill: var(--disabled-fill-color);\n",
              "    box-shadow: none;\n",
              "  }\n",
              "\n",
              "  .colab-df-spinner {\n",
              "    border: 2px solid var(--fill-color);\n",
              "    border-color: transparent;\n",
              "    border-bottom-color: var(--fill-color);\n",
              "    animation:\n",
              "      spin 1s steps(1) infinite;\n",
              "  }\n",
              "\n",
              "  @keyframes spin {\n",
              "    0% {\n",
              "      border-color: transparent;\n",
              "      border-bottom-color: var(--fill-color);\n",
              "      border-left-color: var(--fill-color);\n",
              "    }\n",
              "    20% {\n",
              "      border-color: transparent;\n",
              "      border-left-color: var(--fill-color);\n",
              "      border-top-color: var(--fill-color);\n",
              "    }\n",
              "    30% {\n",
              "      border-color: transparent;\n",
              "      border-left-color: var(--fill-color);\n",
              "      border-top-color: var(--fill-color);\n",
              "      border-right-color: var(--fill-color);\n",
              "    }\n",
              "    40% {\n",
              "      border-color: transparent;\n",
              "      border-right-color: var(--fill-color);\n",
              "      border-top-color: var(--fill-color);\n",
              "    }\n",
              "    60% {\n",
              "      border-color: transparent;\n",
              "      border-right-color: var(--fill-color);\n",
              "    }\n",
              "    80% {\n",
              "      border-color: transparent;\n",
              "      border-right-color: var(--fill-color);\n",
              "      border-bottom-color: var(--fill-color);\n",
              "    }\n",
              "    90% {\n",
              "      border-color: transparent;\n",
              "      border-bottom-color: var(--fill-color);\n",
              "    }\n",
              "  }\n",
              "</style>\n",
              "\n",
              "  <script>\n",
              "    async function quickchart(key) {\n",
              "      const quickchartButtonEl =\n",
              "        document.querySelector('#' + key + ' button');\n",
              "      quickchartButtonEl.disabled = true;  // To prevent multiple clicks.\n",
              "      quickchartButtonEl.classList.add('colab-df-spinner');\n",
              "      try {\n",
              "        const charts = await google.colab.kernel.invokeFunction(\n",
              "            'suggestCharts', [key], {});\n",
              "      } catch (error) {\n",
              "        console.error('Error during call to suggestCharts:', error);\n",
              "      }\n",
              "      quickchartButtonEl.classList.remove('colab-df-spinner');\n",
              "      quickchartButtonEl.classList.add('colab-df-quickchart-complete');\n",
              "    }\n",
              "    (() => {\n",
              "      let quickchartButtonEl =\n",
              "        document.querySelector('#df-38b8a2a2-60df-41bf-8cdc-209929787331 button');\n",
              "      quickchartButtonEl.style.display =\n",
              "        google.colab.kernel.accessAllowed ? 'block' : 'none';\n",
              "    })();\n",
              "  </script>\n",
              "</div>\n",
              "\n",
              "    </div>\n",
              "  </div>\n"
            ],
            "text/plain": [
              "                                                PATH   DURATION  \\\n",
              "0  ${DATASET_PATH}/Quran_Ayat_public/audio_data/A...   6.321633   \n",
              "1  ${DATASET_PATH}/Quran_Ayat_public/audio_data/A...  10.161633   \n",
              "2  ${DATASET_PATH}/Quran_Ayat_public/audio_data/A...   8.698776   \n",
              "3  ${DATASET_PATH}/Quran_Ayat_public/audio_data/A...   7.340408   \n",
              "4  ${DATASET_PATH}/Quran_Ayat_public/audio_data/A...  11.572245   \n",
              "\n",
              "                                 TRANSCRIPT    FILENAME  \n",
              "0    بِسْمِ اللَّهِ الرَّحْمَٰنِ الرَّحِيمِ  001001.mp3  \n",
              "1     الْحَمْدُ لِلَّهِ رَبِّ الْعَالَمِينَ  001002.mp3  \n",
              "2                   الرَّحْمَٰنِ الرَّحِيمِ  001003.mp3  \n",
              "3                   مَالِكِ يَوْمِ الدِّينِ  001004.mp3  \n",
              "4  إِيَّاكَ نَعْبُدُ وَإِيَّاكَ نَسْتَعِينُ  001005.mp3  "
            ]
          },
          "execution_count": 28,
          "metadata": {},
          "output_type": "execute_result"
        }
      ],
      "source": [
        "# Read the TSV file into a DataFrame\n",
        "transcript_df = pd.read_csv(\"/content/drive/MyDrive/Quran_Ayat_public/transcripts.tsv\", sep='\\t')\n",
        "\n",
        "# Define a function to extract the filename from the full path\n",
        "def extract_filename(full_path):\n",
        "    return os.path.basename(full_path)\n",
        "\n",
        "# Apply the function to the PATH column to create a new column with only the filenames\n",
        "transcript_df['FILENAME'] = transcript_df['PATH'].apply(extract_filename)\n",
        "\n",
        "transcript_df.head()"
      ]
    },
    {
      "cell_type": "markdown",
      "metadata": {
        "id": "1Pq1-QqVKiey"
      },
      "source": [
        "## map each ayah path to it's corresponding transcript"
      ]
    },
    {
      "cell_type": "code",
      "execution_count": null,
      "metadata": {
        "id": "ImzKuHPi--Ih"
      },
      "outputs": [],
      "source": [
        "import os\n",
        "import pandas as pd\n",
        "\n",
        "def path_to_transcript_map(main_dir, tsv_file):\n",
        "\n",
        "    df = tsv_file\n",
        "\n",
        "    # Create an empty list to store the tuples of (ayah_path, transcript)\n",
        "    results = []\n",
        "\n",
        "    # Iterate over directories and files\n",
        "    for reader in os.listdir(main_dir):\n",
        "        reader_dir = os.path.join(main_dir, reader)\n",
        "        for ayah in os.listdir(reader_dir):\n",
        "            ayah_path = os.path.join(reader_dir, ayah)\n",
        "\n",
        "            # Extract filename from the ayah_path\n",
        "            filename = ayah\n",
        "\n",
        "            # Check if filename exists in the FILENAME column of the DataFrame\n",
        "            if any(df['FILENAME'] == filename):\n",
        "                # Find the transcript for the matching filename\n",
        "                transcript = df.loc[df['FILENAME'] == filename, 'TRANSCRIPT'].iloc[0]\n",
        "\n",
        "                 # Change the file extension to .wav\n",
        "                wav_path = os.path.splitext(ayah_path)[0] + '.wav'\n",
        "\n",
        "                # Append the tuple (ayah_path, transcript) to the results list\n",
        "                results.append((wav_path, transcript))\n",
        "\n",
        "    return results\n"
      ]
    },
    {
      "cell_type": "code",
      "execution_count": null,
      "metadata": {
        "colab": {
          "base_uri": "https://localhost:8080/"
        },
        "id": "WPqxfvoyI-k5",
        "outputId": "a89b51a1-9a2b-4c05-8873-ebab6d07d289"
      },
      "outputs": [
        {
          "name": "stdout",
          "output_type": "stream",
          "text": [
            "418\n"
          ]
        }
      ],
      "source": [
        "all_ayat_list = []\n",
        "\n",
        "# Example usage:\n",
        "tsv_file = transcript_df\n",
        "all_surahs_dir = '/content/drive/MyDrive/Quran_Ayat_public'\n",
        "\n",
        "# Get a list of directories in all_surahs_dir\n",
        "directories = [surah for surah in os.listdir(all_surahs_dir) if os.path.isdir(os.path.join(all_surahs_dir, surah))]\n",
        "\n",
        "# Limit the iteration to the first three directories\n",
        "for surah in directories[:3]:\n",
        "  main_directory = os.path.join(all_surahs_dir, surah)\n",
        "  result = path_to_transcript_map(main_directory, tsv_file)\n",
        "  all_ayat_list.extend(result)\n",
        "\n",
        "\n",
        "\n",
        "print(len(all_ayat_list))\n",
        "\n"
      ]
    },
    {
      "cell_type": "markdown",
      "metadata": {
        "id": "Nn7JcDwRKws4"
      },
      "source": [
        "## Change tuple list of ( ayah_path , transcript ) to a parquet file"
      ]
    },
    {
      "cell_type": "code",
      "execution_count": null,
      "metadata": {
        "id": "vH6RViQfb9Oj"
      },
      "outputs": [],
      "source": [
        "# Shuffle the list\n",
        "random.shuffle(all_ayat_list)\n",
        "\n",
        "# Calculate the split index\n",
        "split_index = int(0.8 * len(all_ayat_list))\n",
        "\n",
        "# Split the data into train and test sets\n",
        "train_data = all_ayat_list[:split_index]\n",
        "test_data = all_ayat_list[split_index:]\n",
        "\n",
        "# Convert train and test sets to DataFrames\n",
        "train_df = pd.DataFrame(train_data, columns=['Path', 'Transcript'])\n",
        "test_df = pd.DataFrame(test_data, columns=['Path', 'Transcript'])\n",
        "\n",
        "# Specify the output file paths\n",
        "train_parquet_output_path = \"/content/drive/MyDrive/train_data.parquet\"\n",
        "test_parquet_output_path = \"/content/drive/MyDrive/test_data.parquet\"\n",
        "\n",
        "# Write train and test DataFrames to Parquet format\n",
        "train_df.to_parquet(train_parquet_output_path)\n",
        "test_df.to_parquet(test_parquet_output_path)"
      ]
    },
    {
      "cell_type": "markdown",
      "metadata": {
        "id": "yPvA3yYkMXso"
      },
      "source": [
        "# Data preprocessing"
      ]
    },
    {
      "cell_type": "code",
      "execution_count": null,
      "metadata": {
        "colab": {
          "base_uri": "https://localhost:8080/"
        },
        "id": "TD9kp7KzpGoi",
        "outputId": "1fcde5e6-8564-4039-e437-6d3f1718a3ad"
      },
      "outputs": [
        {
          "name": "stdout",
          "output_type": "stream",
          "text": [
            "Dataset({\n",
            "    features: ['Path', 'Transcript'],\n",
            "    num_rows: 334\n",
            "})\n"
          ]
        }
      ],
      "source": [
        "from datasets import Dataset\n",
        "\n",
        "# Load data from a Parquet file into a pandas DataFrame\n",
        "train = pd.read_parquet(\"/content/drive/MyDrive/train_data.parquet\")\n",
        "test = pd.read_parquet(\"/content/drive/MyDrive/test_data.parquet\")\n",
        "\n",
        "# Convert the pandas DataFrame to a Hugging Face Dataset\n",
        "train = Dataset.from_pandas(train)\n",
        "test = Dataset.from_pandas(test)\n",
        "\n",
        "# Display the loaded Dataset\n",
        "print(train)\n"
      ]
    },
    {
      "cell_type": "code",
      "execution_count": null,
      "metadata": {
        "colab": {
          "base_uri": "https://localhost:8080/"
        },
        "id": "uVm-Jey3UAtq",
        "outputId": "999cd71c-eb98-4dd3-c33e-cab86eab284b"
      },
      "outputs": [
        {
          "data": {
            "text/plain": [
              "((334, 2), (84, 2))"
            ]
          },
          "execution_count": 33,
          "metadata": {},
          "output_type": "execute_result"
        }
      ],
      "source": [
        "train.shape,test.shape"
      ]
    },
    {
      "cell_type": "code",
      "execution_count": null,
      "metadata": {
        "id": "zv1EfPc9UH__"
      },
      "outputs": [],
      "source": [
        "def show_random_elements(dataset, num_examples=10):\n",
        "    assert num_examples <= len(dataset), \"Can't pick more elements than there are in the dataset.\"\n",
        "    picks = []\n",
        "    for _ in range(num_examples):\n",
        "        pick = random.randint(0, len(dataset)-1)\n",
        "        while pick in picks:\n",
        "            pick = random.randint(0, len(dataset)-1)\n",
        "        picks.append(pick)\n",
        "\n",
        "    df = pd.DataFrame(dataset[picks])\n",
        "    display(HTML(df.to_html()))"
      ]
    },
    {
      "cell_type": "code",
      "execution_count": null,
      "metadata": {
        "colab": {
          "base_uri": "https://localhost:8080/",
          "height": 677
        },
        "id": "Rc2cczHKUIvi",
        "outputId": "eaa2b091-da01-49b3-9107-c49c0358860a"
      },
      "outputs": [
        {
          "data": {
            "text/html": [
              "<table border=\"1\" class=\"dataframe\">\n",
              "  <thead>\n",
              "    <tr style=\"text-align: right;\">\n",
              "      <th></th>\n",
              "      <th>Transcript</th>\n",
              "    </tr>\n",
              "  </thead>\n",
              "  <tbody>\n",
              "    <tr>\n",
              "      <th>0</th>\n",
              "      <td>قُلْ أَعُوذُ بِرَبِّ النَّاسِ</td>\n",
              "    </tr>\n",
              "    <tr>\n",
              "      <th>1</th>\n",
              "      <td>وَمِن شَرِّ غَاسِقٍ إِذَا وَقَبَ</td>\n",
              "    </tr>\n",
              "    <tr>\n",
              "      <th>2</th>\n",
              "      <td>مِن شَرِّ الْوَسْوَاسِ الْخَنَّاسِ</td>\n",
              "    </tr>\n",
              "    <tr>\n",
              "      <th>3</th>\n",
              "      <td>مَلِكِ النَّاسِ</td>\n",
              "    </tr>\n",
              "    <tr>\n",
              "      <th>4</th>\n",
              "      <td>مَلِكِ النَّاسِ</td>\n",
              "    </tr>\n",
              "    <tr>\n",
              "      <th>5</th>\n",
              "      <td>وَمِن شَرِّ غَاسِقٍ إِذَا وَقَبَ</td>\n",
              "    </tr>\n",
              "    <tr>\n",
              "      <th>6</th>\n",
              "      <td>إِلَٰهِ النَّاسِ</td>\n",
              "    </tr>\n",
              "    <tr>\n",
              "      <th>7</th>\n",
              "      <td>وَمِن شَرِّ غَاسِقٍ إِذَا وَقَبَ</td>\n",
              "    </tr>\n",
              "    <tr>\n",
              "      <th>8</th>\n",
              "      <td>قُلْ أَعُوذُ بِرَبِّ الْفَلَقِ</td>\n",
              "    </tr>\n",
              "    <tr>\n",
              "      <th>9</th>\n",
              "      <td>وَمِن شَرِّ النَّفَّاثَاتِ فِي الْعُقَدِ</td>\n",
              "    </tr>\n",
              "    <tr>\n",
              "      <th>10</th>\n",
              "      <td>قُلْ أَعُوذُ بِرَبِّ النَّاسِ</td>\n",
              "    </tr>\n",
              "    <tr>\n",
              "      <th>11</th>\n",
              "      <td>وَمِن شَرِّ النَّفَّاثَاتِ فِي الْعُقَدِ</td>\n",
              "    </tr>\n",
              "    <tr>\n",
              "      <th>12</th>\n",
              "      <td>مَلِكِ النَّاسِ</td>\n",
              "    </tr>\n",
              "    <tr>\n",
              "      <th>13</th>\n",
              "      <td>وَمِن شَرِّ النَّفَّاثَاتِ فِي الْعُقَدِ</td>\n",
              "    </tr>\n",
              "    <tr>\n",
              "      <th>14</th>\n",
              "      <td>مِنَ الْجِنَّةِ وَالنَّاسِ</td>\n",
              "    </tr>\n",
              "    <tr>\n",
              "      <th>15</th>\n",
              "      <td>مَلِكِ النَّاسِ</td>\n",
              "    </tr>\n",
              "    <tr>\n",
              "      <th>16</th>\n",
              "      <td>وَمِن شَرِّ غَاسِقٍ إِذَا وَقَبَ</td>\n",
              "    </tr>\n",
              "    <tr>\n",
              "      <th>17</th>\n",
              "      <td>مِن شَرِّ مَا خَلَقَ</td>\n",
              "    </tr>\n",
              "    <tr>\n",
              "      <th>18</th>\n",
              "      <td>مِنَ الْجِنَّةِ وَالنَّاسِ</td>\n",
              "    </tr>\n",
              "    <tr>\n",
              "      <th>19</th>\n",
              "      <td>مِنَ الْجِنَّةِ وَالنَّاسِ</td>\n",
              "    </tr>\n",
              "  </tbody>\n",
              "</table>"
            ],
            "text/plain": [
              "<IPython.core.display.HTML object>"
            ]
          },
          "metadata": {},
          "output_type": "display_data"
        }
      ],
      "source": [
        "show_random_elements(train.remove_columns([\"Path\"]), num_examples=20)"
      ]
    },
    {
      "cell_type": "code",
      "execution_count": null,
      "metadata": {
        "id": "KOyI41KfMd0V"
      },
      "outputs": [],
      "source": [
        "def extract_all_chars(batch):\n",
        "  all_text = \" \".join(batch[\"Transcript\"])\n",
        "  vocab = list(set(all_text))\n",
        "  return {\"vocab\": [vocab], \"all_text\": [all_text]}"
      ]
    },
    {
      "cell_type": "code",
      "execution_count": null,
      "metadata": {
        "id": "3hK898s85GuS"
      },
      "outputs": [],
      "source": [
        "def extract_unique_words(batch):\n",
        "    all_text = \" \".join(batch[\"Transcript\"])\n",
        "    words = list(set(all_text.split()))  # Convert to set to remove duplicates\n",
        "    return {\"vocab\": [words], \"all_text\": [all_text]}"
      ]
    },
    {
      "cell_type": "code",
      "execution_count": null,
      "metadata": {
        "colab": {
          "base_uri": "https://localhost:8080/",
          "height": 118,
          "referenced_widgets": [
            "d8f82b9b13fe4bab9d0142b5a6371921",
            "3a215f9d30394c8589bfc94f8d8c0939",
            "5c8bfbd135234ebcb082fc20ed12a50c",
            "efd46aeb339b4523966905753a13da61",
            "d7d4ae57b08d45f8abef99ab39edbd89",
            "ec87337287b64bc29494ac034b758cf9",
            "99f8d0dff0374ac59fe43c0c19fc2cdf",
            "95979203fd074107a68bff51b758bdeb",
            "2b72b23be9ab48eb9c6f872b8a037604",
            "60231b0358804005b5e51c84438853f5",
            "f4dcd214607a452a94a2188bce1d63d8"
          ]
        },
        "id": "WO-mKjHkUtDr",
        "outputId": "c07c445d-3578-4466-976c-73a1b3f034d2"
      },
      "outputs": [
        {
          "data": {
            "application/vnd.jupyter.widget-view+json": {
              "model_id": "d8f82b9b13fe4bab9d0142b5a6371921",
              "version_major": 2,
              "version_minor": 0
            },
            "text/plain": [
              "Map:   0%|          | 0/334 [00:00<?, ? examples/s]"
            ]
          },
          "metadata": {},
          "output_type": "display_data"
        },
        {
          "data": {
            "text/plain": [
              "Dataset({\n",
              "    features: ['vocab', 'all_text'],\n",
              "    num_rows: 1\n",
              "})"
            ]
          },
          "execution_count": 38,
          "metadata": {},
          "output_type": "execute_result"
        }
      ],
      "source": [
        "vocab_train = train.map(extract_unique_words, batched=True, batch_size=-1, keep_in_memory=True, remove_columns=train.column_names)\n",
        "vocab_train"
      ]
    },
    {
      "cell_type": "code",
      "execution_count": null,
      "metadata": {
        "colab": {
          "base_uri": "https://localhost:8080/"
        },
        "id": "_k2IrvTwOmHa",
        "outputId": "ed2c1a9a-d51e-47fe-e847-2195a610bebc"
      },
      "outputs": [
        {
          "data": {
            "text/plain": [
              "{'vocab': ['وَقَبَ',\n",
              "  'الْوَسْوَاسِ',\n",
              "  'بِرَبِّ',\n",
              "  'مَلِكِ',\n",
              "  'الْجِنَّةِ',\n",
              "  'أَعُوذُ',\n",
              "  'مِن',\n",
              "  'الَّذِي',\n",
              "  'خَلَقَ',\n",
              "  'وَمِن',\n",
              "  'النَّفَّاثَاتِ',\n",
              "  'شَرِّ',\n",
              "  'حَاسِدٍ',\n",
              "  'الْفَلَقِ',\n",
              "  'إِلَٰهِ',\n",
              "  'مَا',\n",
              "  'غَاسِقٍ',\n",
              "  'النَّاسِ',\n",
              "  'فِي',\n",
              "  'صُدُورِ',\n",
              "  'يُوَسْوِسُ',\n",
              "  'الْخَنَّاسِ',\n",
              "  'وَالنَّاسِ',\n",
              "  'الْعُقَدِ',\n",
              "  'حَسَدَ',\n",
              "  'إِذَا',\n",
              "  'مِنَ',\n",
              "  'قُلْ'],\n",
              " 'all_text': 'قُلْ أَعُوذُ بِرَبِّ النَّاسِ الَّذِي يُوَسْوِسُ فِي صُدُورِ النَّاسِ مِن شَرِّ مَا خَلَقَ مِن شَرِّ مَا خَلَقَ وَمِن شَرِّ غَاسِقٍ إِذَا وَقَبَ إِلَٰهِ النَّاسِ الَّذِي يُوَسْوِسُ فِي صُدُورِ النَّاسِ قُلْ أَعُوذُ بِرَبِّ النَّاسِ مِن شَرِّ مَا خَلَقَ وَمِن شَرِّ غَاسِقٍ إِذَا وَقَبَ وَمِن شَرِّ غَاسِقٍ إِذَا وَقَبَ قُلْ أَعُوذُ بِرَبِّ الْفَلَقِ إِلَٰهِ النَّاسِ إِلَٰهِ النَّاسِ إِلَٰهِ النَّاسِ وَمِن شَرِّ غَاسِقٍ إِذَا وَقَبَ الَّذِي يُوَسْوِسُ فِي صُدُورِ النَّاسِ وَمِن شَرِّ حَاسِدٍ إِذَا حَسَدَ قُلْ أَعُوذُ بِرَبِّ النَّاسِ مِن شَرِّ مَا خَلَقَ مِن شَرِّ مَا خَلَقَ وَمِن شَرِّ غَاسِقٍ إِذَا وَقَبَ مِن شَرِّ الْوَسْوَاسِ الْخَنَّاسِ وَمِن شَرِّ حَاسِدٍ إِذَا حَسَدَ مِن شَرِّ مَا خَلَقَ إِلَٰهِ النَّاسِ وَمِن شَرِّ حَاسِدٍ إِذَا حَسَدَ وَمِن شَرِّ غَاسِقٍ إِذَا وَقَبَ قُلْ أَعُوذُ بِرَبِّ النَّاسِ مِن شَرِّ مَا خَلَقَ مِن شَرِّ مَا خَلَقَ وَمِن شَرِّ حَاسِدٍ إِذَا حَسَدَ إِلَٰهِ النَّاسِ وَمِن شَرِّ النَّفَّاثَاتِ فِي الْعُقَدِ وَمِن شَرِّ غَاسِقٍ إِذَا وَقَبَ الَّذِي يُوَسْوِسُ فِي صُدُورِ النَّاسِ وَمِن شَرِّ النَّفَّاثَاتِ فِي الْعُقَدِ قُلْ أَعُوذُ بِرَبِّ النَّاسِ مِن شَرِّ الْوَسْوَاسِ الْخَنَّاسِ وَمِن شَرِّ النَّفَّاثَاتِ فِي الْعُقَدِ وَمِن شَرِّ النَّفَّاثَاتِ فِي الْعُقَدِ مِن شَرِّ مَا خَلَقَ مِن شَرِّ مَا خَلَقَ وَمِن شَرِّ النَّفَّاثَاتِ فِي الْعُقَدِ مِن شَرِّ الْوَسْوَاسِ الْخَنَّاسِ مِنَ الْجِنَّةِ وَالنَّاسِ وَمِن شَرِّ غَاسِقٍ إِذَا وَقَبَ الَّذِي يُوَسْوِسُ فِي صُدُورِ النَّاسِ وَمِن شَرِّ حَاسِدٍ إِذَا حَسَدَ الَّذِي يُوَسْوِسُ فِي صُدُورِ النَّاسِ مِن شَرِّ مَا خَلَقَ إِلَٰهِ النَّاسِ إِلَٰهِ النَّاسِ قُلْ أَعُوذُ بِرَبِّ النَّاسِ قُلْ أَعُوذُ بِرَبِّ الْفَلَقِ مِن شَرِّ الْوَسْوَاسِ الْخَنَّاسِ وَمِن شَرِّ غَاسِقٍ إِذَا وَقَبَ الَّذِي يُوَسْوِسُ فِي صُدُورِ النَّاسِ وَمِن شَرِّ حَاسِدٍ إِذَا حَسَدَ قُلْ أَعُوذُ بِرَبِّ الْفَلَقِ مِنَ الْجِنَّةِ وَالنَّاسِ مِنَ الْجِنَّةِ وَالنَّاسِ قُلْ أَعُوذُ بِرَبِّ النَّاسِ قُلْ أَعُوذُ بِرَبِّ النَّاسِ الَّذِي يُوَسْوِسُ فِي صُدُورِ النَّاسِ مِنَ الْجِنَّةِ وَالنَّاسِ وَمِن شَرِّ حَاسِدٍ إِذَا حَسَدَ وَمِن شَرِّ النَّفَّاثَاتِ فِي الْعُقَدِ وَمِن شَرِّ غَاسِقٍ إِذَا وَقَبَ وَمِن شَرِّ غَاسِقٍ إِذَا وَقَبَ وَمِن شَرِّ النَّفَّاثَاتِ فِي الْعُقَدِ قُلْ أَعُوذُ بِرَبِّ الْفَلَقِ مِن شَرِّ الْوَسْوَاسِ الْخَنَّاسِ قُلْ أَعُوذُ بِرَبِّ النَّاسِ الَّذِي يُوَسْوِسُ فِي صُدُورِ النَّاسِ مَلِكِ النَّاسِ مَلِكِ النَّاسِ مَلِكِ النَّاسِ وَمِن شَرِّ غَاسِقٍ إِذَا وَقَبَ مِنَ الْجِنَّةِ وَالنَّاسِ مِن شَرِّ الْوَسْوَاسِ الْخَنَّاسِ مَلِكِ النَّاسِ إِلَٰهِ النَّاسِ مَلِكِ النَّاسِ الَّذِي يُوَسْوِسُ فِي صُدُورِ النَّاسِ إِلَٰهِ النَّاسِ قُلْ أَعُوذُ بِرَبِّ النَّاسِ الَّذِي يُوَسْوِسُ فِي صُدُورِ النَّاسِ وَمِن شَرِّ غَاسِقٍ إِذَا وَقَبَ الَّذِي يُوَسْوِسُ فِي صُدُورِ النَّاسِ مِن شَرِّ الْوَسْوَاسِ الْخَنَّاسِ قُلْ أَعُوذُ بِرَبِّ النَّاسِ مَلِكِ النَّاسِ قُلْ أَعُوذُ بِرَبِّ الْفَلَقِ وَمِن شَرِّ حَاسِدٍ إِذَا حَسَدَ وَمِن شَرِّ غَاسِقٍ إِذَا وَقَبَ مِن شَرِّ الْوَسْوَاسِ الْخَنَّاسِ قُلْ أَعُوذُ بِرَبِّ النَّاسِ قُلْ أَعُوذُ بِرَبِّ الْفَلَقِ إِلَٰهِ النَّاسِ مِنَ الْجِنَّةِ وَالنَّاسِ مَلِكِ النَّاسِ وَمِن شَرِّ النَّفَّاثَاتِ فِي الْعُقَدِ مِن شَرِّ مَا خَلَقَ قُلْ أَعُوذُ بِرَبِّ الْفَلَقِ مِن شَرِّ مَا خَلَقَ وَمِن شَرِّ غَاسِقٍ إِذَا وَقَبَ وَمِن شَرِّ حَاسِدٍ إِذَا حَسَدَ مِن شَرِّ مَا خَلَقَ مَلِكِ النَّاسِ مِن شَرِّ مَا خَلَقَ مَلِكِ النَّاسِ مِن شَرِّ الْوَسْوَاسِ الْخَنَّاسِ قُلْ أَعُوذُ بِرَبِّ النَّاسِ مَلِكِ النَّاسِ إِلَٰهِ النَّاسِ إِلَٰهِ النَّاسِ قُلْ أَعُوذُ بِرَبِّ الْفَلَقِ قُلْ أَعُوذُ بِرَبِّ الْفَلَقِ وَمِن شَرِّ حَاسِدٍ إِذَا حَسَدَ مَلِكِ النَّاسِ إِلَٰهِ النَّاسِ وَمِن شَرِّ حَاسِدٍ إِذَا حَسَدَ قُلْ أَعُوذُ بِرَبِّ الْفَلَقِ وَمِن شَرِّ النَّفَّاثَاتِ فِي الْعُقَدِ مِن شَرِّ الْوَسْوَاسِ الْخَنَّاسِ قُلْ أَعُوذُ بِرَبِّ النَّاسِ مَلِكِ النَّاسِ وَمِن شَرِّ النَّفَّاثَاتِ فِي الْعُقَدِ مِن شَرِّ الْوَسْوَاسِ الْخَنَّاسِ قُلْ أَعُوذُ بِرَبِّ الْفَلَقِ وَمِن شَرِّ النَّفَّاثَاتِ فِي الْعُقَدِ وَمِن شَرِّ حَاسِدٍ إِذَا حَسَدَ مِنَ الْجِنَّةِ وَالنَّاسِ قُلْ أَعُوذُ بِرَبِّ الْفَلَقِ مِن شَرِّ الْوَسْوَاسِ الْخَنَّاسِ مِنَ الْجِنَّةِ وَالنَّاسِ مِنَ الْجِنَّةِ وَالنَّاسِ مِن شَرِّ مَا خَلَقَ وَمِن شَرِّ حَاسِدٍ إِذَا حَسَدَ مِنَ الْجِنَّةِ وَالنَّاسِ إِلَٰهِ النَّاسِ وَمِن شَرِّ حَاسِدٍ إِذَا حَسَدَ الَّذِي يُوَسْوِسُ فِي صُدُورِ النَّاسِ إِلَٰهِ النَّاسِ قُلْ أَعُوذُ بِرَبِّ الْفَلَقِ قُلْ أَعُوذُ بِرَبِّ النَّاسِ وَمِن شَرِّ النَّفَّاثَاتِ فِي الْعُقَدِ الَّذِي يُوَسْوِسُ فِي صُدُورِ النَّاسِ مِن شَرِّ الْوَسْوَاسِ الْخَنَّاسِ مِنَ الْجِنَّةِ وَالنَّاسِ مَلِكِ النَّاسِ مِنَ الْجِنَّةِ وَالنَّاسِ وَمِن شَرِّ حَاسِدٍ إِذَا حَسَدَ مِنَ الْجِنَّةِ وَالنَّاسِ قُلْ أَعُوذُ بِرَبِّ النَّاسِ مَلِكِ النَّاسِ الَّذِي يُوَسْوِسُ فِي صُدُورِ النَّاسِ مِن شَرِّ الْوَسْوَاسِ الْخَنَّاسِ إِلَٰهِ النَّاسِ وَمِن شَرِّ النَّفَّاثَاتِ فِي الْعُقَدِ وَمِن شَرِّ غَاسِقٍ إِذَا وَقَبَ قُلْ أَعُوذُ بِرَبِّ الْفَلَقِ مِن شَرِّ الْوَسْوَاسِ الْخَنَّاسِ وَمِن شَرِّ النَّفَّاثَاتِ فِي الْعُقَدِ مِن شَرِّ الْوَسْوَاسِ الْخَنَّاسِ مِنَ الْجِنَّةِ وَالنَّاسِ وَمِن شَرِّ حَاسِدٍ إِذَا حَسَدَ مِن شَرِّ الْوَسْوَاسِ الْخَنَّاسِ وَمِن شَرِّ النَّفَّاثَاتِ فِي الْعُقَدِ وَمِن شَرِّ النَّفَّاثَاتِ فِي الْعُقَدِ مِن شَرِّ الْوَسْوَاسِ الْخَنَّاسِ مَلِكِ النَّاسِ مِنَ الْجِنَّةِ وَالنَّاسِ إِلَٰهِ النَّاسِ وَمِن شَرِّ النَّفَّاثَاتِ فِي الْعُقَدِ مِن شَرِّ مَا خَلَقَ وَمِن شَرِّ حَاسِدٍ إِذَا حَسَدَ إِلَٰهِ النَّاسِ قُلْ أَعُوذُ بِرَبِّ الْفَلَقِ قُلْ أَعُوذُ بِرَبِّ النَّاسِ وَمِن شَرِّ النَّفَّاثَاتِ فِي الْعُقَدِ مِن شَرِّ مَا خَلَقَ مِن شَرِّ الْوَسْوَاسِ الْخَنَّاسِ مِن شَرِّ الْوَسْوَاسِ الْخَنَّاسِ مِن شَرِّ مَا خَلَقَ مِنَ الْجِنَّةِ وَالنَّاسِ قُلْ أَعُوذُ بِرَبِّ النَّاسِ وَمِن شَرِّ النَّفَّاثَاتِ فِي الْعُقَدِ وَمِن شَرِّ غَاسِقٍ إِذَا وَقَبَ مِن شَرِّ الْوَسْوَاسِ الْخَنَّاسِ وَمِن شَرِّ غَاسِقٍ إِذَا وَقَبَ وَمِن شَرِّ غَاسِقٍ إِذَا وَقَبَ قُلْ أَعُوذُ بِرَبِّ الْفَلَقِ مِن شَرِّ الْوَسْوَاسِ الْخَنَّاسِ إِلَٰهِ النَّاسِ مِنَ الْجِنَّةِ وَالنَّاسِ مِنَ الْجِنَّةِ وَالنَّاسِ قُلْ أَعُوذُ بِرَبِّ الْفَلَقِ مِن شَرِّ الْوَسْوَاسِ الْخَنَّاسِ إِلَٰهِ النَّاسِ إِلَٰهِ النَّاسِ وَمِن شَرِّ حَاسِدٍ إِذَا حَسَدَ مِنَ الْجِنَّةِ وَالنَّاسِ مِنَ الْجِنَّةِ وَالنَّاسِ الَّذِي يُوَسْوِسُ فِي صُدُورِ النَّاسِ وَمِن شَرِّ حَاسِدٍ إِذَا حَسَدَ مِن شَرِّ مَا خَلَقَ إِلَٰهِ النَّاسِ قُلْ أَعُوذُ بِرَبِّ النَّاسِ وَمِن شَرِّ النَّفَّاثَاتِ فِي الْعُقَدِ الَّذِي يُوَسْوِسُ فِي صُدُورِ النَّاسِ إِلَٰهِ النَّاسِ مِن شَرِّ الْوَسْوَاسِ الْخَنَّاسِ قُلْ أَعُوذُ بِرَبِّ النَّاسِ قُلْ أَعُوذُ بِرَبِّ النَّاسِ الَّذِي يُوَسْوِسُ فِي صُدُورِ النَّاسِ قُلْ أَعُوذُ بِرَبِّ الْفَلَقِ وَمِن شَرِّ النَّفَّاثَاتِ فِي الْعُقَدِ مَلِكِ النَّاسِ وَمِن شَرِّ غَاسِقٍ إِذَا وَقَبَ قُلْ أَعُوذُ بِرَبِّ الْفَلَقِ وَمِن شَرِّ النَّفَّاثَاتِ فِي الْعُقَدِ وَمِن شَرِّ حَاسِدٍ إِذَا حَسَدَ قُلْ أَعُوذُ بِرَبِّ الْفَلَقِ مَلِكِ النَّاسِ وَمِن شَرِّ حَاسِدٍ إِذَا حَسَدَ قُلْ أَعُوذُ بِرَبِّ النَّاسِ قُلْ أَعُوذُ بِرَبِّ النَّاسِ مِن شَرِّ مَا خَلَقَ وَمِن شَرِّ حَاسِدٍ إِذَا حَسَدَ قُلْ أَعُوذُ بِرَبِّ النَّاسِ الَّذِي يُوَسْوِسُ فِي صُدُورِ النَّاسِ قُلْ أَعُوذُ بِرَبِّ النَّاسِ وَمِن شَرِّ حَاسِدٍ إِذَا حَسَدَ مِن شَرِّ مَا خَلَقَ وَمِن شَرِّ النَّفَّاثَاتِ فِي الْعُقَدِ مِنَ الْجِنَّةِ وَالنَّاسِ وَمِن شَرِّ حَاسِدٍ إِذَا حَسَدَ مَلِكِ النَّاسِ إِلَٰهِ النَّاسِ وَمِن شَرِّ غَاسِقٍ إِذَا وَقَبَ مِن شَرِّ مَا خَلَقَ إِلَٰهِ النَّاسِ قُلْ أَعُوذُ بِرَبِّ النَّاسِ الَّذِي يُوَسْوِسُ فِي صُدُورِ النَّاسِ وَمِن شَرِّ النَّفَّاثَاتِ فِي الْعُقَدِ مِن شَرِّ الْوَسْوَاسِ الْخَنَّاسِ مِنَ الْجِنَّةِ وَالنَّاسِ إِلَٰهِ النَّاسِ مِن شَرِّ الْوَسْوَاسِ الْخَنَّاسِ مِنَ الْجِنَّةِ وَالنَّاسِ الَّذِي يُوَسْوِسُ فِي صُدُورِ النَّاسِ وَمِن شَرِّ النَّفَّاثَاتِ فِي الْعُقَدِ وَمِن شَرِّ غَاسِقٍ إِذَا وَقَبَ مِن شَرِّ الْوَسْوَاسِ الْخَنَّاسِ وَمِن شَرِّ غَاسِقٍ إِذَا وَقَبَ وَمِن شَرِّ حَاسِدٍ إِذَا حَسَدَ قُلْ أَعُوذُ بِرَبِّ النَّاسِ الَّذِي يُوَسْوِسُ فِي صُدُورِ النَّاسِ قُلْ أَعُوذُ بِرَبِّ النَّاسِ قُلْ أَعُوذُ بِرَبِّ الْفَلَقِ وَمِن شَرِّ غَاسِقٍ إِذَا وَقَبَ وَمِن شَرِّ حَاسِدٍ إِذَا حَسَدَ وَمِن شَرِّ النَّفَّاثَاتِ فِي الْعُقَدِ وَمِن شَرِّ حَاسِدٍ إِذَا حَسَدَ قُلْ أَعُوذُ بِرَبِّ النَّاسِ الَّذِي يُوَسْوِسُ فِي صُدُورِ النَّاسِ الَّذِي يُوَسْوِسُ فِي صُدُورِ النَّاسِ مِن شَرِّ الْوَسْوَاسِ الْخَنَّاسِ الَّذِي يُوَسْوِسُ فِي صُدُورِ النَّاسِ قُلْ أَعُوذُ بِرَبِّ الْفَلَقِ قُلْ أَعُوذُ بِرَبِّ الْفَلَقِ مَلِكِ النَّاسِ مَلِكِ النَّاسِ مَلِكِ النَّاسِ مِن شَرِّ الْوَسْوَاسِ الْخَنَّاسِ قُلْ أَعُوذُ بِرَبِّ الْفَلَقِ إِلَٰهِ النَّاسِ وَمِن شَرِّ حَاسِدٍ إِذَا حَسَدَ وَمِن شَرِّ النَّفَّاثَاتِ فِي الْعُقَدِ مَلِكِ النَّاسِ وَمِن شَرِّ غَاسِقٍ إِذَا وَقَبَ مِن شَرِّ الْوَسْوَاسِ الْخَنَّاسِ مِنَ الْجِنَّةِ وَالنَّاسِ وَمِن شَرِّ النَّفَّاثَاتِ فِي الْعُقَدِ الَّذِي يُوَسْوِسُ فِي صُدُورِ النَّاسِ مِن شَرِّ الْوَسْوَاسِ الْخَنَّاسِ مَلِكِ النَّاسِ وَمِن شَرِّ النَّفَّاثَاتِ فِي الْعُقَدِ مَلِكِ النَّاسِ مِنَ الْجِنَّةِ وَالنَّاسِ مِن شَرِّ مَا خَلَقَ وَمِن شَرِّ حَاسِدٍ إِذَا حَسَدَ إِلَٰهِ النَّاسِ مِن شَرِّ مَا خَلَقَ مَلِكِ النَّاسِ مِن شَرِّ الْوَسْوَاسِ الْخَنَّاسِ مَلِكِ النَّاسِ قُلْ أَعُوذُ بِرَبِّ الْفَلَقِ قُلْ أَعُوذُ بِرَبِّ الْفَلَقِ مَلِكِ النَّاسِ إِلَٰهِ النَّاسِ قُلْ أَعُوذُ بِرَبِّ النَّاسِ قُلْ أَعُوذُ بِرَبِّ الْفَلَقِ الَّذِي يُوَسْوِسُ فِي صُدُورِ النَّاسِ وَمِن شَرِّ حَاسِدٍ إِذَا حَسَدَ إِلَٰهِ النَّاسِ مَلِكِ النَّاسِ وَمِن شَرِّ غَاسِقٍ إِذَا وَقَبَ مِنَ الْجِنَّةِ وَالنَّاسِ قُلْ أَعُوذُ بِرَبِّ النَّاسِ قُلْ أَعُوذُ بِرَبِّ الْفَلَقِ مَلِكِ النَّاسِ وَمِن شَرِّ حَاسِدٍ إِذَا حَسَدَ وَمِن شَرِّ النَّفَّاثَاتِ فِي الْعُقَدِ الَّذِي يُوَسْوِسُ فِي صُدُورِ النَّاسِ مِنَ الْجِنَّةِ وَالنَّاسِ الَّذِي يُوَسْوِسُ فِي صُدُورِ النَّاسِ مِن شَرِّ مَا خَلَقَ مِن شَرِّ الْوَسْوَاسِ الْخَنَّاسِ قُلْ أَعُوذُ بِرَبِّ الْفَلَقِ مِن شَرِّ مَا خَلَقَ مِن شَرِّ مَا خَلَقَ وَمِن شَرِّ النَّفَّاثَاتِ فِي الْعُقَدِ وَمِن شَرِّ غَاسِقٍ إِذَا وَقَبَ وَمِن شَرِّ حَاسِدٍ إِذَا حَسَدَ قُلْ أَعُوذُ بِرَبِّ الْفَلَقِ الَّذِي يُوَسْوِسُ فِي صُدُورِ النَّاسِ وَمِن شَرِّ غَاسِقٍ إِذَا وَقَبَ وَمِن شَرِّ حَاسِدٍ إِذَا حَسَدَ مَلِكِ النَّاسِ مِنَ الْجِنَّةِ وَالنَّاسِ وَمِن شَرِّ غَاسِقٍ إِذَا وَقَبَ'}"
            ]
          },
          "execution_count": 39,
          "metadata": {},
          "output_type": "execute_result"
        }
      ],
      "source": [
        "vocab_train[0]"
      ]
    },
    {
      "cell_type": "code",
      "execution_count": null,
      "metadata": {
        "colab": {
          "base_uri": "https://localhost:8080/"
        },
        "id": "h46CvlovVFFT",
        "outputId": "a21f8b39-ef6e-4dd6-cfa6-c1fee1949f70"
      },
      "outputs": [
        {
          "data": {
            "text/plain": [
              "['وَقَبَ',\n",
              " 'الْوَسْوَاسِ',\n",
              " 'بِرَبِّ',\n",
              " 'مَلِكِ',\n",
              " 'الْجِنَّةِ',\n",
              " 'أَعُوذُ',\n",
              " 'مِن',\n",
              " 'الَّذِي',\n",
              " 'خَلَقَ',\n",
              " 'وَمِن',\n",
              " 'النَّفَّاثَاتِ',\n",
              " 'شَرِّ',\n",
              " 'حَاسِدٍ',\n",
              " 'الْفَلَقِ',\n",
              " 'إِلَٰهِ',\n",
              " 'مَا',\n",
              " 'غَاسِقٍ',\n",
              " 'النَّاسِ',\n",
              " 'فِي',\n",
              " 'صُدُورِ',\n",
              " 'يُوَسْوِسُ',\n",
              " 'الْخَنَّاسِ',\n",
              " 'وَالنَّاسِ',\n",
              " 'الْعُقَدِ',\n",
              " 'حَسَدَ',\n",
              " 'إِذَا',\n",
              " 'مِنَ',\n",
              " 'قُلْ']"
            ]
          },
          "execution_count": 40,
          "metadata": {},
          "output_type": "execute_result"
        }
      ],
      "source": [
        "vocab_list = list(set(vocab_train[\"vocab\"][0]))\n",
        "vocab_list"
      ]
    },
    {
      "cell_type": "code",
      "execution_count": null,
      "metadata": {
        "colab": {
          "base_uri": "https://localhost:8080/"
        },
        "id": "Zq_CZMyVQBtr",
        "outputId": "efc40d72-6ae8-49b8-c0ba-e0a99397c562"
      },
      "outputs": [
        {
          "data": {
            "text/plain": [
              "28"
            ]
          },
          "execution_count": 41,
          "metadata": {},
          "output_type": "execute_result"
        }
      ],
      "source": [
        "len(vocab_list)"
      ]
    },
    {
      "cell_type": "code",
      "execution_count": null,
      "metadata": {
        "colab": {
          "base_uri": "https://localhost:8080/"
        },
        "id": "_DtfixybVW2C",
        "outputId": "59179c5c-961d-4615-985b-aec085202512"
      },
      "outputs": [
        {
          "data": {
            "text/plain": [
              "{'وَقَبَ': 0,\n",
              " 'الْوَسْوَاسِ': 1,\n",
              " 'بِرَبِّ': 2,\n",
              " 'مَلِكِ': 3,\n",
              " 'الْجِنَّةِ': 4,\n",
              " 'أَعُوذُ': 5,\n",
              " 'مِن': 6,\n",
              " 'الَّذِي': 7,\n",
              " 'خَلَقَ': 8,\n",
              " 'وَمِن': 9,\n",
              " 'النَّفَّاثَاتِ': 10,\n",
              " 'شَرِّ': 11,\n",
              " 'حَاسِدٍ': 12,\n",
              " 'الْفَلَقِ': 13,\n",
              " 'إِلَٰهِ': 14,\n",
              " 'مَا': 15,\n",
              " 'غَاسِقٍ': 16,\n",
              " 'النَّاسِ': 17,\n",
              " 'فِي': 18,\n",
              " 'صُدُورِ': 19,\n",
              " 'يُوَسْوِسُ': 20,\n",
              " 'الْخَنَّاسِ': 21,\n",
              " 'وَالنَّاسِ': 22,\n",
              " 'الْعُقَدِ': 23,\n",
              " 'حَسَدَ': 24,\n",
              " 'إِذَا': 25,\n",
              " 'مِنَ': 26,\n",
              " 'قُلْ': 27}"
            ]
          },
          "execution_count": 42,
          "metadata": {},
          "output_type": "execute_result"
        }
      ],
      "source": [
        "vocab_dict = {v: k for k, v in enumerate(vocab_list)}\n",
        "vocab_dict"
      ]
    },
    {
      "cell_type": "code",
      "execution_count": null,
      "metadata": {
        "colab": {
          "base_uri": "https://localhost:8080/"
        },
        "id": "Kyt4JhhEQqfd",
        "outputId": "dfa1b3d1-d07a-4143-ba7a-096d81b89a7a"
      },
      "outputs": [
        {
          "data": {
            "text/plain": [
              "28"
            ]
          },
          "execution_count": 43,
          "metadata": {},
          "output_type": "execute_result"
        }
      ],
      "source": [
        "len(vocab_dict)"
      ]
    },
    {
      "cell_type": "code",
      "execution_count": null,
      "metadata": {
        "colab": {
          "base_uri": "https://localhost:8080/"
        },
        "id": "ZKGYeI5uPRz3",
        "outputId": "d591392b-e450-4afe-a2ef-1ae8212bde54"
      },
      "outputs": [
        {
          "name": "stdout",
          "output_type": "stream",
          "text": [
            "None\n"
          ]
        }
      ],
      "source": [
        "print(vocab_dict.get(15))"
      ]
    },
    {
      "cell_type": "code",
      "execution_count": null,
      "metadata": {
        "id": "l4097WxUVyGu"
      },
      "outputs": [],
      "source": [
        "# vocab_dict[\"|\"] = vocab_dict[\" \"]\n",
        "# del vocab_dict[\" \"]"
      ]
    },
    {
      "cell_type": "code",
      "execution_count": null,
      "metadata": {
        "colab": {
          "base_uri": "https://localhost:8080/"
        },
        "id": "cCfR8xa_WGXs",
        "outputId": "ef6a49ed-7f7f-4393-bbe6-2cd1df682d08"
      },
      "outputs": [
        {
          "data": {
            "text/plain": [
              "30"
            ]
          },
          "execution_count": 46,
          "metadata": {},
          "output_type": "execute_result"
        }
      ],
      "source": [
        "vocab_dict[\"[UNK]\"] = len(vocab_dict)\n",
        "vocab_dict[\"[PAD]\"] = len(vocab_dict)\n",
        "len(vocab_dict)"
      ]
    },
    {
      "cell_type": "code",
      "execution_count": null,
      "metadata": {
        "colab": {
          "base_uri": "https://localhost:8080/"
        },
        "id": "M0a5lX7TSutT",
        "outputId": "9c2d4a54-6745-4c30-8404-38faa61959af"
      },
      "outputs": [
        {
          "data": {
            "text/plain": [
              "{'وَقَبَ': 0,\n",
              " 'الْوَسْوَاسِ': 1,\n",
              " 'بِرَبِّ': 2,\n",
              " 'مَلِكِ': 3,\n",
              " 'الْجِنَّةِ': 4,\n",
              " 'أَعُوذُ': 5,\n",
              " 'مِن': 6,\n",
              " 'الَّذِي': 7,\n",
              " 'خَلَقَ': 8,\n",
              " 'وَمِن': 9,\n",
              " 'النَّفَّاثَاتِ': 10,\n",
              " 'شَرِّ': 11,\n",
              " 'حَاسِدٍ': 12,\n",
              " 'الْفَلَقِ': 13,\n",
              " 'إِلَٰهِ': 14,\n",
              " 'مَا': 15,\n",
              " 'غَاسِقٍ': 16,\n",
              " 'النَّاسِ': 17,\n",
              " 'فِي': 18,\n",
              " 'صُدُورِ': 19,\n",
              " 'يُوَسْوِسُ': 20,\n",
              " 'الْخَنَّاسِ': 21,\n",
              " 'وَالنَّاسِ': 22,\n",
              " 'الْعُقَدِ': 23,\n",
              " 'حَسَدَ': 24,\n",
              " 'إِذَا': 25,\n",
              " 'مِنَ': 26,\n",
              " 'قُلْ': 27,\n",
              " '[UNK]': 28,\n",
              " '[PAD]': 29}"
            ]
          },
          "execution_count": 47,
          "metadata": {},
          "output_type": "execute_result"
        }
      ],
      "source": [
        "vocab_dict"
      ]
    },
    {
      "cell_type": "code",
      "execution_count": null,
      "metadata": {
        "id": "-_4hNzFSWMBz"
      },
      "outputs": [],
      "source": [
        "with open('vocab.json', 'w') as vocab_file:\n",
        "    json.dump(vocab_dict, vocab_file)"
      ]
    },
    {
      "cell_type": "code",
      "execution_count": null,
      "metadata": {
        "id": "Lw99HURlWMga"
      },
      "outputs": [],
      "source": [
        "tokenizer = Wav2Vec2CTCTokenizer(\"/content/vocab.json\", unk_token=\"[UNK]\", pad_token=\"[PAD]\", word_delimiter_token=\"|\")"
      ]
    },
    {
      "cell_type": "code",
      "execution_count": null,
      "metadata": {
        "id": "4OmyeX8OWaFy"
      },
      "outputs": [],
      "source": [
        "feature_extractor = Wav2Vec2FeatureExtractor(feature_size=1, sampling_rate=16000, padding_value=0.0, do_normalize=True, return_attention_mask=True)"
      ]
    },
    {
      "cell_type": "code",
      "execution_count": null,
      "metadata": {
        "id": "tAtEVgzBXLwU"
      },
      "outputs": [],
      "source": [
        "processor = Wav2Vec2Processor(feature_extractor=feature_extractor, tokenizer=tokenizer)"
      ]
    },
    {
      "cell_type": "code",
      "execution_count": null,
      "metadata": {
        "colab": {
          "base_uri": "https://localhost:8080/"
        },
        "id": "zoAFpUQLXjGx",
        "outputId": "56d3e668-be2d-4bd6-ca88-240331a45598"
      },
      "outputs": [
        {
          "data": {
            "text/plain": [
              "[]"
            ]
          },
          "execution_count": 52,
          "metadata": {},
          "output_type": "execute_result"
        }
      ],
      "source": [
        "processor.save_pretrained(\"/content/drive/MyDrive/wav2vec2-new-surahs\")"
      ]
    },
    {
      "cell_type": "code",
      "execution_count": null,
      "metadata": {
        "id": "CKaiE5cIZGkP"
      },
      "outputs": [],
      "source": [
        "import librosa\n",
        "def speech_file_to_array_fn(batch):\n",
        "    try:\n",
        "      speech_array, sampling_rate = librosa.load(batch[\"Path\"], sr=16000)\n",
        "\n",
        "      batch[\"speech\"] = speech_array # Flatten the speech array\n",
        "      batch[\"sampling_rate\"] = sampling_rate\n",
        "      batch[\"target_text\"] = batch[\"Transcript\"]\n",
        "      return batch\n",
        "    except Exception as e:\n",
        "        print(f\"Error processing batch. Path: {batch['Path']}. Error: {e}\")\n",
        "        batch = None\n",
        "    return batch\n",
        "\n",
        "\n",
        "def speech_file_to_array_fn_test(batch):\n",
        "    speech_array, sampling_rate = sf.read(batch[\"Path\"])\n",
        "    batch[\"speech\"] = speech_array\n",
        "    batch[\"sampling_rate\"] = sampling_rate\n",
        "    return batch"
      ]
    },
    {
      "cell_type": "code",
      "execution_count": null,
      "metadata": {
        "colab": {
          "base_uri": "https://localhost:8080/",
          "height": 81,
          "referenced_widgets": [
            "a70f15de890b4e75aa622af5d95eda93",
            "1462646e97094a2ba0f1a921c00ca878",
            "8eacde8d90664003b9340bbf5cb1cd7f",
            "d5b80cb4f47c4c178ac6a4bb6817234d",
            "86e6ee9c6aad4cc1b682c918f180823f",
            "e92403faf9c34e3cbd45e6c16b63c6c1",
            "af539311900d47c28bf5fad1f0eb9c4e",
            "e7cf10fcd12544d591b207161f612014",
            "f8db4aee050f4e5b862131f6fc13eb9f",
            "e01cdff43feb40f5963e3c510bdba0c1",
            "5b73a43ecf00469c912584dacf62c4a1",
            "28b478fcddc744978fa753480e971209",
            "d70dfd15ca284654ac1ec29742bfcbe8",
            "fd490d3ab9fb43eba72063dfa9e2648f",
            "d04b7a037d314c5cb56407e577464c20",
            "0e782579d0c443be875e88cf5a1e6abe",
            "2d6b3ef74f294ce4a1bdfddf8a76bb66",
            "72bb0ee8b5cc4c8fb49200ca48874d85",
            "c9f5324cb00048efbd8fbfc5cf31edc2",
            "f97356b49a564a55be67d4b97eac58f4",
            "05b31f3fd3414c7c9658e1290792a767",
            "77efc90563484498860aa8220e4b9646"
          ]
        },
        "id": "GaMeIiw6ZQJN",
        "outputId": "b82f92af-8bbf-4600-80ea-c8c59c92be98"
      },
      "outputs": [
        {
          "data": {
            "application/vnd.jupyter.widget-view+json": {
              "model_id": "a70f15de890b4e75aa622af5d95eda93",
              "version_major": 2,
              "version_minor": 0
            },
            "text/plain": [
              "Map (num_proc=4):   0%|          | 0/334 [00:00<?, ? examples/s]"
            ]
          },
          "metadata": {},
          "output_type": "display_data"
        },
        {
          "data": {
            "application/vnd.jupyter.widget-view+json": {
              "model_id": "28b478fcddc744978fa753480e971209",
              "version_major": 2,
              "version_minor": 0
            },
            "text/plain": [
              "Map (num_proc=4):   0%|          | 0/84 [00:00<?, ? examples/s]"
            ]
          },
          "metadata": {},
          "output_type": "display_data"
        }
      ],
      "source": [
        "train = train.map(speech_file_to_array_fn, remove_columns=train.column_names,num_proc=4)\n",
        "\n",
        "test = test.map(speech_file_to_array_fn, remove_columns=test.column_names,num_proc=4)"
      ]
    },
    {
      "cell_type": "code",
      "execution_count": null,
      "metadata": {
        "colab": {
          "base_uri": "https://localhost:8080/",
          "height": 61
        },
        "id": "9rugX8alZUDf",
        "outputId": "5d5e36f3-4c68-4ff5-ccc1-837ab72e907b"
      },
      "outputs": [
        {
          "data": {
            "text/html": [
              "\n",
              "                <audio  controls=\"controls\" autoplay=\"autoplay\">\n",
              "                    <source src=\"data:audio/wav;base64,UklGRo6sAwBXQVZFZm10IBAAAAABAAEAgD4AAAB9AAACABAAZGF0YWqsAwAAAAAAAAAAAAAAAAAAAAAAAAAAAAAAAAAAAAAAAAAAAAAAAAAAAAAAAAAAAAAAAAAAAAAAAAAAAAAAAAAAAAAAAAAAAAAAAAAAAAAAAAAAAAAAAAAAAAAAAAAAAAAAAAAAAAAAAAAAAAAAAAAAAAAAAAAAAAAAAAAAAAAAAAAAAAAAAAAAAAAAAAAAAAAAAAAAAAAAAAAAAAAAAAAAAAAAAAAAAAAAAAAAAAAAAAAAAAAAAAAAAAAAAAAAAAAAAAAAAAAAAAAAAAAAAAAAAAAAAAAAAAAAAAAAAAAAAAAAAAAAAAAAAAAAAAAAAAAAAAAAAAAAAAAAAAAAAAAAAAAAAAAAAAAAAAAAAAAAAAAAAAAAAAAAAAAAAAAAAAAAAAAAAAAAAAAAAAAAAAAAAAAAAAAAAAAAAAAAAAAAAAAAAAAAAAAAAAAAAAAAAAAAAAAAAAAAAAAAAAAAAAAAAAAAAAAAAAAAAAAAAAAAAAAAAAAAAAAAAAAAAAAAAAAAAAAAAAAAAAAAAAAAAAAAAAAAAAAAAAAAAAAAAAAAAAAAAAAAAAAAAAAAAAAAAAAAAAAAAAAAAAAAAAAAAAAAAAAAAAAAAAAAAAAAAAAAAAAAAAAAAAAAAAAAAAAAAAAAAAAAAAAAAAAAAAAAAAAAAAAAAAAAAAAAAAAAAAAAAAAAAAAAAAAAAAAAAAAAAAAAAAAAAAAAAAAAAAAAAAAAAAAAAAAAAAAAAAAAAAAAAAAAAAAAAAAAAAAAAAAAAAAAAAAAAAAAAAAAAAAAAAAAAAAAAAAAAAAAAAAAAAAAAAAAAAAAAAAAAAAAAAAAAAAAAAAAAAAAAAAAAAAAAAAAAAAAAAAAAAAAAAAAAAAAAAAAAAAAAAAAAAAAAAAAAAAAAAAAAAAAAAAAAAAAAAAAAAAAAAAAAAAAAAAAAAAAAAAAAAAAAAAAAAAAAAAAAAAAAAAAAAAAAAAAAAAAAAAAAAAAAAAAAAAAAAAAAAAAAAAAAAAAAAAAAAAAAAAAAAAAAAAAAAAAAAAAAAAAAAAAAAAAAAAAAAAAAAAAAAAAAAAAAAAAAAAAAAAAAAAAAAAAAAAAAAAAAAAAAAAAAAAAAAAAAAAAAAAAAAAAAAAAAAAAAAAAAAAAAAAAAAAAAAAAAAAAAAAAAAAAAAAAAAAAAAAAAAAAAAAAAAAAAAAAAAAAAAAAAAAAAAAAAAAAAAAAAAAAAAAAAAAAAAAAAAAAAAAAAAAAAAAAAAAAAAAAAAAAAAAAAAAAAAAAAAAAAAAAAAAAAAAAAAAAAAAAAAAAAAAAAAAAAAAAAAAAAAAAAAAAAAAAAAAAAAAAAAAAAAAAAAAAAAAAAAAAAAAAAAAAAAAAAAAAAAAAAAAAAAAAAAAAAAAAAAAAAAAAAAAAAAAAAAAAAAAAAAAAAAAAAAAAAAAAAAAAAAAAAAAAAAAAAAAAAAAAAAAAAAAAAAAAAAAAAAAAAAAAAAAAAAAAAAAAAAAAAAAAAAAAAAAAAAAAAAAAAAAAAAAAAAAAAAAAAAAAAAAAAAAAAAAAAAAAAAAAAAAAAAAAAAAAAAAAAAAAAAAAAAAAAAAAAAAAAAAAAAAAAAAAAAAAAAAAAAAAAAAAAAAAAAAAAAAAAAAAAAAAAAAAAAAAAAAAAAAAAAAAAAAAAAAAAAAAAAAAAAAAAAAAAAAAAAAAAAAAAAAAAAAAAAAAAAAAAAAAAAAAAAAAAAAAAAAAAAAAAAAAAAAAAAAAAAAAAAAAAAAAAAAAAAAAAAAAAAAAAAAAAAAAAAAAAAAAAAAAAAAAAAAAAAAAAAAAAAAAAAAAAAAAAAAAAAAAAAAAAAAAAAAAAAAAAAAAAAAAAAAAAAAAAAAAAAAAAAAAAAAAAAAAAAAAAAAAAAAAAAAAAAAAAAAAAAAAAAAAAAAAAAAAAAAAAAAAAAAAAAAAAAAAAAAAAAAAAAAAAAAAAAAAAAAAAAAAAAAAAAAAAAAAAAAAAAAAAAAAAAAAAAAAAAAAAAAAAAAAAAAAAAAAAAAAAAEAAAAAAAAAAAAAAAAAAAAAAAAAAAAAAAAAAAAAAAAA//8AAAAAAAAAAAAAAAAAAAAAAAAAAP//AAAAAAAAAAAAAAAAAAAAAAAAAAAAAAAAAAAAAAEAAQAAAAAAAAAAAAEAAAAAAAAAAAABAAAAAAAAAAAAAAAAAAAAAAAAAAAAAAAAAAAAAAAAAAAAAAAAAP//AAAAAAAAAAAAAAAAAAAAAAAAAAAAAAAAAAAAAAEAAQAAAAAAAAAAAAAAAAAAAAEAAAAAAP//AAAAAAAA//8AAAAAAAAAAAAAAQAAAAAAAAABAAEAAAAAAAAAAAAAAAAAAAAAAAAAAAAAAAAAAAAAAAEAAAAAAAAAAAAAAAAAAAAAAP//AAAAAAAAAAAAAP////8AAAAAAAAAAP//AAAAAAAAAAAAAAAAAAD//wAAAAAAAAAAAAAAAAAAAAAAAAAAAAAAAAEAAAD//wAAAAAAAAAA//8AAAAAAAAAAAAAAAAAAAAAAAAAAAAAAAAAAAAAAAAAAAEAAAAAAAAAAAAAAAEAAAAAAAAAAAAAAAEAAQABAAAAAAAAAAAAAAD//wAAAAAAAAAA//8AAAAAAAAAAAAAAAAAAAAAAAAAAP//AAAAAAAAAAAAAAAAAAAAAAAAAAAAAP////8AAAAAAAAAAP//AAABAAAAAAAAAAEAAQAAAAAAAQAAAAEAAAAAAAAAAQABAAAAAAAAAP7//f///wAAAAD///7//f/+///////+//z//f/+//7//f/+//7//P/6//r//P///wEAAAD9//3///////3//P/9/wAA//8AAAAAAAAAAP////8BAAQABAABAAIAAwADAAEAAAAEAAYABAADAAYABgADAAEAAQAGAAcABAAEAAcABwADAAAAAAACAAIA/////wEAAQD9//j/+/////7/+v/6//v/+f/2//T/9P/2//j/9v/5//3//P/7//z//f///wEAAwAAAP///f/8//z//f/+/////v/9//7///8AAP///v/9//z/+v/8/wAAAAAAAAQACwAMAAcAAgAEAAcADAASABQAEQAMAAUABQAOABEACgAIAA4ADwAKAAUABQAHAAMAAgAHAAgAAAD5//n//f////f/8f/z//L/7//w//H/8P/v/+3/8f/5//r/9f/y//H/8f/x//P/+P/8//r/+/8CAAAA9//0//r/BQALAAkACgALAAcABQAIAA4AEAAPAA4ADwAQAAwACQAFAAIABQAHAAYABAABAAAABwAHAAEAAwAGAAMAAAABAAUACwAMAAoACwAMAAgACAAMAAkABQACAP3/+P/1//X/9P/u/+r/7f/1//j/7//h/+X/8//y/+n/7P/0//P/6f/h/+j/+//9//D/9f8JAA0AAAD1//f/AgAIAAQABQARABUACgAFAAwAEgASABAAFQAhACMAFQAJAAsAFgAgACAAHQAbAA4AAwAJABIAEQANAAwADgAXAB0AEAD9//T//P8IAAQA+f/5//f/7P/u//f/9v/0//T/7//z//z/+//r/9z/3//n/+f/4P/j/+r/7P/v//D/9f///wAA9f/y////AAD+/wAAAgAMABgAEgAAAAEACgAKAAcACwATABkAHQAcABUADwANAA4ACAABAAQADAAPABAAFwAfACAAFgAPABQAFAAPABMAGQAiADAANgAmAA0AAQADAAsADQAPABMACQD5//P/6//V/8b/yv/W/+D/4v/V/8r/x//O/9T/0//Q/9D/1P/e/+7/8f/p/+T/5v/s//X/+f/z//b/DwAgABwAHwAoACUAGQARABMAIgAqABoAGAAwADsAKAAQAAUAAgADAP//BwAgACUAEgABAAAA/v/1/+z/9v8KAAgA+f/2/wYAFwAQAAAA+v/5//z/AwAIAAoAEwATAAYABAAIAAAA7P/Y/9z/9//+/+n/3v/d/8//w//A/8P/zf/N/8j/1P/h/9z/1P/Q/9j/5//o/+H/7P8EAA4ABQD7/wAAAgD5//P//f8FAAMABgAQABoAHAATABIAFAANAAkAEAAYACMAJgAOAAsAJAAqABQABAAUACoAJQAJAA4AJQAYAPD/3//v//D/2v/J/9v/7P/T/7X/tf/F/77/o/+N/4n/mP+i/7T/vv+u/5n/kf+b/5z/j/+F/4//oP+j/6D/lv+O/37/bf9u/3j/d/9l/1//Zf9j/1r/V/9d/1n/T/9S/2X/bP9h/1n/Uv9J/0f/Uf9f/2r/bf90/4v/nf+V/4f/if+a/6L/pP+q/7P/w//K/8b/w//M/9f/3P/p//r/CwAJAAYAFgAaABMADAAeACsAHAAVAB0ANAA0ADUAQgBHAEMAOABAADsAIQASABgAMQAwADAAQQBYAFMAJwANABYAOABBAEIAUABPAEMALgAuADEAIgAPABcAMAApABsAGAAiACAACgACAAwAGgAMAAMADQAKAPT/4f/g/9n/zf/K/9T/4P/c/9n/2f/U/8b/vP/B/9L/4//s/+3/5P/i/+z/7//r/+v/9P/+/wEABAAQABYABwD6//7/BwD9//b/AAASABkAEgAVACQALwAoACkANwAtABYACgAhAEEAPQAzAEIAWAA/AAYA+P8YACcABwD+/x8AKwADANz/6//9/+L/1P/3/xsACADk/+7/BgAAAOr/8v8EAP//9f8CABsADAD2//3/EQATAAAA+f/9//z/+v8AAP//7//g/+r///8AAPn/+v/+//n/9f/2//j/+P/3/wgAGAATAAoAAwADAPj/8f/2//n/+f/3/wUAAwDy/+f/+f8eACcAJgAdAAcA4v/C/9H/8P/y/+f/+f8fACAA/f/q/wcALQAxADQARwBWAEoAKwAdABQAAgD2//n/AgD3/93/x/+7/7T/q/+o/6v/wf/Y/+L/5f/m//D/8v/q//D/CQAdAB8AIQAoACgAEgAKACIAOwA3ACQAJgAzACgACwD8//H/5f/Z/93/6//j/9L/0v/i/+L/2P/V/+b/+v/9/wMADAAUABQAGAAsADcAPQBFAFQASAASAN7/y//j/+3/6f/x/wYADgDq/87/2P/2//r/8v8AABgAHwAAAPn/CgAKAAIACAA3AEMAHgD5////HAAMAPX/9f8BAPn/5P/u//b/4//C/8X/5//q/9L/z//p//n/8f/0/wgAEwAJAAgAHwAmABYABQAIABQABQDw/+n/7P/u/+b/4v/j/+T/4P/g/+v/8//w/+T/3P/l/+//9P/4/wEAHAA1AEUATgA7ABQA7f/i//z/DAAIAP//DwAiABAA5P/H/9T/4//m/+b/6//l/8z/xP/R/+f/4f/Z//H/DwAiABcAFgAhACYALAAwAEAAPwAsACAAJQA3ADEAGAAAAP3//P/p/9b/y//P/8P/tv/E/87/yf+3/7T/yf/P/8r/1P/w//j/7f/x/wgAFAAJAAcAIAAsABwACAAMABgACgD5//v/AwAAAP3/BwAdACEAFwAdAB0AAwDN/6n/wf/j/+7/7f8AABoADgDr/+P/BgAdABMAEwAnAC8ADgDx//P/9f/k/9T/5P/7/+//2v/d/+n/6//s//r/CwANAAkAFAAiACUAKQAsAC8AJQAHAPr/7//z/wMA///y/97/2f/d/9r/0f/I/8v/yP/O/9f/0v/I/8L/1//x//r//P8DAA0AEwAaAB8AHwAYABoAJgApAB4AGAAfACkALgA0ADUAEgDR/6P/pv/I/9j/1//r/w4AHQAEAOT/4//8/w4AHQArADcAMgAgACEAJAAiABYAEQAmAC0AJAAYABMAEwAKAAUA/f/t/9r/z//O/8X/vv/D/8v/yv/H/9T/6//3/wAAFAA0AEIARQBHAD0AJwAVAB8AMgAtABkADgAEAOv/1v/U/9//4f/V/9T/1f/M/8L/yP/V/9X/0v/Y//D//v8OACkAQABXAF4AXgBHACAADgAWACsALAAnADAANAAoAA4AAwAFAAQAAgAFABIAGAAXABcAGAAaABoAGgAZABQAEAALAAIA+P/1//7////3/+//8P/3//X/9P/y/+r/4f/Z/97/5f/l/+r/7//u/+j/5v/r//H/7v/u//j/9v/2/wAACQARAAsADQAWAAgA+P/4/wQACgAAAP3/BwAIAPT/6//z//P/6P/t/w0AKwA4AD0APwAuAAIA5//j//L/BAAVADkARwA/ADkAOgBLAFQAXABpAGsAYQBKADQAGQABAPX/7f/o/9v/zP/C/7r/u//B/8r/1P/d//L/BAACAP7/+////wMACQAPABEACQDx/+j/8v/z/+3/4f/o//T/8P/i/9r/4f/d/9T/z//L/8j/wP/E/9D/0//T/9X/3//f/9b/1v/i//D/8//5/wMACwALAAgADgAiADQAQABLAFcAZABdAEEAIgAQABYAIwAxADQALQAfAAwAAQD3/+n/2//e/+v/8v/z/+n/4f/i/+X/7f/z//v/AwAPABcAGwAdABUADwAKAAoADwAIAP3/+P/3//j/9f/u/+n/5v/o/+//6//j/+H/6P/w/+//5//l/+r/6//l/+H/3v/d/+b/9f8EAA8ADQAIAAMAAQACAAAA+P/0//z/AAAAAAAA/P8FABUAJQAwADQAOAA4ADQALAAiABoADgD+//T/9//5//b/7//w//3/AQD6//X/9v/9/wgACgACAP//BQAIAAAA9f/u//L/9f/1//v/BAAEAPn/+/8GAAsAAADw/+z/7P/m/9v/2v/V/87/1P/c/+b/5P/f/+P/6v/2/wMADgAQAA4AFgAgAB4AEAAGAAoAEwAcACQAKgAuACwAMAA4ADQAKQAnAC8AOAAzACIADgD7//L/9P/+/wUA/v/3//z/AgAEAP7/AAANABkAJAAlACMAHgAVABIAEwAVABkAGQAcABsADwABAPP/6//i/9j/2P/f/+D/2P/W/97/5f/i/9f/0f/M/8j/wv/A/8f/0v/h/+b/5//k/+D/4//k/+n/9v/8//H/4P/Y/+D/8P/7/wYADwAZAB4AGgAXABAAFwApADIALQAfAAsA+v/t/+f/8v/6//r//P8CABEADgAFAAkAFQAiACAAGwAWABIAEAAPAA8ABAD+//j/9P/y//L/9P/1//3/AgANABYACwD9//n/9//s/+D/2v/h/+7/7//n/+H/4P/l/+//+/8AAPz/7//o/+X/6P/m/9v/1f/T/9f/2f/c/9//5v/4/wQAEgAdAB8AHwAhACMAGgAJAPP/7P/z//D/5P/d/+T/5v/h/9//5f/z//f/+f/5//3//v/z//X/+P/4//3//f/1/+X/5f8DACUAMQArACcAMAAxACQAFwAPAAsA+f/w//f//f/z/+H/4f/k/+P/3//n//7/AgD3/+v/6//w/+3/5P/o//D/8f/1//z/BQAAAPH/6f/m//D/9P/9/wgADAAJAAEAAAAFAAkA///z//H/+P/+//H/5P/i//T/BAAAAPn/+P/+/wEAAAD5//j///////7/8//p/+n/+v8TACsAOgAyACgAGgAZACQALgA1ADEAMwA8ADsAJwAIAP7/CgAYABQADgARABcAEgAAAPT/7P/o/+n/9v8FAP3/6f/a/9n/2//P/77/wv/a/+//+P/4//v/AAAAAPn/8/8BABAAFgAVAAwABQD///3//v/3/+n/2//e/+j/6f/o//D///8BAPr/9//8/wQABAACAAcABwAFAAcAEgAdAB4AFAAHAAMABQASACAAIwAbABUAEAAIAP7/9P/0/wAACwAVACIAIwAYAAwADAAdACkAJwAdABoAFQAAAPD/7v/9/wwAFAAUABIADAD3//D//P8CAAAA9//z//z/AAD1//L/AQAWACAADgD0/+j/6//z//f//P8CAP7/8f/i/9//6P/k/+b/9P8FABgAEwAHAPv/7v/q//T/BQAIAAcAAAACAAIA+f/9/wQADwAKAP3//P/3/+3/5P/y/wcAEAAIAPv//P////v//P8LABYAFQAUABMAEgD9/+P/4v/8/xQAHgAhACIAHwAIAPr/BAAiADAAHwAMAP7//v/8//f/+/8FABEADQAJAAoAFwAdAAoA9v/q//X////5//j/AAAMAAgA+P/v//f/+//u/+H/5//3/////f/r/9v/1//T/9z/6f/2/wYACAD9//P/6v/t//T/9/8HABgAGQAHAPf/+v8CAAsABQAMABoAGAAOAAAAAQAFAAUAEAAlADQAKQAIAPD//v8TABUACQD9/wwAHwAVAAIA+/8FAA4ACwAQACsAPgA6ACUAFgAaABoAFwAbACkALgAkABcAFwAkACkAIwAUAAcACQARAA0ABAAAAP7/AgABAAUAFQAWAA0AAwABAAsACQAAAAsAGQAXABEAEQAjADIAMwA1ADoANgAZAAEAAwADAAAA/P8AAAsADwALAA8AFgARAAoAEAAeACAAGgAeACsAOAA/AEYASQA3ACQAHgAiACkAIwAfABkACQD5/+3/8v/2//D/7//6/wQABgAIAPr/8//0//7/GAAkAC4APABPAE8AOQAsACsANQA2ADkASABLADoAJQAoACwAIgATAA0AHAAgABEAAgD9//n/AAAGAAkAEgAOAAgA/f/0//7/DgAXAA4ACAANAA4ABQD9/wAACwAOAA4AFgASAAAA7P/g/+r/9//8/wcAEgAIAPv/9P/4//7/9//x//b/CwAbACMAKAAfABsAIAAqAC4AHwAMAAYACgAQAAsA+P/m/93/4//z//r/9//x/+f/5f/f/9P/yv/L/9///f8GAAQAAAD9/wQAEAAWABwAJAAzAEIANwAbAAkABAANABEAFAAZAAkA7v/Z/9v/3f/S/8f/zP/V/9X/1//S/8r/u/+4/9L/8/8FAAcACgAIAP7/8f/y/wQACQAAAP3//v/7/+b/0v/T/9L/xv/J/9r/5//W/7H/oP+p/8D/xv/I/8//4f/4//f/7f/Z/87/2P/f/+n/7P/p/9z/1//Y/8z/uP+j/53/ov+s/7P/sf+u/6j/rv+4/8D/yf/Z//H//v8DAP3/7//l/+b/9/8EAAcAAAABAAwADgAGAPr/9//2/+v/4v/d/9n/z/++/7L/sP+4/8L/wv/N/97/4//n/+v/7P/t//j/AQABAP3/AAAKAAoA/P/l/9z/6f/2//T/5v/g/97/0P/E/8P/z//Z/9n/1P/V/9r/0v/Q/9T/3v/k/+T/7P/y//P/6v/g/9f/1f/d/+n/5//T/8j/xP/H/9b/2P/Z/9H/y//Z/+H/4P/Z/9r/5v/w//v///8FAAkAAQABAAQABgAOABwAKQAyAC4AHgAMAP7///8HAA8AEgAGAPn/8v/y//b/+//9//n/9f/z//n//f/7//T/9P/+////AAAFAA4AFwAPAAAA8f/o//L/+//+//X/5//i/+T/7//1/+T/2f/e/+7/AAACAAUACwAMAA4AAgD6//v//P8HABUAGQAgACgAIQAKAP3/+//5//L/7f8AABgAGAAIAP3//v/9//D/6f/3/w0AFAAKAP3/+v/9/wUAFAAZABkAFQAbADQASABIADwANwA6AEEAPgA2AC8ALAAzADQANQAxACwAKQAgABcABQD4//b///8FAAQA/P/u/+b/2f/Y/+j/8v/2//b//f/6/+z/3//d/+j/6v/v//n/AgAAAO7/4P/N/8z/3P/x/wAA+//1//7/AgD3/+f/5v/5/w0AFwAmACwAJAAUAAIAAgAFAAcADgAeACYAIAAdACIAIgAdABYAEwASAAkABwAYACkAMQArABwACwADAA4AGgApADgAPwA9ADUAKgAfACAAHQAdACUAHgAOAAIAAQD2/+j/5v/l//D/9//0/+f/1v/P/8j/zv/c/+L/7f/t/+z/6v/p//b/CgAcAB4ACgD1/+//5f/f/+T/6f/u/+X/5//v/+r/6P/n/+z/8v/2////EAAfACAAGwAQABQAHwAlACkAKQAxADAAJAAaABQAEAABAPz///8CAAEA+f/6//n/9//1//L/8P/0////CwAOAAAA/P/z/+//CAAaABgACAAEABMAGAAYAA0ABwANAAsABwAGAAAA+P/2//v//f8GAAwABgAAAPr//v8AAPH/7P/w//H/6//v//L/6//o/+P/6//+//X/2P/K/9X/6f/y/+P/2v/l//L/9P/s//T/+//2/+//7////w4AFwAdACYAKwAqACsAJgAbAA0AAwAAAAIAAgAGABcAIQAbAAsA+f/p/+H/4v/x/wYACgAFAAYABADu/87/zP/b/+v/9//7/wwAHAATAAEA7//c/9X/5f///w8ABwD0/+v/8f/8//n/7//y/wAADQAcACUAJQAZAAIA7P/Z/83/zv/e//L/+//1//L/7v/Z/8b/w//I/8v/1v/m//z/EAAPAAQA/P/4//7/CQAaAC4APgBDAEIAPAAzACoAGAAJAAMABQAEAAEADAAPAAQA9//s/+3/7f/d/8z/zv/h//j/AwAFAP//9f/n/97/5P/8/xIAFAAFAO3/6P/y/+3/5f/W/9P/2//g/+j/6P/p/+n/4//p//L/9v/0/+r/7P/8/wsAEgAIAAAABQAMAA8AFAAgADAAPQA/AEEARQBEAEUARgBJAEcANAAcAAYA/P/0//P//v8IABoAKAAwADkAOgA7AD0AOwA/AEcAPwAnAA4AAwD//+3/0v/H/9T/3v/V/8//1f/d/+L/5//u//H/5//h/+b/6f/m/+H/3f/e/+D/1f/M/9T/4//3//7/8//q/+X/0//I/8f/zv/h/+n/7v/5//z/+v/w//b/DwAyAEgAWQBtAG8AYQBFAEAAaACLAJEAfwBqAFwARQA0AC0AJQAnADsAXQBrAFcAOgApACUAIgAbABkAIgAkABsAGQAeAB8AHwAtAEUATAAmAPL/4v/y/wYAAADr//T//f/z/+j/3f/f/93/5/8AAAoAAAD9/w4AGwAQAPn/6f/2/wMA///z/+f/1v/O/8z/y//O/8b/yf/e//X////5//b//P8LABgAGQAkADcAPwA+AD4ARABMAFMAWQBnAHoAiQCHAGgANwD+/9L/0//1/xsALgA+AF0AYgBTAD4ANQA+ADYAPABPAF4AZQBaAFUASwAzADAARwBSACIA4f/T//f/FgAAAOX/8P/2/+b/1P/R/9T/2v/y/xUALAAVAO3/9P8cAB4AAAD7/xMAJQAYAA0ACwDw/9D/vf+9/8L/s/+//9r/4f/g/9z/6//3/+b/2v/h//b/DwAcABQAAAD1//n/BwASACIAQgBSAFAAYQBuAHAAdgCCAIUAQwDl/7T/tf/H/9D/4v/3//b/1v+7/9f/AQALAAoAJABFAFoAZgBoAG8ATwAAALz/qv/L/9X/wP+2/8z/4f/M/6X/kf+a/6D/wv/5/xMAFAAHAAkA+v/M/6n/rP/V/+//8//p/+H/2f/M/8v/tf+V/6n/8/8rACwAFAAXACQACADc/8L/yP/U/9f/4P/u//f/5//h/+7/7//y//b/AgACAPb/8//6/wsAEQAlAE8AagBxAHUAbgBCAOr/h/9d/3L/nf/H//n/KwA1ABsACwAmAD0AHADg/73/4P8UAAYAy/+i/5L/ff9e/1j/d/+b/7j/4v8TABIA5f/J/8z/2//N/9D/AAA5AEkAIwD7/8r/pP+a/5n/nP+W/7H/7/8TAA4A/P/6/wMABQD7//n/AAAhAEsAQwAWAN3/uP+v/6n/sv/F/9X/5/8AABIAAwDb/8z/6f8CAAkAEgAiACkAEwD8/+//7/8IAC4ARQBKAGAAjwCMAC0Axf+m/9H/CgAXAAAA1P+c/3//ev92/27/fP+s/8//4P/w//b/6P/K/7n/uv+1/7//8f8ZAPj/uf+w/9T/2v+q/4v/mv+p/6//t//N/9z/xP+o/5//pP+v/7n/zf/W/9D/uf+g/6L/uf/S/9L/1//x/wwAEQD7/+//4//P/8z/0//n/+r/4v/f/9n/1v/l/wwAFgD+//v/FwAsABkACAAcADMAKwArAFUAgQB6AGAAgQCPAFoALQA2AEgA5f9I/yL/gP/Q/7v/oP+q/6L/cP94/9//DQDZ/7H/8v9QAEcA+//h//b/7//c/+7/CAACAOn/3f/P/6n/lv+//97/y/+3/8v//f/9/9v/xf+7/7T/tv/a//L/4P/C/7j/uP+m/5b/mP+1/8//1//Y/9j/4f/p/+b/zP+4/8X/4P/w//D/9P/v/9//zP+4/7X/zf/4/xgALAAzAEIATQBKAE8ANAD9/8P/y/8WABwA4P/G/wYASQBBADEAPgAkAKn/VP+X/woAMgAjADoATQAKALT/yv8mADcA/v/a//j/HgAZAPv/0f+W/3P/mP/X//z/9//j/9f/wP+0/73/w/+2/63/vv/W/+b/6f/l/9v/y//M/+j/CgAiAC8AIgD7/9j/1P/k/+T/2P/m/wUADQD7/+v/8P/u/+D/6v8IABgAFQAoAE8AZwBRADMALwANAM//pv/H//f/5f+9/77/6v/v/9X/4f8GACEAIQA/AHgAkACPAKEAywDUAKMAWgAOAMP/n//G/wIAAwDV/7r/s/+M/13/dP+1/8v/uv/O/yMATwAhAOf/0P/X/97/+P8rAEgAPAAmACkAMQAtACkAIgAbABsAJQA3ADgAJgAXAPf/2P/j/xAARABAABkABQAAAP3/8v/x//7/DgAdADgAUABKADcAMQBXAG4ANADS/6P/3/8iABwA/P8CABUA5v+s/7j/5//f/6v/wP8DAAoA3//n/x4AEgDH/73/IABiAEYANQBVAHsAbgBYAE0A8v9s/0b/pv8OABQA6//t//b/x/+d/7H/7/8MAAsALwB1AKIAhgBKABYA+f/8/xUATwBwAE4AGwACABsAKwAGAN//3P/1/xMALABJAF0ASwAeAAEAAgAnAFsAdgCHAIQAfACHAJMAqwCKAC4A7//8/z8AOAD0/9////8AAKv/af+C/7f/yf/R//j/CwDo/8v/3f/q/8b/pP/N/xIAHgD+/+n/8v/7//H/5P/x/wUAJABRAGsAgwCPAJUApACEACYArv92/7X/EgAhAOz/zv/O/7P/fP9z/6b/zv/e/wYAUQBuAEgAJQAcABYABwAZAF0AhwBqADoAGwAaACIAKwA2ADoAVQCFALgAzAC+AMAAvwDBALgAgwBAAA0ACgARAOb/rv+9/+n/5f+0/6H/z//t//H/DgA2ADMACAAGACoAJADx/+L/DwAlAPf/vv+4/77/tv+5/83/2v/O/9r/BAAUAPf/0f/W//H/9v/2/wUALQBdAHkAjACYAJoAdQAVALz/rP/3/04AXAA0AP3/0P+7/8X/6P/8/+f/5/8tAIUApQB+AFoAYwBoAFYAVwCGALAApwB2AFkAXQBdAGQAawBUAAwAz//g/xIAHADs/93/CgAeAAIA5//s/wEA//8NAD8AUgA7AC8ARgBNAB8AAgAvAGYAWQAdAAgADgAAAOn/6P/+//7/5//u//z/5v/K/8n/5v/5/+D/1P/q/wYAFQAQAAUABgAZAC0AQQBHAEgAagCaAMcA3QC5AHIAHQDp/wAAOABnAGwARQAWAN3/sP+r/7f/sv+b/6r/BgBuAIUAYAA3ADEASABoAJYAiwA7APz/CAA3AB0A0//B/+f/8P/T/9T//P8VAAYAFwA+AD0AKAAoAEYALwDy//L/KgBGABQA4v/j/+z/4P/R/9D/y/+y/6//xP/B/6r/ov/F/+n/2f+1/6j/v//S/8z/u/+4/9f/8P/+/wIABQAXADAASwBRADUAGQApAEcASAA1ADYAZwCHAHgAQwDj/4L/Sv9r/8H/3P/P/8z/1P/U/63/pv/R/+//BAD+//L/9P/4//v/0v+k/7f/AgAdAOX/uf/O/+3/0/+v/67/of98/3X/pv+w/3P/Rf9l/5r/i/9w/4P/qP+s/5z/p/+5/7v/vf/W/+j/6f/y/wUADADs/9T/2//x/wAA9v/r/+3/+v8DAOr/tf+U/5r/rP+w/67/qv+m/6D/qP/D/9D/1//u/wkAGwANAAMACgAbADIAQgBVAHUAogDBAKEAMwDP/8f/EgBeADYAw/9x/2D/Zf8v/+7+Av9E/2H/WP9q/6j/sf95/2z/o//f/+n/+P8oACIA3v+1/97/BwDj/6P/lv+s/6H/hv9p/1P/Uv91/7H/xP+z/7X/4P/3/+D/1P/i//n/+//y//j/8P/b/8//zf/M/8P/v//B/8P/zv/c/93/u/+P/4H/if+a/6v/t/+1/5X/dv+A/6L/v//L/9r/CQAxAE4AYgBnAIgArADeAP8AyACFAHcAmQCBAOr/Zv+G//H/BgC8/4P/mP+g/4X/h/+e/5H/b/+b/wYANQD8/8L/1f/1//3/AQAfADcANwBNAGEARgAXAAwAGwAOAOj/7v8KANr/gf9e/4X/pv+I/2r/d/+E/4P/mP+3/77/qP+y/+//IwAtACIAIAATAAsAEgAZABUA/v8IABoABgDh/8b/y//G/7r/0v8AAAgA9v/w/wEAHQAeAD0AWwA6AAIA8f8kAEIAMgA/AIgAuQCTAH0ArwDkALEAMgDy/wYANABPAFgAPQD7/8L/u//K/77/o/+u/+H/CQAbAA4A3f+u/6z/5/8dABoAEAAoAEUANgAFAOj/9P8OACoAPwA4ABAA3f/I/8//1v/V/9X/5v/3//X/5v/X/9X/zf/F/87/5P8RADIAOQAxABIACQAOAAwADgASACgAPwBJAEAALwAdABsAOAAyAOj/m/+d/9f/1v+X/5X/8f8fAOj/tv/g/ysAPABGAH8AqgCSAIAAsgDmAM4AgQBKACMABwARADsANgDt/8D/wv+4/4T/cP+u/9X/xf/G//z/GADX/5b/sf///yIAHwAiACsAMQAvADcANwAiAC8AWgBsAFYAKQAIAO//v/+f/6H/pf+f/6L/sv+1/5//hv+Z/7X/vf/T/wQANQBIAEgAUwBoAGAAYgCCAGwAHADK/8b/9P/Y/6r/v//x/+b/pf+c/8//1/+1/9D/FgAsAAsAGABhAF4AFgANAGYAsQCSAG4AkQC6AK8AbwApAOH/wP8GAGEAXAAEANX/9//x/5j/VP9f/4n/o/+5/9j/zf+T/3n/lP+z/7r/zv8FADsAUQBKADcAGQAMACEAQABIAD8ATwBZAEoALwAcAB8AEQAZAD8AWgBXAD0ASQBWAFcAXQB6AJEATgAAAPb/IwAxAPz/6v8nAGEATQASAPr//f///wUAJwA6ABsABAAMABIA5v+0/8L/8P8DAPz/CAAeAAwA9v/5/w8AFQARADwAdAB/AE8AHQAMAAQA/P/1/wUAHAA1AEkAPwAvABgAEgAgABoAEAANAB0ANwA4ABgA8v/W/87/yP+//83/3v/t//X/7f/1/wAADwAgAB8AMQBHAE4AVwBWAGoAhACMAKQAnQBaAAkA9v8mACsA+//y/zEAUgAOAM//3f/5/9v/vv/o/xcACAD2/w4AEQDj/7v/3P8JAPr/6v8EAB8ABADl/+D/zv+q/6b/1//w/9n/y//i/+r/xv+v/8T/6f/s//f/GQAvADcAJQAhABYADAAkAD4AUwBAACoAGgD+/+X/zf/J/8b/xf/H/8f/zf/D/7T/p/+e/57/o//C/+L/7v/r//H/CAAXAB0AJwAwAAsAy/+//+z/AQDb/8n//P8gAPn/sf+w/9z/3v/D/7j/2f/6/wMABQD2/+z/9f8HAA4AAwALACkANwAmABYAEAD9/9f/yv/c/+f/6v/v//7/9P/P/7//xf/Y/93/4v/3////AwAHAAIA+//5//3/BAAAAPz/CgAFAPr/8v/w////9//3/wIAAAACAP7/AgAHAPj/9P/2//n/AQACAAUADAAWACEAIQAiAC8AMQATAPX/9f8LAAYA5//o//n/8f/I/6j/tf/B/8X/xf/G/8X/vv/J/8n/wP+//9H/4P/Q/9X/7v/w/9r/0v/x//v/3//X//b/EQAMAAkAJQAmAAAA9P8HAB4AFQARAC4AMQAiACAAKAAiAAAA+/8eACgADQAFABIAGQAQAAYAGgApACkALwBAAE0ARgBJAFkAZwBgAFYAXgBgAF0AWgBmAH0AeQBnAGQAYQBGABYABwAcACgAIAAPAA0ACwDw/+f/7v/g/8X/vP/P/9X/w//A/9L/0f/I/9T/7P/w/87/0v/1/wAA8//m//v//f/q/9z/yf/A/7f/wf/X/9L/wf/G/83/z//e//P/CAAOABYALwAuABwAEgAVABsAIQAwADoAJAD9//v/DAD//+r/8f8DAP//7f/t//v/9v/m//D/AQAIAAkAIABDAE0ATwBWAGEAcQByAGYAXwBuAIsAhABjAFkAZQBlAEoAKAAkABUA8f/v/+v/2f/W/+n/BADy/8n/z//l/+b/4//4/yAAHQD///T/7P/b/9T/5P/q/9H/xP/L/9D/tv+G/3//nv+6/8b/v/+y/63/rP+x/7P/sv+3/8D/0f/Z/8r/uf+7/77/tv++/8r/4P/v/+z/7f/k/9n/2v/k/+v/5f/l/+r/4//a/+//AgACAPr/AAAgAC8AJgAQABsAMwA3AEoAVgBgAF4ATABKAE4AUABAADsATQBPAFUAWwBhAFkAQwA7ACoADgAAAAcAEgAOAAoAFAAKAMv/rP/P/+v/6//v/xAAHAABAOv/AAAiABQAEgAoADEAIwAQABwACwDa/8H/zP/S/7P/lv+S/53/iv9y/4b/rP+1/67/v//I/8v/xf/F/+7/+v/t/+3/+v/7//H//f8DAP3/8P///yAAGQABAPD/9P8BAAMACAAcABwAFAAbAAsABQATABoAHgAxAD0ALQAcABoAOgBQAEEAPQBEADoAIgAdAC4ALwAaACkAPAAjAAsA/v8CAAUAAwAVAB8AIwAVABQAFQD0/+z/8//v//b/9f/l/8H/n/+h/6H/k/+M/4r/jv+L/4b/hv96/2D/YP+C/33/cf+D/4//if94/3f/h/+T/4v/mf+x/6//rv/F/+7/+//z//b/+v/3////DQAOABYAJwBDAFcAOQATAP3/6v/g/+3/AwACAAEAGAAnAAwA+P8GACcANQAoAD4AYQBRADEANgBWAEsAQABcAGMATwAuAC0ASgAqAAYAGQAyADkAGAAHABEA/v/s//X/7v/h/+T/1f/L/7b/lP+i/7D/q/+y/7z/uP+t/6r/of+d/5v/rP/G/9D/1f/L/8f/zv/Y/+r/9f8AABsAQgBNAEUAVABXAEgAPQBGAFMAOgAkAC8APAApAAEAAgAVAOv/xP/f//D/4//k/wUAIADm/6j/uf/P/7P/j/+u/9L/u/+g/7L/sf94/3b/qf/Q/8X/qv/R/+P/zP/C/9r/6P/P/93/CgAVAPP/4P/q/+z/8f8CACMAGwDs/93/+/8IAOv/1P/i/wEADQAKAPH/2f/b/+X/BQAAAOT/4//8/xsAFQASACcASwBcAFYAYQBkAEMA/P/l/x0AOgAMANn/9f8yABsAxP+9/wEAJAD6/+n/IAAqABIACQAbAA4Azf/O//f/5/+R/2v/lP+S/3P/Yv9x/2H/Nf9L/2//af9Z/3r/r/+g/3//lP+v/6X/lv+y/9z/xv+6/9T/1v++/6D/uv/e/93/4f8DABsACQAAABAAMwBAAEUAZwCDAJUAfQBjAGYAfQC0AMsAvACiAI4AlQCmAKgApACjAKsA0QDNAHQAAADT/wYACwDP/8f/JwBzABcAqv+6/wAABwDw/ysAdQBkADgAWwB4ACcA8v8sAIMAaQAPAB0AOgD4/6P/of+//6H/k//M//H/r/9m/4f/tP+K/1H/ff/G/8b/rP+2/8//tf+d/87/CgAVABEANwBnAGYATwBZAHsAiACJAJ0AsACyALcAqgB3AD0ALgBVAIEAfwB3AI8AqADFANEAsQCDAH4AyQAOARMBzwB4ACoA0f/A/7v/l/91/33/zP+3/zP/1f7h/hT/Ef8o/3D/wv/a/87/3//f/+D/DAB6ANMA5gDqAOcA5gDXANIA4QDjAOYA/wAhARcB6ACuAH0AXwBQAFoAUQA5AC4AOAAhANv/tf+0/8b/wP/I////IwAXAO//5P/P/5//hP+A/6D/rf+d/5T/c/9c/1r/U/9R/1j/gf+r/6H/kv+Y/7//zf/O//n/LgBjAEkAEAD8/wAAIwD5/7n/tv/8/zwACgDR/9H/+f/o/7D/vP/P/9n/x//P/+j/r/98/4L/pf+u/6b/y/8AAAUA5v/w/w4AKABRAIsAtACrAK4A2gD3AMAAcABvAI0AmQB/AGEAYQBQAC8ABQDS/67/uf/h/+z/2f+q/5X/kP94/2j/Wv9x/5r/rv+x/6X/vP/L/8L/vv+6/9T/3f/q/wYAAADx/+X/AAAkADYARgAWAL3/df+J/83/vv+q/+v/WABYAPD/6v9NAJgAaQAlAC8APwBUAHoAigBJAOv/5P8eACYA3v/S/+v/1P+w/5P/m/92/1L/nf/i/9L/o//E/xYABgC7/7D/4//p/8D/yP/y//3/6//c/97/wv+z/+P/9v/V/6n/tf/e/7z/hf+C/6b/sf+a/5P/mP+U/5H/sf/f/+L/0v/t/zIAYQBVAEsAewC7ANMA1ADyAP8AsgBNAC4AZABmABMADABNAG4AFgCv/8P/8v/1/+//JgBiAFgAUABwAIUAVABHALoAJgEOAZgAaACUAKEAiQBoAGYAZQBPAGAAUwAGAKT/Xv96/5z/hf9c/0T/Zf+H/3z/Yv9r/5T/xv/z/xwANgAhAAwAMABgAFgAKQAfAD4ARAAmACAAGgDq/6r/of/E/7L/gv98/6b/uP+k/6z/yf/M/8H/8P9EAHgAawAyAP7/yf/L//b/CwAOACcAbwB1ACUA4//6/zIAJAAjAEUAZgBcAD0AWQBcADUANgCNAPQA+QDPAN4ADwH0AKIAbQCPALIAagAOAPL/JAA9AOX/iP9z/3v/ZP9Q/4L/zP+1/3D/kf/L/6T/Mf8c/67/EgDn/6P/pf/H/8j/uP/O/+T/0f/j/xQAJgAMANf/0f/Z/9P/4P/s/wEAFQAuAEEAKgAMAAsAOwB5AG0ADgCR/2X/o//A/5f/ef+k/9//r/9s/4T/qv+b/2v/mv8TADgAHAADABIAGwAAAPH/4f/Z/+P/AwACAMf/qv+g/5j/df9v/63/xP/T//D/IAAeAM//v//p/wwA5/+p/63/wv/W/87/o/92/2D/cP96/0n/Fv8J//r+9v7y/vL+2/6n/rT+5f4B//j+Cv9H/3D/i/+m/9j/5v/+/2IAwwDoANcA/ABZAYkBdQEqAdEAiQCLALAAqAB6AHcAuwC0AFgAMgBxAKsAlwCMALcAtwBfADcAaACMAGgASwCXAMkAhAASAN3/4P/D/4n/Yf9g/0v/KP8H/+D+1P6q/oL+dv6B/qb+lv6H/sH+B/8W/+z+9P5e/7D/pv+D/2z/X/9f/2z/mv+e/27/Xv9R/0n/Pv8i/xr/Av8h/4r/tf+L/0n/cf/g/w8AEQA0AJEA4wAhAWABhwGEAUcBBgHqABkBWgExAdMAyQAbAdkA+P98/6z/7f+O/0v/dP9T//L+qf7A/qb+Lf46/rr+9P6Q/h/+Kf4w/vH92f0n/mf+LP7v/R3+Uf4z/ub95f0L/gz+Kf5k/q7+zv7p/hX/K/9O/4P/6/8bAEkAzwBtAfcB3gHXAVYC1QI0A00DogP/A9EDlgO1AxIEMgTjA5gDpAPWA98DpgNlA0sDKgPWAqcCxQKpAi8CqAFYAdwAGAC5/7H/W/+5/pX+sP4h/i79w/wC/dP8N/wV/DT8BvyJ+077SPv4+qf65/p2+5L7H/uk+sD6QPt4+3n7qvsG/EL8XfzT/Kb9F/4w/j7+S/6H/u3+Zv+X/47/ov90/wP/IP8PAIsA0v8H/0D/AwAvANP/oP+2/93/4f/V/0AA/QAUAYAAXAB2AawCygJlAkYCaAKWAi0D9gNiBF4EUwSqBB0FwgX+BTgFFQSZA0QE8wQTBe8E+wQjBcQEVgRnBDIFmgXvBCUE9AMXBIwD+QLwAuECTwJyAS8ByQD//1v/3P5M/mn98fzy/Mb8cvwx/N/7Zvsw+037Vfv7+sf64Prz+ib7lvsB/Ov7nfuU+9j7VPzR/Bj9Kv1g/br9v/12/bj9e/7G/lj+8v1+/nX/7f/e/9H/UQDzAAcB2gAWAacB7wHiAVgCNQODAx0D4wJJAx0D1wF3AFsAJgE8AbgAYQCLAEAARv+T/nD+uf7o/kX/g/83/6n+IP5H/nf+Xf5U/tL+0f8KAJv/j/8OAB8Awf85AGABxwFnAdkBCANjA+EC1QJlA3ADEwN0A2EE1wTXBBUFowWpBVgFdAURBqAGTwbABYUFkQV3BdMEeQR3BGEE3AMzAxcDDQN6Ak4BWwAWACoACwCm/2P/Qf8F/2r+C/5Q/p7+Lv49/UP9CP4W/g/9TPyx/Pb8k/yJ/C/9Ov0H/Cb7ivv5+2v7ofq4+hr7z/pD+hD6KfrJ+TH5VfkN+qz6efpW+sr6KPsm+wP7qfty/ML8Ff26/X/+j/5Q/r3+3//VANoAdgCjAEABZAEEAeMAYgHeAQUCTwLxAowDmgNNA2IDJwTfBPoEMAVXBl4HygYDBuQGyAhICXAIsAiYCYoJagjJB3gI3QiTCNEHyAYnBgUGTAblBW0ECQMfAoYBugAGAAsAof9F/uH82fyy/e/8Qfvi+vr7a/xH+5r6pvrg+RL4LPcQ+IP5Uvrr+fD4+fcR+Lb45/g6+cr5b/pl+qH6dvut+5n7E/xt/eP9S/18/Z7+Wv+b/kP90vy5/er+T/+5/k/+Qf70/Zb+WgBGATX/vfw6/fn+d/90/xoB1AHu/6v+/P+nAScB8gBWApwCDAE2AKwBYAN2A6cCYAJhAwkFwgRiAvUAjgKwBMwDqALJA9cFKgbpBBEFxQVABtIGoQfEBwsGhgREBX8HqAdRBX4DFgQvBYQERQRqBAID1v+3/nkBsQIqANX88Pwy/xH/p/we+hH6xvuP/FP7gPn3+GH5Vvmo+Bb5vvnv+WT50vhk+Vf5afnG+VH6B/pK+IH45vpH/VX96ftI+y371Ptq/TT+xfyF+8T8E/+m/o/8I/yJ/Eb9V/43ACIAJ/2e+1796P9B/xv9ivwH/kv/mv+PACoBsgCz/r7+6gDwAaAB1gGeBS0ITQbFAST/KwL4BjcJSAcqBj8JbQs4CP0EHwlLD0EO5gesBlEK/QsnC/AK9wpzCJ0HdwgvBukARf/+AoEDAwAz/r//8P5j+iX4QPmU+h35pPed+Kn6CfqM9fDyH/ad+4X81/mT91b3nvja+l/8oPkD+Pv6Sf7I/F/6xP2jAI/+nfse/dv/3/+j/8H+1PwW/Hn/TgEO/lX7Yfwa/p37WPqd/GH+Pv15+d33Kfhr+Zz6Dfvj/KD9K/um+Cz6t/8ZBf4IOgw1DXoO2A9UCiIADQIAGN0n3BuZCO4JTxVoEa4Itg8eGrkQuP/t//MJrwmn/t35lfuU+0n6gfeB9Y3zqPQg9X3wdO8d9NX4evWx8IX1CP7V/bv0/vLO/T0Gpf+r98f8GgWfArn6Sv8iB/4Esf56/t4C+v80/qAC3QVMAxz+PP1H/ab+HgFFAJn75vrx/wwBVfsL9an1T/ew+Ib63/nf9mHyNvSI97b3DfRU8fT2Sf2//V32v/RL/WkE5QWKBkEO+hNJE6cNugQjAkwP6CUVKCIQc/+oCfcWlBJpDMkSOBOHAhn7iwXsCln8iPFR/R4E9fZC5w/swvlA9/PvA/OL+u30O+cQ62787wFu+Dzzo/weA7r8A/v2/+8CXQB7AAEHuwNO/Q7+WQThB6sDqwL8ALL9lP9aBKsFN/8o+4L/UwH0+/n3lfly/TP75fXn9f/1gfQt8871oviS87vtge/Y9UX3dfXw9fX2Ufc7+uj/gwAE/woG9xDuEfMOBhNgEwgHbgESGUcwBCOrB38G3hhUGbcO8hNXHmMSEP+oBI0PFgV18r/6kA/tBNLq4ONa88v3GOv+7Fv2hPIv4zLjMPaS+truuOoC9YT7O/TW8u/9TwWfAzIBCAQPAx3+tAIMDUAR/gcWAfAFqAkWCC8C8wS7CfsFlwCM/R3/kvvx9/r6fP/S+rTvve0l8hP3qPJV7yvxoPIY9gTzrvMM9gz75/8M/9sE8QjGCvwLuxURH0wPwvs2BrIrwDb4FqMBVRGPIEYThwkEHtQpIQ5s+8kLIxq+Ac/nWQDDF6sF6+Nc4cf0vO4r6nf2CPzr5QzRnOYx/b71WON150j5BfR96/vxfPqT97Lx+gCvDuEBF/GB88AJixLqBskCDgVfB3UBU/8hC6kNtwbU/xYAAAJJ+bX2zv+8A2v7k+9r71vyV+4g8Uz7mAC39kvvQ/mz/+3+J/7+CIwW8Rf/GekRL/8D/n4cKTwNLRQGOQS1G9AcoRDBGbgrKha89U0CRRwzDcXnmPR8F9MM9OMt2b31nfUB54XtPfr474HUneFQ9+rxuOCg5LT70vT96evu7fkV9vbrqfxdB+j7Ae4q+g0PUQi39tj0yAK4BmYEXAYgCFz/6/QV+1oEbwQo+Fz2Ov3P/Zz44PBe9oP4APwgA0oGWwK79pcBOBHyEYAKZxTYLEMeN/pd+bMlBz+8I5kO2Ry7I4YKBgLIH24uaw7s9zsLjBXq+GfjMv85E3v/Peiv7Ir1IeK14+T8vAPr50zTXexu+4HweOb29En+iupJ59722gLt9Kjthf9lAuP23u57/OMBk/XP+BgFxgJE7KjpIgDIB5PzYeYO9w7+ufAB6Xv3egNr9QLunvYm/5b9lvuiBwoMAgjODBUXIBvNGPIjKSRtCpwCqCE3Sf41UgjJCZMd+h/+D4Ic3C47D7rxKv2YGkoHBeJf9BATtwkw3dnagvQg7XbnGvPKAdbnPMwA6TgFCP2q4irr3QXC+y3rvvEyAur8ofM5BLwNc/xX6vny4QP7AQD5Uffe9oDuLOzF89j0vO9e7TLy6fEV6Mnm3+8K9qP0PvSN9cL2w/s6A9MLfw/lEesXHiKzLoQnDw0TBOEhx0ezQhIfgRN6HsMe6hldJ/ox8BXV+kMKGR1qAuLi//eNEhkE5uRB53bwN9o738n/LQeE3HHFY+1uAILwneFE950F8+/C8dL7Vfxc6wX49hjJCNHxh+tf+GH6EvaOBPYB0u2Z4H7yGPq567noZvLm+dzoHOJZ6cfut+5K8oz/d/x09WbyhgHmDFANvRziJtUnahEJAVURRDBqPfkqjCHGIEUfIBL4GXUyeycnFXILcRi/D37zR/kIDCIUCfZW8DX6+eUB32js4Quu/lLdU+Hc7CjupOLI80IDjPpz7lnugP+78lzvE//oBW0DpPRZ+HH16/Ks+t796f028ZH2+/Yx8F3x0ush9XzzufIc9e/od/Bq9Qr1jfZ3+t0Ct/0C/3EArArZFOAPORgBDAIDSBFIHtso4herElMZcBVWGQIcoCCVF84QbxUUETgL2wToCd4L6AL2Avn9y/IB9kj+xQDo9sLre/ZS+Przn/Vt9Az2wPFQ+bf8Ivg49Iv0Xv639OH6NgBJ9yX3uvMt/3/33fB1973yBvkJ9BH1LfXR6Fr1cPjP7470cfCC+YL5Zuf4/LX+ePj/AiP9pg+CA+37hBi6DvUQTxH7Ca4ZgRULGSkgXRJ8Ff0V5heaH68PRhGfFVoRfBV8CpQIswcRBmkLdwKPAOsCrP21/Jb9wPop+oj4gfuVA6f32O699dr3tPxT/CP2MfiS9ur05/nV+HL3evZi+df7UO4Z7sP3x/Fc8/H1APKF8rfsvPEL9DnuR/TR8CT5DPSq60n8yu4K+DP+MvWdCSr9JwKfBdX8sBGHB3sNCxRUDAUXUgvHDqMY3hkWGs4VwxyMEloSLxn+F8sU9AgCGCwWvQrODVAGoQ7HBTEEPBGXAKr+if7Y/scDI/bB+6L/VfeT+lX6bvsn9kzzpPss+dzx4fag+aj05ve97nDxIvmS8cr4U/FL8JHyj/DU9FzxFvaU70n2c/Ak7sf57O3L+u3zHPdF+VTx5QJa9I/8uwPCAO4A+v+gC8kDrQuhBzsK5hASDfoUoA5SEgoN1xKHFPwTmRUeCjoXyQ9PEvsNEBCCF8QCxhK7C0ANXArE/wwSFQMtBxECVfxQAwX7pwAu/3z+zfV29hD62vZy+Yjzavp99t/xpvcI9EbxtvAT9rD0ifLF9GDwze1389f22PAC7xb25vZj9Jvz8O1Q95f4UvQ0/qPyf/VL/VH3uf1O+67/5wAL/uUElwC5AF0FRAfxCFILDgvCC/sOHgb8Db0SmQoxE0gOHBAtEFwLIRKpCh4Qng3lDcgSQwRiDUsNIwgLCXMIug5JAqED6wdKBNIDsPtLBcUATPr2APP0Hv9g+iXxsgD477j30Pe36538ve2T8Xb1dvCy9Gvpz/NR8wfx7++M7D31vu8g9Sj0CvH4+4b01fOn+0/0BfwU+2H5ZwYi+ZEDVAFJ+6QHb/+dDgX/8gJBDTL95RCwBbIJjgwABQYRvgrVC8EI8gxRDCwOlA1TCB4SrAWSDPUR8QpQD6EEbQoJDQUE1Al+BTUFbQWOABcImvy9ASAB1ffiBTH0MPxr/Aj25/+J8Ej68fRJ9Oz2lvbc9Uvv+/ii7ez5KPEA9eX7Puum/xruLPod9W/wMgPh7lcBF/TY91AAVvbC/zf3DgPa+wMA+QCs/IkErv4vBfb+rwcmBFoB4geHAO4ICgdwB8kH3gjUB2oL0Ae2Bm8QnQXEDiYHcgkMDcMCZBGsAwYHfwg5B84JZgCACjgDFgUABwb/ZgNsAlf6pwTb/8X0ngUw8SMAZQLg8vcEBe+D/zT35/eb/wXvcQR+7B3+O/i88IcEfupoApjyOPa6/ErxQQA476UGQfTq+UsFjewvDBD2/PzIBo700QYv/hUAIQI0Aur/egHSBNz+qQjCAikEAAc6Ay0FswQMAi0GkgseAMUKggMSAgsO7AFVCkUE/QjiBGEEUAsQ/CMQ0wFVAq4M2vtrCk8DUQDnBFUFs/4SA0AFzvf9BuP46P1NA6r1wAOo9wD8pf5I+YP7w/rD/Lv3fgAg+br6Cv1L+Mf92vYT/7D6Zfyc/cf3vgOe9yT/PQKZ9n4D/PrY/Y8C3/n+BHX+MP8jAmn9NgQc/kgF1/1u/2UE9/ovDVf8rgNNCID8zQqN+0UKugKdAUYHo/khDhb70QSrBln9VQzj/dcHS/+AAtsFVP0HCET+QwMUAFoCdwKK/S4Dwf3ABj7+DQAfA7X5agRK/pgA+gC3+4kEhPzA/gkDgvrBAij/sv17A1f5bQFG/gH7yQN4+k//Vf/i/VADc/xlAI8A0fs+BMH/LP4jBGT9XwMn/qb/JgZj+74FLf5N/+EDGfxwBLv7DgIwALj6dgJMAMUB3/u+Aoz+N/7/A/f7fgQb/50BHAN9/IUE/f71AHUC9gITBrX8VQX0BK37cAeQAff/CgeM//QCBwNjAKgCoAKu/9IDmwLL+iAFdv5pAMcEgv3EBUP8cgG9BGH9BQJdAET/nfzdAlb/mf50AT/+mv9z/54BE/0FBiL+wP5lBsn3OQRV/b/9CgMl/IUAlv7oAor7ZwXV/DD58whT9ycDgP7T+vUFVfkFAYABjP3TAOcBcP/m/kcBev8gAe0AOQDw/44CuP3X/psAWf5vBhgA9gCmA7//IQPeAmX/mALdBRb/WQazAJr/4QW//vcFz/7lAl4D3gCJBbr8Sghb/37+xwX0+v8B0P7U/HcCTv8y/ckBJ/w0APYFgfpHBJH/YP7NA436aQMh/nz96gLB+6oAhwE8/bcAVP7x/B0Bl/+3ANP6CP3rALH9uP88/E4AF/01AEH8NfqXAan34AMm/HwAXQOA+PIIivrfBIr+rv1qCVD20glT+oUCzAUo+u8OFvdTCmz/qvpLEHf08Awj/XT8ow98+EwLPPvD/eMK4vrmBBf/NwOXAu38yf7v/6YDBPpjBH7+qv5MBFj20AQ9+xD/ZgQL9nUE7Pnq+7kBqfrKAYr7Rv2k/+r7kf6xAdv6T/3fAOH5bAM0/Cz9xwK6+TQBZfvU/VMBffofAR7+S/1iAUL9XQAxAhX+awLB/1QAYgLO/vEETwGyAfYEmgOpBBYCZQMTBKQCnwDtBZYDnQEkBeoAMgKb/0oFpgNoACICJP1HBBr/awAaApf+0QGZ/Yb9ufvyANT8SP9GANP4LgQu+Vz9nAJv+s8FIfzb+ToADvv+/M3+wP5T/iD8nf1CAIb8//yu/S38pfyr/hX/uPuW/lP98Pza/kf+Ov+k/gsAD/5vAfn/uf8AA/D7gwZAA377gATJ/IADXQd/AD0FFQKXArkDvwUJAi4CQgmr/qkExAM/AFEJiP5sBK8Fmf+GA8T+tAIyBCz/qP9IAa79kgHmAen8JAFN/bj/Tf5W+yX/mv2fAHf9//zz/YH71f7GAM75s//OAub3gAPn+gP9jwP/9GoE4foQ+zIBKfg7AcD8+P+R/Of9wv0f/osFqfgyAwD+Hv1sBOX7Awao+wUD0wIn+zgJp/2aBAEBev+BCPv8cAUSAqMEnAM8/h0FX/8DCCsBOQXVAyD9gwx/+6ME2QK4/MoJnfqfAoMAH/5dANf+1QBN/WMEavwEAt77dP0gBaX5Mwab+EYBKgM795AF4fa1AoMASPkaA+X3UgGW/Sv7NAFT/H//qv2Z/h3/1/1l/VL9GAHe/mgA/P3F+5gCfv2BAWn+gPmdBSP/1AMqAZ/7RwZg/0wDhAJh/9gCdAIHBssBDgLmAkICXgHiAr8DMAEMA3EAUQI0Ao/+IwB7ADMBNQQHAX3/Af2w/Z4GMvrYAhMBs/hJCfn1kwI0ARb3lAh59x0Dcf/Y+6IEpPbAAHz+9P3xAJ375wDD/m37IAC2/XT6fPxh/R4C+vlr/oUAt/pr/gH6igVq/rn+vAIF/boDw/lZB5T//vvGBif3IwXY/hP9OghW/GwDCwQQ/8sE+v94AWwFswCJBf7/VwC9A+//GwWKA6sEWv2TAVEBFgB5CD34Yf7+/5L/PgOa/pj/nPviA8j7bP9UAJf8YwZK++z9u/7q/5L9E/7P/2b8ZwCV+aQDp/tY/o4DavluA077sACT/YD/iv2b+7IHi/MJBIv9R/iRCaP1bgN5AqL6cwJb/GH/EAAqAK4CZAEs/+//gv/VAkEEyAI3AdEE7gTK/OoEav79/tUE4v4kBHIBKwDD++EFPP+OAHwKpPQPC20DVfxzBxn51AWU/PMAegDn/PMB1/qUAyT5vgNj/6n6UwPy9RcE9/wQ/UoEvPpc/8z/6/9b+2QBpQBw/IEBrv2i/pYAx/4P/pIDevxm/AgDYfsFAlT+x/u9Bq7/vPym/939PgVeAWb8NASr/YsClQLR+7YB4fzbAmYA2/5hAtX+uAQX/osEMgIM/vAGC/uRBbMBLv1yCuL6oALKAOD9GwiV+HUFswC/+zUHUvqpBuv8mf0zCR751AIF/a7/WwDA+28FKPqhAEj9l/6V/3L75QRD9zsFjv7/+1cF1PBzCef7dvmzCKXzHgf/+UD7jwGf9bAK6PgA/4EDfPmfBmX3ZwIdBSX+fAbP/RgAE/x4AdUCo/0gBiH/IwLc//b+KgLf/AIEq/y6AWsC0vtaBVz9kQDT/3X+rv86/0EEWvzhA/r7mgJlBGX5jQgg+igKYgHP+5YMwfJiCRv9H/0qB4T4KwvD9j0Ekv0f+HkHifOqByz6E/02BCX4CwO891IB4vze/VABhvx0A7n6YAOi+V/8qAKE+akF/v2wAZX/ifySBIz6+gJ4ARX+VgbFAU0C6wAAAKsC+gJ/AQcCQARCAbQC7f5h/+sC+P0/BLT/+P6SBED6agEJAt74r/++/Gb8kf+c+5kBcP0J/GIAvPpzAaf/hgCuAnb9nwA8/l0COQAdAxEDaf42Bw0C/wCuAUcET/9z/U4DeP3DAYv/uP+2/e3+Evyf/bABIPjjBln1nv+bBeDzMQsU9n0DcAEq9zsL3/ZdBD3+EP7yBQn7PwYAAWIA1QQHAZf+QQhl//4CMwhT+cQKGv1bAE0NNf2TBZMCf/0NARIAk/oqBK//G/wxBn34CwB6/Wb6KAH+/cUAVfoQAPP+3v1xAYP6Of8FA0MA0AHJ/2f9zP80/2kD7QGxAbX/xgS2AO76GwhZ9toImAXB+toK8fYzC8H7iAGoBw361wi28b0LjPpu/NkH0/GMCjr1qgTa+wL6bwZx9UsIU/cvByf/pvwmCMD14wY3+5MH7gbx+UUDxfqrAw0HLgPzBIED2QF7B0b8WQc3Bmv8lAzy98cGnv+8/loHsfRLDA32pAK5AZv0bQrY8QQFqP7O+EIELvj3Aqn6iQEl/i/6jAT4+QsC2gFB/04DTPuqBUoA2fwYCvn97AdNApX+iwr9+ygJh/6CAHQInPgDC0r+l/4aB+P5mQYaBeD96fwx+rYAHP+p+xb7pvmOBHf98PsAAGD6jQWF/EQCov/P+ooKH/0cBUoCGv/wBp3/2QNeApoD+wBvBY0DRv9sA5n+2gHjAB8D1/4c+7j/ff41/M/+lwAb+hv/ufym/db9BP3h/vb6iAEr+XkACv+1/8YHI/mFAlL+twBOA6ICOAOJ+nAG5fwlBHkF1v4jC+gAsgLJA6IChwQYBZUCz/96A9T9pP/zAUEA7P8KAdD+u/6K//n8qQAO/p3+hQEd/+D7hgFl+iz9qQPs9yAKSvqx/a8HZ/TDBhH7fAPtArT9bwZE+lEIbfxr/xYDxAD7Anj9KQPa+YAFTv0z/8UAVvocBdD4ZQL2+nz9ofzw++MCbvS3BAX5vP99/2X4RAZM+BkFqv4EAHYBlvvSBDf9HwX+/1oAbgPKAW4AU/5KBboAdQPK/98AqgKzAa0BfQPzBUv8gAV+/lQCzgQH/JkI3fxrAir/4/scBvb+NARL/YkCmgB7+rUFL/xlA4EEWfubBbP8Df36AtH8QQV9/mT/qwHn/GEB0vn0BXv/Af0XB5j5YQSk/xn+YgRB/ewA0f3i/gf/iP3y/EUA1f5t/Z3/Yfsw/4j6t/2z/fr9yP6P+K4C7/jC/tX/ivi6BKj5ZwD/ANP6SQGw/qUA+/wZASgAKwGfBeD9JQOPA9sA8gJ8AVYE+wSsAK4COwXv/woFSwVA/1UGfQHT/78F7vy2/yEEPv+fBEIDd/4RAxsB8/7oA6wBg/+JA8f/bf/BA5n/twCkAQr+jADYAD//Ef46/6X+6P36AA/9Hf57/Zz71f42+xX+Kv+3++P7/v5K+236uv+g94QABP/J+IcBmPhS/yX+Hvuq/2D6ZgDb/dcAI/6o+wwCLvwsAXIAef7vAA4BewJw/+UDbAKgAt8F0P/NAwEDzwClBU7/YQOhBc3+pgOgAdYCfwR0AlQCvP+qA8sAOwN9Ac38EwVAAB4AZQFd/0ICPP8xADP/c/4sAD7/D/9z/pz/+v83AMAB9v8A/eX+yv/g/Yn+VP6L/sH+XPwh/kL/y/1eAaP+jP4aAez8CQHYADoBeQJEAEcCKv+UAbgBKwEkAeP+uP81/h0BtPxk/on/kvwIATn7f/8z/2T7mv+//C7+9Pxa/s7//f58/2v9l/6G/bL9yv4O/wv+ZP27/qL8Xv1u/yn9BvxZ/hb+2f68/8n9hP9/AdABLwHxAZkC2wKRA5UEIgZ6BAcFCwafBlgFHgTZBscGcwaHBaMGpwXHA+AD3AH8BMADwgFiA+IBMwCN/1sB+v8c/6f+i/yE/Zn7JPl3/Fn7J/jr+ev1V/f09zf0DPjo8pryHvW38lH3ZPVl8yn10fTH9kv3RPfm+ez6Cf2l/kv9sP97AB8DvwQfBX4IUAhhDAQL0AovDFAIUw0eDUwN3gzkCmYONQ07DaUJBApeCbYGKgoiB7MHDAWSA/kFfwMYBEUBaAHXAe0ASgBpAHwCrv78/gv+qf5hABT9N/52/rX+6vzB/S38Y/q3/VT6CP03+xP4+PmO9dv2ofZ49eD1NfQr8rLw+fHd8UXzkvLP8a7yxvIF9Zf2XPd99zT6T/wt/toAiQPNB+UIdwtlDLYLugzeDLMODBFmEx0TqBM/E84SshN8DwAQKRHiDpYNLwoZCTQIzgXmBUEFSgLQAe4BkQKHAwIAgf77/Y/9sf8n/979g/w0/Pr8dfxF+z36Efvs+lL5TvgO+Cr2oPQE9Z/zxvQJ82zxPvOt7wfxsPHo8Hvyu+7O7yDxr/CD8Vby2PTd9MX2Avgd+k79sv7NA7IHIAzMDogMnAthC30PqRWVFTYUwRQtFr8ZwxgaFA0SXhEIEnoRqA3VCXQI9wcuB6MDDgHyAWIC+wOyAVX/Q/7w+2T+Wv56/aT9sfzo/Yv+df3v+2f7o/pU+wn68Pg++ZL1KvW883jxbfCW7Z7tUO2J7CnrauoW6nDpJ+oH6tzqhupP6wnuCO9b8Afzbvdg+yH+0wBJBpkM3hGiFs8VBBLlD3cUUx3qH9kcuxjyGaIeAh+VGmgTQA9lD90P0w3vB3sBnv7u//cBMf+S+WL5t/3gAD/+0Pch9+75qvuH/fL9wf3u/o0APQFRADD9yPzd/mv9OPvi+VX5ivjx9ZHzdfHI70ju8+xf6+foIuhQ6CrnVOZ55QPlM+Yd58TpnexX7uHwG/Lz9bT7/AAfB7MMwxQDGiwX9xGpEKMX6x8sIuAgxx3fHCYfjh8PHfsXtxNXEykSTg5WCZEE5AFgAZUBYf8O/Z/9WP7f/WT6TPii+sP62fly+kH7J/ym/EL+jv9W/t783P0Y/6X81Pis+PH6o/r79pTyqvAI8Z/xnPCa7d/qOel/6ZXoQuYQ5LLiseYx6pDqs+re6wXwvPMq9+/6PwDCBVAMaRUyGLwVBRNbFc4d+yFoIogi0iDoH5MfCh75G5oXNBQJEwsPCQkABEMCyACV/jH77vbi9p33EflC+TT2+vQ29kf5ifom+m35qfunAW0DLwH1/3MBmgPBA50A7v77/03/dv7Y+kz1bfF+8XDz4PC17AzpSuh358PkoeRx4wXjFuT65CTnMelm687uzPLG9gH9SQNWCeQRYxdXGD8W2xXaHf8k+SbxJwolhiOLI0AhMh9PG/kXbBXDEAwJUwPfA8YBk/6M+3X2KPXB9Av2cvge9c3xF/TC98D4Qfgg+kX9Qf/8/yX/RwALAkYC2QOkAbD8pvyq/kb/2fzv9uTz8fMb8i3vx+vs6a3qxer+6D3mq+M04yHm1uh/6WXqIeyS73XzT/av+joBTglGE9gZrRoTFxETcBqnJLsmGydUI+YgPyIbHrsaGhkYFd8S2g/KCDgCLQCKAB8ALPyQ9cr00vdU9zb3Hvag9Br4yfkJ+gb7Ovqi/h4DKgLfAL//wwI7BmAFeAM6AAL/TwD6/zj9fvjT9X32pPTw7/PsF+3R7cnqAehT6Nbnnebg5VfmSOZv5+DsrPE58/jz3/ec/0wGZg0HFqgaRBpTFU0WVCAVJCglfyXlIGMfUh2TGNcVzBF+Do0P7QviA5v/Pv06/TH8b/cs9Tj3TfjZ98b37PVu+GH8e/z5/f38p/3cAkoDOgJYAxgEoAbMBWoBnP++/ikBgQJL/5H6j/YC9zf2C/J87U/s0e1L69TnUOeR51HmKOaV55HnqeWP5yLuLvFZ8wL3Uf0RBLsI6hH0GpYeChs8FroZcCCxJDkn2SW+HyodUBvCF0MUeA5RDEMKYAQJ/bf4APkL+hH6nfQ38Sr0zvaK97v2H/da+tX8Bf34/gL/2wA/BvEGVgYKBSkG4Aj3CCAHLQMjAUn/+v4eACf9UfgI9iX0SfCt7FDqjOoB6Dzlx+XI40nil+O/5hnl4OI96AnuhvDj8E/2x//9BUoL/RQlH8YgiRyWGGAbhSE9JlcqCyfZH9obthrBGDwURA84C68HcgAI+SP3Ivll+2P5h/Jt70vzdvXT9bb2L/iv+lb8D/7v/bT80P9HBtsG5ALbAroFwQm8CWMG2ANXAOD+pgE/A+77Y/Q49aT3k/Sx6ifmdOhe6cnpzOYe4cbdjODr5XLm0eUm6JjsbO/W8YT45f4+BHMMOBiTIoUi2RtaGDYbaiKLKEUqJSW1HNoY1Bh2GDkVQBC7DCoIhQCe+WL46vr1+3r5y/T280H1LvOj8jj3J/sx/Jj9Ff4e/j/94/5jBKMFfwbBByQI8gdxBSEGCQWXAT0AhQDj/lX15O/A9LP2ke765WjlsuY65TbiLeJz4TXeGOLB58LlkOHq5MrusfQL9zr8oAMxCVsN6RlaJXkhexvoGkwiwyi5JIIi2h53G/Md1B3uF/MMywekCUoIogG8+wn6EvdH9JrzkfNI84vzjPUs+KP5bPe4+IH9FgFVBCUC5/+9AUwFYQnoCbALHw9ZDekGBAKeAjgDuwAp/Qj5TPdT9ozx0OoN5ZzjrueX6PniyN0A2wbeQOVx5jjjyeE55oTuu/Ln9Fv7CwiXE0QcjSQwIqQZMBSHGVEq3SzFIsscOBxmIAMcLxGbC3MLgQxICOb/cfeB9UX4IPoT+Z3yDe8l8ub2Wvg/+Ib5q/vdADQDyALQALL//gc+DoULjQatBWUM8g47CpIHfAWkAnb/VPzT987uf+vO7mXtk+US3mff9+EX3xXfueS/5zblZeNr483lBuqo8kX8hv4lArAMOhhkHmEmIDFmLmMcDQ3zF8oqpSjBHpccHR/fFf8DvP0PAkwAG/fb9Sj2/vH87+bwNvPN7O/lBuxs8yH1j/rkBcQIbQAV+0oC+Qz/DJ8MDRGQDvEI9Ak9EXoShAjgAYQDYQXTAs/8Nfac7sHsFvC56qnfdtsJ4rPnu+J73kjhp+Tz46HliOpN6V3ove4w+gQC/AEUB8MTayAyLpU6QzT3FhkBbRGtOqxH3yjrC+cI0grkAcD7eAmYE/7/YOjO4nvif96S4lH24wGJ8rfeSeGP7gr5UAW/CzwHVwB/B4EVtBCTBI8MCh8aHCwMUgrpEPwLCP7F/3kKnAS79Mvw+PMK70Lmr+H648viCeHV4tXd0thd28Tll+p750vo8elh6+LvF/vUAqUC1QctGfkopysoMdwy3x/IB+gQ/jyvTO8ml/9/AmMR9QiwARAOzw9z7VjRUOEo+TXwu+CD7pb9fu0L1OzbTPlwBxYJsglwBLD3Y/vTEmohNxgTC58Nyg3PBxkKyhWqGFUKcf0s+uz5hPS98yn36/Or7CvjPt9A4ADjLeVR5Bbha9743n7gC+hQ79Hvae3c8R76Jf3LAzENthqJIEAmWjmYNMQQdvnzHPpX7FabFyjqK/3jGLgYvRHqDjv9PdmH1ZX5mAdT50vWCfP5AgjliMlA4asHTwt1ACkD0v3l7i383SMWMmkO3vSzBCwWxRGvC00YOhVm+j7tBPl3AiT51PLR8qHtit+h2Univua254vp7eS/18jVZOFm8fr5Y/Iz7W7q0+9s/vkHugsRE80gHCZwLjkydiGYCWILkj91YnE2IvHG62QZXis8GWEHjgCk57PRDO7+DD32t9ML4wcESfNOydXU9wRODi33TfYuBNb31/LFFq83sR+e7vP0WRoGH+QM/QsXFOsB8utk80kH/gPn8srv8e1e4E3ZCOeF9OXuBeLr3b3dLd4k5v/zKvuL8Dbmmecd86kAFgVbCeYPEBoiIJcqoDjmKggMDwO+MaZgTkFz/U7qEBF1J0MX+Qi0A3/v49Ue5wsHnvno2X7h5/4G9BDO9tDD/GENzPmO8s33nfMK+FEXZS8hFtPt8vXcF/4cGw+FEKcWsANa7Wb28QtvB7Ly8O5b8xXpc9tq4cjxufTt6IveRNqj3LrpEvlI/MnrbuEk64v5KQLaAPYGhw9vE1Ub2i3fPqoncAG3Abs2PmEaO+T6lexsEEMnAhwGD0MBHesF2abuKQkG9s7cN+Uj/GLuHM9m2rj+aANQ8Ifytfx59iz2qRX1LeMSwu4B+S0cih+CEvQVWBYSAY/sRfy9ECcHbvSm8A7xQeB82unq4/dg72PcsNsh3RrdF+eI9En6CuvF4bLru/khAn0EjQu1EFEUzRurMCRAaCeNBCsHLjyxX/E1VvhM74IVRiitG5MM2vvI5W3ZYPO4Bb7qB9Qm5CH5DeOjy9ji4AQo/sbknO+t/YbzHfe+F/kpugd75xz/OiPGH3QP8hNqFDj/gfI0BLwSOgQ/9db4J/Ot3s/d5/Q7ACXqEtiJ3jHlWOX256D42/x76g7kCvHoAgUHGAiwEC4VqRUdHwM7TUEoHaz/gBVeS6hUkx4p8a38DBwyI1gYcgdR80Xf4uE6/+gC+eMi2NDpnPE04eDYFu+HAXz1PO9u+yj3KuzI/vUhwySZ/ILmpwEuG3AYJhPfEUkCuu4D9MkKrQ1R9hPtofSZ7AHef+LB9If1HOZZ4FLkR+Tv4FrykwaH/bzpHeS9+aEPGxP+E6oRYBM8HI4zZ0hsM0gLOAGgLcdawUOyBiTqzwPKIf4jNRW2/Ffhf9Hj6RAJZfoO2kzV9OlV7OfbyeKR+Lv49+1S+ZQECfS06x8NoTGtHwfyEe9NDfIaQRlyGngTX/Y25Rz75BHGBp/tDupX653eb9w67GL2/Oe21y7bxeMv5L3pUvmS++Hwnugw8kQElw0yFuUXghfjGUsrGkZPQGcf1waGILtTgFS2H/rxHP2FII8rWRqFApLtPdex3oz6Pv+B6DzTxdsq59Hek9x46vHx1O3k8KD2du+t64oEKCbxHhj3duyHA4IXKxtCFrAPc/or7MP6QQx8Bk/x7+s663PhTN0q6Rf3Duxo3JbbwuKN5RXoY/dH/7z1r+fV7nsEzhKTGZIWTBi+GD8mqERlQ6wgZQKUGyVVWVeWG93u0//TIQ8qKhpKB7jyktfF32ADFwkh6y/SHtz/7o7rP+OZ6KXtnu4f+O79EvJg7e0CYR9WHb39i/PEABgNZheEHIkUQfdb5pD35Q+7DNDwBuR24iDi5OUn7X3wx+Am1YXbGeen5Rffoer4+fn5gO1r7+z/+g75FjMZICDgHjoplELoP1odVwQfJ3FdGFKtEHDx+Qv+JEoiHxabDWry2tGg4BsIAAhE4MzOT+Jl753jpN1i61HvX+ux8sX6jfBo6zYFniDoGCX4ovNICKkTBRdFGaIWYv5P7Nn5WREWER31IeXS5PLoU+028M3voOI22T/ejehG5qnf2Og0+CP7/+5X7aT7kQ1NFQgXjBzlHX0s7DvIMx0YagubMlpZAkLgB4T2cRPmJ+khJRWvDLvsWNJ66r0OGwlH397RVudE72niLeOL8yzxDujb7m35K/Ko7NYEZB78Exr1ZfG+AQwMohEvFncRrfcJ5+bz4Ai7BwTzwuaV44Pmlets7yntDeRK4HHl++qU5mzmwO/w+i39b/T880L/UhEyGtQcZR4LIrEy5DWHJ3YUchlrQM9OGysi/zL+lhjdJDEcCxBuA6fj8dgR9xQOBP2n2SvZDO947t3gSOe39qHzEOwC8678t/c09oALhx59ELf35vemB8wSoxKMELEJyvch7vD3GwZDADztAeGB4jzpj+nn5/XkT+JB4HPjJuc75KPkZ+se+vj+BPeH9Pj+LhIZHGohSiSlKkA0eC55IFoWGSY4RO1BXx0cAToImRh/GecQKQt0/HrgsN9e/PoFveuK09/eDPL76Q/fz+ol98nwP+th+ZECzPq8+a8MCBw+DMD7ugPeEWITIg1gDmcLrP2+83/7QwT9+OjowOKh5w3qO+cl5szkI+Ge3DnhyOY16BLpVO0p+DT7pfhw+mAGpxWFHNcg6ScyNEg4HyyUHIAbIDBsQbw1jRdoCKgPxBbBEuoO2wwH+4XiXOK99nv3jeBf2cntxff644baUuiW8DTql+4HBt8IFPZh9fgNdBiGBv8APxAEFw4MBgr3FBsOSvi+8ukBwwNo813pVupF6ADfVOD+5y3n1t8w4LfmG+TP4KXlRvIk+n/55PtvAkAM5BVYIO8oqDEQOk03rCgMGFcfODvJRnox7hQ7DwEU4w+tCVgRqxKd+PTgguej9Rzo59cQ5qD5z+1Z13nfCe8Y6hjnQv61DjP5ieiY/YwWGA5OAuMPvRYABTL8FxDUFqIAEfRvAD4EYe7R4xLtf+3C4ELhse4+6nXaK9tv66TtveMV6Lr1S/uN+VP+6wPTBNAL3x1tLdwtBi6/MnAsMRf8DncmcD8oObMcHQ7/DsYKhAP6CJwU2AdE7LbkFPFS8HffMuGX8lz0oeXa5WzzN+8G5FvxBwtRCIj1z/u/EF4PYQCZB6gWdA5CAJ8Kihi7Ccr0+/fpAg358uss8Rv1aueA2xHmfPAi6Dff1uWe7qPoDeTR6gny+fJr8zb6gP95ApsIDxPVGiAbFx65ImIfRxYzF68myS4sI4wULxaIH9gerhkOGycXxgGS8m/+PwwrArzxOvKG9u3tHOr196j9ie2m5PbzD/6N8mHw7AIjCkP6qvRUBhMMAvzQ+KQK7g7K/RP3IAHT//XvD+/r+//3uuP93unuN/Qg6ajkDOoh6E3iqOja8FPt3OZw7nj+jwJs/tcCiQ+pFQYXEh7RIBwW/A4DHVkuNCpjGXMVMCBZJTYhTCBIG/MER/VeA+QVRwxe9tLzQ/qU9KvuIPpM/zbsI+I+9P0DbPVd56n25gNs+KDw7AGiCgj6I/M3BV0P2v0N9VIEVQqH+urwbfpo/OXvme3A+nz7OetN6Njx1O9k6Dnuyvb+8P/oS/K3AQkBAvlg/mcM8BIsGJch0x6iC7cDHBgCKtoiQxVpFeIcuht8GRge7hco/cjuJgMqFewFzu3s7Rr5FPUk71L4ffoH6HzgZPQ7A7f12Ogt9icE/fu09fkBRQeN+935WAyzEgkBBfjGAxwKbf4u9w36//gJ8kzyc/y99ubln+X88kD0kOrK61nuS+yh7BL3rwIJ/hL5OQBGDoUVJBowJIQgQw94Ci8gEzDaIrQTYRc7JHsjTBqgG/AZ8wLQ8BsAxRLgBP7qV+rR9/b0ouqb8Q74cueH3UDvOgCr9HPm3fPEAo762fFz/tsGbvu599AHDRAWAJf2/AHmBtj60/Kq9n/4nfNm80r7i/Zq5knlQvMG937um+2q77rul+7w9aEAxQBr/68EDhBpGEwd5yM4HyYRug0mIRUwayQEFF0Srx5zI8IbIBeEEV0AGfTmAs4T7gVS60voYfie+VTu0/GU913qsOCr8UcFZ/p86J/xcwI3/jb09f59CEH+KvjBBhcSDAFW8m37xQOZ+yvwwfFu9ZHxeO5H9J/1H+fd4UbuSfWe7rrnc+qL8OT0jflY/vH/0f82BeYRjB4eJronOx94D90NAyPCMNAkPhVgFp8h9CNyG1EW8A/k/CLySQNMFPMCleRO4gH1jPjd69fravDt5R7gafJ5Bg/7sOc28CkCIAAH95gAdQobBF0AHQ2FFVkEwvZHAFkJMQEx9Qj03PVQ9D/zKPdL9PflHuI47fjzbu015/XpL++H8oP2m/ux+w78ZAThEWwcxB9pIa4eFxTrEKIhFC9sIroQ0BPCJaIr+x9IFgkOJP2f8yIFcxfcBsPmzeHD9c/5YO6Z8J30c+dO3uHy6wjI/FboBPEeBfr+FvIl/fkJ+wHv+EwHvhLDAi/1yP3YBXn6oO7O8T/3W/SM7kXwVO4u5KXlsfGC9QXtX+hz7jH0FvdI+yUBiwLbAVMJUxWXHhUjmiccJ/QXyA72HKouTinIFWkRpR3vI1kabRI3D8MAP/R4/WYNtARz6eHhAPKE+dHv1ezN8L3nUt/M7jsEX/7k6u3u7/6s/dT1nf0fCaMBOvknBr4RhgNg9Ef/zAj5/CzwV/I8+an0Zu+L8tLxZOfA40XwH/Yo7W3nZu4f99X3+/hH+1T7bf/1CuUWRhj5FGgdVikNIRUPyhMDKRcraxjdD4QcRSdAHx4YHRiPCqb0x/XQD7AUkvdk5HXwsfyX8T/rv/WY9K7jJ+OV+/MBJe2Y6AP7OQF28k7x5gK0BEb3k/lICvwFOvIQ9McBmv3O7KnsCvpO+OTsMexP8lzt1uT/64H2V/JF57Lp4/TE9xv4wPw/AUIAcAGiDW0ZvxmbGOUkHS5EHxwMvREbKc4sMxhXD6MchCXSGzYVWBZuBwPwhfLsDLoN4e3h4IbyevvP7ADpoPZ78dHfa+j4BN4EhOpL6soC7wfm9u/2ggj7BmT76wPYE4oLQfee+kUJRAPs8G3vYvtD+qrvXu528cvr/+T56U/wRut14zflLe3T8BXwN/Ml+av6P/w0BIgOWBMBFtof5yeIHl0L/AxLJjQw/hyZDdwaCyv7IoQXfxjyEZX72PWwDAwUwvjt46XwJf688tfqm/SJ8yvia+Qm/6YF7O6s59b7IgPp8tTwRgTUCB77of0sDhAKZfWW9rAK6Ah38sHsZ/rG+2bvBe/29d3wGuZy6Wz0/e8K5fDnxPKU9L7vRPJl+OH6i/0KBrEPfxA6EeocJyp1Jr4RhAjMGqMvDCltFKQS6B8eI00cJhzIGBoBrO2s/V0XOAy47OPnE/hA+HTrTe+n9x3sKuLl8goFzfjl6Sb2ngJq9/Ltav4WC8D+hPjzB+wO+/wh9eQETges86bqwPgl/gvvcumE8mTyA+VU42rwgfGA5QfhiOn/777vDfQc+MP1y/aiARwNxQ4RDjUY3Sn/Lc0bLAohERcpRTMjI0MTLhpOJU0j4yB8H6QNTvQ99kARnxbC+Fzjoe9a/Xf2qO8N8V/qjeAi7DUCpf6C6lrrY/wH/ZDxT/a9AxYCGvzBBeMO0gEk9X8A5QvG/3LvIvN5+1z1qO9K8xPyJuZq4f/tkfS86AjeO+Sb8NPyovAQ8DbxePZb/hIHZQjQBqsPTh8CLBQnCxOHCckYwTCLMHoaFw5kGksrSidEHlUXPQU79vr9LhM9EAD0fOd49E7+gfSR76DzFuwp5l3y5wIf+5joePBsAzwCsvP59eMEYAXyAEMG9AqlAYn6HAVeCCn6ve4R82L6qvU18NbtzefA4Wrlke857IPgst/D6MftO+o96s3tt/ID+03/pv/5/3MH4BZEIuEmYSX0G6YQxxfWL2kzPx26DZAYAi03LLQesRWMCfj7+P5eEjMS8vV95CnwjP8x+NTtkO9P7LXoFvHs/mH71Opp8WkG0QXF8s/y9QcKDckD0gK4CUYJwQIJBxgJ/Pwl87b3AAC5+fjunewy6jzl0OVH7MjpCeAO4Enno+l95mrpaO/S7njxMvoEAUYCJgXoETIdCyGQJTcnrxp7EMMh3DTHK5kWNBOtJeQu6iNuGdcRDwNX+tgIShSiAbbpGewL/GP5X+yw7bPx7+mA5433FwEy8rXpTPvcBjz6RPRfA1wL4gJ5ASUNJBC/BGECwwu9CHb6Z/idAFf90/KE8S/y3Okx4k7nkezR5PPdk+Pa6NjjN+LL6Sjto+sV8Vn7iv6H/qQGfxO5GRYdniWeIkcRrxFxKbA0cyOjEyEcXSs3KQQdtBkfEvf+3v2sEWYU/vkg5mjwy/zZ9GzubvNs7pHil+uiAKL8C+h57DgDYQRy9Iz4SgrLCUsBWgdjEiYMdQCcCiMUiQVP9+X8owQG+x/xsfNF8kXnK+MQ7IjriN+X38fo6eeY3h/hHO2S7iXrK/Eu+yP+DQDXC78XJxphHp4j7hq0EBUcmi41K3oZGBRJIh8sKCGeGDcWLAh9+5oEJxPaBDfp++Ym+Bb7T+0I7HTv+uUd447yjv6x8Y7mAfYKBJX7p/NEAeYMggRrAL4MExL9BlAFUhF9DuH8NPjiAhUEYPfE8VX0w+8s5zLoP+0b5hLelOPx6SnmouFh6Mns7emv77T5lf3o+0cDgBPBGeIbMCAUHcwRUxMjKEwvkB3CDwoblyt4JUEYThYzD0H+If19DZcL2+/K4n7zjv178ADoGe5p6pTh0+vo+gP1G+VC7DIBggDk8zH6ownlBtoB9wtrEVcGpgAPD+kSjwFG91X/HAWz+E3xUPRo8H/mJOaq8C3q89sE39jpQOxU5OXjZOkm7PnxjvqL/zP9KQItEbkb6SAxIzQeQhLuE/soBzFqIOsSwBiUJgIoxR/eGocNyfsv+0EM/g5g9Prk++6z+UTz8+mI7s3p+uJw6/X25vZ46mftSv6PAvj4yPebBN4HNwWJCVwNPwgBA28Kuw66BOD6yvzY/3n5NvNY8pPvQOiR6DPuu+je33nhH+rv7PzlEeSe7V71dPcW+pn9t//CBXsTJx7zI8AkoxtpE8wZ+iqDLZIephRSGNEksihWIDoWTAg0+XD75wv5CbnyoOO47Cn5OPOU647rPum35BjpaPUp9lDt7+7l/YgFTfsc9koC1gyyCYYFLwntCecFyQiBDMYFsvuY+AP8RPud9OXuBuwX6+Pqt+sI5wTikuT56B7sMecM5xnxTff++/H82P9EBHsLDhogIPsl8iW7GNQTBh8kMMgpuxfjE9wbpimLJOgYFBKI/wn0Hv9DECcEA+bT4Wrxhvge7qToVe1B5vLguO4a/Inz6+b+8dgEZAOF9rj3SwUzCvwF2QgBDtkHzAKvCU8L1wBo+Qr7N/319ljxyvG77t3qX+qo667oguTe6CHuMO0n6cztTPis+5b8WP/HBEMKhhOHHgwluSmtIUwVdhdgKPAw9SB/E1AV0yKhKDwclxTdB8D15PW1B+oLT/GX3qvnnfaC8u3lz+iw52Pd4+GG9nv7H+mF5nD6bgXS+wr2XACQBbsByAQ3D6ANSgHwAmkMfwco+7D5RP9D+aLtTPDd9n3xoehV6RDs9+Yc5efq5++96lHmivJm/qr++vweAQoJixAHGL8hiCvIJUUWLhURJ0AzMydvF8YUuyAwKl4kMRylDn78h/e3BtYNFPk/5m/px/WM9CfqZOoB7Qnla+Hd73D3P+6C6gn2wAA0+ob2MQDOBGr/yP9VC9EMdAPdAu4IDwZp+lP3Tv2Q+rzvCuwY8bLxRera6ZzsHujv49Llq+1s7frn8+t39iMArgB8AR8FOgvbFqAfHSq4K7Qb8Q53HGk2YTQzHasPiBnXKukplCAKFe0CVvZTAAkRZwP+5zzk/POj+qvtfOc17q/qWOOC6oL1WvG36rL1YgIW/fP0xf1ACUgG8P9HBs0NsgVqAhILvAu7/s7yO/ii+4L0ie/U7UnuiekA6Wntoumu4s/gHugZ7Yrqj+oG8Bf4ff8LA1cDxwdhEFgc6CgGLYkkShNHEW8pxTs3LPIRmRD5IkEuJCjUG6EK/vcW+BwKEA5H9Lbg9enA+If1O+nm6vbsPuVu5nTxO/Pw6vnvtwDPAor1F/a4BfIIjQISAxsKDwgoAA4HgA+fBmn1LfI6+0j5nvKL783rn+ip593tXe7S5FXgnuOp6nPqTumT7pvybfrrAPQBvANNCn4VJyDcKdEo/xsSEGcWeTGwNzIe/QvcFZMoGinbHz4U7wCp83X8Iw/zBQbnY9+T8Cr6je/E6I7uOeqE407t1fjk8Vjo0PXWB3EB1PK5+7EL1QhPAokHbg2BAyT+YwtbDzr/Tu+Z9RX/s/ZP7QTrHeqE5ZXmYu3b6W/g197p5yLsM+fP5/nu/vWO+8b/zQJHCLYPVhihI2ArkSipG8ESByDeNZ8vyxWNDt8dsCsXJ4kcXxF4/arzuAJAEDb9rd/C4eX3RvuV7BvoMO3h50LlQvRe+/Ttkuap+pkOOgPz9Ij9RAtfCLUC4gqoDM0CSQHBDeINlfq28Ur5Nf5j8rvoMutf6d3l9uZC6pvlO9/l4q7psOnN5MTqxvII9jz7/f8vBngJbQ9HGpAkhSsVJ9UbGxVHIr8zviizEqMOkR9iLVwk7RcxDGb6LfWIAr0KKPXV3MflyfvR/CzqTOYW7fHpPOuN9cL6HO3Q6SICiBGTBqz2XAF2EJEL1gUpCcQO4wbZA14MAAm+/Ob0Ffur+wXvLOl/6TjqqOie6BToCeTU457m0+hs5kXna+/z8vH3MAAGBacIswsaFCsdryWGLb8nvxnCE4cm2zYHJYQPlRApJaEqkRtTFM4IhPfb8tYBGgd17Ynbhue8+tj0WuX052Hqp+ZK6rL3sPj16VHuaQVBDu7/cfjmBjgPxwhFB1YOjA0cBKgGgA3xBZP6fvgh/SL5Vu7Y6n3qBOqP6UnpVucf5AXlp+fp6KXoRuyD8AXz8/omApIFogdWDCQWiiGXK+srsR+3EugZQjDjMZcaeg0ZGg0pAydjHGMRmADU9K79kwodASvmt97s8bz9SPVy6/Xqy+gB6KXyFfyX9FfpS/XwCroK/fv0/FAKcAp8BLsH1gtdBuIBNAcUB1X8uvSh97r5JvCk5vXnD+uW6JnmK+ds5e3iyeTx6G/qAeqV7KTzFPtFAGADqQbeC/AU7B9xKDItGif5GZwXNChFNJEjPxDVEykllixAIjoVzQVq+Hn5wgbvB6LtTtry5eX5jvha6w3pmec75Errrfor+g7o6+oWBbYP2P9Z+bEH+wo2BJoH5A+5C53/aQNrDC4EK/ar9ML6nfPn5qHnxeks5TDj5ueh5yPfRd7W4yLmTuYA6pXwifS6+W4BFgaHB40PBx2tJO8pzCoVIGcWLyJANoQvTRapD7wiIDIkKfkXHQ0JAhf7rQPXCmz4UN1y4OP4Xv0A7vrjs+U554Hp//UE+QPqheY5/BkNCQKV9pr/awd9A7sDGQxcDHYBtf/JCjsKb/gA8Gz4uvhi65vkKegx6hHqnerw5+vi/eDa5VrpMucW6TbulfXW/E4AeQMABlgPSRuCIU8p2ikhHJ4SmyHQNnAtbROgDrchCi9VJf8XGhAsBPv7lgRPDan5ft915DH7V/817h7lPOdC6EjsDff6+2Hsv+Wl+c8JqgWQ+i8AZAfUAR8C6Qn2DkcEpPxhCcYNkf6k793zDPn27bvmguiH613qxefF57jlteTS5O3lNubo5ijt3/Lj+fwAtgRiCHENtBfkIQwr7iqKGRISeCMyNyUuERNkD+8ibTC6J1kXjQ2ZASP9rAo9EI33Ud0z5qz/4wAU7ZzjBee96wHxJviP91XqoerA/qkKxwKP+WP/PQZlBJ0BLQZdC24EGf8iBVYJcv7I8enztvT17Lzl5OeY7bHqF+d15bjo0+nj5CHnt+hn61nvrfNY/u4C+wX6CjgTHx6zJNErpCVtFRkU7ydCNQ8hKw2zFEQpbiwLGUYO0wfG/c78kwcOBY3lwdmH8mkEw/Od25PiUu9O8EjxQ/Ki7hvnbPZ7DoAIcPVs9jYK+A+cBMv+bANrCHwFYgahB6EAYPgP9hT6n/Lb5arj2eaS6qPp8Oer6FTqN+kq5hHpoeyC74zzHvmMAGsEvglfE5Aadh9IJ+ss7yRbFlkZJSv+KIgWdxY6J/0rNhmsCKoLRwwbAa78LP6E8JLe6OcAASz9mt/F2ZTtl/Y771vqoO0/7GjwewV/Dvf6zuyZ/yYUbw4J/vr5VQOGB5EJSQorAff2wfPo+f74+usH4xDjAOcu6m3ueutj5pXmlOY963fuQ/EO8xDzXPzDBeUKTg4JFHIcNiQvLoAtWR/LFNwgeTEDI1kR+xrALhUsYROPCnMOGAlO/2D/U/9y7CDjIfRTA1r0Jt3M5of2m/KD6KPn2e7h7oL3/QeFBbnzA/MwC6kTWAPa9AX7jwkCCeQFQQGa+rb4C/lF+yzwfeE94e/pIu876jPmC+Se51btJOxF63Pqce+c9QD61gFYBcgIkg+nGWIi8imqMVks6x1WGFooqzD5GkoQxSIZNb8nUw1jC84QNwj+/K38v/ex5qbl0/ez/dXowt2a7UT0AOnu4KLo2e9p7sb3+AK0/QvyOPzUEXQOWfwp9swEMhCmC0AI4AJ6/lv8TP1l/avwKOZ+5jvuyPBy62zms+JY6JvrPulz5ibm/O+W9iv8kQHFA40IoQzfFBIdnCfTMN0pCB0RG9cqwC0yGVIU7SazNFAiuQpUDpsUgQym/wn9SPc06hbvrvtY9yjix+Ei+Cj4jOVD3bjq7PMi8Hn3P/3v9RXvwv3iD/EDB/Ig9swJ+w2AAYEAfQMyAd76CPjH+Onvg+nc6rHufe+u6XvnBuey6WLqquWE5RDp8/F19ZX2+vyzAR4ImAquDu8VzyG9MQ8vrx8eGFckAS5+H6MXbiXuMmcmkxCiEaYXXQ5gAJX83ftd84rz5v3e+gzqLuYg9837bep84LLqjPZ/82H0pvy//az6tP32CQMGXfhQ+Y8FPg4RA+76v/0yAJz/UfjD9R7wTecw5AHoSfCa7M3h0N395ZHtVOd44AnkVu7R8RPx3/WN+2oBpQjWEXEWOBZyIUguRSogHGoXSCOEI+AYhx4qLOgrTBfmD9MbCRg4BCX4HQCtAl33IfRN+DH1tuv08eb86vIR36Dgxvdd/wT3rPV5//cDa/7EA1sKegTe/REE3BE9DmQBHQM5CmcH2fu89RT33/BC6aTrFfAg7cfjkOIs6+TuEOlS4aDhRunG7hvvevCa9pgAiAl7DuYQfRH8GKIkqyU+GwkTMBztJlMhOR2fJCoojRiHBrUNOhheDAz8APt7AQz76/Lk+IL30ehC5/j6OgQF8ZPjM/JEANX5nPRq/lQE5v1w/0gLGwcN98b4aQr9Dob/dPtrB+kHzf1P9tn3/vON52zoo+3K7q/rZekU76zvX+y35QjgueOc6i/uke5w+DMFsgaI/0wBgRCPGIocLyFmIckZmhVcJDsqjxsgFAUhISpRFsAGcRWqHYoII/Eq9aYBSfiA8AH4O/jW7EDs0//4AhPsqOCs70P+Kvu8+qwBbgMu/ZAArAn9ATP50/2TDB0OFwOqA68FNwNg/jj/RgFS9lHqPedV6qHsUOqc5rjox+0o76vnWt+K5tbu6O4X74L4jwGY+u/3zAY0FRMUKhdKJrknihT6CnUdOyPGFBgVhyhqLTQUcBBbJJUcm/iZ6GT+/gLU6EzjP/qFAtPwB+uK+uP5kufb5xb3W/q29CAAgRJSDvf+7/0mBbUBRADIB8wMwAU0ANoIFwUE+RvxZPDk7q7hz+Dp48HjZ+R/5AzojuYa6vvv4u0Y6+3wzvo+/vkDqw85FpUQPxQLKt4760N1SApDlyWFBpcJSxmUCuDzev1ZFaYOvfA77bjrys/CvkbY7Pw68Kfd0PeUFUAJ5eon8moHWgmSCyciii+wHikYyySFIhH/G+ru/YYKIQHS97r+qfnj4WTcDeFI2r/K686853zvMeT33ArhleUR5aHlZ+us8cz61QozEhkNhADk9iD9YAjjEk8cxilKQDNPOVLOTeo5KhG+6UfovgXSDRj31fUvC2YG3N/yxPTKGcqPx33myxFzFwT/6gL7Fw4OgOuI7v0YfSmEKMky/TgEHXH/HAyfE6L1AtkC70gOkwTH7evkQOmj2RfNDdwd6Bbovudl+6YAyedT1CLaNfBE9wr67f3A/7kCjgOoBYD6U+xs7BH/DRiKH40bKR0+MNhBbEUoSJ5CQCNY9vfvsw5KE8/z4uIw95IFEOpByfjKcNU/13Lnxwd3EWP1d/KbGEYeOPq07zwYsDlmLoEfZyNgGVn8DfrcEJQOIe986NwG2QVC40bVw9/b4nbW1+Bs8Cfr2ubg8SQBnO931bfVTefc9IX2IQC+A7/9NfqE/24ETvxE/aoGghaoHkQakhzPI3UxijtdTTJh0EwRDE3VjODzBlAB29xH4woJPQWU3RbJP8u8wFbPpgvzL3YQBO5iDvUw6xiD76v74yZoLTElMCbNG4PvCNcu9JcEze6R2S/vBgOE8XDiO+RA62vjBel5AEUBHfQ79OoFHwMM6ovemOBT6b/zIfwG+A7seO5i9uz1Su2E7/0G7hc5GOIRehEHE+AYDzHFRUlbcXBRYncaM8dQyIr3CP3x5UjquQizAwbeQ8z4zBO21LdHAgpEeDFT+fsJMDKpFCrydQX5Iy8d+B1oOmEq8d5ouRbjYQCj5WfNsuzHCSH2D+ka7rLrmN5z7GQTZRSV+Rf5PA60Blrig9Fy2yHhu+YY+qr9/Orc5Kvwd+7Z4m3ssgLPESsabhlpFNIPiQvsHfE22VFJcolyzUA03ZOsaeHcBfHpiNvwAFoUZfRf0LvSXcsVsNDWryZYTzclkfwEH6kqjgKb8MARcx+xElsrJUUOE+O83r1N8hb4Ys+PzdAH5RW7+X/p5+8g7Yri+fpaE7cKjfWpBfoSQO6xxZTCv93/3bbaze5i+IDsaOs0ABj0POIP7SYHwx7jG/wQ2wg0BrEQsSiGQI1Y4Wf4Yn07+tjJo2PWUQJM6k7XMf5BFkXwisZUzdDKUbmI4NAzgmLWLBf9nx9fNd0IteCaBacohx+uIu4vTguIwT+4UeUg9JXP+Mt7CjIkjATo5jrtYPl472/2JRTXG/QAxPVaAUP23dL9vLTJANep2JHrwvd27cDv5PU973rqwfMaC74akxngEV0MPQyJF1EnwDr1VT5jp25EUIrfRY81uawEbfgU0kTuvBQw/2fL6sPDxiK1etBFLnRyQD8K+lQSTz5IGL3ZfvZ/JcgbnBD8JbQjEdqsqx7NkfE92gfFngOtMxUV4+vw8zMNcvXE5kwKOSG4Cdb43gljBKLSs6uPxDXbQ8/N4Ez/uwFD6Sfi5/hC+UDl8ut2C8Ebuw/yAXoPxhpYGyM4lV5vbXRn20yd+tCiY7IW9TD5q9fS4l4JCARr0KS7PMcUvuDUpCS4aTRTaQrREWM9kyCc5bHpMhE9GMoW+y70LQbg6J+uu2zuauDzxWz8rzGwHRz4ofuHDsvxUtqs/SsqnCZdB3D+ePpk3l7ARMKLxGXCg+g4ECcLcOsE47fxt+Zh23buDwYvDHQHuBK7GskL+g3TNfhg5meqZzFjgw+xovKlkPFa+h/MNNC3C8IWsNQzuUPOKsp5y/QI6WU0axcjzBQPOvYuwO0p1+f9+BvgHu4pDSoB5n6jwK6C3jDk7ci47ismvCQ3DoAEPQnr7gfZAf11KjIqgQVT/tsJZ/a8zHy1M7xMyzDxcBO1EiD88OHJ3K/X99mF7sn60QZ8EwYbURUYDKAX6DZtXdhv73mKZ4T/L5tppyTpfenCve/RjgzxDnXbhcXrzPa7HcbvEKBpaW7eKXcfiT3DKlvtptl1B+UhLShBNhwqkec+n+ypSN2v3SrHneXPGbEgThHZB0sAzOxb5EQIxyr7IfoKow6AFMTy8sHMqx23O9BZ8SwP+xIp/93m4twx167befCzA1AaFiWZHFQPMg+rI/NA7GDnbZh3RFge4jaQc6+353/ZlL1x4d4KhQQ22nLEQr9xtvXXjSoLdJFfESgcKMsx6Bc66MztrhKMHI0rVTYaGDnFFpXdvM3lNt8Z0kP2eRrJG0gaHQ1P+yHnfO6RFGIg+xFSBVkMQgJf2TW6Ha2Ou4zajfzCFpkS5v1p62Xefdg+3/zwvwi0IAcp/xzYD3MZLjezXf9yD3RSaskXmKFgknzVmOrBx7PIHfxAFiLvCcUxwQvBPctXAV1Yim5hMn0ZPi50LNP8bOTqDJgiWB2NLBQxUfeXqiyoGd+M79rM7tZNCUIY4RJtE14RmvLl3yYEQihoH3b95PvtCDfwzMaSrJ6wFsfw5VILyhklATXmBepX9sDwwuNb8JAM4SFELM0d8BFMICBN/ntffRRhgxlesUSSHNM5AdLe2b4+4mET+Pt5xBm6d8Lw0Xv8bUsjdmg9jAr1IUk/qheY4BT3biIlJWkf9SKFA5m+GqcZ2IgDxOil0G/6CiO4G28H7gn1/z7lb+1LE5kkmQWs7BT2LvdG4Pe7JLOHzOzn2wTcE44D+ukK4STyif7k7eLscgM9FQglgCfSH9MhCD/EbP9/Hmh3GXSwdY02yID6KeyX0Mnbrv8p+uLa1MpVumvEQwBSUspu1zuWD4MYJy8GHfP3mvasCxgfuC/KLl7+obxUsBvb+frA61XedPaoFfoZqA+ACXL1hOfa+SkU0RZ4/gHxd/H058TXocbgv5zHeeT9DxsbWwGJ75DxdvlD+kj0dPzEDX0TpBYcIP4iOCKGObhfX3WRZhYdJLqDlxbJS/LP5LLT1OAK+K/vvN492t3G6sM4/Y1Xv2tlLWkJKhixJsANSvUgCMUU0Q55G6svWQ1RwsavEuAyALPs7eJOAukacA5qAuAKPfq/4X/ywRbbGuH74++I9nrrOdAOw4DPStjl5/MKbhtYCfLxvfGG/oP/rPa//QQRORkJGSIYaBhDH1E7H2JUdDNdgglLq6Gjzd/W9+DbFMq64/oB5fZf5FjUbbqoxHMLZGFlYkkdUQN9GdkoNgt57n8EexY8FS0hjClD/xO8FLai5kz+tegV4+YFERwHEuQJ3gcD8wPh0PQcFzcXOfy672DvK+jx1DjGQcr915fymQ8wFHABbPIB9Rz/1AGj+00C4xIcHisiFhlaEfIemkV9atBu6kjc7DyZNq6v8lv3GNSjzW/vpAe/9KjigdK9vD3RRh5kZrVPxA9nDbkqsSeo+4vscgrFFZIWoCb/IlzmTKtkv+f1mv3H4WvrURdyI70PJAa+AcHrNuNSAhEdNwtf7iPt3PNt6v7Tn8XFzJ3iE/+wFPsS2/5A9Tf8JgLe/lD4kwD1EP4bCB+cFt4ULSgbTC5rUWvhOSzXsZY4vob4Iu8p0hLe8wAqA7vnftyh0KvAJN3+LVFpgEdSD2QSDykiF9/swO9CC3MP1xYAK3ofStvqrXnPE/yV9ZDehPZxGqMXtgY2AGv6MOhI6BwIfRjlAhnulvQP+Kbmh8+gx1fW+e+mCw0ZzA3Z+9X6WwGE/Zv4rfpLB7kWoR0WGpQQrBdaM6NVG3BSZdMgycAnn8HVZP3R5GHQ9Oo3DmID0eQ83MfMNsIn7/RCSmWaMZsD/xInJVMILOhX9pkKcgzbGTgsKxAXyveygeJuA1jrzd5dAvAY5AzwAnH+se1E3gDtgRHpG2QBse8+9LPwDdv+yuXPY+Dn95oT7B3vB4bzb/pxAwUAn/rUAewQvhp3HbAVRxGtH2091WGxdcxUL/mGpTKrR+mB+DXbl9fA+jsTCvwu4X/XwceA0MEO9lV/Ve8alQRzHCsdYfWF4ur6+w9WFWwhBiGy8q67pMDI8K36Vt+B6C0QSRi2CEEFIv6G6LbdKfEXDWYLPvm/9aH5wOtc04vNB9m76r8BqxrIHdYGPvnP+t38oveu9iwFXBOQHNIbfxT2FXkn9UgDaJBubkDp4mOgE7UN6/ntGNkM444FqA+18lvfU9eyzv7hGhzRUHFAbQ7gB4AcxhNl8LTmsf4HD24UCCFJF0rlNL3WzMry+fD/4Ar0eQuBDGwIuggb/yHoW+ab/zsN7gFW9YX85vvx4ZbPpc+926ju/AnKIJgVgv7V9kf9nAH4+Lb5NAkcGwkiaRzMFhoaCjC1Ug1wS2KlGb7BLaPz0I3wBeBa10LvDA2HAkDoLtv6ze7Sbv7ePQxRFiWaBBwUMB7pAhvnL+31A4YNyBm7I/kBDMoHuwLhC/r+6fnqJQasEYEL+AXiAGbvkuGU9o0RcAxL90j09QCs8MvRGssA1gzrUwIWHFkg+gUR9A71Sf9QAT39eQQDE4odwhx/FeEQKiF2QptlXnPxRpvz4K7mtHHlk+my2mPfuvsKDfL4xudL1l3H395AG5FN1T38DsoJyh4MFG7wW+F38dEFvhKTKD0jCe7zwZ/JCPHo9OPj3vVICwwPMQmMA+36A+SA5ykGTxLq/67oxvFC93Lf4c2kzjLhwPVUDNggqxjDASH1FPtlBKYE/AHWB9UUVRczFpIQ4RUJLT5IIm56avUodc4ho/DS+vNn52jgX++6DI4CsuyR4wDQJ9Dc+SI8t0/1IK8DmhYSIXkCaOPc6zcFqg0IGoEovgyE18PCpOKF/NnrWegUAckRrw9fB9n/pOsY3WnwvwpNCFDvmemb+bTxJtqS0crYYugJ+HwMfRVyBtz3hPfaAGsEs//qAsoN3RXtGpEaIxtQJiY5xF1XcxBKue+epDS10elO7o3hU+kZCWQOvPRy59PZos+14qsgE1NbPGAOVAu5IOoPzehW4T35Eg6zEf0fBRqO6QvGhtNA+jT5Y+QX8iYL0RTtDd8Gh/kF5Cvn/QGzDU33ZOVz7130g+Ahz0TZVOcG8WYDXhRBFAoA6/Uf/mIBmP2M/LMJCxPZEE4TbBXmHH4qakrCcz5lVhVWvaqtG92R74zmzemrAXoOvfvW7+LhLcsI0TEIYkqFSZQarwiKGJEUz/Hg5ev1rAdbEUQe0yIt+M7KX8+g8Wb8JuUo6JYDgxCFELEIzf086jXjgP2pEdgDr+y/6mvz++aT0VHSW99J6wr8RBA3F+MEwfTD98r/6QIFAOcGYw0fDcAUNRrGHKUfazs0bcZvBiwnzbisW9ae8BPr6eWy+IQLCQIj+z7tVdFQygf6YUTOT18k8QaYD4AUR/h36xTxY/n6BBMYUSj+A4zTgM/G6gb7uec96GAB5Q4jEqENvwT67X3gHvFOBE3/2+x368Pu1+Tv1vbWPeIB65z95RNoGQ8IA/jA/OwDNAbAA/UFKgc4BiUU2x0sHzQfCzkWbZltqCm50IGubdUP7yvoi+Jd8UIIIwNw+hPzZ9rV0rH6mz3tUOMjjwNLDX0U/f0g6pvv9fnrAn0YqSk1C0XZLNJF7tv/1/Mn9aAMphDTCTkFAAB47oLc8O0YBYYCkfEe6HrrbuIe1SXU0NtI670AOxhoHPUJOvow+AP9ff5n/v8FZw0mEs4czx9aHt8gAjcnY55duBp5zAWyI97H8Tjmh+K77swH0/7Z+Cn2tNtD3IMF6EGiRUYSQgB6ECsTEPU15UPuCPW3/S4SoyOdAY3ZjN6Q+AsGPPWS+7MO4g7dDdwHiQKj7Uzgi/ILBIABke2z4zXkk+T/3g/YMN+V7qYHCBi8F40PaAA6+U75BP27/7cCUAl3EmYcEh86JhEvykTOXZFFvANxwJm98Oho8SDnK+Ik9hkDofZn+K/s29wO6Jcc0EyrNbYMZwJbDiv/COUA70D4RfxWACEZ5B6k6mPOROGHBRsJf/f8BFYRew7DBcsEDf6+5brjlf3yE+QGmOkp3T7dI+BL3QveoOOp8Y4LBh2tGjEHivh09zT8kP8KBbkOcQ8lFoocJSV2Lyk0aVHRUaQgh9sntATXfe5e7LzmcO/zBSr4I/b187XnRekXBcVCbEbaHAoE3wgLDDLsaOgI+I79qPrXBywkSgTZz53IlOzjCAr7uP9PFUcYpwwHAkABQO3A3NPvMwn0CjHzfOPn4vvbytc+3nPkd+2TAOMYlSTYEJf9FPwk/c7+gPwxCAERyxL9Gecf9i0EM/hJEFsEN0L0+LmAyzvvaPD25lTm9v8y/XXzmPOQ6MDlVvV0Lj9LuSm5CZMH3BGb/BzoGO8l9TT2ogKfH8kT5uDkzPXf+/kd9+f2ng9mGGIUHQ6iB5f2IuMg7A7+EQGu8qDrROyj4wvde9vv4szpufaXC3QX6RTtBTX/LP/V/iX8Bv6wB/0UJiD9IgcvTDX/RnZYRDy/AwXC+8L+7/H5NvL56AX82QHz7uPuoOsZ6WnzqB9wSZUzqg/uBeEJ7vny34/mCvJY9jIFOB3CFk/ksM7B4c/1uvHZ7DIKzhsqGD0T4wkV94LhIOXo+Gv9YO/O7L/yp/Eq6GPbndxd5Nr4HQwqFLUUlAzcCjkCnvsv92v3kwFwD4chMSXXKz0ykUgWXSw7lv6ywlzKdPdH/VXzCes8/dwBPO8s7XfoTOSe7vEalkJmL5MOKQm5Dxb+I+P85WnzqvkCBkwckhIH5GLQauWG/QH33u08AsISPBI/EQoNZPhD4h/g7fXr/j7uhukb6K7rhehb4EPjduMy+NMMdRdnFG8JxwyPBZv9ZfTr+IIDVQ0pH3sjJC+fMaBKzF+DNXf2hL2V0Qz6Jva87uDsBAQfAF/uAu4o6GzmtvChIjBAWiYgCRMGNxN3/P3jN+t2+GcBugc9HA8ShOUg1hPpSf5i9Frs0AMDFG4OkgiFBiL3auT64RT2EPxp6aDn6+xh8kfrEuQT7I3v/v3gCr8TEg2AAbYGIwZLAQbxhfK8/KAKahzdHd4tPTVgU3FfDSqf7O6839ji9ZfsX+z58bYKuP4T7/Xra9793hLy/SybQ6Qklwx/Cn4SyvZz4WPrbPmzB/8S5SBSCsjeqth17Tf9DvG07uwIqRUvEOAFxfwf7mnhouih+b76D+y86LTrPusa5LbglOib8ssFPBQaGQgPpgKyAZv9R/or9bz7wwPJEN0ecSNOMHg3lFOsUGMZ+eKmxi7pi/SG5PnmUPcqERP9nOzF5yLdY+Vy/xgyuDjSFpMI7QyWCULqwNq35yj3RQYXGpEkpwSp30/lz/uYAHfutvPxESwZyxMYB+L4qOdR24nsNPnT9Snth+109Lnpx91624bk4/VjCQcZuRndDWUBtv2V+irzRfFe+JMGaBliHqUiXi1CPiRaokNCCiDWnssA9Lr2RuoO6PT4GQ1u+NbvsOYH3ajnVgsiOpAwkQwvAz4RbAjv5fHbj+hm+CIC2RevIWQAsOLO6Ob+xgDz8W/7mBHEFQMUqApB+zfm4Np66/HyDPK+777uUfGV5sjjbOSw5dPzgAZnGHsaLhGpCNv/hvqx9MD0Jvmj/7UUrh7xJ/MwvzrxVCU+ywqo1VDGbe408zTv/OzR/Y4PM/bF7rrkteEF68sKhjowL3gRCAXADk8G1uLy39btB/1WCFkbQSIl/xjkiu3zAIv8K/AIAacWwRW2DccGYvx75oHciekq787uze2C8Gvsn94y3lLlPu1196AH4hT2FdgOWQl0A336E/WX9Bv+OQEkDH4WLx/BMa4431FbScoXluApwADlwvXj7c7oV/dqEtb+q+5N5OziH+q7AsQyljBHFqgJ2RQUE/Dp6drt6Hz5hgaNFH0cbQTc5fbqwvuS9/bsn/lOFQgaLBHZB8z9FO955kvulO7i7Lzv/Pj+88zgm9nK3Y3tnvV7A+UP9xI4FGIKpAR7+1L3Y/h9/wsFbgknEgAX3yv0NZJKrE3KHkTplMAE3Xr3e+tq56P2OhgyCnju4eO74QfpBfyFKEwxLhimCiIVwRj08unZ/eR8+GUIHBZXHkAKWOsn8OgDzP9c65DwyRPvH7kTGQLx+FDyM+gF7WrwNe9Y7dz2Qv+V9j3k7tTA4JnskPxzB9YLExafDIwIdP+g95D0f/QNA4EN2hgIGmAm2zILQnJNFCfd8FjCbtLR9xXxM+kO8y0USg8g7oHhsd4P5rH2uCEGN74faQy/EJsW8fWP1mngJPhrCYYVHyBCE4rzAe6W/Zn91OuN8M8SlyGfF+sFI/qF78Tilela72/uou/j+bQE/vhu5fTXxd036Gr1JgV1C3QStg1rC4cD1PSz7+zxpQPZDrgX8B1GKA000zeHRNUzvAUQ0ozLGfb/+67oOuZHB8UZh/qu47rgi+ng8lkNpCyGIqcPFA8hGy8KVN9d2rLuFwJrDZsUmBQ++1fvtv1PBMj0kOmRAacW3RbYCzf//Pdi6U3taPWJ8V3waPJZAYX/FO6M4NXeoOnT7/r4fv7uBgkLvAidBv767/bV8876VwXEDSEZOCKWNa0/IkyEPz8LDtVTvRLkn/cB6w7uKQfyH4ACD+fJ4nDjYOw3AA0nUym4F04Ymx3IDvDh3tQR6RX4CQZNFEoafQVV8uH+ggRH8bTldP3DFhsR1wqOCW0E7fD74obrFefY5t3yBAUnDE/4BO3P6aHo6eTc6GL3GwIHCnUJWQk5/ePwGe5B9AMDwgnfFCofKTSSQOBFGkebH0/sasEV1LT37+0Q66n7LiA9FLHpUN5u3avpKvQgFN8pJBsWFz8anheN9BvVjeQx+pMIIRK1FbQN0Pew+PwBVvNr5WDvzw9EGvoQKww0AnT6yOtW6FbmMOGt8eEDWBG5BRDw4OZa5GPoZerD84L8PAQXB8IDOv6Z8rLsdO/y/joMdhX/GssqnT/TQ31LyzCY/dzMiMT18Xn2muxh9UoTQCLD9tTdldku5df1QgYtIxYfIRlkGnQWrgLM3HjcPvHyA5ITAxYxEDr8efMq/KX03egj7uMH2x2aFs4LA/7E8mXwpOqi7BLpNO8BAFUHeAfN+PPtx+qL6/LuUvIi+Af9ggF1/5v72/dd9SzzmPZIAFoNnRqpI/Q2wD4KShRGtRRC4VzCbuOH/D7r/e55A6IhCgqd5PPeX9/N7ij56RTxIOgTKBSMFYERJfHV2/DpTvzSDLwTLhTRDED/u/4b+2LqK+hc81IIXBHxDE8K4vj38RTsuuam6B3mxPbJAjUH4gMg9kvwN+o657jmY+5e+0YFmgYs/4/6r/eV9bn0K/m5AWQQ7h9zNYxC8UMRTvcyz/yfyt3ISvU/9p7vjPzPFzsbWO8A26TYrOKy7YL/Eh6kH2waOxekFQMEveLe3vPvXAV8FcMZcBhyDdIA2/tY7TjmzO59+2INWxBAEvUGQvQe7/3iD+MY47TssAI2CT0L/wAA98fw+OZ14ejl7vMIAasIAQV+/ArxXeko6p/wffsCCSEboy4yQaVDdEzMSYcciufsxpDgQ/i+7qv3tA2GIToIGeJR16LZWOUv8VsNdCA7HmsYRhUeDuDvwtv55E/6Pg0vF+McshvcDEAAXvc36aPpJfF3A5YSmBHHEJUC0/r66+Lb+eBx53P7RghBDG0LOf3S8sjpeeJR4c7qhPhrBcEJDwVJ/D/uz+Z55YDv8/82EmIkUTWaPzBBC0lzL1D9zNYy1zT9NP2/8+YB4BjWGjjyzNko27jnnfDb/JEU/xk3FdUQrxMwBLLlguEE8/QKJBXkFh0ZfhPHCMj99+zs4evpXvlICi8MVQp1Bhn96fgt6WfiheEC6TwA+wloCzUDxvrV9Qfr3OLk5dPx4vxsCOcL2Aeh/KjwcOt36HzwdwGUFqQpsjh7PuhGe0NEF5DnDtB+6L0CSPe6+3URZCGWCbXhdtnL4ArnS+x5BvMc3hmDDk8NDQ7O83Ph7ep8/7EOGROgGj8aYA1EAyD9vu8M5/PruPuxCbwKQwrzAbL5P++f5nfpHucd7w/8KARyBRX8MfXb7ojnKuV67u/5awRaCioIdwIr92fw/Os77WD3hglZH2MxITkzOpJFvTBA/r3WC9ZO+8n7QvLGBQAfpxyZ8RPd3OLW6Ermqu8ADwEaLRctE1ETmANy5kroLPl6CCERLRXfG1MU1QiLBC/4eu2F7PL05//KADkG7AalBAr+o+x65g3hBOjA9Hz5svtK9136k/f08HDoPOa38mb+PA2NDakDtvm08uzyn+7H7lX7uBKdKuY3pzV/O0k80hjh7bnVC+n8+w/yp/eqDyghYwm76Anhkecl7FPpef3aDuUPUw74DfwPnPg55arrgPqlDGES0BXZF6EO7ghkAN30pO5E8Nj9jQUCCOEEpwFuBJ/5S+6649XhYO2494kAhPs/98T00/MX8yXqOu2s9QEEgQ4rC0kD7ffg8qbwqfD39HIEqBoRLuU2jjjwQKgsvAGH4dvfHvkI+9/1UASSGQUZE/wi54Tieef46PvzMAnWDZAKHQUhBvEAFe5o6njzxAKKEAUSSRSQEnkLAwZu+szzVPQa+8sDfAZDCPkB+v/C+27ztu9h53vrAPHc9hD70fiF+anyfPJ+8Jrx6Pd1/HAIHQc2A+j89vei9+Pykvar/r8OfBzQJ+kuoDc7P1ol/f/k4qHpUAAw/b764wVRGqATFvkc62rq4e1O6Tf46QkJDIQG1QCTBGD3eOjX6uz2NgVtCuAP1hQBEZ0J+AMC+1H0q/bN/rkE6QT1BscGcQLA+Mfxw+5L6dTrCfNJ+Gb2bfSq9o/1SPAX7BLyIfvgAXYECgayAGH4t/fb92r8Zfw0B3cZHSTjKUoo5DYQNQ8bb/we6rD6x/3E+Nz/kBAEG0kFPvO+7zLyg+9H7iP9dwSFBCoFNgab/xLr3+Px7zD4EwDHCPwVAhwcDI4GpQGK+Sn0j/JhAVYFIwdiB2UGQATa9ejv/+iV6VrvxfON+CT1S/TB8J/teuk67Pr10PvG/80A7gPj/wv6wfZQ/D4CWQZ8E2gdXixYLJctzy9gGw0IFfTf+4oFOf1n/sAGPBbDClv2yu+d8CX1OfO0/FwClf8X/8sAHAKM87Tp7fBQ+TH+CQH+DGIYdRCiB8oDx/83+UfxzPkFBAoGmwSFAfgApfgY7sHpauoz7FXuIfPC+MH3ffCc6xXo+Oqi7iT25QB6BOsHwgXnATf+u/u4/fYFqhI4HkUrVi/ZM+ot1BYAAJvyb/zIAdEAdwYdE+wXDQGg8PLuL/Px7qnrkP7WCQcHRP6n/gABuPKE7JX1VQAjAN78MAioEToN+ARyAbUDmfym9of9EQKnBgIENQLOAnn2PO67623t6u+s7mvyafeT9hvvVOpU7KXv7PAO9DX8YAWiCH8GAAZjBYUBKf3EAtsQDyEEKlkt2DPvJ+gNGfaO80cCZAD3/HoHIhzdGkf/mvG48ZTyNeqn7aoCKAmzARX/ZwWm/znsR+Zb8m/8+P1dAagLeQtcARgCWASMAwD6Vfh+BBoIAArcAwMDUgGu+D32MO727hnwGPHX88nz1fVn8NnuO+6b8gr0mfCA+PP+8wTqBEAGBgmVBogJvA3NGO0eoyVzM7Usnxap/Zf1aAG4ASP/WgSdDfsR9AQa/Yz5rvS68QDvqfre/+j+fwETAO//m/aN8D/x7fEq+Mf9awWqBkgDGwWrAXD8ZPh/+CMAPgE+A28HYgdFBQP7MPfI8zTwtPJx8Cb0P/LJ7mjwKu8J8rbwnfCo9M/5Yvsv+FD8sgTlCTEIhQrJFU0gbCP8JXkuSSkHFesBb/2VBOwBofz5AtENbg2G/7r1/vUk+FD1WvPc+4oB8f45/DX6PPmg8nbu2fQi/CX+//3KAqEDuf8A/oP+0/5W+cv4IgGXBXsCzwDTAhsC1/ul9Zz13PYa+av5yvdG8bzqau4+8KfvV+7B8Af53v1u/1/7Ifm8/KMGow6lDjQSZhv5JSUsyzAfK+sXmQMR/a0GEgQp+mr8tgrUDUH8bPEp88z6i/XZ8Dv83gHDAUj8pPrN+VHwX+sD8Qb9iAEoAD8B7wLCA7oBe/zh+SX45fci/kz/u/5x/tj9P/7r+LH08PGF8mLz8vVE+3v5ivTM7rTv6fEB8gbzffSQ+q38aQAmBEEDlgIeBXAOWBfmHkMkIC4gNMEqYBuHDBwKFgsVCFUD6gJJBxAB7PnO82f0TPj18RPzvfk5/7f/o/uk+yX5NvIP7CHxhvu2/iv/OQGWBRAGaQAK+8X59/kC+739vf4i/sr8QfqM9CTvU+4t8n32cfZl95b3GvXm8Mrug/F+8Qb0PvgM/FD+kfqo+6wA+wOmBkMLMRE7F+8cbCIcLQMvhSOmFJwN3RScFxoQgAVVBRMJwf+99U7v6/JZ95H0e/gG+wb6YPjh+CX7hvcz8jDymPm6AIsDFgJG/lb9eAF/BTMBhvvK+08CtgRp/pH5kPXz8Z3sH+pu7T7uHPA182/1u/XY8ezv//Hy9Pv4I/tS+/37h/9jBa8E2QMtBVMKFhNrEr4W1x4eJ3AtOSOJGIERaxLXFUIREhD6DQEOlAiw/mn8GPcj9NjzYPYt/Nb4Q/VV9Sb0OvKT7srxb/eQ+Ej7Wf5DAlIAOPuN/NL9vP+J/jf+dgCI/D77vPl79hzy7Onv6cztzO4Q7m3rj+2h8JXxH/Kr8qP3TPtt/lgB3v+yACkAIgKwB4UKaxBlFBoX6BqdIcUq7icxGmENBBBtG7MbZBWhEAARKgyn/0H7L/4QAfr9f/rr/Jz7xfWj8XnyxfQR8hvvm/FE9/j6sfr7+Tj69voA/Q3+dv4G/pL8T/6M/wn9Dfr+92n4ePeG8PLq6+rS613r+OgN6WPrEuy87Jnv7fWj+vv9ZwC2AAgDNwVPCNIJUgmjCwQSeRxTJYEsfCyZIxoYYRBtFEMYfBUIEW8Sxxf/DuT9/fUY/g8HuACA+HD72wHE/V30sfHc9EbzXu227yr2G/lu9sL0evei99z3tfjc+jX7VPjY+BT5o/dn9v32Xfsx/Xz4dfIX7mPsqOut6Wrq0OvG7F/uPfIw91z38/da+y4ClAe5CSwO9A84ECoPkhLfGb4gEytpLRQnPRuAF9QfYh7rE7IJ2gseEHkIlQFHAaQGfgRF/Cz5mvks+8P7RP5e/jj5t/C87FfwMvOh9NTzNvVq93r2XvWX9Hn0PfJy8hP2Q/jx9tfzAPST9WD1ivVj+iD9zvlS8nXqkeiz6M3qdexk7WvwsvYH/XL7I/uGAJEL2xJIEr8UMxekG6Md7iJvKSYkxx33GUAiyyl6IkoXNQ2ZDNMJhgIr/kf97AGdAYf9nvlH9tX24/r0/qkAOP4m+Df2O/WR86zwl+2/8LH1Jfjx8uDtO+667zzyZfA28B7y+vK79Fb0q/Fj8Ab21PzB/cP3b/K883bzRe4t6nfsh+/i8YnzW/f+/UgAUAQdBw8M5hI7FxceySEaKwYvNyc6HyIbPiaTLBEnLR9KGIEWKA0sAy//c/6R/ib50/Wd9ob1Q/XJ9ov3x/gN9gj2E/wU/an4q/BO77jyFPTk8lfvXvLB8zP02fPa7krtjuz27RPuKu1v7RbwJfXW9N/06/OM8rnzE/Xn+AD79/gM9HfyEfQX9xP7pv5oBB4IVAugDnoUqBr/HlYpoy4NKgIgoRwUKIUtxySEGscZYBtKEj4GPwScCPsEcvd777LyzvIm8B7vuvFY96XyXe5k8Af0kPiB92j3Rvfp9Q7yaO538Vzyl/RF94z2hPTZ72ftTuzy6Tno9uz08qPy/O+Z7TnwqvSI9oL3k/me+1H8Z/57/ff88/+bA0wGVAWdB1gN1hT3HHAlxSyYJyofix2hIrwrmSpAItYbfBhvFxISfgwaDGoNOwoE/u7z1+807SvuRu1i7/zvDOgQ5wzszPIi9Ybx2PI99pT5pvZy8VjwdvH+91z4AvUq9dX0z/Tq8arvRe+s7prsYupE6z3rCO4J9B73tPf19wn7//9wAVABowXVClAM/ApVCocLjQ5HFUYdVyU8J/ghSR4/HZIhaScoJ5Yh8RkBFdITLhPREG0P/w0KCRgDlP6g+f7zJfCd7a/t1enZ4S3gwuIf6Xjuke8z8H3uU+xW7bvyzvOk8cH0q/iZ+TT0APCJ9En6vPm89D7xFu887lfsbOvn7g7xLvDs72LyhfUt+vf++AM6CiIMCQvWCjMPUxQNF64bqyO0K44ndB5rHWIhQyVYI1cf8hzKG3UYkhJDDsEL4gx3DN0HSgIw/pT9wv7K/FT1U+165ADgKeJR5AjlluN05Q/ohuha6C3qlO8W8jX2kfex88nxg/Oa+6b/kvyg9672Ivsj+rn1mfJx8s/0ifQV8wLxKu/i8UL4sf1T/+wA8gVQCTgNVRHaEloWfRmTIHMoqyd6IS0d0CDfIzYiehy/FZYUmBRgF14Xsw73BbUC/wN7Alj/dACOA0QCsfmx8Ozq2uSz4cnk8Of65Y/hN+Jv5krnI+XH5cHs2/Hp8kn0Wfaj+CT4PPep9733Q/hM/MH/1P1N++T43feV9t70d/au+Mn5e/jK94n4/PtXAeMD+AZ/CQUOHBYNG/ccMSBPJA8llSPhIeYiBSX+IpsdqBa/EScPQg4UDj0OHw0JBnb+Zfun/GD+f/2G/HH7NvgM7/LnaOqB7PDn6eFs43vpg+vZ6HPlNebB57fpSO057wLyPfVS+T79CPyM+N338vpH/X798vzJ+sD59PuY/Uz6dfaA9lj4XvjP9n/4Kv4kBHYGcQh6C50O5xMfGgEiwCRnITMglCJ+JPQiHyMjIYMbYROhC1EMqg6mDwoM8AU+A/MAQf4R+XT3Qfl8+mD3zO9j7hXwce9r66ToMeh858LoyOn86o3o8+a36fTrGe0M7c7wVvZ7/Av/1f1O/h399P2c/Vv6ePh9+6H/O/0i+6P5sPkR+Wv27faX9rT4JP4dBMkGyAdBC+wNfhIZFs0Z9x9/JKomNyZ3JVYiNh75G7Ua0xheFTQUKhM7D7wJywSAAvAB1v5a+d/3rPlx+evyhO358Gr0vPKC7tPszu0X7+Tvd+3N6krnZOUo6Nbp/OsG7yDycvbD97n28PbW+EL88f+oAHb8K/ir9xb5rfqU+sf61vyh/Ez6MPhK94X5T/zO/fIABAUnCKgKew6WEjAUPxjcHzEmtiT4HNEcKyEXIIYahBaBGaEb7RUSDZAIXwepA/X/H/1B+sX4S/eP9zn5v/aD8w3xlu7l8Ebz7/Nq85jx0PDM7czpg+R04wPoS+td8AfzFPRo9CHzmfVz97T5ovt4/Oj8hvrp+RL5I/gV+Kv4PvwJ/kb76vZE9935zvmN+Qv7iP5OAWgEswc9C00POBN8F7wZIx2dHu0dXh+7IDMibiAGHv4bvxr4GJsQZQhgBPkE8QOj/pb7VfvR/eX90vp69Yry6PS49jX5fPlU9gzyYvDE8L7uv+sp55Pl3OeS7rn1IvXc8vbyHPXZ9eT0CPSN9fL5EPt5+Y71KvPm9Nj4p/vv+P70APRb9sL2pfjV+qn3uPcL/IQDiAUABNEITA4nEgISJhQjGQYe/iLEIukifSG0IA4kcyNxHcwUARB6DLMGIgSUBj8H/gCV+yX7FP0E/Vf6O/lf+uD8SvtH9/P0LfJT8KvuQu1G6pLn6Ov08drzIfEf70HxrfLH89vzCfUO98zzIvIc9G30vPI08ur2/fov+Uj16POo80Tz8/WG96r2WvfA+U7+ugGLAPf/KQW5Cp8OTBPLF4UbWhv3HOoi0yU0JcIk/iZ7JQ0gQxkPEuIOWAmCBWMHcAjxBSUBigGOAzgCXf8u/yAACfwl+kT6j/hg9a3vwuym7Yvu3u3t7knx+PGZ8YjwLPEJ8cDvGfJO9Lbz7fPj8z/zTfIY8G3wCfRI+C34U/OV8H7wZfAP8JLyFfa+9/L6a/66AIUA1P6jAUAIyg4AE+UVIhvDH84gqSLcJR4nXScEKHcnjyOTHGoUzwyoCAUIqwduB/4GiQbjBRoE6gH4/hH9yftg+u/42va59IXxb/E38xPx5+0s7hzzJ/jB9wXyke0L7k7xm/Oy8szxD/PM9KvzFPDU61jsrfKw9R31kPK270ntq+sd7dDvQPTa9kb6UP9OAA7/CPxZ/H8BiQeTDQUUKhmLG+4edyC1IUMmKinWKiQquiXsIWccKBIsCMQFjgkOCU8E2AIZCQ4NSgWf/m/7//k/+YL4+vtz+mv00vD/8y72w+5261TwsPa+9uzyIfKY8JHrxOeG65TuAPDq84P1f/Nq7m7qOOru7Erv9PF+8qTvV+6E7hvwnO/68Cr3Lv5S/5T7wv0bAJEDXwazBugKCw8mFlsbsx7FIr4mTSw9LMUoYSPSIJQgGhvsEvoK6wmeCicHqgPZBKUJcQh2A38Ab/9S/K337/ZP+IL3CfLy7tnwGvOF9Ev0c/Xs9W/1WvQh8InsQeoU66zuifHH8670SfUG9DrwRexo6Gjpxu819P716/SB8T3vUewc7Vjx2fTO+kf/lwGYATsB6QM0BokJPgzfERYalx7KIZQjJig1K48ngCKBHscfmB/sF/0NZQYQBMMCZQD2/gsBqAWxBOwAgv1T+Uj4DPe19zr6Nfh/9Ebxm/JT9SP0L/Kj8vT2q/c180LtWumi62rvj/KJ9W33Ovdp9ZTxNOxo6azoI+3D9Z/5mfc+85XxP/NP8jvwKPRL+8UAKgQYBKMChwPtBU4IWwznEKsYNyNIJj8n1yqRKv8mqiCsHYEhYyIZHBsTlgy+Bjv/HPnG94D8YAGpAZD82Pex91z19fD88CP4rvtN9VrvVfBa84TwkO8J9JH5qvp39NTxE/D87MHr+e589hT6P/vh+JzzyOrB4/nlm+u185r3r/e496T2X/Wx8mXx6vKw9/H6o/7BAucEfAUnAokEVApGEQAYxRznI7wo8C6vLXYjhRqDFagazCB2IWUbdRJIDJ8Clvgs9Ub5oP+pAA786/Y486Lwb+9M8Qv2mPjU+Mz3tPcz957yce4876P1Qvqp+Q737/UG9rHwGeut7nL4dv2x+tv2I/Qm78vpE+sm8df0dfTU9XL6Oftp9hn0T/cm+nH6KvgJ+qj/jANoBLsCHAhMD64UxhjDHF0j7iUFLMEtmyWsGRMPTxW4HvMdTxjsFWwTeQSX9uT1yfu9/Bv5gvox/tL66PLk8A/0YvbR9tb5Z/zq+/D5gPUZ8Yzr8uzz9MD5IfuI+eP4PPYf8m7wPvEX8zDzA/Xs9SvzO+9d7RHwwvIa8Tnxz/W3+qb9w/oH+Wv4vPWi9vv4Jv6jA4oIfQ6eE44V4RSlGCQf2SmTNF4y5iKREu8OVxaoGUwRtw63FZMXKA2x+jvxEPFh8pLzqvfC+9j5iPX08OXybPR18AjwHfj4BKcH+v5e8x/wEPI08U7yT/UV+sH6v/q3+8D5uvOX6yntHPN1+K33uvND9ef0CfUE8Srub/N9+En+rwBL/9/9WftL+Ez2H/YF+fH+xAf0DsMTdBp6GdoY4xwiJWcy5CptGboPmRIGHlsaexAMDBIRXREABrj/M/pG+OPxJ+w59Jv4pPe39fn4Jf5B+tHyzvBi+D7/if/N/Bz4IvZ89wn31vX984DzXPjK+bn6iPtE+HP13PDm8WXyI+9U8PLzYvkH9kfvjO8d9C74n/jY+xQA7wF5/qn6o/mV94n3GfmsAFkI6xCvGq8dmiBUITMofi7yJCYWAw3OFVkhoxvQDaoHegvyCCv9VPap/CECsPf+67/w9vp1+XLzAPf+ABH+WvGU824C5wc1/cP1Tvt3AVv+gveK+Lb4HPex+rP+dQEX/jj7PfqJ8+Lt0Oq27ODu0PDr+Bv5mPIe74HzAvv69svyI/gCAUYC1PxN/Cz7C/UH7tHzigMZDx8VARq9JWMrqCw8KvocahBjBxER9xzIFRILuQfXDkMIO/WD7Y31TAAY+pHyJPQx+K758/h4/Fb9e/YG7mHy5P4ABh4DJvvX/fsE6wUH/XT0bfZX/LMBwQG4BJkFCAHp+8Dz8e4m5oTj5+oN9Or8vPmx9jf1vvS49V/wje4V8jn8dwXgBfQAsPpx9pb0bvaR+3AHZxKaHuMpYi5KM4kpuRmFCy0HGxIoERYK6gQNDHYRD/8N7VHoHPaA/Yb3Svkg/Yz+Cve69uv+PP5W9HHsfvd3BIgGagG4/oQF8QkgB6v9qPYv91z9+wH9AscEwAKb/v/2EfQj8ZzmjOK65yr2gPo38/Xx4vTR9zbxaOuX7cjzPvzG/9T/cfzo+af6Nf34/Sn/1wQsCwoZ1yVDLuAzOS7WI+MSAgeNBxMHvQJHALEKmw7H/nLvJvBU/HH3E+vj8dj/AgNQ/G0B9wrFA7P0dfHq/RkAH/u4ASkMrRFKDHcHowXp/XX5TfyV/3L+T/5SAkcBPPi/8vnyovDB64nrFvJs8H3on+l78XX0ge5o8MT6xf66+B3zWPeM+Bf1sfZBAJwGwQQnBxsPURorH5onjDe1NRwj1gwRB8sL4AJA9hX39gVpBz75vvG79tv+KvU37mP49v7L+mTzKP3fCjgFJPfn9jwGgwiw/hL84QOFDE0I1gT4BzAHMAPI//j/TACz/HL5efc49dj3GvmS9Wzwg+zJ7i/qvONB5zfvqPOT8bv2hv47/5D3jvL792P1VPBW8p/7FwX9BVgINhIAIoctiTYENz0ooRagBzwFNwZI/2v5ff+mCTUGc/q38Ij1CPgS78fyxvxaAGD4tvaEBs0M3wCN9woE0RGSC28BNwFlB0EJKAeGCasI6QB8/pn/mP7H+lj4h/jp9Br0h/br9ZvtHefG6pzqzOXi42vtpvVT8ifyLPZl+675x/cv+yT6JfTM8Q37vgE9Bf4HkBHQJJkvRTenNT4rchtGC6gGtAFR/AH0sffDAhj/9fgb9UL7zPn/7cvu/PeF+1XwjfCN/xQIZQNx/U0JNBOXDzwHjwS7BpYGEwlBC60KBgWnAbwA1vw++KrzavPU8ajz/fas9crytO6d7mfsRumV6QXvivR/9Zz3Ifl8/FX9Z/4t/2j7YPYn8zz7FgSfCuQOkBeIJ5AwQjYiMf4kFBQSCMQKRgWY9/ntMPezABr4YfAy9z4EYPoC7xP16/u/9mPq1PTUA1oAZvj0APAT0xXuDbcJnAxpCwEGzgeRBrMBif/TAuICE/rv82b0BPWB8YzuIfAG8tPwq/A98Hrtg+pT65nwF/O19Cr1dvdn/PX+pAKkAZ78hflF+vb/CgegDJQUtiCXKE8xkDaDLj4ebw32DFkR2AJV7qnugP7d/8TxS+0j/WYFlPhU8oj4Bfq38BnwowDaBfj43vO+BFMXUBUzDE0Kwg3PDVgJfwcFADL4mvquAWYCLPYv7pLw7PTn8hfrzuvq7k/v6+1b7LHsYOpD7GLywPgj+sX23PmS/1ACPgE7/4L9h/vT/XAE2QydElwa7SPGK3ozPDDPJMwVsAvYD3MJ3fTF6ufzyP6O94rtzvXNBG4BkfYl+WL9XPX06mP11gcQBcj3J/tFDrEX6xBoChgPlRFhCssFeQOx/KvzifQ7/N/+hfjJ7pzw9vEt61Dn3edV7JLsJ+lr6aLqeOtW7W/yjfrM/rD+lP+H/0X+Hf62/dD9BQBtAyoMuRaNH4InaCy6NcMzoyNYFY8MbBApCNPzLe5J97z8NvFL7Kr3awVSAnz5nv5IAcX4FOtt8G79tP6j/kQDZRCJEpgOhQ0ED+IQoQm2BcQBov3h+FH1CfPC8Er3/fbw9HTxbeuU6TrjoOFQ5ebppeed47zp6/CP8uXvOfUCAccHLART/VT+Xf8h/y4AhwN+CjAR6ByRKWYwBDp9OhIsrxkVCqMKSAbh8FjnTvR1AK32puqf86AH1Aeu+4n9/gVnAt7wlvCr+zL8sfdu/d4ShhksEa4IqgyFFZIOrwUF/4f9vvsT+mD2P+5k7X3trPMH9mXyRu626D7mCeIJ5KHjceKZ5jXt6/MV84L0Qfl0A70ILAVnAwYAlP6a/qMCpwjUDREW+CJfLw07C0CNMgciNRFgDPQJc/IW48LoBfo3++jukPM4BS4OegNq/j4DWgAJ8uvtNPxf/9f2kfU2CrMd7BlFDdIGtw6CDwsIqQHx+Zb3d/is+WP1Su/r6xntr/Jv9DLz5e/c6o7mOuSU4LLciN9K6ajyv/az+e/84AEfBaYD4wJ5AXf/pv/QAMcGMhBAGbshLSXvMbw/mDgBKPAVIBMyEN/2luKA4/3wnPG66oz0CAcMDHgCoAF4CLsFIPVi72j7wP+n+/L6Igh7FM8VuxSMEQUP9AgeBtEGSwHj+Rz3OvZR8K7spe5M8VTvs+uJ7nrzOvEM6CjkleS946rh+uLT6tHxvvjp/dsCzQbmA9EBMAHdAAMAY/4zBSMS3R2RJQonXDCoO8U0UiXVFWgToxPV/bLnLOOP7BbwZudX7Br/zgnaBIT/MAXNB/z87PM1+fz+yPse+80F+xGwE4sRRhXJGOoRCQWu/2IAKf4m+mH1hfCq68nqFu908XTuPeju6Rbum+z16MLkueV85W3lDena7LnxaffHAdYJBAggACj/rwQ+BXYAsf47CxcbbSdzLTQzdTvWMwAneBhCEsIRmgC772zoHO/r8rjnyOT28bAFtAroAygAy//s/BH3d/eM+lX7f/wcBe4QLhdzFbIPjRDrEq4RGgiu+T/1w/nx/DD1kenw5iXstvAO8Ejr3OdD6CjpS+q554rmRuqw7J/tI+7o8X33tvzLAhEJ4gfqACL/bgLSB7YHIAk8EcQa2SXeMV89ojlkKiUZEA81DWcCf/ee7Nzn9uxj7z3xeu0f8Ov9lQjCB6b6RvKl9gH9Sfz29o71qgBcEEEb6xzvE8YP7xAkEy0PSAEW+MP2MPk9+BzyeevP6Bjq2Ozq7VXqR+dt5c7mQedl5ifoNunW693vo/c7/ZH/tQDtA6QJBgcpBMAADQIrB2wKRRMKGR0hLSucNTc68zKdJrwXbhALBv38s/S26YfpeOo98Rn0QPLs9zT+VAU2A4b63vQ980b0+/SQ9JH3AwL5DR0ZQBxUG/gZshbIFFcMvAH0+G71qPY+9LzvBe068Mnxv+046ejn9erW7JLqBeaD4c7gL+bV7Fjzz/a5+k4ArwJQBxAJbQhRAxL99P5LA7wK2Q6yE90ariL5LMEx+i/nIi4YzxMkEMkJzvjX7r7s9+9P9Vb2MPtT/uAArAN3A0kAkPhZ8VTug+0C7c3wY/lpA38Ktg8RFScYMxm+FrER6QfN/Tz6Svo1+mn2qPUc+E72P/PT8XPzPvUy86Ly/PGK7RLrAuuT7izwre829fT6UgB3A/0FRAfaAsP+qfwI/wQBHwQxCI8I+whHCJcNQBL4EiQTgA8sDiAKtwalBFoAtv1r+7r9jwGHBCgGPAcYCpoK8wcfAmT+sf0K/N75XvjJ+bH8cf8ZAiMEXQSbBUMHIwTw/Dz2Q/hY/l8AkgFxAoMDUwGT/Wn+F/8G/44AnAIiAVj5A/Pl8gb1wPWj9tr4Avlg+Pn40fmo98zzc/Vl+V/6Pvky+aT7yPvv+uj7W/sK+rr6Yf6/AcYAXwE4Bs0J8wpvC7EN5g/nD0UQrhAbDmQKZAm5CCkGogJ1Ay4IqQgEBm4EMwfJCY8H0QQZA1gBuvob8kju5fCF9hr6x/3IAMEDFwa1BsgFdgDn/UsCgQeqBfn8UPcs+YP8b/3G/pP+P/08/Nn88/y89YXuC+6A8pf1UvRH9E710vXK9QH1o/J/8HXzgvtFAX7/pPxZ/QgBmgQbB4MLTQ9vEU0TABX4FOURTQ60DYQPtw9ODNAGYgMTAywFuQbNBogHEAmnC/UIMgDF9oTyqfVG+Dj5TPlM+u78G/9LAncD6wJYBdcLqxAHDqQFCgAYAIoBLgTTA+IAh/3Y/IAATf/P+HLye/IU9yP6Vvr19pzzFfFj8afvG+ny4yLlku2m8+X1YPY4+IH7S/zO/Cr7Nfy2AXQJlA/jDtMNwRDhGCwhpCR4JNIhKh4cGZ8StAs6B2gF6AZXBs7+BPXm7UvwtPVg92r3U/hP/SEAEf4n+BDz8vRH/MMEAQgyB94HKAp2C6kLGw1QEFwSfBEgEPkNewgTAF/5MfZ49jP38vWz9Qr0qvIT8H7qBuZi4rnirOSX5/fpN+oE7Lnur/RZ+PL4LPvY/0wHIwrmB40DMQGQAzgIPA4cEzIXkRw+InojJx+AGCQYhB3IGrcOwf6+9in3FvX88mvyz/XU+Vr7HPst9rPxmvKE+uEAkP6D+/H8WQACAAH+WwARBpcLORDdFBkV8A85DF0LHApVBdAA9AJmBBkA3Pg188Xwa+wn6XfoIequ6zHr+Oud6UbnBufl6UvvWfJl9677af6U/k/9I/4y/Qr+VQEKBdIGVwdvCegL0Qv7C1oTqRlvGgcWzxIZFOIPagstCcEJRwi3AjgBcf5/+m/1yPXQ+zT9a/0G/aj+Sv45+sr43/jX++3/NgSdBigE0wFJAjwEeQXxBYUJ1Q4zETUPjgk/BH7/EvvI93/1pvVw9gD3e/Vt8aTsKOrO6zzvl/J48/fzu/M58yLzSfIY8630O/mx/WUARgFAAMsACAH8A2EEEQE3/oH/Hgj1C7wLQQwtEZcXIxfsFV8UHRMfENINhQ6+CmwFhAHZAjAEpP/L+376xfv7+xr73vr8+Dr34PbL+Ef6lfl0+wUAHQWAB9QFyASxBGsFzAXVBCAFxgZuCcoJtAb4AUD+Nv1h/Z/9lPzk+uH3ifUG8xrv1uuP6frrWO5q7wnwt/C781z1EPmy+XX2YfS99mwAwAPQALr+agBEBKYDywTYB1kKKQznD5YVCBRmDloMnRDoFE0TgxHmEM8PCA1LCQ8Fnv3N95r3OPr2+v/3xvaL+MT6WvxX/Er7dfoH/KT+0P/H/uL+MwJvBUkH9AZWB6QIxwo8DagMLgtSCOoGTgXlAMn8FvmA+OP3lPZa9ILxq/AT8CLwAey65ZfiDuWW7MXx/vQF9874zvmH+b/6QPwQ//wCUgf2CPcFhwLDAGEB4AK8BWgKwQ2LEPgSGxPxD/QKLQodDQMP3Q7jDYsNSgttCKEFbwJv/9n88f2n/qn9xPx1/Iz83/rB+vr8PAGjBNAGWAhvBz8HGgdAB38F0AIqA60FMAhfB1sF9AJKAkAC0QFl/wL4AfKE7ijwU/F17q3tFO4A8fbvuetu6HPm0ujb7FPyb/R98x30jfZy+Yf5K/viALQHAwxODBcK4gTk/v/8cf/4A34GBwiTDCYQ3xI+ErcOVw1+DRETBRh3F7MTng/LDmAMaAZsAGr/nAKgBtkHEwbpA0AB6wCS/1v9rPsO/VsCvAWQBrEDIgITAfUAdABP/Pn6fvtwAegDfAAq/p38jP+A/Rr67fal8hDy/fAa8mfv6uml517nFOnc6PHozOo47pf08frC/Pv4pvTu9ar5ivuT/Hf+VgNuBqUHzAZqAvv+Kf7jAgcJLg1BECcT7xVqFqcUOxF4ECATeRltHvkdyBrmFqAVZBGXCpQDDAGVA1AFWQaPAkL/Evyt+1L8EPep87HyRfp5AHgAywBt//MBsgFjAuYDQAKVA0gGagkEBdL7hfYw9lT2IPM58eDwkfEw8ovzKPS08MLrt+hU6B7okucx57Hp8+4N9Sr48vUp9Jb1Ivoc/jkBfwU0CesKCwr/ByYFAQPPAtgGogwMEboSeBITFqYZnBo1F8wUVxjbGxseWRznGcgUGw7mCIoBl/pm9FD3OP1A/vL8Vvvd/uD+xfxi+zL79f46AzYIiwYGAG77SvsF/er6AfpL/MYAPgQDBcYDNgDm/Iz7Bvsi+CH0N/HW8IrxW/Ei8Czsx+cV5dPlX+hZ6r/sG/CP9B/4E/qJ+i378/xrADcEHgYVB8oGDwdLBvEDpQG8AJYDbwePCi4MwQ8VFikc9R42G2MVlg/XDgAT2RVrFjsT5hBhDUUGHv8H+n/6nP1WAUsCv/2j+E33wfmP+c715vUM/HADTQb9BHADwQGYANoADAGGAKr/hwHrBM0FEQRVATH/l/tr9q3xm+5G7cPsoezY6jPoQuYH5wvpAOrH7A/w4fLT8930fPhM+fH3j/jK/JUAyv9//t8AoAR/Bt0GQgNm/Q35jfo2AWUEgAhZEKwaZCMaJQck7R43G8QdmCEYIAAWTA1tCBkCzfjF8R3ySfUi+ez8VgCxANP9Z/yq+3X7mvtw/UQBRgMNBHwEPgSiA+AB9ABtAcUBKAMkBSgH+gbzAy0B6v42/AD50/dA91nzJOxF5wjng+Xg4f7fC+V06/LtR+/Y8A716vZj+fz6oPcb87fvFvQS94L2AfeR+mMBQQJHA8IE0AbJCTAOjBjRHj0iTSSoJV0j8Rr7F5EZoBokF8ESrRCOCroAWPip9NryJvKz8xL4oPvg/X8Azf9F/YT6LfxvAOMBbgLZA7MHKAoUCdgG5gfuCwYQ/xHxECYPrQpzBu4Bcvvu8zntiOt06hXoaORP4tPhMeJi5BjkK+K33+Xit+jT6x3vjPND+tT7wPqn+sL7Rv0c/RQAyALaBDEEcALsARwATgFTBcsOSxl/IHkmzSrTK5glIB3YGD0YARSgDccJXgfIAsP4SPLR7sbtae+T8SD2Svjf/EkC1QO3Ac//TgVEDEkQiRCDEcMTkhJpDvIIBgcDB3gHlQcaB2IGWwTrAU/9YvbS7HflkOFo3mraftXH1ujbROG/4nnhTOQL6Tjv2fKc9Xf5fPyD//b+Pvxh+LL2BPly+6r9FgAGBNMGKAZ2BC4EHAUAB6kLqxR8IH4p5SuZJqYewxkzFzoSmAnbA84CRQLv+wvzde587rHyUfXL+HL+zwWvDh4QuQtbBTMEfgpBDtEM0gmADK8THRZhEU4MSwhxA2X+7vob/Iv52fYJ+FP34fJ86Ezlr+YH5drjsuOg59DmfuW66Djrheub6bLtFfM69hv61P2x/6T7Ffmg+lX61/bR8133+f0sAYEBLgFAAqsEywaxCdkNcxXpIAoqOSrJITIaCBraG50W4g0ECRwJNAcV/yn4WPNK8+f1oPjj+v75af+jBtQKSwpMCpgRXxIsDO8D4QMMCXUHSwXrBIMIfweKAkoAnv4z/Vj7Bv6G/Zn2lu4x7FHsXOQ53ZPc5uLm5ijnfOoV7Kjtpe4o8VPxa+4n8Ub3LPuG+BT2vfbe9ZjzvfJi9fL2V/d4+lH/1wEXAYcCkglfEi8bpCR/LpYzsy8VKqImZCUiH20U3As3A+b8YvSj7+PuHfAW98v4mfcw85v1ZwAuBbUGIghuEicbqRgYERsM7A3PDfcMHQxNDd4LdAfjBMj/4PrN9Ir1VvlX97nyo+247f7pR+Il3YHcAt+D32DjVOo18LPxz+8U7nzr7upN7xH1Kvff9Ovze/bX9WzziPGS8974Tv22BHoJ3gy2Dz8T/hggHA4iMCkSLxIu3SdaI8MhjiBNF/IJ4vkX7/roweXr6Inr6PLo9tP5SvwJ/dME7wmID3UT/RlLIqMfWhcoD8YO1A4mCpcFjAWECMoH1gTo/uD5UPR/8djxTe5G6hjn3OqC7rbpm+If3ufeNt+q393lCu3K7+HvJ/BS8OLst+t18VH2jvdj+Lb+FwRQAoD+6/xh/dX6yvmX/b4F5wyqEIcVrRwAJjsquCm6JKUfIR50IIEkoxxxDuL/JvkP9LnpIuj06sPzofh1/I0DUQP0BjQL8hFLFTMVYx1BIvsfhxfTEVEQHAkb/xH7kvzC/ET5efZi+c33q/Mz8QzvUuzj5MHm2OuH6ZTiFN5x48bjS+DG4lfqFPEH8iz1vfj39//23Pjp+HXy3u0D8+76dfw5+sX7Uv99/lD6KvgZ/FkCVAkaEswdWyxZNl06iTWALBUmZSSCJBUa/guhAY39YfYl6OHh0OKa6vPwUviLAYAFGg22Ei0VNxFbDyYZkh5wGt8P6gsMDUAHrf1z92f3avbL8lHxAvRt9H3ywfIO81nw0OmS6r/v0+6R6Qznlesu7Pfna+cu6n3rruqD7QLyi/K+8Zb1Zfi9813tse3n9Oj2bvS39sb99wRNBJwDGwiuDK8S2xhwJZsyUjoNQCw8WDLwJXYhYyErFIYD7PjN+Jny3OM238nhxedi6dnw1P30BKIN8BStGvgXbhU2HcAePRb9CWwHXQm8ABn2pvES8yrz8fBH9H74KPgM+CT7Df5f+P3uY+1v7xXu6ecf5BzlWuYu6SbrBuiZ4MHeheYT7S7tte179nX/Pf/V+nL5bf2K/2X/mAGqA1MFKgTcBVILbw7PEsUZmCfYNLU7XT56ONkuhyREH7wWEwPz8bjrU+2N5fvb993q5YHrmeuc9ccCbApxD9wTcRo0GXQYKhvrGHwRzwiwCK4Hyv7f92D4C/zm+IfypPIL9fn13ffm+8P9t/cv87Xzo/CT5hXdVt8Y5TTnZOgg7OXvIe7l7SHwiPFe8Z/01f0xAvf/vvwE/XT9o/k1+Fr79P7EAEADTgqPEJISnBVqHM0nmDKNOjw7wDC/JokjlCISEzj5VurY50jnNd0/2LPcleJY6q7ysv/LBOAIIRXGH0UjdxxcHcMgUBnfDZgF9QX///306vMm+X78tvfS9Of42fcG9JTzZ/bd9czuefAl90X16epe4wvpQe2q6vjotezp8u3zbPRT9DnymPCd9Cf8A/1J+fj4x/+FAgv8cfVK9Fb3WvgN/BUFYw2EFMgdlysyN3E7sTvBNfkqzyK4H2EXHP/f6EHkPeeW36bRJdXS5F/yEfjt/SoHMwuoE6cd7CHDG3AWDSDTJCQaDAeW/rz/f/kl8H/twvK29Of03fkFAS8ATfvH/qUCTAC19SbydfR17yzpj+Rg6G7pOucN6p3tAfJU8h70mPau9rf2mPeD+Mj1fvNO9Kn4GPhI9J70vvix/aT76Pw7BHAN6RVoHCAqnDhjQqNAZDNAKCUjPSBADyn2fOmn6f3n59j70L7ad+l38434rgRFEK8YbyHHI8YfyxalGPwfQhrLCgf/agJiA475+PBy8kT5d/nI+iUAMgON/oH8zwI7Ao72eer17LjwU+rx4lrizucb50rnuup17GHrVOte8jT2zPSR8vf1ivll9kvx0e5J8Qbvauxr7Svzgfks+4gCuQtvF7YhoSwkPJ1G4kokQBUv8iJvHDwSI/qa50rlz+gf4HrSM9Xm47zvK/OL+4QKJRnbI3sn8ST0HPgbfiApHZMOBwB/ANMC4Poy7p/rf/WO+er4bvtbBAEK3gVtBa4DfvwY7+Tmq+lT5MDcANjz3NnjtOK659PqP+6Z7/DxhPds8eHrK+vS8BLz3Owz7IfwvPV59Sf2kvro/moA+QOiDXIVex2jJSs12UTVTD1Moz2rLuMhSBnyB+7tqt+F3Srf+9TU0SDenu3X9e72vwZwGLMkwCfuJaonLSF2Hf8WaQzeAHH31vov+cLx8u5+984CWf/g+hMBBAs8CYP/Kv23+9LxW+P83gzg3dlv1JPX0uEP5bDie+e37MTuYu3i7xn2U/Rm8q/0ofdW9e3t4+639Yv3HPbR90EAOgjqCHQMvhNBHA8lQyx2O2NJFU4fRcUx9CZ8HqAPl/UP3xTbANvc1RjP19cM65f4Vv9+BuEWlCNiKfQoyyUtJRQgnRoIEX4Fpf2M9kTynewc66Lzj/0WANr8hf9tCWUJTvuD8+/2KfdZ53nVIdeE26XXUdJZ117nuuy97gvzW/X19Wrx8vKP88HwavJd9rL5FvZn87/16fhk98T2evs6AGkF+gavDiQWIhyRJ4cyO0RhTlpQZkapMXkmIh3JD030ZN7n3HTdfNUty2vZVPG+/fr/qAm4Iuku0i0nJ64kryL1FXILmQPR/jT5n/Bv6/zpA+009C75Rflh+8oApgjKAzT0E+9q8ifz7eHr0czY9eJR4urZV94970/01PH28rb3//ns87PxB/M48XjwhO6s7g3vE/Eq9rP3Rfc8+dL/4QQpB8EHuw6KGQchdSqiM21F41K1VLdL5jYCKo4dHQ+09Rzc99a11XXQ68Wg0RXs9/gn/B0F3iF+MEEsoidCKZcqChe/A7r61/cT9P3o0eVb61n02Pto/aD/9AQ/CckMWQg9/mL4f/Yt9IbkldUZ2dnjAuaj4ArnjPaZ+SXxj/Ak9jv2nOw25/3rz+oC6T/n0Or97vnvBvjz/LEBuQFLBO8Iygk5DgwTAx/CI90oVjPCQsFT1VL6TLM7WivbG80G+vBW1BvLUsiCwxi9csYH6TL9LQT+CXAjvzjQMzEtGynwKnAa0AT8+tfzD/D15BXk9Oz79kEABASFC4ERBRJ/DxQL+gMJ++Pzt+224DfRFdGx20PgPN2C42D0avmf8DrutfXB9sbsPuYY6qHrBOpz60rwhfMh9QD9rgRfCR0J4QlGCl4H7AgkCnwQExRvHEMsLzvgTINSPVOvROctFBu1BI7v+9GMxsTHIMTUvfDB1+bKAmIL6hLaLEZL5kP7L7Ak0SNDFY31FOfM6OHttuat4OTsKgEjD9oQPhK4FtUWnw0WArz36+1j5i/fTte9zFPNLd1Z6yPx4PMA/SECkPnk8i/xIu5G5VzdG+MO6FTqZ+1g8qz79f0YASwC3gPZByQGRQS8/jAAMwJaBE4MihcDKxM6Qk4yXxJhMlEDMs8cvAYp6/LMJ71iw/rDHcDQxrnncgiCEzYevzY9UhFLkzEZI5kcLw2v6nLaGeBp5yvmfuAk8UkIGBUSFncSxhZFEjgFrvfd7vrpxeIw4IrdEdvF3LnqFfsr/rn+bQDBAwT4Tues4dHcgdjV0PTWDOEY5gbt1PM9/ycAnQEWAwgEVwMy+5X5bPXe+GX7iwLCE9sjMzn5Ra1clm00aTNP+idmE7f4MtkwusiwYr5Rv4TDwtMc/OAc0yS7Lqw+SE1qO+Ac4QrvAtf1etxj1eXggu/f8TTzsQTIF98fsxygG08ZqAtW+EPuQev55CTfauBY6S7qXuuc9D78ePxv9E/1Y/Mw5TDYMtPQ1nvTR9HF22Do8PFm9XT6/f9b/7j+dvw3+8L5U/h7+Cf5MAHlCjAYciQzNE5HnFUEaTVqWlp6N34UAgMa4MLBu6uUsbXBhbyczmjt+BcSKmonBDmcQrBBOCQGDHUGS/mk6BnWquFR9nr/BP95Aw0aXyFWG8QSmxIbDeDyPuKx4mHnNuEl3NvrxPyz/Hz3Wflc/l72JebS37naaNWKzrLN4tO017/iCe50+/EDjgY9B/sBrwGW/HT1kewh63XyZ/SP+lUFWx0GMKY6D0h2VtpqR2fjUKwtyA2D/TPeub/CrPqzDMbMxG/SlPVQHvEv+SqXNnVDiTllHdcHzAV2/PznM+F88XoHvwyqCEANORhHGD0LoQEEACX8Gezz3+fmF/Az8sHx/ftFCtoEbfvD+RX5me9E21LWbNkD1+rVAtnb5kbvDvR5/O8AtQHk+qz1vfB17GTsVuxp7nLvSPUP/TkDxwzFGcQotjVePxRMNFp/WfVGrCGRA/fzxtydxlS01cAg1GHUYuBM+a4gcSuWJYU0W0AxOu0WOwb1Cg4BwupQ3Yn0rAkhCIYAMwdtGV8VjwT7+nD8gfnt6YDj/u5a+cT6E/0jCDUR/ARv+3X9f//69GLhS+L05TfjS9yY30bv6/Io9Sj2fvzF+h3xvO6/6kLrz+ad6lTzVPgC/Q8AuwsBFHIc7yAYLPI6d0fEVkBQM0DiHHABCvNO1drB97OZxy3aj9eK6HsD3if/KHIf7C5wOcIxoA5lAXAHo/5H6tLdUPVyCiwJ1ABnBgMcJRqWBhn5k/pM/c/sD+SX8WsCAwfMAbwIwRDhBOj0w+9K863r9NuD3PrmTuq44wvlevIR+/f3+/K49UH17OwA4pTfseQ55nHn7Oxx+hcFGgrDDaIWNiNMKCAwFDknTd9a4E6lNM0PdwEW8dHTAL33tNnNXdWf1kvrUA6yL9MnOCbKM705FyifBRADSQQ++IHlD+aPAngMmAenAkYO4xtxEWEGsQPFB5QAWO1265P3+QAz/5v8EgctC0/+R/Ao6+nq0t/70yraPudU7NvodOzt+Mz7oPKJ7APw4fK16oPgOeIz6TDsc+vg8noCwwzDDx4TYSGYLBEwlDPlQR9aI1lpQJwbdgK39zrc/MLGtP/AnNX61kHlDADqIzcz0irtMS85fzO7FUv7B/x0+Efqct0i7VwLEhMKDVAL3BgqGpIHX/tX+Yf7i+4e5pXy9/3vACT5A/5VCDsARPMg6ojsw+ff18vUod1P6Kbprey8+rUEqv+I8+PvPvHC67nfxttp5J3uzPN1+cYEOxBVFcIUmRu6JMsqhS8iN55O9FgjS/ArhQthAA/qBc7UunO7BtOx2u3lMP4QHdQ11DKYNPk5YjV3IbQED/ww9w7rON7B4S37Bgt5DDkK+BHGG84SXwXl+YbyeOgS3DbjEPCl+Gj7Cf3WBigCu/OS6fHlf+du3kzZqOBl6jjxnvFN+JACwQKL+szy7/Jz8m/ojN6G31HqLfPd9g//GwteFXsWtRdKIgAqnC7wL14+xFISTTQ1UhUeBtr4wNajv3S6Rcws2cfcO/ooHdg3+zkQNSk9+DPnHDsB0fTF81nmTdzL3sXzGAeWCZAIygjLD0wN+wHY+Wvzo/Dw50/ma/DQ+YcBagMcCKoIrvwc8HLnuuTL4CLbdt5j6cr0Zvz9AOkG4QmLAtH29e1363LoK+Dz3RDlevCd9tz7yge6ErsVwhCiFR0i1CrfL043gE3VVl9FGSZzC1QBHullyk29wsTD1KPVWeRZCvgquTZVMsc6Qj/RJ3sHsfLl7XbhPs+S0Gvia/cAAtMIVBEfE4sRlAsvBaz8x/Im7yrthPAr9cT7XAMHBSQFtv84+m7zJuos5NDg2uPy5qDsmPaDALwGTgYVBcj9DfGC5XzhxeGM3bTeeOrK+fsAJQXdED0cFhydFp4dqSpMMVMy9z5NVZpVzTweHLEJD/qi2ZK+obc3w77LpdJu8ZwY7y8qM242YEAZNC8SIvdY7MXjNtGgyfzYdet4+dkFvhTMGzoWYBT+EpYJnPdF6+/rEe2x73v2xgHLB2UFPAN3/abzVeZg3p7eW99N4ofnd/FG+7L/8gGzAuAB0vqx73PoEuV14cvdneOt9G8DjgoAEUEcbyPAHPwVlhkOIuAm2SryPf9SmVF9OMYYVwY+8u7R7Lhss86+wcVgzmfv4BbNL/M1Uj1uSS46Bhgk/ZryO+gZ0VPLpdsg73/7UQVYFusbDRboEkQS/Qv8+YLvie9P7v/s6fDo/S0Etv9o/Br5FPEb4bfV+9c23V/hvOfu9CADdAfwBr0HNAZI/WnyI/Bt8sPu1On876v9ggRoBJsKDRd+GyoVKhM7GuUdTx0AJZg9AFJaSTgt1Q/S/Qro1MaIshuzxMMA0JDcsf64Imw3eDoFP3tGuTN/Ehz7GfPb5lTOz8hB2hjwaP5DCrkZPBvoE+YQ8Q6zBVvzsu6h9GrzLfCc8sb+dgFp97PzmvKc7Sfi/tz85v/s8ex/8f79Fg0aD1oLcQuRBhv9gvHy66jqbOXb5uvwFf3WAWwDCgzjEpkSMgzvC5gQtxHSFvUjyzzgTCxHpzToG8wJz+/BzHi21LJUwbzNx9zR/uwh+zZlO4M/aELsLroQ6/nd7aTeNss2ygTZUuom+VIIVxSqEqkONxBHDk3/Lu7m7jr1vPIo7wb27gTIB0oB+QA4/672sur75jbuyO2t63nzjwC6CgcJFQc3CG8DLvsS8znu6Odp4s3m6u909R731vzNBs0K4QjkCV8PZxKIFAMcgScoM4k3gzXOLG0akAmF+GPl69a60m3cVOXV7FL8sBDCH+sg6CATI4cdFxB6AeT4EPLM6erk3Ofr7qr1Y/sN/Jj80QD2BLkFpgHiAXIHzQioBYoDsAX1A1f7UPTn8Ffu7OgR54rtjPRp96z39vsnAgMEqv9s91nxzOzH6tHpg+hQ6LPpL/CW+LH/dAMKBQgH+wiXC58MaQyPClcLbhGyF4kd2COWLQ81eTE4I/0QhQBt8I3kWt793Prg+ekn+pkJXBI1FxEdRSEaG7sQxwd5Aj/9hfNR8GTyiPXG+f3+agcmClsHwwImAm8FIQO2ATUAIwC4APD7ifj188Dviext6zTtf+sJ64DsrPGl9+f3gffj9sn0XPKy8GnuKusJ6dvq0vHw9lL5Gf6hAiYEoANmAq0CagEG//8AeQROByAKLw9NFpMbPSAXJWkoZia2HR4S5AV9+sDy2e337cvzIfpxAwsLoREBGAYXEhjqGNoVxA+wBqIC6f4G+Z31l/oIA/YFvAeCCJoIOwVa//r9CP2L+lT5+Piz9b3vhe4+8dbwIewx5w7q0u1k7BfutvHz9gD5APhE+EX1u/Ax60/rGewr6Yrprez+9dT7Yfw0/sEBHgWVAuABpQIWBPADoQCMBNwI1AomDh0SihfeGBIWwhVQF7UV+xBMC9EHvAcrCYYMqhC0EdYQLQ/qC8MKMwlsCXgLFgomC7MLAQs5CPEBLgC8/0b/9PuW9+j4RPif+PX5evoyAOj/wPzb/B/4ffTw7mLp6+pu6H/jL+Mr6FHwXPLG72Dzj/kz+nf0zu137+rwS+527mHxWvrX/xv/2v6s/L39vP/+/S797Pyr/5EDCQR2CHUNkQ91EKQO/RLGFsgVvhYSFKYQyw79DB4OrgxzB8cJuA62EGMR0A20D9cQ6A4WDRUGrwNiAbMBJAPX/un/xwD2ABsBdP17/Kj9bv6V/5n9a/hQ9uf1Nvbn83DwlPEA85D0iPIx8MXyo/Sh81/vSu4o9Hf6PfiT8nrzRvWe8kntI+8s+gz+3PcT9sv8cgJ3/HfzhvbX/qkDjgEdAVwH5gguCeILGRJHF5gUaxAZDlsOowvpCEwKUQozCowHwQRNBU4G6AcFCvcJUAc3BjMGOAYBCG8JjgnwCQEImAZwBrEBx/28+lz5Mf20/+X/dvxl+XL7kfwW+6z4F/hg+v753/iR+vL4evZp9cPzRvOf8E7wIfV89oj1Ivh++Sf4Z/b79Xr6jPmw9FD3Tf05Aeb+xPqr+Qv81/5/ALQDVgVVCcoLswnVCWQLtAt4B94FMQlVC6UFMv0WAfYDHgCE+w37dgVUCLsGYAp9C3ULwwb5BN4GUga0BhEH9QmDB0AEVQRcAKj//v0j/80CKAKFA78E5gUrAy4BzwAH/iH9NvkN+nP8o/mt94j3ivug/f/5h/XB9nv4qPb581T0Avz9/nUA4QBy/iH+nfqa/hoCpP5e+6X4w/xN/Bz2ofUb+rgAMQSsAYkAVwIeA3cGsgWSAIv+kgEqBZoDGgDH+4z/hQHAAEQJHgvlCDkFQAMMCPoHagJkAoAIJQSz/cD7cf8ECKkD+AAuAxz/Tfk59nH6oAGAAyv/ewF+Adn91gDB/pz/f/6q+Ob9oAEeAJoBBv+4/coCxwI/BHIFTQGkAl0Czf4n/+wAUAErA4AC1P7Q+j/yLvOK+nz72ffv8/T3T/tf+JL0g/pfAlECYQTkBI8IHwSu+v3/tQLaAvD9uPqJAyAExABw/+kAnwa+BToCZQFlALAB9wQbBioD6/2T/UIC2gQaAGH6yv2HAD79U/o9+8wBngT+/+oAWgXsAoUAKf91/90Azf5iAmwFigPcAToDnwnuBfMAFQRbA/AEJwNu/wgChPyo+TP/EP+A/IX5Ofjz9rf2+vdG+cL6vPYF+0wBngCZAJcC2Qm+BewCewNaAmMGOv0cA5oKxQHV/yP5ggB6B7j/Cf/t/eUAIwEc+VH2D/ma+xn+rv8bAlcGxgDa+RD5Z/jd9kX0kfcg/0EE6QSRBsUHlQKe/gIAyQOXBG4Fswc4CTgF7/2/AL4DqAR2BRME2AVZADH6yPv3+477QPyP/LcAhQLb/a3+of0j+33+cf82/2L8i/h0+moACwEdABMDkwVpCY4GDgVcBl8DJQX0AfcAqwLx+on5qfjt8lv4O/ye/JkC3vz5+UD67PGv9vn8KgAHAZX8mf5T/+7+zPom+Pj8Qf7iAlYGlQTtBw8MEg2JDZQKJQhJC/wJPgepBwoEJQOvBUYG8QQRAAf+3v2P+wb5HflQANAADvy5/iIBnwER/On3av3DAekBYv/jAFACjP1B/FL7S/iJ+gD9jQD8A2b9T/2vBS4DEPsj9z35Yf/I/av0C/prAr39H/lI9Q34CP1Q/EP/NgXjAxf/swEJAp0DJwViBD8I9AN+AnMHTQYOAAP9wwL8BhkDIP7pBjQOJAcC/pL+/QmkBon6wPb+++wBMP2R+2H+jACN+UX0UPyn/04AKPs/+TsD2QYPBPMBCQMbBiYHGAPL/2wD5Qa9A/792vij97L8wPw3/ScByADfAC7/Uf6Y/4j+3PtP/B79I/yc/gf+g/8jAuL/TAGnAOX8b/05/Mj4Ev2FAcgC6wQhA8IDUQbOAVP+IwR4AyL+3P1i/QsDEQQ3/+8A6wO1ASL/CAGQ/+gAkQFn/4kATf5o/kkBPwInAXYEngb8A4gCeQA1BJoD9wDYAUQBDgIsANUB1QPSAdL8D/wR/X/6s/od9fb2EPqY97f6w/iZ+hT/jP3F93z2kPsyAb0Dsfzl/FICmQGf/Sj8UgEiBNcDmP8CAr0GFwIm/88A2wUlCOEHrQedC44MSAbmBIkELQVHAOf8DAGuAaMDzgD7AYoJXQYvAfT/lfyG/GD+FP+xBp8Gbv4Q/QH+ogDqAUkA7v0y/I/5IfgR+lL5avi/+xcAUf4A+7L4ifjT+vr2a/YK++T+OP9V/Fn89f3vAgsF1QL2Ad79Ivjg98f5Wv6vBhQGZwaYCa0GMAWmAdz//AOZBwkEKv7r+yD+9QbLCR8I+ApeD3sN0wVXAIL+mAAS+wz5zgDWAqcB8Pyo/ZsAxv1v/4gFVgm1BHf/KAHiApj97fjC++P8+/dO8tD2IP7i+rT0nvRf+/H9bfn2+Dz+AQJlAP/7evpF/az+Sv/QAKgBsQNaA8wB9AN4BboE/wBf/Nv9qwGPAfb+Uf4AAUMFGAWrAQsElgWuA7r/7vyWAr0EJgEfACkEmgjkBOf/gQO4DHoNcgZDAr8CWQTVADP9Mf/pAtgBHf+E/Zr9iAJvAmD/7P9xAX8DdQEA/cr9SwAM+6/1B/bB+YL7RfUu80L3fvmj+I/3o/ls/F/8CvsZ/0YC6ALdArMBMATqBNUCbf9LAtAJuwuTB5H90fzsATz/DfrL+bAAkwQrAN/5/P29BaQFTAXkBhILwwqFAnb92f74/9H9gfwa/mUDbgXAAar/2/7///gENQcABtUEUAEnAfH/g/rz+ZL78P2s/Rz+swDZ//v8ivi2+p7/O/7c+eT3m/ct9j73/fe1/DwAevwi/UsARAQ0BkUEKwSjB80JJgSS/lH+YQOUB80D4gBAAXoCNwOfAcoB2AH9/hT+Wv92/1n+iv2l/ogBAgSKAt//LP/E/ywDawP+/qv+7QGvAvr/IP1b/o8BNwGJAOkCwQU0BksEBAWFBe8CWwPDA7gCCgLh/Sn7lvm39o34gPqV+If37PqrAA8Ctv8xAeMDQAG6/BP7ygG8Bef8N/iy+iD+bP8M/M39pQWuB5UDyQJTBDMETACn+qv5Jvss/JH8Tf9GA04CLgBAAf0DogdGB9EB5v8SAFD/Q/61/O7+qgLYA9sBIgHoAggCkf5D/owC+ALlAKr+3gBVB2kDMv3r/TICMQbrBhsGjgTGAgP8lva39w34t/nC/JX89vvk+yD63PuA/qb/jwPLBXoHyQgsB2wDcP37+PH3E/nZ+1j+uv4t/e35qPjk+ar8hwBZAnQD8QFRALgAsgAbAVUA+wASAcH/h//W/dn9TP/I/hwA/AETAi8GxggcBmADxP8T/5kBQwIKAWsBwAGdAMwB4AA1/Fr53vh7/FID3AKJAAsDyANTBSADowAcA5kDOQRYAwECgv+Z+RX29fVi9z/4oPcr+Sb/KQPVBLIF+gUNCAMGXwIUAWP/Yvwv97PyDPNH9Sn2wvgC/AACJAb5BLQF/QThBloJfgPX/Xj9x/9fBIsCnPry/aQCCAI1Apf+pwA1AmL+iP/tAn4Ekf9x+/H+YwGB/wT7RPiP/FIAd/yo+lT9Q/++Ac//KPvB/kMEuwSEBvQHcAZuBhMCWPuf/5QC3v4q/jz94/9n/gPzA+5t9ioCiQRYA7EDawKt/wX78/pI/zj+sfeK9RH65P1o/fL56PhT/68I7QvvCHsFtQMCBf8FpgGYADUEsQQbBEkB6/03/Pn7qP1/AMADPwHz/dX9AwDaAkECBADz+hD7Lv13/aP/oPv4+TL9+/28/N37zfx0AMMF8QSgA/AC8P/W/k//ywGTAj0DHwUzCJEIywDl+3L9Gv+W//z9pPo59/rzY/U1+jn9Xv8iAFQDWwQtAh0DrwGv/8n/Vf4V/P77XPwAAvEJXwfHA54E0QUyBRsDYgHoAW4F2gHuAHgC//oP+S/83/5UAkkAmPtx/bz+Yvw1/kX9NfvC/OX/3wLSANX7o/eU+ZH9Av46/uD7hvubAOYCVgEwAbEC7QQpBgoEjgBP/jP+LgFuBacE8ABZ/9P9s/4QAcoAUAA6AK0AkgFA/2f83vvq/PEAzwRWCP4IqgNJAMoAcAB+/ED7TwGHByYIjQFq/4sDaADH/aQBpgRRBcYBQf2B/or+e/k2+f/7j/yz/fr91fwo/P/7Gfvg+978UPvB/tMBwP9o/9v8Efsy/fT7Y/kI+q/9rwJYBQ4FZwR4Acn78PuZA/4IDwmcBlgFvQXQAl8AUQBc/l/+2gF2BskIugL2+sP8mgEgAtL+J/ps/LIC3wTYBbAEdv+J/gICuQHm/4T83vqt/zoCsgOBBqAE/gEdAqoDJATi/sr6Nv5KAr4D3wCL/Mr63fgX+lf+Pv+S/LD7Uv46ANX/Zv1a+z/9CgAR/7H+8v/X/5YBdP/F+R/4ZPdj+Qv+RQHxA4YGfQa4A9oEHAZEAxoC8gBiADcBwv8TAQkFdwVwBikILgdeBgcExwEaAlj/UPoy+bj96QIHAjj8jPqGAC4HHAkNB08D3v8KAe4DDQE4/Gz6m/6DBi0H/gA0/sr9x/tt+y78cf/HA+wADvtx+a76qPtz+f72j/zWBGEE2/1i+vP9ywCC/nn82PxK/iT+o/wm+xz8Vv3i/Cn+KwAiBNQEFQFJAd8CzAPqA+wDrwf2CqAG/v/E/ID9sQNcBYEEBAiLB1AGewbEBU4FsAD9+Rz5nP2hAVoD6wGYADMD0QP5/7L9D//ZAlIG3AML/yj9N/tr+0z/uwHgArUBBv3B/Pb+yP63/tj81fvQ/Gn+Rv9g/WP8nPtR/Oj+uP41/Vr9j/9VAfUBuwFsAQYBJf1k+BP3s/jy+wAAfgLSAgwE+gRABCgFVQejBvMEdgQmA1MCqwC5/jwB9QSkB74J1AfoBFQGYgcPA+X9mP0JA9YGXgFh+kv5x/pf+xT7QP5zA8wCUv3H+3n+7gCcAMj7XvoV/Hj8OP+b/y4AvgFc/rf7+Prp+03/Of/4+2H7R/0//qT8kfop/UsBx/8V/Lf9oQELA2sDtAHGAGQBKgASAYwBjP+z/wP9S/iO+A78hQFPAycAcQB1AkoDGgQ4BfMGngZzA1kCtgS+Aw0BLgKGBfEIewhDBaoDFgJvAJAASv7r+W35lvuK/tX9BPot+/L9O/9CASQDGwR5A7IB7QA3Adn/8PwT+1j6V/r8+3b8+PoD+/r7Y/4hARwBJP/p/YL/tP/O/dn8Xvy1/Tr++/1kAW4DAwKwANH+Av7e/HH6Wvlx+Lr5evv0+03+6P8/AF0ArACHAyYGxAQMAycEpwUVBqYEpANYBYsGjwUvBOIDGgTUBIYFQQULBU4D5P9N/RH7C/ui/VT+F/0k/H395v8WAJz/4/4z/3z/Uv22/Fv9wf2m/uv9+vuC+/H7//sp/HT7TfpL+8L+hgIBBT0FwgPQArcCtwSnBnoE+/5Q+qr66vzU/nYAQQH3AegAvf9D/0z/sgBLAkADjAFk/in8/fub/YH/4AFqA5sDwQM4BfIFjwNtAXkB0gKTA44CSQIGA8MCwQL4AvQBzADQ/9n+lfxf+Cj1//N/86zyvfE88ub0pfY89lv3yPn3+4v9FP2U/Yr+tfue+EX3hPfW+S/8zP/mAxwHEQnuCCYIdQeWCfIMSg6YDVYL3wnSB5gFRASEBAwHvAmMC1wJUwXXAtQBIQI0ARgAeP7y+/b5hPr2/XH+Z/yx+7D93wB2AeUBAwMqA2cD8QMOBesENQLGAJ0AB/9x/qP9oPr+9vPyG/Ge8O/uqO4m8L/xZ/Gb7xTv+O+k8cjxv/Hn8xv3evok+2r79vyg/ZD9Mfua+Y36qPyr/zUCTQW6COgL8g2sD/0QsRAKERoRZxJZEmEOQAuxCJwHCAaxA+wDsgQIBq4GmgcICN8E0QHa/7b+9P04/pYBuAOWAmQBmAI3BdQFjQW/BvkHLgcNBc8CTwAy/g78BPo9+Qr6r/vu+7b6cPjT9ePyiO9l7tLtKO2d7W/uQvAs8UvxovJd88Dyz/Ed8WXzKvda+Hr5oPpi/PT+L/9M/z7/ZP8WAegDbwf/CGYJkQmfCQoKqAoxDF4NSg3UDDQMzgo0CSQIkggdCSAICwkpC7QMQg18DBgMXgk+Bc4DogThBTwFYARcBTQF4QKlAHT/NQAiAjsEcAaTBqQF/wPYAAn+9/rx+HX4Ffi7+PX34/VZ9LHzM/Qk8u7uxexq7LDuvu8U8bDyivPq8xjzq/Sz9s33rPhm+f36X/uQ+oD5Ufl9+KX3j/iR+g7/TwKeBJIGJQfXCJAJNguGDa0NSQ2BDVgPSxCcDisMqAtVDRIP+RBPEvcQmA2GCgsJkQh6Bn0DZgIfA6sFDQhkCA0IHwfoBYcFNQXWBJsEawO/AjgDsQKiASsAAv65+174FvZb9Vn0i/QG9dL1HvVA8jvx8/DC8ZjySvNu9M/yj/Ht8HzwmvCj76bvJfAh8ZPyzfNq9Ib0ffVf9iv4hfq0/AT/TgEiBTkIgAkqCtIKHgxzDJ8NGBB6EdsRuw+fDGUJnwbdCGENURFLE8sSohLDEJoOHA0CDEQLVwjhBmoHFAp1DfYNPQ4NDY8LkwocCV8IQgX5ALz96Pyx/RP9+ft/+bz32PdR+Xb7lflv9hD0s/Ee71Dr8Oo47Rjvn/Ck8TLyJvDH7b3toe9C8WjxffKu8+PzOPMq8zL07fRO9hP4HPrK+8v96QBZA08E1QMTBK8EPwUpBmcHsApzDpYRKRGXDGgI3waRCdMNYxJBFkEXtRYFFh8X4BWiEGULTQkcC3cLUgtkDLMNEA8eDy4QXw9VC5QGZQPJAtEAFv8F/qP8V/r/9qL2cvcy+CP4eve+9pjyfe176YbogOo97bzxQvXt9gH2AvOf8Aru2Oxf7anuO/AI8RryxPKY8UrvNe577yvxYfKZ9BX5M/1I/qv+wv/TAAgBNwBTARYEPQdPDHURMRWSFG0OTgnQCNgNWhStF30aNhsaGRMWlBQVFisUHw+rDBsPzBO4FMUTOxO9EX0OjQrIBycEw/5l+hv6g/vg+xb8Ifzb+2T6PvrZ+xn73vcE9dPzWvGN7avrD+1V8H7zZvcW+vX43PTz78zrWOg35tflKOfO6WrtU/AW8enwYfBj75bt+Oza7+P0K/rF/WMAjgIBAhAAQ/4C/kMANwKFBekK7w8ME5kQSwvcCMEL0hLKGbcfjiNKIgkc6hbGFXAUPxBlC1kLzQ7FEggWTRWAEdoMWwq5CG8EJgA//Zj7uPqf+jf9TACVAO/+7/zT/MX9k/sk927zYvFj77Ds2uvO7evwefN69k34/vUv8Z/skurB6THoNefI5zTqTe408qT0U/QM8dTtXuzN7WfwOvMp9xX6Vfy3/BX8lPvb+pP88//MBOoIFw1IE+4Xihf1DqUICQzgE0MctSGaJl4liBtEFlMYEhpMFEgNjA55ERISxxIrFPAReAqxBqMH8QYuApT9L/17/Mj6KvvF/YT9rPgT9jb4U/t/+GXzEPMF9AbzgfAU8aHzUPQC9WL4avsW+KXxj+u65/nlrOUG6O/oounf62/vrfEe8Mru2O097qDvCvI79Wf1gPXm9mv4DvjG9az2Svqf/vQEeQxZEysYuBsmHRAWEw1VDtoWUh4mILYiCyUyHg4XGBi5G9oXsw9dD98SZhKTD8cOzgypBTEBmANqBnICQfx8+9n7kvrY+Rb9Uv+/+lP3efkK/uf7YPcl+nj7tvfA8GXwCPb39dH1NfeF+ITzc+qw56Hmqubv5oPpzOwW7Gnt0+/p8CXuCutm7D7tTOx/673tA/A08D3y+PXh+KL5hvywApMGQgnpDs4VqBo1HLYbrxUtCyUKKhMMHUEikSRsJ6shxxcVFvAYahZnDUEKXw37DU0Mpgy6DlULnAUyBlMJswb0/+z9TQBr/4X7FvwtALf/PPuy+sv+1P3/+Lj4OfkD9gDwaO9B9LfzNvJw9K32tfKp6Svmgead5qzmW+hK6mzpw+rR7iXxy+x959no0euj68How+p070vxefMr+MD+4P8w/3wDiwnODSMPhhEvFSoY7ReeEa4ItgcREmIdiSTpJw8p3SMLGYoWoxoWGfIP9wliDdQRpxE9DzgNXwjqAgEEsQj1B4gAnPxU/sD+qfxp/YcCmwJF/Uz88v80/8n3L/TI9BPyk+3D7FXxC/J6757yD/bQ84PsHugX6XzoVOgF6/Dt+O2+6wTs2+3p6/7mUeWi58nqf+z+7s7zGPf0+Hf71/6l/2f+twDZBOwH0gmRDP8RKRf+GWIYRhG8DSwUiR4ZJxAreSspJg4azxPMFvEXqBCNCJ4JDg6eDXAKlQo9DB0KZQg5C0QMSgbb/xD/kADJ/m38kf5L//n6hPjI+iX6nvPJ8B301/SO8FPu6PHk85fxnfPZ96X1T+4G6TzqWOv86Yfqfepd6U3njuYY6M7mM+Uj5oPoZutp7ZrwyvS098f5Nfxl/qL+Gf93Am8G0AhcC6QOixJWFmsYiBf4D2cLoRN3H9InJCkTJzciixb3ELgUtRaKDxQGVgiwDwgS1A8hDr4OYgxdCo4MJgyxBAP9pfsI/v/9afzJ/mH/G/vL+Cn70ft39ZvyXfYx94nyGO8n9Pr3TPU59Rn3TvQz6yzllOdG6QnnGOWk5fnm5uac6CPsdOyR6kXrFu+B8kLzS/S39xL5wvbC9b33P/mU+Az6zP+wBaoI2gk9DmsUuBcVF24Rjw/rFakdhiOiJI0iqRzqEvYO/xELFOsPnAv4DVkS9RRVFccTZg+GCZEIVws8Cfv/k/la++P+AP+m/ewA+wKb/iH84/7zAI76gvOs9Fz2pfNK7zXx5PRD8+PzBPbb9OHtveZG5wjoGuaP5NnlFOoW7F/sluyM7OHsLe0/7STur+948CXxRvEJ8mr0MfaD99f4a/z1AdwGaguMD0MWrBxJHZQX/A0VDnsYvCDNI/EiwiK8HN0QNQ+XFzYcoxQ4DiIT2BdkFkQTxBMaEYQIVgU3CAYH1P1F+N377P5h/X39nwNNBcz+B/z4/2AAuveS8uf2I/mW9AHyePfq+d71W/Zk+FPykOSc3VHiL+QL47DmeO0J7wvqaOqU7rftCekB6EHsHu1r62/sgvDN8XDvfvKF91f5svig+zQEQAj3CDgNURdSH3QdhxbsDrsO5xRWG6chNiUSJxcj8hq8GtAhzCOuGx4TQBJsFLASdRA+DywLbwZCBS8IcQb//gj7xvvt/lMACAKjBfIEKgIMAnkEFQO0+l31MfZn90z0be8s8BPxyu+47y3vG+5h6NDiq+Ih5GXn9ecv50To7uhS6fXnHeh/6pjrAes86yHsoOot6lXr4e0s8FLxyfRF9w782wStDfIRyBKmGxQkpCCnEgIJZBOxIBUmdCjkK78toiN9G4AgLidtIToSNQ0HECYP/QyvDWsNgQZTAq8JHhE7C1MB/ADdA+wA/fzvAT8JcAXO/Jb8IQIP/+XzMu/W8LXvcuri6fjwdvTP84X1wfXX7aTi39/84zrm5eRb5qbqKOqd5rrlNefj5uHk6eKx4xDoietB7u7tqOwl8N30wPdi+Pb6aQLQCWcN1A8tFoAfmiJ5HWwVlg9SFDkdSSV9LYswXTDsJ5AcABreHOUc6RUJEZMPxw9bDzoNYAyUCCAJhw4KENkJdwGQAFMAg/3s+94BQQlNA4H4H/ZT/UX/APRX6gjrNvCn76Lqo+xO8wX2C/X/8NHufutM4vDcVd1S4ybnmuLr3iXg+uX/6E3o3OZO5ZXlMuSi5Lvm9OpD72Pv0fKc+mwDLAQsAGsE3w6aF+QYyxyMImchNRofFHYcyiXaKBwqVSdyJEobxhXWGawaVxaMD3oN0ww2CRUJGQ3HDLsHdQmiEegTnQfw/If+Ov6E91XyTPz4BqYAFPe/9nP/z/xu8ZfxyvY0+MDxR/FI+5T8nfai8nDytu2N4SXcYeDL5Nvh195c4z7qsO+q7+Ht2+tu50/jwN4r4DDnD+11747v4vSS+6n8Avpo/NcFcw5qE9IUWBvvIgcirBvZEMcP8hhRHqUglx9UIDAeYBLCDa0UdRvRFRcJ2Qd5C7oKxQfpClgQZAvFBvsIDA63Bxn6U/bz9Qj4hvbG9x/63PXW+DD9GgHw/uz8tQCt/Mv4h/dI/QH+N/MD7yDtxOun5y/km+ar5WvlMenR6/XoBeTc40fkc+Jr4nTkAeYG5Wnp7PIs8wvvTPG8+wUDa/9bAJ0ITRDSFCcb7ifNK18hQxMBC34OJRTaF+QcBSJYJkch9BWBEMgTpRSjCb0AFAEQBzYHVwKfBFcFDAa0B7sJLAci/Dj5VPon+qD4k/2VCUAHzwALBHMN1Q1fAef/GgcABXr4IfEv9azznOti6H3qa+kC4vLiHeu669fmReIe5JTlLeFv4S7kw+Vx5XjkF+jE7LLuLu/88DT2Mf3TAcQDOwhLEoAb5SK1KAUxwEEiRb4yLhKc+fT/SAlYBFT+9QidHIYb/Qmt//n+Le4Q1x/ZpfBpAd389wGcFwgkvxnlB5cCKPry7kfvvfqSB2kMfBIeHXEbrApo+17w7esv8NH7OQYYA33+JQA2AgH1zN8S2XHZSdyc4hzwcP+5AH72zvJP9crtUeIU3FTj7e4V8MDvc/PF9w3zv+xp63bvEvUh+E8FrxS0II8mPy4AO3dB90vdRhksdAO+5Wj2agjHAPzzOQFRIFsYB/UO3wLlSObR2MzrkQ/HIIcTdg6GKLgn+wZe6V/zVwqUAcf9awVFFJgUygabCe//n+5N5SLthPyX/EsAegXlBSH7o+9R64fbmtAh2/rzWv3E7sfo2/NK9+nno9lX25ziWeN+6CryE/Xb7P7jD+b05Tzo4uyJ85j8AAVmEkMXRxhaHS4yVkPkR8pT/keFKT38suem/HT10+O16QAR6CLI+87eueb/+7npleC5CekmdSTzCzMcFzhfHAr6B/XTEEgVFwC5B9QV6hdvBZD+8Af/85Df8N+19esEX/qM/zoIQQil+snlPOLo2Wrfn+/69yb5Yeu37l/vgubM3+7bBug/5pTpKfCq8aTxNuMd5/LnIetc8R7z6ANTCJ8OwwyzD+wgNzFcQkZGv10hWvMtTPI+zo/srPDj4bDgmAGTIQj9feKp4VH3he9U3cEG7iK4KKMWtR80OtYce/nf7j0HiQ2E/VMJkxliHO4ICf16ASPybd/w4yD0cQCN+nT9YAlUAdHyANxa3JTizuWt8k3woPw5/Er3Ue6k3o/k8OCp52frrPYX/ljy9u9m5wTqSeIx5dfx7vUdAu0IZhetEqwP8Rp/MkxI4VF4Z+FREB724ynZrvbL6p7dq+esFYkdG/P14B7ozPlc6JftIxXaJ8gijRoTNsU6dQ+K5kvpUQghCY/8vQO9EBgP2v8X+VP6WudP27/m7PpvBNn42v8vBBr80OrQ3fro0ueN7NfyHvt4+yjsTupJ5qfmxuBs5H7wwvZ4/t39i/2z7XvkLOSO6jfwme7N/kUMQRcoD5YOaBgNJKI6CkjaaBVgIjaJBKHiRvLT46/aAeLyA/Ygm/6V5trgavEX8O7pXw1bJeojhw8tHI81qRtV7U3hugImFAoAg/ckCOcR4AMA8tf0fOrW2SHiNPd9EOYD/f10Bk36cO122FPjOexq6cLw2/lBCgb7ye5q5tjjS+V52czmZ/LH/nX8UvCN70XlEuLX3UPsfQFOBs4NURXLHT8fDhuZJUU9YEnzW9FkekQIDFzZxeOL+UjqRtzy8jAb8wiS3orSRujH8ljfafwyKLwuyBimD38vvikU/MThHPFXCLv7Qvo/C9EXFhMv/eH5v+8Q4H7mhfZCBkkECgAWA1P+s+9W3g7Ydtsu5yL3FAB5/5n78vL/5yXh9uD16STqeOuk9C7+f//j8Urv9OvB7B3xMffaC24Tdx+vJjgkRyF6Im09YVW6Y0FQeyXF/TjfCePb4DHeGOdA+iQJJvWZ4d7WHN1E4orwFRYYHncZfhiyLkU8VBJu7VDsBAPPBB/2CAGYEMMUcQhJBEUEj+4P47Lu/wO1CYMAuAZcDKj+s+bM15jabt2C5Ez11v6F/L/xie6G8THsd+bE4obmTvCG/9ILhgCQ7+rnavP3/IHy3/UPCuck1yfOGl8eWioYObM5vUi4UqU0oQLa1hTiuOz/3gHctPD9FDUF0eaD3uflwORo0wD0GB66KmwbDhc7NZ0pdf+m52j6IRM5BZ/8LwqlGRkQsPyP+9L7J++35vb13Au6EqwE/vYq82Pv3eeA2YDRmduZ950FdPzk7v3tbv8H/kPxr+1g9Y8AZ/0x9zrwQO0D59jn//Jk+PcBygb8ETwdSCMOJ1AnuzP5ReFi5Fj8H1bmOctq5wbxL9/x3U74ZRhiB+3kd9b63C/dB+DIBjQqBy1bFZEU/ixuItP5MOfDAIscKhXCA7QEvQlOBVz5afcD8hPjM+3cAa8XbBE3/SX9EPM56VPXltdO5YbqifjA9z77cO8C5p7wY/Uu/rD2QPppAzcLYQoy8+Hn/97q6MDxc/AT/YUJyhiGINwk5CsAOZtJrGJUaSs3Y/DOwqTVtPCp5UjZEemsE+QQhPEx3/HdKeVn4G4C3yscLpkVnwkDKIsnSgAx5Y73pB3GFq0IVwXIB5EE4vIT+z7z4d3o3V7xHxqEG2kQSg7A/DHpPNBv1oTj2eWo7Sb5dwOZ66va4d3Z6SLwB+nm/RYUlBlBC4D5yvSD7L7kY+Gj7W78FQjeCrYR9CK1MldIElVKa39hNyf56DbLX+dn7H7XkNRA+G0ehAVL5zvcMeZ06MrqVxZZLZ8ifg77GLArGA115wXmkgbnFDINHRgLIIIQrffc8lr/XPBS2VPnbwh6Fx0HLQCsBc/7j+I5zrTbEeXV6671mPg4+ePfY9T715zipO+E8dv90gHdCV8KcgAJ+ijrWOyt8Rn+4Q1XDGYM0BD+Io86IkZTW/ZgTD3SAvPSYuJT9P/iB9lz6t0XIgsc5DbcpOpq+GXg9fiJJWYyhyIyC+YnNSEy+H3gRO1wEkUN5A0JGqYYjgXl7bH63//m61bpMAF+GTcQKfil+6P7IOZP0dLUueoB6fXqHvYP/vLt8csC1XLpnfah8FntbQJsBHX6b+mh7Dj4LPxJAoMJDRqhGOYXXxbEHwkzgz3MVjpOZCa17snNCuUU8yLuWeZK/HcXGQp48MTiBu/i65vlOAVoI2IqWxYIE+IoDBkC9B/msv5vFvELlAftC6cJqvWH5d307vnj9FP84Q1NGD0JdPmS/Bz5feIw2KrdW+ng7OzqCfcK9vPlgdoB4YLvbfEc8Nf4HwZ6//ftVuEp5pvz1/czAQcOBRovIWkl4CayMEA6tE7sZztFzgwf1WrO8+s23R/dhe4BFPUVgu/G7Fbz7P765Q/ulRzzI9keIQ1QIy8mKvhG4ozzLRtwFsAEsAQgCPEAnekJ7Hr18+1I7t3+EA6CED0BkgBxBJPspNtz2Ivrevpe+AP69fSf7bDe+9tS4VXmoe289nQFBQSY+0Xu1unv6jDsc/hZBmkUpRboINsm4S2YNkREe2plWhwkVuzd374BT/OS2cjZl//vENbrY9qo5Cb+FvVU8NYUrSWtH90NzxlzJ3kFKOTB694QJhuKCP0BCAb1Ad7w6ury9Ozvveiq9fIHbRD1AAL4fPyC77zb19FD41j22Pao88Tzuffs6WLcvN2d6H/1UPrRBQYMkwRu8SXjIuPf5T3wzf4uEL0Xax0YJ48wTDfKP+FbMVbMJbXtfeN2DFEL++4h4goAuhUu8rvYNdoV8hnsEur+EJEojyjECbIOxxxtBj3v7uhjCY8RzAh9CPIKFwrP8Ivqg+1y7z3xzfhHCtwLcga4/wb9Auy32IzYMeek+Bf3X/Ry7ZrmRt5E2JfeleO88kwBuA2tDdkAOvNM5BrhbOPQ8Rn9nwDmCmsaFSlLLOcws0eTZkFWgx6w607jaAJSAXz1Afd1CVgSefWQ5CDiJ+pN5q7uLhOyIOYbGQnHD3Aa0wNx8zX29w4SFeQIrQZdAxD/a/OF8r34Z/Dx8ckACQ0GDd3/rAL2Bkz1GeMQ4N/wxflM9jD1d/EQ6DXZ39sU6Uzu2uwu7wD9+QLz+uPt6OY05y7s/vXaAv4IxQywGcYiZC7pMm5ET1x3Q+YQ/t2a3/z9uvqu8yb49RTnEtHvhOIp6u35lO7w+VAgAy2tG1n/8QpaErn4cObQ8qwWBxrxC+oKfwYp+1zqd+6L+y7xy+7Q//QSVhTnAZgBLgR29rPmeOQE9jD8OPre9rvw8ehX3ZrkLvAx9h/6GP37BDoCRPhb7Qfj2d+c5OryEQOdCG0Q9xvMJPkvIDaUT7VbrzZ+/O/OdeFJ+krwE+Kf6woREAmP6A/aCOgg9yDr9wItKIc2BSIXDcIe8hbA9b3fXvKKEaMLAAYvDWoPpABq7zX32/w57EDrtgJMGvMYzgW9BogDbfJb4evigPcm/eUBDgA1+mrqi9aw26/i6OsL8K/7KQ2eDRgEkfJA693nFurA9AoEeg06EeYauCQuNcQ6g0/SWH0xnfc0y5Tllv0a76DdJubbCeL1utWmzebf2+xN4c8D+CfQL4IZCBHJKqodGP8/8T8JwBweCsYAqwAx/Hft8edr9of51e2v9/IQKRwLERIBzQWY/r7se+LI6Jv54vkbAN//L/ga6eXa2OQ/61vzMvmhA60NFwZn+ufqUedi6kLzeQOhDykUMxaDGvUimTDJOoBTD1QOKdjvuM4+6u/3kent3kvzNBAD83vTs8x34Afky9iM/R0fhyWwDREMPyR6FAn5r/ErE/gobhwaGKkU/gm48xvrWvQ/7aXezOorCFAW4wodAGMGuv1C63jgwuqd+qH5fP6S/W329eWo2WTkwu1j9aT5/AQHDxUKvvz86wvoG+zR9aoEng9tEzka2B/pKas2yUARWz9SByJ45xbPne9k9XrmMt58+aIQyusl0a3OauYQ5fbc5wNIHWkfzAd6DrAhhQhm7yTusxBQG1ENkhAVEpkIMfTX9k0EzflQ6tr2NRD0EFL8u/TI/zj1ROEx3SfxiAIt/J//SgLZ+2nl/9ap5kn1Yvs1+HQCJw7TCeD6cuqr6/PvuPipBMwOXRLpFWIfQC7FP8hIRV3IULEdNuWhy8/r//LK53jlX/5GFOnw19e80TfjlOOR4MgJTB3+HO8GbQy6HvMDwevs6NUJRxaBCqgMjgraAbPs/uwZ+fjw7ueE+nobUCFyC0T9GAQR+M/cT85K3fbx9fFX+q4AyP4n6FjYHOoL+kYBLf0tCWYTTgoa+YvoPu3X7g/5yQgDFGoZthxlKaoy6z4oSA1hLVmQIOfrptRj85j2uuVM5g/5uAod6MLVCdRZ3g/gsd+yDXse1RdNBfMKpx4AAiXtbu80DEIVMQbXDO8K5vqs5FPnzvc27XLebfAREp0ZLQeo/n0JOP+P6c3fsuts9/3wf/qV/t317dyRz5nin++s+AH69gloFP0Ldv7q67juO/Cm+yoJzhF1GekZPSQYKSQ4BUViX1NoCDkDAXzWcO7cAKXug+VX7TENufet2Q3T0tj53O7P6PewHIggxw6bCFQjJhCD72/oVAKlFvYF7AWKDasHYPBY5HHyY/Ex4fTlDQLXEyELpv3FA3EAruvZ3dPl2/qs/OH7a/zN++zwKt123vvmS/GO9b//Jw7WDez+fehY6l/wBfl2AiULBBqNGSsgeCg6N69AFVAzZ6hLMxTT1ofYF/0o9tbq3uiZCrgMW+dR2RLaGuWu1Ijk6RMpJEoabAQYFjsb9vmt5YvyiBX3FmkLvAz6CYP8VeYz5nztw+OG5sr8ohK6Eo/+Q/vH/DTvl+Du4K313f1B/Fv6t/YF8b/eD93d51vwfvag+3EI+AwmAzzwmem/7HrxOf3SCPkWlhnyGUEiui+xOj1F3l8/YJo2sPX41qXxy/m16PHce/YFEdL2MdxO2WboLeNP2i8CFiS6IecIGQrAIqIOX+gh3/X9FhWXCekKOxCWCcLzBeQA8NXpfdzP5/8F3xwlDwsC8wHw/NPs+NuA6NT02fWb9pb1Afn06MvYptxX6RX2+vlEBpoRkBFWAUnuYO5k7H7uV/b2BRYXXxcSHB8nhjfaQq5UwGiaTi0RBtn83Gf7Y/OD4tnrwxDVELfsotyW4Qnn3tn37W4ctCZtEv4Erhv0H275LuD67zINOwtUBIAPag/R+SPkCeyH+LboHd8E9QER8hHAAIX+IABg8XHdS+IE+Un7oPT39L/5QPES2FvRnd/e79P1CQIwE8ITVAfR8Drsbu3H6cfzsAEzEjkTsxQdHewjyi45Op1ek2bCN6D7RtpT8tr7Bei933L0AxAw/SXmY98D4xHhRt39BskowiQJE9kUaylQFszx+Og3AXoPcQQrCVESkgmC73Tl+fP78sPjOOpACUcYLg36AgMGf/2z4X/V+OSK9qrzG/K3+fL3beW006PbrOnK72HzAQLJDaMEW/b16gnv++4Z8av/ZwtRE68NfRmkKEYweTgyRmhnHVhrHJPhZ9TT8GPsgOBk5AwFExOD9avokuFC4zXZFOPoE6Ul1hxiDgAffysiDaPxDfGSC9ANAwQwDMEO+wT77WXrn/T369zk3fOBEN8YFwwfBHkCefUr4HPaKuv++HT9ZQJnAHr09dlO0OLdweqq9Uf56AfeDCoC6fJ54xvmOOVG8p4AWwolFAYRyCA4JwQuwjgyS/hmM05TGXri/tsm8enmUd4l34ABHwth8g/nSN9E46PWP+hgFPgjlxz8DagkuCvLC9rx/fRyECYP/QVRDRQRsAWu8BjwZPVE6HPhMfUXERcZmgvCBkQFY/Xt4zTf6e3F9dj72gQNAjX03Nly19DjW+yx8xz5HglXCqMBjvKw6PTpzea28wz9aQhCD64PlR6eJFYu0zZsTzdjSUYtEPHbEuK28eflNt3L47YHOwML6JPd+d0N4pDTU+5qGNIkfxmbDoMoEST0/dvqBfsDFzAQ3QjyFbAZ7QOP69juvvZr6kbmHf0yFREVuAL5AYgBSvDm4pDkPPhZ+zz8MATdARH08NoD4MPwdfmu/GT+9AyKCN76AO1R6RXt2Ob47b/5pgrJD98MFBZvHj4rCzVqT2VeAz8/CLLcmuhR88PiPNk7580H/PtC4MvaduE14njTue3nFN4erRSyEF8oGx+3+abs6wCnFswM0gcGFQoY9QDJ61vw+/JX50TnogH7FjUSkwLUAqMBWOyq4MPnIvun/nX8PwWLAtjyDd154cDxu/hM/lYE2xDHCk79zPMQ8Nvvdexh98sDAw4LDmcQ3Bs7IfMpGTR+UGVavTUKAIHcUery85zl090q7o8HrPml4CfaGd/C24rR2+tnD/4URAq3DOwg7hgC+A3w+QUQFHIK4gl1GJYVLvu36mn0V/fU5UfmvgRaGZUPMPzO/SoAGuqe20/ky/l+/wb9XgdzBb/zrtzD36LzB/mt/PcD1hHeDOP6re+R62XtGeus+DMK0RRXFKcTKCGDJm8t6zTpT71j/UFyCi/diOI/8unlXtwu6B8E6P8b69LjnORp36/QcuZLDGcUDAlrCsEgch1U+9jp3/v2DbEFSQV0E44S2vwg6k/0z/q458Ljkv2pF+UTJgEA/wYAf/CM39fi0fHZ9fH1fP9rAsb0reL14SfxSPb99NT8BgrKDLwByvMP7nDuYO+E+e8EKA+WETETKx/XJCswjDmrTmxlaUyCGTflFtrO6krm993q5Pj/0AVR87bmV+Pm4ALU+ePoC8YdBhTjDbsgUyIiA2/mZ+8fCmYKlgl0FOYUGgLU6Zzt5fd06q7ik/d8FNMX7wf/ArEDN/PA3rTd8emX7Z7nvfLs/oT29eX43lDwHvpZ9hr7Lga0DdgDIPec8F7uFuyR8PT/FQzHEFsOzhgXIwcsyzm5SW1nW1wBLdD62t126Enk79j73PfxMgIR9MTm5uEA4rrah+DbA24b0xqqEy4hRiooD1/t0OjoAm8NeQcbD5oTHQn58pnr3ffk7ZHeUuoVBz4ZEw3NBYYK7f9Z7DHhU+to8rfo4ep196b31OgU3EPl3PIq8m/0EABgCW0EjPoR9qb0lPGO8Jb+2gqoDfgJHA4tHaclsDFAPs1awGcSRAgTXOfv53zyX+ac4i7s3gHX/q3pQtvO1QfVi9bJ9NES7hYbEP8V6CeEG8r5Veuk/ZoNPQlXEAEb0RMX+q/p3/cg+Afhqd6B+V8VohCmAPYEtQQJ8XfdAeKC9KL2RfKs+YL9f/Ff3hzaFOjM7trw2PdyAEQCDvng8qLvNfBz8h/6sQaNC3gMVA5wGnAkXi0sN3RJbWTQVHonrvZv5b32wvAJ5VvobP9XCp/28uRp2zvZUNJf5fUNXx2AE78JMxwPIuMHDe8e9OcKXgljCZgXKBw7C+3xY/Q0/vnup9+H68kFCBCqBZICsQIV9inpduQ46m3oV+lp+8YC4/Ub4fPf+OsY7A3niezV/T//MfaV8vfy2PTf67brS/ZfAMgI1AzOG3koIDJROadBrFuKXIQ3Ff512PzmqfW/7inl7/O4C4sF+fB54SPjKt5c3e76JBUaG2AOWhJ5IGAUgf3i9OoGjA25CkkWxhw/E6H5Rvd7B6b+fejv5vAANhBIB8kAkQZb/4XmwtsG4hzo2+Fc564Azgdw9gLh2d9G6Obnw+j18ID8q/oL9X3xA+2r7CzqFO3p7xf5LwogGa4kdCSMMOs/C1BvY9ZUOS+0+S/Zy+Lh6TPqQOiU9KcBOPkT7srhpN5o3oXrEwwWF0sR8g0kGgMi+Qvc+UP8lw0hEmsNVBhsFekJSf+x/y8Je/d+7Pv2oQXuDWMGKgniBTzzM+ZY4p7m0d+638TznADi+x3tnOtU7WvgiNwA6i398P8p8zfztvPn6FLgR+QM9Yz8GP5ZBqURDBxLHSonxDanSAVjrFyHM3v72Nlg6Ifvpuil66z93An29E7kY+MG44jV8NfyB/olWRysB0USlyzvFMPvw+3tDssgKxAmDuEWwRTE/6T1FgOGAFDyJvHZBg4WJwyNAuL/cPg75Ejd3emf8T3vBuy/+Dj7luo34XTjTuw+5U7hY/BK/k4Dtfcy8czpi94P4jbr3PoK/+ACbA3MEscZYBu2KlY73lH+ZxlNnBVe3V3ZI/jc9QLpy+wwCiwP0fNj5LTgzOB81TXuiB/DJl0TtAgsJVEuhwMu5lDz8RZKGVUPKhorG5UNIvae+a8HYfbg6fjyDw+/GhsLCwTQ/J7zA+U84Djrz+kl6i7wnPx//hbqHd2s27TlS+gY5ArqJvIbAM4AG/Qj5x7e3udn9IH5AP26AisMYRGREc4YQCyYQOVVkF4SRroUPeSy3U/zSfWN6q7umwmeFTb9UeJW2AvbPds17NEQtRteFDcR1CGwKscGcO0O+xAW6BsFEZMX2hwCFCQB1v6lAQ3qiOEH87wRzRhGA54DzAilAYDpyNu269DxgPNR9k0A7QRD7SzYxdKX3PvhWd+H5D/t/fxj/Y/16e/w5aHnwujp8L79Mgb4DAEM+BW6HuEq3jc7PiVU9U93LgABGN5h6cHy9u3964n4Aw17AbDsBOIE5Nziw9sv9kkT+xq1FAIVcip4ItwCufRDA1wZqhXhEOgTRhilFZsJ8AWM9hjqffFY/6kKJwIIAbUKhQcX9oXf7txL5FnuFfpR/QD57Oc53dTcaNtB2aTX2eSt9Mr9Vf+z+Gb4UvHa6IDlK+X38q38sAodGCEaZRsrFEYh/jbnSWFba0mpKAP/XOvc9kzw1ePG38/5lA+7/h3uYOaV6gnfLNon/eETohLRC/wg+Tr3H/r3dfX8FdghUwx5Ci4XTBzwD9gF2gwL+jnf1OAr+psPKAKe+OAB4AaU+TjeQdhw3vXmae9F9BP6zPGl5CPak9d72ZLZr+Pn8xsEmQWc+5P0LfDm6inmdO5Q+xgFAwwLE0sbrRqyGXwkzjLaPH1N4VQLPDsJmuI/7dj5zeal2ffwFxE7Bkvod+TP8Gfk5dL+7uIWshqsCc0WdjpPM8oEtPLECOMVKQ1SDGgeACMTEUEGyQaq97vdheIq+2sJ8v6V9fsF5gam9qjjcdw84pzjavCX/HP/nfOA48Heg9fK1ZfXnuK08+f+VweiBRL9Ke+f40Phq+de86D/cQ4iHDIhbhvBF4wbLiffNL1Kx1+8SwcXhuZH5Qv4x+ua3T7qbA0BD4ruduDI5JflttZE5UoNtxtyEeMOpSi7LRALpPJx/nkUqRMcDYMXpB5aFJkIFQacAYzqYeDV8KAARQU+/P0AcgJC8g3lu9wO4+jjUusB+qT+xvx17oLraOWH20nZwNp66pf11f/gBIL9NvC04DDeZ+dC9oQBZApkFXYerhwYFRgWJyK3NYZF9FuDYlo/qwjZ4yvr/vBV4JLbSflrGIkI6+io3F7lO+Fw1sLuXQyIE1ELoBYHL9oi8/7a8SYHyxR+CmQKjBmuHQcRAwf5CmwAjeTg5F37ZgrV/fnve/3b/hrswNZg2v3pzumJ7X/2WwJO+nDsCuu95Nrc9s/o2Lfunf2SCLUEev6y8PblHuVr5tnvp/vTC9oYnBtwGmAZNxvOJyg6m06HYGtW8jKCBbbrg+4S7M3h/OWoA14VQf+S3zvadufd4w3dJ+9GDmwY1hMEH+cqWh6lAEL6SA72E+cHGQjNFoocjBPKBvQB2/J+4HvkvfHZ+Qr0IviOAjT7BeoT2TPcsOAR4hfuj/lHAA76WPGS6IPdQdY82eDpzPkwBeUGbf+Y87DpwuaT58jwt/zZB9kO/hO/GC0Y4RWoGswwokQlVQFh1FJSLKL4GeXq7yjtGN9o4vQEBxP0+BfinONN7X7eY9Zf9VYSpxe+F8gmdDIIGmv8kfz6ClgKXAOPEG0b4Bb+CoUEGwB45bbXR+UY9rj5ifK3/jIGafgi5DXZAeBT33LhJO85/AMB3vnV80HsW+Nj3qvi2+8L+zED6gMu/Orwl+jY5ZzpOfJJ+nkDcw5CGzEfgBojGq8k7zY3QmFT8l+cRzAUAenJ6tD3yeXI1qjsoRP8ECXrG9346AntaNvL3e0BIhepFS0XwCnlL/kT8vue/dIKHAhDAWILABMuE88JyQAn92Tjod6d6OX0+Phk+e4BA/9e8OrgpttL4jLlG+3f+60EkgTv+qvveOV429vasuGe7Kr4VABPBWj9aPD66iXoAux38Ib5cgktFJAYAxasFt0b2CWhNeBGrV5zX106mAkY68HwNPK+4Arh3P01GqIK3ezt6Brwken/1QToPA8KG8wUEhYPLbgqtQgM9Zz8HAwBA2r+CQp0ERUQ9gGl/CXxrN352k7l2/aa++T8uQHG/C31uuiY4JfgM+Qd8h3+//+3/On1j+mV29vXBNzI4s3qj/bYCNUL0vwq8pHuy/DF80L5JAX/DCoSqhdBHmwhxCDrK+U82k8bW9REvRhK8Hrp7fqE9JzjDOrFCMgUwfie5LTm7ulK3qffCwRqGm0WNhGCIWQvThT298P1rgSuCNoAbwd2CyELdgWmAKL5wOKE3vfqXfkJAAT9sAJV/u3ypOeZ3mLeDN5+7KT6svo/95nw2+2941bbSd0035vkxOz1ABwNWALg9tHwf/MG9ET1P/94CFMT9RqkJAsooSL9KoU4ikm1VMNG+CQC/Y3tvfYz96/mDOIA/TYQZwKh6/rifOdx4ofjN/59EwoU/Q+/Hecrohky/0X4gAMMCzMH3glZCj0FqwHNAS79/+ch38Tp0PeOAewAcQcNB7X2lOlD4AjdkdkQ4VHy6fnk+E/sDuhB573h2+Px4LvlefBW/H4FOP3Z95TzaPL79Pf13gBIB04PqRkzIL4j6x4JKcM4UUfeUz9DOyNj/z7w2/0f+3frD+rQAfsTvAMP8Ljn6OiM5Ofm9gRuFBMQUhFsJDgzwRqe/t358wOkBsUAPQo9C1gAWv3qBM0G7uxR3MDoLvywA5H8rAPHB2b4CO3s5t7kEtxV2brsRP1n/C7s2eUe6azkMOJa34Ply/Hc+g0D2QCS+tD0RPb8+ur6+f1TAfIKqxQYGPEZ/B2BK483VEf0TVc36hIX8ETx8ANv+6zt/PQzEOEVjPuZ6d/qVe/95/nyyBHQFo8IEQgIIuorLw6k9T78Xg6lCcUC9QuuDM4EoP0PBQUDhupS4nTvIgSjBN/66/8f+0Dxsei25ODkd94j5334nACb9yfoieiH59Djz+LM5MXuJ/fA/uECPgH++Kbyy/U99q/4Q/xgA4IRDBryHaIe/yQjLg86g0ruQBAi2v/B8xEKxgwC+GLxagNIFtAH8/Gm7eXx4Os16EYCKRO5BwX93QxRJQ4XQ/hm86oKIBjqDEwLmw2CC1IHcwQ3BsX0Y+K+5dD1RwM6/HP3Gfi98zPybumR47/hieVD87b3I/Um7UvqNuw25/fliOPh5eLv9vkqAdT9TPcE8SXwN/O79Mn7HwSCDcAY0B7QHrMgDCcfMSFE9UkhMjkOTfUV/5gPuACv7xz50g5RDen1HOs677/u+OZJ9hoRjQ2h+3b+0xlvILYFBvUHAYQWThXRDVoPcwuFBjsDsAVNALvviOoF824BMQMZ+oH1r/Ck73PsY+JX3l7jiu989snzzOw55nHnHukT7Y3uwuh57Db2Zv2h/EH2TvRh9LP0tPaj/AcERgllDWgVQByoIFIr8TOmQYFMyDqHF/X1lPJ9CFwJOfda9HwH1BCI/jrty+w377bnsusoCmsXagdh/LIJJRkUCRz41wFeFpkakBBfE5cR6wUh/gQBWwTG80frivXhBB8Iivi670nq++cq6x7n3uF44HnptvLN78jsTew57oXrM+dN7Xzt5etV83T+ngMG+a/xPvM+92j30vXE/UYEcQoRDxAUlhl+HvIqzzQhRYNIMS20CXXvnPmXCpb/bfWqAEgTUwyR8aHlKOlN6VXmc/eZES8PIQFZBWcWVRZN/sb4QAq3F4oSrQy5E+8MgQMeAtwG2QKi7S3t9PvTBooBN/SA8xbu0+nu59zhrt+F41Hyp/wS9PrmUuMA5jLn2eiL8Ab2bPuYBLUIqgK78W7rmvAw9Br27/bA/vEEjQoFEsYU2RTDHJcvMEGlTnZD0yMVA9vxAwPZDND+lfacBMkU4waV7JHhLOcL5qnll/toDsULMwR1Dj4bBAwR8p3xAghCFjgRmxD4FegOKgZvAksDDflH6a/wLAOdDWIBOPVZ9F/sReVV3r3h2uhT7cf2mvnz8fPhbN6h5ybvWvNe8/H3oP0/AGv+kfYJ7hDsdvHg9sL5X/uV/hQE0gpAE+8YVxj+IVUzbEPBTd04gxkF/+/1GwjpCLX8BPvBChIWnAF36argeuTL4qroXQUhFfEMOwJdC+QTkQDx7/v84RZWHloTQxJ+E1QHJf4L/68AZvNU65r7jQzTCg/20/Cb9f/t/OWy4mLsUe8w7DXujO4y7BXiReSV7RPxGfNV9ED7Gv7h+RjzzO0b7ujx1Pfm/En/+AC+AOf/SQTgDM0W8BpYJYc0nT6ER0w3Oxsj/8rwrAN5C1UCBf7lCU4T3vvT4bzf8etx7YvtugSRF0kLMfuiBZkVygt8+FEBVBicHGQP0wvHEAIEMPol/a8A2vg879r8Pgq8BKHxcOuC8ePpR+Ec4FDoIO+578HwL/Df6nvhK+IU6VfuO/Jp93H97P8N/C3zZfEN8wP3lPqr/Bj/q//lArACAQZ6CfEOZRqUI6cs+TEZPWo6PiCSAnj1HglsFB4HCf8lCrURwPzK45Dhdu3g7QHvlgVmFywJCPcBAf0O4Aab9m8CaBuRHiIUphJIFVkB3fQP/3EIUAJP9Jv/ywlw/ULqheRf7KHlsOPh75D4/PX27KjszuwQ45nZROCG7pT0x/Ut+sb9o/wS917wFfP29X73UPqn/WMBq/6Y/Pb5zv6JBNUH8hR2Hi4nlSwVN34/9itQD3v/Mg0XHaIOdv99BVIPAAVb66vgsOw69Qj43QOaDwsIvPdE+04Isgkk/kT+LhKYHAAYuBJBELgDnPgJ/SEEIQKg9i36YAXqAPDwx+ak67XrOOon7sHw/O7A58HlPeYp4jjdWuPr8CT4jPqq+U/3CfTr8OLuxfDt9Ef6owI5BNf+DPek8gf0V/ma//kFnBJFHkIoPS5GNTs9yy8wFvgCvwm8HEIX5AjSCmgYmROl94DlOO5B/DP61PrHBv8L7wJg/DYBQwI/+dv0ZARvFUUXSBOxDwUHDfs++kz/FwF8/icBVwo1Bk34he/27oTpeOKm5zPv3fCd6lroB+uv5j3gi+IP7eLxn/Mu9kr1vfD2607tGPEa8VDwJfjU/5X/F/wo+Oj5df33ATkHvw3JFzAjQixlL9gz7jDNHtgI7QW/G7slkxcADFUVIBvSBVHu9e8oAeMBJPpa/9EEef1t9Er60gF3/Kv1AP+RDpoQXgxCC+EIIgPIBOIJWwe3/xn+2wVqBIj7BPjv+IDzSeqX7WnzlvM175/uqfGg7Bzomejm6wbswezo8B3u0Ogv6JXsq+3C6snsQ/Qc98/zC/b4+VH6k/hS/G8GcAtIC5wN1xXGG0ghbia2JC8cVRAbFBYiBSZyHiIXNRlUGegQ7gNU/jkADAHwAzADcP7n/VAC6wQYALH4GPlWAM4ECgn7DO4ICf7Z+o4BkgJp+oT02PyoBaADO/8e/Lz3pu8V8GH1X/Up9AH2aPtW9qTrYucO5sfh8N1o5YXr+ehn5yzsrvJ/7vnnTeyS8yz2+PlE/0QAOv3t/F8DEQiFB4ILnRZtHPceACUVJ3EgtRJ2EMIcZSPsHuwZzBsYGx8V2AwgCAEInwT3A9EDqQFFAmIEMQXMAUz+sP3w/t3/OwMVCGMFFf6S/HQBWwG0+jn4vP2cAGb8Jfw//+j9QPdT9cv5//c482LzcvVN79HjUOJq59XmDuMN58ntrOvD5aTmzuyH7FDoTuxi8+H0EvWU93P5Nffj9Zf8dQSkBiEJIBFBFzgZNR1MIF8fURliFkodPCIAI6okwCTKHjQV8Q8JDXMIXARfB4UNJQrMBFYGsAeVAlL8fv+MBOr/DftTAdAIQwMY+xf+1QP//hr2/vix/5z9l/py/j0C1Ps09dv3ffZg7D/mhOu+777n0OL46Qru2Of14xDqy+4A60PoWu2y7+vo++bh7W/yQvJZ8tr0v/W586z2cv80BNkGoQ6hFYQXIhpGIHckuiBaG9wgRikAKDskniMsICEV9gs9DU0QUQwRB50LQw8uB+X/mwBWA3//BPvI/0sEWAEW/ksA7ABr+qz3Ef0YAA79qftHAJoCVv4v+0P7Dfgz8efvkPKc8XnvjfBG9GLyzeyT6yTs+Opg6ezsMvFx8VPwHO487K7pMOq47YXttevG7Wn0K/nZ+Xv64vz+/vn/vQPrCtQRSxblG14hUCFPHD8YwhyKIs8g+ByxHOgdtxmNFDkVZRVGDmYGrwjDDR0KBQU8B2YJdwN9/Y0AbANr/KH2EftQ/g35affc/ikCBvs/9f/4bfr89A71M/qO+fbycvKG93j10+8G8S/2//NJ78zyyPTm7azmW+lu7vboQORJ6mjwYOwP5m7p6+8r75HrEO+z9f31wvMm95T/awXBBvYIlw91FZUWkhk8H24joyJWHwEi1CQDIScc9RsZHd0ZqRYKF6UWKRC2CTILjAwCChcJ5Qn8Bb79ZfvG/Zf6vPIM9Pv9KP+p+Gv4Cf0V+gry4fIL+xP8zvZ/+jMCyP/p91L2HPh987/uvfKB+UX19ewa7iDuJOjQ4v3lb+zb6bLnJu3V8crtd+g76gLt2+vD6cvuFvZS+GX52fs6/lf+uv9ABZQNsBPiGRYjiyYvIkIZWxZvHIYgryGSI0gmmiOqHGwZORmVFVwM5wjYDBwNrAkgCDsH7AHY+o76v/3F+Inx5PSJ/af+1voQ/KT+//to91v5lvxY+DD36P0aAYf5RfIM9H31GPHt7ZPzofYJ8OTsAu8c7m/oaOdo7qTwmOq+5rvpqep05dfk6eoB8FDxo+9j8FTyhvNi+Iv8f/0//+YEDwxyD3wQwBW2IGAliB+JGLAaBiWQKeonXicUKdMlER26GpgcVhlYD0cKug1hDQgIhASsBIz/xvcs+eL/igHI/YsAowXdAYX6KPqO/2n9pfgy+0r+xvkX8grzU/aS8QDtrPB19g31b+/D7+/x++7x7Lbtpe4J7eLqmesQ6iXlR+B236LhkOTy5YzhzN+O5gfxwvXZ8gfz/fe2+6v7KAAoCv8QrBf4IHwvIzpyMnQhYxh5ImM0RDWfJ5ggnSP5HgwO/gQoChUKHgCR/n4H3QMd78voLPmWAxX+iPogBBcHffxT+6cCoAAw9nf6bQ2vD6UAd/dC+3L80fY1/AcI0gcW/Wz5Rv74+0vwxehJ7Pnuwuup5RbglN5F3Y3ec+H44c/iheUr6xPvp+mY4aHlhPFJ+Dv2rPTN+YL71Pp6//4J0BBKFaEjwTCfN1U2EywjH/4T8B+6NnQzbBwnEnEZLRMJ/V/4eQd3B7j2xvgtCLz/M+ie7d4JghAC/7X60gY+ANnwHfjTCMkGo/uFBm8WaguD9vb1XwGl/9n9awvXErYB7+sr7kj58fWf7Kbqbe0B6DXeJtp415jWEt316DzwHeym437go+O/5/Tqg+8n9cn5Ofrb+RH8kPvD+nP/9wtYGeIciR86JfArWDNDMdckUxQgE4QnVjHNIPkM5QzdDyYEkvsmBBELY/xe9MQDAgmq80HiGfHoAz/+0vX//8sHvvuq970HbBJXB0D+OgswE40H9/xNATsGVgDe/tAGygQP8vbmy+44+Cv06egb5knnYuOC3iLeRN+h37vidumu7XXnyuEP6M7z5vib9ub3PPsP+yn4Nvz8A9IDCAOcCDAVexggFAAZRSU2NPMvdB7PE2QVeCZhKfQaaxDCDOQLrAIo/ikG+AN69IPuLvmh/X7tguPr83oEJQIM/HoAIQPe+G34rgvkF3cPyAXYCgcODQAn9ZH6zQDi/Ov5MAPdBBPzvOKm5tP0YfX+7O3p1utr5w/e+t3h4Vvk1eZV8D/4SPBw5ZXm9vSJ+S30J/az/BAB4fo/+mD/3v9Z/5UE7hViHIcc5CEGLlI8Ey7xFsgNIRaKKiQpURz6F8cTggvz/R75+gBS/ADxMPbCANH+4uzd5qr3iv/U+pf6GAOvBan9EgEoD6ERfQYZAGoEOQQF+9H4Ov5l/z//1wIrB+L+/Oyr5Vrppu4w8S3xQu5e6AHjjuAY3gvbr+EM8Af4U/Sb7CzrW+2I7fLt4/F/9jf56/pH/Un9TfoG+w8AvQ0mG30gtiSuJqwygTgnJkES7AyBIQsydCYPGRsSAQ0vAR34yP8kA9T4HvNt/ckByu5X3pPoZP0KAWT83ANKDa0HFv/2BbkNhwce/+MEIg8eCPL7h/ve/0b+ZfzwAhsFD/ql7DPuw/b/9BTx8+6U7tXqSeO64d7el9sG4OfquvJK8ZLuNO818J/s8+qa7kbxL/TL+yUGRwcLAZX9gQeWFugYVx1ZJW8yyjtlKvoVzgk1DncgYCHJHDcZgxBiBjL5FPja/a/2sPCr+XgEo/3n6NXjVPEh9/X0Tv2/DO8Pmwf1BtsOxArQ/9gEIhIeFBUI9AEpBTv/m/iU+3MD7wED96r3jPyY+ADwnOrc6aLkzd5v4QfmkONF4TPld+sI72Ptfe7q75DuLfBU83X3VvrW/t4ESAbXAjf+UwRiEI8XVh3lI5k0NT7zKaQPhAJRC0QZGROME/4aGxeVCxj8BPwH/MrsEuqa+QMGP/1l7M7ri/Xr83/va/xaCwIPmAxvEEcXSwyv/iQEORJBFJ8IdANaBvwELf9H/er+lPjZ8ez1LvuL9/vqy+MP5Vzim95w3inhAeKM4zHrBPCS7T/nz+zs+jb+h/q697v+tAW7Asf/tACaAYb+hgUVFNIfzSPqJF82GzjNHmgGHQGiFY8b/hEPFaMaphU8AyL5XvvP9K7mA+pz/ngCtfQh7Jn1lf228qjvcP2ACb8JYwsJGUkdrA64AcgJGBZXDtABrgFHCsYMXgP+/U76S++y6W3tUvRb89LnfeUj6u3n+uB52UHbGOBU5BruyvS69fXw8/IV/Tj9bfVO8Z77IQgjCOQCZQNtBw8HowrxEXEdYCVHLG44nTCdHGgLWQ3zGQwUHg7gDcARmAsW/fj4kPCN5RLfLuwY/ar3/O8g9FQCzwFD9Cr0VP+QB80JYhPiHXgajwx2CDUS3xKgBtP+mAQvCz8IAP5i95jyCuuP7JTvgO+y6I7hfufe65zqv+Qp45fnp+hI67Xt3PEY80D18f6LBHQBE/ep9X39YQKOARz+ugIBBwkMVhEgFTAdgCX3NKo2CyZ4FUUPqRihEoMHwwcVDB8OVwDY+sP4Euvv3AHd5O+79i7w/fHaA7EOgAJi9wD6eASXBQgIjhQjHPEZhBNlF28Yhgwr/7D91QOEAeb6/PSN9Lzwiexi7n7rPeWa3dHhTOu77IDpsejW8JnzKvE+7vfuzvJ29Cv8IAMgBAb9ovi//dj/8/2R+Ab7iQF7BvAP2Ba2HuMlZDPjPmUvhBSZA2ELmRPTBKr7wwA4C2IFi/X282rwhOTk2U7ljPlT+abyuvjIDPIQNwNt/XwFOw5DDD4P1xaCGsoVLRNIGNcTNgcu/Lb/ZANa/Rb0Zux67dvosua65ufkGONY31Dlburv62PoWekO8tj1cPfk9N34aP0j////NP/bAH/+cQDjAOcA6v87/tIDZweNDqYSCRgAIQosyjolNOYeygrSBt0NFgIJ8Qjuy/iTAMX5SfUl9onv1uMT4Vvqne6+6Drt8QF2EhYSbQvCDWEV7RIHD/kQLxFbEZAQhRc3HYETuAaZ/9cAj/4z9cPpp+Kz4rDjMuhQ6N7kAOOG5fPsVvBn7XLoF+xF8+b5Evz2+wAAvwHsA/sB3f9q+x/4D/2JABMEPQHnAsEKURIPF28VYxocItIwjzSWJOQSkQXXCIQEGfP46Qbu/fnZ/KX5rfgQ9Q3pI+Ga4zrnbuWe5TP6RxGvGD8T5A0kFsAYBBN/EP4OKRIAE1oTgxnkF7MPAwYXAIwASfq87I7dy9iA3YrfYd/p3pnlnuzX7Unvh/F78fXtV+7p9Lj7a/sG+oP/NwaBBicCqf/c/tz+Ufwq/NL80PzMAPEHNhOKGOge2iZ9MYM6WiyQGO4G0AOnCJ/8wvIm8xb/WAb+/XL14+9u6izjUuKA5ybrTOt48uQC+Q2CEesORxK3Gg8dah0bF0UQUBKuFW4XJhKZCtYMHA3qBQz7KPHa6r/gCdmd2KLc795C37bloO5n863ygPGm8SHzK/R09Rz4ofeM+g0BDQe8CT0GlwKZATUAy/wT99ny5fbE/40MGxW9GYogtiWMMfYvUR8DDQ0Dgw/xDq/9Ou/J8JUAdP7y8iLuVPGu8k/sEupx6/zpuug58en/Ig2LEg8W8xw6ItYm/COeGfoQNhKWF2gWIQzkBVELpQv/BaP5RO8G6Bnditk/2B7btNy+3oTmLOw+8QXxJPHU8hX2zPgi+AL4PPmmARcIEwrKB8gCsgLBAKr8Xvjd9V75Hf6JAQ8IoQ0WFF4ZEyGiMJYxRiTeDrQITRVADhr5EuUL7uoG4wdy++ntD/D79a/xRezf5crlwO1P+TkEXQoIEI4aQSBMI/cmNCXWHNYMPwloEVcTGgqk/xEEZQzXCoD77uuh5DThO97D1lDTrdQR24njROpH8J3x0/Ed83r3Q/yP/qz9gfxA/nYCGweZAmv7yfpZAUgGhP/T98j4bP2x/uH/Wwa/Ex4fsimFNF8zbybAECsJAA78DPgCYvHq8nb/QAcNAvDvQevp8f/7zPqs7KLmku6N/jQGCwWDCRsWRyDcIngg8x/tHe8UFQ+gCzwKNAilBTcIuwhIBW395PLU58je3NnP1zzXXdfD2tjeK+OR5bznCu3I86b6o/ui+W354vrD+lX5Jvq5/DH/CwC4A8cFjgIa/V/6fvu++yv/FgfkEkcbvyERK4kvwio/G0QRFhKNFIYO6/069ZL4RgJ8BBX8tfbm+JQA1AFu+hTzmvJ29zL55/dX/PwIrxVoHKEdnh73GtQT6hAWEVgQ0AjQBWILqw4HCUj9TPcS9XTxBOu15NPfptzA3NDcQ9zB2ibgP+qm8iP2MvRl9Zb1ePYk9oz1qffN9mD4XPqp/+QC7P/L/dT8cADqAIoBOAaaDK8THxf3HX8kbCbLIFcW/RHfEe0SsAy1AEf5A/lr/vUA2gDLAioF+AQ1/wX4VfWA9Cv0mvTX+FUCggjFC/cOdROyFoMSSg+3DwUQ+QtMBJkCxwTJBr4GsgT0AUT9WPl69lTyguw+6fvpMuqH5v/h1+NL6ubuGu6L7C3wVPae+Y/3f/VR9Rf29fYm+Mb6X/tv/W4BAAXMA0r+Wv6kAVsFdwaFCMQOcRLsFDMWMBg0GEQVVxKrDjQMYQkDCZgGWwKzAWsE+AmUCDUFKATbA8cCNv3R/OkAJwV+B2IHsQmaCk0I3QWMBFYE5QMAA68E9wUrBQIEagHT/2H9af2FAJoBBgBF+2r4ovbd8hHt9ecm577pf+3W70jyAPMs8h3w5+1q7cnrSez87xr3v/yy/bv93v33/g7+bP0//hoAtgEfAqwCBwIaA4YECAjJDOYSZBrwG40YOxG2DQ4NvQsiC6QJSAqABnYC4wA/Aq4GpQfaCuYMxw5FD10MGQt6B6AFkAOBAH/+Sfxy/Q/+vPzJ+wr97gBXAwYDnQPaBeYHuQajAfL8B/nm9vz0U/O786v0g/Z+9RDz6O817bzsPuxU7gjwQPHM8C3vh/AW8+D2gvi7+QH8H/5r/7v+5P4v/1cAfQEtBIoG2ARwAqAA7AP5BtAG3QZiB08LBg5GETgV4hYrFoQSixEkEJsMAghMBAMFDgbMCEEMqQ0jDYILYQzXCmgDXfuG+A379vqf9rH0r/bE+iD+vgBWBKkFUQZ7BxwHuwQlAP/9Pfxj9zzyffD19Fn55flC+Vv4+fbB8pXtf+u267DseO7a8U71+/UH9iP4Wvxh/s78A/0H/cD6J/b68235Nf5K//z+sABLA+8AQf41/qIAQgJeAyQJ7Q3SDt0OQhLSGfocBhwDHdsdpxwsGDwUsREdCn4Cqv9RAUcBbvyn/NUAIgO2/qr3p/YA9/v2gvZ4+cr/mgPIBYMFhwSWAcz94v2k/wcBeADuACwE2QR+AOn6pviU+Av2nfL58XXyafKL8Z7zUPZ29Rj2f/fr9jTxNOsm7ufy2PIE8S70+Plj+ff0nvTj+Hb52vdg+3YB1gP3AN8ASAQmBJsBsQLQCAsOFBFPFgUeoCNGJSAlqCLBHMAWDxXQE6wNaAQi/iX9D/sB9xn0T/Qs+Bb8o/9aADX+BP2Z/Ir7J/iU9rn6EgHRA3EBfv7I/hEC+gQdBvMF8gUZBhIFBAN6AD4ANAHyArUCP/0l9yXyrvHL8M7rJ+kl6arrkuqv5+DoYutW7sjvOPPt9uH3yPig+WD6a/iY9/n6tP7A/y7/VQGkBKAFHgThA6IGWgvEEBgUjRVzF34dWSW1J9sh9BhSE1gQgA0LCeUFRAQ7Am7/cvpy9vn0KPil/eMADAFd/p38ovkh9hrzZvFn8xz2TfoZ/lYCPgcYCzIOhg9cEuEShw/2CXEFSQWPA/MAif7w+8f2fe686Q/oGObG4TPg6eOT59noIek07LTuCe8z767wKvRK94n8QQIwBKUCAgGQAtoDGAEf/pAATQZrCgYK+Aj+CdcJIQoQC+ENSBDVEfIXmR1tHg8ZBhQUFesUDxHUC/4IPgcOA6j+e/zp+wT7p/uv/GH7lvdF9cj3s/rE++H8dQG4BYsEIwF3ADAFcgmLC2ENfA6PDbwI6QQgAQf82PYg9JD22PUi8S7stOmU6RnmluL+4dfkM+kD7I7ur/Cl85r2yPdp97z2u/hw/Z4BlwLQAB7/z//HALv/C/7X/jUDcAeACDsG2gP/AlMDMgS/BJkHVQw/EoAXHxu2HSsdIxxGG6oaRBfMD6wJqQTvAAP9/fuI/10D0QaNBsoDEv8L/bUA9AJQAjgAEwIYBPcAiv2m/GX+yf0s/moCbQWgBIwBXAGy/175YfOl8tn0qvNY8qb0h/hV91PxkO1i7L3rmOrF65LvgfJU9EL28vZ69NfxLfO1+IP8Cf0d/aT9lP7b/S/+ZP+vAEICzwKmA/wC/wKWA0EEowUzBjgIQQomDjMStRRmGIsceyGfITUfOh1pGD8Q9AUBAsAB6P8Z//sB+Qa+BScCpAIPBaoD5P8pAqcF7AJT+0b4Jfss+qf1avNa9u/4sPh1+y0BPwWcBEkDdgNOAUv7yPXK9Nr0EvOh8EnxtPJ78B3tWuuq7AbtQOyJ7Zbv6vEl87n1SvkN+937+vsA/Eb61/fB93f6+P2GAJwDvgf1CuYJ1QalBQ4HJQkrCgAN3Q6yDPoHVAZMC4IQuRQ+GWEeNyGFH6QegxxlFYEKBgObA68EoQIKAEIA3QFVACb98fqE+lL77Puv+zn66Pfg9q/3hfkh+6v7KP1E/2MAd/9o/en8G/0L/g8APQJOArL+C/r79FvvlOpy6Sjsye3w7JHrkeu/7ETtm+3S7Xnun/C581b3VPv+/5cDywTcBJwF5AbkBkUHjAdFBmEDqABPAWEApP1B/Ej+4AMFBtMHtAqfDXYQIBELFpgcLiFNI90jDyYOI7oZKw7XBekBWf6w/N/8k/1B/Gf6C/rM+f758fpl/Yj9pPrF99X1qPTY8/31x/pg/wMCSwP4ArgAwv61/mYARABv/gj8w/kP93XyR+4M65Dqx+qd6dPn7eYN6s7uTPT191b6m/y3/jkCigGk/tz76fwrASkA0vwE+W/5I/xi/YQAowKVBOkDowITA8cB5QBjAV4FnglIC7EM1g/NFAwZRB7LIj4kRSJtHxQfUhuKEqAJGwVaBMQBhv6T/BD6y/aV9aT4ufrU9x31ffY6+Sb4efW792j8bv71/PD6FPqR+FT4dvvr/3EBBACv/5gAcwAF/lD8t/wN+472kvKP8UDwY+ou5PbjaOk17lfvWvBQ80r3Sfl8+W36q/tw/TL+PP69/lP+8f2V/rYALgEf/nL72/wuAFsApQDoBPoKGQ08DPAOABODFdgWrxzMJfApSSpdKEImBSFLGI0RNwsrBVj/k/vH+Bf0dfBh8AX0tPZ4+Or6J/wf+kr0SfCn78PxXfaH/KACFQUtBtYHZQhoBngEgQfdDMMNlAcn/mX2XPJT8EDtb+nk5wzqM+tG6E/kVuN15HfljelE8Mb1Uvgj+4kAwwHg/XT6XPrT+pz4Kfln/XsAnwBdAQoG+Qd0BJUAiwGGBiEJeQpDDOgNkg5bDx8UhxmTHrkkdyv1LhUpvR+JGH4SQwzABY8CtP+k+TbzcO6o65Tqy+wB8yP6rwDiBUMHlwT6AAIBjwP0BOEF2gXwBAMDrgCb/lb7bPpI/pkD7QSIAef9x/p09rXvBulG5T3k7uS05PjiN+Ev4VDjEuZZ6DHqF+6P9J36fP7vABAEiQWoAqkAJgPjBo0HCAYtB3IIHAZhAx8DGgNjACH+nv/gARsBdQADBLQJ6Q27EGsXTyEbKNIncCJdH8Adkxn2EsMMBwo4BxcD/P8m/fn6FPu4/dYALgBk/f37m/qT+az4Cvnd+h39mwApAnACdQMVBacFywRLB94KhwnOAkT8fviU8yztnejx5sbkquLY4QHhrt/r37flpOy+8Ffzxff8/nED4wPaAm4E4AdBCNYEIQFVAL3/Dv56/DT8Ovsb+af5fvua+x34WvXk9cv2TPes+Ej+tAaMEL8aWSbgMRs2KzPcLJAr+ytmJd8bVBLnCdL8Cu6V58nmY+gx7KX07fwX/0kAPAOGA/D+JP7ZBvAPJRCYCl8GQAPs/rz6vPmV+6b+5gLdBCIBI/l38U/u9u3Q7Mjqn+pD7QfuPesh6TrsAfEb8UTxmvVd/MgAQwJ5BdEGsAM1/0j9dfwz+RL1//F38Wnw2u+O8Bjx+/JH9AT4FP64BOIIqwigCRYMxxC1FGIZMSHcKE8wsTFrLYolEx+hGyMVkQ4dB2EBO/oH8f3sgOnP6tXwFPg5/vr/KAYyDI8Itv4s+oEAmAY/B5YHtQn4CPgCpfwr+a73RfkU/2YDPAPq/x/91PvN9WTtv+aY5KXnDOlj6Jnncuiv6p7rOe038M70yfnK/hwC+QCa/gj8KflI9X/yAfM981vzj/Qx+Ef7XfxN/+cB9gPkBLkEVQTZApAD3AZQC9UQLRhTHvAj1yw1Mw4yryiKIzcmQiEQFeYJmQaXAov1cuyg6mHsM+yL7BXzV/hQ/EMAIQOCA1MAbwB5BAIHowaABYgFNgb8A+n/Nv4h//YCRAVVBAgBv/st99jwmOnF4+biDeZK5QHiA+Bf4grmxuYB6cDtQfP19637Nf4j/9L+mf78/tb9Wf01/LL4u/To8UvzI/ap+Rr+nwH7A44EnQWRBWIDBQLNBDQNsRaUHgEn0TKUPKk8OTQALKsq7iZzHHcQ8wVP/WPwqOW84iDjg+Z26tfw4vUD+Cz9IgLBBM4DbwVJDIQPcQ4GDGgMWA3DCb4ECQIpAXb/qvzM+DT3TPZG9P7xduwP6S3mVeKw3ijastqK3ATgV+Wa6gjxCPXp+7QCYQSeAdj9/f9AAUv+lvpg+hf8BfmA9KTxA/Lt8mX18vyiA9YGdQdJCfIKBgjPBAYINhIYG2wgQiUBLVc2VDl3Nj8vFSguJFYdIBIgA//1D+6U5mLg5N2D4fbnzOv07vrzRf1cBwwN9w6BEAsVkRjEFVcOogjABjUFMwJb/YP5HvdW9mv3xfXx8uLwOe8e7KzlhOF/4S7jLuNd4DjeC96f4ljqVPGd90/8XQFjBA0DVQEV/8T9tv16/Xb9DvvN+PP4lvkV+Tr4tfsAAocH6AoBDoARlxCBDPwJIw3CEjQXIB0RJiwyXDgtNnEuPyWVIfsbLhMECEb+evrB8pnpBePq40TshPJA+Bf8YQJgC8IQBxF3CxULqg9VEWwNnAdOB84Fxf/e9zD0IvTj8YzxMPKi9QL2VvCK61fmd+bH5q7lzeYT5hjn0uQZ5GvnWOoM8Jb07ftSASwCiwNBA/YDtQGT//D+uP1W/o79M/5E/Vr9fgA6Ah8ExQJWA2AEzAN3BJEDswTEA0AElAiLDRsVZxxzKlA4kjtHNXUqcig8Jrcc9g/OAwP9d/Kc53/igOK45cPmjOuB84r8fQUJC/AOBg9WDrgN0AvGCMkEqwOGAuP/+fk/84/x+/Hl8sTwK+898TDxIu4o6MnkeeNF4GjeXt193pPgGeXB7WvzM/Yk+QT/1AaRCykQrxP6ES0M9QWHAgz+TPfm84L22vqS+x/7mfu3+wr6ufdI+cj8cgCnBKIJJw+3EYgUHBptJfg1kEGTRIg8OzOAMHwpYBqnBBP13u7L5azcyNix3ffjKObM60b0Kf7fBscQVRi4FVwQGw55Dw0KP/8X/NH9cf1r9EjtGO3m667oY+Sm6FjuU+8o753t5O9z7a/p++lS6w/vOvAR9ij9NwD3AfACwAgACkYIdgh/CJgIhgJ2/dH4APJ07P3orOsF7QLuefED97z97/6F/xYAcwJqBmcJRw+uE3AY7BuBH9QlTSocMm44STr6NH0pGCTkHfMRvAAa8YnqO+NK3Dzafd5M5T/onO3y9XX/Twi3Di0T+xEQD+cNYgv3Aor21vBZ89H2LvRq71Lx8PVW95X0nPQ9+6f/Xf9o/Yf8hvpe89Pt1OuI6nrpBevU8vT45/rn/GYAFASbAU/+mPzC+hn6xPdh9+v13/Np9PzzWvVU+CoA2QhODDsNwgubC6MINAS+AhMEFAotEDgZByPuLSg5izw0OjIuBSUMJHggjxaX//vsjOMI3E3WG9BP1ardDeXo63TwM/snA08Low98D/wTXxV3FTkNcQTQAaH9Rvur9R724fh/+dv7+vg2+i36U/up+9Xy+O1j6evqXe2+6vbqFOhN6l/tEvBq9Hb3KABiBWwIeQdBA8kBoP1F/Cr4l/RB9Vv38PtH+Zf2mPT79OT55PpG/ocAvQRWCeUGsgXgB6IQ1hdhG5QjgzDuPrRALjfZKZofpxw8E8gCcfAr5bvh/dgw0MLMTtNP303qNvm5BSES8hy2InYjwBsIGiMdxhwfFkQKugSO//v58POB7RPs+OtK8R70dfP69I311fdu82TtO+qB5kDnHucZ6cTrVe3V8UHz7PWC+T3+SwQPBcQFbgTgAcX+wvan7/HqgOzg8IzyrvSy92f9TwBSAZcCzQGoAkMFwQqEDR4Now83Fq0dJiG/Kp44xT+ROL0m8B6aGqENOvYe4Trf6uFZ4EDavtpg5zPyYP0ZBcwOgxuYJN8tUCqRIh4dCxgQE/4BdvW28BbvxO3K5kTonesX7yzweO3V7y3vl/LZ9bX1FfP+6XPo+ejX5w3kZeID7UL3wf3W/1gCIQboA4oBfv7c+9L4GvYu9ULwuuvZ6R7rX+0D71D1y/yfArsGswg3CYQH+AbHB0MHsQeuC7cS+xmBINYphjZOPwlAPzdYKjgkfh9IE0L9ougC4+rhO93j19/cWe1B/NMIphBCGLUfPyMMJcgdThazEXQN8gYT+JDs9eOB4IzhcuFH5+vt8/Zf+2z3JvbX9bH35PPk7bjtv+zb7G3pbuYS5irl+umi7u3ykvY2+v8AtwLP/4v5a/Um98r4aPiA9Xb2J/op+1X4GvS29UL55v0dAywGqwe6Bq8IXgujDSoRmxgnJgkxrz1yS3FR90icMe8i8x7iFLz7HOD022LikuBQ1P7PdeKS9h8FuQsLEXAc9CR2LBomVBYbDMMHGwZz96Tot+Vp6Zfuo+zL7YDwT/Ep8yTzVPZl9Xnxqu9G7LTpzOCa2ALand9j58bqm/Hw/PEB6gJGAsMGSQoWBtAAR/y0+XL0DO6y6onqCO7j8Af01fZj+D37Tf8pBGAGxwM5BMwKqg+JD4AOlRYCIVwkiSf5MIhD9k2cSkA+UizNITMWnAQw6kzTUtKv1x/ZGNRJ2p/vWgADDAERoxpkJt0qGSpuHpoUwQ3qAwL23eQU3wvfxd4I4KXjmey+8d/0qfa188Hvz+qH61vtJOyD6qHlceSI5s3qR+/L8N/3bwKgCssKkwS4Ac4A+f4j+cXy6vFI83rz2u9i7YHvCvIK9Vb4Z/8cCOELHw2eDJMNOA9JD64PdxIRGxckvyx4M2A+Zk+lVHZKfzHqH3Ibfw1o8/7UZc+s1+vTZMpEyi7mCAGADCgS3xgYJ9ApvCX+GX0KnQLr+1v31+g93GfcPeFD5+3lJunH8Oj2mPtV+Iv17/Kh8AvwgOsz6bflZuJo5vjs3/J48NTvpvnvAAQA9Pmz/aQHyAcc/pfyI+9q8N/yR/Oc8tL1u/2cBqcG+QFW/0kEIAoOCrMI2wYXCw4NIAznC0cPVhrsIa4qpTWAR0FVN0/jPZInzRz0DlX1mdqOyorRhdSI0JDPS97M+kkI0g1EEcAcQypHKXYgIQ8pA2j7V/Gl5/rdm97v4TXlcOvJ8iz7rPwZ/Ub/HgBA/5/4WvJi7azq2ukT5CDgpOLw6/DzzPMa9a/4lvrZ9xT1/vmM/qT8Ofju98P8Gv6S+Rv3YPqNAdsFAwYvBwAIHAmACJ0H0AeUBjEH2Am3DqISRhdWHbQlWC+5N9FEhkkpQDEo1hHXDHUBLem1yifED9My1abQW9SU8/kPSRXNFcAZTih0KZ4hrxVdBpYAt/ls9GTnG9455Qzu7/Vz9z79SgTrARX+vviB9c7xgOvd6UTnV+RS4fjcZeLX6431DfmI9/3+ogSCBaT+6/fu+ND4ZPnX9EDyPfYnADIILQXNA3AI2g9gC5wBTv/aAaAE8wBuAi0DWQF3/o392gQRC7gU6Bq6Ii8vtT5BTP5DpDFbHcYUWQyG9EvcdcuP0LHTL8+60v3kJQY9FV4ZCh8FKgAz5SfNGmcPbQgTACDxs+j+5Inpq+wc6+buR/jUBDkE4vgL8fnuv+5F5uffAORY623uV+l16kv0dvxa/fn4nfuaAX4C+/2o+Q370/02/gL9F/x0+xn9pf8XA/UE4gLpAKz8u/qv+bX4KPnr90f7GgBZBOQEcQOdCPYTsCCtKJswQj0sTSNQ4j0hIV8Mdgkf/8jl0MtYyWbYY9XTy87TXPgkF0MZQxsnKAs5njPPIEITvgY+/P/uhujv5Czj8ebW6Qbv3/WN/lwAj/lm9jf58Pcg7mHl5ObC7WTuQOyX66j0wgOhCmEGKfrm+Lz8Qfn98Hfs1/Sd+lf73PuL/yUF2QVwBQYEmAOVANT5efEj7hvxH/Ec70Pwm/w3CPQKlAnVCsoSAhe/GmwdzSWhM+M/eUcjPpQvYBzuDQ8Co+2G3YTQkNaW3EnY6Nwr7SgOpRrfGJIf8SikMF8fDxC9CKX83PEl43/lo+n76NbtovGx/3kFgQQ/AXf4wPnr9qP0te9D6ZLv4vNO+eb1cPHr+M39dAB/9lHvZvIR8rTxses07Q7zL/Rc+Ub9qQTUBvYBsQGr/6f9uvVR7nPyt/ci/Bn5X/c2/ewB6QboBhELYhL7Fy8d7h4gKew2d0YhTZhB1i0RFhMJg/hX33rL0cZo1aHYHtcy47T99BcUG8oe4CjALn4oGBbzCykCT/aY67HjgeeU7un1jPnA/K8JqxI4DWD9QvMI9YnwS+Yg4d/m7fGn9R/4u/gx+zMBaQMQAhP5ZvQc8mnrSOYd5MbrQvE09h0ANAmNEfIQow8TC9MATPZy6dLjLOIE5vfqRuua8VH8YgqtEDMPGhPMGHoetxzUGiIlhjRuRQJK4T/ILgUZtgxe/hDnxc8BwTPJFNCH0Yrc/PIcFIMigCkpM600yi5oGLAL3QQG9+7pMd1U5b/w4vS09v/32wi6E3MRNwXY9z33f/Hf6Dbi/+NW7sDv3fBD9bv9fgN6/gr99vsl9v7p8t7X4kHp8u2Y8/v8OwlWDVMPXA8kCVX+9/Jd7c7ntuKW43fru/Sr/EEG4A3nEo4T5hbDGWIV7RO8FdUgyCtENRlF+kbIOWwe+gnmA6Lt6dDVvJXDqNMhz5bVQfFZGGItrCynOS1DiTtJIy4N7QVo9J3iM9sz4U/uUPRr/CoBTwbUDUAOswZR933w+O165DvbYNqU5wjxCvMf+Ev+WgXLAtb82vcU7Rflqt2I33vnauyJ9hv/8gpGEYAQDBOcD5MJL/x88f7sC+Ut4g3lAPIB/EQBHQpnEjsYxhIDEJEOUwu0DDMQrR/iKz45C0ljRgs1SBfjCEUCZ+a5yt+9T80x28jXPOslCxkr7jT9MtpCND3xKZYQi/6n+b7gqdYR2Gfkpfeh+ikFPwUPDN8SaQUM93rk2+bc5ADai9y95Ib2wveu+hIELwTXAVv23vMI7Erdk9it2PDke+0B98AHNBOCH2kh7xsXFMsERPqo7TDjZOAh4EPoUO5o9vgBIQqBD4kOPxFNE2gNRAKH/3YKlRUnIF0v5kzJWz1MfTE3Gp4RjPWt0uTC5cRp1KnTwOApAPQeLDVTN+hBmkEzL/kVjfxJ8ajemdLM0xfdhu2V974EpgrSC/4QeA69Atvsk+Ch4NvZ0tRy2eLqkPt+/mIF2QjUBPH8q/Gm7pzjy9uN3w3npvTu+e4FtBKGGeccWRPfDPkBDvch7F7fA9633Q3ke+wJ9uP/iQJxB18LWQw0CfgGxQjADCYSqBsgK006zk7sWV9RqjYKGZgLZPXm1j/Bb8Tv1pzcO+khBf4lNTWYNM85AjdBI0YCwOqQ3ozSnM6O1JPkx/IBArAQPBErCoAFigU4+w3m+dyV4lnj1N8/55/8HgzoCJcKRQ/QCVH4POeN5ffeYtfS2EPmc/eq/2cM7hOeEosIwf1R+SLub+b649Tmaueh5svw4PusAuYCCQk2E9ITqg2DCZwM8g0nD3UVMiXFM8hCOVatV8REGyI5DgsDWuSUx8y8SM8H3ZPgpfYPE1sppCajJEMqnR8PDSj2ROuf4bDVsddU3nfq9fd3BooPUQvKCbsK0QRE9FblvOcz64rrC/IK/3cO1g1HCLUFvft/8aLkiOBn347ZRNyj4HDrt/UU/8QJngdjAxn96/ep87jqdurp7YHymPht/M8BNwPGBEwLlBAHFDUTvBWmGMEUbxOnEpkaHyPZLBNCTkgMQKQmHRCPB/bvA9q4yb3OAN8y5JnzwwKnFp0gPh5BHggTWgrw/O3v7+d84hLpIu7M9X7/Jgq4DKEDiQC7AugEfvzY9Zr4L/nX9LrvR/Wb++L8zfpv+e/2Ve2E5rXhUeH94GThu+X06NfwP/fK+r/4yvhOAKIDBAP0/jwCOwV6AMj8v/wkA+cE8wS3BycMGBBrD5YOcAzKC/cJ3gl7CVULQxb0IKIuBDR2NasxryBXEa/7duwI34XUHNpu3+fs5vbxALQNoxF3GKQX7xWfDhIDAP+J+Gr3vfTb+PgCcAmkEDUNDgsQBUb9hfpD8pTw++vY6ADr2+r67yfwOfDW8GTwOvKp7yXvD+6+7ZTvru8P9F34w/vh/5sAUQGPAj4CCAMWA/sDVQQEAVH/b/9oBDAI5gg2CuwJQA3sC/cIEwUfATYDygEjBCkFwQlMEUwVtR4hIOchvRp/EVsP3gDp9u7o7+bG76rxXfsE/VMF1wodDRsVhBEfE9gM1wkECuADKwVG/hz+M/6z/ZX9e/Pc87T0evhH9vvt9u+k7hzxF+9O7Y7wFfDf9fH32/k9+sX4Ef0//Yf8H/kU9qv1V/UY+ZH7K/7x/50CswgkC+kI4gMfAQkChgRIBZkFgweSB3sHWASaAt0DKgSwBegA3/v4+Q76cP0a/TwBhAcADqoSShM2GtYZahQ+DpcIdAzfCdkFbwKC/6ECQQKcA+wB9AEqBdgDwgPP/lj+WP5Y+af5Nvkj+q32V/MS9734EfhL9PH2pvs6+xD7nPiv+JL3IPfg+vn7Tvyi+sb7P/2J+g/5bPcH+OP4Nfqf+7/64/2zA2cKXgwWCmIJuQexBSMB6/7a/BP51fkA+vz8Fv1r+Un7w/2YADcB0ADH/7T8MvsJ+2X/pAS5CV0P7hGuEv4RThHTE/cW2BPjDVEGPQJxBIkDdgJc/vT7E/4O/8YApv5O/gr9Ev37/gv9af2d+kf7PPxz/qAB5/xx/3MAYQGV/srzevPI8831l/UH9uf9b/6X/OH5evznAQ7/Pf4DAa4CiQF9/9T/VP4W+Cj1qPqBBNYILQQYAYb+0/s3+Vz40/2L/7f+CfxH+xL//v8JAQ3/aAGeBtUErAG3/x0G+QsFCt8GzAdlEEgRqAulCSEKhgwVBocB3gUXBBn+efdQ+YEBJQFh/c36dv0d/7D7CP16/8EBKv/C+6/9VP2O/mT9lP3eAD3/V/zs9HH0mfz8ABEBcvth/OMBrAEJAJkA+gVfCIsDXf8zA4gElPup8yzxIfdv+x35s/ql/zsF2gEu+Wf2MfrQAsoGFwU6ACf6hPgv/mYGKglBB30DMwKBAuf/Dvwz/CwBHAYwC1gLpQXUAggErQZoCFQGEwMBAUv86Pv//RX9evx/+gz/+gIdApEATv0pAHIB1QCV/wb+m/+7//oBUwLmBLIGCAK2AGsCSwfKB7kEmwU+BmUD4v77/lwA0gBlAIkBuwPW/tv5pvm0+Mr2q/TZ8of1hvZa937/ZwBY/MH6IPkp++393gIUCigKVgGm/cIAigEn/5f8KAQwCz0HAQFm/WoAJP5C98b7LgNhBS4DJ/5yAKsEIwItBGsK8QtlBzYA+PsX/Iv7/Pja/JYCWQO4/y78ov3AAbMFQQGJ/jkC0gOHBX0Bqv+AAsoEzwRQBO0KNwqIBNgA8f7OAy4ChvvB+zIA6/2X93H1IveQ/goAIvqk9gf0zfSL+un+4vyi+7P9ZP/+AmcCYgLICp4MjQaG/RD2Nv0PBRkEZgHh/+MDJQMT/cT9UQHd/3z6f/YO+nr/C/w7/BcC7QPcAl/+FwDcCQIOhAdlAaADkAkkDLkErP7rA8sGMgFM/QX8Yv5hAbT7yPt0/vb87QCPAvwESwnlCBsEU/4G/kgD3gWb/9z8Lf+f/S33JvAh8wP7+/65/tL7Nvai9qoAugW6Atz5PfgtAkQETP+l/98BNwF2/0f+DQQDBDX8qvypASMJlgYJAE//Xv3//lf+HwCAAZf9Kf1x/k79HPij+IP+3AMvACH7FgJ1BkAHJQMKA08JrgUCA3EFqAdmA4L6D/gZ/K/+4P0mA6QKrwoCA4n9Tf+bBq4MIwuxCS8DgP9lAxkE7QIq/cP7i/xd+jv4H/lX/tD8rPpz+9H+lv0N96T5Lf/rBIcDHgLDBXMBd/uv9nj8KwJJ/V76VfhB/w8FuQA1AP0AlgEFAov9qPkf/cP/pP/hAOT8OPxz/WH3jfU09+X9XATx/fH3yfmlAQYF9P+v/Yn/8gRXCasPzRL2CiEBhPrpAEgJEghFBWcCnQTeBxoGuwPQBqYJpQYwA1T/HgAEAUH+2gDYASH71fQD9qD8eAJyAiEAYgAR/3f/fwTLA378pPhc+aP++gGT/7wAGgHe/qr9x/oJ+pT+FAXSBm4Cnv1H/W/+Z/yw+y0AWwNSABP7pfec95T5aP7oAkUDJwBk+577qP33AVYEQQE2ALsAkAVWAQb57PmQ/m0Hdgj6BkYGDgWrBEsHZBGIDW0FVP2V+QkFdQQp/3j9c/9TBe0CYvg28Nn5IAUCCjoHGv49/ycAywATA24EXgPj/DD9KAKkBo0D2vdA9LP5RgBLA8UBZP99+xn5R/pw+y7+T/0M/ZwBjP8v+5r4CvkY/skBJQFnAccCHPxW9+b5GAK7CHMBffnX++YHqQrx/k/6dgBsC+cH5vkN/H8Hrgir/pT49vzZABn/GgIZChAJyvpB9iAH/hPdEewEm/uf/WH+5f+nBDcGWQLD/878Gvv9/cX+I/+Z+Sb7wQTuBvoD+fkW+5cBvwIqCO8HeAUsA3cC4QS7ALn29PHh9oH8Vf01+AL2ivmJ+7r8Sfq9+BX9ngAHA6MG0AQhAIr8MPqFAB8F5gGlATUDNQGs/zn/hAHDCa4HCQI8AsoAjgZiBpj+aPwt+Ov23vla+yoC8wWTAIj+n/oT+1YHhQ9gEAgJ4gA9AvEFgQE3/2oDf//T+sT4Wv0NAzL6l/Jm+S8FhQK//Fj/tQbkCgj8pvZM/j0EvwfA/x/+xfwJ9FPv+fJ2/YgA2Pq09aH8wABw/aIAjQH9BeMFbf9QAZYCIwNtBPoEbwP/ATYABPtY/eUAOASQCNQBK/xl/eQAtwQ7Aj7/wwEUBsgFBgIV/VP7JgAoA0kFMwFE+mb9OQKXB8EFp/6DA80KvQx/C8cG5f84+HP2HQF9C54GNfo29Hv5Ff7D+gX37fdm/p4B5f7o/p3/mPmG8yD02/vJA2/+FPr3/3AEfwFF9gH00P1tBTEGcgRVBYUC3vw/+Sf6U//UAvUD2ACR/yIIsA8DCq/73/WIAJ8LDQjJ+yP3b/4JBVcEUv7W+8/+bgCfBGoIhQZDAYb/ugTXDG0PPwY6/wX9GQD1CFEIWwN++8v0KPolAO3/Cv8C/jP92P8AA0gL8AyK/iP2UvdS/lECbvtF9df1Jfbq8bvvsu709G/8z/wuAcT/tfkt+A/9hAd7Cw4D6PdS+agAFAngCkUDr/8V+3z9CQawBkMCavw7/V8F0gnlBfgCMwIPA7oC9vjk9vgAdAmoCOf8//aY/TAE3AQbAlMDaQvmDkgIUQBmAaALABHRC1IF1gKUADv+Fv0y/5b+BPV28lf8fAZUAYDy9+9y+MkCVQP6/6IAkADRA+QA2vbA787xnfxyAqr9D/Vp8CPvkvGo9WP7jwKrAnwArP+1AMIGrQlVBQkBNf8lBNsLuwm3BZsCRP/N+8b42fxMA5MFFPsH8kL2NQDnCYEGjwNPBKgCtwOjBMgGUAMN/8n/ZQVkB94ArP9QApIOUBasChb9B/WF/S0KrAbL/GT4bPzgASMClf1N+zL77/ia+F34cfoI/3L8l/cG96n9ogZkA8P7gvm//dsF4wYOAED3IvaK+1n9z/aL8Q/68gE4Aqn+z/zJ/xj/FAOoDYcV4hM9COwAhP+l/i4AbAFwANf+ePys/AX85PWY81H5MwLBCMsI0QJ8/TD7BgAeCgoL3waaAnQFdgugBLX+k/98BCsGjQC2/mv9Q/kL9un8GwZfBbEA4fzq/50B+f3y/EP8z/vD/MT/9wKn/0X5D/dg93r4Wvc4+fb+DwK4BfoHhguRCq4EwAFT/qn/FAAQAQgDNv61+bT7iASQB6ICbfwAAGQKjQusCMsB9P1B/Un6vflx90b3j/ovAO4EYAOl+or0h/Ye+70CfgXMBzQHGQFe/2P+5gBcAMgAnQVrCLYKNgWR/UX3MPQK+Ar/KwRIBcYDfPxd9qn05PmIAVQCzAMsB98Krweq/nD6Ev4kBQoFXf4W9x/6hQLdA3X/m/d39p/6f//0BKQHfQZTAaIAfgXZC3MM5wKY/KT9FwJWBGoAZP7o/VP9Fvyn+Oj5FP1jAeMDHgCz/gYBMgb5B1MGfgZJBQQCOfxv/f0Ejwg9BR39+fe+9k362/6rALL/Uf1p/toAGAHa+xj2//O+9hv9NAG8BZgHkgPd+2/3G/oz/tUBjQJoA6AE2AMnAnv8NvWo9OP96wZ+B+YBpPza+uH6AP1dAfwDmAMoBYMHzAlQCiUK5QhuARQBmAmKEbwPowBd93P5QP5e/xT8tfjN+RT/eAGvAIz8zPg8+M34Nf10BKEIUgbCAsgDAwgyBTf8jPad9oL9ogBL/gL6//KB8tf4CQF+BTIE1AKOAXP/9fv3+n7+j/6c/Ir80v5XAjUApfuY+bD81gIlBdEBIvt/+JH4JPv7/acBKQdsBZMEJQPQAIAAP/0yAEYGEgmhB3oDwABxA+0HKQdRA6H+ygH0BkEI/AWw/xL9Ufly+AH7X/23AHoCTQM3ADj7lvfO+Bf9JgMJB7wIxAhLA7cDRgRlBjQIOwSaBLsC4//d+sT4mPlG+KL33/i4AGoCuf4o+Mv3avy9+d36MvtJ/wj/Vvcp9Df0dvig9+H1/PQZ+qYCrQQ6ArD9AACzAp4DywAbAjIKSg4WD7kJkQgxChcMyQuaC2sN6QzRDDEFDQPY/UD7W/7M/SQIBAf/Azb9UfZT+l/6WACZ/9kBBQBL/TAB5fxi/g74PvlU/yAAKAOX/Tr88/im96T66P7JAz8E0wX2A0IAOPiQ8jbxDvJE8w30Evjj9Xb1avOb9TH62vYL94j2OPyq/qz79fjE8+j16vneAeEIyQr3CvkK8QlsBUcFMQiJDqERmRBtED4QShBnD/8UIRnGFqkM1AEuArEECgX9/4r+9gDuAOMAnf3r/R79U/sf/W4AagUCBIoBsQBS/wcAbP64/+8D0gO4Abb8nfdS9Un0kfZj+Yz8mP5O/XD79/h3+HP6vPjf8rft/upV7gbwGe1B7cbs5u/38czxn/Xh9rL4rvha+G374/35AAUD3gSvBZcE1ARSBukHRwqmDBEOtgxzCnYNsxTeG+EbwhexEWkLrQs4DE0QvxBqC2wIXwKr/SP3ZfQi94H5PPwT/I8A3QFhAN8AwAEpCeMKrQmHCDYFogbRBF0DZwOT/2L+DP0o+hr3P/NP9G745/j/9ELwz+3Z7DLtxu3e7sXyo/aY+NP2z+9N6lPogunI7MDuHfO89jT59fmZ+KP8LwEZBoMJ3gg6CbkJ1gh5Bt0FPgZiDIQTfRohJMwgoBZwCEkBEAvrE+cXRRGPB4QCmP2E+gn4Jvr3/3UECASy/yn6Evfc90D6gwFQCgoPWg0yCIUEvwQiBs8HfQv4DNULCgQ0/Nr2KPQb+FD6d/3l+Lzv3ekA5VDljOPV5pbrwO2f8C7woPFc8GXskuwR8pL3BvzL+jz2bfUo8334Yf46AkcHywcRCX0I0wpkDQgQeRPCGiMooyb6FvEBSPvHCZoWXRlJDbf+3/h29+r4HPg896T9JAWWBlYBUPYS8aD1FgLrEQEaUBWZCJL/f/4kBaMKSQ1qD9EOcgz9Abv3UvJa8xH8TAPrBd/+w/OT6yLpzumd6q/tqu5P7ZjpXeVA4WPg++Nq7PL1Hviv9qLwFe5R8n/69wQ5CYoHkAKdAQ8D/Aa7B5EI/w3NEAEXBBgfICQikBW6C/YCjxL/HFkWAwwE/mP+jPt7+a36gf0FAT7/iP6N+fL0yfBk98MBWwn/DdIHyASkADUEGQ3ZEcQSqw9VEaIP3gmj/fv4Zv4OBk0JJf4H9rzsmuuT7mfvRvSt7/Dt0urx6SbqhOcN6lvr9O1j7Sztpuse7WHvle+W8Pzt5PLX9MD5T/64AUUJHwn3DAUNnhJKFOUR3BaKGmwqVyK8CQj5IPlsFd0gihjnCdT/+/3A+kD9ggGPBh8FigLc/jX0luqm6Z377wxeEN4K7v+i+n78qQS0EWYYhBVeEFILIAonCPEF5QrEEWkVaAy0/KzyX+/g8v71BPYn8YvoJ+NN4KzhhOgl7/HzVPOF7lzr0Ogr6mLv1vRj9072vPTd8zv0W/jXAF0FjwZ7BAACuQM8BrkLNBFlGFUePShPJ1MN0/j894UVTCzsHysL8Pn4+D76RACbCn4MYAj6/U/4R+5i50Drov1SEEMLnP9a9AD3pAHrDa8aRBx/FhcJCATDA2UJOBFeFOUVTQtvAYT2Nvap+pj4Hvph9p/yf+TZ21Hibups8c/uCesg5UrheOJI7B335/tY/Tz2EfW89Qz70/6tAUgJYQTd/j/3GvZq+44DTgwSDdAPYBD/H+0fJAmVAwsRcDJrNdcYmAOD+y4BlQKGCGsP4QUJ9L3tvPK28UfrnO0L/zoGCfsG7rfuR/zLCCcVOBbICx4B3gCrEJMbFRljExAPLwnhAsoAUwNFBRMCVPpr8fvryuYl4a/fD+fh7SXr2eWk4uzmaezU8in5tvbG8Kbqk+zi8JT0V/z3/j0B/AHX/fH7lP+mBkQJ6wZ+AswEWA6/Fb4jNSLUBWH5VwfsJnQzfBueCqgE4wXiCsAPxxbXC773lO7P8T/xROze8S0AzQfq+iruQO1f94AGkBFCF7YMlADk/fYIdxgfGvEWlg7gBC3+VABuBlIE+f+n+An0IPBX7CvqCOfj6vHvr+6R5oLgMOPF6FztifBR8a/tJem86mHyzvaS+gj7+Pdm+AL3R/vFADEFxQl8C30OfQ8sFpsbWSXWJiwKjPjgAdMdvyzIGIUGhf8E/QkAdAw/G+cWM/+U7Jvwafg7+er50/1m/3T0cOse7fv2pgKbB9MJlQbU/7j+awjhGAsgBBi1CksBmv2xAm0KlQuyBcn6o/MH8RTxxvOg9Kn0AfL36iHjTuAs5YLpq+gK6DToIed25jfsG/lu/dn6Dvow+Zv6Nfv4AV4HWAIK/lz9gQX3DXgUYxtaIVUmuxdNBDYFKxmHLQ4oYxEs/4T2f/j2BkcUABNcAoLsVunc89T9ogWUBzUFyfxR9LH12/5OCUUPDwz+AwD7IPf7AZ4P4xcnFMEFPf4b+8kA7g1DE4gOt//R8kHx6/R0+Yb6/PMS6azgBeC75Mfpo+5A8NPsJuXu3vzgWuqR9U76DPcq8uHxJfVm/M8IIw45CDj/wfukAawJtg/GE6oV2RrMHDcQTAWjDpom/TJrIeoIaP+aAWcLVhTkFWQKffHG4urqqvoNA+wAR/1C+cfyRvPs/BwIkQvIB7kE9gEt/2EEWRDTFywUTAb8/GH8l/4DBnoL3QhP/Zbv4ezf9Mz7PfnL8CzlKd203jbk2+oS76/vme2958Pk7etP9iz7XfqZ9B3vFe7M8Xb4Kf6GAB7+BP1aAP0FEw/8F9Ad6B5nHdggjxyFCo8FZhdHLLMp9hHHBQII6gyaE+sX7xOt/7fpe+rb+gUFjQAA91Dyv+047P71gQJRBxkDuwASBK8C9QPpD3Qc7hyiDnAB0/+yAioHcQvrB0P7rupZ46fsx/eW+FLwU+Z04PjeWOZy8Ur0TO6K56nnL+gk6u7zJ/sg/Cn3xfIH9wT6UPq5+nT5mvje95/7+wPPCusOjxHrFO8YwyBIKholixO/DuQdzCw3JmIRLgcOCI8KyhI8G2UXlANb797wVf9MBtUB8PkN9UTvle2+9bf/swHL/Cj9RP8j+6v6oQX4EoMS5wZSABADbwdOCsgMyAco+c7ppOeB89b5EvLd5arf7t0z3ynnh+++8MbpqeWB6LDpeuzW8YX1pPSe8J/yg/mf/S3/PwAgANb+5/sH/BMCeQjKDggUSxgtHeojCyk6IKARBhHKIZsw9ifbE8EI3gbLCjIUfRrxEuz+WfBQ9yoGBwmhAEf4jfVz9Vj4Uv9xA7X9OvaC9ST3xvb5+nYHEgwzA2H3dPXp/kcFOwthD7kIJfzK8tH3kwJ2/7zwpuX44BbgxuKS6JPuJujO3XzfJ+fa7KLtHPGX9dHxmO018eD5M/7T+i74Kfpc+3j+mgaSDq4RVQ6nDnQV5BxsJusp7x8QEZoRUSf1NC4niRASCOMNdhU1GhgZaQvj9Y3tWfy5DOIKHv5i9Sjyze7G7xz5/wDJ/BD1ZvW29zH5pf7SBwoLEgGb9tv3+v6VA7wGxQezAPD0lPBz+nsGUAOs98XvVuse6mDq8O6A8JPk2duH3l/lQOgB5wDst+3f58/mou/k+yj+kfmj+cj8lf4PBI4LwA8MEbwQkhjAIVYm4Ct8JckUgQyNGhs0NzUKHewLvg0LGP8dAh2hFiAEjvIV9Gv+5wLn+Zzw+u4h6wrsV/St/40Dcvqv9Jr1jvge/3MHtQyWCCf9f/miAT8J9gxACrIBCPmy8Qj0C/y2/Lf2H+5d6bzqyutA8LT1mPE16l/jH+Ms57DkjOXv5abiVuP153byNvjB9PDxZ/Nz9///RAk8DD4NVgxSEdUb6SLKLH0sqB1eEvcZXzTRPuMpTRACCJ4Q2RnOG7IXTAhp9WbwD/lFAX/9O/TU7+3sBOvh7U31ZPsx+WLzIvHD9A//8gqbEhgQEQU3/3IEWw+VFCwP7QV2/v36CvzA/zQAc/nw7d/lcOXv5szoEOvF6gzmB+Cl4Cfpz+8s78DrDuYh4qfjUem571Tu/eih6FTuMvh8A+0I0gk4DF4PTBoUJs4x/jesJuYUxRaZLntCSjLwFeQHzwvEFiobuxaDBvLv++ch9hkC7v0N8iHtMvFi8OvuUPQh+un6yvaF8ivzFPh9Ak8P2A9rBWT+YASTEREWoBDgCDsB5vps/N4DXAe6/pDv7+gg6B/oSeew6PjpBOIo2njac+PV6GflT+Xe5j3oSus283b7HPnb8N7uE/QT+IX+cgVLCXoMkA2bF8Yjti11N4stXB0ZHLouWUUZOfMZVQkPC/kY4B3JF/8JH/S864T29wCi/YTu9eV969HuxPCG9YH2tfXB8BrwIPcI/RMIjhKPESQJOgGXBIoOFBEBDz8JgQG+/Vv98AJXBSr9DPHo6Frqj+1g7KHqAekh4n7aoNu55IzpLOLT3lXghuCL4znqhvZL+Jfy5PSH/PMFvwuMD+0QcxFsEs8WXCDBKLosCB9gDpkUkC2JQrA2QBpmDNMQmR4dJIMcTAtz98bxL/xSBSQB8vPG7CDst+sv8Ej2DPm385Ps/e8F9/n/+wvCE78RnAeYAkEKyBP7FYUSoAkdAQr8j/wQBIgEkvrp7Krk5egh70fu4utr6HTi+t8r4A7nk+jD3/Ldcdxh31zjF+ge8l/vPOsm7HT0xQKuDewUVxQNFnIXwR62KhgyujPRHW8O0hqTM3U9IyOMCBoF/xJLI6InFx2gBgb1ePWoBAQIevrs7ebq4+6178fyPPmr+mPzWu/u9Hb6BQAhB7QO/QpH/5L8/gY6EpgQQAr9AaL9lP1vAO8G9wKD9+3qSecY7yPznu7b6MLke+Af3vLeIOi16BDhvd4c3vbkMejD7sfzze0w7APvmfht/50CtgHHAYMGUw8JItwtmTeoLokYuBnPLzNKVT5RGSIF6wmzGzQktR+6Cv7zheuu+Q4L0gZQ+TPunvCa9ST4NvzW/Fz45e+m8Yz5QwANBLcILgpKAAP3aPmVCL0OQAugBYP/Of/n/jYF3AcB/1nweOd/7gv4ofca6zHkIOQr4/HiveUZ6kbks92p3oblwufM6MfwO/Nt8LXsaPJn+wcAuQA4Ac0FbglOFx0kuS/MLZYWWBGTIshCHUoxLTUVOhH7H14sJiwJGEf8ye1+9O0GvwWz+BvqjuSd6qPvcPep+rH58PZI9nD72wD/AzsHqwlJAyP6O/kXB5sRKA2HA8z6DP0CAE0DVQVm/Z7z4usg7hH0/fM87EDjWuFX4RfiquU56fHmL+Iz4MDlf+ql6OXpxelv6rzsHfL9+lwAFgK7BLsLChBqGHogeSopLngZMBAfHmk7uEfAK1oQcQqQGRQrxi7VHnYDFvZa/W4QrBDq/RjtGOft7iP0+vOe8FDsgesA7T7xRve5/fADLAqGCqAFwwMMDK4W0hXQCv/9NfxwAMoC9wL7+urugegf7Zz1ZfUv6lfiMuOw4w3kyuZ16UrlnN/d4Knntur35hPnyOp57lrvfPBn9cb8GwHtAFEFgAqUFbIgoCvzM4MhBRPCHeY3tkXKKw0P+QoFGXIpCSx9GXX8Cu/s+XYO4wxI+Efqwuks82L4qPnp9lvt3+dJ7FD1LPiB9Lf2Cv9YAKj6BforBgwRhA6iB8wCkAbADbcOQwuVABvx9emL7UP0YfR2587dAuC55BbnrOcK6DfjGd9P4DPmDuoU5wnmouQu5m3sVvOl9lf3hPshAewHcwruE04gEinDMLIitxYgIFc24UaHNAgXmQ5PG6MtOjKfHXv9ge5G+tUQPREJ+wvnaOO27Zf1JvYk8QfpXObx71z99QPVAKv+owXLB10C3/xxAhkLRAdT/qr18/ZlAIwGoARm/KjyUfBq+Xj9TPvW7wjkTOYG6M/n2OYf5jriVttf26vhaOYj5GLka+cA6iPrj+/o99384v+pAEEJHBBNFl4fOyX4MTUpGBcGHb00hEsoPa4ZoA38Gw0t2i+UHGb/tO758n0KMhL0/qrnJeA+7037xPq09AXsC+bX6oP2uf3d+7H2Wf4EBuAEegN/CmMW8RL/B0n+K/3ZA/8FoAH/9fnrnum28hn5ffMj6vnjfurx8OvujuuB697n/9+I3rriAuZo4m3iT+b75y/nzuqm9dT4F/qt/PUIeBSPFnsgqShiNIAuWhiVGzYx1EavP3AfeQ40GI0qjjTvJ0wHQPG88zIO9xpeBOHpCN8z62j3F/ZV9LvvDeiR6yH6ZgMKAXn3LvwfBdb/p/tkAu8QIhGPBWv/TgEUCVAMOgnA/3z2uvIX9hz5A/ID6FPhleLT54/p/OXW5C3jRd5Y4DbjAOVD48vjnulR7OXsH+4z9A31QvfU/UoGJA33Cv4VlyJNLIMtrhpHGb4qTkFbRwEswRLYE+UlATMFKLUKzvXX9G0H4hWmCmj2AefM6TP1D/fk9Azvd+d85+bySf8EA6/9fv79BocH0QWICR4SFRCzA9z8x/yKAUIDvgGL+z/1CPU0+aH+jfqu8R3pZ+Ro52vq4eV232fbI9a+1w3caOHl42HiKudy6g3tH+5L85/5zPoJ/ysFWhARE6kW6B5aJNsrPh7PE3MfkDQ2RQwzQBbfEOkgcjPJMR0c1QQ7+scA8xCfDyz6geWA4dnv0PlL+YH2E/GH7uXzwf0IA4j9DPqE/nMBmgK1Bc8QrBRdCmsDEwEWBrYJdgOo+jrwdOs78FL0tPHH6/bj2OFS6DTwI/Hz6dHlaOLY4FbhtOHd42nix+T66HLp9uii7mr31/gy+g//QAxQEfoQ4xyiJdcwWis0GkwepishPjo5sBrTC6ESkCVzLEkcEQb49pb5bgwhFkwIbPJ56J/yZ/18+jr0Ie6h7Afxy/kIAzYB9Pzd/o8BVAPyBC0MPBDpCKcAwPzAAT0IdwY7ANX1p/BK9cj4CvcX8YTmL95h4MDoHe3h5YbefN/64YPmIenT69fs0+ol7WjuOO0y7ajxqvPs9H36rwESCwIM8hLoHJgkMS5VIuMcHSjYOSdGCS32ExIXsCZHL80iew1d/Zb5sAJeEQQK2fEa6MbvxAChA8H7Rfhs9fX1nflH/wH/Ivle+b384f2+/sUAYwc9CkECMf1d/UgDgQgBAHjzretO7vz3D/oC9ePtJeR64wrt7u826D7daNsw4E3jSeKR32rgN+IG6w/z6vFH8Xr32fx5+4b8a//VCBEMQQyhFyEgtywbJusU0RrGK64/xDVFGfQTCyHlMXEz3SEYDQgChgeVF5kVoP5V6+bnu/OJ+VP0cvC17qfub/SF/ZgClQOPAUgB+v4y/YcAHATkBmkCwfvs+AT+RwdWBVX5he/d8Kn3Cvo59hnx2+Wi3zLpde6I7T3lfeDE5DnlteXH4oHhSuGL4+7pPutf6s7rHvEU9Xj7JgCPCNwQQBAOHA8n3zGiMFIZhxieKKo6fT1sH9wLnRVsJFUtGiJjCbf9wQAAFLkeHwtR9bXwZ/rMAVP9W/X+7w3rcO4I+RX76PeT9Aj5XP9UAYgExAWiCgAIB/3X+RT+8QRlA+L2RO4I8DT1uvsz+NrtMuaJ42vuffKO7ELlOeAI437j+eP25LXnnuXE5Lft+vAO8TLvHvU2+3j3JPyKB0MR5hHaFGgikjAHLZMZ9RsDL8M+ijfyGBERIh42KkYsZhglAfX3x/5GEq4SSvrD6ujrgfr8A+T+M/uI9kf1HvobAu4FWf1h94f2XfiH+k34ZvsgALf9nvrI/LIDgAiZAhb6pvWF9Wj62fj28gvtLOjR6J3rhO7n6bnlpOZW5tHlm+K55H/kY9+T4lHr/vH1777vcvYA/N385wEOC74NshPlGH0lvC2sG08VpiB8NF87/SAoERkX+CNtLqUl9xJrBPf+4guuG1YP8/SY5Tnq1/uS/xz2duyJ6PftnPlpBNkEm/6x/DEEVgqDBp4Agf9GAOD9zvvk+g/+rv7H+VT3RPP89ln6dPZg9ODtMOt9623uOfCU6BnmqOdE6J3ooOjt6CnniuPG5NTrkO8w83TyZPMf91X7ywrrDsMPmRR8HVkuSiVtGjghMzD5OvcntxbHGPIh5SqDKP0YuwRD/UIH7hf2EtP6f+0H8j4B1Qb7/jDyluos7WP1Iv7A+9T0VfRX/FMEcgRxBNIHSglEBi0IZAj8BWoEpP2b+GPxhu8V8ZHuyuwc5wHlBuXp6K3s4el153PlVOYS5kTqvO0k7BvqyeZq667u8fF79QL4ffov+wUFkgvYET4U2BpJJ3McqBmeJFo2+z0IJCgVMxoDKCoxlij1GNIFSwHwDT8Z/w0e9FLoPu+b/yQFdf0z8r/rYe9m+RUEMwQD/T/5H/1pAu8ClgGCAEX9Bvle/QICPQXhBxgEJADb+Qn57vo4+Bf2D+7849DiJOd45t/iJd4a3+/hkt+95pjrOuzp6hrnJO2w8djz4vWl+sD9SQFGCtcMaxOsFqUf4ib+FpgV9iPtNk43TxsxD7YX4yddLm0iFw8x/xAC6hQDIJcNIPJs6CjyRwKTBAD9qPCF6CvuIPreAof+DfWE9dP+iAXuBmwIYgl4BWcAewG7A5IEWAL6/C/4gvUF9rjzHfGI8YTwV+xJ7Jnvie0X6lnlSuQd4iTgEOa05vHlcOMP5H/ptesI70Tx/vY9+iwBfgoeDk0VShqdJqglUhfKHAstaj7JNNkZMxIIG9kq2yxpHLUFN/hR/hcSBRraBbLvMepq92EF8gSc/RfxJewA84X/IAXI/DT1C/aH/iME3AQ/Ba4CTv/9AGwGYAbQA5QA3v3P+4f5IfuJ98PvE+wD6QHl9OTM5NPjkOP936HipuNA5x7wIu5X65Lo8OqN75nw+PFj88b2kfWG/7UI4wsFEw0XiCWEID8TdR2cLhY9qy9sGQUXTiJFMEMwwR2RBX/9qQYiGRsYBv3l58rk/PS1/6L8R/MQ6LXorvNaBCQH5PwW9zj7bgbCCeAIjQcPBtgBGwCtBQgHqgZuAF/60fmR95L4gvfG83HwdeqZ5rLq1Oxo6Brj0N7N30reqOBJ6HPprueL5g3ugfTB9s74avsZAJ7/JgixDz4RAhRqFwwljB/XEfAZtixxOnwq1RJqE6IhmC3HLAAZKAG++B4Dexo0GlX/X+vW6pP8nwZuA7P3oeiF5L3tx/5IAK/1LO8F83P+cQNFBioHAQmHCFIHkwqUCEkJBwbP/8v86vW89Db0BfJl7xPnp+FD5GDoyeYO4WndWd/J4aDmnuzJ6ubn9edL7djx8fDL8pL1o/ia/KYGQA93Eb8WrR3LLKEsVRsaHU4rZDrsMKsTEA9wG0InGSpwGvIDHfdo/IYRzBitAePpFOYz9AgDqQTg+3zup+hf8XoD+QjG/jD36fjRANQCHgC8/TT+BP7j/rYEWwWcB68GKQP8AM35B/mm+DL3+/NP6p7j3uQy6g3pUeOq3l7f/d4c4WbqiOqS6Bjoiexd8yz0x/iu+6z8Qv3pAyUN5Q6/E3oWmB88JK4W/RZ4J9A7hzyvHxIRCx05LYIyzSPOCnD59PniC6IYEwjW6ivgGu0N/28DhfoJ7ZjmAusQ+UEFGABa+Db5CwEnCegH1gZbCaUH0gOLAtoAMQLWAEz6ffcd8tTyx/M28crzUu3R5u7nUu3F7xroT+H74ATgDt7L5XrpKOd75SHmu++c87v31vnk+Ov85QI3DzUSQBR+GFsecSnQIJMVOhpKK5s34CYKEOkPIh+9KhcpcBeVA2T8ggn+H/gc+wA16MTolvkZAoT/2fKr56nlGO8lAJAEHvwy9hH6EAPBCa4KLQpqCTcFZQh8DT4O4g4+BvX9h/lK9h74xPF+667mnd3W3GTg8+Rq41/fVOPc5hLoHevM70jvruyM6tbrvO9C8ef07vLC9VH8hwOwDgwR3heAHKAk3CrSG3sXISNYNJY0vxwRD4cUEyDFJYgftAnM9+35Sw1yGzAJx+9j6s73aQaxB6L/ufMB7MjvZf+aB2UA5vQQ9AL+8gMKB0cFLAXRBNgCnge4BmcETgHg+lL4IPd0+H75DfW67iboTuLu5IHpmue838zYzNh+2QPer+Mw55HnK+fd7uT2tPwq/sz6JPsa//YDNgxiEaAQbhK5FmMkpiYeGpIeaSvRNowvmhpRFi4cpyPQJS4YhwPp+8wD9BTrFen7eugy5y32VgOf/772Ue0Y7bP6ugq4DdECjfmJ/8IKFgwiB0ABcgJhAoEA3AISASAAMP3q+cj5t/a89QX2qPMN7uLj/t515UPsW+vb4qHdduDm5Wnrv+tk5iTfD9/K5U/uH/Lh7enr5+5N+vUGfRHMFqcVbhmxH+ApySQ8GDYc7CYPMwgq2hamFHoetioRKY4XwwWF/rICLRGqEUH9u+pS6az89AdHAoH2AOyh7ZT3kgK3A+z6zPZ+ACYKSAukCPsHDQ6WDHIHeQKy/Mz6y/d59jny5u2J7fHuJfEb7X/kEeEx5pDrCerR3svYidzd4J/oiOtt6m7p6ufh7Kj07fSG8BjsMe5p+Oj8TAOhBzIMhRfWH0EtnCnqH58m6DJiPkUuKhU8Ex0iGy9yKv8WgQS0/tIEwxU6FEX77eYo5pb5QwHX+njy9+tn8Gj4mABGApX5bfT0+0wDewZKBRACFgcRBtQDsAVOA4QEbgN9/YH3xPBB7mLwRfAo6yfhdds04LTnqejB4LHbltoD3YDln+p+6cXk1+Lf6bDzNvZl9brym/SL+3cAAAuVD18TLhiSHYEnih0RFtYfSzIIQCgvRBl3GQUoazIiLIkV0ANyAPII6BgdD6X0huNo6M/9LAO//dHzyOte72z31ALFBFn4hvWg/qIFfwvMBBkASwId/Z0BGQKt/oMCKACN/H/3vfHg8on1TvQK74vjL90H4kXnnOdZ4FbYItVV2b3kK+qQ5X3hFuLS6PrwefP29Vj1APm0AGkIXhJjEs4VSRwIKSsxkyCFGicjbTTLOski+RD6FKUlqjLdKXQRagFGAOYP7h2ZDDrzxeZX8sIFiwQt/K3sGuVI73T9pwpfAiX0BvkEA7IMdgwiA60C2wEqATAEpf/K/Oj8C/hK9Pvv2Ozl8AvzfPKQ7Yfk1ONz6Ebrcekq5GTdh9uh4R7pfus75KngJePm6bDxkvIj8n7xcfZf/vMJBBFGElkY1SDFMFwqJxwQIcYt8z9SNGod/heqH7wwYjCgGz4Df/n+Al8YYRaT+pbnw+au/9sJdgIe+HHlqemA9usERgbb8qPwGfyNCOEMGAe6A5YF+gQOBsUIZANlASL9vvnf+Znyiu+57Xvs1uk643Dgf+E05EHjNeRr4trdKeDh5tDv7O3Z5pPm2+tr9Lv3Nfbl8731mvqjA8EKZw0aFKgaPCj6J/AbHCBYKjc6BTZQIngeZyQ/MyM4nCY1D0UDtwYrGJwadAGG7AfjAfNPAkL8gPUo5UbjLPLqAQ4JV/p98I/4xwW1C+sJmgNdAnsDjQO1CtAI/QTt/2f5nfyF+sf2ZPN+77Xsjucg5fzmt+ao4WvfhN8h31/bPN0c5THmGeRK4eDnE/Dv8mj2gPhm/isB9AZmDFkP6RenHY0p5Sd+GuweDyzROoA0xR6WGusidy0ZMbUjXw0KAtsF/xYEHHkD++6f6nn5rAdGAWL4DOoQ5MHtcv30A/b0KOpA8UYCsgnWCF8GawOwBBEEoQrKChgF8QGe/Gj+B/01+3/6vPeB8sbrXOkk6/TsFub/4Wfeft2B3DXbv+N14tXhWOCM457s4Oyw8GjwZvUR+f4AuQv5DPUXph0JK8IuZSB5I0strjufN0IhMRq4IqUuWzEGJb8ORwH9AtcTwhxcCN7u4+Tw8usDpwIy+VnsCuf97sf+vgnlABbz9fP3//MHWAYeApn/BQBtAaQGDQngBHoBv/1F/mj9wfoS+Uf2K/Q/7vLr9utB7Cjo7+H54tnineBw3APgz+S74x/hm+AZ58bojO2I8aP26/gS+swIag0NFcEYMB+kKuYc8ht2KEQ43DvbI7sXRCE3MKw1FixMFukFhAK4DgcezA7J8sfiBuz6/zUBhPh/7CHkvefa9aICu/9P8gnyy/7eBtEJ8AXCA98BGQA4B6wIZgRz/4/5b/gx92X2Hfh99B/x5+yt6Dbrr+qE6tjlleDN4p7i9ePt46LjeeQP5J7lOOlx7HbuHvCW8yj5n/muAVsJ4g6dGFIb2Cc2JVsYpx4KLP06tDAxGmUYCSgENug0iCL8C3UFGwrJGxwedgRn7Wzmv/ckBIj9t/EP5efhm+uc+qYAUfZt68byK/5SB98JMwWLBYMC6gXaCpAHdgUWACT7z/h69frz8fGS7pntSufP43Dk/uOb5ljiyuFI4bDfF+OO42TlJeQb5dTncupn7GntHfLA+Jb+lP9qBlYLGhKYGikhUirwHkoY8yIlM1Y6USYPFocamik7Ms0rWRZBBfgEGBAHIAQUNfnc6oPwZgNwBnr7BO7C5XPomvUQ/7P8WfII7wr6pgBYBQoDSP+QADUAHQQfAwECKgNZAiv+WPm59rH1a/eY9dzx8+Zq4TXlIuge6OPf9tws3sDiX+YL5QLjLeFA5Wrqd+/77a/sOe9S96EAFgPOCIMKuRHPGoAndy3iHB4ZUiWnOgk79iB3FA4cESzUMHcmxw62AF8F9hbyIn8M9/HT6Oz0TwVKA8b4K+085wTtHPzTAYX7we5Y74P+wwMXBUgAr/+tAcIAwwKT/0L+UP2e/Iv6uvYA9En1ZPcA9Tjyh+rR6lzu7Ozs6RbkfuLC4Tzj9+MM41DfKd/x5BfqzO316lTse+7V9WT+SAPYCLcIlhFBGxYqcCurGjQdAiywP3g5JCCDGWAkETPLNnoq1Q8gAhsIhR3hIoMFze5D6pX79whKAqX3demt5LLufP7cAYz34utF8Nv+MQOdAtP9xfzW/e0ASgUWAgUAmv0x+575Z/Yz9O30rfKK70DslOXX6HnsVen44yDg/uL/5ajmD+bS5MDhYuQt6MDqxOtZ6cvsO++F9fn6EwEiBrIIDBO9GeEpYSirGFwegS3/QRk3pBoAFqYikDHUMy4nBBEmBSIJUx0mIdYGIPO07S/9ogYS/zz32ukx5k3x8f5IANT0LuyN9GoBPwKQ/gT6Vv0+Al8E7gMv/u//RgLH/wv9+fe49DT1FPNe8CDqDuKQ5rHr7+i14hPe4N584C/jc+bQ5MPfFOSs6wXwP++j7Ejx5vNm+Ej9xgMxBhEHxxJxHL4qdSQhFAgc4S09Q085FR2qFZ4fbDBENaAlQwst/uUELBvKHgYGGfX08Lz/jwr6BA/87Op35pv0xQEZAKPyf+sK9sABDQKu/9r6J/y7AfgFOQap/j/90f/p/qb8jfgJ9774lPWT8Ebr9uUU6gTteemh5HXgDeAt4cbkaufB4xvfBuPq6fftl+3Q7d3yCvVZ+qv/yAajCUsKfhfFIXAtZiaWE78Y2ykYPss1iBkWEjUe0C+7My8joQvRANUFsRmMHY8ENfFM7KP79wemAqj7YO8c7PH3+AOSBar5DfCJ+JkBNwDZ/G75KP54AuwCvAIb/6X+9/1G/Jf61/cW9mT3ifae8Qzr6uSO6GzrUujy5QzlPuRI4fTiJuaE5WbhSeKn6nDv5O0r7ULxK/U5+oP91AT2B9IG0hNBIIMunCk1FccYYylEPuk58R67FFUdFC5xNEgm5w5lAtkFbBloID8JAfOz6x36LwnFBd37ge6T6YjzyADrBMP7OfF599YB5gNrAbH6WPub/poATAG6/tb9L/05/P730vSc8xb2j/e/8snrrOLN45foiOhe5+XlE+UV43zjieSw5gTlKuTH6aHuSfGc8UnzP/YC/ZcAawWNBwgGVxLHGxYp5CfnEzgV8CSAPGE8riBKE7wb0y3VNpMrRBM/Au7/1BN1IuIO3vT955/1WAqVCmr/rPDD6Tby0f8eBKL6b+0q8XL9NwPUAsD7r/o8/fv/OAKrAO79C/t/+qD3p/VW9Q74JvpT9Vnt9uRE5sfqsel75fviSeKQ45zn6Ofm5yHjWOLl6RrvA/F0723wQ/Pl+iUAQwYWCO4EsBAIG/cqwipBFmgXxiXuOvc3tBuED4sZWi3uNvQr9hKXAosDFRj+I/YNOvQ96Hf0hAcyB8z7aO1K6G3zrgNEB+D7Mu4C7xX7UQLoApT8WPje+dL8dwBzARH/s/yO+8X5yfjS9bbzCfT18mfuT+d/5jfqcepB5wPmQ+No4+nmd+hT6ivjTuEG6FHv4/RS85vzIvQy++QBhAiECr4GdRAgGdQpxymbFUsWWCSHO144OhtNDrUYMSx6MiEkVQpq/sYCGBigIr0KcfL35y/3vwu1Cbb7xetM5pjxxAMNB2r8RvDP8m8BjAZgBVX+wvkY+/H7J/79/BT7yft3++34a/bf9E71z/UQ9iryBOqm5tHmfeeZ5qrlRePi5BvqdO107rnlGuT+6KXuuvOK8ofz6vLD+WoClAnGCX8G4xFbHbcs5CblEtwU2yOXOWs0txk1Dh4Z5izjNFAmPQsI//IDWRoGIcAHnfC55z74ygptCOH60Ovb52L2jQigByv6oe0s854A1QKDAAD7LvvC/g4CvgNx/6f59/Z59yX23fQt82fzGPQV847tv+UF57jqNes35l3htt+K4qTnKOoK60TikOEe6Qzyvfik80Tyc/Oq+w4ExgffBnQE+A8GHo8tfSU7EnMXaCoVQKw1kxjFDsUaXy68M1kksAoJ/qYDWxo4IdQInvDi57/5XQsYBxH4ouhO59/1PwV+A9f1t+xn9VYEHge7AOH4Avle/pUDOwN//ez4rflV/AH7ZvjT8/jyS/N28rnsfeMJ5a3pDuxo6NXhHODB5KzqPO3O6vfg4+Iq6ifzB/ni89L1yfjbAaYJOQvoB6YESxBcH3QuCiLuDyoXUSrePyoyvxivEhMeYTENNN0hBQbj+t8DfBq8HEQCMO6G6VP9CgyRBc31b+Wt5YT0aAR/APrwK+np88AF+gcaAbj4hvhm/RYBXwFQ/H75tffk95j3DvU19Iv16/aY9L7rFeUr6E3q6OjS5J3gNOFE5Brpiu2s6ejiTeb97UX23PVr8ff0V/lM/04E5QlDCooMnxZJJpIwwxsREDsdOzMJPrclNBQVGOIlJTNtLwoZwgGU/QgMXiHUFKD2N+nv7ewDUgm8/rDwZORN6AP7Rgek/X/u4unv+M4EKwPg/j/5lvtu/pcCcwJW/S/6AfaG9rL0sPLN8cfwdPGb7eTnYeU46GXq8unP5ynjouEa5bLq8+sg5T7iI+nl8WP4O/dT82TzRfipAf4LEQ/LCgwOsRnDLcEuLxnnFoQlEju/OskiyhhbHaEpeDEXJ40NcP5sAUsVKiLZCn7ysukE9bYHPAaf+pnrc+M47bsA7QTD+cnsSuyh+9wCZAR1/yT7/f0qABkDZf+m/VT8sPm9+Hz1mPJq7lXuSe9E7ILl5uJ06LXqK+nt5DTgkOHc58ju2vAK64ToHO2U84n4AfVe8S305vs1BkIMMwwTDeYTaiJRLpAhmRSSHAgxlT8QLqgY6Ra9I+gyjjEhHWgDlfrtBbUd3Bx9/zDqgOjz/SgL3gRP99jnyOa59UQFXQMU9bvpP/H+/m0D1QJ3/En9w/81A0IF8wBX/5X6fvil9kvzC/Dd7czv9O0E6oTl4+g47b/p7eah4dbf7OPK6c7tbunI5EzoVfCu92X5FPZr9Qv5FgLzCxcMCwrfDcMZXyqzJiIXnxjlKGM9NDoFIqcVJBobKqYztyinD8z9lwB+FX4hMAzh8JHlHfKsBXcGQPx/60fjtew0/QsEBfse7y3vzPy7BJgF+v92+q78IgCyBWQCff16+sv2Cvd09MzzOvGO747vjeul5g3jL+dO6UXpWuj14jLjruc97hLvIuiE5NHmKO619Ef2cvTx8zL4yAMqDeULKg1PEyckUy4NHpAVKB7YMo4+DCu7F0sVHiLxMXkyvh7uBHf7cglOIcYasP306L/pGP8hBykCpfT55bbopfYPBeIC1fTR7AL2ngQbCm4IfgBF/r0A+Aa2CIUBpPyW+D75nfc09cnyGe1y7BfrMulQ5SLkyeYg58PoTeUG4KrfVOYF7rvsSehe52/tbfSO99z2EfSX9LT6tAhMDm8LtAsYFOkpxykFGpAZdyXMOgU4tCLLGC0bOyhuL9cmXBDX/YP+mxP3HkgJJvA15Q/zZgS2AqP5CukL5CTxPwL8CJr+TvEk8k8BYAvKCwADzvmU+jgDfAveB58AL/tt+xf7Tvfk9n/x4+2b6yHpieYx4o7jWeSi5rvm3uBs3fbfSuk+7Cvog+Vz55PvYfU4+Of2qPTK+GEDURA7EbANGw/1G78rOiF/FRYajSsaPVkxkB7DGAUheS6QLyEgAgjs+w4CuhQlFOX7Sel/5hz39QFv/ozziuZW6CH3DgTXAsr3SO8x+PEGdQu+CWsBFP4NAgoKFQzsAw388Pjq+/b4e/bH9bPyQvKZ7lXrUea55DblN+Tr5u/jJeBM4CfnKfAq7sToLOY66s/z3vgc+CzzjvJi+/UIiRM8Ed0MTBIsJDQxKyTqGOIdCC4vOuIrVhs9GkAjxSxeKhQZjgRV+4MCRxQrEIH5xOpB6+v6dAJk/e3xBOcP6qL4HgQPATn0JeyG9yUFmAnwB9z+t/tU/W8EaQftAM/7Pfh2+av3fPZO9cXwvO9F7ErowuX85oLnyuYw53ThwN1f383np++363LmXOTf6qf3c/zl+A3z2/TX/gcMohNfDxcNoxNsJ+QwXCAwGeYgdjRxPoQpXBqdHPolUi+HKccVPQMV++4GCBm9Dvr2W+gl7A3+2gRt/6XxseXo51b3vQOyAA/0k+0z+rYEDwizBHj7kfo+/TcGUAcHAaH8k/hZ+vb2ofVj81zwE/J07SPozON94x7kIeaU57/hXt+q4QjqL+/R6pHmceVK7df3UfrE9U3zC/jsAoMQaBOFD74OYBjhLGoq/xmfGQsl4DlQNxgfMxfaGx0oyi++JKcPpP+8/s0QLhzhCHLwQ+VV7qAA6ATd++3quuFj6i3+Xgea/rrx9e8a/XYGZAlsBKn8FfvF/40H7QTe//v5Kvnb+hz2R/VB8UvxVvHK6i3mUeSV5W7luefq5BLgnt995CfuxOxe6Kvmfung8VP3HfiI9bP1JvqwB3oSjxJhEcgSFSRwLxwidhpkIHMvszkGKbYYMRmeILIthyxZGSQEcvstBx0YjxIf+P3mZejw+FsGMAM39czkaOU69gYGFQT19CLvjPcWBfkJ2QWL/uD5FfyfA08G4v9l+NjzePjz+eD1D/NE71Lwt+3p58rl6uds6OLndOdQ4bHfo+FV60/xGeo25zDoxu+39UX2tfQ28/n2HgBSD6sSmxEMErUZJC7FKZwbDx4/KXU48DGZHMgX1R1uKFswmiGDCIn5Wv2RE6MaGwQC6+TjqPBzABsC0vic6ejgaO3yAJsH2/xd7p/xmwAiCi0LMwMr+z760f5eBgMGjP6L9+T1f/f99FnyJPBQ8PHvY+t15gDlzedg56fnyuTG31fg9eXa8Prvwueh5APpnvNP+XT6y/ZP9lb7dwe8EiMS+BPPFO0hTS4wIcgceSSTMuc5XSeQGTIdTiVCLoArGhX+/wj6bgcRHNARYfRh42fnvvrBA3L+M/KV5ETkCva8BBwBcPRh64H1twMHCYIKVAHe+7v9cwK1B9gCJ/sE+LX4cfYt84jyNvHh8JXsVeUY4Q7iF+Xt5o3lAOAJ3ubg0Olz8D7s1Oey6CvwTvfI+Ur4YPVf+FMACwwbEEsRhxZEHNsruSrFG3gd5ikwPKE37BxIEbkX4SdRM30p4g7n+h36Aw8BHnsJbuxl3vjocv/XBQf9/epL3gbnqv2KBzH/gfH47Bn5bQK1B/kG9/6W/g8BOwYKB1z/gPsQ/Bf7LvVJ8H7wBvFh8LLsNuU243vkDOXl5nfh89pM22nhiux18IrpaORF59jvt/nG/Vb7lfge+/wFCRI1FNoTfhZaIJoxWSwyHWMdUSnZOwQ1dx4uFQgZGSgcMAIj5gjZ9mn54hDDG8YGjO333wXrzv6rA//6iehD3lfqNf95BfL85/Ai81/+VANiBr8BCQDyAhwFfgmtBeD9i/vd/WD+zPlV8pHvJPDI8AjtkOLA4AziC+XK6HDjzd253Mbi/Oy97/zldeGu5irwy/qh+av2Zva5++AIHBSBFlUUxRaKIZozzizOG7QdZix1QKc2Bx5NFAEafiqaMHQihQhj92z5zQ8eGAsDGOro20vp9fxvAZH43OfB3zHqoPzEAnn6we3O8UD+dQVvBeH8lP76AvQGGAneAmv8Gvre/NH9LvtH8tPrxOy+8Fjvj+VQ4k3jXueZ6Jjiktw+3FfiveoG7ufl+eSQ6STzcPyE+Rv5l/kQAagLpRNxFEwTXhkXJAI3yS5KHp4gOC2fQA42JB23EiAZDykjMGgj5wnz+DL5UQ7qFX8Dq+ti3uHqivvA/9r1Yufm3kPo/PsCAsj69+7g87EAxQgtBwv+nf2H/pUFRgpPB0wBxvuF/Bj88fvL9dXw0/Ct8DnsteI+4ZvjvOa75XTei9gL2zLjDOyR7PLhOeEj56DzufsN+CH2B/XH/bUJwRS+FeEUrBoDJyQ7by43HJ0evy44Rck4vh0BFDEc+SwFNoontgqv9/H4bxIPHMAH/uzX33LsGv7OAcf3dOpn3h7nvPt6Avn75e2b8CL9kwXuBagBTgEAADQEhgZTBlsBOPzZ/G77cfqw8sDuzvHJ8rPsKeI74KXj/uc65/rgwNpi27ThbeoX7HzkQuSb53ry0Pj59Qr1fvSv/tEKOxN2El4S5hf9JnQ6eiuWG4we7jCVSLM4yxsQEoYY4ShUMOofaQcg9z75QBFHFhUCjOmW3YDrdfxQ/+/3SuqH3lbpsPwqBN78F+4o8vr9WwVKBj8CiQDq/tECggeYBz0BRf6o/9v+ivub8dfucfK88zHuHeRI4CPiKedH6dPkadzd2bLf5+ry7eXlUeIb5ATwaPiz+R36Gfg7/6wKRRRAFlQWTRkaKTo4kSmFH0EkMzYJRkEyaBwfGVogHC7WMIYeYAYn9j380xLBEQH8F+YL4LzvTvwi/pv3iueH3S/qjf0+A0z3WOus8xEAnwQTAwkB6gCKAEwDEwaoA8r7kvlB/If9z/h57pztXPOV9QLubuOL4VPloelC6ejiV9p02PXgue3e7i7kcd545N/zlvva+f/0vfLf+1IKHhYKGacXFBo2KwU24Cc+Hy4kMDdnQLAqphnzGasjDjCBLh0bTAQ1+C4ElBlqFNb64OKz35zxav5w/730vuHz27/sWgLwBuP21Opw8vn+aAUaBU0Cv/70/Kn/SwTOBB3/nPs5+Yb3l/TK74DxJ/QN8jnpSeEy5P/qs+4f65HfbNZE2fvl4/BC7BfgZd0y5kbzgvkd+GH0wvWhAM8PnBeqFkQXbB4wMIYzeCM/H7wq9ED7Q1MqnRhPGaMmJzTKLoUWDP1B9FUGFhtKEl33R+Gr4tL1CgFNADfy791A29zsKQDfATnx+ejm8cn8xALzAisAUfz0+2oAVwWDAwr8S/vw/Fn7A/Ug8G70/vZK8zHpiOGk4fXhbedB6nPgNtbV1ujkk/Ec7Grh29/g5fLvtPdB+ST2UvSm/QsQcBjzFoMWGiB+MzsxciLHIXEu50HKO4ojphjdG9MqATYCLSoUy/wn+DAMoBqqC+7xWd8j5HD2Gv/m/cruhd3L4Sb1+AOZAALwD+xW9Z/9ZwIAAlT+XvqE+00AgQTiAcb7Lv3A/j/9LfcN9EH3yfUL8SDoW+Qb5TXjBuer5vzeJdlm2gjl6uo25k3iTOVL7az0h/gK+D32b/grA/YQshXAFkgYxCRRM+ApIiDcI0Q02kGqMKsc7xkrIpgulDGzI5sLTftK/1EW/xtJBHbsWuMm8GL+wP5Q98vlIdvg5Qj67AN7+Gnp1eyM+u4CoAO/AfH+Tv1PAJ8F5AfHAAX7afwH/d75wfFJ8Pbx5O+c7EXmV+bL5h7mkulf5hfgMN1z4urq6ulB5Z7igeak7l70aPjT9abyIfnNCEAVdBgAGQ8bNSmELbQiwyMKLAc8xTzlJqgc+h9MKm0yUCwlF9EBGPtZCGcbahIb+DjlKeWa90gCh//u8bzgcuAH8NcAHgOI8/LoAu9L+8oErwW1AWH9BfxqAFYGwAW2/mH74vlL+uH3E/Kj8d3tLeps5kDktedW5abjCOTQ4gHh0ODx55nsi+p/5wzn7uzY8q/0l/Y+9nX28/6YCnMSghciGVghHi9AKX0hNinONrFDNTTOHPUb1CMWL3UxlSNiDcz8BwAPFRAcRgRs63riHO4D/7sBHPu06MXc0Oec++4GuP0e7gnvgPn4AaAHuwXw/wL8mv39BXoI5/8n+uz57fd/9VbvdO6J8s3uteq05YXkweXr44Hm7+Zq49HeU+Ee6sbsf+vr51Dose9r9w38PfyB+v386gZ0DmwSYxZUGUclfipyIJEfxii4OFk8tCa8GSwe4SguMdoq0xiGBGv7dgcbGdIRGfmF6OrpiPkAArT/tfP34hbia/I7AyUE+vXK7Db1AADmBeUHpwIFAAoAKAOzBuABpPph+SH7lPmo9Wvu9u0Z8DnqSOVD4kbjn+Ik4vTm/ugY5lDi3uY367PrWuvO6hDvS/L19Z34Qfpl/REEvQ1AEgkXBxsRJdgukCUaHsQiCDJAPFArsxirF/khFS5TLn0g3gpI/KUCQhY9GOUBYu0V6OfzPAD7AZH5ieas30TsnP+kBvr5RO/q8VX94AXRB3IEQP65/Q0DGgcDAw/8hfky/E/83vcn81buYO9j7+frIumq55/lPeI25PDkZ+PR34zhRunO6azpX+k27QLzhvbf+cD5Evrw/B8HfQ56E2UXzhsqKs4pjiJ5JLssfjrzM6kfkhqRIbspIS1uIsgPc/+J+7wNlBiWCI/xyOWi7BP6NP8T/F3tTN9Q5hz4PQaIAJTvI+/v97kD1AkVBW3/YPpo/boFHgaj/uH4z/hU+rL4fvLp7aLtV+0h7JrpY+ho6IzkweUz6TDnmeT445Dq9uzc6GnmjOeG7fTwxvQV9+L3EvrJAqYOKxM0GLEaHyahLSchVh8pKVE3uzpQJ4YY0x6jKP8t0SzOGrcIH//NBx0aCxJr+tDntObw8+z9lgCa9mrjnd747jsAegTZ9RXtCPZ9/pUGjQXI/a/4dfnKAWIGeQB391r49/or+v71+O7T7g/wie8b7XPobeVa4znkY+jZ5qnh8uLR6VPwke0S6MvoM+9p9kH4JPff9Mj2L/3rCKkPmQ+OE48ZxSkyKwkevyDBK7k4tzSIIGUYrSCzKB0svibBE60Ex/9EDb4ZxAx59irnrOxS+uMA3P2D73HhSuSW9sYD9gC08R/uW/eq/04FMQIt/Pf4QP5eBEMEXf0m9of4dvh/9/by3O0B76buJ+2v6NDl9eN05MbnJuio4svdy+Ml6w7uzOkA5hnpcO9I98j5CPnY9yz7lAO4DnATaBNBFkkbASnXJZcafh+6KnM3hjCjHuQYLiBnKQot1iZWE74D8wBeDxsa8Qvx8iLkDe3P/EkDbf1j7z/jF+i2+5gGEQA77w3tq/cpAWIFKwCD+T/21/ymArwCc/zf9MT17vX999n0XvAK8DDu/OtT5w/mpOXM5vjnc+aC4dzfw+Z66y3tsud15STphe/I99T3ufbI9Cr5rAOeDcoR5RHLFiUgKTDIKxseWSArLMs7JDVeIXYXlxwVKDQvtimdEuj/bv3gD5kdfg5i9H/lU+9r/zsFJ/8X8KTiYehl/U4HNv+e7ont7vi3AhEHiQLB/N73ofujAXgCI/1r9Ur0KfVc9kryzO/m7/3ssuiC5H/nrumi6Jfmo+M/38LeMuWT6tbqlOQM5Trqk/HW9uP0qfTX8sn5CgX1CxwMngoXEs4fJjCuJ1sZdx6xLqFBcDloI78ZGx9mK9wywikVEHX9Tvx7D+IZ6Agu8YHkoO59/r0DnP3c7gfjYuv7/cQEufxo7iDwv/meAcYFaQIS/u/3ZvveARgDqP6H94T21PUi9T7ypPHD8L3qruTB4q3mXOcS5bnjd+NV4Ibg9uYN7LzqWuQK5jPr1/OL+Av3A/bF8/f8ZAfIDZ0MXQxnFVgiODFpJZoXeR2JLVM/dzTtH7kaZCK+Lko0ZCi5EGMAMQFQFZkcFQo38hvmufCQ/y0Cnfuq7EfhEuuF+xwENP2H77LxOfkzAoMG/wPZ/jr4XfyjAkQDUfx09uT2C/do9fLwVu+q7ODolebQ5gznp+PH4d7jouVg4B3fouOH6cjpeuVl6Ebs+vOY94X3CPaN9JH9PQgUENkNWQ84FnMiFy+OIq8a2iB5Lzc7FCzQGqsZkyIMLDQtJB/eC9b/jgXOGUEaEgZn8HnqhPlXBUUEU/s9653jde4c/XIEl/nI7BvvvvcXApwDDQHj+8H4Nf9lBXsE1vs+95H3QvlF9gjxee4s6tDoduYm5jHl0+H04TPl/uUq4Dzf7OLp6C7okOQ759rqBvJC9RD3UfUI9Sj94AjZEHkPOhSSGg8oRy2JH5AehidVN7U5wyb2GascRie5LgMsMhkOBZv7fAhnG0YU3v7V6mXrPv3YB18GG/l16FfonfeKBUkHCPjR79Tz/ft1BO8Cxv9R+f33of+nBMoARPiS9eX1kPhg9RTy/e4e6mjqcudU5pXkheKM41vlOeOy3ufgKeZ67IvqDuhq6ePsHfTS9z36RvYZ9uz9iQo3EeQQphXBGiMpvSjZHdAgQCv8OmE1NCHhF1sesin6LlAoxhOTASX7qAx0GmkO1/ie5s3s2f0sBkkDhfOw5GHpW/q+BwoGhvWD8SX3jQBJCKIGgwRC/U77KAE1BckAsfid8x3ygfQu8WfwC+2k50bmguOR5dPlV+Nx49DlreKh32Dhp+X76g7pwOnd6pXuf/QF+a/8+fmy+8UCkg4kEyIWbxqQILst6SQyHLog3i1LPFYwZB2sF9EgGyyxML0mkRLNAqb/qBFyGLQKhPVM53/wj/4bBAv/R/Da5Cbs1vtPB6YCbvN08Wn27wABBmwEuwH8+1P+uAOcBsoBT/su9Ur00vYc8v7waexr6HLmueE/4pbiaeAf4nbks+Di4K/ifOjD7cbsiO2L673wovc//P781/oq/hMFjQ5iElYaYB0aJUgu1CH4HSYjITOSPPcpEBceFAUgjSv0Lf8e9glm/CIBjxY8GQAHWe9t55L0UwIrBT/9p+2q4uns2v7GCXoABPEd8Mz2dgIrBSED3v31+Gb9jwK3A9r9QPmx9Xn3GPdp8Sfy6++z7vzrseaw5lvmouQ557jktN4N4aDjh+n56Rfoyenr6UryV/kG/V/72/rWAb8LzhFTE6IaCR25J9wqDh7HHr4lujXzOBIlkBbxF+0ihSxZKrwXOwRC+TMEIRYaEbz8sejv6Cr4vQJ1Ayv7X+uS5fnzTgW8CmP8BfLJ9ED8PAVrBBQBt/qO923+jAT/ANn3vPK58nz3tvPr7OfrBOvy66LpdeVM5D7j5uTz6rDnZuJW44TnOO8d7h7rWOi/6V7y1fil+4H4pPnvAJQMxRLVF9QdhyDiLS4qdx4JIposJDyLNUke6hO2GJEiUSqjJHYSq/+P91cJMxdkClnznOMD6qj5ngD9AHD2G+Tw5G72XgcBBxP3pvRa+bwBCgl7B1wDdfky9yMBDwiEAZT2TvBE8cv18vDX65npp+dL6DXmxuM84n/fCuPT5/HjXuHA4TPoRu5U7wnwC+xg8J73jv2b//H74P59BXkOyxFpF1EbnSAALGIiaxsgIpcwhD7mMK0bjRZiHjooPSq/HjQMFPyc+yUP2BR0AvHrgOKy7j3+EgJQ/uzuReE46rP7uwjOAZLyKfPK92wCLwn/BvQB/PcK+aIC9gYWAhL5mPKX8SXysu2M6+jp+uaJ5KffGt+Y3xHgr+V55Cnfn91o4DXq7+1X7vHs0eon80H6M/+g/5n9XgONDYUW5hijG8EeMij6K/weTByCIxoxeTUKI/YV8xZBIBwpbiaxGEUGyPubBdcVSBDT+h3pzeew9rEBkwJb+Yjn5+MG9CkFoglP/dLz4fY7/SAHXQoVBdr8o/Zk/ZgEfQLk/GX2RfP+8nfwA+1F7BzpJeb65Gnhr+AE38fho+dq4oXdZN3c4pPr9+yf7Cvrj+xw8wX6/v6B/ij9fgNBEN0YjBzTHt8jDS7IKZ4g2CS7Los5QTH3GwsW1xs5JDsnJR1WCjr53PhFDA0X6gds8afmbu9p/5MFZAJ983/jZugo/DMLswYk98vzjfrYBFkMRAphA9r5v/dYAEoE7v5n+E30zvNW81HuF+3j7MvnieVe5bnkKeJw3/vk3ehZ4hDeguCA6PLtqetm6q/qsu2l8jH5nf1B+wH7+gJJEMoWNBrpHdskDC4LJlwf/iM2L3k7LjDlHN0X7x40Ke0riCBECoX3l/cbDIkUKQRw7YjhT+wV/EwD4gFO8mLkEexSAKgOAQfz9Sj1Fv0xCE8M1QeRA7z7x/w7BDMGuf9Q+Fv3RvdH9I7sbOy27LPn3uaY5VrlneDq3iTnsuhk4T/da+Iu6+zt3+qX66HuBfHY9Ev7W/+J/R//KwbbDi4SQRYWHZMlny2UI/MbRCBZLlY+LDFwG/ITPxspKh0v+iOwDLL43vgOD/oZRgq88DHheOsx/CAEEgHc7pXgFOjp/CANdgZ99kr3Qf/3CeQMBQiiBIn7WvuhAeQDRf6m9nn27PX48nvrzuu57eHonObI4mHiL+As4J/m1eWU3yjdDOML6yntWesK7WLv5vHk9Zz61/70/t8CRwonEa8T2xb4HSgofTFLJdgYZxsFLKE/ODJpGscQMRfOKAkwTiaTDmT5p/laEKAdIg798h/jle0CAQULFQb08efiYumZ/WoMAQTP83bzkfkGBQgKswVMAob5Tfo+An4E+v1P9cjzVvPn8brreet97MjmiuR94jbjUuK14VLmJ+Yg4XrezOLq6jru8Oz/7ADtQ/HN9uT6Sf64/PH/IggNEC8TuhVSG9olDDLdKMYcqx1TLB4/KjT+HH4RQBaMJRIsjyKECyj3wfYIDM8ZAQzc8SnjfewRAJYLwAab9Lvk5+ju/KoMSwhP+Tr0I/arALwHQgWIABn29PTy+wcAnfvU9AHzIvGm8avvRPEc8e3obuX45PjlPuQM4tbkSeUI4SjgG+Vw7LzvJ+3h7KbsQ/Bm9hf5cfog+fT8PQYiDl4QVhQvGpokVjKvKbAcyRyFLLpBsjfUHokUuBzvLAUyvSWdDrv5HfilDTEZ2gh27PTcIumM/gYJ2QOM8SzixOin/fMNiQj09kbzKPg2A/kIAAagAhj6nvgp/jMBlPoV8qHvou7t7t7qb+sT6+3lfeWD5UDnreTI4tTnyufo4urhMOac7bnvhuzS7DTtuvHk9z/68fv3+1L/lAdpDp4PMBTGGHIioC7gJPoaHh4iMNtAUDCgGcQTgR4iLdUs0x9DC7b5gv2dEz8aZQZP6xjhIPCHAI0Etf0B7Erfz+bH+9gK7AFZ8/7z8/rcA74FugXYA+r6KfnZ/XoCjvyS9IH0AfSx8TPsPOxY7APoMuUm4tbh494a32blBuXt4GDgfOYV7+Hwd+9m7uPtI/Hw9Pn4XPv7+97/ZAjiD4ISyBcVHbEnUi5XIhwbLiKZNSY9aCnbF7gV/SGFLagrux4UCDj4tAAnFrkXSACk55DjSPT0AikGu/256sHgd+yvAS0JfPoQ7obwA/i+/vkAqQHH/KH2afkdAZkD+Pnq8z71f/Ux8kDsFu0j7Z3qveil5efk9+FU4lHmz+MN3xbfNOUB637seuxy7OPuE/O0+Gj9wP16/s4CiAtrEEQSzxdKHg4pTii8HeYeOyvOOq41siBIFsEZnCWLK0sl/hNP/hr3aQgHGnsQL/cX5pLr7PtlA58CwfVn48ri/fTdCC4JXPh38j346f87BQoEmv+49iTzofkSAOX8kvNg8b7zbfW28erugPBe7cTqJ+h/5k3lB+JI5gfrrOcq48Pkf+x/8Qfx6+5T7MnslfHX+MX8q/r5+qADjw99FQwZlByHIxQqvSGSHG4iyC5nOHwrxRucGDYf7ioDLSciYQ5E+yb8xA+HFQ4Fsu0Y4xDwVf77BKwBXO8Q41rqIP3TCS8BZ/LV8R35SQIOBqADj/8P+e/5tv/7ADP7L/Pr7/nvvO0B6LHoWutv6yDpO+SY5OjjheW5627qdOO731Pl7u5i86DytvDj70LzHfsdAcQAGvuv+mAFBg9hFN8X5BorJi0nRx5rIigrojcvNlciehkAG7cjryusJbsVWwO/+joJphmkELX7weiT6Df4wP+TAZn1HePl4vXxmATiB7v5gPJZ9r3+UQbZBPb/7Ph09eX7NAFc/wL5G/Vp9Fr06e+N6wLs0uj95jLk5OFm4THdtOL86TTns+JA4wrr+PEI8/Txk/BG8Pj0ifxTAekB4P8vBQsQdxWoGtMcOiGAKJ4edhlLIiotcjdBKxcbQRuGITcs7i1GIUcOevyL/HsPJBRlA3Pw7eZK8tL/AgXqApHwa+P36d/7CQlJACrxF/Cj+JADbQcjBGv+IPfo+DsA3ALR/OryWe/68Jbyj+8t7kntJOtM6ovnqOdD4yLgxeVf5orhL94J4zTsf/DT8KLw9vDG87j54P4VAiwAjf76BkkRghlcH0EhVSooK+IeBiH+Kh43LDWhHUEU2Ri4IqorCibvFr0EEfyNCEoYmA8D+qXp1+cz9Qz+UQGm+CvnH+UH81AFfwgB+ynznPWL/FMDAgU7Aj/6lvU/+04BCwEW+qj0e/N48i3wwe3x7PboD+ZH5ALlfuaq4ZrjXOiw5ljj3+La6E3tb+1j7szuDu9r89T4Ff5mALn92AJiDdwTzRkjHT4kci3jJD0d5yUaM8E9FjEVHh4blR6AKGwrRyDrDP36cvqhC5kT2ANx8dnmyu0K/X0ChwAB8fPkT+oT+rYHuALF94D1EvuHA48I7QhbAwf8ivoZ//YCbf+7983y4vFn8tzvlO1Y6/DnLOZB5KzmIOQJ3nniOuax5aDixOJ36oLvaPKf8iLxfvM496n8EALUAVX/wQOADC4VahxdHtIl0SgAHuke6Cn8Nno4NCSwGBsbciSQLpgqwhseCUb+aAWOFBsQFPto6mDlnvJs/fX9wPgI66PmV++O/poGXv4L9kn2XPyyAlkFygSQAR79rfuP/5wB3P2k+Jf0ZfPG8ZbtFewO6n7mPOQz5KLmSeLO37zk8+Q/44fhL+Rr6krtxe4o7kvwJvUO+lj+mP8cAPsC3gv+EtMYSh7tIc4quCWpG60haS0POnYy9RwDFmEbCSmZMA4m0hFf/3D8Ig6hGvwNnvgA6BDqdfvtA+UCyPXW5LrlQvS4A/oE/fhd8zf2Ff0KBC4GCgXk/9f6uPwRAG/9x/h99VryOfG47f/qXesN5yflRuW05P7iCN3a4H/mg+MB4u3hoOZ27NTuX/Bm72vvQ/T++5T/ev+c/oMD9Q0OFQwe+SHPJtMqax93HxMrCTdKOrAkdhR6F78irC+ZLBYayAWS+lIEKxZwE6MAx+3/5XjyrgCKBMH+QO0j5Ljta/0LBx7/iPRx9Rf59P+ZA6oDWQLF+p/5zP1a/dv6JfjK80jxje8N6/nstevv5kbnUOQM5U/ibODD59XljuI343Xl5uvy7j3w/fCv7z3xgfdP/HL+Tv6Q/08Ibg/LFu0clCHQKocjiBmwIWQwzz3qMl0bixbmHckqjjHUJiMSX/4q/H0OFBiQCtv0JOVW6Sb5KwI8Ag30keMR5Wn1zwWAA0P16fGe9or+qARtBJ0DpP1Y+mQAFgG++/T3YPWD9Wf1n+1F6ojrleiF6c3mMeQq4s/dueXb6tLmKuOF4tHnXuzA7prwrvFr8Yj0Xfoi/qn/Z/8MBzUPFBVuGk8dDCpXKvgcnB0EKZE4JTZqITsYfBwKJuIuLCwJG5MFuvsjCYwZPBF4+4Lp2edd9lkBCwTw+bfmSeH87p8C/gY5+inyM/QC/D4EnAbwBPX++vrF//gC9/2W+c34r/fE9mDwBuvi7P7rmetn6OTjqOEv3THisedN5NXfKN9p5aHpUex979XwFfHB8mL5ev5x/7f+ogX+Do0U+hsWH6Up/SwOH6IehilmOAc5JiRCF64XpyBBLBktqxxKBPL3HQTJGDYVRf/f65vl6vG+/0UFC/7H6Tfgiuum/ikGU/yf8zfzjPhUAgwHbAW1/ub6wgG6BQgAW/ms+Nn5Ffnv9Hrus+zi6uvqpuqn5j7kq90a4FXnOOSY4OHdA+ID54vo6u1p7/Ltce+v9qb+8P9f/a8BqgulEtUbSiEcKRktwh5aHC0pRDkCPk0p6hjRF34f2yzYL7kg+AbX9A39nhR+Fn4Cfe0j4/3sEvxdBLEAtO3J4N3o+/sQB7MA4fb+9Or3fAD9BmMGJgEA+xMAvQWZAaT7yfe/9xD4/PQQ7v3qWOpF6lzqi+QM4grd/9ym5r7kMuBC3Xbfcufo6uvuWu8M7ffuz/as//sBq/+/AUILFhNfG9ogkyftLbshJxstJYs1wT4HLfIZ3RchH4Mr6y/vI+wMW/mn/N0TZhlABrTvV+Ix6r35pgLl/57tZ98/5UP4bwUAAaX2afTj9/j/jAcLCIgDpfuk/WwE4AGJ/F/3D/aL90D1ce186Hbn1uZQ6c7l1+Ed2wTXW+OD51DjJd833ZfjmOma8Lrzv/Cc7rrzff4+BEIEsAMgCgoSrBlMIVUpDjD8I2kaZSQUNipAty66GcwXGSFFLUcwgSNACzT4Qvz+E2sbLAdH783hmOnq+mgE1QDt7XnfIeZW+oQHtAEB9gn0pvi6AJIImQjVA4T9rv+kBioDffyw+AP4Bvlh9tHtnegv6Y3oBeqr5tvhWtyf1/vhUOfl4lPfi92g4vDnG+2W7wfuVO1d8gL9FANiBMIE5wk3EnkayCLFKhMw5iQIG1MkZDbUQNUv6RgjFMcdKy1eMV4kkwtE94P6dRGDGyEK+/AP4VDnxvn5BAIC6e+24fDlYfdOBS0CI/i59H33+//zCKIJBwRO/D7+TwboA9n9kfmo93347/Zg8CzqTei15ybpz+am47ve7dg84GflduP14NvekeK+5j7sie907tTtxfBo+Q0B6AOpBDII9w0KGLIiJCtCMNAjlRlTI+s2J0QXNIIanRN0HVsu0DPjJE8LRffn+c8RphxxC4fxy+DE59f6ngSDADHvGuL55sT2aATgAXn30fST9kL+0wcgCjgGUv28/OkERwRJ/sP6ePhb+KD1T+6c6jjo8+a854/jXeFP3R7Yjt+L5W3jkd9M3QTiEufh6uPuO+4n7cTw//eIAMsDCASoCGsMPBQSHzUnSC+2JbQXph6nMV1CcTjsHT8TvhkFKsw0CSunEZr6/vYwDF8dOhDf9xLlmeXi93IDmAOM9E/jOOTD8dsBmgRa/Hn4XfcD+9sDMwqKCdsBWP5aBB0Fef5b/BH8lvps9hruyOri6GHmludL5I/hw93Z1qncjeRF4zLfcdwJ4Nnkt+iw7YbulO0q8Wv3wP05AXcCuQmyD9MTgxy4IzcuuSyRHTsdoCuKPp0+7Sa6FQwVJyFYLwIvqRpnAL/zZwErGdYVb/846nbiT/GPAPYF8fvU5lHgJeuF/pQH8P9i+aD3w/qfAn4ICgiWAT3+pQPiBlQA6PqO+oD6kvj08P7qdejt5X/nweV94pDfLNjd2o/kxOXt4LLbnd1m5Djp3Oym623pK+5K9qT9EgFWALUEaA2dFJUdUyMSKjMvMyTEHNYlHzhCQrwx5xvZFHAbDynHL4ok/wri9Sj3Jg+CGbYJqfT85O7qfPvTBsgFZfKG48jmkfj5Bv0DiPsK+F/6pAEiCpIKJwQK/6EBYweSA938a/om+fv3ofSx7rPpxuQY4//kk+Lx3/zYCNWf3fjhGeFN3Z3bE+GG5+ztUu4Z6jXq0fFf+78A3wDeAOEHABADGkgj6ieMLdwoWh9zI7Iyn0AWOrIjgBf6Ghcm9i+MK/IVFf7i9dUFuRZrDnX6nuhL5a/zjQFVB6L7Mui75JLy5wP4Brj+MfkE+vf+FAhGDZkIbALf/y8FiQYC/1L79vgC+Mz2HPCo6Xvk3+Ds4y3kEuDR2vPShdjo4CXh2d5h2IDaCeLr6W7veOzU6cHtX/iqATEEzQHcBAcNnhXJIG4lXCs9LUAjbiIaLY074z3NKxkcxRqHIZErKS5mIAoJnPjy/1oTwxVYBiTzQOn579H8cwYjBIvyS+Za7O78dgebA038Qvnj+ggCRgqnC5UHQgKKAS4FnAEG/u392Pxb+9jyxukv5SXi9uNi5YjgFtn40JrS691W4W7fEdld1IzageOC7XfvBOpp6WnwevxdBKQEzgT3CcAP2xrmJE4qty9jJRQdDCbfNMVAGTY5IVQY+RqHJ9MwUSm6ErP6LvcUCqUWgQ7L+hXqVOqU9gYEDgnK+8bq2unj9rkD1QSN/2r8H/yaALMGoAj2BloEEASbBswD/vuB+Pr6hv6++fHtjuT/4Nfifebl5WTdKNJvzivYAuGW38jb8tb21/nefuiz8NHubeq/7Nz21gEjBoUGpwojELUV4R8NKOQxsjFBIqEfiCqAOu0/Wy+wHqAYSB11KUctCSHPCdf2tvvoDcgR0wQi8QTmC+si9pABmQHc8dznIe1Y+osCJwAB/mH9pf5UA/EFTwaiBMADmQbEB54BzPmi+LL9xf7T83TmK+Dz4KzkJeY14m/Yzc4w0FHcwOED39naAdjc2pjgx+qu8Q/wj+0K8KP5lgLfB5QMlRHFEpIWQyBJK5w2gy4TH9ofXSyuPuk+qyzcHY0XsB2+KYEr3B3MBh34KQF4Du4MDAA57xjp2Oys9R8AvfpT6zfl0uyM+2n/f/up/Tf/HwE7BOsEYAbxBUkHXgx3CUP+yPbr+G4B9AAZ8zTmQ9+v333laehc5E/XI8vLz/LcYeId4Z7cl9pJ3Ljise5O9EfyCu9I8R/6fAL6CAEQdRWUFzcdqiM1LjI26yqTIAIk5TLGPxo3EyahG6EZYiERK6Eo/Bc7AYD3BAPEDOwJSPxp7QPpp+tN9rj+w/fS663nD/Ce+4T7G/vc/y7/5f+tAYsCugN9AhIHJA1wB5j6RPNs9hD+rvzg8vXo8d6q2wnh2udB5mjYJc760vHbSd884aDhFN9G3TXjke/49IfyrvED+AAArwTaCZoS+RgrGSQdbyV6MAQznybnIK8ntDSnOjAxVSTyGq8X/x1LJ2wkoxNL/4L5WgSRCVQEQfuE83vsHenk8aD7f/iE7bTqmvMu+4P6vPwDA94CLQGjAfoESwYFA0sFxwljBkL8mvR69Hf4oPgK9ALtGuKa2pnbFuIf5Nzb/9Nq1NPWd9jW3sbkPOWq4avhyens78Xyl/enABwHEQV2BH0N7Bk7IBIldio+MGEwkCU6IWAnQjMkOz0ymCWaHdkXFBm4H+IjSR0aCZz5mfoJ/xEAIv+N/DX0oOha6GHzVPpN+KH1R/cz+Tr3e/nFAL0EqgYABiQGywUTAHH+EAUFCuIENvoq8WvtdO0w7jrv9Otp48TZc9bZ2gTdTtoU2lPdyt1p27fcgeTW6Hbo3usL8bP1n/bc+eACOwcBCG4MghXPHN0f/yHRKCUyfzBJJtofJSb2MVgzYy78KA4gqxT6D6wWNh4cGeMK2wEs/uH6e/jz+Ef6LPaf8dzzs/dS9kXyqfKQ9+X6Lv2yAOYB6ACz/6kAoQIYAtQALAB2AXkB7P2/+HrzZvG+79PtRe3v6iTmsODC3kvgnt/i3nnid+SI487k7+dA61jsfO3e8Eb0mviL/AD/bv/A/pECvAg1C2cLSg3uEnoZFh0oHhsblRZzGAEefCEbIygiSx/QHFobdhy8HqQd3hmFFp8UvRSiFD4SMg5GCTAGegXKBcwG6wXvAlMAkP/b/13+J/vy+Gb2JfNu87z0QvPT76zsoeuC6brmjub+5mTkT+Eb4efgR+AE4G3isuVk5Y/lpufu6NnoteqJ7jHwn+9Z7/PxnvaO+xb+uP4LAJEC3AbiCVgLkAyqDicS8hbsHPMewRwMGxQehiJVI2kkHSVGIxMhGyE7I9kjpyFtHtgbbBnOFnoUEhNTEEMM2wknCF4HwgXyAv0A+Pw2+F33yPi++Ur3gvBG7cntsu067vPtSezw53LkMuY36Trou+Ok4Zjg3N/v4QDl9OZO5uXlZef76BnpP+qz7u7wZu9x8BX1A/eB9xf6wvtF/ET9ywBGBIoErAVbCAULAA4EEYUUZxdWGMgYixqnHHYcHB3mIZUlYiWeI2QiWyNTJKIiih+vG3UYhhc6FjwU2hC4CngG4QaoCSEJQAPP/D75r/hk+YP4VfTL7ofqMOpg7XvuA+yY577jOOPP5DbmIuaG5HvieOES40nnEup16QrpJel36VDsGvB28U7v8+xE7w/0avYd9iz1X/WG9qv4cvvp+/r5Fvok/k4ClAPGAooD2gaLC3QSORjTGQoX1RRJGQEfLSO1JkUnzCZPJzUpWCviKQIl2SCiHkYedh24GekUfg+CC4IJTAilCIUF5v5p+j34afdK9fnwxe3X60rpSuc95+Hm+uTP4vPhN+Ts5STlquTV4+zk8OcC607ufO6B7eHuJvKE9MLzO/PN8yD06PTj9Wj2qPYh9mX14vVk9Tv0DPQy9Or0OfVa9nr5HPyI/XP/IwM/CKQN8xJSFzQZVxqrHRoiNCV2J9Ip4Sq2KpAqrCqBKhMooSO4H3UdfxycGrMW0RFODd0JQAZHBEYDF//k+NPyU/Bk8Njtuem05vLlgOUf5LXjiOQb5K3iDeRt54bqe+vH64ztQu6G73/y0fVz9w72a/WF9pD35PdF9p3zMfMa9BT0dvMR8QXugO1z7/vxEvPO8WDwzPAe82n3kvsL/qP/uAK5CM0PWBZIGhgb3RonHXYjUSlkLIQtuyzbKwIsICzYLEosMSjpI7AgtR0WGigVlBAuDLAHaAOW/wL9CPoH9gXy1e2O603rh+mr5jDlIeUF5dDkkuWm56roiOgc6wnuHPDl8cLyVPUc9wH3b/cQ+KH4IfhZ9s30OPQ39O7zWfEU7kbsCOtr6wTsjOv568/sMu1c7nLwgPKN877zp/Wt+cb+VwOWBxINyxGMFmUbqx5CIIogJSNHJwUqcCwILt8tnix4KnUpHym5JCIfKRylGeUVERAfC0sHzQFm/ZX63fdv9QTy3u587G7qW+qh6tPpuuiE6APqCex57cfu4/DG8jH06vQh9T72HPbe9ar3Gvjy9rL1hPRJ9dv0PfHL7jzt0+zn7ODqb+m86J7okele6vbqN+u26/3sb++j8pf16/co+tj94AJdB/oKrA9aFbga2h4nITAiYyFUIaslZSosLCAtbSx5KkQpYie6JTojdh0QF24Suw/HDJUIUgT9/w/8gvgD9ln1yfTk8k/wbO+E8GfygfMI8tnwm/H88033vfdT9qf11fYj+r36I/ii9VHzGPNU9VT2vvQc8ZvtSO2i7j3tc+g95Prif+Tb5jDn4eVL5PHjqeWk6CLsQ+6r70/z9fdr+xj+zQAuBbAJ/wt1DqYRFBUmGVQeISOrIx4hLh/qIKokgiU6JVIk1CFLH40ceBvdGfAUThCyDBsKnAgvBx4GDwRpAEf9u/xs/ggA5/5f/Pz6+Ppo/p4B+P/C+8H4jvoz/oL+jftU+CP3+ffn+CX3f/My7u7pvesP73vuU+p25aPkquak51TnZuQg4cbh7uRD6I7pMOnl6ULsn+9I8iT01fb6+fT8FwCRAVMC0AQdCDIM/w7kD+cQWhKNFYMZjhtgGtoWAhWLFn8YhxkfGq4ZnRjUFmkV4hWkFTATghBbDhINWw1YDsoO0QwKCcwGfggDDJkLUAi6BcUEFwVOBakEhwAZ+6X4SvkH+ir3o/L27iTumO8b7+rsyenh5RLlVOcd6KHn9eWv5Ennb+ni6IbneOb35zLrWu7+77PvKfAy8ln1TfhR+R/6Xvu//QQBdwIAAzwDlAObBN8FmQeLCP4IRAq/DMsPghEsEacPLw/fEfgUPhZDGS4boBm8GH0ZvRw/HmobTxi+FhEYnBqbGxIZfxMND6sN6A+DEQQNhgaTAmoALQBq/3v7gPX170DuTu8475rsiOml6E/pj+rD6vzop+a15YbnUOpP6ozojOlQ7OjuRvC/7gntquxP7ZHvePK680zzTfPn8071BvYV9sb3avhT+CH5lfgA+In4Jvr6+/n7dfwv/iwAFQNZBiEKkw3KD2IQrhBrFBAa3B3gIXcmbSZyJLElYyndLGsqgyN9HywgdSE1INkc2BagEJALnwkaC9kHUgDN+o34KfhL9ufyMu+E6/vpCuuT7GbrwudI5+XpEOyn7Enr4OoY62nrDO6X8C/wye4y77Pw1PEm8eTvKfCV7yTuYu4m8MfwW+887nbuMe4R7QvuxPCO8VLwT+9q7/nwTfMm9cD21vjv+4v/8wPrCHwNVRJaF4kbohwnHagheydtLGcwnjDKLW8sFi0HL1MuCChlITsd8xuwGrMWlxEkC7oFbgJrAYUB+fxa9jn0AfWq9CTyX+536x3q/uqh7evu7e1d7HbtGfAh8RnxcPDU7+Tusu7o8AbyqPB877vuWe787Wbstutn623p0OdU5xPnveXv4x3kTOXX5QLnk+n466bsc+068IbzAPdQ+g79u//ZA9AJKw4YEqgWwRuEIigmGyYQJcEloSoELuEu/C8yLbko9Ce0KAso+CI8G2wWyBT+E3QRzQzDBnECewGHAAUAgv1n+NL2kfez9y33TPWZ8ijwJ/A28vLyfPLd8YPyh/N38efvpPBt8Rzxwe787Qru4uux6cTn2uaf5pjkpeI24sXhguAy35/fouAK4S7ideRR5/7pZ+1a8SPzVfRT+Qj/VQFdA0wGLQraDiMSphSoF0UbVB/BI3sm6yXNItAgICWxKZ0oOifjJVYjsiIBIyciDx4QF2MTxxPuE9QQRAtlB6gFXQUdBOwBQgFs/2P9Mf1s/B36r/cZ9xj3BvbC9FvzG/PR8yzzuvFm7vTqrer96oLp3uX/43Lk8eLS4IjfSN/A32PfX9+Y4AfhCuBG4G7jp+aQ50joEOti8GT0x/br+mD98v6zAtIFzAb6B2ELQA/SEfgSZxPgEyQWFRpxHYsfCB8gHfkbQx7HI+kk0SGzIPAgYSGgIXgfYx0uGwMXRRXlFU8VhhFrDO8JwAlhCCAF5QTeBRQDbf/5/V/9Evtv9zb0hfFF74zuuO5a7mjrfedm5rjkhePQ49Lhat+r3ong8eEy4GreGd8E4s/kveXU5cPmO+jR6tXtqu/k8L/yjfbo+bL6Jvs+/skBqAPcBeQGeQXsA0IG1QqQDDQMUgw/DnkRmxXhGQ4d9By6GnAaOxx/IJ0i/iGhI0MkiCM6I+0i7CJzIIAb8hiuGPIXqBX6EcMO2wpBB6wFWQWrA1j+F/pz+C33SPRz8EfuL+sg6LfnnuhF6CLlxuI15DDlz+Oc4rHhLOL04tbkoOcw58nmnOhm7A/v0O007XXvZfNb9VL0OPSf9d/2T/ik+Tf6Zfqf+nL86f7k/wH/Qf5I/74BFwVoBuYGqAhEDIgRSBWpGHobuhwaHUEdDCDSJHgnWCc5KGEpEChYJbsjDCTDIWIbdBYFFoEVShGCDEsJrQWBAUj/Vv7n+7D2fPLT8VHwKu3j6mDpKefI5ZvmPOfo5S7kG+Z+6YDpMOd95tLo7OtX7k/vpO+l7xjwi/Ig9DLzQfHW8Mby3fQ49azzJvLR8dTyGPRG8yPyLfPu9MT2TPgR+W753flT/ND/1ALBBGwGmQq2D8AUdBnwHdAh9yKlIvkhLyTyJ1YohijDKM8nUiYzI5khFSElHF8UOBBMEDQO1wg9BPEAUP4X+zH5Lvlp9WbvOe7g7w/ujup56ZHqiOuV6/HsSe4R7X/sjfAm9JDxvO5+8F70s/Uy8wfyE/ME80TyY/Iy8ifvfeug64fuVu+37BzrzeuP7F7t8O3Q7krvR/AN9KL3h/ku+pH7wP6wAVQFJglxDOMPLRPKFtwamB/6IpcjRCJFIDQiyia/J/omEib6I94hFx6XGm0ZkBWvDkYKNQkYB5ICgP4//D77XPn79h73FvZX8lHyhvQy9C7yZ/HC86/1cvVO9bb2LPiT91v4BvmR9WPyjPL79AX20/L/7uLtcu6Y7pXtcus26DTmH+cV6fvpTemE6Frp0etr7sXvCvDP743xNvYm+tj7vfx3/j4BfAPzBe4JzQ18EJcT0BdbGxgezyCWIo8hdB3lHJ8hRiNhIRwfJR1sG6IW1hITEyIRMgtVBlkGBwY2AtD+sP3d/qf96Pog/An90Pvt+5b9Xv3E+eb4e/wI/yb96PiJ+N75gfhP+Fz4rfRP72HtjfDX8sDvJ+uA6VDq0+rz6RTpkOdw5fHlXujG6pfrb+oP64Hu8fGl8jjyefNx9ib6Jvyp/a7/twAnAswEpwg4C90LAw5rErIXEhrGGhkdch1mGu8VuhU9GrcagxiTFwkXoBWHEd0PjhB2DUMIcgbgCPgIuQXpA38EFwbeBWsFkAWZAyQCWgRgByEFmP7s+8j+VwEDAH/82/mV9/b0JvX79Z7xt+rQ57zqm+0J7Avqwujg5w3oeuja6WHoVOUG52nqZuyD7B/ste218Hr0x/YU97r2BfgH/Bz/cwB8AB4AlwDNAqMH9wnDCPYH1AnxDrQSQBWnF6QWwxLbDugQdxb2FksV2RS1FegVmxPBE8AUTBGxDOIMKxHuETcOmwu2C1QMFQw3DGMLmwdbBMUFgggxBuz/E/xM/H38+fpU+Jf1XPNj8avxaPH/7WfqvOgF6/fsC+x365vppOja6T7rIO3K61/pDes97rDwWvGK8ajyaPMx9fz30fnZ+VT5qvpN/Tj/sf+A/0b+UP3q/qQBCgQoBRkGAgifCqAO3hFNEmsPTQy1DlkU2BetGM4XAxcGF7YXZhruGwIYtxK1EtsWQxjMFIkQDw+HDjUNxQwpC6gGkAKSAlwExQEO/O/42vjJ+En3GfWb87zx+fD/8jXyDO5E6jvpzeue7W7uUO867vnstO0d8JjxxO9Q7uzvF/Ir9KP1pPZQ9uzz0PNv9q34hPgd9wH3Rvdy9wP41Phx+M33g/ne/OX/kgGSA6AG3gkaDfkPHBFFEPYQAxWxGQwcIR22HR0dLxy+Gxcdbx0SGscWbRZrFrAU/hHbDv8MDQvQCNgHaQW7AdP+9f3X/d77yvlv+Of2F/YF9gP2cfUY83bylvTw9BrzAvG78ITxlvIt9Bj1+vRX85/y2fMo9VX1evR28zPyxfLb9C72ivWx8n/w7PAt8xj1D/VN8yfywfLN9Pv2lvf191X4R/lP/F0AsgPCBsIKcg+fE/ATghLKE5wXwRvmHVwfHh9lHREcjBuAHOMayxaAFKAUCRTcECsN9wn2BzgGkARIBG4DLAEz/wD+Kv2d+2T5Zfhg+JL52fq++jn6pfjq96L4g/lj+bv3L/Zj9an2BPjr94n26fNK8rjxr/Ki8wHzXvH37iruu+4472Dvku557ULtIu5B8BzyffJP8rTxjvLb9E336vnG+xP9XP6/AA4EBAhwC+ENEBJ5FlsY/BYHFd0VzhgzG4sbexsyGnsXsxU7FbQUzRHrDQ0M/AvoCugHGgUKAzEBTAA9AEMAbgAmAJkASQCC/X770/ps+yX80vxH/jL+rfxN+537GPx3+kz4Z/dz94j2efX69DD0c/Ih8EHvVu/R7sTtAO247K7s6OyV7fTtou0H7k7vLvHI8gr00vW09035tfr6/AL/lwA/AuwDrwagCLkJJgqMCZ0J4Qk/C7wNTA8aELQQXBHqEc8QIA7oDEMOxg9xDwwOzwwvDBkLIwlTCG0ItQdNBuMF9gWIBegEQgROBSwGLgUWBFADKQPVAhQC6AAN/xz98vsJ/CT8TPvF+dL4P/if9mj0g/JM8R7wrO4N7oPure4K7izt8uxI7UTt/u0y7/DvpvCA8R3zd/X793H6Sv1s/9IAHQOaBeIH5gi1CLMIrwgVCccJXAocCkgIZgbdBdkFawWqBOoDHgPsAfgAmAFZA5oDiQJiAn8D7QQQBa0EngS8BAUFgwXSBmkHgge/B1AHwAbxBQIGtgbXBQcE6gLqAu0CSAES/2r+Qf4S/Rf7hfnM+O73G/cn9x73r/Uz88DxwfLW8w30SvQy9N70u/XE9m74nPnN+lX8Bf6R/rT+AQC0ASMDAgMyAlACGgMuBOsE6QQhBFsDAAPrAsMCPwJTAikDnQO9A/EDugRkBVUElwPwBHUHSwkBCmgLzgwoDV0MGAwqDVUNBA3cDMAMdwvrCJEHLge4BjMFngNmA70CxACg/jr9Gfyt+rn4nPbz9KvzcPPk807z/fGn8C/wvfCm8HnwDfDe7wnxR/KH8/LzWfQB9jD40fki+gb7qvyT/vX/VwCdALIAkgH0ApoEQQV2BOcDOQM5Ax4DRALlAaQBlQFPAVAArP+y/8L/WwALAVcBFAFyAEgBlwPFBX4Gdgb9BkAItAnACjALWQpHCZ0InghoCBMHjwZOBn4FxgOQAYYASgAHAKH+N/z8+Ur53fmh+fv33vWQ9G30LvXK9cr1MPXV9Bb2BPg7+Z35gvpa/ID+gf9c/8r/xQBpAnQDSQOBAv4BggKKA34EmQMOAtEAagC9AHf/Kf66/Tn+v/5E/mb9hfxg/N/8l/4AAH8AcQBBAL4BbQPGBNMENQQmBbsGSwi2CC8I4wfhB9UH8QcYCC8IdQj1BxYHygXHAzkCawHiAJH/8/w2+5v7L/zN+/L5afjw95j3ZvgC+cn4yvdB9974iPqF+vj5H/uU/fT/dAAKAN8ARgKZBKwFkgRNA+kCOgT1BeAF4gO4Aa4AzAFfApAANP6u/JT9+f42/9b9evtq+qv7Ff7T/mL+0f3s/kQBLQMOBd0EHwRmBA0GXwhnCEkH5AZFBxUHOwaqBdoF6gX0BJ8EPwQ4AwYCGgEWAS0AC/6//JH8tvxR/PL6Hfo7+XP4LPkA+pP6cvqr+lj8cv1s/TH+DgC1AVgCfAHJAWUDQAWABzEHAQUQAwcDcQUtB+oFrgLl/3P/XgGaAVD/Evzx+QP7jvwi/Z/79/hH+Pr5TfzL/AX83vvp/WAAFAICA5IC8AIXBEsGGAipBzMHswfoCDgJTghWB80GAQbqBDIEFQO8ASgANf8+/9H+4/3U/A78NvyM/Hv8Q/wY+2H6uvod+4f7EfsT+/37l/yB/Wn/oQEWAyIDRgIYA1kF9QdACSAHlATVAwcFxwaBBlsE1QE6ANEAQQJSASr+vfr++Rv81v2z/VH7yfhM+P/52fv1+8z6fvqt/DH/7wAkAZMAFQEhAgMEEgUcBVIFywV5BkEGhAXBBI0E0wQCBV4EXgJuAFv/df+M/w7+mftK+YX4X/kn+lr64vnV+J34Pvlh+nn73fs7/Kf8Lv10/qIARQLrAo4CzwHRAiAFEAhVCagH8wXOBSAHFwgXB4YEDQIhATkCTANQAWj9Xvpa+m/8gv3F/MT64vj4+AD7lPw7/ET6ePk9+7H90f9uACAAIQDpADoCzALoAkcDTgTVBLQEgQQUBOcDiANqA9ACAgFh//D+EQChALf+q/uH+Un5S/rP+l36x/jY9uL2d/iX+W/5OPmD+rX8J/5b/1AB+AJyBN0EwwTZBSMHvQimCJQGqAV1BiUIgghWBmgDYwGsAH8B5QHF/2j8xfm8+Xf7BPw3+4X5v/c5+Eb6+/st/In6Kvpz+xf96P7L/2sA2wAQAW4BtgEUAscCvANGBGUE4QOCA9UD/gMRBCADkAGUAI4AywGTAaf+qvuF+pr7h/yy++v6W/pa+j37nvtK+zj6oPkH+wn9//2V/mL/3wDZAp4DnAQKBgwHOQjhBwsH0gaVBhMHvgaFBMoBfP8Z/z0Anv///CL6pfiB+Z76mvqM+Xn3nPY/+B36fPoy+T/4p/mU+1j9lv7M/j//CwB/AaUCcAJEAgcDUAQSBdYEjgT3BBoF0gRLBCQDBgI3AaQBbQL+AIL+Fv00/bX9hvyl+on5C/nx+V77ovu8+qj5mvqI/VX/d/9//1oAhgK3AyoD1AL9Am8EvwUiBWYEgASGBcgGbwbKBBYDowHHAWIC8gA8/nr7h/pn+9/7pftx+tD4HflS+zL99vyl+pX5+/on/QD/T/8G/+f+Yf/+AFQCagK4AfQBeQPXBNMEcwToBC4FCwUkBAgDDwIWARUBowDR/rD8yfuO/LD8HPti+eb4uvmo+qf6z/nc+OD4afpW/MT8S/zZ/D3/mQLpA2gDPANFBIYGWgc9BvcETgSWBFoFbAUrBAECZgB2AS4DigJKAFn+iv7E/6//XP5b/O36A/xY/pH/ff4U/Cj8Wf51AGkBKQFWAWMBoQGcAqEDcQN+AucCKwT+BBcEdgMqBCAEbANjAhcCugGBAGn/if6G/QD8PvsN+0761vi69zH43viN+J33Vff/9z/5svre+zn8APz5/If/gQI8A/sB4wHCA5EGRgcbBrwFaQaVB1II4wcRBmwDhQEBAsQCMwF2/oj8RP0w/9//iP9o/s/9J/8zAVUCKQHc/iD/GgF6ApACAQLQAr4D6gNmBOYE2QTVBHgFrQZkB1oGdQUoBY8EEwRkA9IC2wFlAGf/Hv9c/sb8J/uT+bL46veT95v3Fvdt9s71OvZY97X4r/kq+t/6FvyG/vkA2wLZArkBVQKmBIcHsAeRBWAE/AS/BsEHEgfjBK8CCwLMAxcFJQOr/3T9YP68/07/7/3M/Nb8qf3p/ub/CwCy/4cAFgIgA+ED+AOaBPkEBQXOBeEFjQWHBUEGfgcVCMMHdAdJB6sGQwaPBSgEcQK3ANn/P/+h/Yv7uvmA+C744fd196r2mPUp9Un1/PWe9hv3c/cl+LT5svsW/uz/VwG2AaYBQwOyBWAHfwaXBMAEcwa3B74HegZyBKcC2gH2ApUDvwE6/yj+Of9dAGAAoP/n/jj+J/7B/on+0v0w/Wv+RwDuAF4BoQHeAi0EhQVVBxQIIAhZCE4JJgoLCgcJPQgZCNYH0gfhBrwErAKkAeMBiAET/wT8IvpO+QX5H/je9qj1SvTR8070cPUr9gH23PXA9rT4s/qf/PT9u/7i/ln/7gG9BN4F9gSDA/IDSQVDBqUGfAVuA9cBjAFkAgcCyP+5/Qn9PP2a/aj9gf0E/fb7Gvwt/fP9dv56/hz/gf/G/xMBDwJ1Al0C6QKMBIMF5gUsBxkJnQoOC8cKKAsvCzYKTglNCAcHPgVjA28CWgHK/jr8rfoi+uz5gvhD9x72w/QG9J7zFvQ/9PDzPvTA9fP3jvkG+zD8T/26/e79wf+wAb4CMgI3AekBQwNKBGwEdwMYAiABHQH+ARwCSQAf/tz84/yd/b39jf36/Ov7kvvb+3X8/fx+/Dj81PxJ/oMA4gGXAtYCAQNLBMYFBgeMB1IHkwfiB0II3AgQCQkJxQglCKoHYQfNBtgFYgMZACL+3vwU/J76Y/hf95r2Hvb19bT12/Wg9WH1BPZw98f4yvm5+sX7AP2Z/aP+bQAMAv4CaAKNAXkB/QHUAioDWgLjAND/xf8QAagBkgDH/t/8m/yN/UP+FP4P/JH55Pgt+hL8pPxB+2b6Hvu3/G3+Cv84/yn/p/+lARAEKQZDB+cHmggACXAJJQpTCoMJDghpBioGTgbHBeIEzwKFAd0AFgC7/x3+/vv9+Ur4qfcF9+v15/SG9Ej1Bfdb+CH5Avre+h/82PzZ/Hb9eP4sAIcBGwGDAJYAvgFsA6sDkQLKAHH/o/+hAEgAJf7z+xv7gPwn/nL+pv1v+/35iPrx++H8kPt/+Tn5k/qy/A3+Q/54/vv+oQClAgME6gRLBRIG2AZnBxoIEwk1CsYKTgrjCEYI9gddB8gFhgJVABz/3v6i/s78kvsE+x77dfvm+vj5zvj49234Tvld+Ub5pPka++38gP2i/W/+WwCtAg8DVQEfAFIAiAFmApwBYABA/1D/CwELApgAfP0h+w77Zfzw/CX8QPpa+Ez4+/n9+3b8Q/s/+gL7Ef3C/rf+i/1M/Uj+RAC1Aa4CAAQwBeAGtQelB5QH5gfqCNUIOQe0BYQF/gVWBmcFwAOIApcBtQGfAPf9J/sp+XT5Kvr7+TH5APli+tH8Hv43/qj+9f4jAI4A4v+3/6f/EQEgAn4B6wBJAbcCEgQzBNICnAC3/vr+jQBVANr9Lvu7+m78Ff4v/rP8ovrr+cL63PvV+1f6Xflr+cj64/wg/qL+tf6a/6kBcgP2A+EDRwSVBRQHJQeSBr4G/QdjCUIJzweTBg8G/gWSBZcDRQFh/9L+O/+v/j7+Pv1a/DX87/v1+x/7G/ov+lL7ZPxz/Zv+5f/yAXMCjwKNA0AFTAd1BuMDYgJ6AowDZwQgBLQCBQG8AMICxAO5AQ/+sfsC/P38Xv1P/Fb6Kvka+oz8r/0s/PL54/lt+wf9h/0V/fX8Av09/psAagL1AhkDaATUBjQIZgdIBkAGOAfUByQH3gWzBG8ECwVHBfQDlgHQ/3D/Yf+a/jj9d/us+gj7zvtu/I/8/Pzv/XD+m/5e/+X/gQDdANIAEwLOAwYGsgeVBygHYAdGCAQJtwiaBjEE6gI2Az8E8wLe/139Nf3y/qz/Of5S+/T4tfhG+rv7KPu9+HD3rvg2+zf9SP3p/Pr8sf0p/4QANwEOAXkBJAO6BdIGtwU+BSoGIwivCC8HXgXpA9gDQATpAyYCxP+S/lD+I/55/Uj8AfsT+rX53fkO+gf6WfpV+zb8Iv2P/jkANgKbAjkCTwPhBEoG/AXrBEQFVAaMB3UIWAj8BsEFwAXxBiQHDwQcAAX+TP50/93+0/x5+tP4d/kp+9z7OvqB9xn3nPig+nj77/oO++T7mP02/w0AXADIABwC+gOuBUAFMgROBFoFwwZgBjUFKwRzA5kDaQNFAk4Aiv6r/Q/9FPwP+xn6Zvn0+Hz4iPic+Mn4Y/kg+vn6GPxU/ZX+vP/I/8IAGQNNBRIHtQZGBhoHNQiGCUwJVgcqBWkElwVMB8sGpgPtABoAGgG1ASAAnv34+gH6DPvR+w77pvhi90/4nvmZ+mH6Cvqa+vX7Af47/xb/6f4+AJoClwSjBGsDgQODBIoFbQUCBMkC1gGNAcIBEAFO/2j9N/zr+yP79Pn/+AT47vcL+Gj41/ip+AX5rvle+ib7Y/y7/QL/j/+m/3YBUQPcBF8FZwTEBNMFrwdrCTsJ2wdaBjQGbgdHCHoGQQNNAY0B3AJiAnoAbf79/B797f0v/vD8//qk+rD7lPx//Hf7LfsZ/KD9JP9p/xz/ev/yAAoDFARmA2cCfQJWA9oDQQMcAhwBRwDx/2//L/7W/L77H/sc+n74zvd49zX36vY69lf2lPY395T4i/kX+tD6VvxF/rP/rP8sAAwC7gOjBYgF6ATuBHQFFgcKCGoH5wX1BH0F3gbSBsMEtALaAaECEgM7ApoAtf73/aH+k//i/hn9JvzZ/OD94v2D/Rv9jP3T/pwAhAGqACIAAAEpAz4EjAMIAzsD0QOaA+ACfAL+Af0AIwCI/z/+uvx6++36DvrN91P2RPbA9k332/Yu9v/1RfbX93D5vPm9+Y76x/xb/xcA9P8YAV0DBQYPB1MGvQWpBdgGbgifCFUHfAWWBGEFOQY8BSQDRQEtAd8BZQEzAHD+cf3H/fb+y//+/s/9ov24/oT/dP/g/ov+fP9WAVgDqgMHAysDlgQ3BuwFJAVBBfkF7wV3BBwDawKTAWYAof9j/rL8Hvsp+sz5AfgV9mj1PvUR9Uv0z/NO9C/1QPa592n4gPgs+e767v1H/7z+H//8ALcDPgUZBQcFSAVBBg4IhwgGByMFZARjBSoGKAVwA44BcgDlAF8BAQE///38xvwV/iL/7/4V/jP+Mf8tAAwBsAGuAdEBygJmBG0FYwXHBfwGUwhqCIUHNQeUB8oHzwZqBYYEBQQcA+oBXwAl/nj8O/uU+jT5+vb+9bn1/fWr9Zz03/PC86r0O/au9+b3KPh5+Tj8nP4f/tj9Zf8PAgQE+AMXBK0EYwXGBgMIcgeVBTgEpgRBBlAGAQUlA0QBpwDeAEEBmgBS/q38Mv13/uH+Qf4M/qr+Hv///0AB2gHlAX4CTAT5BUIGZQZhB2IIywhhCHUITgl1CcoIWgcVBkEFYgTVA/gC3ABd/vT8avyq+4T5RPcs9o/1ffUM9Xb0XvSm9J/1wvZp9673YPgN+kP8Af0X/br+ZgHbA0oE+QM3BKoECAZRB2cHJgauBJ8E0AUiBu4ESwP2AfsBDwKmARQBWf8g/nr+a//c/5X+dv1W/mn/bAA6AVMBugE6AmED3ARGBVMFTAbtB5EJDwrBCF8I5QibCc8J7gc3BuoEXQRxBPgCYgDD/VD84vuW+2X6fPiN9iz1R/VY9R71mfQf9PT0GvY49yb4Qfnr+rX70/sI/R//EQHiAQwCPANnBH0FigZSBnMFSgTdA8IEEQX6A2QCxQBOALUAZADg/xr+BvxC/Jf92/6H/uX8Ev1L/lD/RQAcACYAIgGoAtgE5QWdBYMFXgYFCJIJagk/CBAIiQgKClEKfwhvBpIEpQTABFsD1QDo/Ur8tPuS+2L6SfgY9uz0cPUj9pL2w/X79Hr1tvZc+GL5bfpC+7b79fzK/kIArgCGAEkBwQK0A30EhAS2A9UCYAJEA8UDdgKSAGL/Nf95/yL/Zv6E/er7dPtZ/F/9yf2c/P770fwj/sP/gQCgACEBKwLxA1sFlgW+BacGLAhjCY0JFwnICKwIEAmwCQAJ/gZyBEwD2QPGAyoC/f40/PD6sfp/+hf5Jvdt9QT1nfUq9iL2XfVg9Yv2ePjw+VP6bfoR++L8Av92AKUAgABJAbcC5gMTBI4DsAL+ARACCwOCA1QCqACE/2D/Lv+H/gX+Nv08/Ln7//uc/Nz8X/wl/I/8Cv3Y/VD++P47AGgBtwKCA80DpATGBfoGOAjxCGQJ/wjbB+gH+Ai6CdUISAZBBHcDZgNOA+sBJf9N/Bz79ftH/Fn6lvcD9in2efZ+9sD2nfZs9kn3LPnX+qX6EPq6+0f+IABuAOr/zQBBAusDVwXgBEkD2wGzAd4CEQOOAXQA/v+i/x3/3/0Y/R382PoT+8j7tfvn+if63fpw/Bb9RP0R/Zj8V/0E//4AUwJtAhEDqgTKBXMGIgcACPoImwi2B94HjQhpCcEIeAZOBAMD9wLdAmMBvf5B/Gf7z/uD+4D5Bfei9cz1jPZQ95D30/ac9ov3g/kj+xb7kvsZ/eP+VwCFAD8B+QJHBBEF2gQqBBsEBQT/A98DQgJjAFb/Qv8xALz///1K/On6APuK+3P7qPpr+UP5mPo9/Bv93vw7/HL8yP1w/28A4QDQAVADwgRyBdsFxgarB30I4AinCLUI4QjnCDcIIAZKBNMD4AORA3IBLf4O/H77I/wG/Ln5BPew9TH2qvc6+IH3FfeM9/f4kPr6+qT7Bv2Y/iQAmQD1AAgCiwMiBZYFagRSA+4DcwVZBq0EogHS/zH/CACGALD/Of4U/D/78vu3/FD8Jvq5+Ob5HPw0/X/8ZvvU+zn9qP6d/1L/VP+OAJMCygRLBQMFkgVdBsEHdQgnCFAI/gfpB8gHTQYLBRsE1QOrAzUB6f1F/Jv8rf3b/Cj6WfjB9xX4LPmb+cb5pPmi+R375PvU+7P8av6OAMcA8P+/AKMC0AQGBr0FcgRKA9UD3AWlBkMENQHG/5UAqwGSAOr+Pv1b/K78+fwH/Zj7ofnL+RD8KP4n/or84vtC/fb+JABFAM7/LwBZATMDyQTABEMEuwQhBu4HMQhVByoHYQf8B2MHgwX6A/ACwQJRAr4Agv7f/Kv8BP0//Dv6Q/mF+SX6S/oi+vz61Pu2/Kv9EP6c/oX/PQG4AoACJQIuA0kFAgfHBmwFbQReBKAF6AZCBooDewBe/4gAFgGe/0r9c/uu+7b8HP2H/Kb6sPnA+un8cP72/cX8Bf3N/pUAXgEAAcoAngFZA0QF1AUPBYsEfwUvBzoI1wfkBsEGTgfaBxkHZQXNA9cCRgJrATUADf5F/LH72/uw+wz6Bfl2+Yf6HPv2+j77Q/yE/Tf+/v4IAIABDANzA1QDSANtBLIGEQhzB6UFbQTJBCcGhQY0BY0COAARAB4BfgG9/7X8D/vt+5j91v1R/Hn6O/qN+3z9jv7h/R795v3p/y8B5wBRAKoADwLSAx4FTQWLBB8EJQXQBtIHOwfTBXgF5wUfBlkFqAMvAiUBNwCN/z3+T/w6+636ffrC+WT4H/iS+GP5c/pB+yT8LP2x/Yr+BABAAZsCAQMcA7wDZwQuBrwH4wfSBjoFpwR6BXcGFQbqA68A+/5R/w4AoP/e/Eb6GPrY+0H9U/xl+nH56vmr+5b9BP7y/Af8f/1MAGkB0wAVAOAAwQILBI4EagTwAxkERQWXBvgGhgUXBGAE1gSsBGoDewERAMP+UP5q/v/8Cfu7+WX5tvn8+PD3r/f697T4vPnO+hv8K/1Z/Xf+FwDCAWoDzANdBKgESgUKB+wHbwfKBbwELwVHBmcG/ASLAt7/yf4O/8n/9P6q+//4/vj4+gD8mPra+I74rfm3+wf9C/2l/Nn80/6VANYARAD5/1IBMANwBLsEkARNBJQEvAWyBtIGDAWUA74D5gOlA8YBd//y/Rv9iv13/ab7MPl09yn3jfeB9xj3+/b49mD36PjT+q78Qv0f/ZL+qADxAmkEwwQsBVcFgwZICAgJ3geJBXsEQgXBBmkG9wPJAHH+Qv7W/tT++vwy+hD5y/np+sf6k/ni+EX5qvp3/Cn9Hf1G/X3+ZQBBAW4BTwG3Ae4CYQRpBUcF4gSGBFYFmgYmB8AGoARyA24DsQOGA3YBE////PH7JvxK/ET7Lvl597D27/bm9nD2gfZq9hj3qfh4+i78N/wT/K/9UgAGA1IEewS5BFAFlgZNCPoIrwfRBQ4FAQarBhEFmgJkAPj+c/5g/mj+Df16+iP5v/mm+kX6M/lR+X36r/t1/Kb8svzd/BT+JQCTAboBSQHWAWgD1QQ7BTwFJgUABbsF7gYHCBkHXwQAAyADhQOkAlcATP7U/Br8iPyW/Pv6vfj99ob2kPYZ9mz2K/dS9973I/kR+1783/s6/JL+egHbA7EEBAWOBf4FGAfLCIEJiAhpBr8E2wQXBWgE9wL2AID/pv5f/hb+mfyy+vn5aPrk+rT6d/q2+sP6AvvJ+6n8Gf1v/fX+0gBiAc8AxgAaAuADxwT8BDIFuwSIBD0FsQaYB+8FzQM0A5kDYQORAUD/xf3o/HL8ofy9+/P5OPhW9+v3wvfx9qD28vbm9+/4C/qU++j8L/2e/Zj+mAAkA3MEIAVFBYgFcAZTB+EHWweRBdEDPwM9Ay4DdQJjATgA0v5R/l/+9P3e/DX8nPzj/Dv8ovsk/Nr8UP2I/fz9OP7d/Zn+YAAiAosCGAJ9Am4DJgSpBIIFPAaPBn0GuAbCBnUFZgQsBE8EQgPBAAP/dP4t/mT9S/zV+k75GPjI90D4x/cv9xr3lPdw+An5Xfoc/Hr9XP7u/qb/BgEdAyQFZgZVBr0FXwVaBfwFeQYSBvsE5wNeA94CxgGwAOX/N/+4/mb+aP4f/n39Gf0d/UL97vyh/PD84P3p/oP/6v9ZAPoAuQGUAj8DnQMGBK8EpAVuBvwGoAcLCPsHjAfGBi4GDQYcBtIF1QP4AFT/U//0/0X/Pf0++/D5WvkJ+Wf4bPfl9vP2m/du+OD4gfki+kL7H/22/uP/tQC+Af4CqAMVBMsE4QXOBiMH8QZFBooFCgXUBG8EZAMaAjIB8QDjAF4AQf8b/o79h/2m/Yj9Fv29/LT8R/1A/sn+E/9u/zkAgwGCAjcDuQNMBDEFGAbFBlEHDgiNCJUI1wfdBpcGiQZnBisFvgKJAFj/U/9W/0X+M/ww+u/4nPh7+JP3wvah9kr3TPjO+Gv5TPof+yj8SP1M/jD/AwAqAVkCHwOtA3UEdAX7BfkFZgXHBKUEjwRzBLMDXAI1AZMAewBKAEz/kf1x/Gf8Cv15/c/87ftQ+2n7sPwb/gD/UP+l/+kAhgKoA0kEmQQlBe4F5QblB8cIpgkVCt4JuQiEBy4HJweNBokEQwLlAD8At/+n/kf9l/vp+en43fjL+Lj3wvbr9gn41/i2+NT4SfmU+SP6SPv2/ID+iP+XAJ4BKgJ8AlEDUgTzBAYFcAQrBBIE6AO3A4oCwQBH/5v+0/75/v39kvyc+0D7n/un+zz7qfoF+mX6wvtA/Q7+J/51/nj/3QBKAoIDYgQQBbEFsgawB68IugklCgAKMQnlCIIJoQk/CFgFpgJ0AYoBbAFNACT+j/v8+Yf5IPpC+gf5wPcH91D3vPfD9wP4WPjq+PX5TPti/Nj8Av2e/Qb/fgC0AW8CeAKaAsgC4wL+AoUC+AGIAfQAgADv/1L/8P4z/g/9Nvzi+xj8Bvx6+yr7+vrz+jv79Puq/OL8Av3F/SL/WwBwAVQCTgMMBLkEzgW0BgsITAlCCpUKowkvCW0JownhCOYGJwV2BA4EGAO3Aav/8P3r/IX8ifwp+/n4cPck99P3cfim+Iz4Wfhh+F75tvqF+9n7Kfw3/cn+PAADAf0AegBCAKAAKAGEAUMBnwC6//7+if4K/rD9S/3y/IH89vuu+4f7Rfv8+sL6dPpF+mH6CfsH/M/8ev00/vj+s/9WAAQBAQIfA3EEuQXqBiAIlwiqCC0I3QfGCMcJLQrLCFAG8AQFBY0FDwXpAgAAFf6Y/Sf+Lv54/GP6Ofl0+WX65PqF+on5tfgR+aH6K/zU/Kf8sfxP/YH+uv8OANf/Xf+d/7UAigF0ASYAXf4r/SD9gv2m/Sb9Gvxk+x77MPsu+5763fmw+ez5V/rV+ib7lfva+1H8Xf25/gQA5gCjAU4CJwMdBA0F2wWxBsEHtAgXCVII3gdkCCYJQQmtByEGigVhBRUF0AOqAYj/ef7D/or/vv7G/IP7Zfso/G/8Xvxg/Cf8R/wC/fD9Mf55/er8eP2K/pL////x/9r/kv/I/z0AcQDu/5X+cv32/B39Cf1y/IT7afrZ+b35GPpg+gT6q/mT+dH5Gfot+nj67Pqw+7z86P39/nn/AgDjACsCoQOqBI4FIwbsBgMI2Qi1CIsHZQd/CGUJGwjwBP0CAAPBA7UDYgLTAML/Z//Y/+3/w/53/Sr9Uv55/1j/sf5T/tP+yP+rAAgBtAAcAOn/rgDSAX8C+gGvAL3/xv+uAGwBnQHgAGb/1P3F/KT8hfzL+6X6yfmI+Yv5rfmT+Rz5RPj397z42fmS+n76rfp5+5T87v3G/nH/7P/YAM4CnwTLBeUFHAZkBwcJMQqqCYcIDghmCI0I0wZ7BFQD6AOfBFEDmABj/iT+SP8eAKL/LP5F/fL9tv/pAHEAJf/J/ggAJgKNA58D7AJKAo4CTAMGBCEEhwPcAj4CQAJrAkMCuQF6ADj/7f3Q/Fv8HPzg+xv76Pkp+QL5Ufl8+SD5tfii+CX55fk++jT6XPpe+x/9sP6I//H/mAD+AbkDdQWWBucGKAegB28IhwjDB0MHkAc5CKEH7wUtBLMDMgTzA40C9f+F/u/++f9QAJ7+3/xb/FD9I/88AGcAvf+O/wwBlgNIBeEEmQN8A6oE1wX0BTcFqwQwBP4D/QOZA9oCqwHoAJIA9v+1/jj9O/yS+xv7MPpN+QD5GPmB+Uz5o/h7+A/58PlJ+uf59fkU+638I/7q/nP/TgCcASIDZwTJBI4EDAUFBv0G+wYzBoAGAgfABmgFZwObAsoC7gLLAmcBX/8y/iT+Jv8j/3/9UPyb/C7+Zf95/x3/D/9h/24ARgKmAzME9wNyBA0GAweqBlEFrgTlBM0EDATbAjQCxgEpAaAA7P/y/sD9ifwA/JP7kPrA+Uj5LvnP+Nv3Xffd9wf5Ivqw+k/6MfoT+8b8xP5n/1L/Zf/8/2oB3wKhA7UD4QOSBMsFzgXhBL8EDgWKBasESAPaAmICvgG3AGf/Gf4e/ev8kf17/SD8bPvo+279gf5Y/kX+Wf4d/98ARwKqAmQCtwJfBI0FaQXWBKkENQV7BUkFeAQcAxECzgEaAnIBt/9J/gH+Cf5E/cr7PvqV+ZH54PnI+Zf4l/fg91z50/ru+kL6VPoY+1D8iP1S/uH+6/5g/8oAowK0A78DyAMnBOEElQQrBIsECgVZBVAEIwMeAhYBdgDT/yP/2f3i/Mb8Nf31/Kf7E/tg+1T83fwx/RH+t/6N/7kABwKjAkQCXAKOA94ENwXoBP8EeAVFBZcEBwTRA68DNQPBAsYBHwCy/v79xP0Q/Xz76/lP+YD56vma+Xz4svf491r5nvqI+qf5UvkD+of75vyq/SH+jv56/5YAtQFgAqsCMwMEBB0FBQUnBLYDvwP+Aw0DaAEkAKb/q/+i//z+g/0//KH7KPxi/F37rvrk+g/89/wt/Xj9CP6x/m3/hQC5Ad0CMgMpA60DagQyBXEFQgX5BIMEDQT2AwkEfQMmAl0Ahf+g/5H/Fv/x/bD82fug++b77Ptp+9T6Xfr2+fn5afrx+h/7Nfv5+039Ov5i/ov+Vv9bAA0B2QGCAuQCKAOaA34EKQQKA2ACdAIhA5YCMAEEAFv/Mf8X/4T+JP2j+9P6q/uB/Br8lvs/+8n7dPzp/Mb9af7B/lL/WwC1AcgCIQNsA5YDoANdBG8F9gVABSQEpQOkA4oDNQO/Ao8BKwAr/+3+5v7//eH8Q/xL/E/85Pty+xj74/r0+ln7y/sb/Ej8evzi/KH9Zf7V/ib/4v8EAeUBcwJxAqMCIgN3A7kD/gJiAikCKwJfAkMBuP+z/rf+Mv/v/r79PfyO+537cfyw/BT8c/vd+qj7D/0D/l3+Sf7f/g0ATQFrAhwDQgOPAzwE/gRZBQoFowReBBwEtgOIA0cDjgK4AV0BigHTAHL/rv6f/kf+Fv01/C78VPzx+2H7fvs+/Bj90v1R/mT+Q/6w/jIAzQGBAlsCHwJgAjYDRQR8BEgE/QMsBHEEiAPHAoYC6gLVAgwBVf+8/in/bf/j/o/98vvX+sv61/vs+xL7Z/qh+hz8Nf3L/SD+Kf6A/nT//gA/AnECVgL7AgYE3QRTBUwFwAQnBGkEUwWeBZEECgNJAlYCaQIKAkgBKQC6/sz98P1W/h7+m/2e/cj9o/2V/Sj+E/8i/+H+QP9TAH8BLAIlA/oD8ANpA9oDOgXRBbwFkgXSBRMFRgO4Ak4D6wPZAqwAWv/f/u7+Hf/Y/oD9q/vV+rL7rfw1/EH7wPo1+0D8Lf28/W396vx7/Tr/IwEAAtoB5QFxAlUDWQT/BAIFRgTFAzsE+QQ+BbcErwO7AsUB/gCkAF0A3v+C/gL9evzt/K39vv1U/eD8Fv3J/b7+xf9BAK4A4QCEAVsC2gKEAxYEvwToBP4EOQWHBScGewaOBoIFQgQWBLMEEAWDAygBvv+R/6D/CP/b/Vn89/pa+v36j/sN+wD6mPlO+jj7zvsX/CP8/Ptt/OD9o/9XAN//6v/gAFYCgwNYBNkEaQS/A4gD7QM3BKkDlAJpAVgAnf9W/1D/Ev/+/cP8I/xi/AD9Jf3v/MT8Wf0m/tX+Qf+d/08A2QCtAVQC6gJ9Aw4E5gREBZ0FjAWaBfMFEgYRBiQFeARlBHME/AN0AuwAKQAXAOr/Qf+4/Q38MPtN++f7R/vT+dD41Piz+aD6J/tG+xL7C/sY/IH9qf7d/p3+Vv94AJgB/wEhAncClAKOAkYCEALDAWQB7QBDAH7/zf6Q/j7+iP24/H38qvyS/FT8W/yX/MP8cf1+/iP/wv5+/oL/+gAIAoICLQO8AysE3ATxBa4GHwbuBXQGLgcLB+wFlAVaBcEErQNdAlsBmQANAK3/+P5G/bb70PoT+7z7Mfta+qf5t/lp+uP6M/v++jv6GfpA+9v89P3K/cP9gv4q/97/UADZAMkA/v+P/7X/JAAAAG//wv51/oL+qf66/gH+9vwa/Ff8bf3y/Yz9u/zJ/J39TP6L/oL+iP7A/pv/IgFnAq0CZgKpApEDUwQJBcIFhAYaBx4HCAc0Bj0FHAVgBVoFAAR3At4BugEvAfr/b/7i/PP7u/ti/IH8dPt4+hP6yvqB+777APzv+9X7J/wK/R7+bv74/Rv+4v6Z/5P/8/7H/rr+nP5P/jH+iP7P/r3+yv2u/Cf8lPwZ/Z78tfs4++/75vxO/fj8K/wN/Lb8Af7c/vX+Iv+u/6gAdQEKAoQCtwITA+QDAgWvBaYFuwUmBm8GDgZXBVYFlwV5BZMEHQMGAlUBMwEVAUAAo/4Q/Zv8EP2J/dv8pPvn+gj7//up/OD8o/xF/F/87/zY/Y7+6v40/33/ev8E/5z+zf73/oX+3v2r/Qf+3f1Q/df8M/xu+9v6kPuS/FD8H/t1+hX7y/se/Ez8vPwg/ZX9wP6Y/8X/rv92ACECAAMoA1YDBATZBHAF7wX6BccF5gWHBq4GYwULBBYECgVFBeUDPwJ9AXIBmQFAARIAXf4x/Wn9Vv5l/kr9VPxV/Pf8bP2X/aP9Yf0y/Z39ov5d/y3/v/6j/sT+0/6v/qf+pv6X/sv+x/5l/t/9eP2X/Wf9xPwI/G77b/uq+7r7U/vH+qn6OvsH/I78Ff1h/cb9XP74/tD/ewBVATMCtgIxAwsEbAV0Bs0GpwZ+BqQG4QZQBx0HHAZkBW8F3wU0BVwD9wGsARECOAKOATYA1/4+/tD+jf8s/yz+jf0F/hf/qP+u/zb/4f5A/xEAvwCdAA8A8v9LAIQASQDj/+b/+v+p/zX/kv4e/pr9OP17/Zj9Sv2U/BD8B/z2+7v7h/t/+1b7aPvK+3H84vyk/Kf8EP0S/lb/YQCFAVkCGwP9AxoFOQa2BnoGIAaxBtcHyAidCFQHWgYXBnYGnwapBTEEDgO3At4ChwIzAZf/jP51/ib/af/4/nT+Wf4s/wAAPgBFAEQAwQBHAYMBlgFcAUQBawHaAUoCHwJqAbsAVAAFAKP/HP/a/pb+7v1W/fL82/yO/MX7Lvss+5f73vuh+zj7IPt7+0j84fwS/f787vzW/Qn/9/9PAB8AqgDQAUkDjQQ1BU0FXgUmBhsH3AdABxAG3wU8BvgGpwZUBSoEcAN0A3kD2AJrASIAn//h/1gA3P8k/7z+A/8GAKYA9QDTAFsAWQCkAD8BsgGTAb4BIAJlAmIC3AFmAegAPQDD/5b/U//S/lP+2f2a/RD9Z/z9+037xvq2+jT7n/sc+1P6KPr0+gj8mPy6/I38oPyT/ez+GABdAOj/+f+8AOkBwAIHA+gCAwPbA7sEfQURBU8EfgTqBG4FvASMAwUD+gI1A+wCNgIVAVYAQACjAN4AHwCO/3v/DADWADIBVgG+ABIARgAZAd0B9AHLAS8CRQLPAasByQHsAXAB2wDSAJoAzP8M/9z+Tf5S/XL8Zvyz/O37D/vo+lb7d/uw+t/5mvka+hL71vvo+4z7oPvD/DX+DP9D/zj/j/9MAFMBNAKVAiQCrAEeArUCNAOKArAB+wFtAscCJwJSASEBRgGKAY4BQgF3ABYAUQAVAZIBIAHfAA4BvgEyAhUCxQFlAWQBvwFJArwCAAPwAsgCcwIzAjUC3AGIATQBBAGtAPT/dP8y///+ZP7t/dr91/2L/Zz8uftE+2j7uftq+4j65fkp+hH7tPux+3b7X/sP/CX94f0F/uD9bv6F/10AuwAjAVYBhwEXArACVwOwAr8B9AFyAqACpgFwAP3/1/+i/5L/bv/5/qX+jf5J/w0AQAB5AMsATgF+AUYBCgERAUsB0AF5At0C/gLCArwCyAK/AsUCtAKoAj8CpQEdAdIAjgAOAGP/ff7W/ZX96P1a/vz98fwz/HH8Cf3I/MT7Tfu6+3v8qvxO/AD8wvsC/Iz8A/0h/Q79f/1z/i3/Qv8r/9v+8f51/ykAFAHwAH8ArwBVAe8BZQEoAIH/gf+i/8//gP8C/4T+Hf6V/gL/B//u/gH/b/++/+b/GgA8ACIAcwBJASsCaQIQAgoCAQLoAdsBHQJrAuYBEQGjALoAuABnAA4Arv8P/4f+uP4c/9D+qf3p/EH92v3b/Uj9/vw9/cj9Kv49/tn9X/2C/fH9T/4S/sf9Av6B/vD+G/8x/+v+zv4g//r/uwA8AIH/W//i/0gAsP/P/nn+rP4I/1//T/8I/6b+kP4O/2P/bP85/xn/H/8y/1j/bv9Y/1z/BAAgATgCjAKAAmoCIgIzAl4C6QItA6MCGwK1AZUBWgHsAIEA/P9W/0L/9v96ADsAA/8t/l/+yP4f/8f+Of5C/q/+Wf+k/xX/ov6O/sX+dv/D/9z/0/+q/wAAXwA5AJj/Gf8+/w4ATQCi/yP/Dv9+/1n/hv7r/ZD9sv0F/mL+O/6d/Xr9K/4i/1z/SP+X/zMAjQCPAKAAqAB2AEMAjwBBAbwBhgEJAcMA4QBOAYwByQHZAcYBrAGgAfgBJwLfAQ0BXQA8AHsA4wAPAQYBUwCd/6f/cQBdAQEBCgDM/4wAuwEzAscBLQGUAHEARwEGAhACbQHQACUBqQG7AXYB9QCfALwAoAA0APT/FABpALz/bP6v/b/9Pv50/l7+4P1i/Zf9hf5T/x//hf6X/oj/cwDMAIUABADE/wQAKwFlAu4CnQLvAbcBwwHQAbcBcQEeAc8AaQA9AHwApgCrAEYA+/83AHQA+QCCAZQBNwGZAJwAfwE0Av8BLAHQAKUB0gJbAxIDSQJ3AUYBLgJSA2IDUgJYAVAB7QFEAiwCvwEUAdwApQBdAJEA2gD5ACoA0f5F/nP+5/4j/7H+0P0//Y79lP4a/3b+ov2o/bb+7f9KAL3/5P6V/jv/OwC8ALQAqQDbAAUBJAFUAVMB4QBsAIgAsgCVAEEA5P+v/wv/kf6+/jv///9UAFgAgACeAB0BCALAAq4C2wGBAXACvwNOBA0ELgMjAuMB2wIOBMsDbgKJAcIBkwK+ApgCHgJZAQUBfgBdAMMA8QDPALP/eP4z/nr+//49/6/+2P1V/ZH9mf7v/ir+Uf02/Vz+c/+a/xv/AP57/Rf+Gf/B/0L/l/6X/rD+BP82/wn/pf4x/kz+t/4J/1T/kf9+/wf/mv7F/nr/1f96/9b+tv4O/2n/HADOAMkALQANAEIB1gJ1A2UD/gJzAowCQgP9A74DowIFAkYC3gICA8gCSQL9AeMBewGAAZ0BsQFnAV0Alf8m/wX/Iv8D/23+vf1k/e39/P7+/hv+Wv29/TH/CQAGAG7/Vv7J/Sf+5v44/2r+t/3J/QH+Ov78/aP9RP3X/L78AP18/aj9bP0C/f/8N/2n/XX+/v5F/yr/Zv/q/zIAsADqAJkA5f+2/6IA4AFXAjsC5wGjAToCBwOjA2gDZwIPAoACQQOMAy4DjQIzAooB8gBBAYQBnwHTAPn/AADx//r/3f9y/7/+K/5H/jL/0P8i/xr+av3Y/f7+3v9GAMz/6/6m/gD/Rf8C/0j+3v2r/bX98f2e/fL8FPzH+9H72fsV/Cn8Jvza+/r7WvzV/Dv9Rv2S/bH9P/77/sf/0gBhAasBnAG1ASUCtQLvAoQCxAFmAfUBbAJYArsBIAEkAZ8BVgK2AogCOgJxAlwCDQLmAdgB+AErAVYAIwAwAE8AGgDF/zX/x/7d/sb/WwC4/9r+bv7l/oT/3v/x/3r/1f7K/kf/Tv+Z/rD9YP1n/ab92v2l/df8iPvo+tH6Hfsq+8T6Wfrq+V36K/sf/HT8NPyE/AL9t/0n/sX+oP8GAPf/GwAvAUoC+ALgAr4CJgOYAwMEwAMWA2ACxAGiAfIBLgIJApoBdgHgAdEBxgECAnACxAI2AtoBxgGnAX4BSAHWAAAAZv+Z/4MAfgCt/y3/Xv8iAHYAlABhAN3/o//q/0QA3P+//sL9X/1T/bP94P2I/dD8AvwC/Cz8HPzI+1/7FPsE+177w/s8/BL82vvx+yL88/y3/XT+xf6//hD/s/9sAKUAiQBUAJoAZgFHAscCnQJ7AooC/gK8AysE/AMzA8YCWQOiA74CpgFBAbkBpQHnAOYATgG1AbsBhgFOAckAjQAKAXYB8QANAIv/zf8wADkAUgAAAMP/FACkAA8BZwBK/83+lf6E/o3+f/5+/tz99vzF/M/8yfx2/C78avyt/NX8N/25/e79u/1i/Yn9C/5i/ov+Vf5U/t3+wv+xAJ0A6/+r/yAAIQGaAVAB9ADYAD0B6gFCAgYCtgHvAfwCJgQlBHkD/gIlA4cDCQMvAqkBiAHQAQ4C6gFRAZgAogCJATACKALAAZoB/wE5AhkCwAFDARQBLAEnAfEARQCW/3f/XP9J/yL/FP8l/5n+9v2+/db9vv1s/X/9xP2s/Wv93P2o/r7+GP79/en+jv9e/wD/Ff9n/5v/0P/u/3H/y/4y/xoAcADt/2n/rv8UAD4AeACyAGUATgAHAU8CJgNlAroBMAJKAxwEpwMUAzkD7gO4BN0EFATgAhYCIwLBArMCFAJxAQ4BVwHgAZAC4wJpAvsBOgKbAoECsQG/AFAAuP82/x7/O/9L/77+Fv6u/ZX9mv3a/VT+jf6b/oH+rf6x/mT+YP7A/kX//P6f/vP+mf8DALz/Qf/Q/mr+fP4z/3v/7v5X/lr+FP9j/xT/0P7t/mH/HQDYACMBMAHYAPQA0AHGAkcDwwIlAkYCOgMcBH0ENARUAwoDkAPNBEcFPwTXAvAB+AFMAoUCTAKsAQABwQDwAAcB+AB/ABYA3f/h////nP8G/4P+Mv7A/W/9bv3U/XP+t/4T/zz/K/8W/y//nP/T/3v/zP7Q/k//wv+X/8/+Y/5Q/sP+J//8/if+Qf1u/Rn+Vv7G/RD9/fyo/Wr+NP+7/4P/kP+H/8X/oQBSAegBswEQAU4BQwILA38DFgNCAvQBPQKjA4EE4QOyAuUBagJtA/0DtgPQArwBDgHeALYAaQCg/xD/3v7s/hj/Ff86/0H/Mf8e/1z/sv+5/6H/dv97/zz/+/4l/4T/zf+c/0z/M/+Z/yYANQB2/3v+Nf6d/ib/4/4C/v38nPxn/Sz+Pf54/Zz8lfwm/dH9W/5v/mH+wv7z/jj/xP+KAFcBFQF2AJIAQAHyASYCzgE9AdUAKwFdAhgDigJpAfkAbQEqArgCygKHAs4BSwFwAaUBlgEXAY8AUwBcAC4Apf/N/u79uf3j/WH++P5t/9//BgAIABcAfwDTALAARQDL/5r/jf+5/xcA/f8u/3j+e/4m/5H//P75/Rr9B/2S/dL9iv3L/E38mvx4/Ub+e/4z/i3+pf7J/rz+CP+7/1sAFQDB/zsA4gBFAW8BbgE3Ac8A1QCXAfEBNAF8AGwAzwBuAcYBCAK7AdEAlwADAXkBNgFXAND/7v98ANgA5gChABYAp/+R/9b/DQDa/1r/D//M/rf+Lf/U/2QAVQDO/7v/OADQAAkBNgDw/iz+EP6c/p7+6f03/dT8Hv1+/ar9bv3F/FL8sPyg/Qz+2P18/df9eP5p/mP+xv6I//v/lf9n/7X/2P8IAEMATwATALr/PQBRAYUB0ABIADwApQAmAWIBXgFpAG7/cf8TAJ4AHgBr/z//tf9qAJcAZQDG/z//c/8tANUAEQEJAS8BRAGuACsAJwBmAEAAX/+r/r3+Ov+S/7j/bf8o/y//pf9RAPH/+P79/a/99P0E/uv9Xv37/CX9BP7g/vb+sP5q/tX+Gv/n/tP+/P6m/+3/kv9n/6f/KwC6AMgAXQDu/8L/QgC7AHoA3P9m/3X/KQDvADoB7QAXAKX/tf/3/wAAcv/Y/pn+Mf8AACwAtv8Q/zP/4P9oAK4A0gDvAPoA3wDQAP0AVQHWASEC1gE9AQ4BNQEhAVQAFf99/oL+Af9d/1D/Qf8M/yv/kP8FAPr/Sv/E/un+gf9o/yT/Fv9w/xAA4//Y/zsA9wDfAcUB/ABqAEsAtgAeAcQAKADB/9j/fwC3ADYAn/8//1//3v8HAO//dv/o/vD+Mv95/2b/Kf8Q/yv/ov/5/97/J/+V/sv+YP/R/x4AtgBKAZEBmwGlAcgB7AEFAgMCsAFkAccBVgK+AnIC1wGBATEBRQH4AEoATv9i/mj+0v46/zv/S/++/6EAQAFfAaIBiwHVAb0BKgEnATgB4gFTAhUC+gERAlMCugK3AhcCUgGdAMoAQAHuAAgALv8u/8P/JwADAK3/Mf/Z/sP+rP6L/gT+lP1g/ZL9Mv6//u7+rf7H/kb/5P8TAP//KAAkAFUAdQCQAAkBmgEuAlYC2QGnAQQCMAILAjQBewBbAJIAOAGKAYYBDwGYAGEAJQDT/yD/oP6I/hb/ov/8/ysAcgBrAb8BEQJ+AvECkgMRA2sCCALjAS0CZQJaAgYCvwHTAVwCVQKJAXIAq/+u/+//DwCy/+z+OP49/sT+/v6b/vv92P3L/d39If5D/uv9OP0i/cz9l/7Q/j//EgCvAOgASgD4/yoAVwCgAIcAPQBdAMsAfgHbAS0BdQAvAF0AqQB+ACYAtP+n//X/UABOAPL/7f86AK4AvgCcAEIADgAPAAQAwwB6AS8CkgJ+AvUCZQPVA+0DZQNwAowBVgG8AU0CAwIlAVoAMwCiAM0AkADs/y3/s/7I/h7/6v4e/nL9aP22/RP+QP5S/ib+zP2j/bH91f3X/QP+Zf7//jb/8f5D//X/kgCEANj/iv+k/+//SgAeAHP/JP97/z0AbADC/xD/4P5G/77/+//E/1D/FP+X/4kAJQFgAWsB2wHIAVoBoAEIAlgCrQH4AE0B8QGvAhoDGgOGAu8B8QGZAv8C/gGaAMP/3v9gAHcAPgCU/9n+mv4G/0//q/7C/U39Zf2s/dD92P2y/Vb9OP19/dX9BP4b/nj+B/8+/63+Kf6E/i//i/8x/9b+F/+H/xIANwCJ/7f+Zv7i/oL/Wv+t/g7+/f2B/hL/S/8W/7T+3/7O/6wALAEdASQBjgF0AbsBcQJEA+MDWwPcAtYCGQNsAxEDJQIqAckAIgEDAj0CdgGrAFgAxgAEAcAAWgCu/yv/IP+Z/9T/O/9d/tX98v1N/n/+l/6G/mj+Wf5P/kP+L/49/o7++P4T//3+OP9u/y7/h/7U/bD92/0V/lf+4f0h/dL8Jv3f/dj9Nf2a/GX81vx1/eT96P2d/Wb96P3H/nP/AABJAPcAKgHjAFgBCwLlAuECTgJmAssCawPaA7cD6gL/AbABQwLOAgUCzwARAA8AbgBrAFgA7f8e/8v+TP8IAPP/Mv+k/oX+qv7G/vj+B/+Z/lv+qP5T/9H/v/+k/7D/ov+D/6r/+//1/2P/p/59/qn+tf6O/un9HP2z/Lr8Jf0d/Yb8Ffzi+yT8c/yP/Jf8hvyi/CD9AP6d/gf/Uv/C/2gAVgCNAE4BNgLOAkoC8QFJAvYCiQONA/wCTgIPAl8CIgPyAs0BswAaAHUA1gDVAFcAS/+H/pD+G/9Y/xH/sv54/mj+nf4W/3r/R//J/tf+Tv/r/0oARQA5AAYA7v9aAO0ADQFhADX/r/4B/2j/cP+5/rz9Kv05/a/9pv3Y/Av86PtJ/Kj8qfxn/DT8WfzZ/I79Df5Z/uz+jf9DAJUAkAAiAfMBvgLLAiECAAKWAokDOgT3AwUDSQIsAvgCdwOkAn8BpADDAD4BQAEUAVYAbf8h/6D/SwA/AIn/+f7I/sX+Dv9Q/2X/MP8Y/4b/DACTANoA4wClADsAWwAOAagBWgFVAK3/6v+DALQAIAAK/w3+1v2G/tr+K/4D/WX8uPwO/Tr9Pv0Q/R/9fP0k/pL+kf7d/pX/TACZAIQA7ADfAcsCMAOyAjMCcwJXA0kENgQuA1oCQQLoArADdQOHAl8BwgBjAQACBQI8AQ0Av/8VAJsAzABfAOT/qP+v/wgAYwBWAAcAv//P/0MAzgBHAZ8BhAENAcgAAgHcAUsCkgGBAAQAjwBEASYBSQBT/9v+Hv+F/y//Xf6Q/WL9uf3l/eH9ef0b/Uf98P2n/t/+EP+X/2IAwwBoAGUAQQGWAj0DuAIpAksCAgPbAy0EsgOnAuIBOwI6A3MDhQJGAZ0A9QCaAdMBWQEdAGX/wv+yAEwB4gBLAAQAIQBsAKUA0wCnAIwAowDPAOsA4QBaAeMBvQEkAfMA1QG9ApkCqgHpAAYBlAEJAs0BuACb/yz/vP8zAKj/nv63/aX9GP5o/kb+jv0B/Uz9Jf6h/qf+n/4O/6f/n//H/2EAQwHcAWYBGAFLAcMBdwLAApYC4AEKAT0BIgJoAsYBuAAaADsAlgD0ALMAlP/J/v/+5v+IACwAiv9J/33/CwBgAGgAVQBNAHsAwwD7ABkBagHWAQkCqwH+ACcB7AF/AjICGgGhAPgArAH8ATYBHgBW/1L/8f8SAHX/a/67/QH+pP7x/oj+of1N/fL91v53/37/Tv9l/0P/lv92ADgBzwFqAQcBZQHpAbkC9wKGAuMBJgE6AR8CjQIRAvoA/v8BAGEAowCTAJz/wP6n/h3/tf+Q//v+s/7c/lb/of9m/yz/dP/6/2wAjgBtAIsA2wAyAXwBLwH1AEoB4QFKAqkByACkAFQBHAL1ARUBEwDE/ywArgCBAFP/Mf7N/UX+wf64/hn+O/09/eX96v55/zz///6H/rj+4//1AE8BkgDV/x0AzwCFARMC3QE2AZQAgwBiAcYBIgE6AIv/q/8QADMANQB//27+E/6T/ln/ef/f/lL+JP5c/tr+Hv/s/rH+4v5e/7z/4f8OAJUAFQEiAdMAXgBmAPYAlwHlAYcBxAB0AOAAUAE3AVcAfP9w/9v/YAAAAMz+5f3d/Yn+5f6l/gr+yv0B/on+Yf/I/63/5f5q/l3/tABaAcQA7f/p/4wAcAHkAU4BEAB3/+j/1wA5AZUArv/e/qv+Fv9Z/0n/qP7d/aj9+v2D/pD+G/63/YD9ov34/Tv+Vv5W/oH+xv7i/g7/ef/T/ycAcgDIACQB3QCAAK0ALwGVARgBkQDcADwBOAHcAHgAIgDI/+3/YwD6/9L+MP6a/lD/Uf/t/rj+jP6m/kn/KgCcAN3/If+v/9YArwFTAYkATwCGAHsBYgL4AVwA6/7v/hMAqAAlAEv/ev47/mb+v/77/lf+VP32/KT9Z/5E/r79qf3L/Yz9Xv2X/ej9zf2+/TL+j/6u/qX+7P4v/yv/V//J/0UAFgDC/+X/ZQCoADoA1P+c/7v/HAByAE8Ajf8x/4P/1/+L/+D+dv6A/rv+6f4S/+H+0f4x/6n/GgDD/xf/hv/ZABYCHALvAH0ACwH5AfUC4wLvAcAAEwCXAFYBEQHw/+n+uP5h/8f/p/8u/1X+2v32/YT+zf6V/mf+Yf6Q/rL+z/61/kf+Bf4o/mH+lv7n/kP/qP+J/y7/Uv/g/5AAhwAQAAgATQBwAEQA2f9+/2v/kP/t/7H/Bv/B/uD+Uv9W/+/+ov6U/sf+Fv9N/0r/ev/Z/38A2wBNABMA2AALAqYCKQJ6AawBfwJ5A+MD+gL6AcsBUwLbAloCOgFHANP/4v9WAH4AGAA8/0z+Sv6z/tz+lf47/kz+df6n/sn+6/7u/tf+3f7h/uD+Af9s/8v/CwDS/5T/DwCXACIBHgHNANYAugAEAWcBJQF2AOL/DwCUAFYAe//r/uD+WP+f/1b/Af+i/rT+TP+8/wAAGQBWAOEA1gCQAP4A2QGRAn8CEwIuAq0CSQPKA5YDvwI2AkoC/AI7A0wCMwFsAHEAxADBAJwABwBX/+7+5P4J/9L+f/5x/n7+lP6y/sH+7v4V/xr/EP/W/sT+Kf+t/xsASwDh/8X/PADTAHIBLQHiABoBaQH6Ad4BPAGsAGAAoADxAK4A3P8T//P+mf/Z/1n/r/5i/vP+i//t/ygAMAB+AKcAuwAdAZYBFQJeAkoCYwLSAnsDOAQeBFIDyALIAl4DvwMtAywCEgFwALgA6gDcAFwAg/9F/0H/U/89/8P+fP5m/m/+pP6p/n7+if6U/pj+cP43/oz+/f5I/0//G/8C/0r/BQDNAEAB2QBeAI0ARAHfAW4BmQA7AHgAwwCnAAkA//5a/mz+Ff9V/6j+5/37/bj+N/9q/0r/lP/4/+z/WwDZAHwB9QHOAdkBCwJ0AjQDvAOBA/ACiQLBAo8DvQMsAxsC7gCZAN8ACAGxALb/9f4d/33/nf9U/9v+qf6I/qT+GP9K/xn/1f7O/uL+nP5a/qH+P/+h/4P/ZP9+/93/aADaAPwAcAD0/3AAfgEIAmYBQADK////TwCQAAYA2f7b/a39av6p/uX9OP1i/fv9o/4N/1D/lv8a/wv/9v/SAEsBzABvAPEAhQEkAtYC8wJuAtUBtwGLAg8DsALkAdIARQBYALQAoAC8/7X+gP4u/53/b//u/pD+Yv5Q/pz+A//4/oD+df7p/gn/kv49/pf+Lv9Y/wf/9f4g/7f/nwAjARcBLwCw/2IAVgGzAekA/f+5/8P/HABRAL3/tf7//S/+u/5z/rP9fP25/Sb+q/4V/47/gf8N/4n/hwByAbsBTwFGAXIBxgGWAjUD0QLfAWAB6wHfAu4CYAJUASkAwf8TALYAcgAr/xv+/f2E/rf+YP4V/tT9gv2Y/Qn+cf4m/qL90f0Y/uP9X/1s/f79cv5h/gj+Lf5n/gP/wv8oADAAbP84/+z/qwCyALz/AP/s/lL/6P/y/y7/Jv66/S/+mf4q/mn9E/1a/fP9fv74/l7/Kv/b/nD/kgCMAXAB6gAFAWkBDgKoAskCMwJPAf8AowF5Am8CowGGAOT/2//y/wwApv/b/j3+J/6C/p3+YP5B/gv+z/29/bn99/36/QT+GP7E/Xf9ZP3E/Rn+Lf4X/iz+n/7n/oH/BwA3APf/T/+i/28AwgA+AD3/vv68/iH/kv9k/5D+zv3M/Uf+Yv7J/Sb9B/1v/R/+vv4h/wr/df50/nL/kQAgAesAzAAVAWEB7wGIAp4CGAJ9AYwBKwJaArsB9gBgAPz/wP/M/zAAGABR/9L+5P4r/wP/vf74/vr+w/6b/s7+FP+x/mb+Z/56/kz+H/6T/gv/Fv+4/tT+Uv+C/8n/OgDNAKEA8P/1/3MAtwAvAFL/9f4f/5b/7v+l/wX/sP7T/hL/qv7q/bn9Pv7y/lL/Zv95/3D/IP9p/00AKQGVAVkBYAG2AfcBVAKZAq8CYwKyAUUBiQHyAfIBkAH0AIsAdgCiAAsB6AAtAKT/ef/M/wsAEAAGAL//qP+x/8L/l/9U/3//vv/X/4D/QP9O/2D/kf/N/zUARQAhAHgANAGoAT8BrwCLAJ8AhABIAC8AKQArAC0ACQCH/wj/4v4z/3P//f5e/iv+qv5R/6H/uf/N//L/CQByAAIBpAEjAi4CRgJMAlcCpwIkA3wDDgMGAkMBTAGsAe0BDgLaAUwBrwCXAA8BGwGRAEQAZACFAE8AMwBxAKAAjQB5AIIANwDA/7L/UQDcAJIAKAAIAAUABwCDAG4BywFNAcoA/AAyAQUBvQDLAAUBnQD9/7n//P8qAN3/Y//h/qP+mv7X/gP/2v6Q/k3+lf4g/6b/AABGALkADgEyAT4BqQFZAv8ChwOuA1UDkQIZAlUC0QK/Ak0CEwLMAXEBEQH/ACwBDQHZANoA5ACTADEAMAB+AJUADgCs/8L/9/8qADIAMQAAALz/3/80AIoAmgBzAGAAhAD3AGEBrAGsAZcBjAFfAVoBQgE7AR0BowA/APD/1f/W/7H/Nf+U/lD+W/5s/hP+qv2h/eX9Tf5+/nj+UP5g/hL/SwAbARcB2wD+AKgBRwKyAscCmAJzAm0CqwLDAp8CMwLeAccBcwE6ATABWgFNAdcAdQAhAAUA/v8LAPH/cf8V/wT/S/9p/xr/4P7a/gj/Wv+6/wAA9v/Z/wUAggDsAD0BtQEpAoACggJnAnoCUwIQAqsBOQHqAJwAgQBTAL3/+/6E/nH+gf5O/rf9Yv1r/cj9XP6V/mb+If5r/m3/QAA/AOb/wv8jAPwAsAELAhwCOQJ+ArACpgJzAkAC9wG/AXwBOQEFAc4AywCeACgApP9d/2v/av9H//D+hf4k/g/+dP6p/nP+LP5E/tT+Pv9G/0H/Rf9i/9z/kAAZAWsBlQHtAWsCaAJLAlQCSwIiAokBFAEKAQMBvQAzAJL/6v6h/rL+yP5M/n79Pf1k/dv9Mv4m/tD9Tf1f/RT+3f4//0D/V//8/9gAPgFmAXIBhAHTASwCSwItAugBnwGXAYoBSgHhAIAAWQAwAPD/qP96/zP/5/7D/nn+Mf7+/Qz+X/5n/i3+Cv4k/jf+Mf5r/q3+1f4o/7b/QACcANIA+gB8AfsBBQIcAj0CUwL1ASMBmwBeAFEAVwAZAEz/fv4p/lr+y/51/pr9A/32/BX9xPxl/Ar88fto/DX96f0b/uT90/2J/oj/SgCbAIQAogDnAE0BvAHiAZMBEgHSAOIADAHJAEgA3f9y/zT/V/+I/yn/iv4I/tf98f3+/RX+/f2g/VT9Zf3w/WP+Yf5A/lX+jP7m/n7//v84AGcA8gDcATQC8gG9AbcB9wHTAU0BGAEQAfMAuwBPAJ7//f68/gL/Bf8p/j39qPyS/L784fwQ/fr8v/zQ/DX9e/1x/Vr90f3c/rn/LgBAAEsAeACuAPgAPwFWAf8AoAB7AHYAXQAoAA4A3/+V/y3/+v7y/p3+JP7I/dP99f3z/e/9wv2W/Zf98P1s/o/+d/5+/rv+F/+I/wAAWwC5ABYBjgEKAswBfwHOAXACAQOZAssBdQFiAYIBigEgATgAYf82/5f/jf+5/ub9lf3f/UX+TP4P/pb9RP2r/XH+5f69/mD+t/5m/9H//P/w/yUAoAAgAYABlwFVAeIArwC6AM0AsgB5AF4AMAD4/97/v/+F/y7/yP6l/pb+Yv5N/jX+B/7j/e/9Tf7H/gj/KP9c/5r/AACSAPkAHgFEAaYBYQKnAkMCNwKWAiYDPQOrAkMCJgIdAuMBegHGAPj/Wv8w/43/U//P/ln+6f0U/lz+sv7f/q7+kP69/hP/Cf+5/p3+CP/B/y4ATgBSAEoAhQDwAB0BIgHyAMwAygDRAO8A0QDFAJ4ASAAtAB4AMwANAKf/Z/9c/2j/TP85/+D+hP6s/ib/1v/4/5n/d/+Y/wQAmAArAXIBbQGLAR0C5QIIA8cC2QI4A04DigKEARsBYAGZAWsB8gBXAOf/oP++/7P/GP9t/iX+pP7+/tX+nf6X/vj+QP9l/33/X/82/1n/0P9VAJwAagAyAEgAogDyACsBVQE9ARABugCIAGgAKgBRAIUAfABPAD0AJADk/57/dP+0/8H/v//X/6b/lv+h//f/YABZABIA6P9CANsAhQEIAhQCAAIbAr0COAMUA9gCfQJkAloC3QGEAYQBvAHCAfwA9f9j/zv/gf/o/7L/Lf/I/qr+Kv+O/zP/kv42/sL+yf8dAM3/YP9I/2f/kf/w/zUARgAdADkAnQC1AOoAAwHoAKMAHgD2//v/7P/N/5//gv9U/0H/Uv9d/1z/UP9o/5n/qP9+/yL/Gf+J/yEAfgB2AGgAXgCpAGIBAQJAAiMCMQJ6AqUCUAIBAjMCSQJmAjICtQFrATUBWwGEASgBYgC4/6L/EgAUAFb/x/6p/vD+Zf/d/wMAav/Q/hf/CgCLAC0Aif9j/8P/GQBkAH0AUAD6/87/8v8XABQA//8MAPv/1P+N/zL/9/6x/p3+jf6Y/rX+hP5e/k3+WP5y/qj+9v7s/sD+xf4N/5n/AQBfAJIAeQDLADsBkAGNAWkBxAEeAlQCDALnAToCXQJ9AgwCfAEwAf0APgFzASUBUQCS/1//of+T/xz/v/6U/sP++P4k/yT/5v6Y/rH+Qf+n/w0ANQA+AE0AYQCcAJQAfwBcAHYAfABZAFIA/f+z/3v/kP+v/2//CP+6/sf+0v7b/q3+MP6g/VL9mv0o/pj+c/4s/in+a/7h/lj/vv/D/6z/tv8PAJ8ACAEoAT0BkQEAAlQC9AG5ARICigLtAl0CoAFBASoBVAE8AaoAiP+o/oz+BP80/6/+Gf6Y/Wr9sf0f/kT+C/7U/TP+qv6i/r7+D/+X/+f/8/8UABcAFQAsAJ8A5gB8ALj/Uv9r/4z/xf/U/5b/2P4M/uj9O/6S/mb+8v1r/Rf9Gf1r/f79NP7y/ZL9if2t/fL9Tf6s/gv/6f7r/n//dwAVARoBMQF2AbYBSAEyAf4BvgLxAk8CnQE2ASsBaQGoATwBCgAY/+L+cP+Q/xf/hf7e/bH9yP1B/rL+hv47/lX+x/4C/9v+sv4q/+//XQBIAOz/0f8PAKoAJwE/Ad8AYAA0ACgAIADU/4z/Qf+2/jz+Df4v/jj+Ff7f/ZP9JP3i/Dr97f0b/nv9+Pzs/Dn9mf0q/tr+2P5p/ln+AP+x/xgAbwDRADQB4gC5AFUBLAKCArsBzwBnALYAcAHMAYQBrwDF/2n/4P87ABAAhP/3/gf/M/9M/2z/Xf8u/zz/l//+/xwA0v/n/38AEwFBAQUB9AAXAV8BrgGlAUUB3QCgAKUAswBvADAAFQDo/5b/Q/8i/xD/Df8p/x3/h/64/XX95f13/nb+/P21/fP9bP7f/jb/XP8z//f+VP8AAIsA0QDXANMAeAAyAHgAQQHZAWMBowB5AN0APwEsAbwAJgCf/5z/OgByABUAq/+c//r/HgAYABwAJwBCAI4AEgFEAQQB7QBnAe0BCgLUAbQB6wH5AdABxAG1AWkBOAFKASUBywBiADsAfACLAEsAAwDd/+v/5f+6/5v/cf8z/wr/Kv9v/4n/c/9A/y7/Vv+f/9H/BQBjAJkArwC+ANUADgFRAUkB6gDZACUBegFSAaUANAA6AJIAwAB0AOH/gP+X/wcAVwABAGT/+/40/9v/SgBfAPf/1P9yAC4BsAHFAZkBtwEaAn4CxgKwAkoCGAJwArsCWgKxAUEBaAG7AaUBUgHGAE0APQBWABsAcv/r/tD+Af8k//n+8/4t/1D/cf+S/4H/Zf+R/yMAwwACAdQAkACtADQBtAHdAZ4BagGZAZcBeQGWAc4B3wFAAWIAJQB5AM0AvAA5AHv/6f7e/mT/qf8l/13+Hv6//n7/z//T/5z/kf8IAMMARwFZAU4BmgEzAqICsgLEAtcC0QLcAu8CHwPwAmkCLgIzAhMCpgFcASgBuQD8/yb/zP7j/u/+1/7V/pD+H/4a/pX+N/9B/wz/Kv+S/xUAfAABATkB/ADjADoB0gEOAuQB9AESAp0BEAEQAXcBegGwAN7/mf+4/8H/n/8v/03+g/1p/Qz+a/7+/U39Df13/RP+hP6S/lH+M/66/rr/hwDhAOQALQGtAfkBWALeAkoDbANaA0gDVQN9A5gDlANAA1kCawEOARMB9wBEAGz/Dv8d/yT/7/6p/kT+8v0F/qP+Rv9g/yb/FP+f/xwAOABaAJEA8QA8AXMBngGmAX4BlgH6AdMBaAE1AV0BggHuAAoAkf9x/1j/Df9l/rX9Iv39/HP9u/1i/af8Zfyv/BX9dP2p/bz9tv3+/ZP+Tv/E/9r/NAC+AFABugE0AsoCKQM0A+wC4wL9Ag0D6gJrAswBGAHKAN4A2wCAAMj/Gf/W/t7+x/6u/pn+j/6i/sT+9P4g/zT/O/9+/7v/3/8OADYAkwAbAXMBlQGtAagB5gEdAtMBnQF2AYABbwHlAEIAwf+D/03/D/+W/vH9af0t/T/97PxI/Nj73/tF/Kf80vyy/Ir8nfw3/d79Mf5i/qP+U//o/0AAowD4AFwBuQEdAlMC8wFWAUMBkQGCAQoBkgByAFIAAQDA/3n/O//x/tH+/f7d/n/+aP7J/gr/pv5O/nz+Gf+q/9T/1/+8/7L/DADDADMBFQHQAOsAmQHqAb0BfwFGARwBpAA4AAUA4v+9/6H/U/+B/r/9TP14/aX9Df2E/En8b/yu/Ln8v/yJ/CP8P/wZ/df9LP4i/kD+0f5J/8f/QQCiAIsANABkALgA3QCxAIMAmAC3AM4AuACHACsAx/+G/4r/q/9z/zf/KP8P///+8P7u/gT/9P7G/sX+JP+n/9//1//A/9b/OADQAHQBtAF7AUkBWAFHATYBNwElARcBkwAzAEQALADr/z3/bP7F/Vr9dv3z/fn9O/2V/Ej8hPz//EP9d/06/QH9TP3o/WL+T/5F/oH+5v5R/5n/wP+R/1//m/8QAGcAgQCXAKEAbAAmACoAbABtAC4AGQAnADgAOQBBADAAsP8+/2n//f9hAFAAHAAMAAAAEgBgAJgAjQBcAJEAOQGiAcoB2wEAAh8CvQFwAawBCQInAq4BzAArAAsATwBoANr/7P45/jn+sv7Q/kP+kP0z/T/9mv3b/fH92f2b/bv9Lv6j/tj+2f4V/1H/SP8b/yf/cf+B/3b/mf/s/xsA8//q/wMA5/+o/7b/QACeAGUA8P/O//z//v8HABIADAAEAAwAdwC/ALIAmACyAAEBHwFKAaQB8QHwAfEBPQJpAmkCZAK5AsUCFgKsAfgBwgLSAucBLwEEAUcBXQEnAaEAyP9B/2v/5v+q/9T+Tv5b/tn+Gv///sD+bv50/ub+Zf+X/2n/M/88/2P/h/+d/6b/rf/d/zkAXQA7AAQA5/8AAB8AMwAHAKj/iv++/+7/xf9k/0H/ev+9/+X/BwD1/8v/3v9CAL4A1gC0AM4ADAFNAZUB4QEqAj4CJAJNAp0C8AI2AwwDswJwAnICsAJkAqUBMAFVAc4B7gGRAeQAUwArAGQAlAAdAHT/Kf9m/9X/vP9V//D+wv4H/3L/o/9L/7T+jv7u/mL/hP9k/z7/Kv9M/5H/of9g/xj/Nv+r/wgAFgDd/5//iP+n/9r/3f99/wn/+v4t/3X/h/9b/zH/Ev9U/+L/RQBvAJMA0gAqAYUBwQENAgQC2QE9AtgCZQNKA8ICqwLhAh8DBwOtAkQC+QH/AQ8C3AEWAVUALwBjAJ0AVgDR/4f/iP/w/0AAOAD6/7H/wP/x////5P+M/1D/av++/xYAFAC6/3f/ff+u/83/xf+4/5r/f/+C/5v/s/+D/x7/7f4g/3b/k/9M//H+3/4C/0b/Wf8s//b+1/4o/4b/m/+R/6T/6/9QALsABAFiAZoB6AF5AuQCDwOoAnICyAIfAz4D3gKAAkcCKAIpAhQCtQH1AG8AUAB4AG0A6v+M/3D/o/8JAEQAWQAAAHL/dv/W/zUASAAEAPr/IQBpAIYAVgAeAN3/0P/6/yEAAADG/7b/pf+U/2n/S/8W/7T+eP6D/sf+qv4t/uP99P0u/lT+bv6D/ob+fP66/if/TP8c//f+O/+V/7z/6/9CAIkAxAAHAYYBBwLUAZ0B+QGFAq0CJQK7AcwB6QHbAaoBSgHIAEoAFQBuAJAANADl/73/3P8YADMA/P9Z/9z+If+5/w8ACADZ//f/HQAxAFIAVgAjAO7/HgBtAGkA+v+5/8j/kf8+/xD/N/8Y/2/+JP5o/q7+aP60/Tj9Of1j/Yn9nv2A/T/9Lf2f/QP+BP7k/fP9Y/7Z/ib/Pv9H/1L/bv+4/xEATgARAPv/VADLABYBwQBXAEAAcAC5AOUAvABDAPT/8v9ZAIYARgAEAML/0v8HABQA3/9W/wj/Yv/z/0oAOQDp/9j/6f8fAF8AWAAxAAoAJgCBAKAAWQAWANL/s//2/xwAGwCo//L+pv6o/rn+b/7W/XX9cf2Y/eL96P2f/Wz9Uf2k/fD98P3Z/bn9+f1d/r3+5/7r/gP/Ov+y/0EAkQAtANv/JACUAMAARgCy/3z/j/+v/8P/jf8A/5f+qP5C/5P/Zv82/zz/lf/Q/7r/Z//3/s7+Pf/m/0AAIADP/9//EwBrAJkAfACYAJ4AsQDpAAwB6QCAACwAAgAIACsAUQAXAI//Q/9H/33/Z//D/jX+O/5//rP+m/5Q/g3+8v0i/kz+Xv4n/gH+YP7P/hb/GP8K//L+E/+B//3/YAAtAA8AZQDpABQBggALAOX/+f9FAGsADQBR/8/+4v5j/1f/y/5+/pT+8f4l/x3/6/6l/rP+OP/l/1UAIADY/w0AUACUAKcAwADnAMEAxAABASAB6wCfAIgApAC3AJ8AmgCPAE8A5P/f/zMAPQD2/5n/jf+o/8b/3v+y/2v/QP9L/5n/xv9+/0X/YP+3//v/+P/1//H/CwAxAIQAqQA+ACsAkgAFAf4AXADs/wkAXwCYALQAegD3/5T/vP8vAA8Ae//6/t/+Fv8p/wL/wP59/o/+Sv8zAIwASwAxAIoA+gA9AUwBgAGwAb4B5gEFAtwBbwEWARABNwE1ASoBPgFKAQIBfgBfAHsAdwBBAN//n/+0/+f/AgACALX/Xv9A/3P/xf/Q/9r/9P8OABsAOwBgAGsAiwCNAL0AzgCKAKIA8AAqAeMAHAC7//X/RwB8AGkA8f+C/3z/8v9lADwAzv+z//b/TgBZAAEAqv9l/2H/rP8VAC0A1v+q/9H/QACEAJkA0wAIAVMBewGkAb0BlAFmAVMBiQGDAUABGQESARMBtgBSAFUAggCTAGUACwD0/xcAYAClAG0ADwDc/+P/HgA5ACoAKwAxAEgAnADBANwA3gDFAPMA4ADYAA0BRAFNAcQAOgAgAFcAjACAACUAs/92/4z/6v/y/5f/O/8q/5r/9f/S/2X/+f4C/2L/1P9hAIUASQAaABgAWQBgAD4AMwBWAIUAmQC9AMYA4ADQAMYABQErAWABggGTAYgBRwHwAMgA3ADgANQAbgAmAFUAnwDhALgAaQAoABoAegDcAOIAmQBaAHIAxQD8AAIB0wDDAO0ACQFBAWoBhAF1AesAcABlAIEArQCXABYAoP9H/3L/0/+k/yb/nv6p/ln/y/+i/xn/l/6Q/vr+Uv+X/57/nv/o/yAAWwB8AI0AoQCVAKsA3wDdALIAkAB6AFsAHQAOAEUAigCtAMMAAAH3ANYA7QA2AU0B1QCMANIAWAF8ATIBugA/ACwAZwDYAPYApwCPAM8APwF0AWEBDgHpAAkBAgEiATkBPgEjAZ8AbgCaAKEAsQCJABgAov9R/5X/+f+r/+X+Vv5d/un+Wf8o/5f+9f34/ZP+DP8c/63+n/4B/07/df9Z/1b/Tf9d/8n/NgBcAD8AVACbAJwARwAYAEMAdABjADQAKQAGANL//P9qAIUAKADf/0gACwFWAUkB+ACOAHkAqAD1AN8AXQATAFAAtADmANUAjgCSAJUAegC3AAwBOAHOABkA6/8NABoAEADW/2b//f7s/mH/tP9T/7H+Wf6N/h//bP8n/2v+o/2F/ef9KP4D/pf9qf0t/pD+oP5y/mP+a/6M/s/+Bf8J//v+IP9r/4v/UP80/27/z/8YABcABADT/6b/z//y/6P/Bv+5/h7/sP/e/+H/u/+p/+v/UAClAHwALgAqAGoAwADYAMMAkABYABEA5P8KAGsArgBRANT/wP/y/z0ANAC9/xL/pP7Z/mD/X/+t/gD+0f03/r3+5f7R/n/+Jv4W/jX+Yf48/tb9s/3f/S/+Tv41/hX++/0I/iP+R/56/qr+wP7G/tD+2v7q/ur+9f4X/yj/J/8s/3f/9v9AABsAw/+s/+r/PgBvACQAhP8//4j/HAA2ANL/tf/z/1UAnADbABUBPAE0AeUAuQC8AAoBLQG8AEkAIQBdAJMAbwDx/0b/7P4f/5H/h//2/lX+JP5//t7++/64/lT+Q/53/q7+o/5X/jP+OP4+/nH+pv66/o7+RP5G/nD+jP6g/rL+rv6y/uP+KP9Q/0L/X/+W/4//Yf9r/9r/PQAxAN3/yv8MAG8A0ADyAN4AswDAABgBNQHhAHoAVwCHAMoA+wAWARIBNwFuAZUBuQHXAScCRAIEAsQBjAF0AXcBNgGTAN//jv/3/1AA+f9Z/+j+DP9c/4j/h/8r/9H+xv4D/yj/2f5s/kf+Of5W/qv+7/4A/7/+rf7x/gD/0f7Q/gP/Gf8Q//b+K/9v/3j/kf9//17/df/U/zwASADx/8H/+/8zAFoALQD8/wcANgCyAOgA3wDNANIAPgG9AQsCGgL9Ae0BFwL8AaABbQF6AbABeQEuAUYBoAHtAeMBmQEcAakAigDYAOEAXgC//1T/fP+z/77/pP9F/yb/c//L/8j/Wv/8/gf/HP8e/x7/J/80/w////4M/yz/Xv+B/7f/5P/0//b/EgA2AFMAMgDe/9v/AgAoAAkAuP+o/9H/IQBUADkA9//O/wMAcQCYAH0APwAoAFsAmQD8ABwBNAF0AckBUwJNAkYCZgJ5AoAC4wFjAT8BRwF5AXMBBwFcAPD/OAAAASEBkgAJAAEAbACdAH0AHgC0/4H/s//9/+v/hf89/2X/mf/K/83/1//p/7P/qP+K/4//mP+x/wMA+f/k/9T/HwB/ADEAz//X/z0AfwA1AMT/zv/2////+f/I/67/pf/S/wAAAwAAAAcANgAyADYAfQC8ANEADAF3AeUBBgKuAbIBDQJgAoMCOQIAAhUCbALCAsQCMQJlAewA3wAkAQ4BpgAyAO3/GwCFAOEA1QBuAD0AjgDfAMoAUQDi/9j/1f/i//r/HAAWAN7/xv/O//X/+f8OACsAOgBIAFoAlwBiAAsA8P8PADkA7/+5/+j/JwABALT/gv97/43/j/++/63/a/9e/6b/5//c/9L/7v9FAHUAzQBCAYIBlwFRAV8BtAEpAnECJALEAY4BuAEHAioC5gFgAQwBPgHTAdUBLQFYAPH/FAArAA0A3P+g/2L/ff/A/wIAEADP/7v/0v8hAGoAcQAYAKH/nf/C/+L/3//F/93/CwA+AIcAlABHAA4A+P8CAML/Vv9Y/57/yf9u/wH/zf7m/kb/hv92//n+x/4w/7r/tP80/xD/Y//X/xcAYQCYAM4A8ADGANwA+QAvAXsBTQHjALkA1wAzAW8B+gBUANv/6P9vAJQAQQCr/3z/3P9qAMAAeADW/zT/Jf9e/2j/Iv+r/on+r/4K/1D/YP9R/0P/gf/h/zgATwALAMH/uP/K/7j/bP89/3f/lv9l/wT/3v4l/1L/IP+j/lP+Sf6G/sL+r/5n/iT+Tv6q/u/+7P7O/tT+8v5Y/6X/zv/P/+X/QgBJADMASACSAOEAqwBBACIANABSAFYAEQCi/yP/JP+U/7v/Wv+i/nH+zf42/4P/c/8T/7v+sf79/nj/af8B/9T+5P5a/4D/JP+0/nr+w/4r/2n/a/9r/77/DQAKAO3/2P/I/6L/Rf/5/t3+w/6s/rL+kP40/vf9A/5o/oX+Lv7W/c79IP46/jP+HP4f/mX+zP5Z/4j/j/+z/wAAPgAKAO7/JgCPAK4ATQD///b/EwA7ADMA4v97/x7/M/+Z/43/EP99/j3+b/7d/i//Nv/d/nf+lf75/lT/K//B/sj+GP+N/9n/8f/m/7v/rv/L//X/0f90/17/c/9i/0z/Pf9d/5v/hf9r/4T/of+k/1P/0P5y/kP+Uf5r/k3+O/4w/lX+h/6F/pj+jv6J/r3+Ov+8/9T/1P/1/1wAgwA5ADcAngAgASoBsgBXAFcAZQBjAE0A6P9g/xH/Tv/P/9H/Sv/V/tL+I/9//5v/V//R/nn+nP4U/1j/LP8J/yT/gf/j//3/3f+e/5j/+f9xAJwAmgDPABQBAwGRAEAATwBLAO3/gP9r/6f/of9w/2j/W/9f/0z/af+l/13/7f63/uX+HP8A/8j+sP72/oD/FgBcAGAAgwDUABAB0wCRANAATQF1ATUB3ADIAOgA6gACAeIAXADe/8D/GQAoAKL/DP++/uv+Z//C/+P/o/8t/yf/b/+q/6D/V/80/1f/qP/z/w0A4/+//+j/UACxAMMA2gAVATQBCAHVAOMAJQFtAVsBLgH/AMAAkABYAPX/WP/0/g3/ZP+C/1X/Sf+c/xAAPwBDAA0Axf/J/ysAkgCMAHMAhAD7AGEBPgE3AXwB9gElAsIBWgE5AU8BWAEeAZoAIADm/x0AgwBUAMj/Pv8N/2f/r/+l/23/C//x/iv/av+f/4H/a/+X/9z/OQBgAD4AAADi//j/OQBlAIEA2QAmAVQBOgELASYBVQFdARcBzgC/ANkA9gABAdoAhABbAGsAewAeAGj/4P7F/gv/Wv9u/1z/ef/8/8MAPAFXAWkBfgGxAYoBPAFOAZkB0AGGAScBLwF5AbMBpAFiAfMAgQBFAGsAdADq/zb/3v4s/7H/3f/a/63/Yf9I/2P/lP+N/0X/O/9m/7T/BQBCAGEAUQBiAJ4AzgC/ALMAygDuAPoArgCYANoALAFYASgB+ADsAPsAAwG5AC4Awf+3/yEAggBxAEkAKAAlAEQAQgAGALH/cf+E/wQAfgC9AMsAAwF5AZsByQEkAnICXwKfAQ0BDAEqASsBCAHLAIsAWgCDAOIAxQA0AKX/av+N/6f/mP9x/xb/7P5Q/9D/+P+b/1j/d/+H/7T/1v/J/6P/df+Y/wMAVgBuAKAA3AD+ANwAeQBMAEIASAAaAMv/yP/e/xQAYQBDAMb/Zf9t/+P/HADg/4j/Vv+D/+P/RABrAEsAMgBxAM0A7ADdAI8AawBdAFYAxAA+AZYBlgFZAVsBiQG2AZoBFQFtAPD/vv/u/xEAwP9K/wL/Nv+n/7T/dv80/9/+zP4H/zz/If+q/pj+4v45/4L/kP+i/4H/Tv9a/5z/sP9+/3z/pP/h/9r/uP/S//b/DQDE/3L/Sf8w/1//ff8t/7n+lf7q/mX/Zv/2/pX+n/7//lT/ff9h/yz/S//W/2cAxwDSAM8ABgHcAK0AxQDjANwAXQARADMAdgC+ANcArwBCAOH/3v8iAPn/U/+8/nb+sf7s/u/+3P6O/lj+lP75/ir/5P53/nD+pv76/iX/Hv8V/wL/FP9M/4P/f/9y/3//r//O/3f/Pv9T/5T/pP9Z/zn/Nv9U/3//Uv/X/m/+df7r/iz/3/58/kn+e/7c/hn/Jv/3/uX+Of/L/ycAQQBBAGsAngCSAKkA7QBZAWYBAgHNAK8AuwCqAEoAx/82/+r+Hv+O/37//P54/m/+2v4H//j+rP5E/iT+Y/7a/vj+mP5R/nj+2P4o/0L/OP8Z/wv/Qv+K/5L/eP9w/6f/8//W/7j/1f8GABwArP9H/zf/UP+T/53/VP/3/tH+Cv9e/zn/zP6M/p3+BP9M/2z/Y/9J/27/1P9EAGcAcwDEAEABTwENAQ8BWQGkAWcBBQHsABMBcQGfAVsBpwAYAA0AYgB/APD/Ov/S/gH/ZP9+/07/3/6j/s/+Sf+x/6n/Vv8v/2T/t//r/97/wf/E//z/VgB+AHIAUwBPAHAATQAQAAQAHgBIAAQAqf+k/6j/v/+4/3P/IP/y/g7/YP9u/xP/1v7D/vz+Rf9K/1D/QP9j/9X/QgB4AHEAkgD+AEcBGgEHAW4B8wEIApkBUwFaAYcBswGPAQ4BcAAkAHYA5wClAPr/d/9y/9b/AQD0/7P/Vf9K/7D/BQDx/7D/mv/X/xkARwBsAHAAVgBjALIA3QDmANQA0AABAfUAywDHANYAzwCHACkAAgASACIANAAGAKL/Z/9p/5//n/9f/0D/P/9q/6D/sP+1/6j/qv/8/2QAngC+AOUAUgG3AYkBXgGdARUCTwLuAYEBYQGFAccB3wGKAdkAPAAXAIcApwAgAHb/LP+G/8X/x/+M/yn/D/9Q/+f/MgAWAOb/7P8qAD4AWABrAGQAWQB3AM4AAAHuAMEA2ADfAKoAlACrAO0A2gB/AE8ATQBCACMACgC//3n/d/+1/+D/mP9X/1n/c/+E/4n/s//c//H/GQByAMwA1QDPACcBpAGoAW0BmAEPAl4CHwKgAWMBUwF8AaQBYQHBAA4A3/9MAJIALwBs/+L+7P5K/4b/Zv/9/rP+2/5i/8n/uP+B/3v/vf8ZAFYAcABnAEsAVgChANAAxACwALcA2gDFAGwARAB0AHkALADb/9D//P/0/8v/iP9A/xX/Kv9o/0z/CP/i/gj/Yf+H/4//f/94/4f/+P+TANQA2wDXADYBeAFFAT0BhwHrAckBVQEXASoBYgFyAU0ByAAfAND/DgBqADAAff/W/r/+Iv+D/43/Kv+e/nH+8P6W/8r/kv91/6v/9/8/AGsAeABrAHAAxQAKAfkA4wDhAPIA7QCeAIYAvgDjAL8APwDv/+v/5P/6/+D/b/8M/wH/U/+D/0L/6v7B/tz+JP9S/1X/Of88/5f/AABNAE4AEgBOAJAAiAC1APoAUwFJAd4AtQDBAPQAFAHYAEcAvP+Q/83/HgD6/0//lf5v/sf+H/8q/7n+Jv75/XH+Fv9O/wn/vv7O/h7/lP/M/9f/5v/h//7/LwBJAEEATQBqAIkAXgDx/+X/BAArAP3/e/9Q/2P/s//G/1j/1f6J/rj+Av8A/8T+fP5o/p/+3/7+/tn+k/7E/kT/wf8YABAAMQBqAFEAegDQAAcBCgGhAGoAhQC/AAAB1ABXAL//bP+q/yIAFgBe/6z+W/6e/gH/D/+3/hD+xv0q/t3+Kv8I/6/+gv7h/jn/bf+B/2X/Wf+C/+X/DADf/7//z/8DABIAvP91/4L/y//0/3//Ff/8/hX/Wf9Q/w7/xv6w/tz+Dv/0/qT+Zf5j/tT+Mf9H/xn/BP9k/9b/TwBlAFwAbQBPAIoA/wBiAWIBzQBWAHAAtwDzAPAAdgDg/1L/Zf/l/8X/Mf+B/jL+aP6+/uX+nv4k/s793v1f/tn+vf5X/if+Wf7g/j3/VP85/wj/Nf+j/+f/8P/R/7f/0P/4/9H/b/9p/5D/jv+H/0L/4/7A/u3+LP8B/4/+UP5n/qX+3f7S/pb+Yv5e/sv+PP8//yH/NP+f/xYARgCdANUAfACBAAQBkQGwARgBqwC1AOgAMAExAaMA3f9U/3H/BwAEAHL/4P58/oD+vf79/v3+nf4//k3+z/5I/0L/7f6q/r7+MP+U/8L/n/9w/5L/zP8ZAD4ATQBcAHEAmACQAHUALQAMACEAOQAyALX/d/+e/73/tv+Z/4D/Rv9I/5D/0P+1/1j/Ov93/9L/6v8EADAAKgBOAKsAKAFpAQsB5QBVAckBDALUAWsBNQFcAdgB6AFsAawAHAAaAGgAeAAcALD/Ov8d/0T/b/+D/wX/j/6j/ib/oP+R/1L/Jv8o/1j/qP/r/+H/sf+8/wgANgApAB4ARQBjAGkAeACSAJgAcABdAFEAXABPAA8A4//G/8v/2v/p/8z/tf/K/8P/3f/n/+T/7/8HAFIAjwCRAGAAdAC9ACMBmQGDAS4BLwG3AWACPAKgAXkBnAH1ATYC+QGlARUBqgDVAOsAjwD7/6j/xv8tAG0AbAApALX/qv/x/0EAXwBSAEIAGgBcAMsA5wCuAFEATwCTAMoA3ADRANoABAEQAe4AvQC4AOwA0ABpACQADgAkABQAxP95/zf/KP87/wH/w/6y/rz+3v7G/qj+kv5s/ob+wv7l/vb+//4l/1n/Pf/r/tj+Ov/M/+r/jP8o/wj/X//g/+j/b//7/t/+Ef8d/8L+Vf4L/gT+U/6y/vT+6P5//lH+of4g/2P/YP9m/3n/pv/u/0cAZgA8ADgAYACuANkAzQDaAAUBMwEaAQIBHAFUAakBjwFAARgBCQFMAVwB+QCXAFwAcACTAGgAJwD6//z/MQBdAEsACwD5/zUAhADGAOQA1QD5ADIBAAHCAPQAlwH0AXAB5QDnADQBkgGlAVIB0QBmAHQA2QDIADgAof9H/2j/hv+I/4b/Ov/7/hH/cf+j/4H/fP+T/7j/AwBTAGsAaABmAH4AsACzALIAxAD2ADYBNQECAekAJwF5AacBcAEVARwBSwGYAXQB5wCLAHMAuQDVAJ0AIQC4/+P/TACCAEkADQAdAGEAsADqABsBHAFGAXABTwE6AWcB0wHWAXoBVwGAAdcBAQLYAXUBCQHeABgBSgEKAWYAs/+f/+b//f/m/4T/OP9Y/5//y/+u/3r/m//T//j/UwB8AHQAgQCeANEAuwCTAJ8AzwAGAQMB6gDBALwA8QBEAYABOgHZAO4AXAGHASUBsQCXALAAuwDHAIEA5v+E/7X/NwA8AOf/xf/v/ywATwCPAMUA5gDkANcA/QAaAU8BXQEQAdAAvAAGAXABbwH5AFcAEgBMAKgAtQAsAFX/xv75/l7/S//n/kn+Gf6R/hH/Mv/Y/qH+u/79/lX/dP+D/4n/mf/e//T/wf+d/77/BwA9ACoAAAD8/xIASgCKAIYANAAJAGgA4ADPAFoA8v/V/9T/AQBAAN//Tv8N/zr/uf+2/1j/J/8+/5b/+P87AG0AiwBKACIAXQC7APQAmgAwAAsAHQBxAL4AqgALAHP/X/+9/wgAy/8T/0T+9v0+/qD+bv6//W39nf0V/kH+Bf7k/c394P0+/pv+uP6M/mj+ov4P/x7/2v69/uH+QP9W/x7/Gf8+/5L/yf/S/8L/cP9m/8r/GQATAL7/bv9n/4v/3/8IAJj/Df/d/jX/pf97/yX/Ev9F/5r/6v9IAH8ARADy/ykAsgAnASQBuAB9AFkAeADWAO8AjQDn/6b/7v9TAGEA6P8o/5H+Y/6n/gH/uv4K/qj91f1T/n3+Uv4r/hX+Lv5y/rr+4f64/q/++/78/rH+k/7H/gv/HP8Z/yv/I//z/iL/kP/c/7//UP9z/8//4//X/4r/Pv8+/5b/7//8/6P/N/80/3//v/+w/5L/c/+F//3/YQDIAPYAnQB0ANgAfAHQAYkBDwHcAPwAUgGPAWMB2AAwAPr/VACfAG0A1/8v/93+3/4M/yL/2v6E/lz+hv7s/vP+xv6w/rL+AP9E/1j/X/9O/1j/Zf9D/xL/A/8p/2X/ff9e/0b/Nv9K/63/7//3/7T/bf+h//P/OwAbAIj/Qv9a/8T/IgABAJn/Uv9m/7j/9//D/3j/f//U/10ApwDbANkAjACfAP8AnQHjAXEBLAE+AW8BjAF6AToBvgBKAEYAogCqADUAm/8t/wj/Av9S/6f/dP/v/qD+2v4t/x7/F/9J/2f/gv+Y/8P/z/+W/5r/1v/n/6z/i/+z/+n/7f/C/7z/sP+x/9r/IQBHAOH/j/+i//P/LADs/2X/IP9i/9L/IQDt/2j/Kf9R/6z/qv96/2n/nf8EAEgAfACQAGcAMwB1ABwBsQG5ATIB8AADAUcBfQGLAXYB4QA5APr/FAAuABgA0/9u/zT/Nf9+/5j/Sv/6/uX+K/9k/3D/jv+k/6X/s//k/w8A9P/W/xMAUQA3AO3/0v/0/yQATQBpAE0A6f/K/xgAhgCiAEoAAgDy//j/3f+w/5b/kP+s/+L/8v+Q/0X/b//K/+z/mv8//0H/u/88AHgAhQBpAEMATAC4AEABowGqAXgBcgFnAVIBZwGQAXkB/gBVAO7/5P/0/wAAAwDk/2r/Gv9E/5P/mf86/x7/Qf9m/1//Y/+t/9z/+//q/+T/3/+0/9n/KwBrAEwAKAAWAA4APwBYAIsAqACOAIUAkACNAFsANAA4AEYAFwDE/6H/0/8BAOH/s/+F/4P/tv/l//b/5v/C/8H/DwBOAHoAoQDfAC8BMwEmATIBdAHOAQ4COwIJAo4BNQElAT0BWQEjAcEAkQBcADoAOwAtAAwA3v/G/9z/1/+s/7D/x//d/7r/c/94/6r/9f8iABcA/P/S/7j/3f8RAAwA9//z/yYAVwBBAEQAXwCBAKcAmQCDAHYAWwBRAEsAJQD4/9v//f8nAPX/rP+Y/8//GgALAMD/gf97/9T/QgBlAD0AAQAaALcANgFRAR0B5AAdAWsBmwGWAVQBMgFDAWwBfwFQAekAsgCgAI8AgQBJADkALQAKAOz/uP+X/4P/df9k/0T/Ff8a/0X/Uf9J/xD/Gf9X/2//fv9q/23/g/+h/8f/5f/v/wgAXQCcALEAbgBRAIUAmwCNACoA7P/o//3/IQAgAN7/bv9R/2//qv+J/yf/Kv9Y/6z/0f/Q/9//4P8IAGUArQCgAGgATwChAPEA+QAKAREBHwEJAecA4QDZAKoAeQBmADAA///S/9X/3/+L/zb/Df8b/yz/DP/i/rj+if6C/rL+4f7a/qf+nv7R/hL/Jv8o/y3/Hf8x/1L/l//S//L/KwBPAEwAIQAeAEcAYQA6AOj/v/+v/73/yP+9/3n/Jf8U/1D/l/9q/yn/GP9H/53/sf+n/3T/Qf9N/5b/5//z/9b/6P8zAFwAawBjAGIAgQCKAJsAowCBAEEAEwAGAOP/qP+V/5n/jv97/zD/D/8V/wf/Ef8C/97+mv6X/ur+D/8R/+H+xf7i/v7+8v7q/hD/FP8l/1r/ev+T/8L/8v8fAD4AIAAdADEAPwD9/6D/gP9E/2P/k/+K/1P/8f7N/vL+Uv9F/wH/5v7f/vT+Av8R/+f+7v4a/1v/qP+k/4v/lf8AAEMAagCWAKMAxgDeAAEB2wC7AIgAawCsALIAjAAyAA0A4//V/9j/q/+k/2n/OP/R/rf+y/7p/in/4f6v/qn+Iv8j/wX/7P7H/lz/H/9f/y//D/+s/i79T/2P/HD8l/tA+gr7Kfur/M38Z/2O/6oA9QJDA/0DKwXLBakGpQVbBYgEqAPOAk0BEwFyAIb/CP78/ET9c/1J/fP8Tv2t/hcAOQB0ABEBEQIlA+MC1AKuAhgDbgOBAtYBzwCTAKEAyP8j/z3++P07/pf9w/3O/dz9l/7M/dT+Yv9X/ykAIf9LALL/av8tAAf/+P9v/gj/rf/s/tD/Kv5v/wf/zP5z/zj+uv+p/lX/rv+O/4oB7AAoAn4BmwH1AmgCLwPRARwCmAIcAm0CgQEZAsABnwH+Ae0BiwLmAUYCUwKTAh8DkQLKAscBrgHNAVwBYQHe/3v/Kv8M/1f/YP6p/iP/iP+6/yH/Uv+M/4L/LACPAEIAo/8K/zEAhwB2/3n+4P0I/5v+tf3T/GX8kf1A/Zb9fvwF/Lf8W/xe/dn7J/yU/Bf8+/xj+7z8ZPzZ+478Hftw/Gz7PfxH/Q789PxL/CL+UP6U/bT+dv58/8T+OP8cAK3/+v+f/5sASgFjAr4DKwSZBB8FnwZSB6MHdQeaB8oHRAdRBzIG1AWHBRsF2wQHAxEDTAMfA9ECrwHTAmMDBgOaAsEBjgKMAukBNAEEAJz/yv6h/UX8Fft1+k/6yvkN+dz4Yvj9+Hb5Qvr8+kj63/ph+0z8cfzi+3j8rPzs/Iz8z/wN/Yb95f0K/iT/Uf8OAZwB/gH8AhgDKAXsBCoFZAU3BXoGwwUcBuoFNgbWBoQGWQdECCgKPwqtCWsJLQpnC5gJ2gdABo8G9AUqAlD/d/3S/S78lfhq9uv1Qvfw9mL1/POD9CL3BPnC+Lf3E/kZ/Ev+5P19/X/+CwBtATUBUQHhAFwBfAJCAu8BmAAPAdMBrQGdAXAAQwADABQAlQANAJz/Jf8T/2r/D/9R/sj9cv3b/Y79tfx8/GH8xPwh/Gb7m/vd+/D7Lvu2+mL7Y/yR/Bz8dPsW/Cr9T/0Z/XH8kP3J/kz/2v43/pz/0ABeAjwCYAIwA+ADQAYCBk0GJgayB7QLswzODgMPFRD6EWcSLRVdFGcSsxBYD30PpwtDBzUEfAF5/7v7+vfe9N7xZvFj8X/v9eyn61XuMPHT8FvwlfEw9Uv4p/mD+//8xv5xAToEUwZOBsIGjAhZCeYIegckB7wG9gTxAxUCbwDm/kf9R/0T+yX6SPqT+Lz3c/Vl9qj3ZfW99DXz4/MG9V/0vvXf9bz2S/mF+gz8+vxt/an/7P8jAEUB2wBgAQAAuP8IAQ4BvwB3AGUCrQScBh4GRAjHC3UPPRV2FL8VCxZIGcweohjTFI8QSRGmEVYH1AHb+1j6Pflq8hTuGOlE6fzrn+lB5s/lZekb7/vvxu8I84H1rfqE/TP/igIKA74F2AaBBvcHAwdgBm8GuwQxBJoClwCoAFf9IfwJ/dn70/tI+Z/4xflc9273dPcS9nD3O/ZL9mH2H/Ty93v4Vvj1+d34Hvxq+077E/3D+hj8Rfzq+0H79vhU+oT6G/lm+dv5hPk/+IP4Ufth/Z39lf8OA5AGswuVEHsXBh4fIcIjkyICJYsnQSPaHQ0XBhfhE/sIXQHQ+hv5uvTf7QDrZ+eM6PDqSukQ5wznYe3N87LyGvJ/9ZL5k/zz+w792/7S/4oD8ARVBAkFqgfSCtcJKwg9CoAKhAc4BYUFaQZiAlb+Mv4z/nv8Tvhx9Rr05PPA9Brz/+/t7qfyivYy9XPzDPVw+ET5evfz+PD6dvri+E/3Nvjv96X2NPah9dD2HfmM+p37jf2UAGMGTAqXD20WVBpnI+koOizLKu4lcSzQKpUiZhgEE9QXfg0x//P2mvRy9m7uDOeS5NLjfuhf6ovmfObe6jH0a/fZ8Tj2U/zt/1n/8/zTAYYB6QD1ArwCXQIbAyoHqAiYBAYDnQjUCMEDEQBSAWoFyQC8/Vj8L/ou+Q31mvNI8MXt8e6J7bfrCuwA7zXzI/Mx81H40frk/Q/9h/w3AGj+uf/N/M/6evyc+QT7A/oC+gD7KvrS/BYAxAE0BE8Jrg0kFB0XFB6WKGMqfCv3JvYoOS1mJMoaNREmER4RAwTZ+G3yAfEF8Nzoh+Sd4lPiJOhN6dTnZulg7+X4cvjE9vn8xAMfBrgCYgL7BcIFKARdBDoDxAPvBDIGygbQAwsHqglQBk8DRQJoBuAEQP0g+tv5E/qT9tLu0+vk7Nftq+3A6JzpYe+x8Vjz0/Iv91z8m/zO/jEBXwOtA8IBIQJ+A9UCNgEQAHgAyQLvA8gDKAZmCgAQ/xZIG5gjxCtiLcotEClXLUExvSaxHKgSSRTqEH39BfMr7AfryeYd3ArcINuq3KThkOAw47npTfS9/L35tfw3CFgNAQoNBDoHfQvuBWsB+gBbApMC0gBdAWAAIwCjAucBj/86/6AC8wJB/Of4+Pr7+8n3M/LS8cby9fC07UHrKexx7/rwhvCs8hX5pP99ABL/qwOyCJcJGQczAxcEHQIB/5b86/aR98T3Jfmr+o/6lwJPCLYO3RXsHxUtMzGfMawv0DTIOOIw6CPkF2UYnxJgAQ/ySetZ7Xrmzdtt2RvdD+Hq4ebhGeae7d/03vtc+/r8MwTECMkIVAIVApoFfwNk/cf4Wfoc/kD/3Pzz/eoBeAf9CLAEmwSxBscHEAOF/Dn69vh+9NLtK+vQ6qfraei25Szo7+vf757vZ/L8+HL/yADr/wwDbAYICVoEDgLKAhsCQgGA+377if7v/6T+n/5lBVcPohXjF6okuzDVNi8zby2nNzE3IS0pH3oVaxfFCZr4YO/d65Xr9OGj2o3dBOI45sjnx+Y97Kb0Tvzs/1z9qwFeCUIKLgYDAq8CpQPN/nr7aPuq+iP8g/yb/Qn/9f+9ASv/X/zc/IX9Xvdb8FXwIPIO72flqOM/5/DmkeS44mHm/ukc7fjwNfSn9qn7GQIDBIQFowa4CpELRwcvB6sGygYtBKEAaAFFAT4CVgRmCKoQ/hhWIjYshzFdMzkyNDU6OFwwgyXKHJYaSBJQAI310/Cf7qrm7N2Z3NXdvuBW5LTmlehz8Nz4r/8pAbYCNAxNDPYJRAeXBYIGI/9k/S/9Bfqu+Pz3XvqG+8D7af3o/nv8lvy6/Kf3l/Lo7WXu2+ri4SneSd6B3zDePt213wrlF+ou8Aj2Kvnk/1EF2ggpCqgJSg7ZD5UNKgvJCBUIYQVLA/YC8QLXAqEGRBDZGPgiQSp+LzwzuTF0OC85di9dJPMawhuTD7v6ae8i7GrsiuIV2gvbD+D846DlhOf+6nD1Yf5zAk0BowOuDTcO2wduBCsHQwce/9j5t/zU/Sv4+fbA+QX+kP0p+kD8T/u6+5L7ZvbT8Ibq8uev5Lbc6NdS2HnZ/dqL3LXhgen+7kv1LvteAY4H4gryCv0KYAyeDPEKxQT8AmIChwBRAZf+fAHdBJ8KOBVYG7EmqC93NK81djNSOFg3pS0dIlsa+RXrBxf3Je6l7J3p7uBj3TfhmOjb7KHvQ/U8+swAcAR/BvsH3wZGB5sDxAAwAaEA6P3/94333vua/b37p/xcAiIHxQYNA1sD8QKb/wP56O7n50ziFN/e2hbTE8+C0MjUUtjt2t3gsemP8C738/0fBIAIWQl0CjUKTQhdBYIDMgNTAsECjwK4BaUJ4A5XGCghRi8EOo49cjx3OF0+yj9ENdwkIRaoEXMFQ/JH49Dc1t0r2b3WB9qO4uvs6vFm9wT8ZgSBCiEJKgi7CZcOpwpwAv0BTQWeAxP7bfhU/h8Czf8VAEwDYwd1CUMIcQbc/cj6Lfoh8zXoW9uM2QfVCM18yzfNvdHm0dXYveYG8Jf2V/7eCIEO3Q34DrAQHA6JCW4GUQafA0IBiwGfAaAF2AqUFJcahyFMMsw+5EJ6Oks5Mz8JOOkncBU5DU4CI+/Z4VrenN8c3Lfa5ODb6qLwAfW1+yMCzAa2B/8JHguXC0kJpQSiAfIAjgMSAEz8o/39BD0Ldgh8CKoMDBG5D2gKcwbTAC/4W/A56uzgL9fqzhrNAMtLx/zI3MzP0/fW4N0s6Xz0ZP64AjAJKQxrDtQMRgqaC/UJWAgmAloC/wdIDtUTxBbOIBstRD2CR8lGfj/iOE07ITU3IpgLnf9S+8Htu9wb1FrWjdl72gDfeugv8NL3WgD3BjsLngvWDt0MPwmaB6EEMQFJ+mT/qwaUB0gFfQcEFVMZKhhFF0sZ9BcpDEUDtfoQ8ZPjP9eszj7Fc786vnHBzsMpyYnT8N7m5i/tOviDATsFFQPdAiEFbQN8/6r7YPtt++P7OP+DBAkJJg/PGA8jgyvAM/ZCIE0NSlo+/TZRN/kqdxUOAYP3OfEO493apNjs3Gbg6OMR7UDzEvoYAEQGYwp1CUUIYQWPApcCQgOrAV3/QQEcCtwPTxGrFOMZYCDXH8MeVhz7E7wKNwAF+vvt4dx90MvJYMl3xGzAysKVyQDTzNgY34Hm4uu+8G31avnr+pH3WfYh+M33E/eG9bT51f3+/0kGiwzaFaMaLSFELB81P0BYQqE/GDhRMC4w5ya/F2MGAvyG+M/u0ecD5GLkTeUQ5r7srPAD8072k/s3AEz+Lv62AasDsQQNBtkKXw8jEHcUShrHHVsf+B5pHx0chxdsFK8Mnf/b8X3rpuYK3CDTbNFA1LLQ88oL0GTYTtxE27XdIecZ6V7n+OfI6g3urOyH72HzbPZ9+tD+NwTwA2oGogrpDtQUCRpJJAQrYDPXPzFFgz8SM4UwKjIOKK0SAwKQ/Un4zu2W4sTde9524WnpFPA48JrvM/Ss/I//sPgq82H1R/4RB9sIEwiFC7EWhCEGJpYleCWkJsghuRvaFNYKlvwe7EDlMOSp33jWVc/v0WbZLN3T26bZMtlU2aXZ19nS2BPXZNYm37Dt3vci/Ij8/wVvEccVVRNBDaEOkRCTEwAWhBo3JB4vrUDlSgJLyz/1NAM2ri7DGqH84+p06Q3mE+CW2tnhF+vy8If13PZN90bw3etZ6jDpXOrM68Pz5/7wCyQXNh1oI/UraDPdMYQqOCOuGnUOqQNSAbf+vvOm6N3ohO1P6NDd+9m228HWfM2kysbKdcfHwfrEwM9+2LDf3ucl9C//tAdWCxMIrgR1BPcHqAYXBWoKRhbMI5EtCDswSJBVcFytVhhGdy6JIkYYzQaL7S/byt3l4zLs+fDT96T8YflR+YXxluZu1/PNjdHw1nvjw/DVAWUW9CpuPPk9CTZFLc0nfiBvE+8JRgW0A58GhguoD/sM8gVqAnT59OrO2onMlMCysqSv8rbnv+bE2syK3qHtW/aS9wb5aPjA8zXyx+5S7EntDPl3CswX7iApKBQxpDP7NnQ5EDxOQptCyzswJE8QEhDiFUUP0/cF7uv0qv7Z/Lryee1Z42vddNvP20vbANVC2pvn5/c7Bk4OHhRXGMYgdidSJWYbOxSNFmUZhRtMHnofmxz6FfISCxNPCav1xODW0T7OZ80wzODIFMebz3jbJuIp33vb9drm23ve+uBs5/rpmu3h9gYBHApICz0LhAwwEMIVVRvJHxojASyxOJBLHFkxVG06DBjwCOUKdQrh+QHqoew0+6sGoAJS+hnttOED3KHWx9Qq0graxOfB9i8HxRV9HsoWxA8sEcsYKRkEDzkPJRjZJZksPiqmIzkXpwqf/GzvDeT03IbZ9tbA2TLh9eZ94xnYVdBN0iTY19x92uzYceI480QCgADs99XzTvaB+wr8U/7+/gsEOg1wF/UgjSTAKw0ySDvzRw5MSjkGEPX2+P8ZFOcQSf09+ZUFeQ5BBlz3xOe32p3Xmd234y/ltOz3+AT+6PvLAm8RchEdAjX+cRQmLKYvQSR1HKQbDRrhFT8KhPwT9Jb3F/1s+AbxgeuH50za9ctFyH3Mw9Oe1ircbeRh7kv1OPI069ToP/Iz+n74RPSU+IgGUw/QD9IKbgaHBWYI3A/EGHMiASyrOaJIy0twNcsKw+7M9bQMsBFiAQr4pQD2CbIE/fSv5ODXEtSD3CjsqPlrAT8FgQAd+Nj4uANxDZ0LzgrwFVgliS3AKrMiJhc5DbwHiQTxAM7+uAVKDDsHV/aN4vnWXtJH0rzSm9F71F3e3+hJ6Q7hHNs43CXhg+bf7m75jgECCNUKbQkLBUAANgCxAc0FPw1YFCYaRx9hJ+8ubTQKNSgokAou7X7vTQ1YImcaDwqzC9ESPwrr9mztOfGJ9m73NvTh7xPvWfkbBkgCRe/M4ybv3wLcC70Lvw21EjoUqBI6EewPuQxWClUMgQ9sEDsP3AsFBBn4ju/M7yzyne3B5erkyOoZ62ngLtYA16PeteJF4DHdWt7x5Cbur/OL8Z/s1u3V9Of63PxT/uICQQt9F4EikSRaIDEkMDCJMBcbIQYIDO8goSdpGicRsRg1IZIa/gX09dn1LwOkDboFOPTH65j1hQFN/0b0Ke6G80z7pf9i/6X9rf1c/pwB8AbzDHAMTAPJ/D0DVBJzF8sL/vuF9yf9MgD2+WXvyuuN8J30PO5M4RLaYN2E5APmtOKU3g7fZuVz7nHz1u1C5djjS+0R9833+PPx9HcCqxPzHWEeEh6OJSApkh4eDlQRbCpzOnEtgRSvEhgokTa+KQsM9PiD/AoNnhJmArPspehb+EQFqgDz8nzqoety83j8If5r9cvsafKeA0EP6wuA/STxTvNkA8cSEA+//bz2FwEWC+ECsPJK7HDy0Pqs+hv0LOyQ6TfsMe0e6vXiOdtr1xjdbumx74DpHOAV4S3pyu5K8jz3WPz8AY8NIBykI2Qn0St9J1QXbA4sI+g9TjWCFN8Owi8cQzQvBQwW/D0EXA+CFUsL0PR/5tDypgkeBLfqsNle48b1/Pt4+Kvs3+et7Ub/qAy2Bpf6IfQ//WIImw3uCU0A//5TBUMOTgmt+rHyu/bMAAAA1vMz56TmwepN6WfmsOfa6xrpHOL54Wfqk+n834PeD+UV6knrjvRE/xUE+wMlCAIWJCGFKmkqyBz8DfkawD7cPzsbkAWzI45JGz8WFu371gIlDjkUvg5980HbR+OxBgoQFvPv19zbgfLA/LX86PJ/5ujpiAGwFeQIBPOq9F8HxQ0KBecC1AM0AagC1Q0oEkkBX+928Er/0AQD+v7vQO6e8DDxbOyZ5NbgwuK44uvjaefu5P7fS+Aw5+Lrluld6hz1HgBbAkgIWBZ+HtAgWia9KIUcFxAiHbIyECyWEksSKDRjRHgqGgodAS8KOQ/RD9EIn/fE7m76zAw8AaHhatQS5Hb5b/mH8C7psOqa9i4Fego3/OL0PQBDEx0ZRw2nBd4Au/8eBOsKDgp++fXsAvKV/hj+lu+O43XhJubW6bfn8+Ls32ngDOWc51TogOYX48vhsuEJ5+Dv8/wHA2kA/QX8F7EtlTNpO2xN5kihITgBKRoEP7IxmQqFCxIuFSfq+2XpjPcN94XiZOfb+Ivx198T6wgBQPAD1HTgVAONDH8ADAhvGn0XKBHEHVwnHhVnBnMZPSyVIZ0KIgbACaX9R+7w7Jrxwedr3obgq97Q0a/BfsGdzCPbN+KO4OHiQeNd6QDzxPSi7iXqt/JjAR0K+gKI/SMHcRQbHqkm6DFyOUhIoVaERdwQAeaU+CEj6CYWCOX8JgsKAkvny9zl4u7a59FH7fcM1wZp6wbvFgd8BbL5AgPsH6osTimSNKg3sxv4BCQSLyJFGjIQMBUtGC4FlfA77YTsUuFK22bpafDH4j7WtNI70hHRJNO62JTd1eZU8qH5w/oc84LvMvHU9LH/nv7m9kD8cQRZAE7z7/G++30KRxmSIwkskzG7QHVQ0EHDDlHnO/qPIgApUQ+oBY0PLwU169raKdhT1LvcFP2lEqQAYN434gn+HgFC+Z4JfCd0McowxjLZKLYOyP2vFWs5Oi9uDjkMGRTGBOHtpOjr5SnZed3a7j/xqtnxw5DRVeI53j7bl+WF7N/lhudt8Azxoe1Q8dL95AC2+Aj1RvNe6dvmEPWs/gQA1P7eAsEP9h1zLR43OUYXXu5fXDRq+AXxXxG1H1wTPQZ5DKwEs+OG0RXWCNLJyZPl5w74DHDrRuL99xkE3/34Dno18zvkK4cr3i/fFTT2fAVxJzAsXBRZARn/0vLi12jR2+Ez4OXZBuvK+RTpuNGX1B7kEe/v7Vr0dv+z+BjwROxL6RXnDvMhAhYAqPZA7pTqu9360X7ccfRIAQAARQQHDUYXzhs6Jog8LlgndHVuEjRH52niRRXIIagMtPzg//r2a9V7vOe7RL0Xx035XyWSF7rpzOcNCKEOowiWF8hCNU9yP543HiOdAyrrlvoWFOIPfwN1/BHtxNWoypbLUdsB35PhyffS/ZDuCNy94p7s7u/j+Az/awUd+HHrauyV7JDkieNx9ID6r/cT6rnf9Nd/0Jjh7PfYAhf+CAPtEwMgTiRBLOxN02hkcs1tOUhK86G/H/UrJSATePBg7B7yQ9BYpzekH7dqwgTubS7FOhgKdensCl8hLxn4HCdBqlylSQ45nCD39u7Xdd0SAdgJyvUD6aTkAtVSyf/DGs9N5tH09gsWDSv5qeaM4hbsrezM9gEB5gQs+//nheCU3ZTYwtd67s/83vbZ6HfgJean3PDbxPBZCr4SXQ4/FZAe9iYVKkpD/mbkcK1sSVuCFWu1ib0HCcMZf/W331/u7eMsuIykqrgxyB/k6yuTXRpEpADr+kkkVCmIF1ofIEg7Uec6AR7b9KbPdb9O20MBRP9F6Gfnz+u23XzJDMpI6mH+1AxSGjwRs/rF39naU+Rn7Wv0Wvgi+Lrsu9sOyxvFBMz35Xr4UvZ59jLz0O3C3UzWj+iGAFAQrBXGHTQehSDRLFFAkV2abflwR227PATRH6AK3sAPl/974UfkAO0t0N+uALPew9jWvBACVFReXySL9JcO3jHkJpQWYCzhRx9BrSWtA7TcS7v6u6LqBBB9/3rpdexq7VPdX9Dn4a30NgCgFYodDgxp7BDZEd5f6Dfpveqz8IbxHuki1I7FIMgi2pHwGvolAs4AUu+/4IPeMea77i3+iBTcIJ8dUBt3KWc4HEbKX2N0kndnVXv5YqoFveD7+QUP6jne3Osr7GbJ0reWwuvR9vhlOdtk6ErrCqH7AyWFNA4a6RWYMfE96ikvEiH2LMl/qZjEaAQjEWDw++cR+Wv2wN4N3a/vEfw3BugYsx5uCRroLNah3/7ksuME5/Ls/PDW5EHVr8zS0J7j0Pe3BeoHcfrc6Sbn8uhM69bymQLvFCcfRiMQI0ImiTDFTBBr+nY3bT8rSslEonrXngjf+Nni4elu/Njlar8pvcHL6OT/EWhPIGSRN70Hpw6fLvQkSw7nGAY0vjFcGWUI9emovsOugtyAD1MIW+8A84gAVPOo3v3gIvR9/KgChhbHGTz/c9cszCbZYd+w5WDwEP259uznLOKX3ADcPeY3/D0MngZz9WLwIe9A6NztEf/aDt4TkRxlKRYv7y6yOANY/HC8ej5eBwpKrwWiKORlAWnmm9Hp4NPyCdmYwYHIVt4o9+0i/VsiXyYsSAiuHUY3oyDJB3IW8ywJIbUKzft420WzVLgR8RQRyPlM6cH+JA1K+JneJOlm/gX9DATREhYPnO0UzI3PKt2F4QXj++0B90vvwOcY47PfRN7i5wP+EwxyBA71IO8c6Z/m2O8NAPYL/hNdIpkv8DSONPBDemE8dv1zJkjm8SOjZq8J7OX2O9vPzEXkje1W0vbCz9C16iwCETBrYLZYWiMoBWAevC7SEuP/NhTuKJkbawVO9LDSiLRcxy7+mxI2+Qv2pBI2HF78ROKp8Wz7kfl8A7YQZQaU3NjGf9A82/LZM9tu69j0UfHd6u/oXOLR3XHsEwJsCUf6XO8h753rFefo7F38wQlmGjompC+ZNLA5GU9iZKZ04mcRKKfHwJnqzav8Ju930dDXQvTs567OqdBp45Xynwu6RTdpx0cqEQEM9ChjIdv+FPzZFzIgUwtyABL07cvttMPVggpjD+f6bQqZIwQc7vYW6n73MvTy87oCUw+x+kjWUs5m1evaM9ny4erzhffE86Dy0vHQ5gLitPHrBOQCgfGQ7/P0GO8651LwRwGKD5cYySKLNl875UHkU+JssXv7Tdn06KWfry3wsftD4XHQdea08B/YeM4t1Afk0/ZCKYRlTl4aJjoDmBj3KmUQCvzPC8ohdxfWBH0BmeaJu9W7tPKHGWsF/fyoFucgUAZA5e7uK/gN7cTyMwf1DY7u3tWq1njccN1P3D7uC/pv+Uf4jveW9Pbmr+Wf9toDSf5u9cL2ifRM6jvqofnRCNUTqxo+Lvo8wz7pRkxWQ3bDaQkgu8R5nN7Uuv/T9TffAeHZ9U7lGtcK2a/gP+suCOBNrWkLQO4JGQCWG3YVhv2V/YMPcBhiDOMIKP7W1d26dtd9EM8V/v4mCxAkjSRl/urvxf399ELs5vINB+P7ZtedyxXSJ9s600Ta3PBm+jr6tfAF8/vvFeQh6C34+gFs92DvS/SL9BXu4fBS/7EOJBmcKKI7pELGRptObmsCetdKx/NEow6touqC/yzxT+A+8Xn1ed8c2mPgeutH9c8jrl/xWV8iQPeCBJ0XUAOn9hsCERPCDVL+Q/xl5hrCEL9U8s4cRhFYCbQZ0ynmEVPwB/jo+f7wZO/9AJYN1+9Y1ZXPHNZv1GDS+ujq+ggD7vzo9bf0oekT5yjwQv7m/Y3wYPAu+b760fIP9GwB9xChH58tiDkPQXxGrFjlc5VkrB11wZubkM7F/1sCqezI6T36huuv3BHgQegA8sYJKUe4ZRw+4gQ98z8Nfgym9F71LgcLFTQLBwOp++vZjsAl1kQM9h52D8QSYSX6I6T7u+hJ8GzqoOcp8bwJRAEu3hbTZtdx26vRTN1v+fAFPQVa+vv3W+7i4xrrRfio/Hrxiu4l+TL+Q/Tx8J/90gsVGDMn6zoVQ3NEwE2kaeNu/zOc28eaXLFd7c8CJflZ6aD58vqw58Plf+nd87T+ZS1/YZRUiR5g9V//Dgnh78Ll7vaaDwsTiwgkBXXt78k5yEv12h53Gu8PPRqjJVcO5utQ6M/kz97L4oj7cQ6W9qDe1tne4WzhoN4r8FX/YgfLAsP9V/iR52Tj3O1/+TP4eu/p8mL8Pvfz7TrzaAVNFXUdvC+KPpJFK0m/W9hwdEgj9x+qCahQ4on+jQKd9cP92gEn6YnixONh8b76WhvQU/xaajMDAKb4ZgU/9VznNe9RCPwRewvPCR368daawnziFhWUIfoUaRIZHysWLfVM6Bbkf9x52jTtuAvtA9vmzthp37/lA+KV7nwAawv8CKcCN/8W7F/cXuNf9//+2/Pe7UX1O/Ym7tLuSP5BEVIaZyuaPeBGSknGU/lsrk5Y/XysVp6B3HD+NAHe9wj9uARi58Pb7uAD8Vj9cBXHT0ljikG8Ctz4NwYo+J3l1+pdCPUWpA1xCK/9QeKNxo/YggiPGzsUVxBHIAggBv3u5UTfJdto12TiDAQCDU713Nwg3Q3pBOcf6175WguND70HBgMK86ff9dlT6xf7yvWX7UDyFfyF9kfwpvd7CE8X1SaQOMdCwkjNVbNxqFwXB1yt1JJ8znz8kQHS+isAngxH8V3a+9iv5qL1xwoIQgxfn0foEuH6UAdg/FLj9N3X/QMYExU/DrgCh+wky5fQKv/4GMwU+gv+HBQo0Qju6FjdPtt11jraxvl/D0oDK+iQ3gbn/OUl537ztAhcEsgKVQYI/Nzq79rR30rxrvU+8ljyWP3f/aH1oPbh/zQOJyDpNf5FhU15VSNtVWTkGuO9kY3Rthvscf5lACIFvBQ5/mPhQtm84KPse/ZWKj1ZElX3JKL8GQNw/pjkKNaQ7hkRbBRrEFoNowDG25HGeeSEBggQqQzyGQ8rIRXy8fzihd4t1IfLceK2BuoPQv6Z7H3pBOQm35HnFvyDDPEL1wrzCIL7huLT1Cjfeu4L9h33/QEqCQQCHfzp/h4KoxWyJto8/E4TWCdqSHG6PH3eAJI6niHZxffK/+AEORx1Fevxod093Izp8Oo7CaxAmlefPZcITftmAYzuCtX/11D+4haWFdUSfQ869XfOvc3G7xUJqAoKEI4obSuBCqvpMNrB0HDF8M/r9ccRcQ3L+u/z3+5M4qTbyOWS+kwEKAUHB5cDQfJ43TnWxd1G6NTr1PgtC5sRGgv6ATQGhhDSHPAshENvVedlDnbyXDES6rD2iZuxd+Co+v0A9xeNJJsIpOrX26foEeqM71Ycrkc4UxYqDwUXBQf84eGyzJDhSAuWGl4XYBXUDg/vctBE1QbwBAL7Ay8VKStfIoMCsePN1qPLjMQv2F77RBXZEb0FZ/7Q8Xjlm9sx4tnxnflRAfUFfAGQ8aPaPdHz2WTkVfAYAOIPVhcUEbULewwzEeMXKinfQjBbgnRScVQ+RuBdlJ6bfczT8Ovz5v4TIHwjugmX6LHl0e385jz72SV6T1hJZhu1CHEFs/gl2pnMH+zcC8YU5BGZFQgQ6PC82UXdUfGu+DP7QRKsI1Uc5P9H50Xdo9BtzkTgU/0oD6gLGgeuAkz6jOqx2gHdj+j29iUFsgktBBrvidYH0sfcuuye+a4CaQ7qEzIURxNgEvQRbRYHKyVIeWk3d+VZIRJkuoyYnbD42KLvDPY+Ebckax7MBQHzqPWM6y3rTATOLk1MNDeAHF0OjwKT7RjRNNce8osCPwXWCNgXzRQV+3jl/+ME74vyavwqFB8kyR/oBavtAeDu1ATYO+fW+1IKAgqlBmgC0fkj6/jbsNeV4J/waP+pB4MEVfON34DYkd4h6zD1OwB9D9wYmRzFHMUcgRvSHOApIUaaZKtgbTL15giuQqz5xP/gtOuS+N4SERxEFKsBlfoL+frvOvWPD4Q27kH/KpYWZg8EDBb15db31bfohvh6/eABxhEeE4P9Xedt5YP47wSCClIPQBb4F0IFrfHF4C3Zct+36pcAxw4+DcQEBvsj9vvw0+mk52vutfhOAtcF+/4G8abiYdyl4O3pq/O//QEGfg0RFG0ZSRpdGEwegjAmUqllrFOnHWPYDLqYwZTXTehD61b9URBkEq8FfvZ+9xH4rvMq+nUU8TLYM7QcUgsTCFME9u102XTfhvAB/pMCYg0vHp0YAABI6AroOvVL/T8FIw4/GaMRZ/3r7yDnuOWv4Kjl0PnqCI0MywIy+t71N+/U6YrpxfFe+n3/yQNqAsj6Re3y4yzp2PGb+HT7GQCYCmwQhhNkE54YXiVmOT5XxmDWQw7+gLlPrFjK5vDs/CH6NAUQEZkPLQD+91L9YPun8lf35xQkNKAzKx0FC+wCa/dZ3rrRP93S77L6HP6cDXMdPhjT/DDk6Ofc9ywG3AreEC0ckxfvBWXuhOKM5eTovuz98K35dQFIAsv+w/iY8nvqSOP05frxKv9kBRv/zfeb9I3yy/Et7Q3vT/onCYcV9BdpFn4TcxPXF4AlgD80UkZJfxs64L/BHst+6K/8dPwK+wgCVwnNCikFjQN1AuT6kfMH+WMRYiTQIzATsAOAAEH4WetG4sHmWvcJBCALLA9EEPQHufo38hj0lf3zAU0EtgbNBoIBV/aR7qHvTfSI8p/soenC76j6SP4k+jHzse4K7Snvt/SC/D//affW8OHx/fhB+6XzGO/89ncG3hCEEmYOIw19DjoRtRsALrtFElC7OroFQM3sttjJ5u6DAbwBHgRKEDgd2hb7BSX6SPeg90r3XgDGEyMlRSJUDTX6MPX7+dX3TOze5SvvXQJfEWEU5hBbC/MBmvce8m32Tv67AjsCwgACAJb8Afs++ez1pe0Q5AvmU/Dh+7b+wPz3/K/8qPqP82Lvru/h8+36Ov8tASX+PPpA92r0WvPh9db90wUVCqkLRg+gEpoRlA/WFcMptD1XQUQs5ga04yXRdtfu7a8E9Q3zCYMEbwO3A8H+VPYh8575OwS0DGYQVxEEEQ4LnQJw/Mv70/2l+nT0S/KF+fIG0hL4FuERKQay+L7wn++O84r4nP3bAbAB+v2c+D342Pqo+QH0gerI5QLpU/KV/jMEMgAS98LwCvIA9q73Kfjt+RT8j/tK+mr8RQE0A/3+8/p+/ZQFDg3aEDkToxazGq0eNCjdNDc6ISs+A6PZRMWb0aryCwtCD9sBNfes/KsJ8RBuBgP1muzY8hcEVxJPGmkbiRWYDOcBZvr/9o70xvLv8jP4kgPiEFwYyxTjBhX2juty6aPuivcSAKEF7wTQAJv9n/xu+6317O3B6JnpVvAv+dMBrgYxBSX+HPXt7tDtu++/8iX3dfz8AawD9wCD/iv+pv+q/h39lQGZC0MVHxbVEI8NKw4DEVgSchZKHw4moyLODg7zUNyI1fjhivXxBBIIUwRsBCQJgQ//DTsF6fs995v7BwOkCq0P1RA6D7cIjgHe/Cj7X/l39BzyFfgIBkQSsxNkCsn8aPNJ8fD1KP0QAWwAgvxZ+dP42/kQ/MH7nPbd7ZvnRevH9Sn/dwGx/Zn5r/aq9Sv3xPk++i73MvR1910AwQcFCj8HswS/AzEDgAQyBT8G4QUABqYKoQ/DEzwTdxJWGNsgxSVLGyYCMOcj1/LaaOzwALMNjw29BtABcgXFCysLyQIQ+aD3b/0jBeQLyg99EccOHAmKAp/7zfW58AnwVfPW+RADxQnUC0kG1f39+M/2GPbo9AX3Ff3vAX8DhwL3ApACr/zY8hjqLei47Grz+voMAn8GSQaX/2T3kPO69Kn4YvqM+9b/1gUvCnAI+QL3/ZX7jf2zAR4GdgbUAeP9yP2wArcHMglrCXgJQw2SFVkfxCS8HJsHRO7C3pThjfESA3oJ7gRQ/ov9gAQRClIJtwJo+2L6N/+eB2UNbw2kClEIVwljCSoFUv079OTuFO4s8gr6lwAjAqb99/bo8671zviM+T/3D/V39hr7fQC0A+ECav4q+HPzG/Mi93785P/CAJYArgB3AJT+Wvts+A737vcH+wL/CQKdAeL9evqp+bz8vgE7BukIFAfZAv3+7P69A8oIdA18D30QtRTLG6AkmCPNEQD2et7z2vroQf2wCxgNEwY0/Rv8qgMvC+QLsgId+Aj0ufh5BAEOrBBIDFMGRwRzAvr9ZfUg7ajpc+on8TT6YQE2Apb7OfWT8+z3kP3I/v36sfRR8/34kwKlCloMmQhi//rzie0o74z2vPt6+5f6TPsm/JH6Zvez9er03/U++gACmQhcCKUDSP8e/vj9fPxs+737M/76AKcD0AXHBh8IbQg6CAwIawrSEucdNyefKNwezAsR9afmgOce9SEFXwxKCiUDwv2h/nwCMAVlAQ/5OvQQ9kL+wAWECKoHuARVA/gBVP/I+ij1A/Iw8YHzkfhN/yEFLgXkACj8Evs4/W/9IPu69gDzPfIC9OP5+wDYBVoFGP6j9STw+/BP9j77Zf4//ur8F/sc+T/4ovf095n4j/nm+lv83P7UAUsE7QSWAy0CUgJyBKIHbgndCOQHDgk/Dd0QYxBODboMxxLSHQInQCUEFF/3qtys01LgJ/kdDYoQzQYZ+2/45P8gCMkIAgCH9dXyUvr7B/oR+BJCDVQGpANdAsv+LPnt8lnvxu6x8ib8SwaWCoIFF/yO9Z70zvYx9wb1jvGg8Dn1lP0UBusJGwhXAVP4evH671L1nPuv/gz+xftP/En97P25/cf8kv3e/Yr9D/3a/k8FNAw1D6EM6wfzBYIGoQc4CO0GWgTJARUBOQToBsAGqgXLB0YRmh3rJn8m6BjGAmLsJuJy57z2gAZsDIYIB///9/b5+QBjB7AGGv/u9zv1Kfo0ApkH3QiWBTIDSwHE/jX7/PRi8FntE+809qP+tQV3BRABGPxR+jP9cf7M/M32hvGU8Yj1ef0sBQQLiAtMBNT6TvS89Of4nfvU/G38h/x2/SH/AAN1BZYFnwIM/gj8qvvv/sYCHwW2BawDfAThBq0K1gsKCPkDvABHAxQHmwkrCosHXwg1DLIWcCPzJwgfgQb17CHfdeI082cD4wrABQ36JvNn9hMCCAx9C6oAPvKv6mHvhfwPCiYQoQ7ECSMFqgF4/X347fIv7yvvOfMr+p7/bAG8/hT6EPdN94P6l/yJ+yT4EvYd+WQAKQmSD1wQIAtfATv35fEf8jf1HPdO9q32LPoIAGoFLwieCXMIJATV/bz4nvhP+yT/gQLvBEsGtwTtAmEBTQDe/aX6NPxzAUUJVw3NDWwPqxEeGN8deCL8IWUVqABs6NzcZuNg9SIHmgpbBAD7gfcU/D8CFwcTBEr71fF57rP1HgEAC14OFw3ICiIHgQO9/iX6Lfb+8dnwo/NP+/gDXAfwBDH+VvnF90D36vYP9eTz9PIR9Ln60AUmECURxAhX/sD4xvg2+rX7ZPz7+i33bPQV+PL/AQTY/xT3NvLL8nf1U/go+xAADwSVBXEFlgRpBdsFwwWkBGQD7APDBTwI9gnQDMsR9Rk+ImknISUrFsn+iOZn3MDjqPQ+BWgKKAgtATL9FQAxBEsGCf/A9GDuXPD7+wMJNhSfGD8XjRNlDkgJGQKg+QHxZOoQ6sXxuP5wCGkH/v7/92D4n/0s/wj84/VZ8Z7w6fJI+hAC/AdBB8//mPd78DTvYe8a7z3u0Ozw7kLyEPhT/pMCagIh/On1u/Ok9+j9/wJYBrUHyAfsBg4HNAcWBkMCnf4T/0wE0wsrEYAUlhZmHFol2S07Ll8dDgJL5vzbtOWs96wG8wYhAjT+ugHKCYAKywSl91Lv9u3F8XX6QQKqDKQTjxcmF8QSFg5hBq//IPfm8QPzhPmeA+EGVAWmAK38Q/qC9U7x1+xN6BjkGuOg6Sv1GP6ZAIL+3/yL/qL++Pz6+CD1bfUY91z7XP6T//AAeQBO/wH7/PYc9v/2XvmD+qb9AwIWBDkEuAFdAPf/lADTA+cGYAn0CYwNBhYLIQ0uVDbGNUIkCAVb62bj1u1W+kT9Uvqt9735b/8xBpcMqA3VBen4ee5w8Gf8dAkzEPwO+xBOFyQe0hxLD8z+/O9+6A/n7upd8fn0XfXo80v3x/y6/7H6fe6w4oLc6eDb6qL2b/4LA6EGNwf5BkEESQLf/Bf0OuwF6yHzhfqSAIcCdwMQAgT8tPgI+Kf55PYa8h3wUfTG/BgDlAiECosMGgw5C8YLhw4BFokdxyprNog8hzITF4T+TfEI9nf6Z/lv9/D3x/3k/fQCdwyDFi8Sj/kK5rrkvvbPAYH98fZz+z8LBBLlEIILVAm1AhXyGecL6cD3tvxP9XzwSvmqCk4MkQDj80fx0vHm6svm+OvF9u/2pO6M7oT67wYjAyb42PMd9fTzYewZ7L33ogJ3A9T7ofqBALwB0Pti9Af4RP9+/kH5qvceAoALhwqRCJQN+Bk4IXAh7iiHOOdAVDIbEz7+H/1nBY4GsACVAFcCnAB19x32lgM+C/oALOgW4A3u9Pos+HXs1vKcAWAIigRpBdQVLBo7CvD1S/VrBOYDcvIU6JT1MQmDCpb+ovka/Vj4bOft3MrlI/Js8ujpuep694z9qfaM7nPyUft4++7xvu/a+c0Bi//u9d31svtM/B334/O9+RX7bfbZ8WH35gPJCHgJFgzxFHkc1B+tJOQzG0d6Ssw4AhkEB+oG6wmVA9v12/PM9q/3EfMn+A0I7wlE+sLkAOcb9WL3NO2U5o32KwSOCFYJpBJkIHUXsgZh/AoBPAQ+9uTro+z2+IoAjv5g/ST6y/au8GPsg+3g7YLsueeQ5f/qr/Qn/BD9VP6pAFH/5/b77Tjwn/WN9/31kvYv+qD2bfHQ8tD69v6Y+lv3HPrF/mX+qP2rAm4NHBdAHnwliTA4QVdJokNbKz0RLQccBPwBGfXY7YjwIvMU9RH2owTMChAAhe6456/2OPto92z0qfzRCYAHygepDLIUxhLgB9MH3Ql3Cav++fJu8HXwVfT19kP6ofx0/GL7zvZY8h7uU+uq6ajpuuy97frqwOdt6iHwEfL58iH3MP6n/2H5z/Sb9S/34fbP9k/6mv9YAAv/Qf4S/w8CcwNzBBEEcAaGC24RsRlqI2I0BUGAQLIwXBkCDMADHv5a9DDvvfNI90j74/pUAyEJVwOw/Qr67gLgAKX2MvIO8vn5m/lZABMNKBTAFdsOuQ+ADYYGtf+Y+CP4RvUB94r7qfsd+tb2yPcU+BH2ZfMe8EbsR+aZ46vh9+CH48bnRu3g7dXubvK09Ur3Yvba+jT+E/7g/Kv6L/5e/xABwgOfA+MG/gdSChAJggYjDLcRixiVG+YjIzNkNXQp1BICB8oH2AajAiX6/vmq9o3u4+xj9HwHgAwDBxYEnwXXCKH+x/aB9fD4Cf3f/Z8HDw1vDV4M4gqBD4cPRQ3ICuoE3P96+8r2g/HF7czwffWP9PTw2+4A8QHtuuVn5VDo1uwU6tDoMewD7QXuF+4Y9dX6IvwC+zD4n/vG/Dn+8v2e/FP+Evw4+y/7nP4jA18DzwYADtIW1hx9HqokpC+cNI0voSAuFKcP+AiH/xDzMO8U8abwf/R5+3oJLgz1A7sBgAIvBv39iPaD+Rn8E/4k+8sA7gg0DbIRzRKIGLkXfhGuCFT8ffnw+Pj31vNZ8eT3bflH8pfoLegg7dXpiORr5hrvpPC96F/kwejv7wjxqfDN88D4gfyD/N77FPzG/PH83vrM9wf3ofhg+ST4vfjx/fwCAgZzCEAPmhpDIWoowDH5N/M1mSXbGEsU6wxJAq333PpmAOT7nPcP+2cGfQRO+nT6VwKOCAH/Gvim/EYAf/+F+v4AtAu0EaQUChYEG90VMAqK/uf4r/x5+qP2m/LZ8hL2D/Bi62nrT/GN9bLvZ+xZ7aHut+tm5L/jgehz657rBuwE8t332Pfb9Xb3EP5T/lb4n/Qp9tL5O/b982P4l/8eA+UDgQskEkMYERwqJwg72D9kOvUosRoHFooK4wEq+Iz4jf6F/EL7KPswBGsFfP6C/tIEIQwlASn0fvKn95D75/gAAMQK1BSGGE4WlxboELQNkwgKAZv8KfbO83fwhu+X8ujwROzm6s7wgfU58RfojeYF6bHopejn5g/oQ+f852vvfvPs9TX2aPgb+xf5OPeA9Iz0f/VR9vv3H/c1+VL9ZQA0BBwKChPAHDMmQjQoRBFH9ThZI3cW7RNuDcUBOPiS+Pb6o/WQ8sn3gwKcBoUDygerDnwM8QDu92r6af3H+c/4dgCgCxIRGRBQEBASfRJ9EC8Mfwn2Ban+tvaM8drybPMK7NrmleoP8vTzYu3Z6sLu3e2L55HhPuCl4ULgReDd5lvvD/VR9334h/v6/Bz7b/lY+rP76vjX9MXz3/bo+ZD5Of3VBQQSyh9ELDw6N0E9PLktlh6DGsYW3Qyn/oT1DPd78WzqYe37+aUGZwQOBlsQ+RMTDKP+NP4CAWT8mPi3/IsHbwtWCkoKtQ5vFDoWgxYeEUAOAw13BzIAT/a084LxW+rf5tXnBu1Z7RbqI+u57CXrmOWL4QTkXeel5s3k8eMF6D/t0u708kD3B/uV/b7+0wITA4L+LPqN+1D/hv9rAmgIoRMBHXYjpzEkOjs4VCvxHKscCRrfDzsA9fPr8BrpV+R75q3wtPux/aAF6wyEDQEIdAGvBOYDvvwK9zH6QgLBBCMFFwShC/sWfB4dImAbghlVGc4Rbgjv/Rf6UPMx5ljgP+IV5jrlRuTg6PvrsurR6e3r8O306jrmO+QN45nkd+fu6hrvW/LR+Hr9//9DA/0E7wXtAnwBuQGAAMoAnQTdD7EZhCMqLqEyozBYJfMgcSEgGQcLtftq9xrzF+kO5DvoIvQ9+fn8HgMBB0AHdgPqBWwHSgLF+8f7cALjBG4EPALJBd4N9xX+Hj0eGxpnGDUY2hYgDlsEE/xs85npDePp4Njf7t+K4BXjAuTU5NfmI+rQ7fTsf+yz6h3rzu5G7t7tcu5v8lj36Pj3+0EDcghwBuMDRgKTA4sDXAQPDrUWCiH4KXctoStvIJscwRyqFhkMMQBu/JH2GOyy5//qEvLR9N/4twG1BkMF1wEmAywGoAO3/3T/4QBtA3IG2AgICx0N7RKYG98evx33HKwbURhwEMwHdwER+aTvg+d84s3fqd5a4P7gRuHt4APizOW15vnp+eyT7KLt/+6o8ofzp/Ey9M741Pp4+TT7bP9CAzcENAPpBigKwQ/rF90g2Su2LRUqOyGeGQ0ZjRKgC38CC/27++rxUe2R7Unxk/P58qr76AGNAdr7b/owAaEBd//v/XwByQZ7BxQIEglJDasP/xHzFbYYkB2OHUcaIBY+D28IMf979XPu7efn317akNtF32PgHN8R4XXnJerS5+Lmhepr8IfyhPIs9MP3G/t++y79aP5X/vz+LQFzBmgJ+QrsC1EQQRkrIs4qnCoRJ+Uh0BrmFgsObwZX/7L6UfrM8+ruouwO727zTvNo9339HwLkATP+vf3m/cT9fP5lArcGwwZiBjgKdhCnE5sT3BPIFcgY1xr1Gd0VVA/OCU4DI/lY8R3rm+Tw3DHWada812/XMtjv3K/kJel06zPvS/TK9oT3ivh2+xb+xP1eAMwBaQJaA5ED3Qb0CakNJQ4yD+kUoh86LXouWSq8I+gcXxkfDRwAgfci9RX1ye/L63zs8vGN81PyK/Rq93f8RQB/A+QDrv7u95f41gCZBnoIDAksDW0SpxNkFOwU1RRlFugYNBnvFkESbg3VBeX5VPGw6hvl7d8Z2kXXJtTf0qLWlNyq4SXkdefS7PbwQ/M59iL7Cf9x/9gAeAP6A1cDIwP+BfoIiwtsDkwS1RjuHpcoCzBCMf4uiSZZIqAdoRBHAkD25PG37fPm0uW86ujvT+8U76Pyx/WH9/T42vxaACD+ZvqD+53+NwFRA88GBw5OFFsXrRe9FacUpxWWFX0UsRQjE40NVgOH+or0X+zz5S3ioeBh3ZXXH9Vj1SvZw96p4zrmGehu7UHyQvQ+9Vb53P9oAk8CwgQ/CK8HrAQhB4wO4hKOFvId5SmpMa4uyisRKOMkgyIVGvoPLwQO+6vy8ed04k/mh+/V8YPxVfRg9i/15O9/71f1a/lK+2X/fgMjBXIFmga8CwMQwBImFiIX4xXMFgwY4xXqEpEP0Q14B4P9lPnG9STvI+Vt3tfelt442w3WJNZh2hjfMeS36JzuifHO8MXxxPQc+N77Cv9uA2IIpAkJCpkLBQ+QE2UYyh7jKDYyUjIJLLAhlhwQHmUafxE/BTv/4vsB83XrqOd46enof+iA8BH44/qi90r0IPW29Er1svpgA74JZAofCCcI+gvgD+ERpRBpD6wSPxZyFngScg4/DBgGCf9r+qr1Ku4Q5QPiDeMH4Z3cSdv13gbhKuDP3w7jw+lg7SzwLPN49Kj22fdP/L0Cswh6EHEVfxkMGzEdXCFcJNssGDPlMlIrRSDxHCoXrwoL/Wn1H/YS9F7t0umO7Izt3ul76D7uufZW+VP6l/3y/jz7aPay91H9qAFLA4oGyA1IFBYWNxXmFI0V3xQkEqoRlBH6DRUHRf5V+PXzKe7E5wPi2t/F3gTeA+Bd48HmfOZY5Wbn+Oj56G/nu+jY72j3lvl1+JL66gDQCNEMwhGeGdofTia6K7w02DrnN2YvFCbSJDAguhN1A+/1lPAZ6J/gb+Ax54nuce9R8J70lfhD9ozykPOO99L4z/d3+kj/qAFO/zkBNwevDrcVAxifG5gbOBr8FgsSABF4Da8Ipf5q9Urwpepa5zvie9943prdht934u7kVeUx5nTpNe5v72jtvOsh7Mvs0u2X8HL1JP/cBc8Lsw8gE5ocAyS6MXY+rkSdQ6E4NTMaK4Qeww4KAOH6xvKO6WLj7OK+5jjmdOYO7XX1avvQ/Rv82vnS80Huqu7Y8aH4q/0aAPIB1QY3Db0PtQ7iDXEVKBuyGdcUtg/nDUoGO/389+n02vBQ6Mjh4dxv2VLaXt8Q5+3r6eyC7gzw3fD48YTwvu7Q7WPuI/BO8C3xB/d3APYGsA5eGAElhDF0NNQ1yDSQM/EzAy4KJUsZYw2OAZT0f+o25/jnh+hg6v3sc/FJ87r13vlO+wj8/fh6+n79QP1k/cL55veO+moCUg2sFN4V0hfmGbwVZhMrEOsOKwst/6f4ufFd6wnn1eJk5PrjXOKt4irkZOfg6EXrXfBZ9BX4rPoA/Pv71fWt70rsW+tO797z2PnuAZIKDhbdJY4yrTibODk1kzXFLZgeRhHSBe/+W/XG7uLuD+9m7sPtOPED9Rb3l/gb/CAA8f6/+iP3jPbe9u74xftm/tYBnwMIB10I/QhtDWoR2BV7GP4WqhGGCW4CDv1p9QPte+kI6WroYeRh36beDuId6OztJ/M79rj3hfht90b2sfR69Rn4R/n5+lr9PP9bAJoESg5FHKAqDzSUNlMwkCjgI9Ec+RKaB0//pvgu7w3p2+ia61Hti+5G9QX/lAPSA4oDcAJ+/j33Q/ZB+l37ZPtj+dn6Jf4WAXMGHgmmDZgTJxbmEycO8wqYBxUBQPop+KL3JPKP6CTiFOIE4eLfHOPM7Cn1p/UC9qv3UPqv+rv6vvws/v7+3vys+rH3LfoVARQI/BLcHXctgjcdN68yIyxpKq4igBUWCN37k/EN5Hvcvtsw32vkBOqU8wL7V/1P/t4AgwNDAp38Ivx1/5z+a/s892L7EgK5BpUMtg7ZEvwVGhdWFa4PCQ3FCloG0f7r98HwT+fI3ZvY69oT3Rff4OBY5Hvo2er+8aD5Z/9aAVsCPAXCBBICT/8a/sr9vwJTCusRYxilHZoqqTJWNEoymS3TL3QrfSHhExYDNva45yDez9p92mPadti12z/k6O2E9Ob4sf5jAwwC+f7V/k4AhgHH/pcAdwetDI8RaxFrEGMR1xHjExgUuxKvEk8OdgQ9+9TzSu9M6ATfZtu22Z7YAtdy1z7cROH56PbyM/wkAMr/hAHXBKoFjQT3BH8HPg06EFQTVxhmHmktaTczOxM7XTdLOawvWR0BDPn9XffF64Xhqt523jjdg9qN3k3n/+157wPydPfb+BX28fKe9eD6sv1W/9kBsQXkB4QKcA6pE18amB6WIBAfyBnJFEoLuP419djt9ulF40vc2Ntz20raZ9gQ2tffw+MT58bsn/RW+FT5AvycAlAJFAquCHYHrQkKDFMQUhh9I/4zuTs/Pcs5hjXFNuUrPxwSDbEBN/vB6wDehde51njXONhO4ALsH/b3+Wj9eQDj/OH3y/QA+BX8Dvso+pP7Xf+RAwYHhgprDwwV3Bf8FzgXCRhgGSQT9Qh5Akf+Zfny7HbflNhR053PTM4M0zjbMOBN4wnqRPWj/Mv+Wf5FAMoDSQJr/8T/6wT9CuwRexwALHI5UztUOtU4/DnfOIktgyLwFdwKVP437BvfINgf2b7akNsd4czoTvAq8wj44f4dAGz9B/vG/dL/N/v09of56f9yBHsFvQb9C9EQABJjEckQxBIeFO4OSQbT/Uf2v+7+5B7fc95V3cLaPdnD2+vev+Ar5BXsWvUO+67/pgN8Bl0HKQU4A8IDsQbuDAUU0BqTJJYqPSz4LQ4xvjfxNM8n8xmiDQAEhPVI5tre/d5h4ezfrd9G5MLriPFx9BX6rwDFAuwBGwEeAv0CWP9v/hsDwwfXCkEJ5AfUCc8KewxmDp0O3w6mDGsGMf8u93zxOezU47feHt7T3YrbYdlH3Fnjaegf7Yr1dv1yAlMDRQPTBPQElwIOAZwDSQeXDFsRjhtxLBA11DYvNFc1JDiFLRkdPg/4B1X/ZvCJ5Pzf4N8t2zvXytpl5MHvjPd1/YsAewDx/or/qQCAAPD/+Pwj/S8AQAQHB+sFewiFD3sUTRVrFZgWhBX7C2X/i/mF9jLxXuY321LWo9Mo0KXPONRK2/3i5uiV8n39lwKOBcQGlwkwCysJ8Qe/CnEPlRDjEK8TwR+OK2kujC5gLs0zljI5KIwc8xCyCLz64esj4pndf9x72YfaHOB35qbqju+j94H9xf04/fMCOQkSCkME5P8DAgwEKga1B+IKeA+DEHsPVQ+PD6gPIA+CCucFwgCv+jz18Oof4EvXH9CuzCbNYtCz1YDc3OSe8B75Af9eBW0KCw9SEOUPERBuEQQTeBVVF5scgSj8LnYwgy0ULVQwjCjZHEcRkQcw/enumeak5Gjk8+Et4vvlP+hl6PHp7fFU+W370vnu+az7v/zg/or9rftU+zj/dwYACdsJkgyyDxERiBPFF90anRcVDikHuP+P9UrqJeEu3mTbVddJ1sPZ0N1E33LgXObm74b2Ivus/0ME8AYbBhQFbwj9DbsSVxfOG74mkDC0MzU2zTatOTI1fyhkHk0U4QlI+srp999w2uTVvdHD0uLaqOYi78D1Z/xrAfsChv55/OP+cgI0BMEB+AH1A9gCoP8f/noBngSVBIEIohH2FhISVwdMAscBIP1Q9bDtPumv5ungr9ta2JnVnNiC3mPoV/S1+tn/bgLRBCAHhAZfBv4GAAuYDT0QyBOuGu8nvi8eNa03SjnhOtYyoycHHKQS7QhZ+nPrcuFD3kTZfNMq0arVs90o4Zbmje7i9Sf6fP5bB7kNCQ5ACpIIbQcWAgD+wv97B80O7hDNEboSyhFeDykKtgK++v70OfNy70blQNnd0zrTFNQ/1tbaBuRz6jrxLPls/tkA0f/SAwkJXAzwC2sL4Q+CECUSQhWVIBEwBjbKOHc28zW0Mdsmnx+sF/IQDgUd9/DtNud04iTdIdzx3nHkauhQ61HwAPK78mzyzPPL9kP28vTn9H/3Mf3QA/8IQQ1EEdEW1xikFFkQbw/wEysU9g4FCHL+/fMl5jLcEdUNzqLJc8s61WbbAt6X4HrpKfOT9x0AtwgPEkEUfRD2DlMK0AhzC94Tdx3OJbAtWjJ5NpU1XTbmM2gqOiKjGjYVYwdS8wXkydxF2/HYYNvn4fXolu1G8Qr5WwA2A28CYAKsAl8DtgHH/eH7dvka+Kj2f/YQ+zwBUgUxCSIPMxTgFgUTxw1oBjD5S+1e5KviteAs21LXONas2LvYWtrO3mfnEfOH/VoGEQdDBCsCDQR8Br4HnAxlEgIbnSA2KSEytDJ8M7I0oDxXP5E0qycSHIoRv//Y6+TfZd753mzdZt/t4dvkduRu5wbvwPSD+Sr7xAE2B68IjAnnBgMIiQgNB+IF9wOhA6UElwRZAyoEgwUHB7UECgAW/YP6CPiO8ETqtuV/3wXYvc7XzaDTdNpt34/lGPCj+Ib+tP9UAukEWgR4CDUNrRCaDWMJyg51GiYogS5bMto3+TtGQO461CzGHaERtAoYAaTzjOmc5NPfctlz1ifaHeK36WHyxfoO/yD/X/6DAuUF6wSrAnsBMwRXBXkEsQPdA3UG/AdZCVcJygmFCi4GLwB2+Rn0ce9R52bgB9yl2HvWwdW+2CfcP95P46Loeu6W8xT4BgMtCsQJ7weRBZ4G/Qb9BAcFPgq/E64iPjOEN0k0wDFRNIc5iTJ+JTMfRhviEOkA0vC75fjdAtaq1zDf5+Ko5UzrzPNL96P16fWa/aoGDgr2DFoNDgu6CDcIZApFCWcGWAc7CmoJbAi0C1IPyw0kBfL+Cvzl82voxN291ZLOvMY7wuLE4coQ0W/aKuVe8f/9owb5DXgQ+gygCAIE2ASTCiwNlQsdDHcRrRiFIHAlhiz+MyA3tDwCPDEyMiP5FL4Msf938dnoF+dH6NbjzeDu4UbikOOb6pb0HfyK/p3/KQXnBW4ChQAZAP8DageqC9wO9QxWDGUNRA/5EEwRJRNXErwL0wU1ASj6lO/d4urYrdMgz9fKo8vYzWHQNtQY12jeROmG8836Pv+cA8QHpwveDEYOmA/jC94HdwqZFR8mnzLHNuw4MjdYNO0wvCYBHmIVtAwcBJf2eOuP5VHk7uNe4yXl7Ogs8OD35Psn/BP62Paq+UUARgUiC5gLCQtcC7cIIglCCDEGmwjOCy4QIxVSFe8UthPQDdgHr/5v87DrnuP32z3XU9NC0rvSRNFM0bzTfNp/4pDouu/59Q38Hf8HAGYBmwFjAgkEgwmUD+YXiiCxJ+kxfjR6Nl06czxFPtQyxCPWFp4IfPqC6bLfwN2t37fgxNxS3S/k1Owg8zv1v/f5/qYFpQY9BnQFSwWnA9wBJAnRESsTMxB3D04WrBn+FB8SKBMRF38WEBDgCrAF7/+y9TXpbeA02KHSpM5xy9DMAdLp18ncIeE45sruQ/W294P4ffe5+Oz6U/50AZ0EegewCyIXhiIpML86yj8VREg+Cjm6NJQsNySwGZAOEPxa53HYA9OG0o7Nb86p2cDo0/AF8lj0EvmP/hb+0v+7BfoKuhCSEJkOug3RDJIM3QsYECgXqhm0FxMWkBgvGD0QJAo0B78C3PpW79PpLugc4SjZHdWk1NvVyddH2kfgOugO7rTzhvVH9W/37fd29ZLy6vPT+BL/QwRhCE8QFhqcKGA4ckCmQQE9uDzePuM15iJUD+8ETv578yfoWeG03+vcWdeG1RrY1twi5qrwr/ng/Ej5r/reAH8GwgflBooLGxLWFrcV3xDgDrkQohOpFKEW0Bn2G4UYVRFOCs0Dav6h9ATr4eSw4D7dodbl0SPRD9TG17nbceP66ofwoPT/95T7gP1C+vb2OPgj+dv61P4fBC0MDha3H9wsnDgTPMc85jm1Oqc7ky9jIdIUiwck9uLgK9em2lzcYNfA1C/ak+OR6NXqGe5w8y/8agMwCZMIPwXJBx0IJAahBncNURSjEpwR+RW7GI0TXA5KFNYd5Ru2EPEIlAXQ/g3wWuNd3h3addRW0HXUrtub3YrevOIW68HxPPM09Qz43Pgd+P/2ePjS+Nfz2vJR+RUAkAYtD3kbQy02OzBA1kDzO1Y72DwAM5shXA+DBtj+cO1X3GjTZtRR1Y7WVt+J6pjxsvJo9IH2Q/ZZ9RD4dP2xAAoDhwE5AiIHpAtYDj0NdxRJIJoksyLWHeQdNxy9EokMkQjqAOP3qO215t7fHdec1I/U5NXC10fdmuWg51jqOO7Y8TfzM/P29XP1dvOZ8gn32Pvd+1L8uP/sCM0RzhlIImcu8DttQIQ8xDO2L3Uq3R4NEn0H8QAc9PnoneSR5NbiRN3C4+fugfZJ+Nr4afu295X09fEI8orzjfeUAesDVQHyAYQJ2Q8MDZ0PaRq2IRofaBqiG5gaNw63/wb8Tf1x+v3zguyy5XbhA95t3Pbb2tpF3RffLuEH5dfn8+iP52Dqxu2M71Pxf/PB+pX/FQJCBaQHngtDEdsaPSXsL3E5xTy5OtAzoC+DLIkgAxG/B+QF5gBD9f7svetF65HlO+EK55fwLPTr9Nz2ePdi9jby+PDJ9M73E/5TBScLgA9eEMIPwA3/EMcY0x0UHlQa9Bn3GGUPrgGO9vTyavTp8X3ruOY05Xzkwd7v2OjXP9ls2tTZtd936N/pn+fz59nspvCg7w3wtfeR/7sDRwZECUoPJxNAGLIfvyqSNxY6eDgsNug2WDdYK3IaDQ3RB9kDqftz9BfyE/K87KPmcORV6eLtBO/+8sjzDfZA9N/vrPAN8AD1pPuNBJkQ1BY5F8YRURJCGUseViDMIJMksyQkHR0RggTO9rfpiuS14S3eNdqs2QzdeNo41mLVZNgy29PbiOFS58Hpq+td7VXvpO9J8GP1OPt+/asBogkcE/kZsR2+I1QsyDhcQHQ/YzoBM/AwfikTGi4MxwPXAJH56vJM8gj3yfjl8XnszulS6y7uIPHd8orx1vHT8AbzRfXb9wb9F/8KCG0Vhx/+HyYaPRzrH0UgnB1XHCYfMBtyETwHXfrg7XjlDOE/3r3ZkthI3KDda9rU1WnVq9bS1lnZmd5W5W/qhOuO6jrsQvBW9bX5z/tFAdII5BCOGY4fwCQ4Kd8wGzrkPOg5ATKvLJMpdh/gEtsFHP0P+NDwNO+A8vv39fkV9Ufx0uxy6jrsHu8U8gnzQPO59Fv3Xfk9/mgB1QOdDeAZSCP7ITgfgiIEI1wfFhlIGXUaShPACQ0BTfgw7mHkO91e2k7Xf9f22nnb4NvH2ALXHNVo0uDUXdgY4R3q3O9p9CX2O/jp+sr9WQHgBtMKxA/3FtkdkyRqKMYuvDPMM8guXCivKbAntR0ID7ACFf42+M3wwO0n8GHyyPIO80zzNPFb7cbvZPSJ+Nz6Ffto/Wb8Y/1MAWIBggOaCpQV+R30HvMfhSE7HqIYEBaKFzwV6w0BCEoC7/pO8XTnd98c2XbWC9l03KXdn9+m32LdPdqL2DLaWNu64EvqY/ML+C/4Y/zRAUQD+QFmAdsEIQwXFfgeCCiULXYyljTUMp8txilLKmgkphgtC30Dsv+x9AXr2ujy7TnyYvMo9kX3UPSu7bztw/J993z6vvou/lz/XwHZArIBJAaZC1ESYheXG1UjliXnH+wYBxaPE2UNZQZkArz++/au7h7nLt9E2NzVftjD2mvc/OAp5lTntuS84OvdWdz93e3lH+718nT1ifj6/UsBSgNCBLEG9Q2EFlQhZytQNFQ7Rjn9MUEqLif1Jb4eNhWeDB8IDwLv90nxYfBt9BP20/Zn+WH7R/qO8zzvSe2n7hnzA/cV/TL/swAgAloDcQnZDHQPqxIlGF4hNiPtHkcbyReqErgJ2ADC+2n12O226BDk9t532YvX7tmT21bcz91B4BjifeH83czaNdp/3BThNuVT7Pnz9fgc/a4AzQbSCFQJCg+dF8QjaiwONlY/GD4FOHMvsyupKN4ddhNGDKkIVAKY9+3w8vBk86rz4/NI9TL4BfiZ9FrxdO2m7jjxRvMr9s343f4FArMDxQj/DdYR2hN0GWEiIiXTIFIczheoETUILf5A+Ozxi+0s6o/kvd9Q26baZdqy2NvZF9z+3cLee98d4Hjf199q4rfkVub46cPwCvg+/GwBaQiwDTwRARR5G/El2zCsPNdBwT7QNmcvdivAInwUiwk5BGMA6Pnc8pfx3fL88V/zm/Uf+NL5Lvgp+KfzJu3V7KzudPOE9mD6gAACAxYICw+8FAoWFxVyGUkeER8KHKYYURNdCUoA9fk+9Tzvkunu5lvkleKa4Yrg0N0e2dbXG9kC227epOHb41vjEuQI6Bbrau397xL2YPzj/7kEkgrCETwWQxnPH8EnLjMQPBQ9dDk7MxEwZipoHPoN5AOf/gL4Ve/S7MjvqPPz9WH43fol/MX8DP1r/U/4QvH67LrryvC09+P/lQbZCwMU/hm1G7MZBBljGm0ZXBcUFdYR+gn6/2n5cfRk7gjo5+OB4rPga95u3gvffN/U3kLdFdxp29fdCuHo45rnX+wF8RvyBvOn99b+fAR+B0cKeQ4HE1YXRh7rJRQuezTYNRg1HjIwL0sqZR9lE/wJ/AHB+XHxAe1Z7oXw7vMM+Az60fuY/LP+fQCm/jL82fdW8aTts/Cx+T0CJwjGD9oXxByiHW8doR0wGVYSPg13CvgHAwPN/Rn3++7J6OPlY+TL4AHd+tzW37Hg099g34XePd3625bckN9e427oee8V9mb6tf2LAr0HiwqYCi4JTAr2DXsVyR/fKsw20DqlOXo33jRWMtElVBW7ClQD+Pqo8G3r4O168Bfx5PTG+af9nv7y/AP8Avcg89P17fhy+cb3rfcB+xQA/we0EdQXDhq/Gh4deh5vGTAThwygBV7/S/kf9pryNu+P7JLpiOff49Lfbt4J3ojdLt2p2/faZ9xU3uzgROSL6M7tRvTf+aL9AQHzAwAGxAWTBD0FswiWD1UZoyVnNj1DJERqP+g4nDVuLywe0g70Bfz+k/ZK7ozugvN49Rv4cfuV/Jf85fno+UT4De+u6TnpZOy48J301vxRBvMP2RWXFZkVGBimG/EcQhigEjsP3AiDAfX6RvYV84/ugO137V7slutB5+jhTt0v2CXWGtZ01KrUptcI3Vnkh+qZ8Lr2vvuA/dn8PP7GAP0BdwFiA5IJfxHNG68m5DP0QQNF7D/GOekzTC9HIUEO/wOs/j35YPFH7UbyBPe0+Wz+PgAd/2b81fhk93/uouLE38Lh++ey7pj2PgHMCkwWtx85JB8mxiP+HZIU/AkmB1II2AW7AqL/lv6Y/BD44PWq8Ubsceab3yfcr9c40f7NosydzKPPA9XG32zt6fVk+aL79P2//VD70/m++er5E/szAqkOGxw2KP0zD0PHS+RGrz5KNxowgyPnDK39YftP+TL0KPCA9UP/xgEqAeEAPf5U+ZXxT+zq6IHgZN0d4qzoCfE/+SgE1w7dFyMfiiBpHg8ZKxQpEqQOmgqnCOsGUgZIB9IGagR7/0X8HvhV7+/lEdps0WHNFclgxsvFjci7zs7X5OFY7hD8RQPvA34CTQCy+/j1SPLT8vD2+/0xCq0YoifyMm88g0j8SZBBljhyLlwk+hGn/Hz2Mfnt+cL27PVX/cABwQB1AJr9RPh+8L7ojOUR4Uzdi+Jt7O32DAEFCl4RdBadHAcgAh1HFhkP/wvrCR8H8AfJCQwKXwtbDcQNFAkxAaT6APGv5e3Zls5oyFLE8cSeytHRbtqV4mHp3+wn8NHzFfUw9Qb0IvOY9Cv3Evr0/rIEzw1WGqIl2S+KNdA6JD8AOjEz/y1GKUAi9A/8//P+7wD8/nT5vPfD/EL98vvh+xz38u+v6DnmHuhx5QrmsfAs+gkA7QTQCYAOiw9dEXcSUQ8iC24IDAsRDZILIw47EnISqRBLDhEKeALw+TPywui633PXZNIv09TS4dIt1wrdcuMh6YDqGuev5VjoH+xs727xvfLH9rX8dQAXBi8NkBQlHDohmyYGLMw14DwINzkxaS3CKesjxhPXCGsJFQjMAnD8fvp3+of1rPMh9H/vK+ut5xDok+yL6TbqYfS5+4UC0AZNCeUKpgnwC6QMewoUCBUGogm0DSMOrA8HE1cTdxF8DskH7v9n+dLyXute5GTcM9cq127WqtXK1sza2t+r4wHmL+WL5h7rD+4j8mf36vopAHkDLAMhBYAIURA5GQQgbCaVKrozWDlMM40t/yqUKoEllxZwDNQMlQy6CCIELgIVAGL5bfeo97nwOOkj5dbmquoh54fmz+669Xv7QAD5A/YGKgfjCdELUAnlBjwG3gkYEJkTqxXbGHEYdRWeEkEL7gKP++3xSOgK32/XHdSK1L/VZNTE1APa1d4y4Xjh9eDH4jzmqOcB7Cz1FPpe/+gF/wjbCywN0hH6F7AcDiMIKjg1KzpDM8wtjizhLMcoGhsqDuYJWghuBIX/oPyF+VX2qPc2+Lvyfuui59Tpquzn58zlX+2K9Nz5Mv6VAkoFuwSsBgIJFAkbBlkEGAkFEZIWMBg+G2ccNhpIFdEKMQK0+27zdekT3zvXz9R22FTchdyb2S/aw91k3Vfcwtrc25XgxOKj6T/1A/zNANQGlgsrDS8NyhCpF9AdfSM2Kn0zhjvrOekzOzEhLscouhwfDX0HeQnqB+IBU/7J/aL9Of/O/wv6QO4T5IbiZeYU5E/fXeWI76z1X/wuBgwNxwvFCAMK3wv3CUIGKQnUEbwS9Q7iD68StRNADVIC3/na9ODwnOmm4iHdOtnh2q7e8d8y3uXb6NtS2wXYq9b+2CfgW+i17nP4rv8LBHYLyhAOEpEQYBBMFWEZVBsyH6EkGS8nNp8y9y0sKX8nfSOdFIMHfwSHBoYEAwNHB9kJvAlyCAoFsP2480jtIe3m6v7hWuAJ6xH2w/w8BMYJxwcvBRwHoAl3BxH/vvvmA0IJCwf2BlQLKA9dDaEGmf3s9m3xvugC4yHfLduN2+TevuIq4gvf3d3R3XbfK96B3qHl8+vq8uT80wVnCrwNuxFhEjoPpgh0B9EKOwxmD+wT2RyyJJgnZSbNIkojfCGPGhQNYAUMCtUL0wtYCakL+A+6C9UMUg1XByz/T/eZ+fv6YfXB9oj9dAJuA20DegZnBkkDe/9l/K/5AfRn9dL8GwH6/6n9TQHvAksBx/wp9dDweupL5P7iGOI44FLgNOXA6lTsx+lZ5/3oC+tg69TsGe8p8V/2sv24/zn+Tf6t/zABUQBUATIF1wZfBnkHUw/gFX0XzRpXG2AZrRfbFqUW2BDiCycPchO8E7IRQhXsGTcXLxaGFfQS7AxYBDYF/gSV/hr66PuVAtQAJP7PAJUAd/4T/Jj+qAIH/vH3o/m1/ab98fqn+zL/rf0S90LyxfC57Qnpzef76ITmYOTH6ETtZe1v65zsQfEx9Cj0VfUV+Wb3EPUT9l/1WvOL8Z/2Pvxv+9v6ZP/8BNQERgUsCoYPBg9nDxgV+RTIE1USyhRTGmcW1hUVG/cbBhhVFUEZuRpoFsESnhJ4EWwKlASiBPgDcv+Y+1j8V/7u/JT7nvwJ/jX+VP1g/sL9cPfr9FT6EPvs9qr25vkX/mj7W/Zr96P2xvGh60Pq9eua55nlsefJ513mF+Yj7Yf1Tvcm9UL1qfeJ99v3gfhA92H0zvQe+SX7rPyx/EMA3QS+A6cEpAZMCtwL6gyzEsYRTg6HEB4VbRh3FsoQGhHlFe0W8xjLGQwZPRgZFQ0VNBTmD7cLeQqbC5oIDAO+AIwBIwHD/x8A6QCMAE//Mv/+/wb8y/Og8iD3Z/jN9uz03fXJ9TjyW/GM8Sjv4O1x7cTtSO9c7WTrwu148BPwWPEN9tP3Tvdq9LbxSfKJ8rvy+PEb8rLyaPRS+br5wfl1/YH+g/2N+x79QQPfBmYHEQhKDdkRARCaEO0S7hTAF1sV9hIoFukY6BcTFoEVEhbvFlkXhBeUFusTsQ8jDVcN2wsaCGcEngI1AwoEvQHr/cT8l/vz+BD4jfjX+Kv57/j49CryOvLb8cXxgPIM8lHz/PQN9L7ze/SP8vru9vDZ9S74rfjp9+r42vkx993xSO4w7bTriOmo5Q7lH+pT7+3xC/Qb9Drzo/mG/04AMAHCAVkE2AdxCzEOPxJ9FrwUThTLFhoZphs4GXAVXhU+FfEUzRSSFVsXcRbRFAQTHhCDC4oHNQmjCH0DgwHcBCUJ7gcIBOQBugCaALgBRgGB/j74a/IR9eH4Cvm/91H3O/sc/pr8Lfna97/3UPcL+Fr2qfLc8NbyGfTr78Lqueh+6Jfn5uZi59boXOlE6h3uGvCJ7YHqQO3K8rr2qPk/+hf+5gL9AkoE0gZKCsoOgA9TDyMSURaxF6kVTRRbEncTlRVJES8Q6BG4DzsMzQiCCdkMBA+GEHQRKxH2DUwLMQx/CisGCAWLBh0KHQsiCcAHmAQmAvX//v7M/0j+RP4DAZcCcf7S9q/0z/dz93HzdPJ/89jzN/L479ftBupo5hrmX+gh6NzmCOdk6bXqPelj68brAOy08Cz20PvY+x37zP51AiMFbgXTAyQE7QO3/1j/lwNTB38HGAYmCNsIUgpeC4ALHA6TD38TjxLtDAUN/A7qEHAQ0A7PEHsUYBVCFEMVbhYTFQoTPhPFEm4P0gpqB/sGOAXXAxkEOwP0AXz+Y/tX+XH1LfJs8ezxi/H88cj2qvul+Yr0JPJV8Jfsyul760btJetu6mDv3vG37rHsJexD76nyw/HJ8lr3z/qE+uH7Kv0r+xL50vdT+U/4r/YY9/z4NvzM/OoArQLWAYkC5QITC1APkQ28DLILBA+BEREWzhgJFDMUghiOGpMZ4hWHFh4c6R5OHtUauhfoE2sMxQkrB3QAxPow+jUCrwZ3At39+vwP/G341/fS9zn1u/Ng9er3avV/8I3x3vVt9f3x2vHs9nn5fPZ19Qb0V++U66js/u7b6/ToY+sc8VHzPPDe8g/5Hfgs8rLvk/O99X/0yvWe95z3ifTj9Fv9wwCc/xMCpQRBBwgITgnEDdIOQxGCF5sYIRgGGegZQRz6FzkRehMeGcsZVhTIElYWPBb1EzkRFRH2D7wJxgcmCs0HUwCQ/Cf/igAE/ZP6p/0h//r8RPo6+YT5IfZ69639g/z/9/b1w/fu+df1UfHN8ujy++5+7L3qH+of56Ljl+cL6ijrs+1q7gXzbPPV8Wn2nfVy88f1pPbR9c/ztfVF++b8nP0P/m7+NwE5//7+/QMCBb4Gxgh2DU4UFxcgGtkWjRTqGaMc/R0cGIgQwBINFfcRJg0yDzMWoxeFF5sWfxNPEH8IfwU8CNgB6fqp/VsEOAOS+xT6VfvB++j5nveM+YX2t/GD9gb+2P1J+Lf4WADy//D1Q/IC9GnxP+zn6bHs5u1w55/mde5q7krrEu4c9Qb5WPMc8Enw0O6s7GPs+vFi8q3uUO+g9MP5/vgv+1P9H/5/AiUHLA4eELcP0hR0GO4bgB4xHRoeuh8pIAMj8B6QFjoWSBftFrET+xDqElYPWwuxC9kKAAez/+7/AAXx/xj2efMO+5L+sPYT9f76Y/0f+034MPud+lPzEfP/+sH+RPbs8Gj5Fv4Y+Wv28Ppo//L4zu7d72Hz9+wz5oLpBu1e5/zg8+Gv53rm4OF35yHt5OxO6qvrWfQg9c3xGfTQ9wX8jv85BqwLCQoJCNcN0xglICMmTyu8M0U4gS5vK78tdyuwJZ0VyA2JEuQRjguKB6oMLBCqCmgF2QP1AtH5gO6370nzd+0+5zfsm/Wq9TrygPebAQEE4f99AccGpwTc/XgB5gs5CsYCwQN+CXkJhP7V9sD55Pb77X3qeus+6oXhrd7x5azjRNq21czY6NzA1mrRC9fJ3sjfpeHB7X347f3aAp0HkAy7DHQMkhJtGXMcoR/VJlcvjTRlOpI/oDi8MZcyATDAJ8UVRwo0D14PowZiAS0G4gfdAKT8YfnO89fp8+H95azofN9D2xrn5fNK+fD7ZwKpDWwRmw54D+8PEgsHCAoLSg2OCsoFiQd+DO4I5AD1+2/5LPPJ6jXlBt4U1q/QFdKc1oPScs4D0zPZL9qL1v3XDN7h4YvlHO1L95j8AAAwCLsOPBD9EFgVPh2wIXUhnCZVMaY5X0I5RvNA+D1OPJY38SvDF+8MAQ0mCOr+vfmM+437Efbt9B33NPKY6B/n7+ni4+DYzdV14tTu6O4J+FsI0w6WENoRvxd6GQ8QFg/KFY8VPA1fCPgPbRFnB68BUAC8/Efydec24pjZrc33yM7L1snkwZHCwc2b1XLUsdXc3oPnZuo264Lxn/gL+xcAZQeYDOsO9RFRG3IkFCg0LKk1zEBkSmxNkkWjQOk94TXXK8UYzgvjDMQIMAA0+4v8Kv1i9u3vJe/F7cnjQtsJ3VHg3Nto18PhP/Ca9kf8eAcbE6kW9BaiGs4c3xcrEgIWFRs0Er8J4xBaFNUNLATT/l0ArvO34azZcNPPyiK+3L0lxCXAMb2AxIDRwNXd1q7cOuY98MfvBPRu/sEAqQKFCm0UtBbJF4QeJylhMsAyIDd+RMlQRk5IQ8ZA5DixLOEdeQv2ByQFRPqH9cn1TveM9g3zjfCI7LjkWd9J4HLjAuLN3/fn5/SK/H8AUQrmFt8ZoRrXHUYgtiB2G3kZix5dGnQOHw8qFDIP8AOb+PT1HvGc4R3TJ8wSyRi/8bYsuYG767vbv3rKNtRB2XPdMOZa9Ef6MPi9+iUCsAUnCKoOHBMsGAId/yRkMY82wjc5Pc9MSFB9P5Q2lzHtK8IbpQAd+pT93ver7+PtkPPx9EHwqe+z8vXreuJ943zoMehE4S3jzPKbANQDdArXGtIiMyaWKE8ouignIkYdmxySFz4MjAWnCWMGqv5d9jTupuks3fLQI8hPwZ29Kbp1vZXAHMM3yTnSVt3940bpUe0Q9B/8RfzF+9/+bwX2DbQTGBfLHYcllyuBM/03gDxmQhlJt0s8PoAwVyjjISkVO/1J9ZL4QvZl7/DoxO9x9e/wE+6l7kDslONa4NDlIOhw5KPmavXoBMEKJQ+gG9wnDSwBK00rhilEIc0bAhcFEMMF3Pxz/9n+bfaR7fnnX+Wr25zQF8kxxF3AIr2PwGrDysTXysjVOePW6lntUfS6/swChwLSAaEDfAhQCu8NBxPNGFUf7CZfMbM1bTpVQ/xL4UnmN9ws7ycCICkNDPWu9N758PIF65bp/fKG9unvKu9I88PuKuTF4nvqqOwE54jq6frUCfEN7hFrH2UqMC08KrAp0ygIH5MYFxRIDJACG/rl+j77NfR569XnbuUi3CbRW8g8w5S+wLp0vU3CFcYHzCPXfOSC7pfyLvo7BnUK9gn4BkwHugk7BjcGXgtdFJUb9SDkKms1LkBlSXhQZ0p6PLo05iqSHzkGke6o8VH0pu3L5dLmP/OH9yLyyfEG+AX2kOyJ6D/qmOiB43jpz/kyB7UKmg/FHWcpqytqJl4nMSnCIIsYlw+oCPIB8fcL9FDzUfCw6kzntuXq30vVtMrWxkrFvcIjv5i+wcXAzubXwuJb7or2FP5wBY8HIwkMCFAGMQd4BY4EAwrQE5obYyNQLTc6AEhtUgRVAEpEQKM3nivxG5n9jO1V737rLeXZ3gnnEPTj9Hr0avja/Q/5M+5x613rl+Rk36noQ/jhAbQGVBK7JBgwRS+yK6Uu/SufIr0ZMw9qB2P93vQz8c3rP+cP48ziQuLj2wLU68w+yjXIOMW9wbTALchY0XzZ5+Ia7CD2sQDVBi8J9wz8Df4MtQwUCcsHAQz3EagaaiTMLsg6Nkj0VNJSWkZTPUsywCfXEKryBu3g7bvnbeG232jtXvb68q/ymPa5+H7w4um37HjqzOJ14lLvS/6pBO0KFRvvLYg0LDD9Lt0wWizRIiAYrA6oBfT67/KQ7B/ma+D23Qzi3uJS3bvWDdAFzYbJlMNjv12/d8ZDzjbXn+Nr7rr8ZQkfDjMS4hVUFpEVghLnDB4NUQ+aEtcbKSTWLf42hUQwT45G1T3jNawtMyGXAGfsJe2c6GTeWNXG2YDn/+nR5yXurPUs9SDvNPDw9Hju7+bG7K77RwVOBvYOoiMANHg0cy8+MWsyfCs5H70UDA0oArP2oe7D6VjkUNx62sjdVN1y2YvUCtJP0HbKzcTgw/7HM84D07TcvOkQ9dACHgyoECEWbhe6FxoZrhXFEb0QjxCUFn4erCWbLlc5c0muSp4/cTqWMxsuYBeM9fTrB+m238DUJM/32UrkCeRl553wz/XI8wDzdPkW+8vyJPB9+VcENAYtBtcSASZCLwouaS5YMn4wSSYxGgsSKQn8+17wW+hn437cYdUw1kXYudfS1DXSktNp0f3L18htyxTTT9d/2kPjcu57+qYFeQtoEOMUVhV6F7gYPRVNEsoQKRTJG+UgwSZML/U+5UqiQgo6YzUvMbwnUQeT76TrRuPp1yLOLNIY4Xbm6eaZ7zH5Wvm+9Xj4h/5++hfzG/cSAyUJ4gV1CssaDChsKkcqrC9NMhQsLSDgFlQPlwLD9abrHuST3WfVhNKL1FXU+tIU0u7UDtgK1OXNgcsh0c3YB9tQ32XnQfJ4/hgHoA1VEscTGBScFUQVaRG6D8IS0BkwID0kRiuMN95GK0eOOlM0Zy9pK+4Y0vou8e3sPeB60kPNeNlu5XTl+uil9f37S/n59lb8m/6U9BjyfvxcCFgJEAeAE/kj/ynxJsYpnzAGMI4mFxlfEfMGcfr58DPoVOL22qzVX9UD1lDUnNF00eLTFNX30LLMaM0f1f/aud0y5VDu3vryBNULWRKNFLIVYBW9FrYUIg+CDycUphugIDAmgDAkP25I1j1/M9YvOCq5HxIDq+6I73LpX9tM0UPWEOek67TnS/Df+nT7E/bG87f5AfUa6zbxv//GCNgHBA0FHyotEiz2J3csgi8SK7YeGBSFDOwAePbu7Ovlc+CC24vZ0dkl2c3U/9DYzqLPDdBuzXLLhc711crZEt/050Pzuv94B0QNdhGyFWoYchlHGj8W3BORFrYayB6pI9AqqzRJQhJEIznPM7otASaiFPP1I+st7ezkTtn00jfd2uu962Ptd/oJAnj/5Pco94r6rO+46CnyFv9fBRkG0hG6JogyjC/6LGgvKS5+JrsYPw1KAgj31uzO473ebNoO2T7Zptkp2fDW59P70YPSv88rzYrMYNCH1ybdWOU774H7LAb+Dk4VjhbiF4gXDxe9FCMQlw7/EaEYVx/HKO8wBTsnRsZBBDgUMbIngB9+Bxfs7ejH5hXfx9f51iLnWvCx7bPy3P0LAj78y/cL+4j66u8p7Nr3MgZ8C2wPKh2LL/83WTKsLfspjSJ3GBQKF/9J9b/qjuNX3/zcQNtb23DdU9/d3JrXZNK+zy7OecrEyTHM0NGb2WLi3+3G+Z0F9Q9gF9cYQReYF3cW6xPZDpsKkgwdEcsWDh+uKV8zBUDZSIhA/DU6K8kgMRaV+ILiDuF+37TcXtlv4H7wDPeD9h3+uwYwAxX6GPb++pT4OO6874j/nw6HEtoWrSMONBI3Wi+zK80lPR0ZD2kBB/nj78jnxuFD4cDgVN8W4JbhceBX2prTQc3Yy9fJkMZuyJTMOtaG4jnt6fYwAZULVxQAGEYV8ROnEVwObwu0BuQG6wlTEJwbVSUzLu424kPaSaU9NTGJJP4aPA7g8CLkqOZN5NzgwN6Z6OD3efxT+cv8XQDJ+3T2/vVI+U70tO/z9QcE4w8HEkUX7yO9Lp8rYSSBH3sYoxIDCAf/wPhu83/vMO3G7D/mKOM94lzgx95W2IDRtcuYyAjH4MjdzQbVH9+p6Y/07/whBfwJeAx0DlsMUwo4BnoDgAXWB00KxA+CGS0mpTAMNsg8IUYRSIg5NSnRH3AYPA7Z9XzofO5L8eXvSex086j/Vf+4+Y/4h/o39svruulK8q7y4+2U84gDhRXKGrQZ5iB/Klkpqx4KFewNPwjyAFv72vrq+4j7LfhH+D73s/B36czfhtis0cjGZ8Dqvk3AosVczOvWnOL66c/y1vzoAZAC3gC0Ad8E1gMyAY8CyggqD18SwRYvHv8n2i6OMU01gDv+QUU6mSnmIOIa3xWsB0f2CPl3/tP5wfMK8ur5UPtt8bPsD+3f69zlnuQn73b1SvOw9U8E+BQcGY0WHhkiIsAjIBqnEiAPgg2yCR0FFwQXA7sDxQKaAI77zvDv6FHhFNrK0pDJUMQvwYvCW8eFzITTMtpg4hLqM+8a85X1vvjz/GcAEwN5BuIKoRAsFSoXgBptHScgaSM9JnstVTP9N6Q8hTfqMFMpHyITHWEMF/4K+vv4M/eR7rPrufIr9l7yuu907iTtkewe6k/vFvP/8BP4zAKkC7APVxCgFT0bMRoYFxEVeBIkECANMA64De4IUwYBAob+L/jO7oPnvN5A1+fRJM3nyDzGVsbfyuTPhNTN2wbgWebm7VXyXfa89p36EANiB7cINQyBEGsUGxazFkcc/B04H8kkWyoRMdgwlDPLNkEvzibjHWkaNxPFAr36NPrP+9L3U/Nh+Lb6S/e+82X0N/fa8+XuqfFO92H0iPDD9XIA9AiBB20HiA9kFL4T7A5uC1MMlAo4CZIKMQj/BAMCUf7X+3L0dutL5j/h5ds31m/SI9Eq0m3V0djc2/bd6uGN5tjoz+mT69XxqvhJ/EkA/gShCUUOPxAeEjAV5RYMGRMZlRkTHHUeiyOyJwMvBjSALisoEyMhIeMaeAvmAXgBTwER/bD5kPsAAAL+zvoh/+P+fvlY8nPwmfWK8Lbpqeuf8wT9Wf/cAJAFrwjYCJUI4QdNBOMAdwDwApEDsgCq/jn/mABK/zH7tPWE7w7rb+n35hfivd3Z3GHgX+Ot40bkNeZ96bPsxO7h73bwb/Ii95z70f15/0gDoAi3CzAMmQwQD2gQaxHvFLgZCyDvI58piS/xLC0mSR5mHMEbdRKkCbUFBgb4BXgCJwOZB+UIxgfGBkoEp/1y9BbwovFd8cnsM+y58uH5fv1d/TgAEATHA98CzgC1/w79k/iW92340PoH/aX+jv87/3P+efwd+ov20vK678Ls4+lv5z7nluhR6gfrSusr7B/uR/C18YX0m/Y7+aH8c/+4Ap8CBgP4BDAGeAeABo0IbQzxDUQP5Q8DE2oXABtmHsIdSBrsFooVTxQMDtAGyANdBCoFxQOXBNgHhwghCBoJBgsVChUEygBnAugBR/3U+EX6XP5//gP9j/6HAGv+2foV+uf7UfrE9db1QPn0++j65Pgx+rL6SfpP+Z72lfKO7R7sGe5g73nvRe+s70fwNPGT87j1F/Z498/6Tv0w/FD5Lvo0/Rv+df2M/Yn/NAHKAR4EdQcpCeIJRAqTCyUNZg2QDWYMqgrvCCkGdwMkAj8EowZqBgwGvAggDdwNFg17D7MUvBa2E1IR4A/WDNkHowXXBgwGwwLyAHYDkwQCA9sBaAHKALH8Ifqh+QP3ifP98P3y2PWD9gD3tPYg9vD16feC+3z7k/eb9HLziPKm7wjtJ+/t8mb16/W89T72Q/aB9XD1dvfO+N75gfoN+3r8ifpI+Qb6/fuA/g3+ef+uAeQCWAJZAIsBNQOYBe8HuwpZD5oRiRKGEWIQFxEgEX0QPg/GDhMPeg+7DwURRBJ0ESYSuhPLE2oPUwjXBSEFgAGT+4/4K/q2+pP56Pla/MX8efsK/lACcAGB+nP2YPoO/x7+HPrA9+f16/HC7knvhfDz7zrvlvGX9LjzhvHz8L3y1vPg8i3zCvSF9IvzdvJL83z0svWM9tj4iPzC/7cBAQKnAgoDdQIhAaYAZwIWBR4IBgrFCwUMvwqGCwsOqxJTFG8RHQ+KDlYQNRC9DU4NVQ4XD4wN6AujDMoMCwuTCQwKLgsLCTgFFQXGBpMHowb/BdsHsAavAZT9YPyk/Kr6tfdW96z3yfQI8GrtUu458N3wP/JH9Ff0EfJ88J3xkvI28QPwW/Je9s/3u/ZS9sn3rvjQ9zf30/cs+JX31vZI9xP4j/d190r5rPwUAKsBCwKHAsgCzAJOAmYB1wAwAYoDcgaXCQcL8QoMDTkP9xJyFFIROw80DqkQMBI9D9YMVw0bEFARWhFREgoUvBK/D9oQ5hIjEGEHlQFABAwI8wUEAA78OfkU9HbtZOrO6LvmP+dw68DxrPJ48HrxifUr+fj5XPu//RIAhv/1/az8qPm/9oPz2fK69Jz3Pvmd+HT4Dfl9+iD5effS9hf2/vQg88D0WPWq9Hr0ofb4+0n9Gv0//r8ADwN0AxEExwW5B4IIegkTCqQL6Q0sEGgSSxSnFtYTlg7WDNMRWRlkGGAUIRVmGO4WsRCoDWAPNg2MBJsArgFSAWP6z/FF8q310veP+GX4evhE9jb1Uvjt+iH6xfgN+Fv6TPwv+9L60PgT+D75W/nd+bf5l/ro/OL9IPxY+KPzd/Cd8AXy3vJP8Vvvfe/p8Pbyn/Pm8+X0lPaK+k3+PwB0ABX/JP/3/2UAQgCj//b/5QB6An0DZQRYBWkGagiyCqsN5A+qE0UZvR8VIgwaAxAlC20PGxQqENoLcQzuEPEO+QfeBScICwgqAdz/QQa/CfwDzvtK/aIB8//g+Sz4J/or+Df0FPS294j23vFm8F/0w/cw9W3z7vNT9qf3Yfcg+Gr3rPb09rn4dvlD+Of28vYI+cv6iPz++w36D/d39BL1j/Ww9sb1TfS59UX4evvO+9X5rviF+k/9x/7d/ab78vzk/lECXgbECXkNEw3uDcERkxewHDgdmx2OGmEUxA/IEPoWmxf1EwUVOBuvHXAXXBFtEj0SnwnhAXoB4gIV/HnxHvHB9NPxNOpA6O3tJO4W6M3nJ/DC9cHxR+yx7o31u/cX93v4j/y8AA0CtwGEACH/4f/9AOD/cv65/Nr71fnd9r/3fvcn9f/wke5G8AjvS+wS6pHr5u5r8GHxgvHd82v2S/uVAL8DvAbnBfgEjAOfA/EG3giUClwOQBWXG7wfviITKWMsVyU7HpMdkibiKk8i8BvjGYoYjhBVBccDbQSL/oP3kvbp+i75hu486Zzs3e+t7kvreeyk7pzrHeky67ruhvBA78jzJ/8nBfIDdv3M/IQDywSnAhEAngCPATD9k/uN/lX+bPeF74XuzvLP8m7vBO6y7HjqtedI6Vjt3u3c7W7xHfgK+5H3vfPd9Cv5iPyp/n4BIwb6CZAM3BB7Fnkamh2YIQcoYC3ULVcuISqyHjQThhIlIIgnZyElGfcWaRS/B0399PwL/Xf0h+4q9hn9kfQe5FjhAegy6XfnpurE8kHykewU7671TfY08Rjyt/xDBuQGBgSiAL/+ev/d/xMCvwG2AIUBR/9E/iv8SfdA8V/qe+sZ8vP09fI07YbpyOlu6fno6OjH6VruuPKn9DD2AvY39ob3mft8BegMjQ0BDUoQuBeuG4QZbRrGIPEmDix7L/AzWDKmIQEQ3gq4FX4hkR2VFOEPgQ1LBub7XfkE+3P2sPCv9XD+v/pL6OHb/OFG6vbseO1x8GLzbO/S7h313ve29cT10/7CC/MObQlpAjr8bvvB/fYAvQIAAJ7+Mf7W/D77Y/a88fjv0fLv+vr7+vIt543eed864qLkr+ir6iDuWvK/92j7evmC+bcAZQwNFIAUchLGEHMNyQv6D8gVtBoTHZoiGCs5LN8p2iRTGTkMKQdWFBQlUCEhEiIKzwkHBTX5g/dA/m78TvVO9jj+pPgC46/YJuNd8Ef0JfOO9xb5S/A47m/0h/mr95z1wwGsDZsLIQHn+Tn7D/6LAnIJhA1uCRIB5v0K/iv51e6h5zTole6K8+TySO1h44Ldv+Ao6Xfwk/Ex8ODyAPmd/nH/3Pyn/bACWAlYDKYLtgooCYQKtQ6lEmwUkxUjGkshNCQiJP0nDyV6F28JpAueH88lzxgBDR8Mdgx1AXz5v/2C/t/y5+xx9w7/ovD43HTgQvCc9orydvRL/Db3LO5c8Jz5z/oj9aP73Qz/E4kLPAVkBtIHlwdIC2kSoAzh+gDxfvZv+1r0SurX6XDwhfB47TfrvuYX3/3bAOjv9Yn30O5t67fyS/a38ybzz/mrAYYFawjQCpoH8v8RACEJ+RC0EIQRIRv+JGknvSQgKbUrsx5YDb0JdBpuJvEaUgvPB8MI4QHe91z89ga6AKL1vfiiAir7LeEj2CTnbfKI7ovrjPXS+zT0APJm/sIHOwUsBN8RPh+JGIwL5wVABcADhwLeCe8NnwMe+DD3V/oW9Fnmt+HA6PPsweu56YnmVOBw2ejdZudn55zi8uTU8lH6b/WF86X4EQDbAr4GhA0QDH0F+wXjD2AVMhCVDhcZAySiJa8jmidPK+8digu4B50ViyVGH80SZhCKD9oH6Pcv9OH8CvoH8GfxpPvd+tTm0dvE6Wn2a/Ym9nkCow3IBrAAKQaYC8wFHQH9C/MWgBAwA1gCJwiFCf8ElgU1CZYBc/j580Pzdux6303dbuNa5xPjw92r3L3bLNru3gvqyu/l8LTxYPnY/R73JPMR9Zz9gQPbBjEMtwu8BiMEdgkCD8sNtgzZFmMjYCdNJUMluypdHuAIsQHDDmEibRx7D7EOjw/2A5nwZ+/T+iz7bvBv9rAFdwMN8eLnEPia/3z4G/n+CLAVoAubA7wGAwkcAssBvRTHIXEbAQ0GC4MNKwW5+Tv2bfkc9svw5fBu8czmp9ZR0rbYpt7u3PzdI+Qm5iDiduHv5nPobedY64v6vgMC/zX7f/6+Bj0GvAQxCI8LsQs3CZcMmAsrBi8E9g3QG1ogsyM5Kg808ShCD0UDRgn3GKcUHQwOEdcTMAnM9APxPPi79Q3uXfiDDMEKwvhV8S7/ZQI09Eny5wJ8Eu4Otg6cGB4YtQmlAdQPKBrXEDwF+QfnDdkEuPfZ81vyFekZ4kPovO+e5jzXF9be3cfeFNbT1cffBebH5tnpn/Bv78PrrPAY/d4Bmfy9/RUFAgmLAg//oQEWAi4CPgTrDGYO5glaC38UxRzRG50dbCajMNQlfAw5AD4H3RadEUIH4Ax/GBsXFQZHAHkBw/mx7PLziQlDCUD31fDvAe4H6PoW9jYEMhJLDr0SNh3FGtAJKwBdDv0ScwWA/AoF8A1ZA9Hyteyv6eLehNoe4WLoG+NX2BXc9eJw4LvYYNkv5PDrq+sb70P3J/m091X1JPmm+qz4Lv1+A3wIRQRdA4wFyQSqAWT8vf9xAk4F5AZVDMwT5BakHg8lezJCMD8bIg51ENwiQyBkDqcKkhQDFt4EMvsV+gr1vOWw6acCJgdr+yb3KwpQEiD+LfNN/h4NRAt4DU4cliAeFnMOdRUfEVD6hu/D+VYDxfmp607shewJ4abXwdfQ20rZZNh/4mvp8uOp3rXk6Ovc6R/hfeYz9739Gv/9/hgExQR3/bD90P88AKH79f18BdADzv77+Rj9Kf5+/FABWAutFgUeeimSMU46lTo6J9sVMgtjFVcc3wo+BDoPhxnMDNb1zfPL+hbwPebg9AYD+v8i+AIIJBxIDRX5QP+AFUsXcQm9Du0cLhwrELwPyhCX/wfsb+4I+qjvAtz927LrYuwh3EDUQdqU3IfUz9VG3szhuN8Z5ZP0XPdL7lzsUfvrBGb+G/k2/0kKKQbS/nD/3wEZ/s335vlp+ZL1UvLs+9MJDwoJCBAP9B0UJLAkBymCOsE/qii8F7sRDhqJEMD3TPszDFQTLgOC+H4A9QNX80rpqPeV/KX4iveNEKYjfxQWCnUP2h7iERkAtAYhEZgRrANUCTwQyQR676Hloerc3hzQd8zf2w3jf9kx2eLg+ejc3rHZOOJi6tLsk+zK+QgDJwAp/NgBAwW2++jyrfaCAW/8TfRG9lv/AgIh/Ob7+v3D/eL3O/mC/rMBkQReDuofRCl4MMI0dUOBQ9koaxQoDH0ZwREC+uD6iQsDFrIDcvUj/XQEs/bo7fj6wQLe/Nn0wQrLG2MQ/QO0CmofGRXEAnsCCQ57Dj/9ivwaAUX8lOvL5OfoTOCg0h/OkdvF3qfWftd85m71mO/R6k3uGfOs76Ppm+/K9Er06fQR/7AGfgFj+tL7EAJ2/O/xpPLo+pwA0P0f+iT+kQDGABcANwGTBaEJtBW+IJksQjTVPDpLm0HhLMQW4BHwFML/f+7e8YkF1wmG/df7cQj5Cu/4yPSd9036ZfKG9HANwhMuEY0NNRxDJLIRTQXkAC0IMf+Z8/31dPjY+HPv9Ow56ebf6NXP1efbndjV1SDZO+oc8sXtdO0O9J787vaM8N/waPXf80bxBPVc+Ob5B/iQ/WP/bvot847zvvo6+nX4KvaY/4oGzAZqBSEFrgwJEBcYkh1tK6w15T1CRzA33ioyG68dHx6fARP15PczClAGo/SU9XcCPQX49hv5Kfye/rL2efs5DtEJtAktDuwioyRlEU0M+AsjERMAevPG7y/sl+t75W/oP+VP5BTkreYo5t/bHtlq2vbj/eLM3ffgwO3L+gj4j/Vb9rj9S/ol8jnybfGO8wHxQPYV/Kj4Xvbp+2sF5wQK/hf7ggFvACD4Z/ffAHsNwxOvGX0mkze9QGVMgExTOzUo5BkyIVsWI/pV70v65wia+i/r1/SaBxED3PXG98v/TQE/+IkC0gvHBxgFWw+uIn4beA5+C7ISXg8u+y/yc+8i8FDpyuL04IfgXOTw5kPnkeAi3vnfjeWX5gPktuWR6Ujz8PMx89PyjPcM/4r6+/Vd9AP58fsQ+vz2nfkW+6X71/5e+dX5R/VO+Cv+Pvt6/dr+VwtXE8odKyZNM2NEqUoJV71HKThGKFMemR2P/Mjon+Oc8XL1rOQb6TD5CQq5AFr8JAF8A1H/NPfMAd//EwDwBcYVjh+gE8MUFRewF/QFgPUV9JvuWugL3rzduNzQ3pbksuku6pDkJOm76rrq1OSh49znG+lP7/fyWfq3/CQB6wTYAJD89vlV/Zr5hPG36iXvTPOY8yL20/bhAHEDxwcYC/wIkQpXCm0PyBKUGZEfZC2mOehDwE4bQs83tiW8HMsSMPKY5MHfIugI5N7XIueB+90GkQCGAIoJRgju/Ef5cgDw/2//HQe8GXYesxbYGeEfCR5MC3H9ofkQ8TbjpdhE11TYiNvG36bm/edj6aDunu4o7lXrEO7M7wTtM+/T8qj3Wvpr/akAKP9U/Cz+MP+1/Gb5Afn3/VH8/vom/Pf8Mf/o/k0DiwZuBVwEUQePCdwLLBBFFq0klSyKOqJCqTktMXoiKSHZED3xRORR4QvpWt2O1YjpKvzGAg780gMPElkO8wJjAmsJ1gTx/bkCeBKxFB0PRxY7Ha4bqAwXBo8GtPp/7HLggdzq1sPSeNmk4Ijk2Oep8lH7OPp39fz0Ufd98iTu4+158X70k/Tb+Cz94gAuBBEFIgVKA40A7v6C+xL4m/e590n68vxL/9oCWQS/BeIHywdgCRwNsxHXHIon7DQrO9wwySgfIccfohAe9MXq0em3617cMNOO5hD38fwo+PIChhNBEWgILQb4DGcKLgbJCJcQyxGGD1UYohqaFiEOEQ03DEP7G+3s5IDiRtsL1n/c3OG3413kte0M9RT09PHu8bP0FvGX7wzzuvUM+Iz3K/to/97+cgEmAtwCLQIC/Rf+GvwR+4/7/fn4/MH7f/wj/sj/DgKkBKkIhAs4EOERjhu8JF4uWDTJKUgkRhuNGS4O8fPH63PpD++U5N3aEezm+ywERv8fBU8VEhZRDzgMBg6HDHAIZAqoEdUPvw9EFy4ajxU2C/cLTAu4/Xfv7ejw5j3dS9Ry1Lja0NvP3DPkMur17qbwnPa++T32t/aA+a37NPkZ9+H5Nvs5+Fz5H/2BAAABrv7bAcL/Df20+rz3zff19Dz5I/xj/Jn7VP3nA2kG5AzCE5kfpifdLu02oTDYKEEd6xtbEwP8zPBu7J7y7+op5Lvw0vugBbIFMQ1xF38VPxRJE6YRuAuoBiUKMgwRB20HzA4oFA4RxwpjC4sIl/7T8r7reeX93GzXBdb02WrZSNyc4UTn9O/D8fP1CfYI9jb5EPlL/PP8Sf5S/kH9/v1i/pf9vvri+T73HvUi8i7x5vKK8tn06PaC+Rb7PPyg/moBLgMBBecIzgx/FYQdmynIM7UzSS/1JCUk0x/YErcGVP2hAHn9wvgS+pH91ASwBZ4I6guwCswK+Av1CskERv5tABMGUgJk/qMAaAYtBxsBxAIMBSkBuPv9+FD3afBs6kbsQe575+/iQ+QT6cDqFedS6uDrqO0K8Z/yK/e79ib4lPrX+Z768/pW/Pf69/dG+CH6vfhw9X31ivds+EP2lvbe+Qv7YfwU/mz/+/+9AOMGOA4qEnsWVxpbHl0d1hgaGmUbWBokFJERUhmbHZYc7xYXFIAUqBKYFFcVXhLTDWELjQnDApj8x/yE/l/4NPI78j/1HfZI8/32c/kL+Cv4DPjT+JHzyPB69LXzSO9d6wTuJPKE8NvvOPJP8yfztfOa9bX2uPb6+Fr4x/Nh8lP0iPQJ8BPuNvFA82Xzn/TI9vP1JPQy9FH0gPPZ89j2GPkQ+iP8k/9GAwcIWg4HFCYZwR61I/kjJSDiHgsglx66GqoZ/h2kIMkeCSCmI2Qksh+fGgAZxxGXCOUDtQFE/cT0ovId82Lwhu7F71nzq/KU8hH16/TO8qLxF/QR9H/xP/G98t3z+fIG9Jj2ZPdT9mr14/ad9wL2KvQU9F/0M/L47/DvS/BZ7/LtC+6p7qXuv++p8VDzqfQX9V71xPUO9zr5qfmu+e36pvyx/vYAnAVeDGAR2BNaFa4XWhsdHoEfTR/rG4QasR0SIfcfkxosGmAcyBlJFQQSAhKKECIOfg3QCU4GtwboCHgGC/8V/CL9Hfvz9NTvDu837+7uGu/a7xPxnPJs9eH3vfip+GX4sfhf95T1fPTq8tLwEe9n8FPxve/17mPw3PGz8FXwGPGX75PsqOxd76PvVO6674f0UPcd+Ff5Cvt3/JL8df4XAKcASwC5AMwD+AXCB/QIZAyoEHYTQha0GGkdVyAnICIdnhrQG2QaPxbsEg0V3Ra8EBAINgMHBrcM5ROAFtQPOgc8BMEGTQe1AwsBcP0D9wDy5/Ko+Oz6aPlO+C33FPd491T6rPtR94fzuvN99434HfbC8wbw1evC6cLrSe6L7sDtu+yS6qjo/epq75DyufIX8jny8/GJ8pzzkvUj+Ej6e/tx/On+IAK7A8UCqgGqATwDfwRGBDsFFQq8EhAZWxviHUcleC/VM2su1SImG7wYixPZB1P8bPmR+ZP2z/Mn9lz7RP3d/bsADQUtClkP8hHKD1cMfwzRDOQI2wObAp4C1v5k+uH5fPwo/fj82v7T/wz+kvjn8ynwgesa59HgqNyw2xDeQ+EB4v7lCu108+f1yfbr+tn9T/vG9fLyq/Nm8+jwYfAf8wn3Kfqu/CAAjgMFB0MJUwgNBdICyQIdAlUAaAFACGAQCxj+IHUu/z3TRHM/rjFEKRAmwxhZ/8/nEOMj5J3cWNaf3cfwuP5BCI4UAh/OJMclACWqH/sVCxBFCgYAJfeu9eH4dvUV8Vv2Rf7k//T4x/Tc9Fjxquog4r3d0NuY2uDasdyp4xPsEfOX+Mj+qAXyCOkHxQRUAVf9Efjh8NTqpujz6qjtBu7p77b0iPv1/7wBBQJDAUIA+v2R++T4wPfL9hD4lv2CBnYRyBr0Jkg0F0O+TppNzD9OLFEjRBs1BdTnvNen3FjeaNg42rXtIAZEEiQZQR8sJtgpnydaH30QvgXk/5/4Se+m6mXvT/NG83L3BwB7BQQBG/rB9yf0De2n4lncktu620PdGuB96tH3gAFPBjAJog7BDy4LRwFZ993wg+wj6d/iguA/5Ojq5u2I7if1W/2kAQP/tfs7+uf3vvX58mLx6fCy80H6vwHqCL4QpRu0KqM6wUevUQJU6UubOaMp5iC9EE713tsy2Z3gxNwM1rPdy/ZiCOIMRBAHFiUbAhjGEb8I7f4G+zr6pfhm9Zf3LP8SAjQBZQPuB1EHgv7g9h7yy+vE5F3gI+OO5iLpbe1v9UUBtAjMC8wKbAj+Arf4NO8+5/Hh+Nuu2IPZodyR4oXpu/KY+d3+bAJ4AiAAnPtJ+OTzvu/P7/vzkvn7/SYEPg+bG+AlWi3bM/A9wUcvUL9QGUYeNbEhghagCBHyfNn2zZvWt9ii0enPquO//+AHlwYzCOQT/hpSFdkMJARpBJ0H5Af9A/EBKgq9D08L7wNeA4AFB//D9EHv/Oq84x/elOES6cnqKOuK8Iv79wLoAl8Adv0c+jzxtOb03lPc+Nsi29nd7+It61XyyPnY/zIDNgcYCP0GFwEz/nD+m/yo+pb6YAKSCPsMeBGVFzgeKCF8JkEqeS6yMkc7RUMyPY4rcxY8DUQD7u3G0xLH7s8R06rMfsot39f8iwjdC+ESyiSeLqQpYCBkFxsWlxPDDXMEo/4vA4MF/QDr+v/7G/+a+NHu+umK5+rhWNvy3CTiTeKP4PvjO/DK+Tr6Cvaf9Hr45PZp7jDleOOw5nDnoueu6tHydfp1AQMHOwwAEa8SvBLSDe4JDgUkAPL8/PoY/mT+IwHmBGQJfQ7gEYYa/R8CJd4qhjRXPYI2WiXAEQQKqQQo85LaXMxn1kzgotyu18bnWgd8FwEZahspKtU1fTHaJZsaHRh9FrgPYwO1+ZX82v9g+ovw+u7W8tvs0OBc2sLa3del0DLRz9nI4AfjZ+db8wj+kABo/nj9mv8e/f/1uu8H7nnwlfF58/H2Jfw7AxYKJA+0DzMOgw3oC8oGTwAa+jz1evFL8Izyb/GS8J7ytfmUAbMEhwxCF9UlUTJbPGlHOkcOPcApQhziE8EAw+fU1PjYp9/p2Q7XzOeyCd0bgR+8JdM00EDkOTkrDBvxELcKogAl8k/kheSc6k7pT+L/4W/p1ulp4iLe8d/J3uPZ99mi4CTlY+XF6Sv19gH8B9MJKwyzDxIQEQlDAD76SfjL9Frvru0c8Wv3W/t//ugBjQTUBNABkv1t+CfySuu25r/lBec65+rpIPKo/ZYIjxDUHL8qnjf4QK5IslIiU19IpTPqIpsYoQUm7KrVcNXm3H/as9e84u4ALhVfG4QgxivKN2wybSS9E8UIIQOI+Mzqn92A3dfiXeFn3c7ffehP6Y3kZOYI7Z3s7OXu5srxI/i+9Ifzs/u1Bz8LuwjsB5UKcwx3Bf374vS08ojwk+m35PHikuYa6tvrEe+a8kj4t/qS+2P99/3d+/71GvQJ9+n3UPZW93QAzws2ExQdPyw1PvVKaFOuXthj41rgQvMsXR9tCRjoO8l2w7rICMR1vjTLAu5gBx8RBhk6KFU4CDgeLuUc/w20BNL5p+s32sPWZ91Q4dPhmeYY9CP75PpV/Nr/DP1A85HvpvMY9Jzsteiz72z7SwCM/l/+eAJ5BwYEfvmH7qjpY+gl4hvajNYK3bLlfuqR75r3qALIB0IJQwoFCcUF6v/l/q/+9/sV+3v9awWoC8kSfR9dLoQ+yEpNV2FhCWAAUl86HCe5FDr5atjywRbB+sFwuie4bMuW68v+/gf5E0UnozWVNSctqR97FnUQ9wbb9mPnl+YU6zXqvuYB62H1cfjE92v6Hf3h92Hv++7Z8SjtNeMh4b7o9u/n8O7wI/ap/bwCGwEx+1n2UfVf9Sbv3uXU4drl2eoZ60jtq/WHACAGwgdDCkoMAwyHCFoGDgRgAV8AtQC/BK4I5w88GngmrDX+QqpRnlpoWC9KTDYdKBUUtPTM03TEbsQHvHWvH7MAz6vr5PkMByMciTNQPhw+vDfvLTYlRxqxC2X5xe2n60/oOOMN4yXr3vEO8nD0yfi39s7ttecO6h3q5eHt2bvZv+FS6XTtXPGK920BjAi2CC4E2QBAAGX8SPMI6zrpFOqi6Knm7up39HD7Bv8kA0YJ5QuNCH8FNQbpBsUEdwEjAn0GTwpeEE8Y/CNbMT8/i08kVptPnD+9MqcpqhJr8lLZ5NL7zpfAxrhhxM/cne7W+98Mkx8SLnk1IjhIMeAnXiHpGYcLTvmg8XHuYOix49bmLO1Z6m/mwevJ8jDwPefE5OnoOOeT333aOtxf41Hoquy48JT2NQA9B24LkwscDMsMqQiPAbH5A/W18F/sjOoL7B7u7u108Ff2f/xA/V77n/3oAFYCCQAJ/3UCfAZKDCQTUxs8Je4vkz+NTVpQDkjLPOU4NTDEGMf9wO5G7LfhBNAvyRvS+d6R5ePuWv1mCpESQRmwHfgayRWlEbsNKQVN/Rj6OfUB8V7xSffZ907xvvGE+Mv6WPIB6i/rmeyv59nfztuj3SDhFOWa6EjrHvFe+W0AmQPOBDwIxQqbCcsFqgE3/a/3EvPH8MHu+eoa6W/qW+0m7znwSPRP+Kj7D/9VAywJXQ3+EaAXLx2MJBYuIDv9RoFKzkb7QNw+mjqtKhEVagWq/3P3ledH3Krb/d/n4M/jV+zu8z/3rfmg/tf/Kv5r/uUA7AEwAKYBOALlALkB6gWKCGoDegAzA1AEUf/y+Jb4Yvff8GDpneRl4lvgr9+Q3wjeu94I5L/qZ++l8uX2QvkP+bj5t/sf/AL6Ofp//H39G/yl+4H9WP3i/G79yv81AaAAFgIrBBsI2guID3MTeRZ9HAUj8SnULlkvMi20KU4pzyZ8HSER+QgSBsz/bvcI9WT5UvyU+uf6b/5lAPf/wgH+A+QA//tp+1f9Z/sn+N75f/xv+5X6lv5pAvb/Vf18//oAGf2j+AX5Ofgi8ibs0+pq6/noH+cZ6OPoHOmZ6dHrQO1U7UfvnPGm8vPyg/Sp90f6j/yB/0YCRgPDAigC4wEjAdn/Pv8VAAwBbQBUANQCywbOCH0Ihgq2DosRwBJBFWcZNRpnFtESlxGID2YNtw4jE+MUbhFqEEUUZBhZGCUWeRayFgkVDBGvDIgIegT8AicBbf7m+3z7hvzO+rH4d/j7+DX3NPT58obxr+0W6W3ofOnc57flkebJ6UDq8uf/57Pqa+zt7DLuYPBX8WzxnPNh9pP3Kfi6+vL9nP4f/kn+cf8L/9f98v3s/Z39KP3o/Xn+9f0Y/ov/3AHzAjQEFQbNCGYLggzoDtYR6RR5FRAUPRbIGT0coBvRGjgcYBsWGqQavByBHJIYqhb1FUsTig6XCmQI3QRfAYL/9P3X+q/4Kfly+Nr14fOo9FT0p/Gx8O7w7O977I/rj+xl6tHnXee66ePp9+ce6mjtue4g7iHvJvJ48obxlPFR8mDyEfKa83T1FfbS9o746vnx+dP5X/q5+gX6zvnp+h789vwH/kYA6wIYBV8HfQqSDlgRwBKrFWEa2h2rHCMafhslHjkdmBnKGEAa+RhiFuQWDxp5GQkVKBMxExgRmgyyCYsI7wRKAMz+2f8m/4T9tv0r/qf81/lK+fL4F/bb8szw+u877sHsSe2M7Ubtve3I7obvRe+P7nDu+ewJ6/rq/eon69zqxOry6//sJO8v8bfxsfFS8pvz5fJV8YXxPfNr9Gn0KPZq+cP7nP3SAKoFzQl5DJwPshL8E7IUVRWPFvUXYxjgGSAabhmtGlwbfxs8Gs4YGRmKF9IVVRZBF14W7BJbECcQsA8NDicMQwqQCDQHdAZZBSMDzQE1ARgAr/7q/QH+XvyT+Sb4+/Z29Brx1O8q8FrupuuF6kPqS+lH5+DmCOfS5PLiJOMx5ArkL+PD5Cbn0efS5ynpeut87Pnsle6z8GDyrfMj9gD6Cv0u/1cB4gPbByILBA3fDoUQ8BI8FPITlhSMFQYXYBinGJ8YVBc6FpYWPxboFBETCxJSEi8SkxLOE1MU3BM7E8cTFBTgEloR1w8BDkMLkAn5CXoJjge+BWwF1gU7BM0B1/9k/YD6EffX8xrxQe4K7PPpvefX5oXm++XL5IPjvOPp4iThYuAK4G7gJeDb4BHjDuTS5TrpMO3j7x7xxPMB9074DfnP+1r/hQFcAjgERQfgCCUK4gtQDc4N3g3rDhQP4w3ADCYN9A4xEE0RaxG5EAYR6BG+ErwSORObFWoXhxf7FzYZDBrGGU0ZsBkrGaMX8hYiFr4TrxDpDv0NoQsyCOAF6gOWADL9UPt6+e31bfLE8JHvauyJ6CrnuOaM5V/k0uPv48viXeF14XDhWOBt303gCeMA5ivo9Op47mjx0vNO9bz2+PfD95b3Tfi3+Rz7Fvz//TsBsQOuBNAFJAdnCFsIMAd+BucExAOABFYGVwh+CVgMNxENFTQWQBbbF9IZeRoaGj4a0BpOGpgZORrbGy0cChv5GdcZWxltFqgSEQ/XC8MI5QXKBNMDfAFH/gH8Uvul+YX2p/P78anwMO6z65bqfuk86Jbn3efL6FDoOOi26Q3r2+sZ687qluvZ6zXsG+wt7CrtLe747qHvg/BN8qrzlfMR9Kz1D/jy+e76xPzE/mEAiAF3AnoDmgOWA1kEIAaaCHMKLQzMDhASSBXHFnoXNRnDGhsbpRl/GNsYwRgvGHsXPxeJFtQUFRR2FIcU8RKJEJYOIw2bC0MKQgmgB6oFgwNSAm4BhP9w/Qr7r/mF+FP2IvQU8mPxpPHj8YTy3/I88nHxwfDa70ju5+s767brTet56mDqvesz7A7ro+ry6y7tE+0T7fztce+c8JDyb/U/9yL42vlF/WkAFQL+AnUEyAUBBpEGUweICL8JUgu3DSIPvw8GEBwRmRLCE2gUCBRuEz0SZxFXELYObw2PDE4NWw43D0oPpQ5rDqoNyAxfCyIKKwlvBwcGZgVtBZIE0QL9AaICXANqAuMAmP9G/rv8wfr5+O72ffSD87nzcPNX8ujw1/Ah8UHwy++77w7vG+3F6jXqk+rF6evox+nC68TtV+9l8qj2IPlc+if8Of90AUEB9ADmARYDBAOOAvECOAMaA58DpgWsB6kH8AZtB5gIFgm2CMkIpgkaCjsKsAolC/cKbwpiCtAKcwraCF8HwgbuBgsH9gYkB5MHTwgKCXgKCwzODL8M7Av3Cy0MUQvICawHxAUbBHACVAFWAIP+VP0x/QT9EPx8+av3sPa09J3y9vBv8CnwYO+R76/wP/Fd8TXyHPTz9ZT2RPeg+Mv5GfoL+sz6xfsj/Wz+Mv8+/3f+2/6h/2L/Nf59/VH+8f42/vv8GP36/Z/+Df/E/4QB5wKwA8oDJwNtAuQBTALCArUCQgJKAlcDKQSGBEIFBQc4CVUKJQrPCogM0Q0ADhMNZw1QDg4Ocw2kDEUMbwtaCWIHVAVqArP/7/0c/UP8tPrX+pz8+/0h/sL9nP4+/5b+T/2M/PH7QPrf+Mf4sPk6+sP6nvzL/o3/xv6//k7/Fv9O/Sv7bfpP+Z73yvWn9Gz0CfSY9PH1YPdU+Df5nPoo+3D6Y/lf+QL6PfpZ+iL7ePx9/bb+MgDEAT0DjQRSBhMHegaiBqQHgQiwB9wFQAZ/B80HyQcFCJ0JGgrlCDIIXAcWBjEEvQJ/AjcB6P7X/bz+LgBjAHYASgKRBMwFiQY2CFEKjwpXCckITAkmCdAH+wZYB2QHBgbVBHoEwQOEAcv+jf3S/HL7evkF+Cz30/Vu9DzzlPID8pfx/vEe8gPyDfKA8lrz1vN49PL1g/fW+KT6wPxa/6UBSwNJBf4FwwWxBV4FGgVVAyMBzgDlALkAFgD0/5wBngIZAkcBVwBe/079+PoK+lj5CPj59tv3xvpJ/WT+iv+5ARcEkgV3BpYHughyCVoK5wtcDVoOaw/SEK0RzRAwDxUOyQyzCg4IEQaYBFEC3/8g/s78RPvW+Zn5B/qM+W/4Rfiw+Fn4A/cO9r/2uPcG+Fj4/Phj+jL8s/3j/mv/HQDVAQADBwPMAjIDbgSuBNUDiQM4AyECNAAJ/pn80vp7+LD26PTW8vnwQ/Dz8Efx3PCp8VL0Kvfb+Pb5MvxS/yQB2gGwAgYElAUvBooGigd0CJ8JDAujDFsO7g7PDlsOHg03C2YIZQVRAib/cvzj+sj6t/pd+tP59flr+9/8Of7N/s7+d/+oAEUCHgMXA70DnQWjB50IoAjMCOUJ0ApbC0gLPAokCQsIkAfiBtIE1wKjAR0BRABM/oP8IftL+R33+fRQ89jx2+8p7oTtc+3P7XPuwO/q8QP0CPZM+Nv6wP0vAPkBUgMVBKMENgXVBaEGMwe/B5sIEAndCMgHMQbABBUDiAEJAEz+ffz8+k36VflF9/T0FvQB9W71yvSO9Ln11vcX+dr51vuZ/q4B0QT6B9QLKQ/YEYsUixa9F5sXhhaxFe0UdBO9EDANcQojCeMH4AWcA2oCBALVALX+kfwn+1n56vbd9LTzIfPU8c7wUfH98sb0wPX49kn5vftU/RP+mP7V/xQBTwJDBNUF0wZ+BvgFnAbWBkMGzQSnAzoDTAJ2AAD+oPuE+fr3Vvap9EjzuPJE8xHzX/Ld8WnytvMu9MH0kPVr9hv3u/cl+Q37MP0lAAwEXwcfCj4NQBHdFHsVqRQ9FPMTlBJ8D78MmwrOB4AEzAGAABH/w/xE+2v7dvx4/IP7tPsk/dr+0v9eAIQBbQImAgEBNQDZ/07/0f62/1gCdwQhBaMFVgeDCV0KJAoZChUKvghMBpoDPgER/6T8S/ri91z2UPbI9vP15/NA8xL0jfRS80Hy8/JA84/yFPJa8/f0wPSo9Cn2XPib+QH6svs+/gcA7AGRBNUHVgomCysMIA1FDWwMOgr8B6IFAQN5ALn9Hvss+YH3EvbP9H7zWfNw9Jf2bfkV/HX/QQN4Bo4I6gl9CwMNzQ3UDcwNbg32DAYN9Q0WD3MP0g9pEPIQCRDeDdALtQm1B6wE+gCF/f36JvrW+Zr5DfnR+PD4yfiX+LX3d/Z+9Wf1B/Yc9kz1MPWJ9hj4rfn1+rf8Y/7D/hr/XP+f/0H/qf7J/iX/nP8j/73+rv6K/pT+uf0q/Sv9vvy1+/H5afgQ9/z0o/JW8VLx7PHZ8kr0RvZI+Dz6mvxq/zMCDAXbBzcKPAwKDmkPrA8LD6sOnw4gDi8Nzwz4DJQM3wtXCy8KXwfcA2ECvQJgAsMAK/+y/n3+QP63/mD/BQA4AZIDRQU/BCUCSgHEAcwBXQEIAlYD/wP6A1YEmASLAxACJQGiAHv/qv1U/PH6+/hU95/2b/b99aH1IPYV93D3tPeD+HT5U/rr+pX7xvsO+zr61fmX+av4Jvjj+IP6APyC/Lz9vv+GAQUDlwQkB18J4wl5CTYJpQgQB9cENgMmAn7/2ftM+eL4Y/mO+J33o/eB+Br59fim+av61vtj/cD/DQM/BawG2wjYC38Ocw+0D64QtxF3Ef8P7Q0vDFMLtAr7CTYI2wU1BGkC1/93/LX5Mfi69ob1DPWE9dX10PXM9mn49/nl+gL8q/2G/rj+RP9/AIQBqwFeAVoBCwEOAIT/d/8SAM8AVAEZAjoC9wHTAfAB8wF4ASIBWAGmAXQAyv0Q+035svgx+Gj3SPbY9D/zyfHB8A/whfB38kX19fes+Uv7f/2r/6sBiwPDBbUImwvADUgOPw3aC/QKaQp2CTsI5AaPBRYEjQJiAUUAtf///4kAOgDZ/tb91P3e/S/95Pyl/fr+OABhATIDewTvBJ0F9AZ1CNcIjQiECKoIegjwBysH2gVPBCcDjAK+AcMASAAxAMH/jv7z/Vv9Mvs1+Db25PZi+FT4x/d092P3NfeF9hL2k/Xx9Fb1dPYr9wH3pvac9/f5qvwv/ycBBwMrBbwGSwfmBq4GCgeaBkcFjgPqAT4AHP4l/Gr6nPhG9wT3Cvdn9qf1JfbR9+74Mfm1+Qb7XPx7/eb+fABEAkcEDwfqCYULJQyPDDwN1g1mDsoOAA9AD5MP5A+pDg8MiQmaBycGdQQiAyUCrv+V+8L3BfYn9u31NvVe9S32Vff491D44fgr+Uv6Uvwd/qL+5f2S/dP9wf1S/Sj96/1U//8A2gLUA7IDrANjBHMFaAVuBNMDQgP6AQIA5/0E/FD61/gM+E/3d/bo9TP1U/Rd84vzpPRv9Sb2DveS+ND5P/vT/XEADALlAnwEcQbBB3YIlQm5CmQKzAmqCc4JKQnCBzsH6QY1BlgFUAQOAn/+1/u9++78tvyr+z77kPvo++f7q/wA/s//UgIzBW4HNwjnCDQKngshDL4LZwubCisJQwfpBHsCIADU/un+7P7A/uL+Xv/u/7//df9j/4r++/xa+6X5f/fq9C7zXfNC9FT1pPYS+Hb5NvpB+y78c/y6/IP9Qf88AEAAVwCQAA4BpAHgAm8EkgV5BiwHtAaOBOsB+f9X/pP7g/jw9WDzM/Hg77HwI/Ka8qbzs/Xh96L4ifiu+Rb81P6gAaMEMgdECbgLyA5mEXwSQhO1FDkWxBbUFSQUnBGPDgUMngn6BtcDIAHp/zn/Vv4s/SL83Pty/IH9Gv7y/Z39o/1y/aD8BPx3/Gz9+/3n/oIANAL0AggD2QM1BG8DOQKjAbgBpwBA//D+av+T//D+g/5Y/nX9/fsx+3v63vhN9n7zufFY8N3v0vD+8ZzyWfKl8hP0zPV890v5qfsx/l0A2AGXAtACLwM/BO4FBgilCZwKJQuXCwAMYwueCaUHYgaYBZ0EWgP7AWwAlP4w/Y/8Xfw6/Kj85/0G//r/EQGmAt8DSARyBZEHQAkiCQEIlweWB3gH3wclCXEK2woPCwoMOAyMCoMITQeUBpkE0AHR/yD+7Puz+aX4O/if96v2l/VS9OLy3/I69P30V/Qb9Kj1aPcE+Pz3//jA+mn81f7KAfIDsQRoBeQGjwfpBXcDsAIVA9sC4ABr/u/8QPzI+4T6Dvke+K73Zffj9rL2kvYB9mL1AvZl9wn47vdS+C/6sPtw/Nr9QADbAkgEBQafCJYKkgswDIkNVQ5eDRYM5QsTDIMLkAoYCkkK0wm/CPIHGAcEBqEEXANnAkwBe/8+/Yv7B/sB/M/8y/yI/Df8Vfw2/H38ff2H/nIAiQMYB/UIPAiBBxUIMwiHBmEE4wOrBCUEPwLv/0P9AvvK+Uj6ovpe+ZX4Y/nn+qz6kPgZ97r2CPeY9/n39fdI9472gfa49hT3OvgL+sj7+/zy/a/+tv6S/jD/WADBAEIAQADuAOQAv//A/s7+Qv8r/wH/iP/5/6j/UP94/zYAjADI/yj/CP/h/5oBNQMJBWAGRQcxCBEJbQofCxYLYAsPDJUMwAsnCqMJLAqxCukK6woaC/0K2QnhB/0ETgLSAPr/1f4S/ef7LvvL+U34GPj6+PD4PPgY+ZP7kvzP+m/5Fvrq+iv6Jvka+nP7Mfup+mD7rfzt/Lr8o/3f/pj+N/2y/Mb8Q/xc+2/7sPwQ/dL7Vvrm+ZP5W/jA9gT21fbE9ij1Q/MK85j1DPjG+Vn7Uf2F/8EAiwLdBFEGQAZjBn8IiAq0CsoJCAoPC2cLkwuADFkNzAxcDHEMGwxnCpMIdwiRB1cF3ANPBOIEUAPDAcIBkAGH/2v+iQAKA98CFwFbAeIC2wKEATABawLXAnUCVgJMAqUBSgC8/7r/sv5p/Qj9+/wm/DT64Phl+CX36/Un9tf35vhX+Ff4E/ps+2P6PPh59+j4QPpN+tn5VPkP+Q/49va+9nf3Lvkr++D9nQArAnACIwJCAvMBpwBw/xz/xf6y/Zr8Z/yo/IX8e/3+/0IC8QLqAvcD4wTcAxACzgFaAy4FKAbFBgIHFgYEBYkEDgUlBsgGtgfbCN8JlAp5CmEK4grIC9YMNQ2lDDML+ggJBzQFeAPTAToAhv/r/pb+Jf7R/Mz7BPyy/WT+YPzX+aj5b/tH/IX7jvqu+tv6evo8+uX5efkz+R/61PuV/BH8f/so/FH9y/2P/Y79zP16/T384/oS+sr4RPdw9jT3qvj5+OP4jPnj+nH73PpE+tz67PvN+yv78/qE/Gz+0v7Z/nf/NwH6AZkBnwEBAk4C8wF+AtMDpwRlBRoHfAkwC20MCA6jDxcPYA2uDJQMwguNCWII1AhnCZ0IEQZnA9IBwwLOBNkFgwXABCoFywUCBnMFTQR1A7UDCwUiBdoCw/9A/jf+j/2v+yL65vk0+hX63/ha99T13PTm9GT1IPYn9u71wPX69Wj2UvZF9k/2p/eh+VX7Mfwu/Mz8v/wU/Lv7fv3TAAACQwGjAEcB6AC//kL9BP3r+6f4zvZC94n3Qfaq9b34ufyI/zEC3wW4CBcJGwlCCtYK+Af7A90CvASRBogGfgbjB2MKAAwBDdUNyg21Dd0NfQ/5EKoPwwyMCuUJRgk7B2oEagL/AE4AfABfAKT/jP4//pr+j/6H/UL8NPvx+fv4nPdM9qf1Pfb89335+Pp+/JP+v//t/3AAsQA/AWAAm/6r/ZH9vf4+/9j+3f6P//j/Bv9f/df7Ovrk9wL2NPWt9O3zivOn9Gj2dPhY+3/+PQB8/3/+tf/oAfUCfgIKArsCwQJ6ATgA2v/jAP4BTAMOBeYF3QV7Bf8FqgYcBqsFSgY8B7AGDQU4BG8DTwEV/zf/fAFfAx0EMQWuBswGXgWvAzcCGwHtAEACCgRlBGYEuQVrB+0HGActB2AIngh0B9UF8wQDA5L/Sf2L/Yj/bf9o/dv8y/2V/oX9Q/wW/F37r/k/+Oz31vbG9M7zQPSh9MvzrvTt+Jb9OgB3ARQDDQSVA9QC1QKxApYA3/7G/hH+Qvxj+uD6UvxW+yf6A/uq/Mr8TPsd+/D79Pqj+Oz3+vgE+eb3gPdy+Dv5FPmQ+in9h/6R/8QBQgVCB+8GNQfUCOgJ1wl0CukLJg1bDRcNpg1DDUUMGgwJDHoLtAgPBSkD/AKEA+ACsgGnAaYCUAO4AoQC8AIXA90C+gG/AAT+Jftb+xn9nP0U/F77nP3r/7IAGQHjAfQB8wDsAFACwQIwAAT9xfsy+xH6CviY9u71mfQo9KL0t/Ta87Xy7/Md9ij3j/eV+DH6pfkM+F/3effB9vj0OPay+fv7Q/yu/FD/6QBtAFkA5QHtAt4BfAEzA/kEIQRlAo4CWgN9A5gDPAWJB10HIQURBD8FfwcbCBcH8QbwB7YJPwoWCSgHbQX1BRMIegrLCnMJagnHCXIJbAdkBWsFZgUYBZAFKAZdBb4CIAEWAuQCdAGu/6r/fP+S/Zb6LfgS9j/yqu+q763wzfDY7zzxK/NK9Nf0Ifb2+Ej6j/sp/XT+Pf54/F/8yfyN/DX71vow/N78wvxh/AH9Lf06/Er7U/s6/EX89PvP+yL8KPwX/Nr8Zv6D/9b++P61AKIDKwXBA/wBhACfAOkBQwS5BtkHJwl+CigMMQzuClULPAzuDHIMngvzC6wLxQoVCl0JOwiEBiQGWQfZB4UGggTeA4QDLgI+ACT/uP4w/Zf7K/pg+QD4FPYw9t723/fZ+MT6rv0R/6j/LgA9AeEAGv8e/qX9Dv0d+0r5M/i59sr03fN19AH1qPWN9p/4VvrG+ob7e/w9/aP89Pz7/q4BAQPyABD/Bf5n/kb/7/6n/8kAcwG/AHT/Ev8f/7D+Mv7K/88BAwNtA9IDDAVsBOUClQINA/UDXgQkBYIGaQaKBVUF9wQpBKcDCQW2B+0I7QjyCZkLNQvBCGMGTwULBMgBfQC6ACIBegC7AEYCQgNkA/ICCgQeBTwE/QLiAWEAbv3L+Tn3DPaC9APzx/Lb8tnyxfK19JL3U/nw+V/7ov8+AlMC8gBdALsBZQFgAWwCSgQsBYYDSQI7Aff/uP3S+4T7XPu4+lj6evv3+3v7OPrV+cT6M/o0+i/7ivwm/Qz8y/uP/Pb8FP02/gAATAGmAbYC/gS+BRQFvQRxBoAIogg5CEYIUQj+BvkEVAMfAsoAWgDBAfYCewPsA5AFVgcAB/sFQwY7B44GLgQuAsQBxQB1/iv8xvpf+tz5IvuR/Yj/ov+r/g8AOwLaBGQGgwdtCB4HCgYLBd0EpAM6AR0AbP9w/ur7Svqq+eX42Pao9AH1XvXS9az1i/ZT+Gr4xPiK+TL75/t7+wr8yv2h/2UACQGJAQ8CIAESAKr/MP/P/87/SgArAAv/iP7X/SD9dPuK+e73PPfs9sn2d/c6+E76+fzt/+QCkgWKCP4KmQzhDKkMLAxUC6AKaQppChIKsghfBs4EywMhBCMFMAaLB10IbwnOCWAK5gl1CIAHZQb+BqQGoQXbBNwD5wIoAN78kfmz96n2CvbY9fn0aPXF9uP4B/pF+mr7Pf3s/oH+/v3l/ZP9xPwj/PT84/0F/m79n/4XAHsA+f+x/m/+qfwA+n33yvUb9bnz0vL88QvyrPJ286v0Y/Wh9n34yPpb/Iv9KP8+AXUDzgTdBjgJSApUCb8G/gS0BK8EIgXIBVUG+gaUBrwGHQdwB7UI1gmkC2oM9wzjDQEOnw19C0IKfgn1BygGLQSSA+ACdgEpAMz/DP9X/Sv8kfy8/gEArgCEAdkB0ADd/kn+ff43/qf8+fvp/Ln9i/3R/ND8HfwT+875dvnK+dL4A/jM9sn1rvS/86zza/Mt86TyYfOt9K/1Y/aZ9qL3LPlW+7n9IAA8Ag8DZAL+ADkApwD+AMv/Sf7J/Cj8G/wS/Pb8nP0j/kD+F//LAHAClwMPAyMDFwS3BdkG1AYZCIYKHA2kDSsNtQ0gDooNtgtGCsMJLgl7CJMIfAi5B/MHCQnQCX0IMQaWBckFeASwAVz/4/2j/LT6Mvni+Nz4+fhn+dL6qPt4++/67fmd+Lf1dPN789PztvND8wr08/VK9y74Svlw+m37f/zr/N/7CfqL+Xf76v3o/rD+jP7b/pT+Lv2X+4b6/fmT+Yv56/nD+Sn5F/lH+v76p/r9+mX8UP7f/sb/1ALoBdUHxwd9B0sICQnYCWkK9QoNDNEMXQ0GDmEOpQ5mDmMOpA6oDXAMuAtsCyUKbQdMBT0EZwMbAncBbwFLAYIACf8t/sf9TP5c/u38F/sm+pr7Cf0K/Rn8L/us+z38Ifwg/Ev86/tQ+pr36vWw9bn18/VZ9l73SPjC+MD4wPjp+Fb4Tfer9b302vSe9W32ZfcA+TL6S/zz/Yf/tgAAAFEAjQBHASoCywF2AbEAuQDlAXADOgQ6BAEEKwQ9BVcGAwcLBiEFcgW1BqMHqAeACT4LRQvkCYUJ6AstDeYLign3B4cGrwQ8A6sDsgU/Bv0FdAUbBlUH7QaSBYIDfwJCAlcCqAG0/33+Xv7N/i/+Cv0O/KD6NvjG9iv3h/Zv9Dvy8PI29HvzcvJj8gj0kvQ59Vv2sfcK+WD56vq9/KL+Pf5I/DX7zvvG/c39X//hAMQANP8r/eX+QABzALv/zv4h/dD6c/sw/UH/xP4x/mcApAIeBMEEyAbeCWUMUwxWDQkPMgxCB+ADjgfMDdIPWw+LD+oP9w14DGAMXg52DtgKWgdxBRIHTwmHCTkGwAJEAZEALAGB/6/9wfzC+nz3RfMW8pj1/Pfl9Mvx9fKJ94P6Jvr9+DL4i/cQ+Or7Lv0e/Nr5g/ex+M35dvy7/hT+nPqe9wT3PPjA+zf7Wfk99hT0gPa++Ev6APnQ9g32JPro/oH//vyl+R78v/7r/vv91v/wAsMCUQPvBYcN0hGgExgVlBUeGZQdAyX4IWcUOgnvCzEdbCgIJyAbNRB0CaQGGAjGCQcOnAq5AL/3M/Wb90z0setP5hTs9fLk8y/tIOOu3jrfJeXV7rH5hPsk87Lojuj29y0E1AXEAnADtwalBn4C+/6TAhMF6AbFB5YFRgW2ARf7dPqEAlsLtwuT/orxP/KH+PX7BPk08wzyg/Sk9Jv27fjy9pj0OfMG+mECqgDy+C31hPmm/5EEiAdrC7QLxAlMDnQXaiMyK0QvJSzTGw0JDAfUHfQ03jHcFmECXgIXCHkJFQi5DP8LgvzE6zvn5+vX6tHk/uR27dntlOFj2BHbe+ej72zzm/c59kfu3efj7jr+XAYjAdD52fqe/3sCLQAr/wcEqQn0C04HNQDf/ZX/tAFMAswBGABv+yD1ufP/+Lj8avq19ar08/fC97P0ovTL9gz3BfQo8yb2g/fj8/vyKPnL/0wBA/1//S8GyRHGGlIcTxwjIZkrzy6BIucS+xSJLJY7zC+6FTYJ8g8WFRQTfRCSENAFX/AC5izvYvus83DjRN9b5/To9N072Arerekf7qDtSOzt5tHk+Oz7/g8H0vxS7l/vZ/7HBt0GwQLhAdAAH/5UA2MLTAxcAoD7Ff9LBqsDN/h19NT1t/hJ99Hz6PNc8Ubu/+6f88b0kfGt7W/vlvTF8vHwnfHj9ff6Ufy6//kEIQm0DbIWIB+9JEooLi5YNpouoBt3FHIlfj9CQeUmyQ21CXURuxa1EjEM8QIs8FTiAeNM6wPsNeGo2s/g3OQx3TLXUtq45Tnsy+hC55XlZ+WP7PX4tgEd/hXyiPAc/xUNDhRcEJcIuwSCAh0HaQ3sC04Dxvw1+1L90Pzn9nj1EvPL8WXxiusF5g/jbOd37jrvTukK5yfqJu5t81H2hftc/AL59PkpAEgL0xLHFpQZvB/UJDspdzGDOstB/jUAIYkZNSlTQiRCFCcmC84EBgs0D1ENTQlvAaXrF93O4cjvUPIw5YLfbeWA51jdq9m842Tyn/Ru6G3igOIc67P3DwK7Bgv/WPPL8FX9gAyLFCEMBf6a+s3+ywc1CJMDqgGn/hL1Zeoq6anvJ/Zh7UHiv9653+3kReaN6KPrt+yS6rnq6OyA8TL5jfrg/UT/j/+8AgsHABLDGyUdyRj7G90ksC9SNxs6IDv+KIYToxUfMtNKsjo0E0X/swmtFZYVcQ6YCZIAHeyS5Qnvyvfx8kzn1Oc87CTmid6k5kr2OvwL8vDnFeph7pj0tv0hBCH+dO8M60f6nw1qErYKev7l+P36PgJiCbQHXP7S87rv0e5E8BjzAvb78/7mJ9np1THgOuuT7r3o/OE74MPhBuxn9T38EP3X9772LvldAdkK8hKjFikWRxIwFBIibC3NMmQxdTT6NIohMQ9sGWw98U2dMXkHx/3ZELwech4FFScM9/jk4wDorPtFBDT0GeI75NzqMuWo4krwXf4399PhgdyM6Rj3ufwU/3f9tfI96BnsWwCSEOUPYQKM9Cbx2fj0B4QRyw36/DDtdenc7bj0Jvjg9tPstt151FfbrOiD7hrtQuUw4UXfBOTl8Bv5avo99dbzrPknAsgGxgmqDUMRSxMiD7kUPiGnKhwumC0xM0wtIBl+D7gls0d1STAlXgHkBIUcDSotJaUVHAfn8kPnDfRUBggFYO9m3h/igOfH5WfsfPlH/CrsPN2J4crvavh+/C4BsPsF7trlMvKpCjIVWA3e/kf3zfcQAPAJKQ8ECOz1sOv56n3x5vYQ+Lbz/eUt2BrUsd+T7NbyJ+754Efawd6m8Eb+Ef3a9JDwVvQk/FcE+wkYDxIO1Q0nDj4Rgh2iJcQqqCoVLtgzTClLFisT2C5kSb4+FBWk+9UKZyEYKCId7g46AH3q2ebj+4wJdfvG3gnWxeSv60TqFPBS+Tv36Ohr4yvwOf4CAGkA7v/G+UzxfvChAb8R1xF9B8//QP70AEkIdg/GEaUDpfKa67rsLfNT9P7ytent2hXRuNWp5iPxc/DH4+Xaod2h6NT2Yvsm+Njw5+wl8Yf9Agm6DW0NFAzsES0Wzx0mKKMtqy9PLBswnTB2IIkOkhW+NupHJi/MBX/9iRS+Jusm+RhTCV/yFN6D6FwA6gK56Y/Q+9Th4wDmOuim8nX5XPAW41voHPvwAoUAev/X+8LzhuwR90sNzhR7CxcAev5FAYoGJQ9bFuYPnflw6rvokO+S82Xxh+2p4YfUpdAU3cvs2O/T5xLdjNua4InrTfiz/UT5JfC87wb8YAxZE9USnA+GD58TzhfeI9ksdi2XKBcmuS1mKW0XpQ7IIfk++DueGaf/fgkXH88kdxsZDPX6y+Pi3Zfz4ANn97zYb82i3e3qxe1x8m/4sPTn50DlIvSoALX/8/yl+uTzWevr7RwB7Q4VCzAAjPvl/Dj/lAeqENkP9P2A6/nqs++Z8P/rKOpG6SvffteX3Onqw/Gf7bTn/OR85zDtgPgIAT/+jvZd9Ir9mgtaE5IToBB5DWgQehbeH5oojCcMJQAliyxcL20gVBMkGWUxojw3KAAM9QQFFYQiFSHeEuj/X+0O5nD3ZAnpAFfjqdBd3Z7v+PH57vzvf++g6LXlrPB5/PX6NvZh9wH4u/Kd7gv3uQOuBLf7jPSP9W/6owKKC48LlAAr8tfxrfpP+zL12+0e6mDjEdxE4TTtbPH46Qblfecp6x7uUvPT/MH9VPZ880r5TwU9DA8NWw1ADJENRBLkGlUlEyebIwwkJCzlMrYnDBeMFyEsAD7PNDAbSgz0EoYgqyULHRYLBfn47eH2mQbEA2Pu3No43uvqA+xW6UntzO9f6RHk9+yr+zT88vTd9Ev45vVB8GL0ef+hAvT6efSJ9qL7jgBSBgwKvgVa+3X2OPy+/2v5h/Eu7XbpQOFI3a3k2eyu65LlHeQt5Y3o3u4m91v6R/L07RHzr/2LBvoHZwiJB6IJphALGrwj0SUYJO0l9C52N9sueRy2GCwscEE7PUAjaw/kEZ0ezSSCHlUOPf4788z1ZQNgBF/znt993X7qo+115oDkxOcy5SPfQuM68rn6iPad9Dn37/Ys86T0pP7oBIIB//j29Ir3F/+gCQMOkAmx/1n68f1kAT3+Tfen8jvtQOTA3cPgSOmq6ubkt+B+30zhPugv8mT4+vOb7TnwnPi0AcQGPwmLCUsKIxCUF3QgoSZWKUUreC49Njw14iOMFVwgtTu3RJgs5Q4nCzIaJiQRIJIT/gZ9+uDzoPzUBVT8G+cE3BXlVO3+5pLirOYC5+7ezd1p7L/6lvq29qP5+vmH9V/2dAC+BlkAD/lj+aX8dfwq/8YGVwisAGD4NPoX//z6/fJ28VvzE+z03pbb/+SK7Fnox+HW38TfXeOv7FL2wPYm8HPxSvxAB48MZw7EDncNXhEOGXMgtSOfIgclEyljMJ42fC5qG5MSfCMbPFw8vB81CMYLrhpwIEMWYgrqAgz6o/cN/skALPY95rnjDO1+7YDlGeNm5U/kjuF26E31bPod+QH7SPyT9+j29v/9BwEBKPbk91b/SgBt+7X+DQbNBKP9tvr6/ub9TfYi81j3n/X55yLea+Ef6m7o3eGf4o7ljeUy5j7uzfWT9ZTz3PhtAicHWQovDZcOVA9NE4AakB+/IHEgaiOxJsotMTObKhYaQhHyH6Q1zDUkIPMNzA9cGUwcgBZgEuQJYvpZ9Zz8LQOK94PmsuYU7vfrs+Pb4zzo9uVs4g/qUfUB9hTzpfVA+n33KvRB+k8Bof4u9x/3lPyw/sH8DgCpBOgBIvzj+hEBSgDk95j1Bfpw+d/s5eP95yvvP+u64qjhNeRr52vpXO6b8kbz0PYD/scF7whbCogKogu5DxsUlBcmFyYYkhs/Hugg6CdhL2kqYxqxDxsdVjTwNzslmRG3EB8XgxbdE9wUyQ53/ZDz8vqfA8v4l+m36uHwL+v03iLg7ek66ybnuuqt8r7z/fFE9xr/YvvK87f1Y/1Q/v32ufYz/BT8QPiQ/EkGcAYN/73+ZAjHBqr5l/Xx/EQAcvKN5abl+ue/5VLktuiO6Snm/uX67BnzGvRD+Y7/BwGe/f/94AQbCcQJogv/EDQTZRO0GN0g3SUsJ6QtQzPsJ1ISsBBzLNBCUDZ0F94LbxWLGxQa6xlsF3oFee807tH7z/3T7ojlgekT6Z3dp9gi5TnxOO5I5S3leuvm7fnwfffU+efzDO/R9aL9+fso+YH9CwO4AEb9qgK1CUwISAMsAjEApvmX9gP8gQDS99npZuTf5Znpbuzr7w/wkugL5MDoi/Nd+SL5ivpK/fb/0P/sAjUIqgpuDSwRcRYYFXoRQxUnH8go+iv7L+cuYiEIEmEVYTCiQaI0MBmOCz4P6xGtEu8VQhX2A5Htxep89sH63/CU6zHvL+m32eTV7uVb853uIuWA40DkgeKu6Ar4IP9o9tjrRuzn8XP20f1aBGb/cPKB8Ob9+wd2BawB5AQ0BTH8avU4+N/7v/dt8fbuiOtH5TjkYezJ8+jxTuwY7NTxvPfU+yv/lwEkAwoE2gQCBgkJsQ7WEx4WpRVRFvAagSHFJyMssDDGMkYrgBxNFhcl/zglOY0jCA++CX4KJQ2SE4sXlAm+7rvjnO5U+XT0xO6Z8jrxPuRO3DnmovA974ru5vVw9kbnS+AE8d4EiAMH9azt3Osk6ZjtGP0fBML35OvY8g//zfzX9sf8oASr/EXuNuwo8Q3vNujb6W7tzOfx4Fnl4/H69iP2vvct+rD4mfcl//IGiwZvAoQEyQqTCnMH1QkrEsEXTBcxGLwcTyFxI1gnGS8XMVAlVhRuEasgJC7BKbUacBDECzUGKQWFDNEQKAaw93v3p/wT9kHpEesI+rH+0/Q266noo+ZA6EX2twNH/LHm/d997Zj33/Lz65/st+3d7OHxivnJ90jwovMgAtwIDgE1+CH2QfU48wD22fnX9AHsueyw9YT2wO7E7a72SP2U+yv7I/77/IL5r/1ZB5EHR/5x+5gFdg/aDmYK9wjyCSwMdRG1FjQV/Q/AEPQWthqNGkQZqxVEDT4JlRE2G+cXWA1WDGISwBCtBwIGtgzWDPUGCQd+DI4Idvuv+G8C8QaE/q/3Ivq4+gr2nfWj+WvzzOT846HzufrB7JTeZOLZ7LTvEfGM9lD1Xuqw5xv10v/C+Kjst+xi8qXzOPV7+h/79fOl89H/PggZAk/6qP4zB74JJgnyCXYG5f3i/W8JdBBbCNn9cv/JBt0GTwE6AK8DWgaFB2AImwaQAf3/ogayD7IR2gyXCIcKxRDqFNcUThINEdkRsBP4FoQauhrKFQsR9A+AD+4MLAxMEE0QHgfI/sMBOgjKA235zvYJ+iz2a+2t7N/xm/A16Ujoy+wc64Tlp+dI77Hutuf+50zube2S5l/opfL/9hjzkfLF99j5hPnc/s0FnAPy/Mz/kQkuC/kDKQExBbwFIQGFAIIEQQRq/5L+SgKNApv+Mf67AjsFygO/A30GhQdxBYQExgYVCawJwAp4DRcQZRHQEq0VUBdmFE8Piw51E3AWvxH8C6IOGRaMFyUSAg7XDBgJOQUICTYPVAr4/I/4sQDIBGv8N/QA9U72U/NM84P2RPHm42/hSe+w+GrwBuUA5s3sve5u72vyru+l52np1Pa5/Xn2uvGT+qcDZAKwAIgFdgd9AuMBGQlWCpoAgvsMAs4FVf+B+qb+7AHE/tP+DQXyBQH/9vzwA+4HtwIz/m0ARAHK/bz+AQVRBssASP8CBkQLcAqGCigNnQ0CDmkSRRTuC/gCwAi+FbcUGQhfBu4SRRlzEdELvA9fEOAK+AsOEl8L7PiF8wAB7gbV+OPrxO5C9GvxaPD+9WfyQeN14NvvF/eI6mHhQeu49UbxGu0N9Uv5H/HT72P/BwkI/Vjxn/lpBR0CZ/oh/U8B7/pM9dX8AgX1AOL6c/4rBWoENgB7AekD0QCH/kQCVgRi/4/6sfymANr/Wv3D/Jr8Gf2wABoF+QNK/SX6Mv/0BYgI6AZ1A9YBoQXnD24ZjRbrCVIFPBDfHJobsRCwDZMVMhrBFGoMcgdSBPkCFgf+Cs8Ch/MC8Ff7kQJ5+brtue799Cz1N/Nu8xnwJuhD563xT/eZ75DqFPOj/Bf7dvXq9aD3ofTm9NH7mf3I9cPwU/fP/4n/+vxi/yMBLQAUBJ0Msw7SBnYAnwIwBC8AhP0N/pH8MPnT+aP9rPz+9//4Sv6n/lz6fvii+nb7wvnv+v39k/zR+Gn6HgL6CFoK7Al2C6INfBB3FKEWvBPAC1EFfQhWEdMS4giNALAHDBVyFI8Hkv8XAWAElgYkCj0J3fxv8jX7dgpaByD2hPBJ+60Cyf/u/CL61vGi7Vz3KwGN90PmYeil9zv6w/Gy8Bn2XPVK8438GgaM/jf0oPsJCDUF9Pry+iABFQAo/dwCHAi9AQz6x/6dB+IF2/9cAHAAMvvm+en+n/86+DL0MvrN/vz7+PtgAK4AMv7s/+0E0gUbAXL+WAAPAUEAvACP/wj8vfymA3wI+AZqBK0CdwE3BrMPFhEABu7+ZQtvHMEYHghPA20Kvg69DgIQLA0iATD8fAqXFH8FTPKg9A0BIAGL+J70APGi6dXqzvbg+b/rleJ97/L+/fs29Ef3zPqb9l72R/9tAYz2Q/N8AOIInAE0+3YAkgb6A8QA0gPcBJEAAQA+BC0E6v44/mQDeQNA/o3+PwIMANn6hfpp/kz/TfuY+Nv4OfiD96L47Pjc9uT1L/ir+fP4HPvW/jz+/vyoAZcIEQpBCHIKBwx9B5sImRSmGdkOwwbgEiQlviFrDe0FLg5cERcN7guiCDf8yPZSBQsRdwGk6VXqNfxXALf1PfGJ8XPrPelj8wn5iexG4Hrrp/4T/ZHx1fPv+kj5M/kGAvAFJvwL9kQCdA5XB4z7WP2AAywCrwFFB1wH1//Z/lQGwge4/4n8ZAK5ApT7mPsDAX/+ufae9Jj4k/nq85DwFPNZ8yHy4/V7+XH3yvUj+jIASgJnAmsDYgOZA2oIrw6sDyoOxxBbEk8N3wzbF+4dCxNtB+MP5iGyIO8NhgW+CxQPVw1WDpQMNgBE9gUASw7bBErtGOjV9iT/EPhU8MHtBOpu6qL1XPwU8ADiJeq+/ZcBnfch9Gv47/m2+vIApwSw/Mv1RP8dDHQJJP9M/rgFqAnWCDEJqgeJAYIAUwcmCekAWfnZ+X78DPsz+bv5Gvg29Ez0Wvgs+V711fN99uz3NfcI+F76Iftt+oj8ZwEyA0ECxAOsBmIIEwoMDEoNXA6rEesVeBNzCz0MvxewG40QsQh4EkIeaxdzB0cEOguqCzEHGgjZBvX6hvTVAM8LZP9265vs2Pv4/Vr0EfI99GLwce9F+Av7ne1Z5CTxwgBR/B3xcvNG+2v7ZftsAq4ESfxf+r8HTxFoCQn/HgGqBvAEjAInBPIBuvtu/AUEFAVu/GX3KvyrAMT+gfsS+uL4+/cK+Uz6e/fq8tjzM/m3+436Kfrk+zb9Sf2H/vIAwAE6AXoBCQIoAogD0wagCZQLJA+WERcNaAaZCioYihprCzYDLREgH/UWfgapBE4MbwxhCR4N8QsS/kH47AXwDAL6M+bI7Jb81/nb7fvss++P65Xtwfo4/aTtA+eJ93AGLwCY9Y34Sv6y+3z7EAL8AJL3PfhrBMgIpQCV/LUCWgbPAxcFtgiuBKz+2wIcC3UInf32+QL/1QC9/DD6L/r892v1Bffe+GP1uPA88cH0kPXS88DzU/VR9VD1PvgE+4n6X/qc/ogE3AaeBowIuAxBETwW6BfeEOkHLgwRG00dewzqAmkRLyFFGdIGDAPpCRALdwpBDioJ+vfH83oGOBA0+xjlY+2hAFb/rPI98Xb01O9H7w/6NPv16SjiePOFAnH51uys8g79wPu++iQDsgWl/MT7YQrLEnAJxgCvBT0LAAigBZkIBQdl/5H9JgOXA9X7w/ZY+Ov4WvXP8szysfFR8CzyS/T68crutPBd9SD3Efd8+Cn5XPeP98b7Tv48/Hr7AACiBCYFCgYQC48PIRDsEXcWdhRZCtcIcxc3IIQREAEaC/0g0CDRDQMGlg3QEAgOSBHhEcIBwvI6/TEO4AFA5I3fmvMW+kjsj+ZS7RLsI+fs8cz+WfSE4yTtdARGBtf35/ZgAYMBe/wQA0UKdwHO98oAUA2iBxH8s//qCMAFpv52Af8EVP5c+IH9GAIb+y/zg/Um+iH4p/WU+CD6RfZF9V76/vu/9hD0ePcJ+Sz22fWF+Y36L/iL+G38B/94/1kBXQWaB7sGWgcDDFMQFBFwETcSpA4vCpUQJR3zGlQKfwawF+ohlxNqAl8DoAn1BaUCowbRAQzxW+86BJoLuvOa4XHw3gJr/Jbxu/bQ+JHtN+7J/3YAL+k54R/3jAVG+IHtovjBAe76k/kDBVQFpvZz9ZYG1wuc/UH3nQEaB/0AHgApBxcHiQCGAj0LBwvFAe79JALDAl78Kfhg+Yb56vbu9RT2zvOL8TPzx/WX9ev0tfVu9l73rfmE+6b7VvwX/1MCfgTcBZkHmQpdDdQNuA4ZElAR+AmDCTAWBxysDLz+CAtoH/obbgg+AqYJ/QqtCJEPbxILAdPxn/9+EuAE8OhB6V38tfsW7d7uwveZ71jn9fVrAjbx+N4Q7i0FNv+u7mT0fgEV/Sj4ZgX2DY8AUvgyCAYVQAoG/0AGQA1cBQn/FwX9B3r/RPsMA6gGEv3L9Yn71QDk+hL1r/jF+7L3+vUQ+gH6ivSm84f3x/dd9Yn2Cfk1+LL20PeB+S761vsl/1UBpAAuAN0DWAmvCw8NLBEUEioMaQx+GgAj9xV1CNoT3yeZJLAP3QZbDWgPUgvQDSkP3f+T8H78wxHWB0fou+GB9pz9GPBX7KDzSe4M5m/zQwPm9fvgteunBQ4GcPXm9bsBRAAz+y8FUQ3sAAT2RQNGEz0McP4tAiwMFwmEAswGKQvhA+v9AQWpCi8BS/Y0+QP/Bfpi85r1s/fU8inxhvbh9rzv++3w88D1RfEB8EHzBvRd8uLzHPjl+iD9iQG2BZcGBQiVDtwVsxebF5IZbxc1EOQRER9uIToQOgfnGFAqYR/VCeQGtw5KDIwG2QkmB2jz4OhD+/MKNfcU2/ffmfYt+fbucPHl9Wnsx+kL/MUExvD+4UXzpQdXAWD0vvkKA+X/T/+QClINEwBi/LYMURaEChcAWQYNDMcF0AFXBusEh/sF+zgEzwNL92rydvoJ/mn2QfE19Kf03e8d78HxT+7U6CjtYfZf9jTwr/Hx+Qb+4P1FAKYDPwRjBpsM0A+yDNULqRLzGcMaHReUEdQLbA2rGBMd4A07/jMHdBupGsEGQvwyAKMB9QBnCBgLLvog62v4Qw1IBOToa+Ne9ML7VPXm9Bv3n+2155v3dgY/+WDm5++dBr0IYv3J/RsEZQCe/U4H6QvX/m71tgATDXYGw/pD/FICYwDB/dgA6f8y+Nf3wgFTBPX4uPD+9aX83foX+C76+/pk+L35Vv/L/w76Zvjg/SABS/2F+Zv7Sv8e/138efpU+in8rv/KAXYAfv9GA/YJug75DgMK7QM8B7wVTR3DECMDRg1sIroidg/fBCIJfAvECgER+hK7AfLw7Pu7EGsJ1+3C5aP0u/sl9ZfzGvT06PLhgfECADTydt+C6Sr/A/8Y8w71b/zx+Mf3IQTwCf78DfWUApcP2Ajl/kQD/gk7BqECfgcYCfYBrf/UBrEIPADH+90AVANO/k37Ef0K/En4m/hD+u31u+9K8GX05/Py8N7xpPSJ9Mfzw/WD+LL6u/6sA0sFSwV+CR4RmRbPGCIYbxLbDKkTCiMAJHYRQQdqFucmRx+mDBYGAQc8BFcGuQ8JC2/zPemH/PoKSvgT3wvhPvAU8rXuUvMk8aHiquK8+GgB2O0w4pjzvAPz/Jv1n/z5/pP2HfnRB58IMPrZ+OIIHw/5A/f9lAV1CmQH4AgkDokJof/fAQ0MSgrV/Wv5Zf5D/lL4PPeC+fb2i/P89fz3//L57qLzUPkp983yvPS/+Wf7f/tn/dv+CP8XAiAImgv+C2gOKBMEFhUWnBMlDjcMwhVuIPIYqwZrBt8ZtSEuEt4D/QRXBlEChQfvEOsFv+1Z7d8EoQls8IjgXOxn9gLvSuxG9E3w7+LL6OX7Qfn95CDlcfr3Abn3fPYM/978Xvao/z0NSgjh/MYD5xI9EQwFKwTpCtYIqAJsBE8GeP6B+FD/kQUm/sb0avcZ/lf9F/rF+jr6HPaz9fP5Ifo19QH0o/fh9wv0L/R0+Zj8mvu0+1X+SQD4Aa4FBglbCRUK7g5JFVsYRhbTD/EKnhBiHTsfaxHlCT8XbSWDHagKswM9BrUF1wZ/DUIJYfQs6lz7ugqz+wPkG+U49PD1E/AV897zCegU5MrztfxR7vLjWfImAjH+rPdn/oYD3P3n/YMIuwlM/fv5tAZWDQ4E0vz1Ac8GPATNA4IHgAWa/8gBagiKBPL4cvaO/TD/gfi89KX2AfdI9VX2oPc/9PDwyfTu+5X9efr0+S79MP94/rT+AwKRBtoJ6gr3CoUMxxAcFv4ZNRqgFH4MlgyLGM8glxbNBkYJtxnGHeEPVAQLBCcEQgLyBj8Lwf9d7yzzNwS5AjPtnuNZ7/H3ifOc8sD3jfPo6jLxSv70+Y/r9e3a/JX+zfQM9Vb9rfzL93D9vwVzAQT63v8vCnYHQv08/K0CiAQoAosB6/80+0H7jALzBf7/5PrI/WoB0/+t/TP+9/2Y/K/9Cf/B+173tfiQ/X3+kPvB+kf9jP/U/yH/WP7C/nQBMwReBHIEcwh8DvwRkRLyEKYM9gr8E7YgSR6FDQQIsRcCJAMacgndBUsI+QWEBy8Q+Q3q+0Tz7gAMCwL9SOst7fL1yvJP7SzxtPH/5n/iyewq8tDo0uT98JT6dPZg9H386P9n+WH4DwEoBJ3+bP94CAgKngEO/9oGOwyICYYGmQbVBacFwQjeCMAA1fj++TL+z/zb+Dr4lfg396T3lPk+9xrymvJE+Fj5D/SJ8a31Fvrr+u/6+fvg/TsCQwn6DZANQg0TElkZuh1NHOYUag1ZEJ8cJSCQEkMHlRD5HwIdAQ0gBXoGhwViBRkMxwsD+hLrzPMAA7H8cenD5JzuKvMh8Zvz7PWq7yTrUfOf+1X2ae+B9RD/5f3B+Jn6+f1a/B782QD1AJD63/qvBFcJqwEV+mP8gwHiAS4Aav/x/eX9VAJ4BUQArvdY9lf7CP3W+Hr0HfOs8/r1L/iX9ivyMPFM9s373fxH/Jf98P8rAcYAEgAoAG4CnwbMCQILogodC20PvxbVGnMUJAqFC6YYWB5IE+MI3g5cGjsZ9w5GCUQHrQO3BKYN7Q9UAsT1fvt0B5YDpvQS7o3xNfQh9Mj1ofRo7DXn/eyT8wLwN+r87e31IPfw84n0KPcV97L3F/tn/B76PfuJAm8GYAEj+0L7N/9OAToBEwBW/VH7EP05/wr8MfYb9fv4+Pp2+I329ffI+dT58fhQ+Af4J/mY+zb9//x4/Nr9tf/K/2f+j/22/wQECAj5CfUJUQq9DEkRFBZHFxwSFgwfD7saSiAzFu4JVAxFGK8bTRMyDJEK0AiJB4ALKw7nBKf4XfoyBUoEu/Wl7IrwU/XO8tfvpO/A7E3pIOwx8YvuU+ff513wqvSA8ZXvevIe9kP4ZvmN+DL2aPcN/uACQQBI+376tvwd/oT+3f1s+2H5i/snAOL/VvtB+pr+aAHw/cv51vkx/Pr8+vsj+kv3uPYf+gf+HP2Z+ZT6Mf94AkICKgIJBJYFfgf1CcsKfwgrB80LkRN1FpARBAtZCkcSFhtBGlUQwQkDEfQccB4iFdoLegkxCzQOoQ/aCtkA+/o5/6oDrf308VHsiu8z89jxs+026mHpHOwS8A/wfutR6K3rtfJw9ZTyxe9b8Y32A/o++Yr2fvWH+B791v5e/D/54PmG/bL/Sf70/Mz91v8EAWb/AP43/Yf8//zw/Cr9fv10/Sr9NvzS+9n7mPz//fn/qwCW/qv9OP8YAbsA0f5C/vb/YwMnBlQIuwjZB/YI4Qv9EO4UbRW+E7oR3RMrF0YW/RGsDzYUfRn4F+4Rmgw3C7IL5QpbCeEFcwDa/LX9FQDD/R/2VO5P7KjvyPK58ljvtOyY7jLy+fFL7qfsLe8Z8gPx+O+18hL2ufdK97333/gA+bH62v00AEEAMgCtAYYCnwKOAl0CsgC//iD/NQCOAAT/3/14/kz+Uf67/iD/XP4J/ej8Xf0U/7D/8v6E/Vn8C/4X/2P/uQDXArgE4QM1AjEDGwcUCvoKpQrhCcgKwg0eEhkTWA/yCkQL4BBjFEUU7xHWD4IPIA+5EOgRYRA1Du8LbQt2C4cJWAY2AuT+8fxB+/X5Gfgv9ufz5PAT70/vVPDU71PvNvAx8erwFfFl8z/1zfWV9av3Pvpp+ln7LPyy/O/69fjY+nH9Bf/M/SD8sPoQ+cr5pvuL/cz8efrr+fL61/z4/hoAEP7S+t75CP0tAiQEJgLy/1gAxwFDAqcB0AEsA7ADMAJFAKoAKAKFA1cEYAWgBtwGGAipCvUNcQ+9DaULxQuUDToNMQzdDEEOJg8sD5sOTQzcCUgJRgq8CicJsgZbBdAF5wWUBBoCYf+s/FP7Zfwt/U78lfr7+ZH5cPhP97z2A/cw9wP57PnS+IL3a/aG9533PfdL9zb2FvYO9/L4EPrE+fH5f/u2/F38MfxD/In8Nf1m/a78Gvwd/QH/4v7B/N76nvoz/Ar9Yv39/BD9dv4o/wsB7QAKAC8A7/5K/6IA2gFzANf9O/+IA78ECQKIAVcCwQO+AqMAIwMUBdAEJgPFAx8GuwWqBGkEWAYbB5sGOgfKCH0KlAm5CJoJJgrxCKcIogrdC5AKngcKBwEHEwVnAyYDNwPLAf7/j/+y/xr+Of39/b/+3/4h/rT+B/+U/j79+fs9/IL8sPwA/C38E/xI+rD4oflR/Ez88frq+Qz68/jV90T4I/dx9wT3//aJ+If5tPqe+gH7Rfqh+RX6RPvW/I/+UAF2/5/8/Prj+rv7Pvqd+5n76fnj+FL5IvyA+1f6t/ry+4T75/pS/pAB3AH6/r7+xgD5AdQCKAIVBDAFAAUdBiEHpAnTCa8IZAhGCLwIiwdmB4IIkgijCGcIswihCR0KgAqGCkgJYgiiCKEIFgmyCO4HJQhqBj0EUQRXBZwFfQSdAYf+Qv0x/dP9Dv63/joA0QDG//T9Qv7t/5QA2f7W/YL+b/3g/DH8CvzR+6H5XfiT9y332fZy9wX2H/Ng8ivy+vTo9MbyD/Tp9LD10vM28g309vaX+CP3hvfX+Mv5VPw4/t3+IP5F/hEBDgPwAjkC/wBQANL/cf+vAFoBvQE4AloAlv8BAtEDLgSyA8cDRAW9BIwDZwRtBXMFLASaA48DzgExAZsDQgcdCIAFOAYfCZkJ8wjxCLILzgxNDJQNSg4DDq8LegsXDG0JnAe5BwoKsAlQBn4D1AFyAg0AkP0D/d/7VPtJ+Wj5LPps+PD2x/W19p73+vaz9zX5Kfnz9yb3l/fK+Pz44/mR+3b8dfyJ+xL8bP2N/W38fPtD+8D5zffS96P5s/qf+kz6UvrD+s/5g/mx+yH+9f1w+qL3iPhm+gr7lPtG/If9nv1C/Qz/swBPAiwC5wASAc0APQLwBCcGkQW0Bf4HrQhrB44GaQdxCNEHPQY7BT4F8wTkA4ICcQL+ARUB6gC5AQ8D7wGBAmMBzf9HAiUCxQO+A74CFwNOADgBcgGeAVUB9f/NAYYBTgIWAhYDwgTzApsCgwGxA5QEFAMOAhf/cf+F/qf+uP9h/7H/Mv1j/PD6Jfj89v73bPrw+tz7AvzQ+wT6ePgE+kn64vqC+fn4KPwP/nX+vvtz+rL75/sl/kf/qwCQA5kCkgGEAHwBQgRRA0ED5gG8AYABa/+QAW4ASgA3ACH+Tv8X/4cB+AG7/wD/8P++AwEDdwDQ/un/NgJUAAAADAFBAeIBwgFrAbUDbQPRAk8GCAa2BlYGygN0BbgFmwUsBacDYwN9A64CkQEaAUIBcAHQ/1r/WAABAQv/Gf45AIQAQAFV/70AlAMBAiYCwP9g/1T+pf0//3L+gP7++3P95Pyc+XX5VvqU/2b+UPyJ/MT9PADR/aD+S/+3/mH9ZPyp/kH/0/4L/7wCvgOuAgYCogGEAlwA8AAcAS4BXgFZANQD2wNOAE7+bv8eAtECvQD0/7sBlAFqA4YEqgQlBBICJwJxAlgEjgSpAwgDRQRpBlMGlwe5BvkF8wJwAIYBcwK5A60AWwGBASEBqQM6A2sFWgI3/xMA7v8kAOf9vf4C/+H8I/yL/A7+v/x6+k37c/yg+3D6VvrM++36xfpP/DP9u/yZ+SD7r/tj/Pz8CPwU/6/8Pv7M/+3+iQEm/7IAggCz/qn/df+NAJ//KgAZAVUBOAB//rj/xQC+AfYBOwEcAQQCvwKNAwUCDAFFA7kDsgRHBEYFvQcUCH8HmwVJBkwFMASbA9cCqANOAo8CLQI5AdkAUAE5A5gClgH+/4z/zwA7AHz/CwAA/1X+L/6g/IP8wPp2+0P87fn++Pj4n/zh/Ir7b/wG/b397fp2+Q77Bv25/Mz7UPxf/RD+3vxd/cj8x/2bAPT/zv0a/P37AvzO+235cPlL+j36lPyZ/fb+ZP2m/OT8Sf0f/3b/XANlA+MCTQNFA4gFpgSHB/MIzAfJB/0GHgjdBz4GYATjAVD+BP/ZAcADNARVAOUA2AFMAdoCBASdBAMDhgF3AYQD3wLrAQADUwJKAp4AMQAaACL/oP7i/SL+B/zi+6f8dfxp/fz7+/vh+wf6W/vB/OH8w/ws/Mf8Rv0+/Tj8wPwP/YD6HvrO+PT6DP1V+gP6g/gd+5H8vftH/T/7UPxB/NP8M/6g/Bj+Qf6D/+7/hv8hAagCVQZNCGwJQwh2BuMGuAVmBE0AXf0L/Un98P95AM0B1wLKAhIE9gI8AyQEtAQjBvQFRgbnBuIFggTyBCcF6QRRBIkCKAJCAa0ADgHU/+39L/3B/RD+2f1Q/cX9tf1U/F36C/rf+7X8uf2C/AD9qP1N/Cb+Avwx/Av+P/1gAE//Jf5H/pv6h/rZ+fL54/6M/73/Tf8W/UD+3fz1/DL+Sf50/rv9gP8wACACiQIwA6UDFAD0AMD/nP/4/mn8tv4p/vX/vQGnAUMCq/+oAKADIgQMBHIDFQVuBzsGLwVuBGYEhAT0Aw0F/wOwAxACmwEGAysBmAAV/DP7XP1j/Pn+BP7J/fD+g/w+/Dv66/kE/T/8Cv46/QD8H/+R/ff/5/32/In/m/wR//f76v2v/hb7w/5y/Mr/hv+Z/toBlAH7Ao7+//7e/6T/Wv9j/L7+b/40/j3+Uv/WAKL+ZP0m/mL+Fv0Q/oX+QP8Q/tL8T/6d/4IB6QEzBJ8DWAR2BfoDTwUGBf0GUAZSBWUEgQTdBnAFawYCBfEFBwQNAaUCLwCMAJP8Yfu0/Bf7iv2l/Ff9Xv3h+kL83/wZ+9T71fuv/ED9dvqL/eX88Pyt/kn9eP9E/DH8FP7L/uP/xv6J/03/ewFRAe8AUQHjAF8BgP+s/6L+M/+h/5n/GAD+/jH/Df2a/qX/h/93/t37Xv4F/5AAFf+Z/Ar+Kf4EAfUBhAIfBLADNwR9A4EDaAU8BWoGBAguCBUJHQhaCXkJnwcFBxoFCwWIAqMBPQJsAHcAqf8u/3v+Pf6z/Xf9Hf7E/gX/Dfss+xf9R/02/sD87f07/3P+PP+6/1j/Vf+1/p7+kv1M/Hv98/1L/kT9p/7S/zAAvQHG/q7/i/5f/k4Auf2Y/3X+L/9HASEBTAEP/3X/SP4l/sH9OP62/239Sf2a/ef+N//X/4MBDgN6A+8BZwRbBZAEPQP5AyoGIAUpBIAEDQgPB5AGPAc+Bh8HxwNFBVcErQASAK/+nwH0AN8AcAGTALgA0f9RAb//0v5r/5EAnwKvAe4BMQHXABIB0gD/AAf/J//8/kb9Uf4l/uj99v75/bn+uf/W/2MBPAAs/8f/OP8lAI4BvwG1AYH/qv/rAVcAAADm/VD8mP2x+4f8//wm/U/+bP6h/4z9uP2e/2L/Sv9h/oD/GACG/1D/Lf/b/87/JQD3AMUAAQDRAUsENAIM/5v9Hv4u//n9RP7w/oH97PxQ/dv+Gf9S/1wAQf9G/uH9/gCaA4YCJwLGAIwC3gL+ABgEswSJBJkDFwJKBFsDvwLFAhsBcACH/hr/rQDKAtIDFAKmAwACKwBSAXABowPNAoEB+gAiABIAm/6i/0wAKQFEAav+G/5a/lMAtwCq/zwAEgDWAB8BAAAQ/yD/nv9tANMAev5a/uv/EADDAM/+P/48//z9Hf+f/ar7wPsV+jr7+fpr+jX62fds9yT3kviL+eD4aPj2+JL58vhK+077pPyv/zAA5gKlAEH/cwE8A0sH4AakA/gAfgHUBAkGpwVPA/cB8gHlAXcC5wK1A6cDGwMCA08CAgKqAzUF1gQUA8gABQERA5UCEQFxAAAALQAd/6P+UABJAesC9wJOAXEARgCtAfAAZf9K/hr9gv4P/7P+0/6p/hj/AgBZACMAuf9y/W78Ffvj+ab8hvzg+yX7evkV+gL5svnC+R/4t/gt+KX3p/aZ9vL4MPv3/P385vy8/+kBqQDN/zYAFARTB9MEVAKNAG8BxQIDAvgCiQMvAoAA5gFCA0UDAwICADsCmwL8Ac4CrAGRAPv+a/5y/yIA0v81/9n9tf7jAdsAnP/s/5wAXAJ2AXUA9QDb/6T/5QAtAiQDTADb/80BygFAAyoCiwLUAnQBWwJPABH/YP4j/w8A/v1Q/pn9wfwp/Or6Evvg+Xr4s/d09xD45ffR9t33r/n8+d36GPsW/Gb+b/49/hP/e/97AHYABAD7/0D+pf67/xf/Wv4W/20CNQIEAMb/PgFlApP/uv+3AUYB/wDaAIADIAQ9AUUBtwK9ArwAtgB3A1cE+AJnAFsB6gJCAYEC5wIQApYBTADmAbABcgHOAqYC3QLlAZcCgwMKA+0CIAPTBFUD+wANAAcA1ADJ/5QBMgKF/2b9yPuR/Fv7nPmX+MD2A/cM92b3lff19gz52ftV+6L5B/r0+zP9yPuV+/j9VP5I+8n5x/tQ/dT9/vua/H/+O/30/Jr8lf+fAZsBiQLfAEUBZwHSA0QGcARkA98ChwZ+CFQHBge0BzMKXAn1CGIJEglSCBkGTQZfBlMGaAZyBJYDKgRkBAgFfgRFAggC6gKnBJgFTQKq/qr9Y//wAtgCsf8l/Vj6AvvF+mv5C/nW9DT1A/Wh8/vzc/BD85r1I/bP95HzUPJH8w31IPqH/O76vPns+bj74v3U+rP5y/pI+z//gADoAX0BSf7rAD0ESQeKCHkHIgjRBdoDswNNBOIGJQfdCdMMIwsnCoYJ8QpkDOkJWAf3BRgGUghgCSsI/geUBwUI/QgGB/EF4wNpAg4FjAfsCJ8FJQDG/tP/6QCp/iv7//kQ+uj6j/p3+Yv40Pf+91n4avl6+cP35PXj9Gj1XvfQ+Rj50Pfv96L5ovzO+tj4Vvhz+Cf8+/1H/hD9n/so/poAQ/9I/AP8jv1A/gX9Z/0u/6D8fPo8/QACMwJk/Hn5Jf4dA5QBjf/7ADgFwghmB8kHcwrVDIoOBwoJAysAgAJoCC4LXQr1ChkMngw0DF0LfgsFCRsEsgLgBfEK4Qy1CPIDywHFAlgGLAYdBGoB0vxB+yH7/f0pAnIBkf8n/aX6Pfr7+Q/6Ovta+jn5dfrB+C72XfTp8yL4zPhB9uj1LvX69Az0wvPP+O/82/rp9z32mPeb+Yr2k/T39Ov1xfmD/BP+NwB5AHoANAHfARAHSwyiDIoOPRJxGG8eACNcK7IpDBQG+ZLunvv5CRUIYAKSBEIJqAcq/8D4h/LP5w/kh+3a/d8HMAbpAvMAmv2++3T8If5o/WH86gPwD4sUWw9JB54DNgGV/Y77k/uL+jf5jv+nCHwHgvn66QrnO+tZ7UrwBfMz9Dv2VPo8APb8H/Cv7JLyWPdS+Dv5MwJXBZn6uvQ796n7ZPlp8EzyjvoZAQQIcwhWBMP+CvxEAnIFUwETANgDiw8QHiAnXi7OMv85Fz/hLYIPXftN/nYKWwXJ+Yv57vyf+hrwJ+bO3evOBMqW2dPvpf8RA64CmQEo/PX83QMFBVMDSAivGBInFSIBFs0Ltf9E8y7pd+sn8k3xXfES9X74svDV25fNMs/k2iPn1e229UX/EATdBosHiAQ4/LjwkvH8/+QORBY+ERgIwgAH+gr33fEf7FPtuvPq/uoGkQe3AzL79fd7/g8IuBNKIUIyHkRKUbBfvmEwP3gFDeA17ooNNgxc98Dvv/cA9Jrd5syrwA6vKK5F00cIqR6eEPMGRQ1MDlsIhgblCy4OshMkK2Y60CiJCIP3oPVX6jnbddyG4b7b5Niv51D0YOGHwOm4Xc2w59D6qgeZDMoIgwm3E/MWcQnH9z70MQA/Dd0QxQdg+DrvH+7E7Kjlc+Ae5srzQwNpDVgKv/nk6d3r/vzfDBkVpBslJzk2FkJgR+xIa035THEz8wMW4u/mp/oo/LTwnO6D74Pgx850zZrUGNSW24UAJCiuL08eXhV7GUYU+glGDZMZ3Rw8GZ8ZGRUz/NPbDs+20Y7U0dUV277hR+An4sLsKew72gDOp92a/HgNkhAzE6cOeQLS+5QATwHv7affbe2qAqwGIvju61vpZeM74o/s2PhcAP4BwgkMFPYRnwca/30AiAopE0YaASg0OLZC9ETTS4lgE1o8HObPXLpe6q0T5gbR7f7vBv358EDXI9NH1mfRgeMcGo5LDUWfHIcOMRY7EIAD8AY9FOUWIRceJZob8ubFvHPDhODJ37vPAt2d8Tnxju1e9z74e9ssxdbdLQHhCXgKWRHQEz39s+ZL6H7k09Ro0xPrHwQaBrz9zP5J+V3sY+nq6zz00PnSBnYY0hKJAXDzKvPK/xAMyRMeFoUVAiJ9OghH60z/UNVZF1K9H3DuWOGV98IFZvGJ41rvlffG5kHSJdj27C/uHfOoEgAwZTFOGYIR3hWzCsr/0gILDhcRAw4sDkwDeuSY0XDVldyn3tbhvPG282HnLO3vAncHGOxo2b3rKgjEB4r5zvMh8yvsTd454E3h9NrL2yzwvAw8DO73Gur98ZP5PvX48lr6pgrPD64Qbgv9ALj3QfdjCOoZWiSUJ6005UUtU4hbPGG9Xpkrht8hs03P7QM2BOXmW91O81n0/t4A1+TdBeHW6hsi1lSWT2sgOA3QHeQSsPmy9rYQ1hvEFboaoxQl6ze9rMKu4djv2+fa77QAYfyP/jIG7gdX6b7SfuzgDDAXVQZ8/GzyT+CE2XPho+Yd2pvbl/BBBWn9zekL5UDla+sX8Tn73fwF9vD6NwjhB8XzdOQd6qAA/AylGosomDDrOSg7MkmWUhhYqFRELdb44df/5kf+k+7S0lrb3fdu+XbiUdo07y/4uARlJl1ARTdwGFUgyDUPJev81u76/Hf/IPlBAdMJ6egJx+bQCfKP/BbjdOHr9QEIvheUHL0RWe/02ijxDghu/V7obuR+8x/1S+Ye3jrS3dPg5ID6bgNO8e7p9PFN+9X9Z/zDAiIGWQI+94bqYeMW64kAZw3/DsMLeRLIJzQ2AEROUgBo/XfCSzT7PMCDzz0Bmfm+2WDUXPO1+ejV08lU0wrfM+5YJ35oRmRwL4MSRCYvIXT7GOqW/A4VzBl6JHgc8+ZdqyaoJNXd8X/wuPU6DfkV3Re2FW4G8OQkzfPqtg4iFZIBGPUr9xPt6+Rv3ivZ6s+x22f/jBjFGTcD3PXh6Xbqu/pXAO73kuOo7cYDQgPW7PHZt+aJ++wU+CsGQohMa0hrTnFW6l9TR68Ix8vutXjdRvzb77nUi86a4oTejdGU2DXrVgFtGTlHhWTqS0Af5gYGDL0JWQEeBH4DFwD1/F4A0ej4t62uydX9A9YDNfY9Ba4NygUY9+b8Zv8U5E/gov0zH3MZIPRz4gDYpdQY2ivlH/Dj6IPxigiZFGsN5veM8jPtH+sn9Mr9CgYs/aL+jAKt/NL3X/VsDSEpbUgLX/NV3U5tWtB4AF7484mfKKhD82YOXe502vzhHucf0+HRn+eu8GD2XBXMTI5eaz2vHTITSQ06+THz/QTQDcMKSgW4ADbjHrWcrF/ODPfQ/J/y7vYpBB4VgRhtECf2h9wg5QwCAhiOCcfrK9mF0KzT59oQ42DgV9eX4qkA4xHYAiXpFea773XtLOWn638ClAusBRD74vRL9Ar44RNFLqJDflI1XU1sh2Z7X3A5avAms4+vl/FwFEcD/efP4sXiEsilyYzprgT3ClwkfFuFZIUyvv+yAmUQxARgAuQRnxc0/yzw3vWH5kXDwr+L4poBiAbZCEwU1gEq8Jz7qhALC2fnbu1QBnkJHfU63kfVwL1kvA3cEPnZ8rffqe0+/p/38uOq59z1pvpUAhgH7AJD8dj0WQa7AHnsLPE9G6lBLVIvVVFdNVzSW6FStBuK2GS2/OOgEQn9ptsu0sboruDUzMfQD9nD6iUOJVCQaz5EVRLRBBsVLxSeFdMf7xidAqH41AYQ/EvJ4q7zy//6ag8iDE8SMA0K/NfzHPUB+CPpA+50BLoORgSU6kfZscHMtlfGJuWg81fnouTK55bsq+aa5vjzJPj0+nT+cQVkCOgFl//Q+ifx9fRTEBcouEGJRJFOZ2fMdnF0iyqh1UKyxtMmCNv8lOLX3Jbu5+yK097OCdIj36n+B0BMbTRRMxvoBPwZaxyVDKURBB2IIyMZbxeyCqjSJ7L3x6T99BC09cv2WAcrC2r+dfM2+yTysuhC+h0ThxPD9Vra8dEHyizGZNQd5/7zy+5i7d/vT+jX5XTnj/j7ANH9vvjf9Wf75/jN+i73PQLJECMgpTgdO+lMR1m8bWxqwh+c2eK2it5KBxL8eO/25dTpCtpwz8zeuef17RUGrzvjU68znAsPCHkZ3RkTG+ooxCjcEZ8AlQW9+ebONcJ25JwL8wj89RUGgw2AAY7vlPAD/6XwNPSpCY0XIApk6YzhXNjEywXLRt9W9D7vneqg8Hn2Guqu38TuvQNSB0D7qPef+lf23+pW6oH4AwcoFSUpND7uSbRT6mOhakk3EOBvscfIiAMxDtT6gvDS6P3jkdTn2JLfkd3E+rkwU1dRPg0OGwLkEE8ZiBf4Iy8oIhfBBnYHwABi1ni8JtSw/VsMSwGYBgEIWPiB8m79mwrx+vv0GxTUJCERuekg3nPmOd713BHr1Pi97kLfXeYo8DfrwOGH8xwL8Qtl/u3xgvIX5sjauOc+AcEVpxj1J2NB90/RUaNV1FvcMtbp8L2J1EIDewDr6YngXuCg1qzLIuGF8fzoVe+4IGZOSDjFBEz66hYgJS4hWignLO4Uw/hI+ov8gN2nvqbPbfwXC/v9MvqU/D70De4o+6IMEAMQ/G8TrCZ8GYbujdyw5kTsWvG19KP7oO894Bvkyu4f8nnmovJcCdMRvwKb60jr9+bQ5PXrpgN3GG4ZMSifPi9UcU8pSYFI5xv33o2+UuPnD9v+0uT54HzmNNVtw0Xc2/Up89z9+isRSjYnJfT099MWgR/1HlQw+Dm4G4T7F/rF92bYrMda6IMR/BBS94T0TvRM6XHlu/NPByf9Z/vFD7sVJAHo3MLV0eHL6eL2PwRbBi30GuRm6PX0c/VT8LH6pQw2FlILLvcl53veH+QU9l8MGxVyG48sfUF+T5BL8ExCQbQNzdR2xOvs4wsE+mTjTODJ4APTM81Z3y7rlunyAWYxvT4oF2Dxp/zFE8MVwRfXJ9EswBNnAPD/RPN01T/Rs/lJH4UZ/f0B80jxePME/JcIFQ5BALIAUw2TDT340tgU1LrhOfSS/Q76ofEv5Vrh5OJY6tPu2vDC+XMHag8yARztKuA15w7z2/tuDBQTgCMdM55CCVNfTyFRezdHAFbTV85i+DYKjvkF6sHk1t30zV7T2uaM7Frujg0TNgoy9wvg91oHGw+sCoMYdCuiJ5EL4/12+Tvel8Uk0oj4wAycBMr8Bvia59Pip/V/CjAPmghzFbsetg/K+5HuuvEN88j5zAP1+wrrntuI3izlOufD7CvyTvj4/MH+s/Yr6tXiIe4x/IsBoAuGD+QcCCYjLupClU9UXEBAIAF70irSOPzdB4f2P+wJ72PrftYl1rHhHeNn5BYC6iwZLjoQ6wEAEdcZpxVSHoMqWyRWDtwFIQPW7PfWU95J+QQGOv1q81HsF+H44tPyUwDvAHz+OA05FHIIr/I74pXml/GsA1AIFPkk6d3eWeNq5jXqyfEU9Tb5Kv4/AEj2EOqe5k7xY/r8/CoHwA9EI6gzzzuwQ4tHh1amQhwHg9YW1s/+1gfd+fb25vZ750vK284n403lzemoCeIxryylCyUBOQvJDkMQZSVfNb4lhg6CC14IcOuB1rvp4QbVCdX6m/ay81/ixd247b7/TAEA/7gMlA0E/jXsuOUm7bnw8/xmAuz3K+sH4RHix91m3/7upfy5AYL8ufkw9Yrvte0S8Sf3bf0RCu0QNxeZILQuwz+VS3dbiE0xFtre1td0/6YMgfub9Bf7ZPGrzoTGCNmP4Z/nCAe0MTIvdgqF/qkPYxiMFmQnVjp1LHoSlRFCFFn1utKX3Hr+YgZG9frrUefC2P7V8OgX+3/6rPpFDFwQRABw8qvxhPV89XQCzQvD+5XmxuTc8BrrS99a59j2Gvsq9xL7LPme6UXl8vSAApD/CgEWErkc6hdhGxUxJEjIVzZbmkG7A6vQidvJBfoQTvq57hP0tOhm0HzKrNPf2fTs2BhZNY0clvac++YZbySqHywq6jWtLLUjlSYUGcDvMdt09bwLhvkF4dTlpux93SbVjOYd9jPxIPXVCAwKEPPz5WzzvvtJ86r1SgOaAXnqN9vo33LkKuV47aP8AAGn+XD0HPAe7HrrevTqANgGbg4TFPsVUBkdIqcvAzr8TH5gglHVGTXpcvBaDwISQP3p89H1ROVj0e7QQdNAyqvStwPLJzcRIe5E+68fPB9wDIwXwC8rLWAgyifmI0P6ndqy7m4LVv3J5W/wD/8T7UvXmuEX7xjnq+qaBygWLP2w5yf0Xf7/86vup/5AByT3s+sa7cTp/t9z5S/5Mf0L8W/pR+w6637nie6d97r5mvqGBoEUgBf/GFAgYi4HQCVTA1WoMdAF8vz5FV8igBDQAwYKxQkW9fHfctiV0fPP8OerCQoQ2Px4+AgKsAyf/F76NQ23GjIcNCbNLDsV8fHX7GABQgbz+QL6/gSnAHTxR+1F7HzgRNkP6qr7J/MY5M/o3/dt9pbq0OmE73LxmvJG+V/8sfRC8Xz7TAfXBTP5Ru+m7q31ZP4+/wz4P/RG+iACswFA/vYAHQk2FbAlkjDdJOcIA/1fDcscoxSyCYsTNiHvGBIINAaZBx77pvICAgUT0gtSAHIKLxcfDIH5LvpVBJYDhgC9BZIGdPzf9kr8OPz/85310QA/AgP6VvxdB2gFC/hT9eL9x/3T9Kf0Rfwf+WrqqOLi5mvqOObI4IjfBOFk5HfpPe3z7GbrD+0R8ln2r/fp+Lb7Mv/+An4Img0dDOUHaAsKFVAZlRc3HFAknR+BE2gT2hssFpwGvgo3HjEf2QvyBi0YVxrzAbHyMP/GDBIGWP3uAPcAevad8qD5RPke8Jv0SwcyDdgCxgC+C0AMO/0y+NkCwAYk/iH9/witCx4AjPvkAiUC8fRW8Lf4Hfj36Bnia+rd7GHgudZ/2xXhiN/n37Dl5One6bftYvXw92P1hfTs+A//ZAS7CSEMPgmjBZUJkBXeHdcbCBq1ISwovh65D38QgxovGPgOLha2J78kzA5wBqkPSg1d+SPw2Pmp/qT4GvqjAsv+L/Ff76L22PSH8JP6MQqyCxIFswXYBtb+9fc3/CEBuP7n/w8JNgz7AmX7xf04/4D4jfIx9av57fdP8pntC+oK5qviceGM4ZzixuSi6Ont4fDM7gDqFeno7SjzOPjZ/64HxgjlA+YCHwY1BwAHXAz4FQIbiR7EJpYsPiUEGN4VUhqrFkEQhBjXKMInhhZhDYQPXAd79E/w5vwzAhP7G/tpAhz9V/Dc8Rn8b/ie7vf2FAggCB390v1zBGn+GPXi+U4Cc/71+fUCigtpBD75+fd597vviezN85L4wvOU8GLz4vBM56DgpN+J3oHfAunS8k7zkO/L8Jn04vNV8/b3wP1uAD8CEAZyB3QE6gFbBMUJYg03EEEV/hxYJC4pOCrNJJsc/RgBG/wZIBR1FSoesB2EDucDywhiCZP5Hu109f8CfgK7/VsAG/9W8i/qkfAf9lnyi/SbAvsKUQcQBukJ1gRz+aj6UwWpBVv9d/5NBx8Glvti9Qfzr+yp5ojoEO0U7eDrreyt6/Dnh+VB5ErhQ+AU5ljuAPKg8tr04/a19b30AvkSADME7gRgBS4H5AdhBgwFuQYnDH4SyBikHm8jKid8KZAoqCDGF3QXdRz2GlgV0RsRJ9Mf6glVA1kO9gn884ftpf0eBHb4dPeSAvH+te3d7Jn5qvbA67f00gc3BvT6XgIoDSb/IOpa743/wPvC8Pv5BApsBh/5GfcE+YjwYemS7evxG+4O61Duweyv5uvkc+av5N7ieekh8F/vaewI7nTxHvNm93H8Hf8FAWgFtQfLBbkHMQ1oDqoJQAoHEs0X8hmYHLshYiZTLCEt7SJ9F7UX4B25F0cSZhvTI7QYsgijDowSIv+i7OD3FgxvBEH49AGjDbb+demD7hH5EPMi7P75YgfH/k/3VwAbB574F+4p+uQEiv1B9SUArAkUAP3y1/Kj9qDvk+iW6m3uHOut53PrBO1P5y7h2eVX7vPtiemB7A32//YH8Prw3Pmi+/z2lfuTCEYLuALTAbIGewTp/esBxA1rENoP4BWUHm4gjyEJKUIp2h4/Fxsdbh+MFPoQ1BubIBAOYQCaC/ASH/8P6iP3vwuBBXL2/PzwCUUAA/Qv+Vj9k/A97jEG5hRLCU3/BAzDEOX9z/PB/P3/BfCb7gAF1QqO9afkVO4j85DgcNUo4cfwo+726srwUe/05d3gw+b86H7no/FA/h0CbP1k/db9IfWb8n/7fQfPB8MCdAVtB8wF2P+//Lr/BgdLErYZyR6YI7kqJTTjPCE6oB8uAtD9Kg+LFJYH3QVCD/4JXfUm7UruseEu2G3wyROUEIb45vzlE38OuvLg86MOyBlOFWgeYSwcHn0Cov4bCFv+S+uK7jn/3P6n9H/yr+wO2FXL7tou6u3jG93G6hP77PU/7KLp9+rU69jzDgN/A4D+UP1Q/g/2K+Yl5zfw4fgJ/KIAQghUAy35z+/x8LTzFPRt/EsJGRQ5DzwKtg4+GhgnfS79OqdHgFbOUgIuJQNF8msDjwh1+z76QAfbCB7zceft47/Wus2J5tsPAxW9A7UC7xKeDoD33/daCrUXBRzwJpgtBRjW+h3x1/H05kTaYuLW9lX77fId6ybhatU/z3fazeQU51jwW/76BBP6yvHa8fHw0PED+k0GHwYtAv7/S/pp6wfeReJ360D1xfoz/aT67/TW9DLxwOss6vb2agatDYUNYgoXEEMTuh2mKPg0EUbjUeRjD1afJQHx8OGq/gMEwPcj9cIDzgOT57PbhtVny8TMNPPqH+waKAXPCPAcMRMe9//39A1THowinCk2JUUFruTh4GfrfOVB12bf8Pmc/87wzOGu267WUNIu5Ir13fgm+Y4CCw4+/5/rL+YL7t35wwERCXYD3/cO8MTr4uVt31Lkr/EmAIUHAQZt/aXz5u6R723zzvkjAxILGBEyDpQLtgwwEt4hey7OQqtRYFwyYhlCJA/H4Brk9wOBBbr8AfmZBIf8veLH21HV0dKm3t8IrivyIB4QNRFvG3cOHfy8AroPpBcUGjMfmRRL8TLX/dYq4AHdCNlD6iT+MPzJ74zoC+je4P/dBvIjAggFvAGKBPIFwe9t4PDksvTxANAALQOA/kD37fE96iHkj+Bj7X4BgAyXCyQBf/m49BXyrfND92T+Gwa1DRYSmA3vBkoGyRUyKwY64EaOUO5fXlozL6n5YtjK6R3/U/xs+az7cAOd8Svcw9l31vPbHvPnHp80RCIyEQYSuRUbBMr0DP2oDGAXbRjmFdAEv+ab1ubZdeN05N7md/gABpoDBPZ46Gjia9x05Cn2y/3r/s/7xwD7/ebqmuC64bHwfv/BBVYJygRlAaj81vK36RnoQvYgBkMO2AsQAe/4APLU89T5UfxYAvoH2xAdE6MN9AzLEakhkDF5QU9OIFnqYWVJIRWP34zT5+sl8TvsJe8r/ij/4+So2CfZ7Ndt3mv6NiHFKs0aVxW6GlcSlfq/8W0DKRUJGTYURQ0f/T7kHtmr2ZvcWd3w6BEBOQhJ/+DvZufY3+vW2+IO8y/9KAAtBQgP9AJ07h/o2u/b/EYBXwO9B9QE6P5M9gTqFONa5Tv1fwVECi4EaPvn94H1X/d89qD5UAKfC8EX8BetF8EZ6yPvNCI+z0hiU9lkz1+tMDX1ItGq25TmQ+C14OHsR/kW7o7ffN7d2+TZhOy+E6MvZSu/HM8c6RwgDQb5bff+Bc8QgQ5qBML45OWn2OrTGNSy1JTVs+iF+1kDE/8c9APuzeQd6Wr1qvqR/Pn/oAvXC235q+q46NztNfY9+g7+SwCj/db9OvPy5qjl3OwU+5ID5wiYCB0A4vk0+0b8ofir+LwD6BQfG5gcOh+CJ48ytzecQuJNol7fYCg8rwXr2WjZcegc5YvgV+pM/loAJe9a5fbl5ONz6jUFoiSRLXkddhdPHh8XvP1E7JL1EQcWCGv8/PR97Jjl6uAq3/3fJdv+5XP4ygWQCCz77PCj5SrjaOo+7Enww/eHBCoJIPtS7HzniedH6m3vwfhcArUEuAPY/WT06e4L8aj29/ttARoEigOS/f/69/n89aj1mvw2CzgS2BUpGZ4h6y3ZMns/aUwyX8dl+0TNERbjh90v7HjrL+bv6Sn+sgWy9/7qiufg6N7sd/4LGRckmBv2FRwcgRmeAS/wZPgBDFwOuv0V9ebvfe2e6EHiiuD81zPfCO9s+jD9FPQR86DtcOcv5SzkTenl7zj8S//V9AXquuqs8SXvzeyx8ib/XgZpBIoBv/tP9N/x7/QP+rb9HP4BAOT/Kf0C/Ln5r/oJATMKyhJUGEwbuCPDLh03uEBhSaRZuFxvPTkL/uKS4ZnrdemB5Zbsrf4qAIz02uqV5kXp9PIWCtAgoyeCJb8nyCq9HS0Dm/PA+d0FuwMm92LvhupC6UbmieHq227T2dx67jH5EPof9tb6Tvct7B7jlOBT5jju0vuAAGf3Ou6Y7nD0KfB06aPtO/mKA5MHvgUi/8D1TPLv89/10PnV/LgB6wLwATMBuvnY94L9TQdoD10SeBoKJzcyBzs1Rd1PSlsmVlwzdATv4SPiZena5OHk9e+HA74BifPZ61foKO+D+U0QYiQUJnUl/CULJ/sVyPiG7YD2/gN5/xL0FvKE8oLyJ+x1543hSthn4Ifv+/lo+j/3SP4f+7bvauUs3zHiwedH9Rz6tfEJ7a7v5/bs8GDp5+uy8ob+3gZ+C/IFEP1g/Bf72Pdm85D39P/yAdsD4QOLAoYAQgIFCZENwRBTF/smIjUbP7hI4VKlXzhRGiYr+Jrgf+gE6enkJOww/h0P5QTz96brmuOT6Lry5wuOF+UbBCOdJNMj2gsD9cDqWe5Q+sD3svjG+JT9YAH39xTw5d+e2vHksPBh+8r7OAA0Azf5++rG3hHZy9Z33erskPVl9Jfyv/hQ/d31H+6Q7B3yRvr9/5kCy/2K+x378fnK9hXyYPja/DUBWAOZ//IC3AQ5DKQPTQ/lFhUfny0xNuRAsE6nW5hnLFL4JUr3d+Nb6eLhJ9015H/7LwvfAvj81PLg7WrscfSYB9ALZxJKGisiQSBtDJf/EPg0+qX70vjC+Df22vw7ALr7b+9831/gxOcW7Fnua/PP/jkCr/iH7+TopOBg3BHgeuqu7T/sxPPS/IT94PPJ7ePuqPCH9Pr3p/eu807zpfaj9qHvQe6c9jb8of9N/j8DigxmEUoXGRYBGbMd+SI5LJkwIztVReZVgmDSSPUcDvE25sXpTd752RDloP9MC4cC+v6D+RH02O1R8jEByAbDDsUaMClGKY8UGwSS+pj4gvHL6Gnrd/A/+63/OP5h9lDo2+ci5yTk7+Ij6b77ZQCY/IH6zvXL73LlOOQr5vvgs+KX7qX+jAPi/Vf7g/it9eHwLus36H/p6/Mm/BX+Xf6OASoFJQD5+ub3YvorAegIDRJBE+EXqh/OKJEvRi7bNgBCblJOV0Q+hRxJ+3n08PAX4Fjaed8B+LwABPwtAE4B8AWH+133yfuT+ZMA6QjeG68gzxXLEM0LaAhO9Irm5uS+5mrv+u/n9qn0SfFo9vXwAutG4Bnklu4+7bDudvAP+KH37PFp8GjmD9132EDgauxr70z2ewALCJMHRP/D92HwW+2W8YT4k/3JAKAIIA3wByn+AvgB/Ab/bQBhA9UKDRjDIV4tqTO+Ot5EMEyXWThPDjPGEWr4L/p07ajfNd586hMAHPiG9C/50P9kARfzQvkZ/fsBpQkmEIgfSxi/EVMMfgUF/TbqDefa5GTqC+8O8bb2TO7U8fPyrfC+7B/k6+vu6+nnY+Yo6uPxYe928WrzKPDh5wTjiuoB7kHsS/J7/YUDZAKs+zz5GvO/64TwP/MA9837rAOtCpwFpwGkAq0FVwM7ASUFggwyFeUe6izCN6xDpkvYVyVaFj5ZG4f4+PFZ7WfZv9oU6fQE8ggKAD4H9AlMCP/4y/iy/S77DQCpBDgTqhKvDssRLA5LCav5yO+85tnfbeFr5ALt9+sz7+j4sPsN+iXvoOvZ7RvmDOFv5ZLwnfnA+SD9tv1v9EnpiuMR5gHjc+Yb8nT71AJ4/if/Jf1a9cTzSu8K8MvywPg5/iEBZgbiCYcM8giVCl0LUwiOCh0SdSDqJ+QyPkF5U3tcIEjHKyYLfv308p/ZYNJ63eD3vACs/fsJZRW+E6oB4f00//n33PWK+4kMDQ33CT8T3hjFFC4DWPiF7qvhqNsa3Crl0OXK6pf7CQTIBFn9OPzJ/1fxeOBI2nbeB+fe6nnz5Ptb/o78ivgs82bn7OVJ66XuffG58iL+eQP1AO7++PrF+Iv0L/dO+N74bf2/AWoJqgcgCZgMEQugDY4TIR/yJAsrHDYnR95PHUGDLwcc1BLaBArpS92b3i7sQ+6f7Hv9jg7uFToL5QhaCy8BkPiB9YD/dAG9/TwH6RICFpwNaAi/Akv36+pK5Vznut/53YvpjPMy+HD3CwEXC+cAGPLq6RHmguDe2lTi6ux08+b6hwLGBQz8CPff+Cv0Y+tw49PrCPZo93H5ov0/BWEGuARgAgsBHABV/Yv/cAB6BI0IkwyQFC0cjiTPKEkvwzbaQLJCsDQnJ/cZ5BQXBlHwyOqb7abzqux563/42QGzAgv8rgGjBL//Mf3g/nIGkQRcBsgOQBL9DlAKSgyjBm35UfA98Qvw9uPy4QLs6/Hi7Y/tmfrJAZ720O2l8UnyHOqc4rHope937efvpffD+yb3rfVe+cv3T/Br60XwBfMg8y/1evq5AGMDKgYLBW4ErQSuBgEIkgOZBEUIwQzfD4UUsx3wJfcsfTQvQr5CODbYJvwZLRUeAC7v1O6g87X3mu+I9ZMBqwI1/i38jARTAfv3Ifah+rb99fk7AcMNMRL7ENYTrRioEBQC5PnA97nt8N8g4T7qzeyF69jxhf6P/2f0jfFS8xXuxeQ74Bjmyegc6GzsRPFv8qLy0fdG+vr25vLb80v1o++Z7ufzbvpu/QsCoAx8ELwNjQhUCHMHxP6i/PEApwb2CmEPOBqpI1Ymyy5NO8Q8hzTqJpchmhqwBWP7mPrw/Bn58vJ4/iIGsALl/aX/2QRh+4jxMPPg9x/3vfUoAK0Msg/GD2gWchkVEXkIVwaSBHr3SOs67NHq5uJF3/3nsPNG8bDtx/Su98jv/OPB4MDjlOBW4NHm4exf8Cj0afzy/5H9zv0sAOz+UPc98yP1JPW39G34ZgC+BgYIKwlICq0GugGrAPgBhQLGAkYG8Q51F2AgmS70N/454Db7MOgtTSBJEFIJAASfAYD6pfkLAXYAQP+W/gkCrgLw+dz2UvZw9Azx8fDV+Uv/uwEQCFAQsBM8DzANBQ6+CkICffsG+HbuxeXE5EXocelH5Wzq3/OS9A3waOsV68/nRuJz497nEuqE64Hxvvf4+Wr7gv95A+kARf3s/O/6HvbX8wb3u/qI+8j9fwRmCLAG1AU5CAcKxwjoB28JXguwC5oPXxZLGb0bCh7tISkj9h1CHAAb4BeLE5cO3g4aDdkIbgeJB4MJVAjJBuwH9AQR/3z42vVN97j1a/Vr+FH9bQEbAgADawLd/6/84Pre+E70IfJw8TXxx+5L7fvxPfVK9bPzL/QK9b/xsO6t7ezuwe3f7BrvJPBo8ujzgfbg+OT3FPpJ/Iz79vr6+7r/PAF+/ycCHgdWCLUFiQLqA8AFewU0Ba4EsgTYBPMGbQh+CFsKOw6YEnkS1xH7E+0VNRbTFBIVQxR2EBYNmQwnDZoLOApNC+4M5QqcBrsCSwDt/gL96/wG/Qz+BABJAN////0o/cb8fftT+pj5MPlx9yH2NfUj9T/1+PSL9Wr0hPKA8PDuRO0l62nqveoZ7efvwvNB97L3aPgV+s78nP4C/hn++/+aAXEDXwXBBaoF7wOQA34EEQNAAnMC0wNyBKkDXwQZBvwFDARxBXsJlg2IDosNVg+KD5sOQQ2JDOoMmwppCRwJ5QckBTYCDwPEAxkCxv95/4IAbf/f/WL+xwDrARYDUAYGCe8JkgjHB80GuwJKALMABAFF/337Rvov+ef0WfLH8lT0L/OD8InxfvLn8O3tuOyK7uzvHvN191b6z/vQ+0L95v2o/Bz9c/7n/6UBwQNqBvgGVgWOBc4GTgdPB/QGuQfjB+cGGQbJBLMDywNsBZUHqwmsC2UN/w0yDOoJ8wd+BmwF2gOvAj4Bb/9C/Tv7ffp2+tL61Pr5+sb7If22/qr/TQBcAboDKgbqB84JfwuqC3sIRQRwAhACOwHz/yj/cP6U/KX62fo++zv60Pnm+r/8afzl+bH3YfXR8+Xz+/Tt9QT2Nve8+bb7UvwF/Nr7BPzP/UQBHAS1BaYGDwitCL4GdQQvA5wClwLiAgYEBAXdBM8EvwSXBMkEeQVfBx8Kag2ZD1EOzwmHBAkBz/6P/bP9Xv+cAToCjAGT/+38Yfpm+Hj4uPny+z/+OP8H/5P9fvzS/LX9kv4B/3L/rgA6AfT/VP2W+h76qvvo/XP/lP9e/zn/VP/E/ob91/sc+nL5cflH+jj7Jfyd/RX/egCEAVICzwLaAsUCZQOzBIsFOQUpBPgDUwQiBMQCSQHoAM8AJgF9AakBJwGyAIMCDQUYBhsFsQTiBTcGSwVpBI8EGgSYAusBPQIdAicBNAGMAmQDmgL8ACn/5/zt+uz5nPkV+Rv5P/qx+7r8iv0I/+T/Y/+s/gD/CAAzAEX/zP3A/Aj8t/si+2L5C/gy+Bb65vtD/ET8Sfz3+yL77/rt+7D9BgDRAlEFeQWKAw8CugGRAWYB+AGEA/gDWwLYAA8APQCjAbYDaAVPBc8EuQWZBisFvQKfAUUCngMcBEwEfwMdAsABdgHrAE8AhgGgBO4GrweABocDev84/Hn7t/uE+9b7Df3z/dL9GP2V/Fz7u/mX+tn9NAHIAmsC7AFfAXgAa/87/bT6XPm7+U/7HvzW+9P6NPo0+xX9dv4q/iL+u/+5AdwCHQJjABH+aPxQ/XIAeAP/Aw8DkQE8AHf+E/yg+9384//tAlEEbQWYBe4F6AYiCFAJYgjKBSsDhAHFAEAAp/98/6EA4QIUBa4EEQLD/+b+0P//AD4CvQJ5AUYA0P9s/7j9evuR+8f9AAC5AA0AkP7X/C78IP2q/hz/d/7V/Z793f0s/lz+b/5w/tP+LP/l/g3+KP15/eD+ywBNAjECAQG2/rH8QPwL/b7+Vv8H/5T+J/7a/Wv8uPrt+T/77/2u/3sA0gCMAbgBMgGHAaoC8gOQBEQFKQZaBvIFnwW8BX8F2QS8AxQCPQA5/0T/Ev8s/ysAoAGsAfj/qv/jAA4COwLqAZAC1QIbAqoAQv5g/ID83f4JAQgAvPxC+WH3Wfcn+Ef5vfm8+kz9aQDyAnEDyAL7AeoBbgOWBPMDrgELACAA+f/g/l/97/x1/er9Z/47/nj9mPzG/Fz+cP9A/4P+gP9fAtEEVQX/Al3/DPzW+nr89f2u/QH95v4sAy8GWQb5BM8DQQNbBHgGPAc5BfcB5gCOADL/Of0+/Cf9Uf5gAC8C2QGM/4r9a/4uAKEBkwL6AhoCyP+b/gn+yPyH+k/5q/oZ/JL8Hfx0+7P6YfpC/G7/eAE0AeoALQI/A7UCkQGRAYoBHgB//sv9RPzB+Hj2dPij/Nv+UP/MAEoDigRzBAgEeAJDANH/+QHTA/MCugHhAeAAp/3u+q/6rfsD/KH9UgH5A6MEDQX3Bn4IIwifBxUI4QjNB5wFOAOpALn+k/zC+kz5x/hv+r38N/5e/iz+z/7g/x8ApP+4/9UAVgLEAhQCmQAG/uX6Cvkh+t/8nf5g/qf9yP3G/df8Afzm/C7/FgEbAs0C1wLmANv9CPyq+2z7DvsN/Kv+cgDgACMB3ACk/yX+df4HAFsAZQCTAegC9gFx/5v+ef9KAEkA/f/6/g79tfzf/lYBZQKnA+cGAQr4ChcLZwtSCs4GiAOiAvcBzf/P/Yb9DP2t+iX55fqp/ZX+Ff9TAfsDywSVBAIF4AOaABb/UQHUAxwCx/7l/aL9Yfv1+Kf5c/uG+4X7P/1R/nD8g/su/kcBtgFfAY4DZwV2BPkCjwKJAS7+JvyY/eT+Iv0Z+mf5Rfq6+jf7hPzM/fv9kf5BAMcBXQFY/wv+Y/6BAPoCoAQMBaMECQUNBucG5AUiA0gBawE3AxUEXQNcAgcBnv90/nj+Pf8X/6b+1v9CAlwD5gGx/1j/cgAnAjMEdgVlBSkEqwPNA8oB7/03+zr7J/wR/On7W/yU+y364/pN/dz+YP4l/xYCfgNLA8ADEwUmBPwAQQDQARsBM/0E+3T8nP2Z/Eb7FvsU+vf42foF/i7/OP6r/gYBmQHgAKUBlANkBOkDvAT0BrQH3gYRBq8EhwJvAMb/CABp/s/8MP2q/k8AqgCMAcYCzwKIAqgB5wBVAJoAbgLdA6ED8gHpACkBqgF8AXgAJQBGAJIARQDz/vr9Gv3X/BP9f/3L/v3/GgHVAYAB0gAbALn/Zf/I/g3/OAD6/zz9/PkI+T/6oPo6+jT7C/0F/mT9KP2q/cf84/sW/RoAsQGjAM0AtgIZBKQDqQJGA20DMAMVBDsFQAU4AyUCgwKGAbr/4f58AGgC4AJiA08DPAKLAKD/3f+j/ysAcQLhBHUFKQQMAwcCOQDS/sH++/5u/mH91PwS/L760fo7/D7+aADqAmYFWAX3A8UDoASeBOcCuQGlASQBVf/+/In6H/it9lT2//Z290P4//lx+6v89PyV/IL82v1+AfkEMAa3BQ0FLwTEAmsBdwDO/xP/4f/GAR8CUQFMAOD/Jf8j/sX/jgL5A5sE/wUOCFkH0wM7AYYAowBWAfYCWwRpA1UBIwH+AdsB6QDNAK0BHQE5/+z9IP1A/Df7Gftz/Kv9Mv6i/kH/fADsAYwDQgUtBh8GKwVYBIYDvQG9/yD+H/18+5b4q/Y79tT1JvXB9Fb1SvZt93D6sf7tAY0D4AR2BoUGawWqBGcE6QOYAgYCvwHG/2j9Zvxw/Aj8Kfvw+37+2AA1AnkDoQRpBK4DYwNGAxkDdAK5AqYDPwP5ARkBAwFZAZgBqgEEAqQBMgBk/xn/Jv+M/34AawJJAyACggAyAAcBQAHcAHoAJQD2//f/QwA7ALv/ZAB5AqIDdQMDA0cCAgBh+5j3jfZY9t/1rfXR9o33kffE+Nb6Cvya+vn52vyoAD8DCQSLBL0EKgO0AAH/LP7Q/Tb+cv9VAZsCzQJIAjUBQgBZALoB8gJQA04CcwGuAdEBUwLmAVsBVwGtAasCtwHS/n/7xfr6/G7/YQFsArMDVgRLBL4EPAU6BcwExwUgB8oGCgTIAC//Bf1l+bP2rvZ++B36V/ou+3X7L/qi+gz9RAG1AkYCkAMTBCED9P7W/REA7f+f/jL94v4h/+/7TPmu+GX44fZh+e79dQCZ/qP80f+UAWIAoP6KALIDxgTiBpIIawiLA/r+kv4T/k/8yPvU/v8AVAFD/yn+WfyN9QvzuPLD9ZT5//nH/jUAgQFfA00CAQWtBIsHgA32Dg8R0A41DDELfAa3Anf/Yvyp/F79Mvt5+Xj1UvNo9qH2Rfue/YH+vQRIBU8KPwr/BUEIUwWGCSMJZwMTAwT9KP+0/s35TPk79H/34fhD+A/7Ovlq/cX9Hv/+AjkBewN4ADsAYAEv/9wCYQIjBPkDAwKTBFcCtwEa/6b9xf8N/+wA2gCBAMsAKwD4AR4B4f5+/Qv+pgE4A7gDCQRXBGEGJgf1B8oG5QNQA0gEDwdmBWIAH/xH+sn6J/g89kn1oPcZ+lj6IPwA+h36i/kF/AUCtQEbA/sBdgWJCu4JqgmfAjP+0/pw+tz99vrQ+Nz0o/Wj9632f/hk+JX72vyb/xoECAPEAOn8J/9OA88E8gWeBuEHVQXSAkIB1QH+AQYCnQWBB1AJVwhOCGIIkwY9CJIJfAxbDLYLPAwRCt0IDAYOBH//xvvF/MP9Av5w+ln6DPvy9431mvU4+2T/1/9EACoAVQBx/0H9FPub+an7vf4U/sr7aPrN+w/7ZfhN+cz76v7T/r//mwF2/3P9MPxE/tz+APxJ+nn5Kvn69oP1f/Wt9p33/ffk+n79Af9H/iz9Rv6h/hn+qP7oAYMFSQZ6BWQG3gh8CgoLFgygDsgRXhTCFIQTxxIuE54StQ48CkYIrwbAAwEBBAACADL8ffeH9d/zSvOr8hn2Y/sV/Zb9FP1C/i/+hP2R/kQAggNpBIcE6AJ0/9T8N/oT+af5IfzU/rcAp/9+/pD/RACBApYBAP8Z/sr9swCuAGP8Gvlw+Db7s/xC+t33evaD9gP4hvgD+Or2PvfL+XP78/qA+mf7Sfy6/Iz9xP98AHr+vvyy/SsCYQWdBS8DBAC3AOwBtgHb/9H8Xv4kAm4E7AV1AzgDvQeyCiQObg8LEhcXCxXiEjwVuBhhGe4R7AqjCR8GsP9Q+tf3Tvcr9AzykvNA8jDs0+hD7mL2j/hW9Sb4WgCGAMz6Gvj2/YUDv/+v/qYEdQhlBasA2gCUAEn75vqWAvEDefoy8/P3QAAZ/Z70yPVX/Gz/a/3J+R76y/l3+V78GP1q/In7gf2qAtkD9//E/Kz+TQLjAfP8B/y5//P/I/4f/cv+3/yU9Rbzo/Rx9rL2pPlC//P+5Px//Iv/7QETAU8G0AmlC+APoRK4GA8a4R23Ju8kviJ/I+IluSKcEdIIuwlJA7X1t+l76Ynoz9q80anYW+Sv59/l/ulx8iv0ePF49+D+rP+5/kQB9wwtEDYIuQZHCSkP0Q+8DRMT5BPID7QL/QjJBC37CPQF9h36nPJl58/iMOTm5tThreFz6RfvDvXC+LD+SQT6AokEVgmnDDwOZg6YEHwQWggZAG39Q/xv9yruROpQ7pvx1/Dm7SzvbfRU98L5k/s0/Cv/DwNRC9QQRg0/EFEWVh5rJMkiGiwBLtcoLCvGKDMoUxUMAB0AJfsd8ozfltQV21LaQdjt1RnZDuBv5hHxL/v+At0AcgXsEFQX3RZPCr4PBhs2GW8TfAsFFS4WpglDBhYExwIL+IbzjviC76fhyt8r62XoBdf501/lufIw6p7q+fl2B/YIKgMYDcIRtg6FEPoRExYTDNMCLgXsA0YArfUK8zf6OPt89onwmPIl9DnuIejC51LqCOeF6GPvSvIy9DT5/AbDDCcFdQgNFHsdIx+/HTIr/jWiNw04Si/yKyMq7SXsHSoFYfek8wPp39cqw6PELs+Z1MPauuBk7GXy7fjpAZgGVQj+BrMSwBsJGCUN5QT3EHUUlAzuBqwITBbvE7UNZgxnBSv/Wffq95/ym94i1Sbbxt6S0SbHedQV6jDueOzU+ncNjBg3Gc4egSbuH3wcFRvGF80Nc//UAdYDrf8z+M/uz+9u7ZrqI+iV5LPpV+tQ7antpulF6eXoFfKB+iD8qwEaCbwSXhCBDG4SwxcZHkkdYCS/L/A1DT0GMkUs+y05LnUnggXu9yz3JesK2PS7ur/9wqS7hMIhy+jgUuk589EJKxHjEoQNCxY3IR0bjRHTC2kWFBgYD5YJLgs+FIIPsA8aFGYPXQWH+b/72PGi17HL4NQo4DHUzsiq1rjrMe8c7WX7Zg9YGToZVSPmKjkiMBuhGdwcrRHvBEIJ9AnfAm31NvOn99fwIuka5f3m9+Pj3cbcON+d4oPhgud28V76T/3V//MQQh5BHxEWzhSYHYUb6xY0Fb8eJih8LeAxnCbPHHcXBhl3DgzzL+yx6prkvs4cvYHFmsZBywDTd+Rm+Tv+9AtJFYQatBbXDiEY3xsyG0wPIQs6FV4R3wqiA/0NrBbCCxML2g3RECAD5/Fv88vsZ9+o1UnaIeIs2/fYluZQ9+r6V/2vCrMduiY+Ikwk3iNGHxIZFhAkDHf+YPQy9kH1YfHc6Fvp4fBo7iDo7OaV6VDrled95GXp4+oQ64/uD/JL+H73wvm0BIAJ7wdqA/kGoxDKEZQPChiaJ7Q0ojcSLiEqpCZbH3MR2vaW7/bvIOf51j/EXM702fDaf+E/60MAywuWFPQgUiHbHG8YrB3sH/IVPAlCBXwLNQgNAL35x/6ECM4EigSIBj0JeAVg+SD4q/SB7fznIOeO64XqtO1P9/D/3wDVATANsxkrIDQavBRPE5sOEAkc/fD1ffGo7H7snuiA5bDgvuCa543pV+m/6PLu1/Mu80D0cvR79nD0VPVq+9z9UgJMBfwJdg0EDEsNDQwOCf0GvQj1DiATRBaBHXYntCe3ICIeziLAIggPj/7p/Tn94u5v1RHSbeCr5izmo+cs+FMGAAnvD1EYrBtwFCsRBRi7FQkHnvuRAnkIAwFb/AIEABAeCbD/BAPMA7z9KvGt8cP0Z+hy35LduOJC4ETZ3eMm9IcAegNGCJsWPh7JHYgYbhdsFcQLpgR/APP92fU67sbtwOpL5/rmMO3D8rLxx/MC+VL8H/qF9s31B/bS+Ez9wQFLBMgG/gvvDyAQvg0gC5cM5hA1EewPKg6FDm4QhQ/oF/EdGBgsEgsRmRkaEKv3IPD08Efw1uA02G7mXuw76QjnzvG2AJ0AhQM0D0sXhRDxBn4KiA1IA//0wfpjBwQF2/xH/XwL9wwcAxIDdAUuBBT5ePX0+tDzjucH4ZPn7etd5QHmuO+W+zj+WwFDDhkWZRY1E6UY2R7bFp4O5gqPCgkFofko9+71/vJl8pD0B/vP+4b5Y/vq/ocDLwOw/jn8EPvN+ib4v/Rn9cX2h/n4/Y8BPAMyAEf/+QATAF3/Mv0j/2oCcwInBxMNgxYKGqkSoROXGykicBYa/x/6nfwd90XmCtu74aPkvOIO5Y3v1/kN+7gA2gpSES0NXQjLDXwPRgk9/4P/DAb6AlMBvgSAChsIcgBKAg4C6Pvz9mn5MfqT70jpB+2d8c/tGO1897H/0QS7CgUWhhxpGYYaOR2MHM8T9AmWB3EFyv/g9Nbtnu558frwvO3n8cr3jfpj+ar3VvlI9lT0d/SM9fX4AfuX/4oCnAV1CUkKvAo0DLEQ/Q4nB4j+Ufgk9nzwOuxU5vridekt8s38lwCWBbsQ5xpKJVskth9uHlMgdR+zDWL9i/bD8Q3ovd2d5Onsj+w87Ajz7v3W/uwA0wkZEBIQVQ+jFe4XKRIgC8UKWA7nDIoK/Qd4CuIMLArsCEQGsQULAI/4A/hG9BTvMehi5wrrGend6wHyNvp3AAoGEhBdE2YT8hJ9E7wTnA+ADnUJpwCV+W719PVc87vx0vFp8Tr0xfZh9y70lvHp8wT3i/h3+TL7I/1qAaMGwAlYCYgHQgmoCvsKJwpkB/YEHAFL/K31LPC/7nntcuuK7Gvy5PXp9Sr4Df8yBeEGPgxCEWwSExNUFcEZRhf/F8QesB7wGAoSTRNYD0YArPhL9xT1vuqg5HTrgO637IrsG/UGAJAFtAyNFJMbwh1DHXgaqBG/CQ4FOwWiAin7z/d89wr5CPb+8aHyffJQ89/0FPij9zrwgOxA7rrxm/HN8Or1a/20BroOKhTCGP4boR4hGzQUQBDCChgB+fVe8Yrwnuku43bkZOq67X/u+PO1+dL72/5uBNkIjQctB5IL3A7gDbsJWwcaBRMC8gA8AMr/wv1h/Nr8WfzH+hv4Lfig+hv8m/sD/J0AYQOtATv+K/+0BLkHjQqeDCIN/AvuCJgIeQQK/Cf3X/iM/Y37QPSd8Ujz6vQm8fvtp/D580j2VfjX/Pb/Dv9KANAETAuLD1IUdBzVIQIlnyNBIMYcAhZTD5MDHPgg8pvrmuRU3ODc+uTW6GDr8O9O+oMEywkJDqoOlgy9CqALvguQBq4B9QE4BTwE+gCIAeQE/AflB04I9AghB0QE5/6J+J/xCO2c7XHv1fFe82P0wvaj+lAAEgRqBngL3BFWE2oNqwYOBLYBHfyy90H3Gvjj96T49fvY/MX7tPyg/jj+7Pvb/TQBmv7A+BT4QP0nAEL/JQEMCG8NnQ6BDmIOTw37CTMIrAanARD78/Wk9DTyIu637RTxOfV69ij4o/y/AFIDpQQfBtEGuAY7B5gHZge8BtEGowcCCeoJlQfPApX+gf2X/Rz9u/3Q/bj7/vfi9n34RPjg93j6agADBDMDzwJjBAAHYwdVBnUFZATlAz8DMAJM/wP7Rfjz+MD7l/31/VD+7v8jAdYBpQJ4Ay4EpQOtAqIAM/4S/aH8lfzP/dgBfQbmB/IGbQboBGQBXf48/vX98/lb99L3yvcl9MHwdPPu9uz4Jfs6AFwGUQgvCQAKcQrDCf0I7wnwCCUFygF9AlMEoAL0/hH99Pxq+w367vrw+vj3PfbZ+I/7e/kh99z5CP0J/Wn7G/2+AHECUgRtBfQE5wIfAyMGzgfsB8EH6gnhCxYOqg/dDhEOJgwfClkEYP0J+ov30fRI8UTxWPNt88zyufQ0+p7/GARbB4IKkgssCoUIvwW1Ap7+8Pxg/ij+1fs6+iH8YP0j+6z5YPuX/EL7MfpV+kL5f/da+bD83/1K/qMBFgbiBmwHzQnqCwIK9wWhBKgD9wFo/yf9RPvA+Ov36fiO+qv7cfwd/owAhAFNAF3+h/1B/mf+gv6d/ov/NQIUBu4JAArbCEkJ+woiC1gIkgc1B1oE1/5q+Qf3WfTS8erwcfFq88T1wvhO+/X8cv/LAl8G8wmVDDkNagtlCNgE1wD1/ar9jv/1AD8BRAAj/hv8/PnP+FD4A/kQ+778Of+eAfABVQDP/8UCewVwBZoF0AfYCFkGGAOEAff/Yv3O/Eb+QP7e/BH9hf/5/5v9Qv0p/7IAoADNAaAFVQdUBtME+gTBBTIEAgN6A4cFMgcOB2gH1gaaBAEBoP3M+xP5Y/b49E70AvSq89/0iPaE94n5Vfyn/4MCwQSVBs8G1ge5CTYKVAjsBF0DPAIeAG79EvvZ+lH7Gfys/Kv86Puv+Vr47Phe+mn7RP12AYUEKwSsAlED8AQbBE4DZQVVCK4I+QW3A4gB8v1K+6T6SPsi+yv8ugBjBAwErQGKASMD1QIUAmQDuQWKBmIG0wa8BhIFbgNjA18DzQIpA1gEMwSTAXX+JPwY+qv4TvgZ+Jj3UPgF+zD9mPxz+1j8Sf56/xYA2gDfACQAAwGWAwMF/wPeAvADmwXDBRsEEQFa/Zf6n/qm+0r7fPqg+479m/wy+sn5PPsC/M/8YQBuBIAFeQQ1BMMDNwHL/sH+xP+s/yoADwLMAnMBYgB/AXMCYAJhA80F6wZtBS0E8AO5Avz/gf40/9P+9/wb/DL9Uf0i+/X5C/ub/IT9hf96A2EG7AWFAwsCwAGXADT+6/zz/Tr/1v7p/Qf+Kf5K/f/8TP5H/wn/pf/cAeoCPwH+/34BlwOGA9QBeQAH/7r8vPoq+gv6Dfni+OH7fQBtAscAi//zACkCvABY/xwBPARNBWQEJQNfAS//kP4eAI8BuwFBAogD0gOrAuQBMQJ7Ap4CDAMBA8EBXwDu/zj/K/2Y+0D8Cf7g/tv+mv+iALIA1//v/oX+Sv7x/h8AKADm/uP9RP73/an7pvkA+if85/03/+oA4QF9AakAswDnAD0AOQDcAecDGQScAoABkwBW/+/9zPzx+zz7Ofzc/RH9M/qz+KP6IP3z/fz+BwG8AgcD3gIBA8gCkgMeBjwI0we8BdQESQSmAnABogEqAqgAiP4b/iz+bP0O/B38Nf2S/ZP91v2u/iv/t/8xAbUCkQPyA8AEfQXxBDkDLwE8/8/9ov1G/tb+0v4K/7r/BABFAFcAiv87/dn6V/qq+rj6mPp8+3n81/sI+wr72/uE/On9SAGyA68DNAPMBHIGVARUAbEBmAT3BO0BLwBSABMAx/67/swAmAH8AOsAaQFXAP/8l/v7/eMAxABo/kb9Rf3L/B/8ffxM/bf9kf8qA6sFDgU/BNgFdAdOBkkDFAKlAkwDSAPTAfD/Xf6P/oz/5v5q/Vf8tPw8/Uj9VP0U/W/9l/4wATAE+gUyB6YHvAeaBowDNgA3/Xv70vqq+nz71vso+/X5fflg+tX6O/t2/H/+sf/p/qH+yP5K/jb9kv1cAHcBnAAEAR4EhAYABcoDZAV+B+8GowRxA5EBkv5z/MD7sPog+Nn2KPh0+VT5LPk9+hL8uP2x/0oCaAS+BZIGQwdUB/wF3gN7AscCYwPrAj0CswLMA1QDeAGpABMBHAEuAG3/af/A/of9Wv0H/hf+mf1m/ugA7gLPAsgBNAGyAGP/NP2w+6X7yPym/rEADAKdAVIAZABMAgsDBwFC/ywANQIVAnoAiv+//nT9Ev13/qD+c/xI+1H9c/8S/kv8d/3K/+H/pP5l//YAgwGkAd4C9wOaAtsAUAAQACH/Rv5l/64AjQCwAIoBpQGY/wT9sPzX/eb+2v+aAIUAav9m/lj+mP60/tX/4QFiA8sDGAP/AQMAxf1l/Zz+mAAhAo8DwwSqAzQB//5J/uP9Vfyh+zj8J/0y/cD8Z/2e/pv/pQBtApoE1wZQCEQISAavAhQAwv5I/hr+8P11/lj+zv2V/An7Y/rA+lj8Pv3O/Qb/VwD8ANUAtQEGA2cDTQN8BOgFugS4AT7/Vf4a/U78W/4BAmgEtAQpBboF5wTSAogBQgFbAB0A3gCaAeT/NPzF+UX4hfeD9xP5dPuX/Dj9qf28/TX9D/3B/qABiQTNBkIH7QXOA8MBCwBj/cH7GPxi/dD+t//jAfMCcgLCAcMBPQNlAyoELwSTAcb9ofqf+yv8qvpH+UL5hfou+rT6hvxv/kgALwNVB1oIcQYfBUYGxwZ7BOoC1wOMBaYFVwWYBIABMf13+079Vf5X/Sz9zv8/AjECdgGJABf/Dv1C/Y//tACmABEB2AInA7kB+QBzAcgBagE4AnYDHAOTAEH+P/2A/Gz8Dv0m/pn9Gvy6+yn8Kfx9+kr5NPkA+iT7Xfxy/j0A6QEsA3wEigWMBVQFMwWQBdYD6/+L/Ab8yv2l/QH86foW+wz7//nQ+Vn6Evse/A3/tgLvBMkFLgZoBiMFiwTBBaIHYQgdCNcI1Qc4BM//nP0R/TT7IvpB+zz+Zf+O/if+fv3y/P/7vvyQ/gcASQJPBKYF7QQpBMcEBAUxBLkCawLaAQ0Aff6g/rz/1/+Y/+n/cgDU//3+D/8D/4z9SPtw+mT6+/kW+VL5ifr0+hb70fsK/hgA9wEvBF4GVwc4BUoCw/9h/wsAh//9/mv+cv+M/2b9xPpV+Sf7Tv4gAv0E+gWWBaIEQgQiA64BbQCkAIwBygEFATP+0vrc9/72cvdd+GH6Tf2zADMCuAJPAscB9QFiAt8DEATqA84DmANXA04CMgKoAdMAEgDF/47/6f3z/Gj9Cv9ZAAoBoQENAcb/1/5D/9P/UP9N/rL9h/2o/fP9of37/Gv8cP1C/2oANAHNASEDhwT9BY0F2gHf/PP5HvsF/Cb7Lfrz+qH8Jvzd+y/9m/+LAYEDKAcCCk4KgQgFB60FTgMCAfj/AABb/47+x/0v/DX5Q/Zi9WX2uvh/+6/+sQCHAewBiQGjAcQBBwN9BAgFEgY/BkQFFgPBAUIC7gHQAOH/gf9H/lv8o/w8/n7+M/0F/Z7+sv4X/eb7KPzW/B79lP4g/8X9ifxk/VEAQwFPAW4CXgQrBmsGRAftB04I0wfaBMwAsvym+7r7Gfrm+Hr5zPs5/N76TPv9/H7+df9YAfkDaQSYA+IDswQNBA4BTP+cAO8CTQSuA1sCYwAk/mX8xPur/OH95P/JAfEC3AI8AV0A9P/V//7/cgCKAT0BbP/e/YP9/f3z/Zj90v2I/fj8Jv2h/osAlwBiAPwAGwJpAvsAyf+q/nn+Yf8GAcEBkP93/Xn9u/8FASUAoP8WAHEBFgIdA8EEPAaFBuADGwBg/Az7mPsn+736k/ta/mQAyf9J/7MA8AIlBI8E4gULB18GlwSBAtUAtP7P/PD8If6r/3IAkwAQAGD+Rfz++qz7Uv1s/zABqgLyA+QDIwPeAd8AKQB+/z//Jv85//3+t/6K/oz+a/7T/aD8UPsT+3T7nPy2/bP+yv8pALAA0ACtAE8AFACaAPIANgEUAdkAQgB//1H/Ov8O/+z+zv9EAewC8QQrBycIXgWFALv82fvV/PT8mfy7/OL9kv8sAP//7P9IAKEBUgNqBewGiQaoBcsEVQTRAnoA2/9EAAoBDAESAfwAMf/E/Aj70vpr+lj65Ptv/r0A9gC5ABgA+P5B/uj9Sv4n/uX9Jv50/ur+gf9PAPgA/wBMAQ4CDALYAaYB+wEsAusAxv+d/pb9gfx8+0/7CPu4+hr6qvmQ+cr5xvqo+z389fwY/0ACQwV+B1IJ/wpRCpAHqAQjA4MC+AArAH8BjwM1BHMDigMyBEgDiwE6AQgDlwQNBFkDcAKaANv9sfvb+/b75/ut/Hr+nP8Y/o78b/xm/d/9Wv5zAAoDNgWxBVMF1wNuASEAX//q/lP9S/tF+l35P/kL+ur72v1+/hr/4f8/APH/Nv/N/0oBYQISA9wCKwLbAET/fv7C/WD8Vfp7+br6cvxR/VP9Gv7K/zIBFwL0AsIDugT2BQ4GfwSfARkAwgBEAND+yv6tAdQEBAWSBBAFpwUIBYcE+QVjBq8E4gJMApABfv7o++77pfx0/BL88PwL/Vn7CPp1+nD7bfuP/N3/DQPxA+gCPQJ0AW4ACgAYACIABv86/kT+o/2W/AX8gv3c/3wBkgJ7AqoB6f8j/lv9efw3/L/8sv0A/vr8Ufxr/Ob8+vxl/fT+FQB/AMcAswGZAtICiQOCBZcHvAd9BzkHWwXoAef9o/ya/GD7RfsW/Xz/Kv/g/Fv8If3r/Zb++ABRBIgF8gVYBtAFUwMPAN7/RQF6ARYBlQHTAi0COQCE/of84Plv+Dn7zP8vAqwBqQCMACH/t/y/+mD64PoQ+zv8X/11/Rz8SftD/fX/5QGnAvoDKQZXBn0EIwJwARsCrgI9AxED1wGE/8P9Tf1J/Mn60fl0+qr7B/xy/G/9//4WAHoBkQNYBVkHrAdZBvgD0QCM/yv+t/wB/bX+mQGqAoUCQwIQAZb/PP4i/9gArgGeAhoD4wI4AEH8yfmX+Mf4APrD/Ov/UgF4AfEAqgACAEj/GADxAU0ElQV/BYIEOQLf/979tfw7/JX7Lfvk+ur69Prg+jf7TPxv/roAiQJ7A4oD4gJ3AWkAnABZAgsEWAQXBL0DcgPCAf3+gv2k/Z7+AP9q/y0AUgDg/zb/KABhARECMQMmAy0CZP9y/Mv7PPt9+6P8zP5cATECbgO6BFUFqgTJAmUCQgLDAqADjAMgA/gArv7v+6r4MPcx9yn5xPoe/On9//0a/fr6GfrN+ob7wv0wAPcCdwQdBOIDJAMeA+ICcgJOAo4BJQHq/wP/D/+Q/9cAgAFrAp4CSAFN/zf9uPwX/Xr+bACzAVACWQHq/7r9I/sZ+rD6A/1a/wMB3wHKAZcBBAERAWQB4wKgBVIGJgU4AgsAR/8y/fz72PsK/SL+tf3Y/igA5QD1/w/+rf3W/AD9IP4pAJQCIgO/Aw4D2AC8/Qv7G/vk+5f9H//p/+L/Wv6t/Xr8T/u9+w3+3AEyA9sCtwKwAk8CgAAs/3/+1/2+/fr9df4l/tv9dP/kAeADfQQrBF0EJwQYAzsBVv9R/5YAlgHOANb+Nv0r/KL7Bvv1+mn7mPyj/mAA8QDh/1//YgCoAjUEVANaArUBFwJ2Adv+rf3T/UD/n/8k/wgAuwBQATQBQgEDAWz/o/7s/sz/XP8q/v/9dv33+3D5o/c/9x330vcs+dX6QPxs/Xf/TgGmAgEEogXKB0sIrgcTBxsGOgUVA/kAFv+6/E37pPok+6z6jvnf+Zz7Ov4Z/yUA9QFkA00EogOlA6wD0gPdBKEFrgW8A7cBjQDJ/7/+ZP1D/Q/+Zv/g/8T/Xf8//9T/aP9I/+z+iP/8ADMB1gGnAREC0QKOAn0C5gGHApMDDwS1A28C5AFDAcwAz/+j/l/+T/5k/s78zfkK9xz2v/fI+VT7sfwq/9kCIQU+BWcELwT/BAQFNgR6A3cCgAFMAO7+nPzs+DL2wPU892X4bvl1++f9gADyAQMDCAPhAcUBxgJRBGgEEATPBN0FmAUcA74A7/4n/or92fyQ/Lv7MfzP/MT9ZP6Y/m8A0ADDAE0AsQCkAl8CagK6AogDvAMGAroBnwG/AaABFgKUAyUD/wFLAOP+XP11+9r7a/1O/2cAMQAm/9b8o/u5/BP/kQFpA60FngezB5EGeQSzApMBmgBFAHj/2P5n/nH9JPyJ+tz5Wfks+ZP5Zfpk+3H7nPzW/hcBSwIFAjcCPwJtAr4CQQPLA2wDEgNqAl0BlP8t/tL9rv12/Q796P1K/kz+Fv8jAQIEeQOZAYUAoACUAEj+6P0//+8AlAFsAZQCLQIBATUAnwAmAfL/HgB9AakC7wF2AKcA0QAnAccB/gIwAwsBaP/g/qz+nP23/Nr9b/9sABQBEQIEA7wC4QEfAUkAeP/l/pj+wf2d/Hn8R/3m/eH9wv5ZANsA3f/X/vj/nwF3ArQCcAI+AlMB2ACGACb/rv1Q/ef+xf/z/gz+HP7g/vr+oP/1AF4CQgM4BHYFoASgAu4A/wAPAQD/CP6i/vL/nP8g/rX+wv9CAPT/hQDrAR8CUwIFAxAEbwOlARoBHAHhAAwAIgBzAIb/Lf4t/c78lPvz+j78zv29/hX/XQBzAdcADQAOAMj/Tf5+/WP+Lv8K/pn8D/3j/RT+wP7yAK4CKwKdAZkCGwTOA8UCMQPpAygEiQO9ArsB9/8r/zv/RP8R/1P/HwCl/6v+sv4eAIwB7wFXA4QE0wPBAev/7P/y/ln9UP29/nMAgADMATMEGwVdBMgCZANvA5sBQgDT/90AnADj//j/gf/x/gr+Tv7O/pL+hP4l/rX9Mvy1+jb6C/ro+oD85v7hAKcBJgI5At0B1ADI/zn/df6r/fH8U/zM+377XPwV/j//cP8k/2v/QwCLAEQA8f9gAFEBWgGaAPT/fgCUAcwB3AFwAr8DXwSnA/4CdwJfAnQCUgMeBaEFngR2AqAAdP/G/YX8pvt5+9/7o/xY/mf/Tf97/iT+yv4K/xv/YP9LAF4BvgEQAjwCZQKWArwCogJ2AcT/P/5B/W/8ePvL+gv6aPlh+R36Eftl+9j7F/1v/sz+o/7l/lv/lv9f/4z/nv8m/37/dQCUAdIB0wGpAogCLQEO/5f9Kv0d/Yv+ff+Z/sn8RPwq/rr+t/1I/mEBfQSqBNcDzQPvA6kD1QQgCDAKDQrmCDYIdQY1AtH+Mf1+/M37Bvwk/qf+TP1G/K38bP0t/Hv7nfzQ/UX+x/21/XT9sPxL/Sr/+gCwAQICqQKbAmMBgf8G/t387fu/+437F/uH+s36YfyF/Vz9Tfyq+/37M/zC+/z6WvvN/Nj9Dv7D/YH+CAAjARcCpQKXApcBTABcAEMBuAGRAfwBUgMDBHwDqAKdAikDsgN7BAwFfwT5AtIBaAGfAGv/Hv9iAGUB2QACAO//IQA+/+r9Bv6G/24BvQKCA+wDlwPBApsBfQCg/2T/8P9iABoAyv4K/X37dvpx+v/6nfsT/Mv8WP2Y/A77E/rc+tj7xPsQ/BT9kP5f/9X/2gDjACYAw/8HAAMAzf53/lP/K/9q/eL7lfwZ/p7+9f7g/5gATwALAMQAqQHtAUECfwPxBFQFuQRIBF4EogSTBB4E7wPAAywDMwISAVoA+v8HAI4A0AADAPj+D//g/9v/eP7M/d7+YwCVAZ8CTgRzBRIFGwTwAtIBuQCzAOkBWwIVAfD+m/3a/N37Iftc+3H8Hv0v/cf86fv5+oT6Sftg/AT9wP3b/g8AcwALANr/FAD4/1f/kv79/Rn+V/6u/lb/xv90AG0BoALzA2UEEATIA7gDjAPxAkMCSwKFAicCggGwAAgAXf/K/hr/o/9HANsA9gDaAC0A6/97ADsB2wGbAScBDgFjAe8BogEiAVQBLgLxAvwCQgMTBNAEwgT3A4sCOgAt/kb9Iv1c/JL6Wvn8+MT4ivgU+Vr6avu4/On+oQE4AzQDJQN1A94DEQQQBAIEkgMtA+ICDwKcAOP+1v1r/SL9zvzY+/D6tvpD+wv8cvzX/QwA6QGwApwCCwMoAwsDwgNYBSUHsgevB0sH1wVRA48Ak/+X/3v/Lf/X/iT/qP4+/Wn8zvwi/rf+p/4S/9P/VACAAEsBnQJ6A6ED2gOWBBQFIAWOBHwD1wGD/579YPzZ+6n7Dft/+lD6g/qN+kr6m/rJ+zb9Yf6v/xkBHQJjApYCUAPEAysEyQS1BWoGugWUBFwD5QFJAI3+mP0Y/XL8ofsz+2j7lPsL/Pr8yf6YAJwBbgJ2AgMCOAEcASYCxwInA0QD0QNnBBgETAPBAeYAGQHHAQUC/QBPAAoA4f/u/xsAdwBVAEgAnQCAAHT/O/7g/XX97PxW/Uz+PP58/E/7P/xY/R39nPwz/YD+Qv9U/zX/vv45/mX+W/93AMAAkgCuAJEB8AIpA1QCggHAAakCgwKZAW4Ar/+X/6D/P/+p/e77W/vH+977hfsX/G39h/6r/tr+zv+lADoBwAEiArwBhADU/2UATAGvAQUCIgNIBCcEBQO/AesA4v/Z/qv+vf7m/jz/SgAGASEAsP4e/hz/KQD+AOIBYwKXAhICjAHWAOf/nv/f/6EAEAGSAGP/IP65/e/9gv21/Lz8l/1Q/u39Kf2Y/Ef83/xp/kQAeQGTAhoEJAUnBdUEGQUzBWQEVAMHA9cCzwFmAOz+xv3F/BP88fuM+yX7MPuI++37Bvxb/Fz9V/7x/iH/XP82AAcBqwGyArAEFQcvCMwH8gZSBkcFaAMtAfH+1fxL+wr7YPtE+476efq6+wz92/0t/n3+Cf9h/2T/CP9h/gX+pf7f/1UBhgITA1EDYQOtA7YD2QJjAV0AAAAs/5/90/u8+lH6XfpP+4L8WP3M/ez+mgB+AXgBUQHBAZoBnwAeAG4AFgFeAckBbQJQAoMBewGiAiADswEL/zD9svwk/FP72Poc+wD8wPyU/en+5P9oADIBeQLkAxwEiQNuAx0DQwIeAYwATwAt/y/+ff63/1UA2/+y/woAMgD3/53/RP9n/kv95/xg/eT9yv2C/fb9d/8WAcoBlwHbAAoAPf+c/m3+/P1H/cf8lvxS/Kb72fsu/Yb+Gv9d/3EAwgGqAgcD3QI7AlIB8QDEAG0AFwAlAJwAaAAAAAEA/P/Q/yX/nv7I/hL/rv/7/43/Jv/l/jX/5f+iAHMB2AECAkMCdQIjAogBVwGqAVUCCwOLA1ADSwJBAZ4A6f8V/+X+dv8mADQA7P+H/+P+Vv4n/oH+wv7g/gb/Lf+E/+L/ggAiAdIBYAJPAnUBAQAA/3b+dP51/hn+8f3e/er9Qf1I/Cn8l/zp/Mv8Yv2s/mD/eP/u/78AngB9/+X+AwCWAa0CPgPvAoECRgLOAmoDWwJ5AM7+7f3D/Uz9bvxF+3r6vvpg+4n7qfvt/CH/NwFpAhYDGQT8BMsFZga3BgcH3ga0BlMGlAVoBGoChwDj/sj93PyW+8v6Vvpg+pX6v/qT+2788fwk/Zr9EP/fAI4CIgRaBcQFWQW3BOkDcQKAAHn/oP+i/xX/RP5n/R38uvqo+n/7Pfwk/fb+9ABkAeMA2wBBAdoAJwAvATADagSNBH4EtgTZAwMC1AB+AE8Ajf9M/lD9c/yy+5T7I/w3/VT+Qv+DABsCfANKBGcEHASJA+8CwAKqAmUCFAJHAroCbAKzAVUBnwH5Ac4BhgEwAd4ArQBwAKX/Jf4M/Qr9kv2b/Qr9AP3i/Qf/9P+RACwBqQGGAUEB+AALAGf+7Pzs/Lr9w/1x/eX9w/6x/gv+gP7L/3cAnwBpAbkCOAMBA9oC3AHZ/5j+Yv8IAV8B+wBtAZABlABx/9b+jP7L/df9l//ZAKIABQAaAKEAeAAQAFYAJAEbAvsC2wJjAdr/mv+/AOABRgL1AhoE/gQeBYIExQPXAnEB9f+7/tD98/w+/Pr7A/zm+5L70/vB/N398/4nAKUBzgJHAzwDFQP3AtMCnwKyAUgA4/7B/ev8l/s++lf5Evn3+W375fzs/Zn+WP/C/+P/ZwDFAT4DIgSIBJ8EwQSpBHoE7QPYAlgCTAIZAgcBr/8v/5z+6v2m/Tn+Ff8Q/+P+wv56/nX+HP9JAOgABwGAAf0BowHqAO0AiwHVAbQB7AEuAvkBlwFfARMBAgDW/if+pf0//RP9u/3b/o7/zf+3/7H/1P/V/5r/Wv9C/zb/Mv8K/9/+d/6Z/Qn95/xQ/QL+Uf4s/pr9cP3Q/fr9yf3j/f/+KwDlAH8BCgJ+Am4CdwKaAvYBXAHlATQDnQNJAtoAmACTAAEAWv9U/9b/IACaAL0B0gIJA2UCowGeAPT+bf0r/Qr+k/6J/u7+l/+E/+f+Iv8+AHYAZP8I/ysAeAHnAfEBIAKDAeL/vf6y/tf+aP73/Vj+Rf/x/yEA1f8U/4b+Xv5e/jv+3/3s/Tj+Nf7C/Q79yPzU/K38QPzs+x38fvzE/Bv9o/0y/uz+OADNAR8DJgRIBQ4GgQVMBKEDbAPnAkUCUQIsAqEAnv4V/tj+Fv+r/p3+9/7U/m3+9v7n/+P/RP9i/00AswBFAFUAgQGmAtoCgAJlArMCrAIJAhYBwv8f/n78kfvj+7/8hf0b/nL+cP4b/hr+f/7F/rz+If+vAPEB7gH0AJX/gP4U/R38Z/zl/Dz9K/0R/cL85vvP++f8Hv4q/sn9W/40/3P/F/92/1wAhgC3AHYBmALkAi8CMwKjApACtAHTAAoB6AHTAhkDUgIEAT0AhADoAKgA6P9A/y7/zP/DAAkB7P9L/uj9u/4//w3/2/5Y/9f/sf/O/48AeQEFAikCbQJ8AucBEgGFAJgA4wArAdIB7AIGBAgEewIJAJP9qftr+vP5JvpT+iX6wPl9+Zb5x/l/+vr7ov0h//z/YADNAFYBEwJtAsMBuQBkAIAAOQAg/xT+Ov69/jv/xv9hAE8BAALhAqoDYgN2ArIBNgI7AzEDWgKvAQ4CowIIAogAD/84/vL9Ef7S/rf/0/+d/8T/IAAIAFH/s/8oAdcBmAH4ACUBcwG9ABQAjv88/xr/Zf8uAFQASQCXAIgBLgKmATYB9wAiATcBiQDG/wX/Rv8wAJoAPQAc//b9u/wO/Fz86PzD/J37L/uT+x78YfxZ/ED9Mv55/3IB/gLMAxUDkQLnAucClwICAngCSwOdA9YDcwO5AocB6QBWAVoBmACq//D/1gASAYcAVP94/jL+2f5QAGoBSgIyA60DGAPLASYBZwFeAYkA6//Q/5//Ff+B/v798vwA/Dz8nP0M/9v//wCYAhgEvwQLBKoCMwHlAFkB6QCV/yn+8v1I/gj+gv1z/Mf6VPmK+UT70fxE/Y39Dv9xADsBzQE1AiADsgN2BCUFgwRDA4YBUgB0/9X+5v6S/jT+uv3q/aH+2v5l/+f/DgFGAuoCKAMKAlgBnwGzAsgDSwO3AigC+AFGAosCZQMrAxgCFwFsAF8AB/9d/eH8Qv23/Rv99PzY/bb+yv62/tv/PQGqAuYD2wQ/BUME9gPaA4ECEAC//dj9Af7b/I772vpt+y/7w/oX+0H72/tY/Gz9Mv6//cz9JP4G/7T/ZgDdAYcC6AJJA9gD+QOzAjQBff/r/S395f17/5v/ov5n/o//wQD8AGkB3QJyBCEFVQX2BKsDGwJ0AeEBpQGJAPv/SQAgALn+gP0j/cf8NvyI/GD+EwBPACMAegATARQBzwB0ASACHgKMASgB5gFsAlICJAI7AvQCbALY//j8tPuT/JL9K/2F/Mv8bv1V/Vn8d/tI+6f73/y8/hoAHgDw/hz+dv6E/8gAXQFMAVgBpQHxARYBA/95/QT99/zF/Gb8wPy+/d/+cgC1ATwCYAIeA/gEiAZRB3gHDge6BbkDfgL8AVcBUgDj/+r/MP/k/Qj97vwB/KD6b/qn+1f9fP5oAD4COwLdAMP/FQACAFX/hv+hAEYBDgGfAXcCOgIEAf8AaQL+Acj/XP4M/93/hP4H/cD8fPyU+8P6R/ux+9364fqq/L7++P6+/VX9sv1H/g7/XACeAbIBnwGsASgB8P8O//v/IgGpAIb/Sv/3/zEA0P/b/zgAQwAfAIMABQECAUMBywHSAeIAGADrACQCrwITA9YDNwRlA2sCGwKvAasADwCXAFQBYAHHAa0CZwJPAJP9evxO/MT7Rvt++/f8wP3d/YL+OAAkAkgBKP/M/h4BVgNLAngAcQBKAaIA9f54/s/+Wf69/ZX+PP9T/oz8y/uO++P5ovgE+Y369Psp/Rv/6P8G/2L+UP/uAKgB7QHQAqcDswOVAw0D1AEXAP3+cv8AAAQAiv83/7b/SwDBAIsAKgCSAPAAQQFUAUUBVAG4AJQAAQFAAWUBgAE5AocCYQJ0AowCIAIHAR4B8QHlAYYAgv+EAHcBjgGHAYMCagNxAY7+o/3A/n//0/0q/GH8cPym+/36xftI/Vv94f3C/z0BAgH6/34AKwHJABsAUwCdAMf/3v8MAakBQQDY/lX/lv/T/sz98P3O/Yj8ZfxT/Zv97/vJ+if8/v2t/qf+i/8GAdwBjgKIAzcEYQQmBC0ELwRvA9YCfwIRAgIBYf9x/l3+k/5T/gb+2/2R/bj9dv5MAN4BAgIjAnYCWAPmBHQGtQf4BdEBdv8DAAQCygHx/4T/pv9i/yz+lP0r/pz+b//nAPcBrwDf/Qr85vvR+5n6Y/rm+8X9zP4R/8H/KAACAMgAlwIXBHEEawSCBFsDWgFIAF4Ahf8f/ar8fv76/xf/GP3c/On8yfwc/f39//65/5kBAwPZAY3+nvwD/gAANQGhAVIC6AI+AjwBZgD///T/EgCcAL0BigLLAoIC+QEJAqABLwE7AP79BPyp+9X9iP8G/1f+i//dAZACfwNWBfEG0QY8BSAGrAbkBB0C4v9nAMv/3/02/PX6Ufs++8r7Zfyl/Bf95fzs/WT+hv6d/gX/BwEoAZMA7//Q/3AA+/9OAdMCAQNxAv8BvAJSAbH+iv3g/en9lfzl/GX+yP4i/uH9zP54/jX98P01ACYCagLXAfcBqAENAdQA8wBzAV4BkwHOAmIEHARcAHr8d/vw/JL9ffxX/ZP/6ACFAKX/tv+E/sz9KQDzAycG9gR+A9YCbAHG/y7/OgBBATMCHgNlA0YCBgAz/4L+H/6m/kv/HACt/jT9FP3O/Hj8qfu2/NL+PAD7ABMBZAE1AKr+0P3F/az+oP6K/x8ARP9P/ir9Pv5v/6EADQNRBMwE5gOUA3ID+ACl/nr+0wBHAgcCIgIvAqoBOgA2ABkAdP3t+gv7AP4Z/2b9qfwe/R/9h/vP+mf8HP5+/3QB4wOBBDcC5P9h//X/rQBoAYoCnAIxAS8A6f9s//79Wv0P/yABUQHK/1b+kf0q/cP84fzT/d7+1QBfAh0DlwPWAm8CDwEhACMBHgHQACz/+P0A/sX8qfzs/JD95/1k/TP+hf6Y/nf+Tv//ACQBTAFmAckC9AN4A9QDeQROBsUGugTVAmgBwgHtAVIB/AA4AGj/MP52/Sf9xPzs/NT9XP93/0/+ef1a/fv9Tv4g/30AkwB3/z7+Kf6//n7+cv6E/98AxQHfAfkBsAF1AK3/V//R/nn9bPwq/eH9wf0J/df8dP3j/R//owCaAaYBZwGuAVcBmACt/7n/UgDZABQCbALmAnsCKQGIAE7/mv9K/0H+5/6T/10BFgKRAokDUwFw/mz9BQAeA3kCVwGxAbMCnwER//39CP7q/kkAzQKiBA0EyQJWAZ0Aov+C/kv+0v0a/of+av7S/Zb8sPxS/aP9/v1O/lf/DABJAGYA5f9X/4v+Cf4v/oP+0/5q/sv9fP1Z/Sn97/xN/br9x/2g/f391P7V/oL+UP6l/vr+5f7Q/78AOgEIAfUAHgJdAlQCgAI9A2AEIQRjBNEDtAHH/5T/lQIDBAYDQgIaAtIBEv+u/er+gf/f/pH+gQGSA/kB6//+/xECJwK1AbsClQNZA6UBPgGjADH+R/w4/Kj+1P8f/8D+4f7T/1z/ef4D/jP96PxY/MP8JP1P/Cj8nvzs/SH+cf02/vX+7v7c/WT9+P1Z/YP8VfzO/OP8r/zM/cv+CP8P/9//ogDM/9b/gQGFAwsEWQOFA0ICDf9O/LX8z//mAPP/+P7z/in/hP4B/93/xv97/6MANQNVA+EASP9aAB4CbAK7AgcEFwWPBDAEbwSUAz8BIv8LADwBhAAq/8v+VQCcACAAQQBxAIYA5v96ABcB+//O/U78r/ye/A/8EPyg/X7/dv9N/37/GwDr/zz/ZQB+AV8BBgA1/3//gf6Q/dL9EP/P/5v/GQEnAxwEVgNkAR8A6v4z/70AsQGiAd3/cv6C/R79X/3x/Cr9WP61AEcCmwGGALb/FABwAJgAhQCS/1P/ov9PAPX/hP4t/lT/ygGOA94DNgMbAowBXwGLAXYBEQE0AQYCsAI7Aj8BdADS/1z/w//QAKYAEf++/Uj9hvzL+u75//p9/LL98P6UAIcBzgBMAA8BmgIwA48CkQIMA5EDtAPvA3cDegBB/cL8B/9nAF//qv4f/z7/Ff5O/Wn9If35/Hz+MwHnAWAAf/+3AF0CcwJ+AkQDpQPhAvcB3wGeAOv9ifw2/qcAlgAW/4n+7/4W/y7/IQDHAGsAawCQAXECDgG+/hP+Ff9gALEArwDHAJYAfQBpAGwA7/8v/0P/s/+1/5P+Mv2h/IH8qvxg/f3+8ACJArADGwWJBg0HlQZtBH0B4f7C/d3+qP9H/xn+/Px7/Hv7mvpR+tr6KPwT/hcAugBgANb/IgD8AKIBvwJ8A8QDDwRpBCAEVQKcAK8AJQL/ArUCnwEAALb+S/67/pj+qP18/c7+TQA0ABT/Gf5w/j//jv/d//j/EwDW/8b/QQBTALX/kv+0AKEBkgHqALcAzAA9AD0A0AAhAQsBPwE2AswCcwIjAqwCPAJRAMT+Yv+uAUACKQEmADT/o/3T+wv8af2Z/T/9kf6vAFcAEP7Y/OX97v6Z/xoBkwLwAhwC2QFbAab/JP69/Yj+zv6R/qj+LP6i/b39Bf+dAAEB+gBhAf0B7QHhAPH/pP+J/67/KwD0AJgB0wEVAjMC6wF8AUUBSgHZAMv/av5V/Uf8b/um+8H8sv6r/1cA/wHnA6oFQQbMBmEGxQNUAQsB7gJIA5wBogAJAE3/I/4T/pr+Bv42/g4AqwGlAHj+AP72/on/yv/5AJwBfwD7/kf+8P2I/G/7gvzf/pMA3QBtAKv/yf5x/v/+Zf8T/4P+kP6e/iT+kv1T/Y/90/2n/mv/d/80/yP/bf9j/13/6P/oAA8CnAJEA3YDFQNHAmwB6AFWAicCGwFRAHgAFgHtARsDJAS4A+0BqwAlAYQCDwPIALD/AADh/x8A9//m/9P/BgAsAEoAYABRADwALgAPAAEAEgAvAE4AWwBQAAgA8f/5/wYA4//Z/93/yv/H/+j/FQAMANj/xP/a//3/EAALABQA9v/w/+z/4v/w/x4AKwASAP//7v/m//v/GAAcABcAFwA7AD4ANQAsADQAIQAIABMAFwAAAPT/DwAXABcACAATACAA+P/o//X/FwAXAO3/zP/B/93/6v8AAAkAHwAcABIAEQALABcABgD7/+v/4v/W/+X/5P/Z/9j/5v8SAC4AJgALAPD/3f/y/wwA+//e/+b/AAAKAAIABQACAAAA9P/3////AAAAAAIAAAD//wkACgACAPX//f8FAAQABQAKAAQAAADt/+z/8P/8/wEA/P8EAAUACwACAAEAAgD4//D/AQAVAAwA+P/y//3/CQADAAUADAAPAA8AAgD+//n//v8JAAAA8P/8/woADgD9//3/BwAUACAAIAATAPj/9v8AAAYABAANABcAIwAnACQAHQAMAAcAEwATAAYACwAaAB4AEAACAAEACQASAAsABQAAAPb/9v/s/+3/8//2//L//v8EAAkACgAAAAEAAAAGAPv//P/+//n/7//v//z/BQALAAAA/P/2/+//8v/7//v/7//q//f/BAAKAAoACgAEAAUAFAAcAAsA//8BABAAEgAPABUAFwASAAYADgARAAoAAwD8//P/9P/7/wYAAAAAAAkAEQARABAAEQD///X/+f8PABQADgAQABgAJgAiABgADAAIAAwAEwAbABwAEgANAAsACgAPAAoAAAAAAAAA/v/2//X/+P///wMABwAFAAMAAAD6//j/9f/8/wYACAABAP7//P/6/+//5v/l/+n/6f/l/+f/6v/y//v/AgAGAAUA+v/5/////f/z/+3/9P/5/wcAEgAWABAACQAHAAAA+f/9////8v/u//7/DwARAAYAAAADAPv/8//3//H/5P/b/+r/9//9/wQAAQD8//T//P8EAAYA+P/w//P/9v/9/wAAAAD5//n/AAAIAP//8P/s//T///8AAAMA//8AAAAAAgACAAIAAgD+/////v8AAAAA///8//7/CgARAAgA+//7//7/AAD+/////////wEACgALAP3/8v/2//3//f/9//v//f/+////AAD8//3/+//7//n//P/4//X/8v/x//z/BAAIAP3/+P/5//7//f/4//f/+P/8/wAABwABAPv/9//+/wEA/v/5//T/9f/0////CQALAAcACQANAAgABwAJAAMA+f/1//3/BgAFAAEABQAIAAUABAADAP7/9//y//T/+P/9/wEAAAD+//7/AgAAAPz/9//2//f/+v/9/wAAAgACAAUACQANAAwACwAKAAkABgACAAAABAAHAAcABwAGAAUAAwABAAAAAgADAAYACAAGAAYACQAJAAYABgAGAAYABwAEAAAAAAABAAMABgAFAAIA/v/7//3//v/+//r//f8BAAQAAwABAAEA/v/9//7/AAD/////AAACAAMAAwADAAEA//8BAAIAAAD////////+//7/AAABAAAA/f/9/////v/+/////v/8////AAAAAP//AAAAAAEAAQABAAAAAAD//wAAAQABAAAAAAAAAAEAAQAAAAEAAAAAAAAA//8AAP//AAAAAAAAAAAAAAAAAAAAAAAAAAAAAAAAAAAAAAAAAAAAAAAAAAAAAAAAAAAAAAAAAAAAAAAAAAAAAAAAAAAAAAAAAAAAAAAAAAAAAAAAAAAAAAAAAAAAAAAAAAAAAAAAAAAAAAAAAAAAAAAAAAAAAAAAAAAAAAAAAAAAAAAAAAAAAAAAAAAAAAAAAAAAAAAAAAAAAAAAAAAAAAAAAAAAAAAAAAAAAAAAAAAAAAAAAAAAAAAAAAAAAAAAAAAAAAAAAAAAAAAAAAAAAAAAAAAAAAAAAAAAAAAAAAAAAAAAAAAAAAAAAAAAAAAAAAAAAAAAAAAAAAAAAAAAAAAAAAAAAAAAAAAAAAAAAAAAAAAAAAAAAAAAAAAAAAAAAAAAAAAAAAAAAAAAAAAAAAAAAAAAAAAAAAAAAAAAAAAAAAAAAAAAAAAAAAAAAAAAAAAAAAAAAAAAAAAAAAAAAAAAAAAAAAAAAAAAAAAAAAAAAAAAAAAAAAAAAAAAAAAAAAAAAAAAAAAAAAAAAAAAAAAAAAAAAAAAAAAAAAAAAAAAAAAAAAAAAAAAAAAAAAAAAAAAAAAAAAAAAAAAAAAAAAAAAAAAAAAAAAAAAAAAAAAAAAAAAAAAAAAAAAAAAAAAAAAAAAAAAAAAAAAAAAAAAAAAAAAAAA==\" type=\"audio/wav\" />\n",
              "                    Your browser does not support the audio element.\n",
              "                </audio>\n",
              "              "
            ],
            "text/plain": [
              "<IPython.lib.display.Audio object>"
            ]
          },
          "execution_count": 55,
          "metadata": {},
          "output_type": "execute_result"
        }
      ],
      "source": [
        "import IPython.display as ipd\n",
        "import numpy as np\n",
        "import random\n",
        "\n",
        "rand_int = random.randint(0, len(train)-1)\n",
        "\n",
        "ipd.Audio(data=np.asarray(train[rand_int][\"speech\"]), autoplay=True, rate=16000)"
      ]
    },
    {
      "cell_type": "code",
      "execution_count": null,
      "metadata": {
        "colab": {
          "base_uri": "https://localhost:8080/"
        },
        "id": "ooek-pBx397F",
        "outputId": "60239770-8b75-477a-df0f-ff3f17e46b5c"
      },
      "outputs": [
        {
          "name": "stdout",
          "output_type": "stream",
          "text": [
            "Target text: مِن شَرِّ الْوَسْوَاسِ الْخَنَّاسِ\n",
            "Input array shape: (70218,)\n",
            "Sampling rate: 16000\n"
          ]
        }
      ],
      "source": [
        "rand_int = random.randint(0, len(train)-1)\n",
        "\n",
        "print(\"Target text:\", train[rand_int][\"target_text\"])\n",
        "print(\"Input array shape:\", np.asarray(train[rand_int][\"speech\"]).shape)\n",
        "print(\"Sampling rate:\", train[rand_int][\"sampling_rate\"])"
      ]
    },
    {
      "cell_type": "code",
      "execution_count": null,
      "metadata": {
        "id": "ZCO2t5145TsX"
      },
      "outputs": [],
      "source": [
        "def prepare_dataset(batch):\n",
        "    # check that all files have the correct sampling rate\n",
        "    assert (\n",
        "        len(set(batch[\"sampling_rate\"])) == 1\n",
        "    ), f\"Make sure all inputs have the same sampling rate of {processor.feature_extractor.sampling_rate}.\"\n",
        "\n",
        "    batch[\"input_values\"] = processor(batch[\"speech\"], sampling_rate=batch[\"sampling_rate\"][0]).input_values\n",
        "\n",
        "    with processor.as_target_processor():\n",
        "        batch[\"labels\"] = processor(batch[\"target_text\"]).input_ids\n",
        "    return batch"
      ]
    },
    {
      "cell_type": "code",
      "execution_count": null,
      "metadata": {
        "id": "WgJFZuC_6Db2"
      },
      "outputs": [],
      "source": [
        "def prepare_dataset_test(batch):\n",
        "    # check that all files have the correct sampling rate\n",
        "    assert (\n",
        "        len(set(batch[\"sampling_rate\"])) == 1\n",
        "    ), f\"Make sure all inputs have the same sampling rate of {processor.feature_extractor.sampling_rate}.\"\n",
        "\n",
        "    batch[\"input_values\"] = processor(batch[\"speech\"], padding=True,sampling_rate=batch[\"sampling_rate\"][0]).input_values\n",
        "\n",
        "    return batch"
      ]
    },
    {
      "cell_type": "code",
      "execution_count": null,
      "metadata": {
        "colab": {
          "base_uri": "https://localhost:8080/",
          "height": 657,
          "referenced_widgets": [
            "9788f9d2f80246a5ae9d3ef0c1e37fef",
            "cdbd0782c56a45d690be5c06e1569498",
            "9fb006572a0a43c6996b403664db0601",
            "4e83722afb6f422fb1be622f12730849",
            "583946f11fe74493afbb7e34875f9ddc",
            "92b46b6c5f944d0b8f3866cec25b0c01",
            "360d6708d85840c8a31296e2dcaf248a",
            "502594037dc444bb8885175cea15a711",
            "c3b61b76f7544185acfc3b7fc1b8c75f",
            "6916f6c46fe04c96902a3bd15d10661c",
            "2b68d62e43474996ba18701582aae3f9",
            "b9da31c60a3b4d40a50a95b090942b94",
            "38d70c603c6345caa948a2fcc57543e9",
            "89be8c5d7dbb493ba702c2b317b56492",
            "05a4305ff984493e984a698b125a1177",
            "b976848e7d03453e8550e9e6c499c29d",
            "8b8e4a63064e4d6ba2b688179667100f",
            "837a33d1a2e04daf8a30ffa7d12aee28",
            "4cde2a3ba22a4486833611d13dc2ff4f",
            "361f3a0541b0493688cc3125b6302ecc",
            "dff660b3cf7e46cc8d86775fa2d7ea35",
            "221239bd2f594d3880227cba3ad2c57c"
          ]
        },
        "id": "0fBfIxbf6FRq",
        "outputId": "d34eabb8-2c0a-4e9f-adc3-7d679258dd97"
      },
      "outputs": [
        {
          "data": {
            "application/vnd.jupyter.widget-view+json": {
              "model_id": "9788f9d2f80246a5ae9d3ef0c1e37fef",
              "version_major": 2,
              "version_minor": 0
            },
            "text/plain": [
              "Map (num_proc=8):   0%|          | 0/334 [00:00<?, ? examples/s]"
            ]
          },
          "metadata": {},
          "output_type": "display_data"
        },
        {
          "name": "stderr",
          "output_type": "stream",
          "text": [
            "/usr/local/lib/python3.10/dist-packages/transformers/models/wav2vec2/processing_wav2vec2.py:156: UserWarning: `as_target_processor` is deprecated and will be removed in v5 of Transformers. You can process your labels by using the argument `text` of the regular `__call__` method (either in the same call as your audio inputs, or in a separate call.\n",
            "  warnings.warn(\n",
            "/usr/local/lib/python3.10/dist-packages/transformers/models/wav2vec2/processing_wav2vec2.py:156: UserWarning: `as_target_processor` is deprecated and will be removed in v5 of Transformers. You can process your labels by using the argument `text` of the regular `__call__` method (either in the same call as your audio inputs, or in a separate call.\n",
            "  warnings.warn(\n",
            "/usr/local/lib/python3.10/dist-packages/transformers/models/wav2vec2/processing_wav2vec2.py:156: UserWarning: `as_target_processor` is deprecated and will be removed in v5 of Transformers. You can process your labels by using the argument `text` of the regular `__call__` method (either in the same call as your audio inputs, or in a separate call.\n",
            "  warnings.warn(\n",
            "/usr/local/lib/python3.10/dist-packages/transformers/models/wav2vec2/processing_wav2vec2.py:156: UserWarning: `as_target_processor` is deprecated and will be removed in v5 of Transformers. You can process your labels by using the argument `text` of the regular `__call__` method (either in the same call as your audio inputs, or in a separate call.\n",
            "  warnings.warn(\n",
            "/usr/local/lib/python3.10/dist-packages/transformers/models/wav2vec2/processing_wav2vec2.py:156: UserWarning: `as_target_processor` is deprecated and will be removed in v5 of Transformers. You can process your labels by using the argument `text` of the regular `__call__` method (either in the same call as your audio inputs, or in a separate call.\n",
            "  warnings.warn(\n",
            "/usr/local/lib/python3.10/dist-packages/transformers/models/wav2vec2/processing_wav2vec2.py:156: UserWarning: `as_target_processor` is deprecated and will be removed in v5 of Transformers. You can process your labels by using the argument `text` of the regular `__call__` method (either in the same call as your audio inputs, or in a separate call.\n",
            "  warnings.warn(\n",
            "/usr/local/lib/python3.10/dist-packages/transformers/models/wav2vec2/processing_wav2vec2.py:156: UserWarning: `as_target_processor` is deprecated and will be removed in v5 of Transformers. You can process your labels by using the argument `text` of the regular `__call__` method (either in the same call as your audio inputs, or in a separate call.\n",
            "  warnings.warn(\n",
            "/usr/local/lib/python3.10/dist-packages/transformers/models/wav2vec2/processing_wav2vec2.py:156: UserWarning: `as_target_processor` is deprecated and will be removed in v5 of Transformers. You can process your labels by using the argument `text` of the regular `__call__` method (either in the same call as your audio inputs, or in a separate call.\n",
            "  warnings.warn(\n"
          ]
        },
        {
          "data": {
            "application/vnd.jupyter.widget-view+json": {
              "model_id": "b9da31c60a3b4d40a50a95b090942b94",
              "version_major": 2,
              "version_minor": 0
            },
            "text/plain": [
              "Map (num_proc=8):   0%|          | 0/84 [00:00<?, ? examples/s]"
            ]
          },
          "metadata": {},
          "output_type": "display_data"
        },
        {
          "name": "stderr",
          "output_type": "stream",
          "text": [
            "/usr/local/lib/python3.10/dist-packages/transformers/models/wav2vec2/processing_wav2vec2.py:156: UserWarning: `as_target_processor` is deprecated and will be removed in v5 of Transformers. You can process your labels by using the argument `text` of the regular `__call__` method (either in the same call as your audio inputs, or in a separate call.\n",
            "  warnings.warn(\n",
            "/usr/local/lib/python3.10/dist-packages/transformers/models/wav2vec2/processing_wav2vec2.py:156: UserWarning: `as_target_processor` is deprecated and will be removed in v5 of Transformers. You can process your labels by using the argument `text` of the regular `__call__` method (either in the same call as your audio inputs, or in a separate call.\n",
            "  warnings.warn(\n",
            "/usr/local/lib/python3.10/dist-packages/transformers/models/wav2vec2/processing_wav2vec2.py:156: UserWarning: `as_target_processor` is deprecated and will be removed in v5 of Transformers. You can process your labels by using the argument `text` of the regular `__call__` method (either in the same call as your audio inputs, or in a separate call.\n",
            "  warnings.warn(\n",
            "/usr/local/lib/python3.10/dist-packages/transformers/models/wav2vec2/processing_wav2vec2.py:156: UserWarning: `as_target_processor` is deprecated and will be removed in v5 of Transformers. You can process your labels by using the argument `text` of the regular `__call__` method (either in the same call as your audio inputs, or in a separate call.\n",
            "  warnings.warn(\n",
            "/usr/local/lib/python3.10/dist-packages/transformers/models/wav2vec2/processing_wav2vec2.py:156: UserWarning: `as_target_processor` is deprecated and will be removed in v5 of Transformers. You can process your labels by using the argument `text` of the regular `__call__` method (either in the same call as your audio inputs, or in a separate call.\n",
            "  warnings.warn(\n",
            "/usr/local/lib/python3.10/dist-packages/transformers/models/wav2vec2/processing_wav2vec2.py:156: UserWarning: `as_target_processor` is deprecated and will be removed in v5 of Transformers. You can process your labels by using the argument `text` of the regular `__call__` method (either in the same call as your audio inputs, or in a separate call.\n",
            "  warnings.warn(\n",
            "/usr/local/lib/python3.10/dist-packages/transformers/models/wav2vec2/processing_wav2vec2.py:156: UserWarning: `as_target_processor` is deprecated and will be removed in v5 of Transformers. You can process your labels by using the argument `text` of the regular `__call__` method (either in the same call as your audio inputs, or in a separate call.\n",
            "  warnings.warn(\n",
            "/usr/local/lib/python3.10/dist-packages/transformers/models/wav2vec2/processing_wav2vec2.py:156: UserWarning: `as_target_processor` is deprecated and will be removed in v5 of Transformers. You can process your labels by using the argument `text` of the regular `__call__` method (either in the same call as your audio inputs, or in a separate call.\n",
            "  warnings.warn(\n"
          ]
        }
      ],
      "source": [
        "train_processed = train.map(prepare_dataset, remove_columns=train.column_names, batch_size=8, num_proc=8, batched=True)\n",
        "test_processed = test.map(prepare_dataset, remove_columns=test.column_names, batch_size=4, num_proc=8, batched=True)\n"
      ]
    },
    {
      "cell_type": "code",
      "execution_count": null,
      "metadata": {
        "id": "UupWWESPuGFp"
      },
      "outputs": [],
      "source": [
        "import torch\n",
        "\n",
        "from dataclasses import dataclass, field\n",
        "from typing import Any, Dict, List, Optional, Union\n",
        "\n",
        "@dataclass\n",
        "class DataCollatorCTCWithPadding:\n",
        "    \"\"\"\n",
        "    Data collator that will dynamically pad the inputs received.\n",
        "    Args:\n",
        "        processor (:class:`~transformers.Wav2Vec2Processor`)\n",
        "            The processor used for proccessing the data.\n",
        "        padding (:obj:`bool`, :obj:`str` or :class:`~transformers.tokenization_utils_base.PaddingStrategy`, `optional`, defaults to :obj:`True`):\n",
        "            Select a strategy to pad the returned sequences (according to the model's padding side and padding index)\n",
        "            among:\n",
        "            * :obj:`True` or :obj:`'longest'`: Pad to the longest sequence in the batch (or no padding if only a single\n",
        "              sequence if provided).\n",
        "            * :obj:`'max_length'`: Pad to a maximum length specified with the argument :obj:`max_length` or to the\n",
        "              maximum acceptable input length for the model if that argument is not provided.\n",
        "            * :obj:`False` or :obj:`'do_not_pad'` (default): No padding (i.e., can output a batch with sequences of\n",
        "              different lengths).\n",
        "    \"\"\"\n",
        "\n",
        "    processor: Wav2Vec2Processor\n",
        "    padding: Union[bool, str] = True\n",
        "\n",
        "    def __call__(self, features: List[Dict[str, Union[List[int], torch.Tensor]]]) -> Dict[str, torch.Tensor]:\n",
        "        # split inputs and labels since they have to be of different lenghts and need\n",
        "        # different padding methods\n",
        "        input_features = [{\"input_values\": feature[\"input_values\"]} for feature in features]\n",
        "        label_features = [{\"input_ids\": feature[\"labels\"]} for feature in features]\n",
        "\n",
        "        batch = self.processor.pad(\n",
        "            input_features,\n",
        "            padding=self.padding,\n",
        "            return_tensors=\"pt\",\n",
        "        )\n",
        "        with self.processor.as_target_processor():\n",
        "            labels_batch = self.processor.pad(\n",
        "                label_features,\n",
        "                padding=self.padding,\n",
        "                return_tensors=\"pt\",\n",
        "            )\n",
        "\n",
        "        # replace padding with -100 to ignore loss correctly\n",
        "        labels = labels_batch[\"input_ids\"].masked_fill(labels_batch.attention_mask.ne(1), -100)\n",
        "\n",
        "        batch[\"labels\"] = labels\n",
        "\n",
        "        return batch"
      ]
    },
    {
      "cell_type": "code",
      "execution_count": null,
      "metadata": {
        "id": "KDbTPArM5hGK"
      },
      "outputs": [],
      "source": [
        "data_collator = DataCollatorCTCWithPadding(processor=processor, padding=True)"
      ]
    },
    {
      "cell_type": "code",
      "execution_count": null,
      "metadata": {
        "colab": {
          "base_uri": "https://localhost:8080/",
          "height": 104,
          "referenced_widgets": [
            "526ed365e70c41eda19159b0d5cd6983",
            "dc9a90d888984558b932c58f3fbc4d19",
            "986021559b724222bcac47e53de923b5",
            "92a009416088461aadc865534a9074f6",
            "3244ae1a743c4cbba271b3e8a74b9295",
            "0b2f93824aa548d79cffc3a62c2dc5f9",
            "b1d34dd187764ea188da8215b76ddef4",
            "a1eac96045394315afc445ae9e43c09a",
            "fc864baddb8f4f3e9ff982bfb0c7364a",
            "7ffa817fd78246338052a4ae480f33c9",
            "b4c10fb98f8a409e9827ea27d8bb6d11"
          ]
        },
        "id": "z1WMZY0F5jbz",
        "outputId": "779a1a31-616a-46a4-bfcd-79360a8dec60"
      },
      "outputs": [
        {
          "name": "stderr",
          "output_type": "stream",
          "text": [
            "<ipython-input-62-a3d5cb20e755>:1: FutureWarning: load_metric is deprecated and will be removed in the next major version of datasets. Use 'evaluate.load' instead, from the new library 🤗 Evaluate: https://huggingface.co/docs/evaluate\n",
            "  wer_metric = load_metric(\"wer\",trust_remote_code=True)\n"
          ]
        },
        {
          "data": {
            "application/vnd.jupyter.widget-view+json": {
              "model_id": "526ed365e70c41eda19159b0d5cd6983",
              "version_major": 2,
              "version_minor": 0
            },
            "text/plain": [
              "Downloading builder script:   0%|          | 0.00/1.90k [00:00<?, ?B/s]"
            ]
          },
          "metadata": {},
          "output_type": "display_data"
        }
      ],
      "source": [
        "wer_metric = load_metric(\"wer\",trust_remote_code=True)"
      ]
    },
    {
      "cell_type": "code",
      "execution_count": null,
      "metadata": {
        "id": "YkellbFe5zbR"
      },
      "outputs": [],
      "source": [
        "def compute_metrics(pred):\n",
        "    pred_logits = pred.predictions\n",
        "    pred_ids = np.argmax(pred_logits, axis=-1)\n",
        "\n",
        "    pred.label_ids[pred.label_ids == -100] = processor.tokenizer.pad_token_id\n",
        "\n",
        "    pred_str = processor.batch_decode(pred_ids)\n",
        "    # we do not want to group tokens when computing the metrics\n",
        "    label_str = processor.batch_decode(pred.label_ids, group_tokens=False)\n",
        "\n",
        "    wer = wer_metric.compute(predictions=pred_str, references=label_str)\n",
        "\n",
        "    return {\"wer\": wer}"
      ]
    },
    {
      "cell_type": "code",
      "execution_count": null,
      "metadata": {
        "colab": {
          "base_uri": "https://localhost:8080/"
        },
        "id": "R5o_zSTo6EKr",
        "outputId": "5ffbdc9b-0e26-4138-bdf8-69d5596dbcd6"
      },
      "outputs": [
        {
          "data": {
            "text/plain": [
              "32"
            ]
          },
          "execution_count": 64,
          "metadata": {},
          "output_type": "execute_result"
        }
      ],
      "source": [
        "len(processor.tokenizer)"
      ]
    },
    {
      "cell_type": "code",
      "execution_count": null,
      "metadata": {
        "colab": {
          "base_uri": "https://localhost:8080/"
        },
        "id": "6SboTYNaLPBg",
        "outputId": "aad98192-8d21-4448-fc19-44ade84b87a5"
      },
      "outputs": [
        {
          "data": {
            "text/plain": [
              "Wav2Vec2FeatureExtractor {\n",
              "  \"do_normalize\": true,\n",
              "  \"feature_extractor_type\": \"Wav2Vec2FeatureExtractor\",\n",
              "  \"feature_size\": 1,\n",
              "  \"padding_side\": \"right\",\n",
              "  \"padding_value\": 0.0,\n",
              "  \"processor_class\": \"Wav2Vec2Processor\",\n",
              "  \"return_attention_mask\": true,\n",
              "  \"sampling_rate\": 16000\n",
              "}"
            ]
          },
          "execution_count": 65,
          "metadata": {},
          "output_type": "execute_result"
        }
      ],
      "source": [
        "processor.feature_extractor"
      ]
    },
    {
      "cell_type": "code",
      "execution_count": null,
      "metadata": {
        "colab": {
          "base_uri": "https://localhost:8080/"
        },
        "id": "3zXtGrtf6gD7",
        "outputId": "34c8089d-44ef-49f5-b171-8e6832270f65"
      },
      "outputs": [
        {
          "name": "stderr",
          "output_type": "stream",
          "text": [
            "Some weights of Wav2Vec2ForCTC were not initialized from the model checkpoint at /content/drive/MyDrive/wav2vec2-large-arabic-fatiha_model and are newly initialized because the shapes did not match:\n",
            "- lm_head.bias: found shape torch.Size([69]) in the checkpoint and torch.Size([32]) in the model instantiated\n",
            "- lm_head.weight: found shape torch.Size([69, 1024]) in the checkpoint and torch.Size([32, 1024]) in the model instantiated\n",
            "You should probably TRAIN this model on a down-stream task to be able to use it for predictions and inference.\n"
          ]
        }
      ],
      "source": [
        "model = Wav2Vec2ForCTC.from_pretrained(\n",
        "    \"/content/drive/MyDrive/wav2vec2-large-arabic-fatiha_model\",\n",
        "    attention_dropout=0.1,\n",
        "    hidden_dropout=0.1,\n",
        "    feat_proj_dropout=0.0,\n",
        "    mask_time_prob=0.05,\n",
        "    layerdrop=0.1,\n",
        "    ignore_mismatched_sizes=True,\n",
        "    ctc_loss_reduction=\"mean\",\n",
        "    pad_token_id=processor.tokenizer.pad_token_id,\n",
        "    vocab_size=len(processor.tokenizer)\n",
        ")"
      ]
    },
    {
      "cell_type": "code",
      "execution_count": null,
      "metadata": {
        "colab": {
          "base_uri": "https://localhost:8080/"
        },
        "id": "_Pi0RNRU6py8",
        "outputId": "1f7cdad0-3060-4208-f6c3-ccce561cfedf"
      },
      "outputs": [
        {
          "name": "stderr",
          "output_type": "stream",
          "text": [
            "/usr/local/lib/python3.10/dist-packages/transformers/models/wav2vec2/modeling_wav2vec2.py:1920: FutureWarning: The method `freeze_feature_extractor` is deprecated and will be removed in Transformers v5. Please use the equivalent `freeze_feature_encoder` method instead.\n",
            "  warnings.warn(\n"
          ]
        }
      ],
      "source": [
        "model.freeze_feature_extractor()"
      ]
    },
    {
      "cell_type": "code",
      "execution_count": null,
      "metadata": {
        "id": "9A_g022O62X7"
      },
      "outputs": [],
      "source": [
        "# Adjust the training arguments\n",
        "training_args = TrainingArguments(\n",
        "    output_dir=\"/content/drive/MyDrive/wav2vec2-large-model-3\",\n",
        "    group_by_length=True,                 # Group batches by sequence length for more efficient training\n",
        "    per_device_train_batch_size=2,        # Increase the per-device batch size for faster training\n",
        "    gradient_accumulation_steps=4,        # Decrease gradient accumulation steps to speed up training\n",
        "    evaluation_strategy=\"steps\",\n",
        "    num_train_epochs=130,                 # Reduce the number of epochs for faster training\n",
        "    fp16=True,                            # Enable mixed precision training for faster computations\n",
        "    save_steps=1000,                      # Save model checkpoints less frequently to reduce I/O operations\n",
        "    eval_steps=1000,                      # Evaluate less frequently to speed up training\n",
        "    logging_steps=1000,                   # Log less frequently to reduce overhead\n",
        "    learning_rate=3e-4,                   # Adjust learning rate based on model convergence behavior\n",
        "    warmup_steps=500,                     # Reduce warmup steps to speed up convergence\n",
        "    save_total_limit=2,                   # Limit the number of saved checkpoints to save disk space\n",
        "    load_best_model_at_end=True,          # Set this to True to load the best model based on evaluation metric\n",
        ")"
      ]
    },
    {
      "cell_type": "markdown",
      "metadata": {
        "id": "KuXNYJ_VE7Fa"
      },
      "source": [
        "###learning rate 1e-4   ------ wer 0.94 (best one) batch size 16 & per_device 8 & 4\n",
        "###learning rate 0.5e-4 ------ wer 0.985\n",
        "###learning rate 0.3e-4 ------ wer 0.985\n",
        "###learning rate 0.3e-5 ------ wer 0.988\n",
        "###learning rate 0.3e-6 ------ wer 1.000 (worst one) batch 16 & 8 per_device 4 & 4\n"
      ]
    },
    {
      "cell_type": "code",
      "execution_count": null,
      "metadata": {
        "colab": {
          "base_uri": "https://localhost:8080/"
        },
        "id": "bjmvi0qI-WcG",
        "outputId": "9fbce46e-43f6-4bf9-92bf-ac7dbba974ea"
      },
      "outputs": [
        {
          "name": "stderr",
          "output_type": "stream",
          "text": [
            "/usr/local/lib/python3.10/dist-packages/accelerate/accelerator.py:432: FutureWarning: Passing the following arguments to `Accelerator` is deprecated and will be removed in version 1.0 of Accelerate: dict_keys(['dispatch_batches', 'split_batches', 'even_batches', 'use_seedable_sampler']). Please pass an `accelerate.DataLoaderConfiguration` instead: \n",
            "dataloader_config = DataLoaderConfiguration(dispatch_batches=None, split_batches=False, even_batches=True, use_seedable_sampler=True)\n",
            "  warnings.warn(\n"
          ]
        }
      ],
      "source": [
        "trainer = Trainer(\n",
        "    model=model,\n",
        "    data_collator=data_collator,\n",
        "    args=training_args,\n",
        "    compute_metrics=compute_metrics,\n",
        "    train_dataset=train_processed,\n",
        "    eval_dataset=test_processed,\n",
        "    tokenizer=processor.feature_extractor,\n",
        ")"
      ]
    },
    {
      "cell_type": "code",
      "execution_count": null,
      "metadata": {
        "id": "IHevtZj5-hpG"
      },
      "outputs": [],
      "source": [
        "# os.environ['WANDB_MODE'] = 'dryrun'\n",
        "# os.environ['WANDB_DISABLED '] = 'True'"
      ]
    },
    {
      "cell_type": "code",
      "execution_count": null,
      "metadata": {
        "colab": {
          "base_uri": "https://localhost:8080/"
        },
        "id": "SpXhC4HA-j17",
        "outputId": "25246a9e-a16a-4f45-9b79-efbd6662cdc9"
      },
      "outputs": [
        {
          "data": {
            "text/plain": [
              "(334, 2)"
            ]
          },
          "execution_count": 84,
          "metadata": {},
          "output_type": "execute_result"
        }
      ],
      "source": [
        "train_processed.shape"
      ]
    },
    {
      "cell_type": "code",
      "execution_count": null,
      "metadata": {
        "colab": {
          "base_uri": "https://localhost:8080/"
        },
        "id": "FqtsSldmCGjN",
        "outputId": "3d161f10-ab73-4f0a-cf26-a2c75c18a5a1"
      },
      "outputs": [
        {
          "data": {
            "text/plain": [
              "(84, 2)"
            ]
          },
          "execution_count": 85,
          "metadata": {},
          "output_type": "execute_result"
        }
      ],
      "source": [
        "test_processed.shape"
      ]
    },
    {
      "cell_type": "code",
      "execution_count": null,
      "metadata": {
        "id": "y89azAmDR1Yt"
      },
      "outputs": [],
      "source": [
        "# import gc\n",
        "# del train,test\n",
        "# gc.collect()"
      ]
    },
    {
      "cell_type": "code",
      "execution_count": null,
      "metadata": {
        "colab": {
          "base_uri": "https://localhost:8080/",
          "height": 17
        },
        "id": "oR3IRLUniBJK",
        "outputId": "95c22910-2a28-40f0-9164-8f9803e26ffc"
      },
      "outputs": [
        {
          "data": {
            "application/javascript": [
              "IPython.notebook.kernel.execute(\"NotebookApp.iopub_data_rate_limit = 10000000.0\")"
            ],
            "text/plain": [
              "<IPython.core.display.Javascript object>"
            ]
          },
          "metadata": {},
          "output_type": "display_data"
        },
        {
          "data": {
            "application/javascript": [
              "IPython.notebook.kernel.execute(\"NotebookApp.rate_limit_window=20.0\")"
            ],
            "text/plain": [
              "<IPython.core.display.Javascript object>"
            ]
          },
          "metadata": {},
          "output_type": "display_data"
        }
      ],
      "source": [
        "from IPython.display import Javascript\n",
        "display(Javascript('IPython.notebook.kernel.execute(\"NotebookApp.iopub_data_rate_limit = 10000000.0\")'))\n",
        "display(Javascript('IPython.notebook.kernel.execute(\"NotebookApp.rate_limit_window = 20.0\")'))\n"
      ]
    },
    {
      "cell_type": "code",
      "execution_count": null,
      "metadata": {
        "colab": {
          "base_uri": "https://localhost:8080/",
          "height": 495
        },
        "id": "yHzVDfFg-62X",
        "outputId": "b4ee6ab6-7849-436f-a2e7-d18d1c6d54b2"
      },
      "outputs": [
        {
          "name": "stderr",
          "output_type": "stream",
          "text": [
            "/usr/local/lib/python3.10/dist-packages/transformers/models/wav2vec2/processing_wav2vec2.py:156: UserWarning: `as_target_processor` is deprecated and will be removed in v5 of Transformers. You can process your labels by using the argument `text` of the regular `__call__` method (either in the same call as your audio inputs, or in a separate call.\n",
            "  warnings.warn(\n"
          ]
        },
        {
          "data": {
            "text/html": [
              "\n",
              "    <div>\n",
              "      \n",
              "      <progress value='5330' max='5330' style='width:300px; height:20px; vertical-align: middle;'></progress>\n",
              "      [5330/5330 1:55:44, Epoch 127/130]\n",
              "    </div>\n",
              "    <table border=\"1\" class=\"dataframe\">\n",
              "  <thead>\n",
              " <tr style=\"text-align: left;\">\n",
              "      <th>Step</th>\n",
              "      <th>Training Loss</th>\n",
              "      <th>Validation Loss</th>\n",
              "      <th>Wer</th>\n",
              "    </tr>\n",
              "  </thead>\n",
              "  <tbody>\n",
              "    <tr>\n",
              "      <td>1000</td>\n",
              "      <td>0.090200</td>\n",
              "      <td>0.109913</td>\n",
              "      <td>0.845238</td>\n",
              "    </tr>\n",
              "    <tr>\n",
              "      <td>2000</td>\n",
              "      <td>0.067600</td>\n",
              "      <td>0.197193</td>\n",
              "      <td>0.952381</td>\n",
              "    </tr>\n",
              "    <tr>\n",
              "      <td>3000</td>\n",
              "      <td>0.023500</td>\n",
              "      <td>0.057823</td>\n",
              "      <td>0.928571</td>\n",
              "    </tr>\n",
              "    <tr>\n",
              "      <td>4000</td>\n",
              "      <td>0.010300</td>\n",
              "      <td>0.099362</td>\n",
              "      <td>0.976190</td>\n",
              "    </tr>\n",
              "    <tr>\n",
              "      <td>5000</td>\n",
              "      <td>0.007400</td>\n",
              "      <td>0.218339</td>\n",
              "      <td>0.952381</td>\n",
              "    </tr>\n",
              "  </tbody>\n",
              "</table><p>"
            ],
            "text/plain": [
              "<IPython.core.display.HTML object>"
            ]
          },
          "metadata": {},
          "output_type": "display_data"
        },
        {
          "name": "stderr",
          "output_type": "stream",
          "text": [
            "/usr/local/lib/python3.10/dist-packages/transformers/models/wav2vec2/processing_wav2vec2.py:156: UserWarning: `as_target_processor` is deprecated and will be removed in v5 of Transformers. You can process your labels by using the argument `text` of the regular `__call__` method (either in the same call as your audio inputs, or in a separate call.\n",
            "  warnings.warn(\n",
            "/usr/local/lib/python3.10/dist-packages/transformers/models/wav2vec2/processing_wav2vec2.py:156: UserWarning: `as_target_processor` is deprecated and will be removed in v5 of Transformers. You can process your labels by using the argument `text` of the regular `__call__` method (either in the same call as your audio inputs, or in a separate call.\n",
            "  warnings.warn(\n",
            "/usr/local/lib/python3.10/dist-packages/transformers/models/wav2vec2/processing_wav2vec2.py:156: UserWarning: `as_target_processor` is deprecated and will be removed in v5 of Transformers. You can process your labels by using the argument `text` of the regular `__call__` method (either in the same call as your audio inputs, or in a separate call.\n",
            "  warnings.warn(\n",
            "/usr/local/lib/python3.10/dist-packages/transformers/models/wav2vec2/processing_wav2vec2.py:156: UserWarning: `as_target_processor` is deprecated and will be removed in v5 of Transformers. You can process your labels by using the argument `text` of the regular `__call__` method (either in the same call as your audio inputs, or in a separate call.\n",
            "  warnings.warn(\n",
            "/usr/local/lib/python3.10/dist-packages/transformers/models/wav2vec2/processing_wav2vec2.py:156: UserWarning: `as_target_processor` is deprecated and will be removed in v5 of Transformers. You can process your labels by using the argument `text` of the regular `__call__` method (either in the same call as your audio inputs, or in a separate call.\n",
            "  warnings.warn(\n"
          ]
        },
        {
          "data": {
            "text/plain": [
              "TrainOutput(global_step=5330, training_loss=0.03785963246343731, metrics={'train_runtime': 6946.4809, 'train_samples_per_second': 6.251, 'train_steps_per_second': 0.767, 'total_flos': 7.710001044881445e+18, 'train_loss': 0.03785963246343731, 'epoch': 127.66})"
            ]
          },
          "execution_count": 88,
          "metadata": {},
          "output_type": "execute_result"
        }
      ],
      "source": [
        "trainer.train()"
      ]
    },
    {
      "cell_type": "code",
      "execution_count": null,
      "metadata": {
        "colab": {
          "base_uri": "https://localhost:8080/"
        },
        "id": "wnZyjAXw-sr_",
        "outputId": "313724e2-7998-4e28-ec64-57a0f6d407b5"
      },
      "outputs": [
        {
          "data": {
            "text/plain": [
              "[]"
            ]
          },
          "execution_count": 76,
          "metadata": {},
          "output_type": "execute_result"
        }
      ],
      "source": [
        "model.save_pretrained(\"/content/drive/MyDrive/wav2vec2-quran-model\")\n",
        "processor.save_pretrained(\"/content/drive/MyDrive/wav2vec2-quran-processor\")"
      ]
    },
    {
      "cell_type": "markdown",
      "metadata": {
        "id": "CRYEnqhQcqwq"
      },
      "source": [
        "## Testing"
      ]
    },
    {
      "cell_type": "code",
      "execution_count": null,
      "metadata": {
        "colab": {
          "base_uri": "https://localhost:8080/"
        },
        "id": "Nry8auHodMTp",
        "outputId": "90192778-533f-4c53-e573-3e6677f3235d"
      },
      "outputs": [
        {
          "name": "stderr",
          "output_type": "stream",
          "text": [
            "Special tokens have been added in the vocabulary, make sure the associated word embeddings are fine-tuned or trained.\n"
          ]
        }
      ],
      "source": [
        "# Load the processor\n",
        "processor_test = Wav2Vec2Processor.from_pretrained(\"/content/drive/MyDrive/wav2vec2-quran-processor\")\n",
        "\n",
        "# Load the model\n",
        "model_test = Wav2Vec2ForCTC.from_pretrained(\"/content/drive/MyDrive/wav2vec2-quran-model\")"
      ]
    },
    {
      "cell_type": "markdown",
      "metadata": {
        "id": "31PXT4RN-MxS"
      },
      "source": [
        "# Test on Custom Audio"
      ]
    },
    {
      "cell_type": "code",
      "execution_count": null,
      "metadata": {
        "colab": {
          "base_uri": "https://localhost:8080/",
          "height": 322
        },
        "id": "ZBq_qx0B-R5E",
        "outputId": "d074c739-2433-47a1-a7bf-4013fc995718"
      },
      "outputs": [
        {
          "ename": "ValueError",
          "evalue": "could not convert string to float: '/content/drive/MyDrive/test_samples/me_01001.wav'",
          "output_type": "error",
          "traceback": [
            "\u001b[0;31m---------------------------------------------------------------------------\u001b[0m",
            "\u001b[0;31mValueError\u001b[0m                                Traceback (most recent call last)",
            "\u001b[0;32m<ipython-input-1-8b58dc9dce30>\u001b[0m in \u001b[0;36m<cell line: 7>\u001b[0;34m()\u001b[0m\n\u001b[1;32m      5\u001b[0m \u001b[0mtest_dir\u001b[0m \u001b[0;34m=\u001b[0m \u001b[0;34m'/content/drive/MyDrive/test_samples/me_01001.wav'\u001b[0m\u001b[0;34m\u001b[0m\u001b[0;34m\u001b[0m\u001b[0m\n\u001b[1;32m      6\u001b[0m \u001b[0;34m\u001b[0m\u001b[0m\n\u001b[0;32m----> 7\u001b[0;31m \u001b[0mipd\u001b[0m\u001b[0;34m.\u001b[0m\u001b[0mAudio\u001b[0m\u001b[0;34m(\u001b[0m\u001b[0mdata\u001b[0m\u001b[0;34m=\u001b[0m\u001b[0mtest_dir\u001b[0m\u001b[0;34m,\u001b[0m \u001b[0mautoplay\u001b[0m\u001b[0;34m=\u001b[0m\u001b[0;32mTrue\u001b[0m\u001b[0;34m,\u001b[0m \u001b[0mrate\u001b[0m\u001b[0;34m=\u001b[0m\u001b[0;36m16000\u001b[0m\u001b[0;34m)\u001b[0m\u001b[0;34m\u001b[0m\u001b[0;34m\u001b[0m\u001b[0m\n\u001b[0m",
            "\u001b[0;32m/usr/local/lib/python3.10/dist-packages/IPython/lib/display.py\u001b[0m in \u001b[0;36m__init__\u001b[0;34m(self, data, filename, url, embed, rate, autoplay, normalize, element_id)\u001b[0m\n\u001b[1;32m    115\u001b[0m             \u001b[0;32mif\u001b[0m \u001b[0mrate\u001b[0m \u001b[0;32mis\u001b[0m \u001b[0;32mNone\u001b[0m\u001b[0;34m:\u001b[0m\u001b[0;34m\u001b[0m\u001b[0;34m\u001b[0m\u001b[0m\n\u001b[1;32m    116\u001b[0m                 \u001b[0;32mraise\u001b[0m \u001b[0mValueError\u001b[0m\u001b[0;34m(\u001b[0m\u001b[0;34m\"rate must be specified when data is a numpy array or list of audio samples.\"\u001b[0m\u001b[0;34m)\u001b[0m\u001b[0;34m\u001b[0m\u001b[0;34m\u001b[0m\u001b[0m\n\u001b[0;32m--> 117\u001b[0;31m             \u001b[0mself\u001b[0m\u001b[0;34m.\u001b[0m\u001b[0mdata\u001b[0m \u001b[0;34m=\u001b[0m \u001b[0mAudio\u001b[0m\u001b[0;34m.\u001b[0m\u001b[0m_make_wav\u001b[0m\u001b[0;34m(\u001b[0m\u001b[0mdata\u001b[0m\u001b[0;34m,\u001b[0m \u001b[0mrate\u001b[0m\u001b[0;34m,\u001b[0m \u001b[0mnormalize\u001b[0m\u001b[0;34m)\u001b[0m\u001b[0;34m\u001b[0m\u001b[0;34m\u001b[0m\u001b[0m\n\u001b[0m\u001b[1;32m    118\u001b[0m \u001b[0;34m\u001b[0m\u001b[0m\n\u001b[1;32m    119\u001b[0m     \u001b[0;32mdef\u001b[0m \u001b[0mreload\u001b[0m\u001b[0;34m(\u001b[0m\u001b[0mself\u001b[0m\u001b[0;34m)\u001b[0m\u001b[0;34m:\u001b[0m\u001b[0;34m\u001b[0m\u001b[0;34m\u001b[0m\u001b[0m\n",
            "\u001b[0;32m/usr/local/lib/python3.10/dist-packages/IPython/lib/display.py\u001b[0m in \u001b[0;36m_make_wav\u001b[0;34m(data, rate, normalize)\u001b[0m\n\u001b[1;32m    137\u001b[0m \u001b[0;34m\u001b[0m\u001b[0m\n\u001b[1;32m    138\u001b[0m         \u001b[0;32mtry\u001b[0m\u001b[0;34m:\u001b[0m\u001b[0;34m\u001b[0m\u001b[0;34m\u001b[0m\u001b[0m\n\u001b[0;32m--> 139\u001b[0;31m             \u001b[0mscaled\u001b[0m\u001b[0;34m,\u001b[0m \u001b[0mnchan\u001b[0m \u001b[0;34m=\u001b[0m \u001b[0mAudio\u001b[0m\u001b[0;34m.\u001b[0m\u001b[0m_validate_and_normalize_with_numpy\u001b[0m\u001b[0;34m(\u001b[0m\u001b[0mdata\u001b[0m\u001b[0;34m,\u001b[0m \u001b[0mnormalize\u001b[0m\u001b[0;34m)\u001b[0m\u001b[0;34m\u001b[0m\u001b[0;34m\u001b[0m\u001b[0m\n\u001b[0m\u001b[1;32m    140\u001b[0m         \u001b[0;32mexcept\u001b[0m \u001b[0mImportError\u001b[0m\u001b[0;34m:\u001b[0m\u001b[0;34m\u001b[0m\u001b[0;34m\u001b[0m\u001b[0m\n\u001b[1;32m    141\u001b[0m             \u001b[0mscaled\u001b[0m\u001b[0;34m,\u001b[0m \u001b[0mnchan\u001b[0m \u001b[0;34m=\u001b[0m \u001b[0mAudio\u001b[0m\u001b[0;34m.\u001b[0m\u001b[0m_validate_and_normalize_without_numpy\u001b[0m\u001b[0;34m(\u001b[0m\u001b[0mdata\u001b[0m\u001b[0;34m,\u001b[0m \u001b[0mnormalize\u001b[0m\u001b[0;34m)\u001b[0m\u001b[0;34m\u001b[0m\u001b[0;34m\u001b[0m\u001b[0m\n",
            "\u001b[0;32m/usr/local/lib/python3.10/dist-packages/IPython/lib/display.py\u001b[0m in \u001b[0;36m_validate_and_normalize_with_numpy\u001b[0;34m(data, normalize)\u001b[0m\n\u001b[1;32m    157\u001b[0m         \u001b[0;32mimport\u001b[0m \u001b[0mnumpy\u001b[0m \u001b[0;32mas\u001b[0m \u001b[0mnp\u001b[0m\u001b[0;34m\u001b[0m\u001b[0;34m\u001b[0m\u001b[0m\n\u001b[1;32m    158\u001b[0m \u001b[0;34m\u001b[0m\u001b[0m\n\u001b[0;32m--> 159\u001b[0;31m         \u001b[0mdata\u001b[0m \u001b[0;34m=\u001b[0m \u001b[0mnp\u001b[0m\u001b[0;34m.\u001b[0m\u001b[0marray\u001b[0m\u001b[0;34m(\u001b[0m\u001b[0mdata\u001b[0m\u001b[0;34m,\u001b[0m \u001b[0mdtype\u001b[0m\u001b[0;34m=\u001b[0m\u001b[0mfloat\u001b[0m\u001b[0;34m)\u001b[0m\u001b[0;34m\u001b[0m\u001b[0;34m\u001b[0m\u001b[0m\n\u001b[0m\u001b[1;32m    160\u001b[0m         \u001b[0;32mif\u001b[0m \u001b[0mlen\u001b[0m\u001b[0;34m(\u001b[0m\u001b[0mdata\u001b[0m\u001b[0;34m.\u001b[0m\u001b[0mshape\u001b[0m\u001b[0;34m)\u001b[0m \u001b[0;34m==\u001b[0m \u001b[0;36m1\u001b[0m\u001b[0;34m:\u001b[0m\u001b[0;34m\u001b[0m\u001b[0;34m\u001b[0m\u001b[0m\n\u001b[1;32m    161\u001b[0m             \u001b[0mnchan\u001b[0m \u001b[0;34m=\u001b[0m \u001b[0;36m1\u001b[0m\u001b[0;34m\u001b[0m\u001b[0;34m\u001b[0m\u001b[0m\n",
            "\u001b[0;31mValueError\u001b[0m: could not convert string to float: '/content/drive/MyDrive/test_samples/me_01001.wav'"
          ]
        }
      ],
      "source": [
        "import IPython.display as ipd\n",
        "import numpy as np\n",
        "import random\n",
        "\n",
        "test_dir = '/content/drive/MyDrive/test_samples/me_01001.wav'\n",
        "\n",
        "ipd.Audio(data=test_dir, autoplay=True, rate=16000)"
      ]
    },
    {
      "cell_type": "code",
      "execution_count": null,
      "metadata": {
        "colab": {
          "base_uri": "https://localhost:8080/"
        },
        "id": "3zvLKDKJ86Jv",
        "outputId": "46a5331c-df9b-4ee4-e0a3-2a427d6c8da9"
      },
      "outputs": [
        {
          "name": "stdout",
          "output_type": "stream",
          "text": [
            "Predicted transcription without padding: ['قُلْ', 'أَعُوذُ', 'بِرَبِّ', 'الْفَلَقِ']\n"
          ]
        }
      ],
      "source": [
        "import librosa\n",
        "from transformers import Wav2Vec2Processor, Wav2Vec2ForCTC\n",
        "import torch\n",
        "\n",
        "\n",
        "speech_array, sampling_rate = librosa.load(test_dir, sr=16000)\n",
        "\n",
        "# Initialize processor and model\n",
        "processor = processor_test\n",
        "model = model_test\n",
        "model.to(\"cuda\")  # Move the model to the GPU\n",
        "\n",
        "# Prepare the input for testing\n",
        "input_values = processor(speech_array, sampling_rate=sampling_rate, return_tensors=\"pt\").input_values\n",
        "\n",
        "# Perform inference\n",
        "with torch.no_grad():\n",
        "    logits = model(input_values.to(\"cuda\")).logits\n",
        "\n",
        "# Decode the predicted IDs to text\n",
        "pred_ids = torch.argmax(logits, dim=-1)[0]\n",
        "\n",
        "# Decode without padding\n",
        "transcription_without_padding = processor.batch_decode(pred_ids)\n",
        "transcription_without_padding = [token for token in transcription_without_padding if token != '[PAD]']\n",
        "\n",
        "# Remove repeated words\n",
        "transcription_without_repeats = [transcription_without_padding[0]] + [word for i, word in enumerate(transcription_without_padding[1:]) if word != transcription_without_padding[i]]\n",
        "\n",
        "\n",
        "print(\"Predicted transcription without padding:\", transcription_without_repeats)\n"
      ]
    },
    {
      "cell_type": "markdown",
      "metadata": {
        "id": "QsJ3PJ6j-gMC"
      },
      "source": [
        "# Test on processed data"
      ]
    },
    {
      "cell_type": "code",
      "execution_count": null,
      "metadata": {
        "colab": {
          "base_uri": "https://localhost:8080/"
        },
        "id": "L7DQ4kRgcqFK",
        "outputId": "b4657f18-613b-46ba-fc64-a7437eea688b"
      },
      "outputs": [
        {
          "name": "stderr",
          "output_type": "stream",
          "text": [
            "It is strongly recommended to pass the ``sampling_rate`` argument to this function. Failing to do so can result in silent errors that might be hard to debug.\n"
          ]
        },
        {
          "name": "stdout",
          "output_type": "stream",
          "text": [
            "Prediction: مِنَالْجِنَّةِوَالنَّاسِ\n"
          ]
        }
      ],
      "source": [
        "model_test.to(\"cuda\")  # Move the model to the GPU\n",
        "\n",
        "input_dict = processor_test(train_processed[100][\"input_values\"], return_tensors=\"pt\", padding=True)\n",
        "\n",
        "logits = model_test(input_dict.input_values.to(\"cuda\")).logits\n",
        "\n",
        "pred_ids = torch.argmax(logits, dim=-1)[0]\n",
        "\n",
        "# Convert the predicted IDs back to text using the processor\n",
        "predicted_text = processor.batch_decode(pred_ids.unsqueeze(0))[-1]\n",
        "\n",
        "print(\"Prediction:\", predicted_text)\n"
      ]
    }
  ],
  "metadata": {
    "accelerator": "GPU",
    "colab": {
      "collapsed_sections": [
        "9MnrLJaoMndq",
        "KBygVpATMhNi",
        "t4D7aS5SAodY"
      ],
      "gpuType": "T4",
      "machine_shape": "hm",
      "provenance": []
    },
    "kernelspec": {
      "display_name": "Python 3",
      "name": "python3"
    },
    "language_info": {
      "name": "python"
    },
    "widgets": {
      "application/vnd.jupyter.widget-state+json": {
        "05a4305ff984493e984a698b125a1177": {
          "model_module": "@jupyter-widgets/controls",
          "model_module_version": "1.5.0",
          "model_name": "HTMLModel",
          "state": {
            "_dom_classes": [],
            "_model_module": "@jupyter-widgets/controls",
            "_model_module_version": "1.5.0",
            "_model_name": "HTMLModel",
            "_view_count": null,
            "_view_module": "@jupyter-widgets/controls",
            "_view_module_version": "1.5.0",
            "_view_name": "HTMLView",
            "description": "",
            "description_tooltip": null,
            "layout": "IPY_MODEL_dff660b3cf7e46cc8d86775fa2d7ea35",
            "placeholder": "​",
            "style": "IPY_MODEL_221239bd2f594d3880227cba3ad2c57c",
            "value": " 84/84 [00:02&lt;00:00, 74.93 examples/s]"
          }
        },
        "05b31f3fd3414c7c9658e1290792a767": {
          "model_module": "@jupyter-widgets/base",
          "model_module_version": "1.2.0",
          "model_name": "LayoutModel",
          "state": {
            "_model_module": "@jupyter-widgets/base",
            "_model_module_version": "1.2.0",
            "_model_name": "LayoutModel",
            "_view_count": null,
            "_view_module": "@jupyter-widgets/base",
            "_view_module_version": "1.2.0",
            "_view_name": "LayoutView",
            "align_content": null,
            "align_items": null,
            "align_self": null,
            "border": null,
            "bottom": null,
            "display": null,
            "flex": null,
            "flex_flow": null,
            "grid_area": null,
            "grid_auto_columns": null,
            "grid_auto_flow": null,
            "grid_auto_rows": null,
            "grid_column": null,
            "grid_gap": null,
            "grid_row": null,
            "grid_template_areas": null,
            "grid_template_columns": null,
            "grid_template_rows": null,
            "height": null,
            "justify_content": null,
            "justify_items": null,
            "left": null,
            "margin": null,
            "max_height": null,
            "max_width": null,
            "min_height": null,
            "min_width": null,
            "object_fit": null,
            "object_position": null,
            "order": null,
            "overflow": null,
            "overflow_x": null,
            "overflow_y": null,
            "padding": null,
            "right": null,
            "top": null,
            "visibility": null,
            "width": null
          }
        },
        "0b2f93824aa548d79cffc3a62c2dc5f9": {
          "model_module": "@jupyter-widgets/base",
          "model_module_version": "1.2.0",
          "model_name": "LayoutModel",
          "state": {
            "_model_module": "@jupyter-widgets/base",
            "_model_module_version": "1.2.0",
            "_model_name": "LayoutModel",
            "_view_count": null,
            "_view_module": "@jupyter-widgets/base",
            "_view_module_version": "1.2.0",
            "_view_name": "LayoutView",
            "align_content": null,
            "align_items": null,
            "align_self": null,
            "border": null,
            "bottom": null,
            "display": null,
            "flex": null,
            "flex_flow": null,
            "grid_area": null,
            "grid_auto_columns": null,
            "grid_auto_flow": null,
            "grid_auto_rows": null,
            "grid_column": null,
            "grid_gap": null,
            "grid_row": null,
            "grid_template_areas": null,
            "grid_template_columns": null,
            "grid_template_rows": null,
            "height": null,
            "justify_content": null,
            "justify_items": null,
            "left": null,
            "margin": null,
            "max_height": null,
            "max_width": null,
            "min_height": null,
            "min_width": null,
            "object_fit": null,
            "object_position": null,
            "order": null,
            "overflow": null,
            "overflow_x": null,
            "overflow_y": null,
            "padding": null,
            "right": null,
            "top": null,
            "visibility": null,
            "width": null
          }
        },
        "0e782579d0c443be875e88cf5a1e6abe": {
          "model_module": "@jupyter-widgets/base",
          "model_module_version": "1.2.0",
          "model_name": "LayoutModel",
          "state": {
            "_model_module": "@jupyter-widgets/base",
            "_model_module_version": "1.2.0",
            "_model_name": "LayoutModel",
            "_view_count": null,
            "_view_module": "@jupyter-widgets/base",
            "_view_module_version": "1.2.0",
            "_view_name": "LayoutView",
            "align_content": null,
            "align_items": null,
            "align_self": null,
            "border": null,
            "bottom": null,
            "display": null,
            "flex": null,
            "flex_flow": null,
            "grid_area": null,
            "grid_auto_columns": null,
            "grid_auto_flow": null,
            "grid_auto_rows": null,
            "grid_column": null,
            "grid_gap": null,
            "grid_row": null,
            "grid_template_areas": null,
            "grid_template_columns": null,
            "grid_template_rows": null,
            "height": null,
            "justify_content": null,
            "justify_items": null,
            "left": null,
            "margin": null,
            "max_height": null,
            "max_width": null,
            "min_height": null,
            "min_width": null,
            "object_fit": null,
            "object_position": null,
            "order": null,
            "overflow": null,
            "overflow_x": null,
            "overflow_y": null,
            "padding": null,
            "right": null,
            "top": null,
            "visibility": null,
            "width": null
          }
        },
        "1462646e97094a2ba0f1a921c00ca878": {
          "model_module": "@jupyter-widgets/controls",
          "model_module_version": "1.5.0",
          "model_name": "HTMLModel",
          "state": {
            "_dom_classes": [],
            "_model_module": "@jupyter-widgets/controls",
            "_model_module_version": "1.5.0",
            "_model_name": "HTMLModel",
            "_view_count": null,
            "_view_module": "@jupyter-widgets/controls",
            "_view_module_version": "1.5.0",
            "_view_name": "HTMLView",
            "description": "",
            "description_tooltip": null,
            "layout": "IPY_MODEL_e92403faf9c34e3cbd45e6c16b63c6c1",
            "placeholder": "​",
            "style": "IPY_MODEL_af539311900d47c28bf5fad1f0eb9c4e",
            "value": "Map (num_proc=4): 100%"
          }
        },
        "221239bd2f594d3880227cba3ad2c57c": {
          "model_module": "@jupyter-widgets/controls",
          "model_module_version": "1.5.0",
          "model_name": "DescriptionStyleModel",
          "state": {
            "_model_module": "@jupyter-widgets/controls",
            "_model_module_version": "1.5.0",
            "_model_name": "DescriptionStyleModel",
            "_view_count": null,
            "_view_module": "@jupyter-widgets/base",
            "_view_module_version": "1.2.0",
            "_view_name": "StyleView",
            "description_width": ""
          }
        },
        "28b478fcddc744978fa753480e971209": {
          "model_module": "@jupyter-widgets/controls",
          "model_module_version": "1.5.0",
          "model_name": "HBoxModel",
          "state": {
            "_dom_classes": [],
            "_model_module": "@jupyter-widgets/controls",
            "_model_module_version": "1.5.0",
            "_model_name": "HBoxModel",
            "_view_count": null,
            "_view_module": "@jupyter-widgets/controls",
            "_view_module_version": "1.5.0",
            "_view_name": "HBoxView",
            "box_style": "",
            "children": [
              "IPY_MODEL_d70dfd15ca284654ac1ec29742bfcbe8",
              "IPY_MODEL_fd490d3ab9fb43eba72063dfa9e2648f",
              "IPY_MODEL_d04b7a037d314c5cb56407e577464c20"
            ],
            "layout": "IPY_MODEL_0e782579d0c443be875e88cf5a1e6abe"
          }
        },
        "2b68d62e43474996ba18701582aae3f9": {
          "model_module": "@jupyter-widgets/controls",
          "model_module_version": "1.5.0",
          "model_name": "DescriptionStyleModel",
          "state": {
            "_model_module": "@jupyter-widgets/controls",
            "_model_module_version": "1.5.0",
            "_model_name": "DescriptionStyleModel",
            "_view_count": null,
            "_view_module": "@jupyter-widgets/base",
            "_view_module_version": "1.2.0",
            "_view_name": "StyleView",
            "description_width": ""
          }
        },
        "2b72b23be9ab48eb9c6f872b8a037604": {
          "model_module": "@jupyter-widgets/controls",
          "model_module_version": "1.5.0",
          "model_name": "ProgressStyleModel",
          "state": {
            "_model_module": "@jupyter-widgets/controls",
            "_model_module_version": "1.5.0",
            "_model_name": "ProgressStyleModel",
            "_view_count": null,
            "_view_module": "@jupyter-widgets/base",
            "_view_module_version": "1.2.0",
            "_view_name": "StyleView",
            "bar_color": null,
            "description_width": ""
          }
        },
        "2d6b3ef74f294ce4a1bdfddf8a76bb66": {
          "model_module": "@jupyter-widgets/base",
          "model_module_version": "1.2.0",
          "model_name": "LayoutModel",
          "state": {
            "_model_module": "@jupyter-widgets/base",
            "_model_module_version": "1.2.0",
            "_model_name": "LayoutModel",
            "_view_count": null,
            "_view_module": "@jupyter-widgets/base",
            "_view_module_version": "1.2.0",
            "_view_name": "LayoutView",
            "align_content": null,
            "align_items": null,
            "align_self": null,
            "border": null,
            "bottom": null,
            "display": null,
            "flex": null,
            "flex_flow": null,
            "grid_area": null,
            "grid_auto_columns": null,
            "grid_auto_flow": null,
            "grid_auto_rows": null,
            "grid_column": null,
            "grid_gap": null,
            "grid_row": null,
            "grid_template_areas": null,
            "grid_template_columns": null,
            "grid_template_rows": null,
            "height": null,
            "justify_content": null,
            "justify_items": null,
            "left": null,
            "margin": null,
            "max_height": null,
            "max_width": null,
            "min_height": null,
            "min_width": null,
            "object_fit": null,
            "object_position": null,
            "order": null,
            "overflow": null,
            "overflow_x": null,
            "overflow_y": null,
            "padding": null,
            "right": null,
            "top": null,
            "visibility": null,
            "width": null
          }
        },
        "3244ae1a743c4cbba271b3e8a74b9295": {
          "model_module": "@jupyter-widgets/base",
          "model_module_version": "1.2.0",
          "model_name": "LayoutModel",
          "state": {
            "_model_module": "@jupyter-widgets/base",
            "_model_module_version": "1.2.0",
            "_model_name": "LayoutModel",
            "_view_count": null,
            "_view_module": "@jupyter-widgets/base",
            "_view_module_version": "1.2.0",
            "_view_name": "LayoutView",
            "align_content": null,
            "align_items": null,
            "align_self": null,
            "border": null,
            "bottom": null,
            "display": null,
            "flex": null,
            "flex_flow": null,
            "grid_area": null,
            "grid_auto_columns": null,
            "grid_auto_flow": null,
            "grid_auto_rows": null,
            "grid_column": null,
            "grid_gap": null,
            "grid_row": null,
            "grid_template_areas": null,
            "grid_template_columns": null,
            "grid_template_rows": null,
            "height": null,
            "justify_content": null,
            "justify_items": null,
            "left": null,
            "margin": null,
            "max_height": null,
            "max_width": null,
            "min_height": null,
            "min_width": null,
            "object_fit": null,
            "object_position": null,
            "order": null,
            "overflow": null,
            "overflow_x": null,
            "overflow_y": null,
            "padding": null,
            "right": null,
            "top": null,
            "visibility": null,
            "width": null
          }
        },
        "360d6708d85840c8a31296e2dcaf248a": {
          "model_module": "@jupyter-widgets/controls",
          "model_module_version": "1.5.0",
          "model_name": "DescriptionStyleModel",
          "state": {
            "_model_module": "@jupyter-widgets/controls",
            "_model_module_version": "1.5.0",
            "_model_name": "DescriptionStyleModel",
            "_view_count": null,
            "_view_module": "@jupyter-widgets/base",
            "_view_module_version": "1.2.0",
            "_view_name": "StyleView",
            "description_width": ""
          }
        },
        "361f3a0541b0493688cc3125b6302ecc": {
          "model_module": "@jupyter-widgets/controls",
          "model_module_version": "1.5.0",
          "model_name": "ProgressStyleModel",
          "state": {
            "_model_module": "@jupyter-widgets/controls",
            "_model_module_version": "1.5.0",
            "_model_name": "ProgressStyleModel",
            "_view_count": null,
            "_view_module": "@jupyter-widgets/base",
            "_view_module_version": "1.2.0",
            "_view_name": "StyleView",
            "bar_color": null,
            "description_width": ""
          }
        },
        "38d70c603c6345caa948a2fcc57543e9": {
          "model_module": "@jupyter-widgets/controls",
          "model_module_version": "1.5.0",
          "model_name": "HTMLModel",
          "state": {
            "_dom_classes": [],
            "_model_module": "@jupyter-widgets/controls",
            "_model_module_version": "1.5.0",
            "_model_name": "HTMLModel",
            "_view_count": null,
            "_view_module": "@jupyter-widgets/controls",
            "_view_module_version": "1.5.0",
            "_view_name": "HTMLView",
            "description": "",
            "description_tooltip": null,
            "layout": "IPY_MODEL_8b8e4a63064e4d6ba2b688179667100f",
            "placeholder": "​",
            "style": "IPY_MODEL_837a33d1a2e04daf8a30ffa7d12aee28",
            "value": "Map (num_proc=8): 100%"
          }
        },
        "3a215f9d30394c8589bfc94f8d8c0939": {
          "model_module": "@jupyter-widgets/controls",
          "model_module_version": "1.5.0",
          "model_name": "HTMLModel",
          "state": {
            "_dom_classes": [],
            "_model_module": "@jupyter-widgets/controls",
            "_model_module_version": "1.5.0",
            "_model_name": "HTMLModel",
            "_view_count": null,
            "_view_module": "@jupyter-widgets/controls",
            "_view_module_version": "1.5.0",
            "_view_name": "HTMLView",
            "description": "",
            "description_tooltip": null,
            "layout": "IPY_MODEL_ec87337287b64bc29494ac034b758cf9",
            "placeholder": "​",
            "style": "IPY_MODEL_99f8d0dff0374ac59fe43c0c19fc2cdf",
            "value": "Map: 100%"
          }
        },
        "4cde2a3ba22a4486833611d13dc2ff4f": {
          "model_module": "@jupyter-widgets/base",
          "model_module_version": "1.2.0",
          "model_name": "LayoutModel",
          "state": {
            "_model_module": "@jupyter-widgets/base",
            "_model_module_version": "1.2.0",
            "_model_name": "LayoutModel",
            "_view_count": null,
            "_view_module": "@jupyter-widgets/base",
            "_view_module_version": "1.2.0",
            "_view_name": "LayoutView",
            "align_content": null,
            "align_items": null,
            "align_self": null,
            "border": null,
            "bottom": null,
            "display": null,
            "flex": null,
            "flex_flow": null,
            "grid_area": null,
            "grid_auto_columns": null,
            "grid_auto_flow": null,
            "grid_auto_rows": null,
            "grid_column": null,
            "grid_gap": null,
            "grid_row": null,
            "grid_template_areas": null,
            "grid_template_columns": null,
            "grid_template_rows": null,
            "height": null,
            "justify_content": null,
            "justify_items": null,
            "left": null,
            "margin": null,
            "max_height": null,
            "max_width": null,
            "min_height": null,
            "min_width": null,
            "object_fit": null,
            "object_position": null,
            "order": null,
            "overflow": null,
            "overflow_x": null,
            "overflow_y": null,
            "padding": null,
            "right": null,
            "top": null,
            "visibility": null,
            "width": null
          }
        },
        "4e83722afb6f422fb1be622f12730849": {
          "model_module": "@jupyter-widgets/controls",
          "model_module_version": "1.5.0",
          "model_name": "HTMLModel",
          "state": {
            "_dom_classes": [],
            "_model_module": "@jupyter-widgets/controls",
            "_model_module_version": "1.5.0",
            "_model_name": "HTMLModel",
            "_view_count": null,
            "_view_module": "@jupyter-widgets/controls",
            "_view_module_version": "1.5.0",
            "_view_name": "HTMLView",
            "description": "",
            "description_tooltip": null,
            "layout": "IPY_MODEL_6916f6c46fe04c96902a3bd15d10661c",
            "placeholder": "​",
            "style": "IPY_MODEL_2b68d62e43474996ba18701582aae3f9",
            "value": " 334/334 [00:05&lt;00:00, 63.06 examples/s]"
          }
        },
        "502594037dc444bb8885175cea15a711": {
          "model_module": "@jupyter-widgets/base",
          "model_module_version": "1.2.0",
          "model_name": "LayoutModel",
          "state": {
            "_model_module": "@jupyter-widgets/base",
            "_model_module_version": "1.2.0",
            "_model_name": "LayoutModel",
            "_view_count": null,
            "_view_module": "@jupyter-widgets/base",
            "_view_module_version": "1.2.0",
            "_view_name": "LayoutView",
            "align_content": null,
            "align_items": null,
            "align_self": null,
            "border": null,
            "bottom": null,
            "display": null,
            "flex": null,
            "flex_flow": null,
            "grid_area": null,
            "grid_auto_columns": null,
            "grid_auto_flow": null,
            "grid_auto_rows": null,
            "grid_column": null,
            "grid_gap": null,
            "grid_row": null,
            "grid_template_areas": null,
            "grid_template_columns": null,
            "grid_template_rows": null,
            "height": null,
            "justify_content": null,
            "justify_items": null,
            "left": null,
            "margin": null,
            "max_height": null,
            "max_width": null,
            "min_height": null,
            "min_width": null,
            "object_fit": null,
            "object_position": null,
            "order": null,
            "overflow": null,
            "overflow_x": null,
            "overflow_y": null,
            "padding": null,
            "right": null,
            "top": null,
            "visibility": null,
            "width": null
          }
        },
        "526ed365e70c41eda19159b0d5cd6983": {
          "model_module": "@jupyter-widgets/controls",
          "model_module_version": "1.5.0",
          "model_name": "HBoxModel",
          "state": {
            "_dom_classes": [],
            "_model_module": "@jupyter-widgets/controls",
            "_model_module_version": "1.5.0",
            "_model_name": "HBoxModel",
            "_view_count": null,
            "_view_module": "@jupyter-widgets/controls",
            "_view_module_version": "1.5.0",
            "_view_name": "HBoxView",
            "box_style": "",
            "children": [
              "IPY_MODEL_dc9a90d888984558b932c58f3fbc4d19",
              "IPY_MODEL_986021559b724222bcac47e53de923b5",
              "IPY_MODEL_92a009416088461aadc865534a9074f6"
            ],
            "layout": "IPY_MODEL_3244ae1a743c4cbba271b3e8a74b9295"
          }
        },
        "583946f11fe74493afbb7e34875f9ddc": {
          "model_module": "@jupyter-widgets/base",
          "model_module_version": "1.2.0",
          "model_name": "LayoutModel",
          "state": {
            "_model_module": "@jupyter-widgets/base",
            "_model_module_version": "1.2.0",
            "_model_name": "LayoutModel",
            "_view_count": null,
            "_view_module": "@jupyter-widgets/base",
            "_view_module_version": "1.2.0",
            "_view_name": "LayoutView",
            "align_content": null,
            "align_items": null,
            "align_self": null,
            "border": null,
            "bottom": null,
            "display": null,
            "flex": null,
            "flex_flow": null,
            "grid_area": null,
            "grid_auto_columns": null,
            "grid_auto_flow": null,
            "grid_auto_rows": null,
            "grid_column": null,
            "grid_gap": null,
            "grid_row": null,
            "grid_template_areas": null,
            "grid_template_columns": null,
            "grid_template_rows": null,
            "height": null,
            "justify_content": null,
            "justify_items": null,
            "left": null,
            "margin": null,
            "max_height": null,
            "max_width": null,
            "min_height": null,
            "min_width": null,
            "object_fit": null,
            "object_position": null,
            "order": null,
            "overflow": null,
            "overflow_x": null,
            "overflow_y": null,
            "padding": null,
            "right": null,
            "top": null,
            "visibility": null,
            "width": null
          }
        },
        "5b73a43ecf00469c912584dacf62c4a1": {
          "model_module": "@jupyter-widgets/controls",
          "model_module_version": "1.5.0",
          "model_name": "DescriptionStyleModel",
          "state": {
            "_model_module": "@jupyter-widgets/controls",
            "_model_module_version": "1.5.0",
            "_model_name": "DescriptionStyleModel",
            "_view_count": null,
            "_view_module": "@jupyter-widgets/base",
            "_view_module_version": "1.2.0",
            "_view_name": "StyleView",
            "description_width": ""
          }
        },
        "5c8bfbd135234ebcb082fc20ed12a50c": {
          "model_module": "@jupyter-widgets/controls",
          "model_module_version": "1.5.0",
          "model_name": "FloatProgressModel",
          "state": {
            "_dom_classes": [],
            "_model_module": "@jupyter-widgets/controls",
            "_model_module_version": "1.5.0",
            "_model_name": "FloatProgressModel",
            "_view_count": null,
            "_view_module": "@jupyter-widgets/controls",
            "_view_module_version": "1.5.0",
            "_view_name": "ProgressView",
            "bar_style": "success",
            "description": "",
            "description_tooltip": null,
            "layout": "IPY_MODEL_95979203fd074107a68bff51b758bdeb",
            "max": 334,
            "min": 0,
            "orientation": "horizontal",
            "style": "IPY_MODEL_2b72b23be9ab48eb9c6f872b8a037604",
            "value": 334
          }
        },
        "60231b0358804005b5e51c84438853f5": {
          "model_module": "@jupyter-widgets/base",
          "model_module_version": "1.2.0",
          "model_name": "LayoutModel",
          "state": {
            "_model_module": "@jupyter-widgets/base",
            "_model_module_version": "1.2.0",
            "_model_name": "LayoutModel",
            "_view_count": null,
            "_view_module": "@jupyter-widgets/base",
            "_view_module_version": "1.2.0",
            "_view_name": "LayoutView",
            "align_content": null,
            "align_items": null,
            "align_self": null,
            "border": null,
            "bottom": null,
            "display": null,
            "flex": null,
            "flex_flow": null,
            "grid_area": null,
            "grid_auto_columns": null,
            "grid_auto_flow": null,
            "grid_auto_rows": null,
            "grid_column": null,
            "grid_gap": null,
            "grid_row": null,
            "grid_template_areas": null,
            "grid_template_columns": null,
            "grid_template_rows": null,
            "height": null,
            "justify_content": null,
            "justify_items": null,
            "left": null,
            "margin": null,
            "max_height": null,
            "max_width": null,
            "min_height": null,
            "min_width": null,
            "object_fit": null,
            "object_position": null,
            "order": null,
            "overflow": null,
            "overflow_x": null,
            "overflow_y": null,
            "padding": null,
            "right": null,
            "top": null,
            "visibility": null,
            "width": null
          }
        },
        "6916f6c46fe04c96902a3bd15d10661c": {
          "model_module": "@jupyter-widgets/base",
          "model_module_version": "1.2.0",
          "model_name": "LayoutModel",
          "state": {
            "_model_module": "@jupyter-widgets/base",
            "_model_module_version": "1.2.0",
            "_model_name": "LayoutModel",
            "_view_count": null,
            "_view_module": "@jupyter-widgets/base",
            "_view_module_version": "1.2.0",
            "_view_name": "LayoutView",
            "align_content": null,
            "align_items": null,
            "align_self": null,
            "border": null,
            "bottom": null,
            "display": null,
            "flex": null,
            "flex_flow": null,
            "grid_area": null,
            "grid_auto_columns": null,
            "grid_auto_flow": null,
            "grid_auto_rows": null,
            "grid_column": null,
            "grid_gap": null,
            "grid_row": null,
            "grid_template_areas": null,
            "grid_template_columns": null,
            "grid_template_rows": null,
            "height": null,
            "justify_content": null,
            "justify_items": null,
            "left": null,
            "margin": null,
            "max_height": null,
            "max_width": null,
            "min_height": null,
            "min_width": null,
            "object_fit": null,
            "object_position": null,
            "order": null,
            "overflow": null,
            "overflow_x": null,
            "overflow_y": null,
            "padding": null,
            "right": null,
            "top": null,
            "visibility": null,
            "width": null
          }
        },
        "72bb0ee8b5cc4c8fb49200ca48874d85": {
          "model_module": "@jupyter-widgets/controls",
          "model_module_version": "1.5.0",
          "model_name": "DescriptionStyleModel",
          "state": {
            "_model_module": "@jupyter-widgets/controls",
            "_model_module_version": "1.5.0",
            "_model_name": "DescriptionStyleModel",
            "_view_count": null,
            "_view_module": "@jupyter-widgets/base",
            "_view_module_version": "1.2.0",
            "_view_name": "StyleView",
            "description_width": ""
          }
        },
        "77efc90563484498860aa8220e4b9646": {
          "model_module": "@jupyter-widgets/controls",
          "model_module_version": "1.5.0",
          "model_name": "DescriptionStyleModel",
          "state": {
            "_model_module": "@jupyter-widgets/controls",
            "_model_module_version": "1.5.0",
            "_model_name": "DescriptionStyleModel",
            "_view_count": null,
            "_view_module": "@jupyter-widgets/base",
            "_view_module_version": "1.2.0",
            "_view_name": "StyleView",
            "description_width": ""
          }
        },
        "7ffa817fd78246338052a4ae480f33c9": {
          "model_module": "@jupyter-widgets/base",
          "model_module_version": "1.2.0",
          "model_name": "LayoutModel",
          "state": {
            "_model_module": "@jupyter-widgets/base",
            "_model_module_version": "1.2.0",
            "_model_name": "LayoutModel",
            "_view_count": null,
            "_view_module": "@jupyter-widgets/base",
            "_view_module_version": "1.2.0",
            "_view_name": "LayoutView",
            "align_content": null,
            "align_items": null,
            "align_self": null,
            "border": null,
            "bottom": null,
            "display": null,
            "flex": null,
            "flex_flow": null,
            "grid_area": null,
            "grid_auto_columns": null,
            "grid_auto_flow": null,
            "grid_auto_rows": null,
            "grid_column": null,
            "grid_gap": null,
            "grid_row": null,
            "grid_template_areas": null,
            "grid_template_columns": null,
            "grid_template_rows": null,
            "height": null,
            "justify_content": null,
            "justify_items": null,
            "left": null,
            "margin": null,
            "max_height": null,
            "max_width": null,
            "min_height": null,
            "min_width": null,
            "object_fit": null,
            "object_position": null,
            "order": null,
            "overflow": null,
            "overflow_x": null,
            "overflow_y": null,
            "padding": null,
            "right": null,
            "top": null,
            "visibility": null,
            "width": null
          }
        },
        "837a33d1a2e04daf8a30ffa7d12aee28": {
          "model_module": "@jupyter-widgets/controls",
          "model_module_version": "1.5.0",
          "model_name": "DescriptionStyleModel",
          "state": {
            "_model_module": "@jupyter-widgets/controls",
            "_model_module_version": "1.5.0",
            "_model_name": "DescriptionStyleModel",
            "_view_count": null,
            "_view_module": "@jupyter-widgets/base",
            "_view_module_version": "1.2.0",
            "_view_name": "StyleView",
            "description_width": ""
          }
        },
        "86e6ee9c6aad4cc1b682c918f180823f": {
          "model_module": "@jupyter-widgets/base",
          "model_module_version": "1.2.0",
          "model_name": "LayoutModel",
          "state": {
            "_model_module": "@jupyter-widgets/base",
            "_model_module_version": "1.2.0",
            "_model_name": "LayoutModel",
            "_view_count": null,
            "_view_module": "@jupyter-widgets/base",
            "_view_module_version": "1.2.0",
            "_view_name": "LayoutView",
            "align_content": null,
            "align_items": null,
            "align_self": null,
            "border": null,
            "bottom": null,
            "display": null,
            "flex": null,
            "flex_flow": null,
            "grid_area": null,
            "grid_auto_columns": null,
            "grid_auto_flow": null,
            "grid_auto_rows": null,
            "grid_column": null,
            "grid_gap": null,
            "grid_row": null,
            "grid_template_areas": null,
            "grid_template_columns": null,
            "grid_template_rows": null,
            "height": null,
            "justify_content": null,
            "justify_items": null,
            "left": null,
            "margin": null,
            "max_height": null,
            "max_width": null,
            "min_height": null,
            "min_width": null,
            "object_fit": null,
            "object_position": null,
            "order": null,
            "overflow": null,
            "overflow_x": null,
            "overflow_y": null,
            "padding": null,
            "right": null,
            "top": null,
            "visibility": null,
            "width": null
          }
        },
        "89be8c5d7dbb493ba702c2b317b56492": {
          "model_module": "@jupyter-widgets/controls",
          "model_module_version": "1.5.0",
          "model_name": "FloatProgressModel",
          "state": {
            "_dom_classes": [],
            "_model_module": "@jupyter-widgets/controls",
            "_model_module_version": "1.5.0",
            "_model_name": "FloatProgressModel",
            "_view_count": null,
            "_view_module": "@jupyter-widgets/controls",
            "_view_module_version": "1.5.0",
            "_view_name": "ProgressView",
            "bar_style": "success",
            "description": "",
            "description_tooltip": null,
            "layout": "IPY_MODEL_4cde2a3ba22a4486833611d13dc2ff4f",
            "max": 84,
            "min": 0,
            "orientation": "horizontal",
            "style": "IPY_MODEL_361f3a0541b0493688cc3125b6302ecc",
            "value": 84
          }
        },
        "8b8e4a63064e4d6ba2b688179667100f": {
          "model_module": "@jupyter-widgets/base",
          "model_module_version": "1.2.0",
          "model_name": "LayoutModel",
          "state": {
            "_model_module": "@jupyter-widgets/base",
            "_model_module_version": "1.2.0",
            "_model_name": "LayoutModel",
            "_view_count": null,
            "_view_module": "@jupyter-widgets/base",
            "_view_module_version": "1.2.0",
            "_view_name": "LayoutView",
            "align_content": null,
            "align_items": null,
            "align_self": null,
            "border": null,
            "bottom": null,
            "display": null,
            "flex": null,
            "flex_flow": null,
            "grid_area": null,
            "grid_auto_columns": null,
            "grid_auto_flow": null,
            "grid_auto_rows": null,
            "grid_column": null,
            "grid_gap": null,
            "grid_row": null,
            "grid_template_areas": null,
            "grid_template_columns": null,
            "grid_template_rows": null,
            "height": null,
            "justify_content": null,
            "justify_items": null,
            "left": null,
            "margin": null,
            "max_height": null,
            "max_width": null,
            "min_height": null,
            "min_width": null,
            "object_fit": null,
            "object_position": null,
            "order": null,
            "overflow": null,
            "overflow_x": null,
            "overflow_y": null,
            "padding": null,
            "right": null,
            "top": null,
            "visibility": null,
            "width": null
          }
        },
        "8eacde8d90664003b9340bbf5cb1cd7f": {
          "model_module": "@jupyter-widgets/controls",
          "model_module_version": "1.5.0",
          "model_name": "FloatProgressModel",
          "state": {
            "_dom_classes": [],
            "_model_module": "@jupyter-widgets/controls",
            "_model_module_version": "1.5.0",
            "_model_name": "FloatProgressModel",
            "_view_count": null,
            "_view_module": "@jupyter-widgets/controls",
            "_view_module_version": "1.5.0",
            "_view_name": "ProgressView",
            "bar_style": "success",
            "description": "",
            "description_tooltip": null,
            "layout": "IPY_MODEL_e7cf10fcd12544d591b207161f612014",
            "max": 334,
            "min": 0,
            "orientation": "horizontal",
            "style": "IPY_MODEL_f8db4aee050f4e5b862131f6fc13eb9f",
            "value": 334
          }
        },
        "92a009416088461aadc865534a9074f6": {
          "model_module": "@jupyter-widgets/controls",
          "model_module_version": "1.5.0",
          "model_name": "HTMLModel",
          "state": {
            "_dom_classes": [],
            "_model_module": "@jupyter-widgets/controls",
            "_model_module_version": "1.5.0",
            "_model_name": "HTMLModel",
            "_view_count": null,
            "_view_module": "@jupyter-widgets/controls",
            "_view_module_version": "1.5.0",
            "_view_name": "HTMLView",
            "description": "",
            "description_tooltip": null,
            "layout": "IPY_MODEL_7ffa817fd78246338052a4ae480f33c9",
            "placeholder": "​",
            "style": "IPY_MODEL_b4c10fb98f8a409e9827ea27d8bb6d11",
            "value": " 4.47k/? [00:00&lt;00:00, 358kB/s]"
          }
        },
        "92b46b6c5f944d0b8f3866cec25b0c01": {
          "model_module": "@jupyter-widgets/base",
          "model_module_version": "1.2.0",
          "model_name": "LayoutModel",
          "state": {
            "_model_module": "@jupyter-widgets/base",
            "_model_module_version": "1.2.0",
            "_model_name": "LayoutModel",
            "_view_count": null,
            "_view_module": "@jupyter-widgets/base",
            "_view_module_version": "1.2.0",
            "_view_name": "LayoutView",
            "align_content": null,
            "align_items": null,
            "align_self": null,
            "border": null,
            "bottom": null,
            "display": null,
            "flex": null,
            "flex_flow": null,
            "grid_area": null,
            "grid_auto_columns": null,
            "grid_auto_flow": null,
            "grid_auto_rows": null,
            "grid_column": null,
            "grid_gap": null,
            "grid_row": null,
            "grid_template_areas": null,
            "grid_template_columns": null,
            "grid_template_rows": null,
            "height": null,
            "justify_content": null,
            "justify_items": null,
            "left": null,
            "margin": null,
            "max_height": null,
            "max_width": null,
            "min_height": null,
            "min_width": null,
            "object_fit": null,
            "object_position": null,
            "order": null,
            "overflow": null,
            "overflow_x": null,
            "overflow_y": null,
            "padding": null,
            "right": null,
            "top": null,
            "visibility": null,
            "width": null
          }
        },
        "95979203fd074107a68bff51b758bdeb": {
          "model_module": "@jupyter-widgets/base",
          "model_module_version": "1.2.0",
          "model_name": "LayoutModel",
          "state": {
            "_model_module": "@jupyter-widgets/base",
            "_model_module_version": "1.2.0",
            "_model_name": "LayoutModel",
            "_view_count": null,
            "_view_module": "@jupyter-widgets/base",
            "_view_module_version": "1.2.0",
            "_view_name": "LayoutView",
            "align_content": null,
            "align_items": null,
            "align_self": null,
            "border": null,
            "bottom": null,
            "display": null,
            "flex": null,
            "flex_flow": null,
            "grid_area": null,
            "grid_auto_columns": null,
            "grid_auto_flow": null,
            "grid_auto_rows": null,
            "grid_column": null,
            "grid_gap": null,
            "grid_row": null,
            "grid_template_areas": null,
            "grid_template_columns": null,
            "grid_template_rows": null,
            "height": null,
            "justify_content": null,
            "justify_items": null,
            "left": null,
            "margin": null,
            "max_height": null,
            "max_width": null,
            "min_height": null,
            "min_width": null,
            "object_fit": null,
            "object_position": null,
            "order": null,
            "overflow": null,
            "overflow_x": null,
            "overflow_y": null,
            "padding": null,
            "right": null,
            "top": null,
            "visibility": null,
            "width": null
          }
        },
        "9788f9d2f80246a5ae9d3ef0c1e37fef": {
          "model_module": "@jupyter-widgets/controls",
          "model_module_version": "1.5.0",
          "model_name": "HBoxModel",
          "state": {
            "_dom_classes": [],
            "_model_module": "@jupyter-widgets/controls",
            "_model_module_version": "1.5.0",
            "_model_name": "HBoxModel",
            "_view_count": null,
            "_view_module": "@jupyter-widgets/controls",
            "_view_module_version": "1.5.0",
            "_view_name": "HBoxView",
            "box_style": "",
            "children": [
              "IPY_MODEL_cdbd0782c56a45d690be5c06e1569498",
              "IPY_MODEL_9fb006572a0a43c6996b403664db0601",
              "IPY_MODEL_4e83722afb6f422fb1be622f12730849"
            ],
            "layout": "IPY_MODEL_583946f11fe74493afbb7e34875f9ddc"
          }
        },
        "986021559b724222bcac47e53de923b5": {
          "model_module": "@jupyter-widgets/controls",
          "model_module_version": "1.5.0",
          "model_name": "FloatProgressModel",
          "state": {
            "_dom_classes": [],
            "_model_module": "@jupyter-widgets/controls",
            "_model_module_version": "1.5.0",
            "_model_name": "FloatProgressModel",
            "_view_count": null,
            "_view_module": "@jupyter-widgets/controls",
            "_view_module_version": "1.5.0",
            "_view_name": "ProgressView",
            "bar_style": "success",
            "description": "",
            "description_tooltip": null,
            "layout": "IPY_MODEL_a1eac96045394315afc445ae9e43c09a",
            "max": 1900,
            "min": 0,
            "orientation": "horizontal",
            "style": "IPY_MODEL_fc864baddb8f4f3e9ff982bfb0c7364a",
            "value": 1900
          }
        },
        "99f8d0dff0374ac59fe43c0c19fc2cdf": {
          "model_module": "@jupyter-widgets/controls",
          "model_module_version": "1.5.0",
          "model_name": "DescriptionStyleModel",
          "state": {
            "_model_module": "@jupyter-widgets/controls",
            "_model_module_version": "1.5.0",
            "_model_name": "DescriptionStyleModel",
            "_view_count": null,
            "_view_module": "@jupyter-widgets/base",
            "_view_module_version": "1.2.0",
            "_view_name": "StyleView",
            "description_width": ""
          }
        },
        "9fb006572a0a43c6996b403664db0601": {
          "model_module": "@jupyter-widgets/controls",
          "model_module_version": "1.5.0",
          "model_name": "FloatProgressModel",
          "state": {
            "_dom_classes": [],
            "_model_module": "@jupyter-widgets/controls",
            "_model_module_version": "1.5.0",
            "_model_name": "FloatProgressModel",
            "_view_count": null,
            "_view_module": "@jupyter-widgets/controls",
            "_view_module_version": "1.5.0",
            "_view_name": "ProgressView",
            "bar_style": "success",
            "description": "",
            "description_tooltip": null,
            "layout": "IPY_MODEL_502594037dc444bb8885175cea15a711",
            "max": 334,
            "min": 0,
            "orientation": "horizontal",
            "style": "IPY_MODEL_c3b61b76f7544185acfc3b7fc1b8c75f",
            "value": 334
          }
        },
        "a1eac96045394315afc445ae9e43c09a": {
          "model_module": "@jupyter-widgets/base",
          "model_module_version": "1.2.0",
          "model_name": "LayoutModel",
          "state": {
            "_model_module": "@jupyter-widgets/base",
            "_model_module_version": "1.2.0",
            "_model_name": "LayoutModel",
            "_view_count": null,
            "_view_module": "@jupyter-widgets/base",
            "_view_module_version": "1.2.0",
            "_view_name": "LayoutView",
            "align_content": null,
            "align_items": null,
            "align_self": null,
            "border": null,
            "bottom": null,
            "display": null,
            "flex": null,
            "flex_flow": null,
            "grid_area": null,
            "grid_auto_columns": null,
            "grid_auto_flow": null,
            "grid_auto_rows": null,
            "grid_column": null,
            "grid_gap": null,
            "grid_row": null,
            "grid_template_areas": null,
            "grid_template_columns": null,
            "grid_template_rows": null,
            "height": null,
            "justify_content": null,
            "justify_items": null,
            "left": null,
            "margin": null,
            "max_height": null,
            "max_width": null,
            "min_height": null,
            "min_width": null,
            "object_fit": null,
            "object_position": null,
            "order": null,
            "overflow": null,
            "overflow_x": null,
            "overflow_y": null,
            "padding": null,
            "right": null,
            "top": null,
            "visibility": null,
            "width": null
          }
        },
        "a70f15de890b4e75aa622af5d95eda93": {
          "model_module": "@jupyter-widgets/controls",
          "model_module_version": "1.5.0",
          "model_name": "HBoxModel",
          "state": {
            "_dom_classes": [],
            "_model_module": "@jupyter-widgets/controls",
            "_model_module_version": "1.5.0",
            "_model_name": "HBoxModel",
            "_view_count": null,
            "_view_module": "@jupyter-widgets/controls",
            "_view_module_version": "1.5.0",
            "_view_name": "HBoxView",
            "box_style": "",
            "children": [
              "IPY_MODEL_1462646e97094a2ba0f1a921c00ca878",
              "IPY_MODEL_8eacde8d90664003b9340bbf5cb1cd7f",
              "IPY_MODEL_d5b80cb4f47c4c178ac6a4bb6817234d"
            ],
            "layout": "IPY_MODEL_86e6ee9c6aad4cc1b682c918f180823f"
          }
        },
        "af539311900d47c28bf5fad1f0eb9c4e": {
          "model_module": "@jupyter-widgets/controls",
          "model_module_version": "1.5.0",
          "model_name": "DescriptionStyleModel",
          "state": {
            "_model_module": "@jupyter-widgets/controls",
            "_model_module_version": "1.5.0",
            "_model_name": "DescriptionStyleModel",
            "_view_count": null,
            "_view_module": "@jupyter-widgets/base",
            "_view_module_version": "1.2.0",
            "_view_name": "StyleView",
            "description_width": ""
          }
        },
        "b1d34dd187764ea188da8215b76ddef4": {
          "model_module": "@jupyter-widgets/controls",
          "model_module_version": "1.5.0",
          "model_name": "DescriptionStyleModel",
          "state": {
            "_model_module": "@jupyter-widgets/controls",
            "_model_module_version": "1.5.0",
            "_model_name": "DescriptionStyleModel",
            "_view_count": null,
            "_view_module": "@jupyter-widgets/base",
            "_view_module_version": "1.2.0",
            "_view_name": "StyleView",
            "description_width": ""
          }
        },
        "b4c10fb98f8a409e9827ea27d8bb6d11": {
          "model_module": "@jupyter-widgets/controls",
          "model_module_version": "1.5.0",
          "model_name": "DescriptionStyleModel",
          "state": {
            "_model_module": "@jupyter-widgets/controls",
            "_model_module_version": "1.5.0",
            "_model_name": "DescriptionStyleModel",
            "_view_count": null,
            "_view_module": "@jupyter-widgets/base",
            "_view_module_version": "1.2.0",
            "_view_name": "StyleView",
            "description_width": ""
          }
        },
        "b976848e7d03453e8550e9e6c499c29d": {
          "model_module": "@jupyter-widgets/base",
          "model_module_version": "1.2.0",
          "model_name": "LayoutModel",
          "state": {
            "_model_module": "@jupyter-widgets/base",
            "_model_module_version": "1.2.0",
            "_model_name": "LayoutModel",
            "_view_count": null,
            "_view_module": "@jupyter-widgets/base",
            "_view_module_version": "1.2.0",
            "_view_name": "LayoutView",
            "align_content": null,
            "align_items": null,
            "align_self": null,
            "border": null,
            "bottom": null,
            "display": null,
            "flex": null,
            "flex_flow": null,
            "grid_area": null,
            "grid_auto_columns": null,
            "grid_auto_flow": null,
            "grid_auto_rows": null,
            "grid_column": null,
            "grid_gap": null,
            "grid_row": null,
            "grid_template_areas": null,
            "grid_template_columns": null,
            "grid_template_rows": null,
            "height": null,
            "justify_content": null,
            "justify_items": null,
            "left": null,
            "margin": null,
            "max_height": null,
            "max_width": null,
            "min_height": null,
            "min_width": null,
            "object_fit": null,
            "object_position": null,
            "order": null,
            "overflow": null,
            "overflow_x": null,
            "overflow_y": null,
            "padding": null,
            "right": null,
            "top": null,
            "visibility": null,
            "width": null
          }
        },
        "b9da31c60a3b4d40a50a95b090942b94": {
          "model_module": "@jupyter-widgets/controls",
          "model_module_version": "1.5.0",
          "model_name": "HBoxModel",
          "state": {
            "_dom_classes": [],
            "_model_module": "@jupyter-widgets/controls",
            "_model_module_version": "1.5.0",
            "_model_name": "HBoxModel",
            "_view_count": null,
            "_view_module": "@jupyter-widgets/controls",
            "_view_module_version": "1.5.0",
            "_view_name": "HBoxView",
            "box_style": "",
            "children": [
              "IPY_MODEL_38d70c603c6345caa948a2fcc57543e9",
              "IPY_MODEL_89be8c5d7dbb493ba702c2b317b56492",
              "IPY_MODEL_05a4305ff984493e984a698b125a1177"
            ],
            "layout": "IPY_MODEL_b976848e7d03453e8550e9e6c499c29d"
          }
        },
        "c3b61b76f7544185acfc3b7fc1b8c75f": {
          "model_module": "@jupyter-widgets/controls",
          "model_module_version": "1.5.0",
          "model_name": "ProgressStyleModel",
          "state": {
            "_model_module": "@jupyter-widgets/controls",
            "_model_module_version": "1.5.0",
            "_model_name": "ProgressStyleModel",
            "_view_count": null,
            "_view_module": "@jupyter-widgets/base",
            "_view_module_version": "1.2.0",
            "_view_name": "StyleView",
            "bar_color": null,
            "description_width": ""
          }
        },
        "c9f5324cb00048efbd8fbfc5cf31edc2": {
          "model_module": "@jupyter-widgets/base",
          "model_module_version": "1.2.0",
          "model_name": "LayoutModel",
          "state": {
            "_model_module": "@jupyter-widgets/base",
            "_model_module_version": "1.2.0",
            "_model_name": "LayoutModel",
            "_view_count": null,
            "_view_module": "@jupyter-widgets/base",
            "_view_module_version": "1.2.0",
            "_view_name": "LayoutView",
            "align_content": null,
            "align_items": null,
            "align_self": null,
            "border": null,
            "bottom": null,
            "display": null,
            "flex": null,
            "flex_flow": null,
            "grid_area": null,
            "grid_auto_columns": null,
            "grid_auto_flow": null,
            "grid_auto_rows": null,
            "grid_column": null,
            "grid_gap": null,
            "grid_row": null,
            "grid_template_areas": null,
            "grid_template_columns": null,
            "grid_template_rows": null,
            "height": null,
            "justify_content": null,
            "justify_items": null,
            "left": null,
            "margin": null,
            "max_height": null,
            "max_width": null,
            "min_height": null,
            "min_width": null,
            "object_fit": null,
            "object_position": null,
            "order": null,
            "overflow": null,
            "overflow_x": null,
            "overflow_y": null,
            "padding": null,
            "right": null,
            "top": null,
            "visibility": null,
            "width": null
          }
        },
        "cdbd0782c56a45d690be5c06e1569498": {
          "model_module": "@jupyter-widgets/controls",
          "model_module_version": "1.5.0",
          "model_name": "HTMLModel",
          "state": {
            "_dom_classes": [],
            "_model_module": "@jupyter-widgets/controls",
            "_model_module_version": "1.5.0",
            "_model_name": "HTMLModel",
            "_view_count": null,
            "_view_module": "@jupyter-widgets/controls",
            "_view_module_version": "1.5.0",
            "_view_name": "HTMLView",
            "description": "",
            "description_tooltip": null,
            "layout": "IPY_MODEL_92b46b6c5f944d0b8f3866cec25b0c01",
            "placeholder": "​",
            "style": "IPY_MODEL_360d6708d85840c8a31296e2dcaf248a",
            "value": "Map (num_proc=8): 100%"
          }
        },
        "d04b7a037d314c5cb56407e577464c20": {
          "model_module": "@jupyter-widgets/controls",
          "model_module_version": "1.5.0",
          "model_name": "HTMLModel",
          "state": {
            "_dom_classes": [],
            "_model_module": "@jupyter-widgets/controls",
            "_model_module_version": "1.5.0",
            "_model_name": "HTMLModel",
            "_view_count": null,
            "_view_module": "@jupyter-widgets/controls",
            "_view_module_version": "1.5.0",
            "_view_name": "HTMLView",
            "description": "",
            "description_tooltip": null,
            "layout": "IPY_MODEL_05b31f3fd3414c7c9658e1290792a767",
            "placeholder": "​",
            "style": "IPY_MODEL_77efc90563484498860aa8220e4b9646",
            "value": " 84/84 [00:16&lt;00:00,  6.18 examples/s]"
          }
        },
        "d5b80cb4f47c4c178ac6a4bb6817234d": {
          "model_module": "@jupyter-widgets/controls",
          "model_module_version": "1.5.0",
          "model_name": "HTMLModel",
          "state": {
            "_dom_classes": [],
            "_model_module": "@jupyter-widgets/controls",
            "_model_module_version": "1.5.0",
            "_model_name": "HTMLModel",
            "_view_count": null,
            "_view_module": "@jupyter-widgets/controls",
            "_view_module_version": "1.5.0",
            "_view_name": "HTMLView",
            "description": "",
            "description_tooltip": null,
            "layout": "IPY_MODEL_e01cdff43feb40f5963e3c510bdba0c1",
            "placeholder": "​",
            "style": "IPY_MODEL_5b73a43ecf00469c912584dacf62c4a1",
            "value": " 334/334 [01:08&lt;00:00,  3.93 examples/s]"
          }
        },
        "d70dfd15ca284654ac1ec29742bfcbe8": {
          "model_module": "@jupyter-widgets/controls",
          "model_module_version": "1.5.0",
          "model_name": "HTMLModel",
          "state": {
            "_dom_classes": [],
            "_model_module": "@jupyter-widgets/controls",
            "_model_module_version": "1.5.0",
            "_model_name": "HTMLModel",
            "_view_count": null,
            "_view_module": "@jupyter-widgets/controls",
            "_view_module_version": "1.5.0",
            "_view_name": "HTMLView",
            "description": "",
            "description_tooltip": null,
            "layout": "IPY_MODEL_2d6b3ef74f294ce4a1bdfddf8a76bb66",
            "placeholder": "​",
            "style": "IPY_MODEL_72bb0ee8b5cc4c8fb49200ca48874d85",
            "value": "Map (num_proc=4): 100%"
          }
        },
        "d7d4ae57b08d45f8abef99ab39edbd89": {
          "model_module": "@jupyter-widgets/base",
          "model_module_version": "1.2.0",
          "model_name": "LayoutModel",
          "state": {
            "_model_module": "@jupyter-widgets/base",
            "_model_module_version": "1.2.0",
            "_model_name": "LayoutModel",
            "_view_count": null,
            "_view_module": "@jupyter-widgets/base",
            "_view_module_version": "1.2.0",
            "_view_name": "LayoutView",
            "align_content": null,
            "align_items": null,
            "align_self": null,
            "border": null,
            "bottom": null,
            "display": null,
            "flex": null,
            "flex_flow": null,
            "grid_area": null,
            "grid_auto_columns": null,
            "grid_auto_flow": null,
            "grid_auto_rows": null,
            "grid_column": null,
            "grid_gap": null,
            "grid_row": null,
            "grid_template_areas": null,
            "grid_template_columns": null,
            "grid_template_rows": null,
            "height": null,
            "justify_content": null,
            "justify_items": null,
            "left": null,
            "margin": null,
            "max_height": null,
            "max_width": null,
            "min_height": null,
            "min_width": null,
            "object_fit": null,
            "object_position": null,
            "order": null,
            "overflow": null,
            "overflow_x": null,
            "overflow_y": null,
            "padding": null,
            "right": null,
            "top": null,
            "visibility": null,
            "width": null
          }
        },
        "d8f82b9b13fe4bab9d0142b5a6371921": {
          "model_module": "@jupyter-widgets/controls",
          "model_module_version": "1.5.0",
          "model_name": "HBoxModel",
          "state": {
            "_dom_classes": [],
            "_model_module": "@jupyter-widgets/controls",
            "_model_module_version": "1.5.0",
            "_model_name": "HBoxModel",
            "_view_count": null,
            "_view_module": "@jupyter-widgets/controls",
            "_view_module_version": "1.5.0",
            "_view_name": "HBoxView",
            "box_style": "",
            "children": [
              "IPY_MODEL_3a215f9d30394c8589bfc94f8d8c0939",
              "IPY_MODEL_5c8bfbd135234ebcb082fc20ed12a50c",
              "IPY_MODEL_efd46aeb339b4523966905753a13da61"
            ],
            "layout": "IPY_MODEL_d7d4ae57b08d45f8abef99ab39edbd89"
          }
        },
        "dc9a90d888984558b932c58f3fbc4d19": {
          "model_module": "@jupyter-widgets/controls",
          "model_module_version": "1.5.0",
          "model_name": "HTMLModel",
          "state": {
            "_dom_classes": [],
            "_model_module": "@jupyter-widgets/controls",
            "_model_module_version": "1.5.0",
            "_model_name": "HTMLModel",
            "_view_count": null,
            "_view_module": "@jupyter-widgets/controls",
            "_view_module_version": "1.5.0",
            "_view_name": "HTMLView",
            "description": "",
            "description_tooltip": null,
            "layout": "IPY_MODEL_0b2f93824aa548d79cffc3a62c2dc5f9",
            "placeholder": "​",
            "style": "IPY_MODEL_b1d34dd187764ea188da8215b76ddef4",
            "value": "Downloading builder script: "
          }
        },
        "dff660b3cf7e46cc8d86775fa2d7ea35": {
          "model_module": "@jupyter-widgets/base",
          "model_module_version": "1.2.0",
          "model_name": "LayoutModel",
          "state": {
            "_model_module": "@jupyter-widgets/base",
            "_model_module_version": "1.2.0",
            "_model_name": "LayoutModel",
            "_view_count": null,
            "_view_module": "@jupyter-widgets/base",
            "_view_module_version": "1.2.0",
            "_view_name": "LayoutView",
            "align_content": null,
            "align_items": null,
            "align_self": null,
            "border": null,
            "bottom": null,
            "display": null,
            "flex": null,
            "flex_flow": null,
            "grid_area": null,
            "grid_auto_columns": null,
            "grid_auto_flow": null,
            "grid_auto_rows": null,
            "grid_column": null,
            "grid_gap": null,
            "grid_row": null,
            "grid_template_areas": null,
            "grid_template_columns": null,
            "grid_template_rows": null,
            "height": null,
            "justify_content": null,
            "justify_items": null,
            "left": null,
            "margin": null,
            "max_height": null,
            "max_width": null,
            "min_height": null,
            "min_width": null,
            "object_fit": null,
            "object_position": null,
            "order": null,
            "overflow": null,
            "overflow_x": null,
            "overflow_y": null,
            "padding": null,
            "right": null,
            "top": null,
            "visibility": null,
            "width": null
          }
        },
        "e01cdff43feb40f5963e3c510bdba0c1": {
          "model_module": "@jupyter-widgets/base",
          "model_module_version": "1.2.0",
          "model_name": "LayoutModel",
          "state": {
            "_model_module": "@jupyter-widgets/base",
            "_model_module_version": "1.2.0",
            "_model_name": "LayoutModel",
            "_view_count": null,
            "_view_module": "@jupyter-widgets/base",
            "_view_module_version": "1.2.0",
            "_view_name": "LayoutView",
            "align_content": null,
            "align_items": null,
            "align_self": null,
            "border": null,
            "bottom": null,
            "display": null,
            "flex": null,
            "flex_flow": null,
            "grid_area": null,
            "grid_auto_columns": null,
            "grid_auto_flow": null,
            "grid_auto_rows": null,
            "grid_column": null,
            "grid_gap": null,
            "grid_row": null,
            "grid_template_areas": null,
            "grid_template_columns": null,
            "grid_template_rows": null,
            "height": null,
            "justify_content": null,
            "justify_items": null,
            "left": null,
            "margin": null,
            "max_height": null,
            "max_width": null,
            "min_height": null,
            "min_width": null,
            "object_fit": null,
            "object_position": null,
            "order": null,
            "overflow": null,
            "overflow_x": null,
            "overflow_y": null,
            "padding": null,
            "right": null,
            "top": null,
            "visibility": null,
            "width": null
          }
        },
        "e7cf10fcd12544d591b207161f612014": {
          "model_module": "@jupyter-widgets/base",
          "model_module_version": "1.2.0",
          "model_name": "LayoutModel",
          "state": {
            "_model_module": "@jupyter-widgets/base",
            "_model_module_version": "1.2.0",
            "_model_name": "LayoutModel",
            "_view_count": null,
            "_view_module": "@jupyter-widgets/base",
            "_view_module_version": "1.2.0",
            "_view_name": "LayoutView",
            "align_content": null,
            "align_items": null,
            "align_self": null,
            "border": null,
            "bottom": null,
            "display": null,
            "flex": null,
            "flex_flow": null,
            "grid_area": null,
            "grid_auto_columns": null,
            "grid_auto_flow": null,
            "grid_auto_rows": null,
            "grid_column": null,
            "grid_gap": null,
            "grid_row": null,
            "grid_template_areas": null,
            "grid_template_columns": null,
            "grid_template_rows": null,
            "height": null,
            "justify_content": null,
            "justify_items": null,
            "left": null,
            "margin": null,
            "max_height": null,
            "max_width": null,
            "min_height": null,
            "min_width": null,
            "object_fit": null,
            "object_position": null,
            "order": null,
            "overflow": null,
            "overflow_x": null,
            "overflow_y": null,
            "padding": null,
            "right": null,
            "top": null,
            "visibility": null,
            "width": null
          }
        },
        "e92403faf9c34e3cbd45e6c16b63c6c1": {
          "model_module": "@jupyter-widgets/base",
          "model_module_version": "1.2.0",
          "model_name": "LayoutModel",
          "state": {
            "_model_module": "@jupyter-widgets/base",
            "_model_module_version": "1.2.0",
            "_model_name": "LayoutModel",
            "_view_count": null,
            "_view_module": "@jupyter-widgets/base",
            "_view_module_version": "1.2.0",
            "_view_name": "LayoutView",
            "align_content": null,
            "align_items": null,
            "align_self": null,
            "border": null,
            "bottom": null,
            "display": null,
            "flex": null,
            "flex_flow": null,
            "grid_area": null,
            "grid_auto_columns": null,
            "grid_auto_flow": null,
            "grid_auto_rows": null,
            "grid_column": null,
            "grid_gap": null,
            "grid_row": null,
            "grid_template_areas": null,
            "grid_template_columns": null,
            "grid_template_rows": null,
            "height": null,
            "justify_content": null,
            "justify_items": null,
            "left": null,
            "margin": null,
            "max_height": null,
            "max_width": null,
            "min_height": null,
            "min_width": null,
            "object_fit": null,
            "object_position": null,
            "order": null,
            "overflow": null,
            "overflow_x": null,
            "overflow_y": null,
            "padding": null,
            "right": null,
            "top": null,
            "visibility": null,
            "width": null
          }
        },
        "ec87337287b64bc29494ac034b758cf9": {
          "model_module": "@jupyter-widgets/base",
          "model_module_version": "1.2.0",
          "model_name": "LayoutModel",
          "state": {
            "_model_module": "@jupyter-widgets/base",
            "_model_module_version": "1.2.0",
            "_model_name": "LayoutModel",
            "_view_count": null,
            "_view_module": "@jupyter-widgets/base",
            "_view_module_version": "1.2.0",
            "_view_name": "LayoutView",
            "align_content": null,
            "align_items": null,
            "align_self": null,
            "border": null,
            "bottom": null,
            "display": null,
            "flex": null,
            "flex_flow": null,
            "grid_area": null,
            "grid_auto_columns": null,
            "grid_auto_flow": null,
            "grid_auto_rows": null,
            "grid_column": null,
            "grid_gap": null,
            "grid_row": null,
            "grid_template_areas": null,
            "grid_template_columns": null,
            "grid_template_rows": null,
            "height": null,
            "justify_content": null,
            "justify_items": null,
            "left": null,
            "margin": null,
            "max_height": null,
            "max_width": null,
            "min_height": null,
            "min_width": null,
            "object_fit": null,
            "object_position": null,
            "order": null,
            "overflow": null,
            "overflow_x": null,
            "overflow_y": null,
            "padding": null,
            "right": null,
            "top": null,
            "visibility": null,
            "width": null
          }
        },
        "efd46aeb339b4523966905753a13da61": {
          "model_module": "@jupyter-widgets/controls",
          "model_module_version": "1.5.0",
          "model_name": "HTMLModel",
          "state": {
            "_dom_classes": [],
            "_model_module": "@jupyter-widgets/controls",
            "_model_module_version": "1.5.0",
            "_model_name": "HTMLModel",
            "_view_count": null,
            "_view_module": "@jupyter-widgets/controls",
            "_view_module_version": "1.5.0",
            "_view_name": "HTMLView",
            "description": "",
            "description_tooltip": null,
            "layout": "IPY_MODEL_60231b0358804005b5e51c84438853f5",
            "placeholder": "​",
            "style": "IPY_MODEL_f4dcd214607a452a94a2188bce1d63d8",
            "value": " 334/334 [00:00&lt;00:00, 17864.03 examples/s]"
          }
        },
        "f4dcd214607a452a94a2188bce1d63d8": {
          "model_module": "@jupyter-widgets/controls",
          "model_module_version": "1.5.0",
          "model_name": "DescriptionStyleModel",
          "state": {
            "_model_module": "@jupyter-widgets/controls",
            "_model_module_version": "1.5.0",
            "_model_name": "DescriptionStyleModel",
            "_view_count": null,
            "_view_module": "@jupyter-widgets/base",
            "_view_module_version": "1.2.0",
            "_view_name": "StyleView",
            "description_width": ""
          }
        },
        "f8db4aee050f4e5b862131f6fc13eb9f": {
          "model_module": "@jupyter-widgets/controls",
          "model_module_version": "1.5.0",
          "model_name": "ProgressStyleModel",
          "state": {
            "_model_module": "@jupyter-widgets/controls",
            "_model_module_version": "1.5.0",
            "_model_name": "ProgressStyleModel",
            "_view_count": null,
            "_view_module": "@jupyter-widgets/base",
            "_view_module_version": "1.2.0",
            "_view_name": "StyleView",
            "bar_color": null,
            "description_width": ""
          }
        },
        "f97356b49a564a55be67d4b97eac58f4": {
          "model_module": "@jupyter-widgets/controls",
          "model_module_version": "1.5.0",
          "model_name": "ProgressStyleModel",
          "state": {
            "_model_module": "@jupyter-widgets/controls",
            "_model_module_version": "1.5.0",
            "_model_name": "ProgressStyleModel",
            "_view_count": null,
            "_view_module": "@jupyter-widgets/base",
            "_view_module_version": "1.2.0",
            "_view_name": "StyleView",
            "bar_color": null,
            "description_width": ""
          }
        },
        "fc864baddb8f4f3e9ff982bfb0c7364a": {
          "model_module": "@jupyter-widgets/controls",
          "model_module_version": "1.5.0",
          "model_name": "ProgressStyleModel",
          "state": {
            "_model_module": "@jupyter-widgets/controls",
            "_model_module_version": "1.5.0",
            "_model_name": "ProgressStyleModel",
            "_view_count": null,
            "_view_module": "@jupyter-widgets/base",
            "_view_module_version": "1.2.0",
            "_view_name": "StyleView",
            "bar_color": null,
            "description_width": ""
          }
        },
        "fd490d3ab9fb43eba72063dfa9e2648f": {
          "model_module": "@jupyter-widgets/controls",
          "model_module_version": "1.5.0",
          "model_name": "FloatProgressModel",
          "state": {
            "_dom_classes": [],
            "_model_module": "@jupyter-widgets/controls",
            "_model_module_version": "1.5.0",
            "_model_name": "FloatProgressModel",
            "_view_count": null,
            "_view_module": "@jupyter-widgets/controls",
            "_view_module_version": "1.5.0",
            "_view_name": "ProgressView",
            "bar_style": "success",
            "description": "",
            "description_tooltip": null,
            "layout": "IPY_MODEL_c9f5324cb00048efbd8fbfc5cf31edc2",
            "max": 84,
            "min": 0,
            "orientation": "horizontal",
            "style": "IPY_MODEL_f97356b49a564a55be67d4b97eac58f4",
            "value": 84
          }
        }
      }
    }
  },
  "nbformat": 4,
  "nbformat_minor": 0
}